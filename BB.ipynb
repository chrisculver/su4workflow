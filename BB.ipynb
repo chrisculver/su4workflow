{
 "cells": [
  {
   "cell_type": "code",
   "execution_count": 1,
   "metadata": {},
   "outputs": [],
   "source": [
    "from WickContractions.wick.contract import *\n",
    "from WickContractions.laph.diagram import *\n",
    "\n",
    "from utilities import *\n",
    "\n",
    "from IPython.display import display, Math\n",
    "\n",
    "pprint = lambda o : display(Math(str(o)))"
   ]
  },
  {
   "cell_type": "markdown",
   "metadata": {},
   "source": [
    "## Operators\n",
    "\n",
    "At the moment we are hardcoding in the operators.  We will want to read in a dictionary of spin matrices, as well as isospin flavor combinations."
   ]
  },
  {
   "cell_type": "code",
   "execution_count": 2,
   "metadata": {},
   "outputs": [],
   "source": [
    "# load definition of the building blocks of the operators.\n",
    "from udud_elementals import *\n",
    "\n",
    "annihilate_baryons = Operator([BBsink(1,['u','d','u','d'],['u','d','u','d'],'x0','x1')])\n",
    "\n",
    "create_baryons = Operator([BBsource(1,['d','u','d','u'],['d','u','d','u'],'x0','x1')])"
   ]
  },
  {
   "cell_type": "code",
   "execution_count": 3,
   "metadata": {},
   "outputs": [
    {
     "data": {
      "text/latex": [
       "$\\displaystyle 1\\epsilon_{c_{0} c_{1} c_{2} c_{3}}\\Gamma^{0}_{s_{0} s_{1} s_{2} s_{3}}\\epsilon_{c_{4} c_{5} c_{6} c_{7}}\\Gamma^{1}_{s_{4} s_{5} s_{6} s_{7}}u_{s_{0} c_{0}}(x0, t_f)d_{s_{1} c_{1}}(x0, t_f)u_{s_{2} c_{2}}(x0, t_f)d_{s_{3} c_{3}}(x0, t_f)u_{s_{4} c_{4}}(x1, t_f)d_{s_{5} c_{5}}(x1, t_f)u_{s_{6} c_{6}}(x1, t_f)d_{s_{7} c_{7}}(x1, t_f)$"
      ],
      "text/plain": [
       "<IPython.core.display.Math object>"
      ]
     },
     "metadata": {},
     "output_type": "display_data"
    }
   ],
   "source": [
    "pprint(annihilate_baryons)"
   ]
  },
  {
   "cell_type": "code",
   "execution_count": 4,
   "metadata": {},
   "outputs": [
    {
     "data": {
      "text/latex": [
       "$\\displaystyle 1\\epsilon_{c_{8} c_{9} c_{10} c_{11}}\\Gamma^{2}_{s_{8} s_{9} s_{10} s_{11}}\\epsilon_{c_{12} c_{13} c_{14} c_{15}}\\Gamma^{3}_{s_{12} s_{13} s_{14} s_{15}}\\bar{d}_{s_{8} c_{8}}(x0, t_i)\\bar{u}_{s_{9} c_{9}}(x0, t_i)\\bar{d}_{s_{10} c_{10}}(x0, t_i)\\bar{u}_{s_{11} c_{11}}(x0, t_i)\\bar{d}_{s_{12} c_{12}}(x1, t_i)\\bar{u}_{s_{13} c_{13}}(x1, t_i)\\bar{d}_{s_{14} c_{14}}(x1, t_i)\\bar{u}_{s_{15} c_{15}}(x1, t_i)$"
      ],
      "text/plain": [
       "<IPython.core.display.Math object>"
      ]
     },
     "metadata": {},
     "output_type": "display_data"
    }
   ],
   "source": [
    "pprint(create_baryons)"
   ]
  },
  {
   "cell_type": "markdown",
   "metadata": {},
   "source": [
    "## Wick Contractions\n",
    "\n",
    "Now we run the wick contractions giving us essentially a list of tensor contractions to be performed."
   ]
  },
  {
   "cell_type": "code",
   "execution_count": 5,
   "metadata": {},
   "outputs": [
    {
     "name": "stdout",
     "output_type": "stream",
     "text": [
      "B->B correlator has 576 diagrams\n"
     ]
    }
   ],
   "source": [
    "diagrams = contract(annihilate_baryons, create_baryons).diagrams\n",
    "print(\"B->B correlator has {} diagrams\".format(len(diagrams)))"
   ]
  },
  {
   "cell_type": "code",
   "execution_count": 6,
   "metadata": {},
   "outputs": [],
   "source": [
    "laphDiagrams = [LDiagram(d) for d in diagrams]\n",
    "simplify_laphDiagrams(laphDiagrams)\n",
    "#for d in laphDiagrams:\n",
    "#    pprint(d)"
   ]
  },
  {
   "cell_type": "code",
   "execution_count": 13,
   "metadata": {},
   "outputs": [
    {
     "data": {
      "text/latex": [
       "$\\displaystyle 1.0 B(x1,t_i,\\Gamma^{3})_{{12} {13} {14} {15}}B(x0,t_i,\\Gamma^{2})_{{8} {9} {10} {11}}B^*(x1,t_i,t_f,\\Gamma^{1})_{{13} {12} {9} {10}}B^*(x0,t_i,t_f,\\Gamma^{0})_{{11} {14} {15} {8}}$"
      ],
      "text/plain": [
       "<IPython.core.display.Math object>"
      ]
     },
     "metadata": {},
     "output_type": "display_data"
    }
   ],
   "source": [
    "pprint(laphDiagrams[200])"
   ]
  },
  {
   "cell_type": "code",
   "execution_count": 8,
   "metadata": {},
   "outputs": [],
   "source": [
    "allBaryonTensors = find_all_baryon_tensors(laphDiagrams)\n"
   ]
  },
  {
   "cell_type": "code",
   "execution_count": 9,
   "metadata": {},
   "outputs": [
    {
     "data": {
      "text/plain": [
       "{'B(x1,t_i,\\\\Gamma^{3})': 0,\n",
       " 'B(x0,t_i,\\\\Gamma^{2})': 1,\n",
       " 'B^*(x1,t_i,t_f,\\\\Gamma^{1})': 2,\n",
       " 'B^*(x0,t_i,t_f,\\\\Gamma^{0})': 3}"
      ]
     },
     "execution_count": 9,
     "metadata": {},
     "output_type": "execute_result"
    }
   ],
   "source": [
    "allBaryonTensors"
   ]
  },
  {
   "cell_type": "code",
   "execution_count": 12,
   "metadata": {},
   "outputs": [
    {
     "data": {
      "text/plain": [
       "{'31': [[3, 0], [0, 3]],\n",
       " '30': [[2, 3], [1, 2]],\n",
       " '21': [[3, 2], [2, 1]],\n",
       " '20': [[1, 0], [0, 1]]}"
      ]
     },
     "execution_count": 12,
     "metadata": {},
     "output_type": "execute_result"
    }
   ],
   "source": [
    "diagram_as_graph(laphDiagrams[200],allBaryonTensors)"
   ]
  },
  {
   "cell_type": "code",
   "execution_count": 21,
   "metadata": {},
   "outputs": [
    {
     "data": {
      "text/plain": [
       "{'31': [[3, 0]],\n",
       " '30': [[2, 1], [1, 2], [0, 3]],\n",
       " '21': [[3, 2], [2, 1], [0, 3]],\n",
       " '20': [[1, 0]]}"
      ]
     },
     "execution_count": 21,
     "metadata": {},
     "output_type": "execute_result"
    }
   ],
   "source": [
    "diagram_as_graph(laphDiagrams[500],allBaryonTensors)"
   ]
  },
  {
   "cell_type": "code",
   "execution_count": null,
   "metadata": {},
   "outputs": [],
   "source": []
  }
 ],
 "metadata": {
  "kernelspec": {
   "display_name": "Python 3.9.7 ('LQCD')",
   "language": "python",
   "name": "python3"
  },
  "language_info": {
   "codemirror_mode": {
    "name": "ipython",
    "version": 3
   },
   "file_extension": ".py",
   "mimetype": "text/x-python",
   "name": "python",
   "nbconvert_exporter": "python",
   "pygments_lexer": "ipython3",
   "version": "3.9.7"
  },
  "orig_nbformat": 4,
  "vscode": {
   "interpreter": {
    "hash": "bc10d092fd53d999667fa6c0a0e497da5d6cd5236cea8e58c3ad41d37fd15ec4"
   }
  }
 },
 "nbformat": 4,
 "nbformat_minor": 2
}
