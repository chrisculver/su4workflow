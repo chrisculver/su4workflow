{
 "cells": [
  {
   "cell_type": "code",
   "execution_count": 1,
   "metadata": {},
   "outputs": [],
   "source": [
    "# Avoids reloading kernel while developing\n",
    "%load_ext autoreload\n",
    "%autoreload 2"
   ]
  },
  {
   "cell_type": "code",
   "execution_count": 2,
   "metadata": {},
   "outputs": [],
   "source": [
    "from PyCorrelationMatrixManager.correlation_matrix import *\n",
    "\n",
    "import os\n",
    "import sys\n",
    "\n",
    "#pretty latex printing\n",
    "from IPython.display import display, Math \n",
    "pprint = lambda o : display(Math(str(o)))\n",
    "\n",
    "sys.path.append('..')"
   ]
  },
  {
   "attachments": {},
   "cell_type": "markdown",
   "metadata": {},
   "source": [
    "## Operators\n",
    "\n",
    "Operators for SU(4) baryons are constructed in full by Kimmy Cushman & Aaron Meyer.  For now they are hardcoded into the correct objects for the WickContraction library.  Specifically at the moment the below code sets up a list of \"Elemental Operators\" for uuuu operators, in different irreps, with a gamma matrix name and spatial coordinate.  "
   ]
  },
  {
   "cell_type": "code",
   "execution_count": 3,
   "metadata": {},
   "outputs": [],
   "source": [
    "# load definition of the building blocks of the operators.\n",
    "from src.baryon_elementals import BBsink, BBsource\n",
    "from WickContractions.ops.operator import Operator\n",
    "import numpy as np\n",
    "\n",
    "aOps=[] # annihilation operators\n",
    "cOps=[] # creation operators\n",
    "\n",
    "aOps.append(BBsink({'uuuu': 1},{'uuuu': 1},'[000]','[000]',\"\\\\Gamma^{{A1g0}}\",\"\\\\Gamma^{{A1g0}}\"))\n",
    "cOps.append(BBsource({'uuuu': 1},{'uuuu': 1},'[000]','[000]',\"\\\\Gamma^{{A1g0}}\",\"\\\\Gamma^{{A1g0}}\"))\n",
    "aOps.append(BBsink({'uuuu': 1},{'uuuu': 1},'[100]','[-100]',\"\\\\Gamma^{{A1g0}}\",\"\\\\Gamma^{{A1g0}}\"))\n",
    "cOps.append(BBsource({'uuuu': 1},{'uuuu': 1},'[100]','[-100]',\"\\\\Gamma^{{A1g0}}\",\"\\\\Gamma^{{A1g0}}\"))\n",
    "    \n",
    "    #TODO: multiflavor - something like below?\n",
    "    #aOps.append(Operator([baryonSink([1,-1,+1,0.5],[['d','u','u','u'],['u','d','u','u'],...],'x_0',gammaName(g[0],g[1]))]))"
   ]
  },
  {
   "cell_type": "code",
   "execution_count": 4,
   "metadata": {},
   "outputs": [
    {
     "data": {
      "text/latex": [
       "$\\displaystyle 1\\epsilon_{c_{0} c_{1} c_{2} c_{3}}\\Gamma^{{A1g0}}_{s_{0} s_{1} s_{2} s_{3}}\\epsilon_{c_{4} c_{5} c_{6} c_{7}}\\Gamma^{{A1g0}}_{s_{4} s_{5} s_{6} s_{7}}u_{s_{0} c_{0}}([000], t_f)u_{s_{1} c_{1}}([000], t_f)u_{s_{2} c_{2}}([000], t_f)u_{s_{3} c_{3}}([000], t_f)u_{s_{4} c_{4}}([000], t_f)u_{s_{5} c_{5}}([000], t_f)u_{s_{6} c_{6}}([000], t_f)u_{s_{7} c_{7}}([000], t_f)$"
      ],
      "text/plain": [
       "<IPython.core.display.Math object>"
      ]
     },
     "metadata": {},
     "output_type": "display_data"
    },
    {
     "data": {
      "text/latex": [
       "$\\displaystyle 1\\epsilon_{c_{16} c_{17} c_{18} c_{19}}\\Gamma^{{A1g0}}_{s_{16} s_{17} s_{18} s_{19}}\\epsilon_{c_{20} c_{21} c_{22} c_{23}}\\Gamma^{{A1g0}}_{s_{20} s_{21} s_{22} s_{23}}u_{s_{16} c_{16}}([100], t_f)u_{s_{17} c_{17}}([100], t_f)u_{s_{18} c_{18}}([100], t_f)u_{s_{19} c_{19}}([100], t_f)u_{s_{20} c_{20}}([-100], t_f)u_{s_{21} c_{21}}([-100], t_f)u_{s_{22} c_{22}}([-100], t_f)u_{s_{23} c_{23}}([-100], t_f)$"
      ],
      "text/plain": [
       "<IPython.core.display.Math object>"
      ]
     },
     "metadata": {},
     "output_type": "display_data"
    }
   ],
   "source": [
    "for o in aOps:\n",
    "    pprint(o)"
   ]
  },
  {
   "cell_type": "code",
   "execution_count": 5,
   "metadata": {},
   "outputs": [
    {
     "data": {
      "text/latex": [
       "$\\displaystyle 1\\epsilon_{c_{8} c_{9} c_{10} c_{11}}\\Gamma^{{A1g0}}_{s_{8} s_{9} s_{10} s_{11}}\\epsilon_{c_{12} c_{13} c_{14} c_{15}}\\Gamma^{{A1g0}}_{s_{12} s_{13} s_{14} s_{15}}\\bar{u}_{s_{8} c_{8}}([000], t_i)\\bar{u}_{s_{9} c_{9}}([000], t_i)\\bar{u}_{s_{10} c_{10}}([000], t_i)\\bar{u}_{s_{11} c_{11}}([000], t_i)\\bar{u}_{s_{12} c_{12}}([000], t_i)\\bar{u}_{s_{13} c_{13}}([000], t_i)\\bar{u}_{s_{14} c_{14}}([000], t_i)\\bar{u}_{s_{15} c_{15}}([000], t_i)$"
      ],
      "text/plain": [
       "<IPython.core.display.Math object>"
      ]
     },
     "metadata": {},
     "output_type": "display_data"
    },
    {
     "data": {
      "text/latex": [
       "$\\displaystyle 1\\epsilon_{c_{24} c_{25} c_{26} c_{27}}\\Gamma^{{A1g0}}_{s_{24} s_{25} s_{26} s_{27}}\\epsilon_{c_{28} c_{29} c_{30} c_{31}}\\Gamma^{{A1g0}}_{s_{28} s_{29} s_{30} s_{31}}\\bar{u}_{s_{24} c_{24}}([100], t_i)\\bar{u}_{s_{25} c_{25}}([100], t_i)\\bar{u}_{s_{26} c_{26}}([100], t_i)\\bar{u}_{s_{27} c_{27}}([100], t_i)\\bar{u}_{s_{28} c_{28}}([-100], t_i)\\bar{u}_{s_{29} c_{29}}([-100], t_i)\\bar{u}_{s_{30} c_{30}}([-100], t_i)\\bar{u}_{s_{31} c_{31}}([-100], t_i)$"
      ],
      "text/plain": [
       "<IPython.core.display.Math object>"
      ]
     },
     "metadata": {},
     "output_type": "display_data"
    }
   ],
   "source": [
    "for o in cOps:\n",
    "    pprint(o)"
   ]
  },
  {
   "attachments": {},
   "cell_type": "markdown",
   "metadata": {},
   "source": [
    "## Correlation Matrix Manager\n",
    "\n",
    "We are doing things by hand to use the contraction_optimizer"
   ]
  },
  {
   "cell_type": "code",
   "execution_count": 6,
   "metadata": {},
   "outputs": [],
   "source": [
    "corrMatrix = CorrelationMatrix(\n",
    "    cops=cOps, aops=aOps, \n",
    "    dts=[t for t in range(32)], t0s=[t for t in range(32)], \n",
    "    cfg=335)"
   ]
  },
  {
   "cell_type": "code",
   "execution_count": 7,
   "metadata": {},
   "outputs": [],
   "source": [
    "corrMatrix.contract()\n",
    "corrMatrix.laphify()"
   ]
  },
  {
   "cell_type": "code",
   "execution_count": 12,
   "metadata": {},
   "outputs": [
    {
     "name": "stdout",
     "output_type": "stream",
     "text": [
      "-1.0 B([000],t_i,\\Gamma^{{A1g0}})_{{8} {9} {10} {11}}B^*([000],t_i,t_f,\\Gamma^{{A1g0}})_{{12} {13} {14} {15}}B([000],t_i,\\Gamma^{{A1g0}})_{{12} {13} {14} {15}}B^*([000],t_i,t_f,\\Gamma^{{A1g0}})_{{11} {8} {9} {10}}\n",
      "{'B^*([000],t_i,t_f,\\\\Gamma^{{A1g0}})|B([000],t_i,\\\\Gamma^{{A1g0}})': [[3, 2], [2, 1], [1, 0], [0, 3]], 'B([000],t_i,\\\\Gamma^{{A1g0}})|B^*([000],t_i,t_f,\\\\Gamma^{{A1g0}})': [[3, 3], [2, 2], [1, 1], [0, 0]]}\n",
      "1.0 B([000],t_i,\\Gamma^{{A1g0}})_{{8} {9} {10} {11}}B^*([000],t_i,t_f,\\Gamma^{{A1g0}})_{{8} {13} {14} {15}}B([000],t_i,\\Gamma^{{A1g0}})_{{12} {13} {14} {15}}B^*([000],t_i,t_f,\\Gamma^{{A1g0}})_{{11} {12} {9} {10}}\n",
      "{'B^*([000],t_i,t_f,\\\\Gamma^{{A1g0}})|B([000],t_i,\\\\Gamma^{{A1g0}})': [[3, 2], [2, 1], [1, 0], [0, 3], [0, 0]], 'B([000],t_i,\\\\Gamma^{{A1g0}})|B^*([000],t_i,t_f,\\\\Gamma^{{A1g0}})': [[3, 3], [2, 2], [1, 1]]}\n"
     ]
    }
   ],
   "source": [
    "for d in corrMatrix.get_all_diagrams()[23:25]:\n",
    "    print(d)\n",
    "    print(d.as_graph())"
   ]
  },
  {
   "cell_type": "code",
   "execution_count": null,
   "metadata": {},
   "outputs": [],
   "source": []
  }
 ],
 "metadata": {
  "kernelspec": {
   "display_name": "Python 3.10.6 ('LQCD')",
   "language": "python",
   "name": "python3"
  },
  "language_info": {
   "codemirror_mode": {
    "name": "ipython",
    "version": 3
   },
   "file_extension": ".py",
   "mimetype": "text/x-python",
   "name": "python",
   "nbconvert_exporter": "python",
   "pygments_lexer": "ipython3",
   "version": "3.10.12"
  },
  "orig_nbformat": 4,
  "vscode": {
   "interpreter": {
    "hash": "c8d68fb5c21a4214dd5a6a13117f82199c640d7d02a884ddca486aa724deaf3c"
   }
  }
 },
 "nbformat": 4,
 "nbformat_minor": 2
}
