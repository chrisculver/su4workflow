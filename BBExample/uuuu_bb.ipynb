{
 "cells": [
  {
   "cell_type": "code",
   "execution_count": 1,
   "metadata": {},
   "outputs": [],
   "source": [
    "# Avoids reloading kernel while developing\n",
    "%load_ext autoreload\n",
    "%autoreload 2"
   ]
  },
  {
   "cell_type": "code",
   "execution_count": 2,
   "metadata": {},
   "outputs": [],
   "source": [
    "from PyCorrelationMatrixManager.correlation_matrix import *\n",
    "\n",
    "import os\n",
    "import sys\n",
    "import copy\n",
    "\n",
    "#pretty latex printing\n",
    "from IPython.display import display, Math \n",
    "pprint = lambda o : display(Math(str(o)))\n",
    "\n",
    "sys.path.append('..')\n",
    "sys.path.append(os.path.join(os.path.expanduser('~'), \"Code\", \"LQCD\", \"contraction_optimizer_pymodule\"))\n",
    "\n",
    "import ContractionOptimizerCPP as CO"
   ]
  },
  {
   "attachments": {},
   "cell_type": "markdown",
   "metadata": {},
   "source": [
    "## Operators\n",
    "\n",
    "Operators for SU(4) baryons are constructed in full by Kimmy Cushman & Aaron Meyer.  For now they are hardcoded into the correct objects for the WickContraction library.  Specifically at the moment the below code sets up a list of \"Elemental Operators\" for uuuu operators, in different irreps, with a gamma matrix name and spatial coordinate.  "
   ]
  },
  {
   "cell_type": "code",
   "execution_count": 3,
   "metadata": {},
   "outputs": [],
   "source": [
    "# load definition of the building blocks of the operators.\n",
    "from src.baryon_elementals import BBsink, BBsource\n",
    "from WickContractions.ops.operator import Operator\n",
    "import numpy as np\n",
    "\n",
    "aOps=[] # annihilation operators\n",
    "cOps=[] # creation operators\n",
    "\n",
    "aOps.append(BBsink({'uuuu': 1},{'uuuu': 1},'[000]','[000]',\"\\\\Gamma^{{A1g0}}\",\"\\\\Gamma^{{A1g0}}\"))\n",
    "cOps.append(BBsource({'uuuu': 1},{'uuuu': 1},'[000]','[000]',\"\\\\Gamma^{{A1g0}}\",\"\\\\Gamma^{{A1g0}}\"))\n",
    "#aOps.append(BBsink({'uuuu': 1},{'uuuu': 1},'[100]','[-100]',\"\\\\Gamma^{{A1g0}}\",\"\\\\Gamma^{{A1g0}}\"))\n",
    "#cOps.append(BBsource({'uuuu': 1},{'uuuu': 1},'[100]','[-100]',\"\\\\Gamma^{{A1g0}}\",\"\\\\Gamma^{{A1g0}}\"))\n",
    "    \n",
    "    #TODO: multiflavor - something like below?\n",
    "    #aOps.append(Operator([baryonSink([1,-1,+1,0.5],[['d','u','u','u'],['u','d','u','u'],...],'x_0',gammaName(g[0],g[1]))]))"
   ]
  },
  {
   "cell_type": "code",
   "execution_count": 4,
   "metadata": {},
   "outputs": [
    {
     "data": {
      "text/latex": [
       "$\\displaystyle 1\\epsilon_{c_{0} c_{1} c_{2} c_{3}}\\Gamma^{{A1g0}}_{s_{0} s_{1} s_{2} s_{3}}\\epsilon_{c_{4} c_{5} c_{6} c_{7}}\\Gamma^{{A1g0}}_{s_{4} s_{5} s_{6} s_{7}}u_{s_{0} c_{0}}([000], t_f)u_{s_{1} c_{1}}([000], t_f)u_{s_{2} c_{2}}([000], t_f)u_{s_{3} c_{3}}([000], t_f)u_{s_{4} c_{4}}([000], t_f)u_{s_{5} c_{5}}([000], t_f)u_{s_{6} c_{6}}([000], t_f)u_{s_{7} c_{7}}([000], t_f)$"
      ],
      "text/plain": [
       "<IPython.core.display.Math object>"
      ]
     },
     "metadata": {},
     "output_type": "display_data"
    }
   ],
   "source": [
    "for o in aOps:\n",
    "    pprint(o)"
   ]
  },
  {
   "cell_type": "code",
   "execution_count": 5,
   "metadata": {},
   "outputs": [
    {
     "data": {
      "text/latex": [
       "$\\displaystyle 1\\epsilon_{c_{8} c_{9} c_{10} c_{11}}\\Gamma^{{A1g0}}_{s_{8} s_{9} s_{10} s_{11}}\\epsilon_{c_{12} c_{13} c_{14} c_{15}}\\Gamma^{{A1g0}}_{s_{12} s_{13} s_{14} s_{15}}\\bar{u}_{s_{8} c_{8}}([000], t_i)\\bar{u}_{s_{9} c_{9}}([000], t_i)\\bar{u}_{s_{10} c_{10}}([000], t_i)\\bar{u}_{s_{11} c_{11}}([000], t_i)\\bar{u}_{s_{12} c_{12}}([000], t_i)\\bar{u}_{s_{13} c_{13}}([000], t_i)\\bar{u}_{s_{14} c_{14}}([000], t_i)\\bar{u}_{s_{15} c_{15}}([000], t_i)$"
      ],
      "text/plain": [
       "<IPython.core.display.Math object>"
      ]
     },
     "metadata": {},
     "output_type": "display_data"
    }
   ],
   "source": [
    "for o in cOps:\n",
    "    pprint(o)"
   ]
  },
  {
   "attachments": {},
   "cell_type": "markdown",
   "metadata": {},
   "source": [
    "## Correlation Matrix Manager\n",
    "\n",
    "We are doing things by hand to use the contraction_optimizer"
   ]
  },
  {
   "cell_type": "code",
   "execution_count": 6,
   "metadata": {},
   "outputs": [],
   "source": [
    "corrMatrix = CorrelationMatrix(\n",
    "    cops=cOps, aops=aOps, \n",
    "    dts=[t for t in range(32)], t0s=[t for t in range(32)], \n",
    "    cfg=335)"
   ]
  },
  {
   "cell_type": "code",
   "execution_count": 7,
   "metadata": {},
   "outputs": [],
   "source": [
    "corrMatrix.contract()\n",
    "corrMatrix.laphify()"
   ]
  },
  {
   "cell_type": "code",
   "execution_count": 49,
   "metadata": {},
   "outputs": [
    {
     "name": "stdout",
     "output_type": "stream",
     "text": [
      "0    B([000],t_i,\\Gamma^{{A1g0}})\n",
      "1    B([000],t_i,\\Gamma^{{A1g0}})\n",
      "2    B^*([000],t_i,t_f,\\Gamma^{{A1g0}})\n",
      "3    B^*([000],t_i,t_f,\\Gamma^{{A1g0}})\n",
      "{'3|1': [[3, 3], [2, 2], [1, 1], [0, 0]], '2|0': [[3, 3], [2, 2], [1, 1], [0, 0]]}\n"
     ]
    }
   ],
   "source": [
    "t,ctst=corrMatrix.correlators[0].diagrams[0].as_graph()\n",
    "for i in t:\n",
    "    print(i, \"  \", t[i])\n",
    "print(ctst)"
   ]
  },
  {
   "cell_type": "code",
   "execution_count": 50,
   "metadata": {},
   "outputs": [],
   "source": [
    "def contraction_as_COgraph(contractions):\n",
    "    data=[]\n",
    "    for cname, cindices in contractions.items():\n",
    "        [l,r] = cname.split('|')\n",
    "        data.append(( (int(l),int(r)), set(tuple(t) for t in cindices) ))\n",
    "\n",
    "    return CO.Graph(data)"
   ]
  },
  {
   "cell_type": "code",
   "execution_count": 51,
   "metadata": {},
   "outputs": [
    {
     "data": {
      "text/plain": [
       "{(0, 2): {(0, 0), (1, 1), (2, 2), (3, 3)},\n",
       " (1, 3): {(0, 0), (1, 1), (2, 2), (3, 3)}}"
      ]
     },
     "execution_count": 51,
     "metadata": {},
     "output_type": "execute_result"
    }
   ],
   "source": [
    "contraction_as_COgraph(ctst).getContractionList()"
   ]
  },
  {
   "cell_type": "code",
   "execution_count": 52,
   "metadata": {},
   "outputs": [
    {
     "data": {
      "text/plain": [
       "40320"
      ]
     },
     "execution_count": 52,
     "metadata": {},
     "output_type": "execute_result"
    }
   ],
   "source": [
    "len(corrMatrix.get_all_diagrams())"
   ]
  },
  {
   "cell_type": "code",
   "execution_count": 53,
   "metadata": {},
   "outputs": [],
   "source": [
    "global_tensors={}\n",
    "global_tidx=0   \n",
    "all_diagrams=[]\n",
    "duplicate_tensors_fix=[]\n",
    "\n",
    "# for the temporary fix, we have to through all the diagrams twice\n",
    "# first we have to get the global tensors list\n",
    "for i,d in enumerate(corrMatrix.get_all_diagrams()):\n",
    "    tensors, contractions = d.as_graph()\n",
    "    \n",
    "    for t in tensors.values():\n",
    "        if t not in global_tensors:\n",
    "            global_tensors[t]=global_tidx\n",
    "            global_tidx+=1\n",
    "\n",
    "for tensor in global_tensors.copy().keys():\n",
    "    global_tensors[tensor+\"-B\"]=global_tidx\n",
    "    global_tidx+=1\n",
    "\n",
    "for i,d in enumerate(corrMatrix.get_all_diagrams()):\n",
    "    tensors, contractions = d.as_graph()\n",
    "\n",
    "    cograph = contraction_as_COgraph(contractions)\n",
    "\n",
    "    gtensors=[]\n",
    "    duplicate_tensors_fix.append({})\n",
    "    for t in tensors.values():\n",
    "        if global_tensors[t] in gtensors:\n",
    "            gtensors.append(global_tensors[t+\"-B\"])\n",
    "        else:\n",
    "            gtensors.append(global_tensors[t])\n",
    "\n",
    "    #print(gtensors)\n",
    "    all_diagrams.append(CO.Diagram(cograph,gtensors))\n",
    "    "
   ]
  },
  {
   "cell_type": "code",
   "execution_count": null,
   "metadata": {},
   "outputs": [],
   "source": []
  },
  {
   "cell_type": "code",
   "execution_count": null,
   "metadata": {},
   "outputs": [],
   "source": []
  },
  {
   "cell_type": "code",
   "execution_count": 54,
   "metadata": {},
   "outputs": [],
   "source": [
    "CO.ContractionCost.setDilutionRange(16)\n",
    "optimizer = CO.ContractionOptimizer(all_diagrams)\n",
    "optimizer.tune()"
   ]
  },
  {
   "cell_type": "code",
   "execution_count": 55,
   "metadata": {},
   "outputs": [
    {
     "data": {
      "text/plain": [
       "39792"
      ]
     },
     "execution_count": 55,
     "metadata": {},
     "output_type": "execute_result"
    }
   ],
   "source": [
    "len(optimizer.getCompStepList())"
   ]
  },
  {
   "cell_type": "code",
   "execution_count": 56,
   "metadata": {},
   "outputs": [
    {
     "data": {
      "text/plain": [
       "{'B([000],t_i,\\\\Gamma^{{A1g0}})': 0,\n",
       " 'B^*([000],t_i,t_f,\\\\Gamma^{{A1g0}})': 1,\n",
       " 'B([000],t_i,\\\\Gamma^{{A1g0}})-B': 2,\n",
       " 'B^*([000],t_i,t_f,\\\\Gamma^{{A1g0}})-B': 3}"
      ]
     },
     "execution_count": 56,
     "metadata": {},
     "output_type": "execute_result"
    }
   ],
   "source": [
    "global_tensors"
   ]
  },
  {
   "cell_type": "code",
   "execution_count": 57,
   "metadata": {},
   "outputs": [
    {
     "data": {
      "text/plain": [
       "{0: 'B([000],t_i,\\\\Gamma^{{A1g0}})',\n",
       " 1: 'B^*([000],t_i,t_f,\\\\Gamma^{{A1g0}})',\n",
       " 2: 'B([000],t_i,\\\\Gamma^{{A1g0}})-B',\n",
       " 3: 'B^*([000],t_i,t_f,\\\\Gamma^{{A1g0}})-B'}"
      ]
     },
     "execution_count": 57,
     "metadata": {},
     "output_type": "execute_result"
    }
   ],
   "source": [
    "global_tensors_inv = {v: k for k,v in global_tensors.items()}\n",
    "global_tensors_inv"
   ]
  },
  {
   "cell_type": "code",
   "execution_count": 62,
   "metadata": {},
   "outputs": [
    {
     "name": "stdout",
     "output_type": "stream",
     "text": [
      "Contractions | GlobalTensor | ResultTensorIdx\n",
      "{(1, 1), (3, 3), (2, 2), (0, 0)} |  (0, 1)  |   4  \n",
      "{(1, 1), (3, 3), (2, 2), (0, 0)} |  (2, 3)  |   5  \n",
      "{(0, 1), (1, 0), (3, 3), (2, 2)} |  (2, 3)  |   6  \n",
      "{(1, 0), (0, 2), (3, 3), (2, 1)} |  (2, 3)  |   7  \n",
      "{(3, 3), (1, 2), (2, 1), (0, 0)} |  (2, 3)  |   8  \n",
      "{(0, 1), (1, 2), (2, 0), (3, 3)} |  (2, 3)  |   9  \n",
      "{(1, 1), (0, 2), (3, 3), (2, 0)} |  (2, 3)  |  10  \n",
      "{(1, 1), (0, 3), (2, 0), (3, 2)} |  (2, 3)  |  11  \n",
      "{(0, 1), (3, 2), (1, 3), (2, 0)} |  (2, 3)  |  12  \n",
      "{(3, 2), (1, 3), (2, 1), (0, 0)} |  (2, 3)  |  13  \n"
     ]
    }
   ],
   "source": [
    "print(\"Contractions | GlobalTensor | ResultTensorIdx\")\n",
    "for c in optimizer.getCompStepList()[0:10]:\n",
    "    #gt0=c[1][0]\n",
    "    #gt1=c[1][1]\n",
    "    #t0name=global_tensors_inv[gt0]\n",
    "    #if t0name[-2:]==\"-B\":\n",
    "    #    gt0=global_tensors[t0name[:-2]]\n",
    "    #t1name=global_tensors_inv[gt1]\n",
    "    #if t1name[-2:]==\"-B\":\n",
    "    #    gt1=global_tensors[t1name[:-2]]\n",
    "    \n",
    "    print(\"{:<30} | {:^8} | {:^5}\".format(str(CO.Graph.decodeElement(c[0])), str(c[1]), str(c[2])))"
   ]
  },
  {
   "cell_type": "code",
   "execution_count": 16,
   "metadata": {},
   "outputs": [
    {
     "name": "stdout",
     "output_type": "stream",
     "text": [
      "[4, 5]\n",
      "[5, 6]\n",
      "[5, 7]\n",
      "[5, 8]\n",
      "[5, 9]\n",
      "[5, 10]\n",
      "[5, 11]\n",
      "[5, 12]\n",
      "[5, 13]\n",
      "[5, 14]\n"
     ]
    }
   ],
   "source": [
    "for d in optimizer.getDiagramList()[0:10]:\n",
    "    print(d.getResultIdList())"
   ]
  },
  {
   "cell_type": "code",
   "execution_count": null,
   "metadata": {},
   "outputs": [],
   "source": []
  }
 ],
 "metadata": {
  "kernelspec": {
   "display_name": "Python 3.10.6 ('LQCD')",
   "language": "python",
   "name": "python3"
  },
  "language_info": {
   "codemirror_mode": {
    "name": "ipython",
    "version": 3
   },
   "file_extension": ".py",
   "mimetype": "text/x-python",
   "name": "python",
   "nbconvert_exporter": "python",
   "pygments_lexer": "ipython3",
   "version": "3.9.17"
  },
  "orig_nbformat": 4,
  "vscode": {
   "interpreter": {
    "hash": "c8d68fb5c21a4214dd5a6a13117f82199c640d7d02a884ddca486aa724deaf3c"
   }
  }
 },
 "nbformat": 4,
 "nbformat_minor": 2
}
