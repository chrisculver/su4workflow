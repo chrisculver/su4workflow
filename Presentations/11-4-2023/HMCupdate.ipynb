{
 "cells": [
  {
   "attachments": {},
   "cell_type": "markdown",
   "metadata": {},
   "source": [
    "## Chiral Trajectory Estimate\n",
    "\n",
    "$m_{\\pi}=c\\sqrt{\\kappa-\\kappa_c}$\n",
    "\n",
    "$m_{\\rho}=c(\\kappa-\\kappa^*)$\n",
    "\n",
    "* 5MDTU between config, no autocorrelations\n",
    "* Stars are fits to 200 configs\n",
    "* Circle points are average effective masses at $t=20$\n",
    "\n",
    "![](Plots/mass_trajectory_beta10p5.svg)\n",
    "\n",
    "* Only fit to first 3 starred points \n",
    "* Largest kappa still generating\n",
    "\n",
    "![](Plots/mass_trajectory_beta11p0.svg)"
   ]
  },
  {
   "cell_type": "code",
   "execution_count": null,
   "metadata": {},
   "outputs": [],
   "source": []
  }
 ],
 "metadata": {
  "kernelspec": {
   "display_name": "LQCD",
   "language": "python",
   "name": "python3"
  },
  "language_info": {
   "codemirror_mode": {
    "name": "ipython",
    "version": 3
   },
   "file_extension": ".py",
   "mimetype": "text/x-python",
   "name": "python",
   "nbconvert_exporter": "python",
   "pygments_lexer": "ipython3",
   "version": "3.10.6"
  },
  "orig_nbformat": 4
 },
 "nbformat": 4,
 "nbformat_minor": 2
}
