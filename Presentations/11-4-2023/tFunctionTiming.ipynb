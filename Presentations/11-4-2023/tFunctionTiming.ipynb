{
 "cells": [
  {
   "attachments": {},
   "cell_type": "markdown",
   "metadata": {},
   "source": [
    "# T Function\n",
    "\n",
    "\\begin{equation}\n",
    "T(p,t)_{l_0l_1l_2l_3}=\\sum_{x_1}e^{-i p x}\\epsilon_{c_0c_1c_2c_3}V(t)_{c_0x,l_0}V(t)_{c_1x,l_1}V(t)_{c_2x,l_2}V(t)_{c_3x,l_3}\n",
    "\\end{equation}"
   ]
  },
  {
   "attachments": {},
   "cell_type": "markdown",
   "metadata": {},
   "source": [
    "\\begin{align}\n",
    "T_{ijkl}&=\\epsilon_{abcd}V_{ai}V_{bj}V_{ck}V_{dl}\\\\\n",
    "        &=\\epsilon_{0123}V_{0i}V_{1j}V_{2k}V_{3l}\n",
    "         +\\epsilon_{0132}V_{0i}V_{1j}V_{3k}V_{2l}+\\cdots\\\\\n",
    "        &=V_{0i}V_{1j}V_{2k}V_{3l}-V_{0i}V_{1j}V_{3k}V_{2l}+\\cdots\\\\\n",
    "T_{ijkk}&=V_{0i}V_{1j}(V_{2k}V_{3k}-V_{3k}V_{2k})\\\\\n",
    "        &=0\n",
    "\\end{align}\n",
    "\n",
    "\n",
    "If $\\epsilon=0$, don't compute any elements of T.  $N_c^4$ terms $\\rightarrow$ $N_c!$ terms\n",
    "\n",
    "T is also antisymmetric in eigenvector indices.  $N_v^4$ terms $\\rightarrow N_v!/(N_v-4)!$\n"
   ]
  },
  {
   "attachments": {},
   "cell_type": "markdown",
   "metadata": {},
   "source": [
    "## GPU Code\n",
    "\n",
    "GPU code has following steps\n",
    "1. Copy evec data onto gpu - as spatial vector\n",
    "2. For loop over color, only compute for non-zero epsilon\n",
    "    For loop over evec   \n",
    "        GPU kernel to multiply evecs and reduce to scalar"
   ]
  },
  {
   "attachments": {},
   "cell_type": "markdown",
   "metadata": {},
   "source": [
    "## L=32 Baryon Correlators\n",
    "\n",
    "Speedups to-do \n",
    "1.  Better reduction in T (reduce kernel time)\n",
    "2.  Contract B and $\\tau$ on GPU\n",
    "3.  Faster diagram contractions (once sensible results appear)\n",
    "\n",
    "### Timing Info\n",
    "\n",
    "* Times measured in milliseconds\n",
    "* Nvec=8 hit time limit on debug node\n",
    "* Scaling of T compared with $N_v=4$\n",
    "\n",
    "| Nvec | Compute T | Scaling T | Compute B | Compute Bprop | Evaluate Diagrams | \n",
    "|------|-----------|-----------|-----------|---------------|-------------------|\n",
    "| 4 | 3.4*10^4 | 1 | 121 | 1.8*10^4 | 2.1*10^4 |\n",
    "| 8 | 2.1*10^5 | 15 | 1834 | 4.3*10^5 | 7.3*10^4 | \n",
    "| 16 | 5.4*10^6 | 70 | 1.1*10^5 | ... | ... |\n",
    "| 8(OLD) | 6.8*10^6 | . | . | . | . |\n",
    "\n",
    "### Correlator values\n",
    "\n",
    "| t | Nvec=4 | Nvec=8 | \n",
    "|---|--------|--------| \n",
    "| 0 | 1.194E-07+1.942E-24j | 1.463E-05+2.440E-22j |\n",
    "| 1 | -1.947E-10+1.527E-10j | 1.923E-09-1.585E-08j | \n",
    "| 2 | -5.288E-11+1.327E-10j | -3.453E-09-4.059E-09j | \n",
    "| 15 | 3.906E-16-2.393E-15j | 3.612E-14+2.679E-13j |"
   ]
  },
  {
   "cell_type": "code",
   "execution_count": 5,
   "metadata": {},
   "outputs": [
    {
     "name": "stdout",
     "output_type": "stream",
     "text": [
      "1.0\n",
      "15.0\n",
      "70.0\n"
     ]
    }
   ],
   "source": [
    "import math\n",
    "\n",
    "#nonzero-elements of T in eigenvector space.\n",
    "def Tevec_elements(nvec):\n",
    "    return math.factorial(nvec)/math.factorial(nvec-4)\n",
    "\n",
    "for nvec in [4,6,8]:\n",
    "    print(Tevec_elements(nvec)/Tevec_elements(4))"
   ]
  },
  {
   "cell_type": "code",
   "execution_count": null,
   "metadata": {},
   "outputs": [],
   "source": []
  }
 ],
 "metadata": {
  "kernelspec": {
   "display_name": "LQCD",
   "language": "python",
   "name": "python3"
  },
  "language_info": {
   "codemirror_mode": {
    "name": "ipython",
    "version": 3
   },
   "file_extension": ".py",
   "mimetype": "text/x-python",
   "name": "python",
   "nbconvert_exporter": "python",
   "pygments_lexer": "ipython3",
   "version": "3.9.12"
  },
  "orig_nbformat": 4,
  "vscode": {
   "interpreter": {
    "hash": "c8d68fb5c21a4214dd5a6a13117f82199c640d7d02a884ddca486aa724deaf3c"
   }
  }
 },
 "nbformat": 4,
 "nbformat_minor": 2
}
