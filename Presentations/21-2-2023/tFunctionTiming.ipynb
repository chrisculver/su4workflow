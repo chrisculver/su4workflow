{
 "cells": [
  {
   "attachments": {},
   "cell_type": "markdown",
   "metadata": {},
   "source": [
    "# T Function\n",
    "\n",
    "\\begin{equation}\n",
    "T(p,t)_{l_0l_1l_2l_3}=\\sum_{x_1}e^{-i p x}\\epsilon_{c_0c_1c_2c_3}V(t)_{c_0x,l_0}V(t)_{c_1x,l_1}V(t)_{c_2x,l_2}V(t)_{c_3x,l_3}\n",
    "\\end{equation}"
   ]
  },
  {
   "attachments": {},
   "cell_type": "markdown",
   "metadata": {},
   "source": [
    "\\begin{align}\n",
    "T_{ijkl}&=\\epsilon_{abcd}V_{ai}V_{bj}V_{ck}V_{dl}\\\\\n",
    "        &=\\epsilon_{0123}V_{0i}V_{1j}V_{2k}V_{3l}\n",
    "         +\\epsilon_{0132}V_{0i}V_{1j}V_{3k}V_{2l}+\\cdots\\\\\n",
    "        &=V_{0i}V_{1j}V_{2k}V_{3l}-V_{0i}V_{1j}V_{3k}V_{2l}+\\cdots\\\\\n",
    "T_{ijkk}&=V_{0i}V_{1j}(V_{2k}V_{3k}-V_{3k}V_{2k})\\\\\n",
    "        &=0\n",
    "\\end{align}\n",
    "\n",
    "\n",
    "If $\\epsilon=0$, don't compute any elements of T.  $N_c^4$ terms $\\rightarrow$ $N_c!$ terms\n",
    "\n",
    "If any indices of T are the same, don't compute the element of T.  $N_v^4$ terms $\\rightarrow$ some other combinatorial amount of terms.  Maybe $N_v$ choose 4.\n"
   ]
  },
  {
   "cell_type": "code",
   "execution_count": 1,
   "metadata": {},
   "outputs": [],
   "source": [
    "from math import comb"
   ]
  },
  {
   "cell_type": "code",
   "execution_count": 5,
   "metadata": {},
   "outputs": [
    {
     "data": {
      "text/plain": [
       "4845"
      ]
     },
     "execution_count": 5,
     "metadata": {},
     "output_type": "execute_result"
    }
   ],
   "source": [
    "comb(20,4)"
   ]
  },
  {
   "cell_type": "code",
   "execution_count": null,
   "metadata": {},
   "outputs": [],
   "source": []
  },
  {
   "attachments": {},
   "cell_type": "markdown",
   "metadata": {},
   "source": [
    "### Timing\n",
    "\n",
    "Parallelized on CPU's, parallelzing loop over l3, not the loop over spatial sites\n",
    "All times, zero-momentum\n",
    "\n",
    "#### L=4, T=8, NVEC=8\n",
    "\n",
    "\n",
    "| Threads   | Time(ms)  | Speedup |\n",
    "|-----------|-----------|---------|\n",
    "| 1         | 19242     |  -\n",
    "| 2         | 10734     | 1.79\n",
    "| 4         | 5450      | 3.53\n",
    "| 8         | 3237      | 5.94\n",
    "\n",
    "\n",
    "#### L=16, T=32\n",
    "\n",
    "| NVEC  | Threads   | Time(hrs) | Expected Scaling   | Actual Scaling |\n",
    "|-------|-----------|-----------|-----------         |------|\n",
    "| 4     |  4        | 0.056     | -   | - |\n",
    "| 8     |  8        | 0.96      | 2^3 | 17 |  \n",
    "\n",
    "* Did receive warning for 8 thread calculation using too many PUs\n",
    "* QDP says 8 threads, omp_get_num_threads says 1\n",
    "* jsrun command could be suboptimal"
   ]
  },
  {
   "attachments": {},
   "cell_type": "markdown",
   "metadata": {},
   "source": [
    "## GPU Code\n",
    "\n",
    "Parallelized spatial sum.  Code will now scale as $N_v^4$\n",
    "\n",
    "| NX | Nv | Time(minutes) |\n",
    "|----|----|-----------|\n",
    "| 16 | 4  | 1.0 |\n",
    "| 32 | 4  | 5.4 |\n",
    "\n",
    "Still way to long to do large $N_v$!  \n",
    "\n",
    "\n",
    "\n",
    "GPU code has following steps\n",
    "1. For loop over color, only compute for non-zero epsilon\n",
    "2. For loop over evec\n",
    "    1. Copy evec data onto gpu - as spatial vector\n",
    "    2. GPU kernel to multiply evecs and reduce to scalar\n",
    "\n",
    "| Kernel Part | Time(microseconds) |\n",
    "|-------------|--------------------|\n",
    "| Setup/Data transfer | 120 |\n",
    "| Multiply & Reduce | 30 |\n",
    "\n",
    "\n",
    "### Speedup (To do)\n",
    "\n",
    "1. Copy all data at start - index with stride - reduce setup time\n",
    "2. Better reduction over resultant vector can be done\n"
   ]
  },
  {
   "attachments": {},
   "cell_type": "markdown",
   "metadata": {},
   "source": [
    "## L=32 Baryon Correlators\n",
    "\n",
    "### Timing Info\n",
    "\n",
    "* Times measured in milliseconds\n",
    "* Nvec=8 hit time limit on debug node\n",
    "\n",
    "| Nvec | Compute T | Compute B | Compute Bprop | Evaluate Diagrams | \n",
    "|------|-----------|-----------|---------------|-------------------|\n",
    "| 4 | 1.8*10^5 | 228 | 7.3*10^4 | 3.6*10^5 | \n",
    "| 6 | 1.5*10^6 | 1104 | 4.3*10^5 | 6.9*10^5 |\n",
    "| 8 | 6.8*10^6 | 3696 | ... | ... |\n",
    "\n",
    "\n",
    "\n",
    "### Numerical Values\n",
    "\n",
    "| Nvec | t | C(t) |\n",
    "|------|---|------|\n",
    "| 4 | 0 | 6.88748194e-10-4.43434764e-14j | \n",
    "| 6 | 0 | 2.28479330e-09-1.70586292e-12j | \n",
    "|-|-|-|\n",
    "| 4 | 1 | -1.35823441e-22-4.98618281e-22j |\n",
    "| 6 | 1 | -1.49544234e-21-1.45096305e-22j |\n",
    "|-|-|-|\n",
    "| 4 | 2 | 5.01071221e-23-3.52351481e-23j |\n",
    "| 6 | 2 |  -1.38497310e-23+5.44879980e-23j |"
   ]
  },
  {
   "cell_type": "markdown",
   "metadata": {},
   "source": []
  },
  {
   "cell_type": "code",
   "execution_count": 8,
   "metadata": {},
   "outputs": [],
   "source": [
    "import math"
   ]
  },
  {
   "cell_type": "code",
   "execution_count": 14,
   "metadata": {},
   "outputs": [
    {
     "name": "stdout",
     "output_type": "stream",
     "text": [
      "24.0\n",
      "360.0\n",
      "1680.0\n"
     ]
    }
   ],
   "source": [
    "for nvec in [4,6,8]:\n",
    "    print(math.factorial(nvec)/(math.factorial(nvec-4)))"
   ]
  },
  {
   "cell_type": "code",
   "execution_count": 11,
   "metadata": {},
   "outputs": [
    {
     "data": {
      "text/plain": [
       "256"
      ]
     },
     "execution_count": 11,
     "metadata": {},
     "output_type": "execute_result"
    }
   ],
   "source": [
    "4**4"
   ]
  },
  {
   "cell_type": "code",
   "execution_count": null,
   "metadata": {},
   "outputs": [],
   "source": []
  }
 ],
 "metadata": {
  "kernelspec": {
   "display_name": "LQCD",
   "language": "python",
   "name": "python3"
  },
  "language_info": {
   "codemirror_mode": {
    "name": "ipython",
    "version": 3
   },
   "file_extension": ".py",
   "mimetype": "text/x-python",
   "name": "python",
   "nbconvert_exporter": "python",
   "pygments_lexer": "ipython3",
   "version": "3.10.6"
  },
  "orig_nbformat": 4,
  "vscode": {
   "interpreter": {
    "hash": "c8d68fb5c21a4214dd5a6a13117f82199c640d7d02a884ddca486aa724deaf3c"
   }
  }
 },
 "nbformat": 4,
 "nbformat_minor": 2
}
