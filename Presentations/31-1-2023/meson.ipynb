{
 "cells": [
  {
   "attachments": {},
   "cell_type": "markdown",
   "metadata": {},
   "source": [
    "## Multi-Meson Correlators\n",
    "\n",
    "* Have meson code running on **Lassen**\n",
    "\n",
    "* Can do multi-meson correlators for single-site mesons (no displacements)\n",
    "\n",
    "* Can do correlation matrices\n",
    "\n",
    "* Preliminary results on $16^3\\times32$ \n",
    "\n",
    "* Single correlation functions, 1 source time\n",
    "\n",
    "<br />\n",
    "<br />"
   ]
  },
  {
   "attachments": {},
   "cell_type": "markdown",
   "metadata": {},
   "source": [
    "# $\\pi \\& \\rho$\n",
    "\n",
    "* Forgot about **Chroma** $\\gamma$ numbering convention...\n",
    "\n",
    "## $\\kappa=0.1475$\n",
    "\n",
    "| ![](Plots/pi_rho_nvec16_kappa0p1475.svg) | ![missing image](Plots/pi_rho_nvec32_kappa0p1475.svg) |\n",
    "|-|-|\n",
    "| ![missing image](Plots/pi_rho_nvec64_kappa0p1475.svg) | ![missing image](Plots/pi_rho_nvec128_kappa0p1475.svg) |\n",
    "\n",
    "## $\\kappa=0.1480$\n",
    "| ![missing image](Plots/pi_rho_nvec16_kappa0p1480.svg) | ![missing image](Plots/pi_rho_nvec32_kappa0p1480.svg) |\n",
    "|-|-|\n",
    "|![missing image](Plots/pi_rho_nvec64_kappa0p1480.svg) | ![missing image](Plots/pi_rho_nvec128_kappa0p1480.svg) |"
   ]
  },
  {
   "attachments": {},
   "cell_type": "markdown",
   "metadata": {},
   "source": [
    "# $\\pi^+\\pi^+ $\n",
    "\n",
    "| $\\kappa=0.1475$ | $\\kappa=0.1480$ |\n",
    "| ----------------|-----------------|\n",
    "| ![](Plots/pi_pipi_kappa0p1475.svg) | ![](Plots/pi_pipi_kappa0p1480.svg) |"
   ]
  },
  {
   "attachments": {},
   "cell_type": "markdown",
   "metadata": {},
   "source": [
    "# $\\pi^+\\pi^+\\pi^+ $\n",
    "\n",
    "| $\\kappa=0.1475$ | $\\kappa=0.1480$ |\n",
    "| ----------------|-----------------|\n",
    "| ![](Plots/pi_pipipi_kappa0p1475.svg) | ![](Plots/pi_pipipi_kappa0p1480.svg) |"
   ]
  }
 ],
 "metadata": {
  "kernelspec": {
   "display_name": "Python 3",
   "language": "python",
   "name": "python3"
  },
  "language_info": {
   "name": "python",
   "version": "3.10.9"
  },
  "orig_nbformat": 4,
  "vscode": {
   "interpreter": {
    "hash": "e7370f93d1d0cde622a1f8e1c04877d8463912d04d973331ad4851f04de6915a"
   }
  }
 },
 "nbformat": 4,
 "nbformat_minor": 2
}
