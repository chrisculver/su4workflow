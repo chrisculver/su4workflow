{
 "cells": [
  {
   "attachments": {},
   "cell_type": "markdown",
   "metadata": {},
   "source": [
    "# T Function\n",
    "\n",
    "\\begin{equation}\n",
    "T(p,t)_{l_0l_1l_2l_3}=\\sum_{x_1}e^{-i p x}\\epsilon_{c_0c_1c_2c_3}V(t)_{c_0x,l_0}V(t)_{c_1x,l_1}V(t)_{c_2x,l_2}V(t)_{c_3x,l_3}\n",
    "\\end{equation}"
   ]
  },
  {
   "attachments": {},
   "cell_type": "markdown",
   "metadata": {},
   "source": [
    "## Timing\n",
    "\n",
    "Parallelized on CPU's, parallelzing loop over l3, not the loop over spatial sites\n",
    "All times, zero-momentum\n",
    "\n",
    "### L=4, T=8, NVEC=8\n",
    "\n",
    "\n",
    "| Threads   | Time(ms)  | Speedup |\n",
    "|-----------|-----------|---------|\n",
    "| 1         | 19242     |  -\n",
    "| 2         | 10734     | 1.79\n",
    "| 4         | 5450      | 3.53\n",
    "| 8         | 3237      | 5.94\n",
    "\n",
    "\n",
    "### L=16, T=32\n",
    "\n",
    "| NVEC  | Threads   | Time(hrs) | Expected Scaling   | Actual Scaling |\n",
    "|-------|-----------|-----------|-----------         |------|\n",
    "| 4     |  4        | 0.056     | -   | - |\n",
    "| 8     |  8        | 0.96      | 2^3 | 17 |  \n",
    "\n",
    "* Did receive warning for 8 thread calculation using too many PUs\n",
    "* QDP says 8 threads, omp_get_num_threads says 1\n",
    "* jsrun command could be suboptimal"
   ]
  },
  {
   "attachments": {},
   "cell_type": "markdown",
   "metadata": {},
   "source": [
    "## Looking Ahead\n",
    "\n",
    "* L=32 adds a factor of 2^3 to all calculation time due to fourier transform\n",
    "\n",
    "* Also need more eigenvectors, NVEC~128\n",
    "\n",
    "* For similar thread count, $2^3\\times 16^4$ time increase...  \n",
    "\n",
    "* Storing for 128 evecs requires 4.3 gb for all momenta and time slices\n",
    "\n",
    "\n",
    "Options\n",
    "* Use better CPU machines and many cores (Ruby/Quartz) & store & transfer\n",
    "\n",
    "* GPU code"
   ]
  },
  {
   "cell_type": "markdown",
   "metadata": {},
   "source": []
  }
 ],
 "metadata": {
  "kernelspec": {
   "display_name": "LQCD",
   "language": "python",
   "name": "python3"
  },
  "language_info": {
   "codemirror_mode": {
    "name": "ipython",
    "version": 3
   },
   "file_extension": ".py",
   "mimetype": "text/x-python",
   "name": "python",
   "nbconvert_exporter": "python",
   "pygments_lexer": "ipython3",
   "version": "3.10.6"
  },
  "orig_nbformat": 4,
  "vscode": {
   "interpreter": {
    "hash": "c8d68fb5c21a4214dd5a6a13117f82199c640d7d02a884ddca486aa724deaf3c"
   }
  }
 },
 "nbformat": 4,
 "nbformat_minor": 2
}
