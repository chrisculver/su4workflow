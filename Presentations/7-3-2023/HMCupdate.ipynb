{
 "cells": [
  {
   "attachments": {},
   "cell_type": "markdown",
   "metadata": {},
   "source": [
    "## Reminder\n",
    "\n",
    "* Pusing to lower $m_{\\pi}/m_{\\rho}$\n",
    "* Plot of effective masses at $t=20$\n",
    "* All fits to correlaors on these ensembles are BAD\n",
    "\n",
    "![](Plots/previous_traj.png)\n",
    "\n",
    "* Top trajectory is $\\beta=10.5$\n",
    "* Middle trajectory is $\\beta=11.0$\n",
    "* Lower is $\\beta=11.5$\n",
    "* $\\beta=10.0$ was running into plaquette values $\\lessapprox 0.5$\n",
    "* Worried that with only 400 trajectories - these were bad estimates"
   ]
  },
  {
   "attachments": {},
   "cell_type": "markdown",
   "metadata": {},
   "source": [
    "## Update\n",
    "\n",
    "* 4 thermalized/long run ensembles\n",
    "* 400 configs for meson measurements (with good fits)\n",
    "* $m_{\\pi}/m_{\\rho}$ still VERY large...\n",
    "* [$\\beta=10.5, \\kappa=0.1520, m_{\\pi}/m_{\\rho}=0.9150(14)$](https://chrisculver.github.io/su4/ensembles/wilson_L32T64_b10.5_k0.1520.html)\n",
    "* [$\\beta=10.5, \\kappa=0.1530, m_{\\pi}/m_{\\rho}=0.8846(16)$](https://chrisculver.github.io/su4/ensembles/wilson_L32T64_b10.5_k0.1530.html)\n",
    "* [$\\beta=11.0, \\kappa=0.1495, m_{\\pi}/m_{\\rho}=0.8814(22)$](https://chrisculver.github.io/su4/ensembles/wilson_L32T64_b11.0_k0.1495.html)\n",
    "* [$\\beta=11.0, \\kappa=0.1500, m_{\\pi}/m_{\\rho}=0.8710(23)$](https://chrisculver.github.io/su4/ensembles/wilson_L32T64_b11.0_k0.1500.html)\n",
    "\n",
    "* Circles are effective masses at $t=20$\n",
    "* Stars are fits - no check for autocorrelations - errors may be underestimated\n",
    "\n",
    "![](Plots/beta10p5_traj.png)\n",
    "![](Plots/beta11p0_traj.png)"
   ]
  },
  {
   "attachments": {},
   "cell_type": "markdown",
   "metadata": {},
   "source": [
    "* Struggled getting $\\kappa=0.1540$ and $\\kappa=0.1505$ to start...\n",
    "* Requires increasing force-grad step sizes significantly\n",
    "* Next ensembles I will try to get started are\n",
    "    * $\\beta=10.5$\n",
    "        * $\\kappa=0.1540$\n",
    "        * $\\kappa=0.1550$\n",
    "    * $\\beta=11.0$\n",
    "        * $\\kappa=0.1510$\n",
    "        * $\\kappa=0.1520$"
   ]
  }
 ],
 "metadata": {
  "language_info": {
   "name": "python"
  },
  "orig_nbformat": 4
 },
 "nbformat": 4,
 "nbformat_minor": 2
}
