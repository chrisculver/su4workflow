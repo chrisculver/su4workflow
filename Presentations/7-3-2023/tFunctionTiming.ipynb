{
 "cells": [
  {
   "attachments": {},
   "cell_type": "markdown",
   "metadata": {},
   "source": [
    "# T Function\n",
    "\n",
    "\\begin{equation}\n",
    "T(p,t)_{l_0l_1l_2l_3}=\\sum_{x_1}e^{-i p x}\\epsilon_{c_0c_1c_2c_3}V(t)_{c_0x,l_0}V(t)_{c_1x,l_1}V(t)_{c_2x,l_2}V(t)_{c_3x,l_3}\n",
    "\\end{equation}"
   ]
  },
  {
   "attachments": {},
   "cell_type": "markdown",
   "metadata": {},
   "source": [
    "\\begin{align}\n",
    "T_{ijkl}&=\\epsilon_{abcd}V_{ai}V_{bj}V_{ck}V_{dl}\\\\\n",
    "        &=\\epsilon_{0123}V_{0i}V_{1j}V_{2k}V_{3l}\n",
    "         +\\epsilon_{0132}V_{0i}V_{1j}V_{3k}V_{2l}+\\cdots\\\\\n",
    "        &=V_{0i}V_{1j}V_{2k}V_{3l}-V_{0i}V_{1j}V_{3k}V_{2l}+\\cdots\\\\\n",
    "T_{ijkk}&=V_{0i}V_{1j}(V_{2k}V_{3k}-V_{3k}V_{2k})\\\\\n",
    "        &=0\n",
    "\\end{align}\n",
    "\n",
    "\n",
    "If $\\epsilon=0$, don't compute any elements of T.  $N_c^4$ terms $\\rightarrow$ $N_c!$ terms\n",
    "\n",
    "T is also antisymmetric in eigenvector indices.  $N_v^4$ terms $\\rightarrow N_v!/(N_v-4)!$\n"
   ]
  },
  {
   "attachments": {},
   "cell_type": "markdown",
   "metadata": {},
   "source": [
    "## GPU Code\n",
    "\n",
    "GPU code has following steps\n",
    "1. For loop over color, only compute for non-zero epsilon\n",
    "2. For loop over evec\n",
    "    1. Copy evec data onto gpu - as spatial vector\n",
    "    2. GPU kernel to multiply evecs and reduce to scalar\n",
    "\n",
    "| Kernel Part | Time(microseconds) |\n",
    "|-------------|--------------------|\n",
    "| Setup/Data transfer | 120 |\n",
    "| Multiply & Reduce | 30 |\n",
    "\n"
   ]
  },
  {
   "attachments": {},
   "cell_type": "markdown",
   "metadata": {},
   "source": [
    "## L=32 Baryon Correlators\n",
    "\n",
    "Speedups to-do \n",
    "1.  Transfer all eigenvectors onto GPU at start (reduce setup time)\n",
    "2.  Better reduction (reduce kernel time)\n",
    "\n",
    "### Timing Info\n",
    "\n",
    "* Times measured in milliseconds\n",
    "* Nvec=8 hit time limit on debug node\n",
    "* Scaling of T compared with $N_v=4$\n",
    "\n",
    "| Nvec | Compute T | Scaling T | Compute B | Compute Bprop | Evaluate Diagrams | \n",
    "|------|-----------|-----------|-----------|---------------|-------------------|\n",
    "| 4 | 1.8*10^5 | 1 | 228 | 7.3*10^4 | 3.6*10^5 | \n",
    "| 6 | 1.5*10^6 | 15 | 1104 | 4.3*10^5 | 6.9*10^5 |\n",
    "| 8 | 6.8*10^6 | 70 | 3696 | ... | ... |\n",
    "\n",
    "\n",
    "\n",
    "### Numerical Values\n",
    "\n",
    "| Nvec | t | C(t) |\n",
    "|------|---|------|\n",
    "| 4 | 0 | 6.88748194e-10-4.43434764e-14j | \n",
    "| 6 | 0 | 2.28479330e-09-1.70586292e-12j | \n",
    "|-|-|-|\n",
    "| 4 | 1 | -1.35823441e-22-4.98618281e-22j |\n",
    "| 6 | 1 | -1.49544234e-21-1.45096305e-22j |\n",
    "|-|-|-|\n",
    "| 4 | 2 | 5.01071221e-23-3.52351481e-23j |\n",
    "| 6 | 2 |  -1.38497310e-23+5.44879980e-23j |"
   ]
  },
  {
   "cell_type": "code",
   "execution_count": 5,
   "metadata": {},
   "outputs": [
    {
     "name": "stdout",
     "output_type": "stream",
     "text": [
      "1.0\n",
      "15.0\n",
      "70.0\n"
     ]
    }
   ],
   "source": [
    "import math\n",
    "\n",
    "#nonzero-elements of T in eigenvector space.\n",
    "def Tevec_elements(nvec):\n",
    "    return math.factorial(nvec)/math.factorial(nvec-4)\n",
    "\n",
    "for nvec in [4,6,8]:\n",
    "    print(Tevec_elements(nvec)/Tevec_elements(4))"
   ]
  },
  {
   "cell_type": "code",
   "execution_count": 1,
   "metadata": {},
   "outputs": [
    {
     "data": {
      "text/plain": [
       "25.0"
      ]
     },
     "execution_count": 1,
     "metadata": {},
     "output_type": "execute_result"
    }
   ],
   "source": [
    "5000000/200000"
   ]
  },
  {
   "cell_type": "code",
   "execution_count": 4,
   "metadata": {},
   "outputs": [
    {
     "data": {
      "text/plain": [
       "16"
      ]
     },
     "execution_count": 4,
     "metadata": {},
     "output_type": "execute_result"
    }
   ],
   "source": [
    "2**4"
   ]
  },
  {
   "cell_type": "code",
   "execution_count": 5,
   "metadata": {},
   "outputs": [
    {
     "data": {
      "text/plain": [
       "83.33333333333333"
      ]
     },
     "execution_count": 5,
     "metadata": {},
     "output_type": "execute_result"
    }
   ],
   "source": [
    "5000/60"
   ]
  },
  {
   "cell_type": "code",
   "execution_count": 9,
   "metadata": {},
   "outputs": [
    {
     "data": {
      "text/plain": [
       "1073.741824"
      ]
     },
     "execution_count": 9,
     "metadata": {},
     "output_type": "execute_result"
    }
   ],
   "source": [
    "(32**4)*64*(2*8)/1000/1000"
   ]
  },
  {
   "cell_type": "code",
   "execution_count": null,
   "metadata": {},
   "outputs": [],
   "source": []
  }
 ],
 "metadata": {
  "kernelspec": {
   "display_name": "LQCD",
   "language": "python",
   "name": "python3"
  },
  "language_info": {
   "codemirror_mode": {
    "name": "ipython",
    "version": 3
   },
   "file_extension": ".py",
   "mimetype": "text/x-python",
   "name": "python",
   "nbconvert_exporter": "python",
   "pygments_lexer": "ipython3",
   "version": "3.9.12"
  },
  "orig_nbformat": 4,
  "vscode": {
   "interpreter": {
    "hash": "c8d68fb5c21a4214dd5a6a13117f82199c640d7d02a884ddca486aa724deaf3c"
   }
  }
 },
 "nbformat": 4,
 "nbformat_minor": 2
}
