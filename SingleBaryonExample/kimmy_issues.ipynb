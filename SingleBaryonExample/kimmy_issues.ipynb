{
 "cells": [
  {
   "cell_type": "code",
   "execution_count": 1,
   "metadata": {},
   "outputs": [],
   "source": [
    "# Avoids reloading kernel while developing\n",
    "%load_ext autoreload\n",
    "%autoreload 2"
   ]
  },
  {
   "cell_type": "code",
   "execution_count": 10,
   "metadata": {},
   "outputs": [],
   "source": [
    "from PyCorrelationMatrixManager.correlation_matrix import *\n",
    "\n",
    "import os\n",
    "import sys\n",
    "#pretty latex printing\n",
    "from IPython.display import display, Math \n",
    "pprint = lambda o : display(Math(str(o)))\n",
    "\n",
    "sys.path.append('..')"
   ]
  },
  {
   "cell_type": "code",
   "execution_count": 11,
   "metadata": {},
   "outputs": [],
   "source": [
    "from src.baryon_elementals import *\n",
    "\n",
    "Buchoff_FULL_GAMMAS = [\n",
    "    ['BuchoffS0', '4'],  # Cg5 * Cg5 com4  S = 0\n",
    "    ['BuchoffS1', '1'],  # Cg1 * Cg5        S = 1\n",
    "    ['BuchoffS1', '1'],  # Cg1 * Cg5        S = 1\n",
    "    ['BuchoffS2', '12'],  # Cg1 * Cg2      S = 2\n",
    "    ['BuchoffS2', '12'],  # Cg1 * Cg2      S = 2\n",
    "    ['BuchoffS2', '12'],  # Cg1 * Cg2      S = 2\n",
    "    ['BuchoffS2', '12'],  # Cg1 * Cg2      S = 2\n",
    "    ['BuchoffS2', '12']  # Cg1 * Cg2      S = 2\n",
    "]\n",
    "\n",
    "FLAVOR_Buchoff_Iz0_com3 = {'uudd': 1}\n",
    "FLAVOR_Buchoff_Iz0_com4 = {'udud': 1}\n",
    "FLAVOR_Buchoff_Iz1_com1 = {'uudu': 1}\n",
    "FLAVOR_Buchoff_Iz1_com2 = {'uduu': 1}\n",
    "FLAVOR_Buchoff_Iz2 = {'uuuu': 1}\n",
    "\n",
    "Buchoff_FULL_FLAVOR = [\n",
    "    FLAVOR_Buchoff_Iz0_com4,  # S = 0 udud\n",
    "    FLAVOR_Buchoff_Iz0_com4,  # S = 1 udud\n",
    "    FLAVOR_Buchoff_Iz1_com1,  # S = 1 uudu  # causing a problem?\n",
    "    FLAVOR_Buchoff_Iz0_com3,  # S = 2 uudd\n",
    "    FLAVOR_Buchoff_Iz0_com4,  # S = 2 udud\n",
    "    FLAVOR_Buchoff_Iz1_com1,  # S = 2 uudu\n",
    "    FLAVOR_Buchoff_Iz1_com2,  # S = 2 uduu\n",
    "    FLAVOR_Buchoff_Iz2  # S = 2 uuuu\n",
    "]\n",
    "\n",
    "gammas = [\n",
    "    Buchoff_FULL_GAMMAS[2],\n",
    "    Buchoff_FULL_GAMMAS[1],\n",
    "    # Buchoff_FULL_GAMMAS[3],\n",
    "]\n",
    "flavor_wavefunctions = [\n",
    "    Buchoff_FULL_FLAVOR[2],\n",
    "    Buchoff_FULL_FLAVOR[1],\n",
    "    # Buchoff_FULL_FLAVOR[3],\n",
    "]\n",
    "\n",
    "aOps = []  # annihilation operators\n",
    "cOps = []  # creation operators\n",
    "\n",
    "gammaName = lambda irrep,i : \"\\\\Gamma^{{ ({},{}) }}\".format(irrep, i)\n",
    "\n",
    "for flavor_wavefunction, gamma in zip(flavor_wavefunctions, gammas):\n",
    "    aOps.append(baryonSink(flavor_wavefunction, '[000]', gammaName(gamma[0], gamma[1])))\n",
    "    cOps.append(baryonSource(flavor_wavefunction, '[000]', gammaName(gamma[0], gamma[1])))"
   ]
  },
  {
   "cell_type": "code",
   "execution_count": 12,
   "metadata": {},
   "outputs": [],
   "source": [
    "corrMatrix = CorrelationMatrix(\n",
    "    cops=cOps[0:2], aops=aOps[0:2], \n",
    "    dts=[t for t in range(32)], t0s=[t for t in range(32)], \n",
    "    cfg=335, dfiles=[])\n",
    "corrMatrix.contract()\n",
    "corrMatrix.laphify()"
   ]
  },
  {
   "cell_type": "code",
   "execution_count": 13,
   "metadata": {},
   "outputs": [
    {
     "name": "stdout",
     "output_type": "stream",
     "text": [
      "TODO: Need to handle momenta and baryon flavor!\n"
     ]
    }
   ],
   "source": [
    "allBaryonTensors, allBaryonSinks, allBaryonProps = corrMatrix.get_baryon_tensor_dictionaries()\n",
    "create_diagram_gpu_file(corrMatrix.get_all_diagrams(), allBaryonTensors, allBaryonSinks, allBaryonProps)    \n",
    "create_input_file(str(len(corrMatrix.get_all_diagrams())),corrMatrix.gammas)\n",
    "create_diagram_names_file(corrMatrix.get_all_diagrams())"
   ]
  },
  {
   "cell_type": "markdown",
   "metadata": {},
   "source": []
  },
  {
   "cell_type": "code",
   "execution_count": null,
   "metadata": {},
   "outputs": [],
   "source": []
  },
  {
   "cell_type": "code",
   "execution_count": null,
   "metadata": {},
   "outputs": [],
   "source": []
  }
 ],
 "metadata": {
  "kernelspec": {
   "display_name": "Python 3.10.6 ('LQCD')",
   "language": "python",
   "name": "python3"
  },
  "language_info": {
   "codemirror_mode": {
    "name": "ipython",
    "version": 3
   },
   "file_extension": ".py",
   "mimetype": "text/x-python",
   "name": "python",
   "nbconvert_exporter": "python",
   "pygments_lexer": "ipython3",
   "version": "3.9.17"
  },
  "orig_nbformat": 4,
  "vscode": {
   "interpreter": {
    "hash": "c8d68fb5c21a4214dd5a6a13117f82199c640d7d02a884ddca486aa724deaf3c"
   }
  }
 },
 "nbformat": 4,
 "nbformat_minor": 2
}
