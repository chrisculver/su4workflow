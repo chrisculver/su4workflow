{
 "cells": [
  {
   "cell_type": "code",
   "execution_count": 1,
   "metadata": {},
   "outputs": [],
   "source": [
    "# Avoids reloading kernel while developing\n",
    "%load_ext autoreload\n",
    "%autoreload 2"
   ]
  },
  {
   "cell_type": "code",
   "execution_count": 7,
   "metadata": {},
   "outputs": [],
   "source": [
    "from PyCorrelationMatrixManager.correlation_matrix import *\n",
    "\n",
    "import os\n",
    "import sys\n",
    "#pretty latex printing\n",
    "from IPython.display import display, Math \n",
    "pprint = lambda o : display(Math(str(o)))\n",
    "\n",
    "sys.path.append('..')"
   ]
  },
  {
   "attachments": {},
   "cell_type": "markdown",
   "metadata": {},
   "source": [
    "## Operators\n",
    "\n",
    "Operators for SU(4) baryons are constructed in full by Kimmy Cushman & Aaron Meyer.  For now they are hardcoded into the correct objects for the WickContraction library.  Specifically at the moment the below code sets up a list of \"Elemental Operators\" for uuuu operators, in different irreps, with a gamma matrix name and spatial coordinate.  "
   ]
  },
  {
   "cell_type": "code",
   "execution_count": 8,
   "metadata": {},
   "outputs": [
    {
     "name": "stdout",
     "output_type": "stream",
     "text": [
      "[['A1g', '0'], ['T1g0', '0'], ['Eg0', '0'], ['Eg0', '1'], ['Eg1', '0'], ['Eg1', '1']]\n"
     ]
    }
   ],
   "source": [
    "# load definition of the building blocks of the operators.\n",
    "from src.baryon_elementals import baryonSink, baryonSource\n",
    "from WickContractions.ops.operator import Operator\n",
    "import numpy as np\n",
    "\n",
    "#gammas = [('buchoff',0)]\n",
    "gammas=[]\n",
    "gammas += np.array([[('A1g',i) for i in range(1)] for row in range(1)]).reshape(1,2).tolist()\n",
    "gammas += np.array([[('T1g{}'.format(row),i) for i in range(1)] for row in range(1)]).reshape(1,2).tolist()\n",
    "gammas += np.array([[('Eg{}'.format(row),i) for i in range(2)] for row in range(2)]).reshape(4,2).tolist()\n",
    "\n",
    "print(gammas)\n",
    "\n",
    "gammaName = lambda irrep,i : \"\\\\Gamma^{{ ({},{}) }}\".format(irrep, i)\n",
    "\n",
    "aOps=[] # annihilation operators\n",
    "cOps=[] # creation operators\n",
    "for g in gammas:\n",
    "    aOps.append(baryonSink({'uuuu': 1},'[000]',gammaName(g[0],g[1])))\n",
    "    cOps.append(baryonSource({'uuuu': 1}, '[000]',gammaName(g[0],g[1])))\n",
    "    \n",
    "    #TODO: multiflavor - something like below?\n",
    "    #aOps.append(Operator([baryonSink([1,-1,+1,0.5],[['d','u','u','u'],['u','d','u','u'],...],'x_0',gammaName(g[0],g[1]))]))"
   ]
  },
  {
   "cell_type": "code",
   "execution_count": 9,
   "metadata": {},
   "outputs": [
    {
     "data": {
      "text/latex": [
       "$\\displaystyle 1\\epsilon_{c_{0} c_{1} c_{2} c_{3}}\\Gamma^{ (A1g,0) }_{s_{0} s_{1} s_{2} s_{3}}u_{s_{0} c_{0}}([000], t_f)u_{s_{1} c_{1}}([000], t_f)u_{s_{2} c_{2}}([000], t_f)u_{s_{3} c_{3}}([000], t_f)$"
      ],
      "text/plain": [
       "<IPython.core.display.Math object>"
      ]
     },
     "metadata": {},
     "output_type": "display_data"
    },
    {
     "data": {
      "text/latex": [
       "$\\displaystyle 1\\epsilon_{c_{8} c_{9} c_{10} c_{11}}\\Gamma^{ (T1g0,0) }_{s_{8} s_{9} s_{10} s_{11}}u_{s_{8} c_{8}}([000], t_f)u_{s_{9} c_{9}}([000], t_f)u_{s_{10} c_{10}}([000], t_f)u_{s_{11} c_{11}}([000], t_f)$"
      ],
      "text/plain": [
       "<IPython.core.display.Math object>"
      ]
     },
     "metadata": {},
     "output_type": "display_data"
    },
    {
     "data": {
      "text/latex": [
       "$\\displaystyle 1\\epsilon_{c_{16} c_{17} c_{18} c_{19}}\\Gamma^{ (Eg0,0) }_{s_{16} s_{17} s_{18} s_{19}}u_{s_{16} c_{16}}([000], t_f)u_{s_{17} c_{17}}([000], t_f)u_{s_{18} c_{18}}([000], t_f)u_{s_{19} c_{19}}([000], t_f)$"
      ],
      "text/plain": [
       "<IPython.core.display.Math object>"
      ]
     },
     "metadata": {},
     "output_type": "display_data"
    },
    {
     "data": {
      "text/latex": [
       "$\\displaystyle 1\\epsilon_{c_{24} c_{25} c_{26} c_{27}}\\Gamma^{ (Eg0,1) }_{s_{24} s_{25} s_{26} s_{27}}u_{s_{24} c_{24}}([000], t_f)u_{s_{25} c_{25}}([000], t_f)u_{s_{26} c_{26}}([000], t_f)u_{s_{27} c_{27}}([000], t_f)$"
      ],
      "text/plain": [
       "<IPython.core.display.Math object>"
      ]
     },
     "metadata": {},
     "output_type": "display_data"
    },
    {
     "data": {
      "text/latex": [
       "$\\displaystyle 1\\epsilon_{c_{32} c_{33} c_{34} c_{35}}\\Gamma^{ (Eg1,0) }_{s_{32} s_{33} s_{34} s_{35}}u_{s_{32} c_{32}}([000], t_f)u_{s_{33} c_{33}}([000], t_f)u_{s_{34} c_{34}}([000], t_f)u_{s_{35} c_{35}}([000], t_f)$"
      ],
      "text/plain": [
       "<IPython.core.display.Math object>"
      ]
     },
     "metadata": {},
     "output_type": "display_data"
    },
    {
     "data": {
      "text/latex": [
       "$\\displaystyle 1\\epsilon_{c_{40} c_{41} c_{42} c_{43}}\\Gamma^{ (Eg1,1) }_{s_{40} s_{41} s_{42} s_{43}}u_{s_{40} c_{40}}([000], t_f)u_{s_{41} c_{41}}([000], t_f)u_{s_{42} c_{42}}([000], t_f)u_{s_{43} c_{43}}([000], t_f)$"
      ],
      "text/plain": [
       "<IPython.core.display.Math object>"
      ]
     },
     "metadata": {},
     "output_type": "display_data"
    }
   ],
   "source": [
    "for o in aOps:\n",
    "    pprint(o)"
   ]
  },
  {
   "cell_type": "code",
   "execution_count": 10,
   "metadata": {},
   "outputs": [
    {
     "data": {
      "text/latex": [
       "$\\displaystyle 1\\epsilon_{c_{4} c_{5} c_{6} c_{7}}\\Gamma^{ (A1g,0) }_{s_{4} s_{5} s_{6} s_{7}}\\bar{u}_{s_{4} c_{4}}([000], t_i)\\bar{u}_{s_{5} c_{5}}([000], t_i)\\bar{u}_{s_{6} c_{6}}([000], t_i)\\bar{u}_{s_{7} c_{7}}([000], t_i)$"
      ],
      "text/plain": [
       "<IPython.core.display.Math object>"
      ]
     },
     "metadata": {},
     "output_type": "display_data"
    },
    {
     "data": {
      "text/latex": [
       "$\\displaystyle 1\\epsilon_{c_{12} c_{13} c_{14} c_{15}}\\Gamma^{ (T1g0,0) }_{s_{12} s_{13} s_{14} s_{15}}\\bar{u}_{s_{12} c_{12}}([000], t_i)\\bar{u}_{s_{13} c_{13}}([000], t_i)\\bar{u}_{s_{14} c_{14}}([000], t_i)\\bar{u}_{s_{15} c_{15}}([000], t_i)$"
      ],
      "text/plain": [
       "<IPython.core.display.Math object>"
      ]
     },
     "metadata": {},
     "output_type": "display_data"
    },
    {
     "data": {
      "text/latex": [
       "$\\displaystyle 1\\epsilon_{c_{20} c_{21} c_{22} c_{23}}\\Gamma^{ (Eg0,0) }_{s_{20} s_{21} s_{22} s_{23}}\\bar{u}_{s_{20} c_{20}}([000], t_i)\\bar{u}_{s_{21} c_{21}}([000], t_i)\\bar{u}_{s_{22} c_{22}}([000], t_i)\\bar{u}_{s_{23} c_{23}}([000], t_i)$"
      ],
      "text/plain": [
       "<IPython.core.display.Math object>"
      ]
     },
     "metadata": {},
     "output_type": "display_data"
    },
    {
     "data": {
      "text/latex": [
       "$\\displaystyle 1\\epsilon_{c_{28} c_{29} c_{30} c_{31}}\\Gamma^{ (Eg0,1) }_{s_{28} s_{29} s_{30} s_{31}}\\bar{u}_{s_{28} c_{28}}([000], t_i)\\bar{u}_{s_{29} c_{29}}([000], t_i)\\bar{u}_{s_{30} c_{30}}([000], t_i)\\bar{u}_{s_{31} c_{31}}([000], t_i)$"
      ],
      "text/plain": [
       "<IPython.core.display.Math object>"
      ]
     },
     "metadata": {},
     "output_type": "display_data"
    },
    {
     "data": {
      "text/latex": [
       "$\\displaystyle 1\\epsilon_{c_{36} c_{37} c_{38} c_{39}}\\Gamma^{ (Eg1,0) }_{s_{36} s_{37} s_{38} s_{39}}\\bar{u}_{s_{36} c_{36}}([000], t_i)\\bar{u}_{s_{37} c_{37}}([000], t_i)\\bar{u}_{s_{38} c_{38}}([000], t_i)\\bar{u}_{s_{39} c_{39}}([000], t_i)$"
      ],
      "text/plain": [
       "<IPython.core.display.Math object>"
      ]
     },
     "metadata": {},
     "output_type": "display_data"
    },
    {
     "data": {
      "text/latex": [
       "$\\displaystyle 1\\epsilon_{c_{44} c_{45} c_{46} c_{47}}\\Gamma^{ (Eg1,1) }_{s_{44} s_{45} s_{46} s_{47}}\\bar{u}_{s_{44} c_{44}}([000], t_i)\\bar{u}_{s_{45} c_{45}}([000], t_i)\\bar{u}_{s_{46} c_{46}}([000], t_i)\\bar{u}_{s_{47} c_{47}}([000], t_i)$"
      ],
      "text/plain": [
       "<IPython.core.display.Math object>"
      ]
     },
     "metadata": {},
     "output_type": "display_data"
    }
   ],
   "source": [
    "for o in cOps:\n",
    "    pprint(o)"
   ]
  },
  {
   "attachments": {},
   "cell_type": "markdown",
   "metadata": {},
   "source": [
    "## Correlation Matrix Manager\n",
    "\n",
    "The PyCorrelationMatrixManager does all the hard work for us.  We just need to give it the following information.\n",
    "\n",
    "* List of creation operators\n",
    "* List of annihilation operators\n",
    "* List of gamma matrices\n",
    "* List of dts to compute correlators on\n",
    "* List of t0s - source times to average over\n",
    "* Configuration number\n",
    "* List of files containing numeric data for the diagrams\n",
    "\n",
    "The output are correlators for all dts for the given configuration number."
   ]
  },
  {
   "attachments": {},
   "cell_type": "markdown",
   "metadata": {},
   "source": [
    "Below is an example of running with a diagram value, and without, the diagram file is included in this repository, just change the path in the first line below to point to your local installation."
   ]
  },
  {
   "cell_type": "code",
   "execution_count": 11,
   "metadata": {},
   "outputs": [],
   "source": [
    "# change this to whereever you installed this repository\n",
    "diagramFile=os.path.join(os.path.expanduser(\"~\"),\"Code\",\"LQCD\",\"su4workflow\",\"Input\",\"diagrams_\")\n",
    "\n",
    "corrMatrix = CorrelationMatrix(\n",
    "    cops=cOps[0:2], aops=aOps[0:2], \n",
    "    dts=[t for t in range(32)], t0s=[t for t in range(32)], \n",
    "    cfg=335, dfiles=[diagramFile])\n",
    "corrMatrix.run()"
   ]
  },
  {
   "attachments": {},
   "cell_type": "markdown",
   "metadata": {},
   "source": [
    "Now we rerun the code without the diagramFiles, since it doesn't have numerical data to load, it gives us the necessary files to run the CPP code.  The code does produce an error as expected."
   ]
  },
  {
   "cell_type": "code",
   "execution_count": 12,
   "metadata": {},
   "outputs": [
    {
     "name": "stdout",
     "output_type": "stream",
     "text": [
      "TODO: This can be massively improved\n",
      "      For now just tells you the full calculation\n",
      "TODO: Need to handle momenta and baryon flavor!\n"
     ]
    },
    {
     "ename": "RuntimeError",
     "evalue": "Failed to load all diagram values",
     "output_type": "error",
     "traceback": [
      "\u001b[0;31m---------------------------------------------------------------------------\u001b[0m",
      "\u001b[0;31mKeyError\u001b[0m                                  Traceback (most recent call last)",
      "File \u001b[0;32m~/Code/LQCD/PyCorrelationMatrixManager/PyCorrelationMatrixManager/correlation_matrix.py:60\u001b[0m, in \u001b[0;36mCorrelationMatrix.run\u001b[0;34m(self)\u001b[0m\n\u001b[1;32m     59\u001b[0m \u001b[39mtry\u001b[39;00m:\n\u001b[0;32m---> 60\u001b[0m     \u001b[39mself\u001b[39;49m\u001b[39m.\u001b[39;49mload_diagram_values(data\u001b[39m.\u001b[39;49mdiagram_data)\n\u001b[1;32m     61\u001b[0m     \u001b[39mself\u001b[39m\u001b[39m.\u001b[39mcompute_correlators()\n",
      "File \u001b[0;32m~/Code/LQCD/PyCorrelationMatrixManager/PyCorrelationMatrixManager/correlation_matrix.py:163\u001b[0m, in \u001b[0;36mCorrelationMatrix.load_diagram_values\u001b[0;34m(self, data)\u001b[0m\n\u001b[1;32m    162\u001b[0m \u001b[39mfor\u001b[39;00m c \u001b[39min\u001b[39;00m \u001b[39mself\u001b[39m\u001b[39m.\u001b[39mcorrelators:\n\u001b[0;32m--> 163\u001b[0m     c\u001b[39m.\u001b[39;49mload_diagram_values(data)\n",
      "File \u001b[0;32m~/Code/LQCD/PyCorrelationMatrixManager/PyCorrelationMatrixManager/correlator.py:45\u001b[0m, in \u001b[0;36mCorrelator.load_diagram_values\u001b[0;34m(self, data)\u001b[0m\n\u001b[1;32m     44\u001b[0m \u001b[39mfor\u001b[39;00m d \u001b[39min\u001b[39;00m \u001b[39mself\u001b[39m\u001b[39m.\u001b[39mdiagrams:\n\u001b[0;32m---> 45\u001b[0m     d\u001b[39m.\u001b[39mvalue \u001b[39m=\u001b[39m data[d\u001b[39m.\u001b[39;49mname()]\n",
      "\u001b[0;31mKeyError\u001b[0m: 'B([000],t_i,\\\\Gamma^{ (A1g,0) })_{{4} {5} {6} {7}}B^*([000],t_i,t_f,\\\\Gamma^{ (A1g,0) })_{{4} {5} {6} {7}}'",
      "\nDuring handling of the above exception, another exception occurred:\n",
      "\u001b[0;31mRuntimeError\u001b[0m                              Traceback (most recent call last)",
      "\u001b[1;32m/home/chris/Code/LQCD/su4workflow/SingleBaryonExample/uuuu_baryon.ipynb Cell 11\u001b[0m in \u001b[0;36m5\n\u001b[1;32m      <a href='vscode-notebook-cell:/home/chris/Code/LQCD/su4workflow/SingleBaryonExample/uuuu_baryon.ipynb#X13sZmlsZQ%3D%3D?line=0'>1</a>\u001b[0m corrMatrix \u001b[39m=\u001b[39m CorrelationMatrix(\n\u001b[1;32m      <a href='vscode-notebook-cell:/home/chris/Code/LQCD/su4workflow/SingleBaryonExample/uuuu_baryon.ipynb#X13sZmlsZQ%3D%3D?line=1'>2</a>\u001b[0m     cops\u001b[39m=\u001b[39mcOps[\u001b[39m0\u001b[39m:\u001b[39m2\u001b[39m], aops\u001b[39m=\u001b[39maOps[\u001b[39m0\u001b[39m:\u001b[39m2\u001b[39m], \n\u001b[1;32m      <a href='vscode-notebook-cell:/home/chris/Code/LQCD/su4workflow/SingleBaryonExample/uuuu_baryon.ipynb#X13sZmlsZQ%3D%3D?line=2'>3</a>\u001b[0m     dts\u001b[39m=\u001b[39m[t \u001b[39mfor\u001b[39;00m t \u001b[39min\u001b[39;00m \u001b[39mrange\u001b[39m(\u001b[39m32\u001b[39m)], t0s\u001b[39m=\u001b[39m[t \u001b[39mfor\u001b[39;00m t \u001b[39min\u001b[39;00m \u001b[39mrange\u001b[39m(\u001b[39m32\u001b[39m)], \n\u001b[1;32m      <a href='vscode-notebook-cell:/home/chris/Code/LQCD/su4workflow/SingleBaryonExample/uuuu_baryon.ipynb#X13sZmlsZQ%3D%3D?line=3'>4</a>\u001b[0m     cfg\u001b[39m=\u001b[39m\u001b[39m335\u001b[39m)\n\u001b[0;32m----> <a href='vscode-notebook-cell:/home/chris/Code/LQCD/su4workflow/SingleBaryonExample/uuuu_baryon.ipynb#X13sZmlsZQ%3D%3D?line=4'>5</a>\u001b[0m corrMatrix\u001b[39m.\u001b[39;49mrun()\n",
      "File \u001b[0;32m~/Code/LQCD/PyCorrelationMatrixManager/PyCorrelationMatrixManager/correlation_matrix.py:71\u001b[0m, in \u001b[0;36mCorrelationMatrix.run\u001b[0;34m(self)\u001b[0m\n\u001b[1;32m     68\u001b[0m     create_input_file(\u001b[39mstr\u001b[39m(\u001b[39mlen\u001b[39m(\u001b[39mself\u001b[39m\u001b[39m.\u001b[39mget_all_diagrams())),\u001b[39mself\u001b[39m\u001b[39m.\u001b[39mgammas)\n\u001b[1;32m     69\u001b[0m     create_diagram_names_file(\u001b[39mself\u001b[39m\u001b[39m.\u001b[39mget_all_diagrams())\n\u001b[0;32m---> 71\u001b[0m     \u001b[39mraise\u001b[39;00m \u001b[39mRuntimeError\u001b[39;00m(\u001b[39m\"\u001b[39m\u001b[39mFailed to load all diagram values\u001b[39m\u001b[39m\"\u001b[39m)\n\u001b[1;32m     73\u001b[0m \u001b[39mtry\u001b[39;00m:\n\u001b[1;32m     74\u001b[0m     \u001b[39mself\u001b[39m\u001b[39m.\u001b[39msave_corrs_to_files()\n",
      "\u001b[0;31mRuntimeError\u001b[0m: Failed to load all diagram values"
     ]
    }
   ],
   "source": [
    "corrMatrix = CorrelationMatrix(\n",
    "    cops=cOps[0:2], aops=aOps[0:2], \n",
    "    dts=[t for t in range(32)], t0s=[t for t in range(32)], \n",
    "    cfg=335)\n",
    "corrMatrix.run()"
   ]
  },
  {
   "cell_type": "code",
   "execution_count": null,
   "metadata": {},
   "outputs": [],
   "source": []
  }
 ],
 "metadata": {
  "kernelspec": {
   "display_name": "Python 3.10.6 ('LQCD')",
   "language": "python",
   "name": "python3"
  },
  "language_info": {
   "codemirror_mode": {
    "name": "ipython",
    "version": 3
   },
   "file_extension": ".py",
   "mimetype": "text/x-python",
   "name": "python",
   "nbconvert_exporter": "python",
   "pygments_lexer": "ipython3",
   "version": "3.10.12"
  },
  "orig_nbformat": 4,
  "vscode": {
   "interpreter": {
    "hash": "c8d68fb5c21a4214dd5a6a13117f82199c640d7d02a884ddca486aa724deaf3c"
   }
  }
 },
 "nbformat": 4,
 "nbformat_minor": 2
}
