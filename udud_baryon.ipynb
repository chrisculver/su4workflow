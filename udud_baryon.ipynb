{
 "cells": [
  {
   "cell_type": "code",
   "execution_count": 1,
   "metadata": {},
   "outputs": [],
   "source": [
    "from WickContractions.wick.contract import *\n",
    "from WickContractions.laph.diagram import *\n",
    "\n",
    "from utilities import *\n",
    "\n",
    "from IPython.display import display, Math\n",
    "\n",
    "pprint = lambda o : display(Math(str(o)))"
   ]
  },
  {
   "cell_type": "markdown",
   "metadata": {},
   "source": [
    "## Operators\n",
    "\n",
    "At the moment we are hardcoding in the operators.  We will want to read in a dictionary of spin matrices, as well as isospin flavor combinations."
   ]
  },
  {
   "cell_type": "code",
   "execution_count": 2,
   "metadata": {},
   "outputs": [],
   "source": [
    "# TODO get input from operator code for Isospin/momentum combinations."
   ]
  },
  {
   "cell_type": "code",
   "execution_count": 3,
   "metadata": {},
   "outputs": [
    {
     "name": "stdout",
     "output_type": "stream",
     "text": [
      "\\Gamma^{ 0 }\n"
     ]
    }
   ],
   "source": [
    "# load definition of the building blocks of the operators.\n",
    "from udud_elementals import *\n",
    "\n",
    "\n",
    "gammas = [i for i in range(6)]\n",
    "\n",
    "gammaName = lambda i : \"\\\\Gamma^{{ {} }}\".format(i)\n",
    "print(gammaName(0))\n",
    "aOps=[]\n",
    "cOps=[]\n",
    "for g in gammas:\n",
    "    aOps.append(Operator([baryonSink(1,['u','d','u','d'],'x_0',gammaName(g))]))\n",
    "    cOps.append(Operator([baryonSource(1,['d','u','d','u'], 'x_1',gammaName(g))]))"
   ]
  },
  {
   "cell_type": "markdown",
   "metadata": {},
   "source": [
    "## Wick Contractions\n",
    "\n",
    "Now we run the wick contractions giving us essentially a list of tensor contractions to be performed."
   ]
  },
  {
   "cell_type": "code",
   "execution_count": 4,
   "metadata": {},
   "outputs": [
    {
     "name": "stdout",
     "output_type": "stream",
     "text": [
      "Need 144 diagrams\n"
     ]
    }
   ],
   "source": [
    "diagrams=[]\n",
    "for aOp in aOps:\n",
    "    for cOp in cOps:\n",
    "        for d in contract(aOp, cOp).diagrams:\n",
    "            diagrams.append(d)\n",
    "print(\"Need {} diagrams\".format(len(diagrams)))"
   ]
  },
  {
   "cell_type": "code",
   "execution_count": 5,
   "metadata": {},
   "outputs": [
    {
     "data": {
      "text/latex": [
       "$\\displaystyle -1.0 B(x_1,t_i,\\Gamma^{ 0 })_{{4} {5} {6} {7}}B^*(x_0,t_i,t_f,\\Gamma^{ 0 })_{{5} {6} {7} {4}}$"
      ],
      "text/plain": [
       "<IPython.core.display.Math object>"
      ]
     },
     "metadata": {},
     "output_type": "display_data"
    },
    {
     "data": {
      "text/latex": [
       "$\\displaystyle 1.0 B(x_1,t_i,\\Gamma^{ 0 })_{{4} {5} {6} {7}}B^*(x_0,t_i,t_f,\\Gamma^{ 0 })_{{5} {4} {7} {6}}$"
      ],
      "text/plain": [
       "<IPython.core.display.Math object>"
      ]
     },
     "metadata": {},
     "output_type": "display_data"
    },
    {
     "data": {
      "text/latex": [
       "$\\displaystyle 1.0 B(x_1,t_i,\\Gamma^{ 0 })_{{4} {5} {6} {7}}B^*(x_0,t_i,t_f,\\Gamma^{ 0 })_{{7} {6} {5} {4}}$"
      ],
      "text/plain": [
       "<IPython.core.display.Math object>"
      ]
     },
     "metadata": {},
     "output_type": "display_data"
    },
    {
     "data": {
      "text/latex": [
       "$\\displaystyle -1.0 B(x_1,t_i,\\Gamma^{ 0 })_{{4} {5} {6} {7}}B^*(x_0,t_i,t_f,\\Gamma^{ 0 })_{{7} {4} {5} {6}}$"
      ],
      "text/plain": [
       "<IPython.core.display.Math object>"
      ]
     },
     "metadata": {},
     "output_type": "display_data"
    },
    {
     "data": {
      "text/latex": [
       "$\\displaystyle -1.0 B(x_1,t_i,\\Gamma^{ 1 })_{{12} {13} {14} {15}}B^*(x_0,t_i,t_f,\\Gamma^{ 0 })_{{13} {14} {15} {12}}$"
      ],
      "text/plain": [
       "<IPython.core.display.Math object>"
      ]
     },
     "metadata": {},
     "output_type": "display_data"
    },
    {
     "data": {
      "text/latex": [
       "$\\displaystyle 1.0 B(x_1,t_i,\\Gamma^{ 1 })_{{12} {13} {14} {15}}B^*(x_0,t_i,t_f,\\Gamma^{ 0 })_{{13} {12} {15} {14}}$"
      ],
      "text/plain": [
       "<IPython.core.display.Math object>"
      ]
     },
     "metadata": {},
     "output_type": "display_data"
    },
    {
     "data": {
      "text/latex": [
       "$\\displaystyle 1.0 B(x_1,t_i,\\Gamma^{ 1 })_{{12} {13} {14} {15}}B^*(x_0,t_i,t_f,\\Gamma^{ 0 })_{{15} {14} {13} {12}}$"
      ],
      "text/plain": [
       "<IPython.core.display.Math object>"
      ]
     },
     "metadata": {},
     "output_type": "display_data"
    },
    {
     "data": {
      "text/latex": [
       "$\\displaystyle -1.0 B(x_1,t_i,\\Gamma^{ 1 })_{{12} {13} {14} {15}}B^*(x_0,t_i,t_f,\\Gamma^{ 0 })_{{15} {12} {13} {14}}$"
      ],
      "text/plain": [
       "<IPython.core.display.Math object>"
      ]
     },
     "metadata": {},
     "output_type": "display_data"
    },
    {
     "data": {
      "text/latex": [
       "$\\displaystyle -1.0 B(x_1,t_i,\\Gamma^{ 2 })_{{20} {21} {22} {23}}B^*(x_0,t_i,t_f,\\Gamma^{ 0 })_{{21} {22} {23} {20}}$"
      ],
      "text/plain": [
       "<IPython.core.display.Math object>"
      ]
     },
     "metadata": {},
     "output_type": "display_data"
    },
    {
     "data": {
      "text/latex": [
       "$\\displaystyle 1.0 B(x_1,t_i,\\Gamma^{ 2 })_{{20} {21} {22} {23}}B^*(x_0,t_i,t_f,\\Gamma^{ 0 })_{{21} {20} {23} {22}}$"
      ],
      "text/plain": [
       "<IPython.core.display.Math object>"
      ]
     },
     "metadata": {},
     "output_type": "display_data"
    },
    {
     "data": {
      "text/latex": [
       "$\\displaystyle 1.0 B(x_1,t_i,\\Gamma^{ 2 })_{{20} {21} {22} {23}}B^*(x_0,t_i,t_f,\\Gamma^{ 0 })_{{23} {22} {21} {20}}$"
      ],
      "text/plain": [
       "<IPython.core.display.Math object>"
      ]
     },
     "metadata": {},
     "output_type": "display_data"
    },
    {
     "data": {
      "text/latex": [
       "$\\displaystyle -1.0 B(x_1,t_i,\\Gamma^{ 2 })_{{20} {21} {22} {23}}B^*(x_0,t_i,t_f,\\Gamma^{ 0 })_{{23} {20} {21} {22}}$"
      ],
      "text/plain": [
       "<IPython.core.display.Math object>"
      ]
     },
     "metadata": {},
     "output_type": "display_data"
    },
    {
     "data": {
      "text/latex": [
       "$\\displaystyle -1.0 B(x_1,t_i,\\Gamma^{ 3 })_{{28} {29} {30} {31}}B^*(x_0,t_i,t_f,\\Gamma^{ 0 })_{{29} {30} {31} {28}}$"
      ],
      "text/plain": [
       "<IPython.core.display.Math object>"
      ]
     },
     "metadata": {},
     "output_type": "display_data"
    },
    {
     "data": {
      "text/latex": [
       "$\\displaystyle 1.0 B(x_1,t_i,\\Gamma^{ 3 })_{{28} {29} {30} {31}}B^*(x_0,t_i,t_f,\\Gamma^{ 0 })_{{29} {28} {31} {30}}$"
      ],
      "text/plain": [
       "<IPython.core.display.Math object>"
      ]
     },
     "metadata": {},
     "output_type": "display_data"
    },
    {
     "data": {
      "text/latex": [
       "$\\displaystyle 1.0 B(x_1,t_i,\\Gamma^{ 3 })_{{28} {29} {30} {31}}B^*(x_0,t_i,t_f,\\Gamma^{ 0 })_{{31} {30} {29} {28}}$"
      ],
      "text/plain": [
       "<IPython.core.display.Math object>"
      ]
     },
     "metadata": {},
     "output_type": "display_data"
    },
    {
     "data": {
      "text/latex": [
       "$\\displaystyle -1.0 B(x_1,t_i,\\Gamma^{ 3 })_{{28} {29} {30} {31}}B^*(x_0,t_i,t_f,\\Gamma^{ 0 })_{{31} {28} {29} {30}}$"
      ],
      "text/plain": [
       "<IPython.core.display.Math object>"
      ]
     },
     "metadata": {},
     "output_type": "display_data"
    },
    {
     "data": {
      "text/latex": [
       "$\\displaystyle -1.0 B(x_1,t_i,\\Gamma^{ 4 })_{{36} {37} {38} {39}}B^*(x_0,t_i,t_f,\\Gamma^{ 0 })_{{37} {38} {39} {36}}$"
      ],
      "text/plain": [
       "<IPython.core.display.Math object>"
      ]
     },
     "metadata": {},
     "output_type": "display_data"
    },
    {
     "data": {
      "text/latex": [
       "$\\displaystyle 1.0 B(x_1,t_i,\\Gamma^{ 4 })_{{36} {37} {38} {39}}B^*(x_0,t_i,t_f,\\Gamma^{ 0 })_{{37} {36} {39} {38}}$"
      ],
      "text/plain": [
       "<IPython.core.display.Math object>"
      ]
     },
     "metadata": {},
     "output_type": "display_data"
    },
    {
     "data": {
      "text/latex": [
       "$\\displaystyle 1.0 B(x_1,t_i,\\Gamma^{ 4 })_{{36} {37} {38} {39}}B^*(x_0,t_i,t_f,\\Gamma^{ 0 })_{{39} {38} {37} {36}}$"
      ],
      "text/plain": [
       "<IPython.core.display.Math object>"
      ]
     },
     "metadata": {},
     "output_type": "display_data"
    },
    {
     "data": {
      "text/latex": [
       "$\\displaystyle -1.0 B(x_1,t_i,\\Gamma^{ 4 })_{{36} {37} {38} {39}}B^*(x_0,t_i,t_f,\\Gamma^{ 0 })_{{39} {36} {37} {38}}$"
      ],
      "text/plain": [
       "<IPython.core.display.Math object>"
      ]
     },
     "metadata": {},
     "output_type": "display_data"
    },
    {
     "data": {
      "text/latex": [
       "$\\displaystyle -1.0 B(x_1,t_i,\\Gamma^{ 5 })_{{44} {45} {46} {47}}B^*(x_0,t_i,t_f,\\Gamma^{ 0 })_{{45} {46} {47} {44}}$"
      ],
      "text/plain": [
       "<IPython.core.display.Math object>"
      ]
     },
     "metadata": {},
     "output_type": "display_data"
    },
    {
     "data": {
      "text/latex": [
       "$\\displaystyle 1.0 B(x_1,t_i,\\Gamma^{ 5 })_{{44} {45} {46} {47}}B^*(x_0,t_i,t_f,\\Gamma^{ 0 })_{{45} {44} {47} {46}}$"
      ],
      "text/plain": [
       "<IPython.core.display.Math object>"
      ]
     },
     "metadata": {},
     "output_type": "display_data"
    },
    {
     "data": {
      "text/latex": [
       "$\\displaystyle 1.0 B(x_1,t_i,\\Gamma^{ 5 })_{{44} {45} {46} {47}}B^*(x_0,t_i,t_f,\\Gamma^{ 0 })_{{47} {46} {45} {44}}$"
      ],
      "text/plain": [
       "<IPython.core.display.Math object>"
      ]
     },
     "metadata": {},
     "output_type": "display_data"
    },
    {
     "data": {
      "text/latex": [
       "$\\displaystyle -1.0 B(x_1,t_i,\\Gamma^{ 5 })_{{44} {45} {46} {47}}B^*(x_0,t_i,t_f,\\Gamma^{ 0 })_{{47} {44} {45} {46}}$"
      ],
      "text/plain": [
       "<IPython.core.display.Math object>"
      ]
     },
     "metadata": {},
     "output_type": "display_data"
    },
    {
     "data": {
      "text/latex": [
       "$\\displaystyle -1.0 B^*(x_0,t_i,t_f,\\Gamma^{ 1 })_{{5} {6} {7} {4}}B(x_1,t_i,\\Gamma^{ 0 })_{{4} {5} {6} {7}}$"
      ],
      "text/plain": [
       "<IPython.core.display.Math object>"
      ]
     },
     "metadata": {},
     "output_type": "display_data"
    },
    {
     "data": {
      "text/latex": [
       "$\\displaystyle 1.0 B^*(x_0,t_i,t_f,\\Gamma^{ 1 })_{{5} {4} {7} {6}}B(x_1,t_i,\\Gamma^{ 0 })_{{4} {5} {6} {7}}$"
      ],
      "text/plain": [
       "<IPython.core.display.Math object>"
      ]
     },
     "metadata": {},
     "output_type": "display_data"
    },
    {
     "data": {
      "text/latex": [
       "$\\displaystyle 1.0 B^*(x_0,t_i,t_f,\\Gamma^{ 1 })_{{7} {6} {5} {4}}B(x_1,t_i,\\Gamma^{ 0 })_{{4} {5} {6} {7}}$"
      ],
      "text/plain": [
       "<IPython.core.display.Math object>"
      ]
     },
     "metadata": {},
     "output_type": "display_data"
    },
    {
     "data": {
      "text/latex": [
       "$\\displaystyle -1.0 B^*(x_0,t_i,t_f,\\Gamma^{ 1 })_{{7} {4} {5} {6}}B(x_1,t_i,\\Gamma^{ 0 })_{{4} {5} {6} {7}}$"
      ],
      "text/plain": [
       "<IPython.core.display.Math object>"
      ]
     },
     "metadata": {},
     "output_type": "display_data"
    },
    {
     "data": {
      "text/latex": [
       "$\\displaystyle -1.0 B^*(x_0,t_i,t_f,\\Gamma^{ 1 })_{{13} {14} {15} {12}}B(x_1,t_i,\\Gamma^{ 1 })_{{12} {13} {14} {15}}$"
      ],
      "text/plain": [
       "<IPython.core.display.Math object>"
      ]
     },
     "metadata": {},
     "output_type": "display_data"
    },
    {
     "data": {
      "text/latex": [
       "$\\displaystyle 1.0 B^*(x_0,t_i,t_f,\\Gamma^{ 1 })_{{13} {12} {15} {14}}B(x_1,t_i,\\Gamma^{ 1 })_{{12} {13} {14} {15}}$"
      ],
      "text/plain": [
       "<IPython.core.display.Math object>"
      ]
     },
     "metadata": {},
     "output_type": "display_data"
    },
    {
     "data": {
      "text/latex": [
       "$\\displaystyle 1.0 B^*(x_0,t_i,t_f,\\Gamma^{ 1 })_{{15} {14} {13} {12}}B(x_1,t_i,\\Gamma^{ 1 })_{{12} {13} {14} {15}}$"
      ],
      "text/plain": [
       "<IPython.core.display.Math object>"
      ]
     },
     "metadata": {},
     "output_type": "display_data"
    },
    {
     "data": {
      "text/latex": [
       "$\\displaystyle -1.0 B^*(x_0,t_i,t_f,\\Gamma^{ 1 })_{{15} {12} {13} {14}}B(x_1,t_i,\\Gamma^{ 1 })_{{12} {13} {14} {15}}$"
      ],
      "text/plain": [
       "<IPython.core.display.Math object>"
      ]
     },
     "metadata": {},
     "output_type": "display_data"
    },
    {
     "data": {
      "text/latex": [
       "$\\displaystyle -1.0 B(x_1,t_i,\\Gamma^{ 2 })_{{20} {21} {22} {23}}B^*(x_0,t_i,t_f,\\Gamma^{ 1 })_{{21} {22} {23} {20}}$"
      ],
      "text/plain": [
       "<IPython.core.display.Math object>"
      ]
     },
     "metadata": {},
     "output_type": "display_data"
    },
    {
     "data": {
      "text/latex": [
       "$\\displaystyle 1.0 B(x_1,t_i,\\Gamma^{ 2 })_{{20} {21} {22} {23}}B^*(x_0,t_i,t_f,\\Gamma^{ 1 })_{{21} {20} {23} {22}}$"
      ],
      "text/plain": [
       "<IPython.core.display.Math object>"
      ]
     },
     "metadata": {},
     "output_type": "display_data"
    },
    {
     "data": {
      "text/latex": [
       "$\\displaystyle 1.0 B(x_1,t_i,\\Gamma^{ 2 })_{{20} {21} {22} {23}}B^*(x_0,t_i,t_f,\\Gamma^{ 1 })_{{23} {22} {21} {20}}$"
      ],
      "text/plain": [
       "<IPython.core.display.Math object>"
      ]
     },
     "metadata": {},
     "output_type": "display_data"
    },
    {
     "data": {
      "text/latex": [
       "$\\displaystyle -1.0 B(x_1,t_i,\\Gamma^{ 2 })_{{20} {21} {22} {23}}B^*(x_0,t_i,t_f,\\Gamma^{ 1 })_{{23} {20} {21} {22}}$"
      ],
      "text/plain": [
       "<IPython.core.display.Math object>"
      ]
     },
     "metadata": {},
     "output_type": "display_data"
    },
    {
     "data": {
      "text/latex": [
       "$\\displaystyle -1.0 B(x_1,t_i,\\Gamma^{ 3 })_{{28} {29} {30} {31}}B^*(x_0,t_i,t_f,\\Gamma^{ 1 })_{{29} {30} {31} {28}}$"
      ],
      "text/plain": [
       "<IPython.core.display.Math object>"
      ]
     },
     "metadata": {},
     "output_type": "display_data"
    },
    {
     "data": {
      "text/latex": [
       "$\\displaystyle 1.0 B(x_1,t_i,\\Gamma^{ 3 })_{{28} {29} {30} {31}}B^*(x_0,t_i,t_f,\\Gamma^{ 1 })_{{29} {28} {31} {30}}$"
      ],
      "text/plain": [
       "<IPython.core.display.Math object>"
      ]
     },
     "metadata": {},
     "output_type": "display_data"
    },
    {
     "data": {
      "text/latex": [
       "$\\displaystyle 1.0 B(x_1,t_i,\\Gamma^{ 3 })_{{28} {29} {30} {31}}B^*(x_0,t_i,t_f,\\Gamma^{ 1 })_{{31} {30} {29} {28}}$"
      ],
      "text/plain": [
       "<IPython.core.display.Math object>"
      ]
     },
     "metadata": {},
     "output_type": "display_data"
    },
    {
     "data": {
      "text/latex": [
       "$\\displaystyle -1.0 B(x_1,t_i,\\Gamma^{ 3 })_{{28} {29} {30} {31}}B^*(x_0,t_i,t_f,\\Gamma^{ 1 })_{{31} {28} {29} {30}}$"
      ],
      "text/plain": [
       "<IPython.core.display.Math object>"
      ]
     },
     "metadata": {},
     "output_type": "display_data"
    },
    {
     "data": {
      "text/latex": [
       "$\\displaystyle -1.0 B(x_1,t_i,\\Gamma^{ 4 })_{{36} {37} {38} {39}}B^*(x_0,t_i,t_f,\\Gamma^{ 1 })_{{37} {38} {39} {36}}$"
      ],
      "text/plain": [
       "<IPython.core.display.Math object>"
      ]
     },
     "metadata": {},
     "output_type": "display_data"
    },
    {
     "data": {
      "text/latex": [
       "$\\displaystyle 1.0 B(x_1,t_i,\\Gamma^{ 4 })_{{36} {37} {38} {39}}B^*(x_0,t_i,t_f,\\Gamma^{ 1 })_{{37} {36} {39} {38}}$"
      ],
      "text/plain": [
       "<IPython.core.display.Math object>"
      ]
     },
     "metadata": {},
     "output_type": "display_data"
    },
    {
     "data": {
      "text/latex": [
       "$\\displaystyle 1.0 B(x_1,t_i,\\Gamma^{ 4 })_{{36} {37} {38} {39}}B^*(x_0,t_i,t_f,\\Gamma^{ 1 })_{{39} {38} {37} {36}}$"
      ],
      "text/plain": [
       "<IPython.core.display.Math object>"
      ]
     },
     "metadata": {},
     "output_type": "display_data"
    },
    {
     "data": {
      "text/latex": [
       "$\\displaystyle -1.0 B(x_1,t_i,\\Gamma^{ 4 })_{{36} {37} {38} {39}}B^*(x_0,t_i,t_f,\\Gamma^{ 1 })_{{39} {36} {37} {38}}$"
      ],
      "text/plain": [
       "<IPython.core.display.Math object>"
      ]
     },
     "metadata": {},
     "output_type": "display_data"
    },
    {
     "data": {
      "text/latex": [
       "$\\displaystyle -1.0 B(x_1,t_i,\\Gamma^{ 5 })_{{44} {45} {46} {47}}B^*(x_0,t_i,t_f,\\Gamma^{ 1 })_{{45} {46} {47} {44}}$"
      ],
      "text/plain": [
       "<IPython.core.display.Math object>"
      ]
     },
     "metadata": {},
     "output_type": "display_data"
    },
    {
     "data": {
      "text/latex": [
       "$\\displaystyle 1.0 B(x_1,t_i,\\Gamma^{ 5 })_{{44} {45} {46} {47}}B^*(x_0,t_i,t_f,\\Gamma^{ 1 })_{{45} {44} {47} {46}}$"
      ],
      "text/plain": [
       "<IPython.core.display.Math object>"
      ]
     },
     "metadata": {},
     "output_type": "display_data"
    },
    {
     "data": {
      "text/latex": [
       "$\\displaystyle 1.0 B(x_1,t_i,\\Gamma^{ 5 })_{{44} {45} {46} {47}}B^*(x_0,t_i,t_f,\\Gamma^{ 1 })_{{47} {46} {45} {44}}$"
      ],
      "text/plain": [
       "<IPython.core.display.Math object>"
      ]
     },
     "metadata": {},
     "output_type": "display_data"
    },
    {
     "data": {
      "text/latex": [
       "$\\displaystyle -1.0 B(x_1,t_i,\\Gamma^{ 5 })_{{44} {45} {46} {47}}B^*(x_0,t_i,t_f,\\Gamma^{ 1 })_{{47} {44} {45} {46}}$"
      ],
      "text/plain": [
       "<IPython.core.display.Math object>"
      ]
     },
     "metadata": {},
     "output_type": "display_data"
    },
    {
     "data": {
      "text/latex": [
       "$\\displaystyle -1.0 B^*(x_0,t_i,t_f,\\Gamma^{ 2 })_{{5} {6} {7} {4}}B(x_1,t_i,\\Gamma^{ 0 })_{{4} {5} {6} {7}}$"
      ],
      "text/plain": [
       "<IPython.core.display.Math object>"
      ]
     },
     "metadata": {},
     "output_type": "display_data"
    },
    {
     "data": {
      "text/latex": [
       "$\\displaystyle 1.0 B^*(x_0,t_i,t_f,\\Gamma^{ 2 })_{{5} {4} {7} {6}}B(x_1,t_i,\\Gamma^{ 0 })_{{4} {5} {6} {7}}$"
      ],
      "text/plain": [
       "<IPython.core.display.Math object>"
      ]
     },
     "metadata": {},
     "output_type": "display_data"
    },
    {
     "data": {
      "text/latex": [
       "$\\displaystyle 1.0 B^*(x_0,t_i,t_f,\\Gamma^{ 2 })_{{7} {6} {5} {4}}B(x_1,t_i,\\Gamma^{ 0 })_{{4} {5} {6} {7}}$"
      ],
      "text/plain": [
       "<IPython.core.display.Math object>"
      ]
     },
     "metadata": {},
     "output_type": "display_data"
    },
    {
     "data": {
      "text/latex": [
       "$\\displaystyle -1.0 B^*(x_0,t_i,t_f,\\Gamma^{ 2 })_{{7} {4} {5} {6}}B(x_1,t_i,\\Gamma^{ 0 })_{{4} {5} {6} {7}}$"
      ],
      "text/plain": [
       "<IPython.core.display.Math object>"
      ]
     },
     "metadata": {},
     "output_type": "display_data"
    },
    {
     "data": {
      "text/latex": [
       "$\\displaystyle -1.0 B^*(x_0,t_i,t_f,\\Gamma^{ 2 })_{{13} {14} {15} {12}}B(x_1,t_i,\\Gamma^{ 1 })_{{12} {13} {14} {15}}$"
      ],
      "text/plain": [
       "<IPython.core.display.Math object>"
      ]
     },
     "metadata": {},
     "output_type": "display_data"
    },
    {
     "data": {
      "text/latex": [
       "$\\displaystyle 1.0 B^*(x_0,t_i,t_f,\\Gamma^{ 2 })_{{13} {12} {15} {14}}B(x_1,t_i,\\Gamma^{ 1 })_{{12} {13} {14} {15}}$"
      ],
      "text/plain": [
       "<IPython.core.display.Math object>"
      ]
     },
     "metadata": {},
     "output_type": "display_data"
    },
    {
     "data": {
      "text/latex": [
       "$\\displaystyle 1.0 B^*(x_0,t_i,t_f,\\Gamma^{ 2 })_{{15} {14} {13} {12}}B(x_1,t_i,\\Gamma^{ 1 })_{{12} {13} {14} {15}}$"
      ],
      "text/plain": [
       "<IPython.core.display.Math object>"
      ]
     },
     "metadata": {},
     "output_type": "display_data"
    },
    {
     "data": {
      "text/latex": [
       "$\\displaystyle -1.0 B^*(x_0,t_i,t_f,\\Gamma^{ 2 })_{{15} {12} {13} {14}}B(x_1,t_i,\\Gamma^{ 1 })_{{12} {13} {14} {15}}$"
      ],
      "text/plain": [
       "<IPython.core.display.Math object>"
      ]
     },
     "metadata": {},
     "output_type": "display_data"
    },
    {
     "data": {
      "text/latex": [
       "$\\displaystyle -1.0 B(x_1,t_i,\\Gamma^{ 2 })_{{20} {21} {22} {23}}B^*(x_0,t_i,t_f,\\Gamma^{ 2 })_{{21} {22} {23} {20}}$"
      ],
      "text/plain": [
       "<IPython.core.display.Math object>"
      ]
     },
     "metadata": {},
     "output_type": "display_data"
    },
    {
     "data": {
      "text/latex": [
       "$\\displaystyle 1.0 B(x_1,t_i,\\Gamma^{ 2 })_{{20} {21} {22} {23}}B^*(x_0,t_i,t_f,\\Gamma^{ 2 })_{{21} {20} {23} {22}}$"
      ],
      "text/plain": [
       "<IPython.core.display.Math object>"
      ]
     },
     "metadata": {},
     "output_type": "display_data"
    },
    {
     "data": {
      "text/latex": [
       "$\\displaystyle 1.0 B(x_1,t_i,\\Gamma^{ 2 })_{{20} {21} {22} {23}}B^*(x_0,t_i,t_f,\\Gamma^{ 2 })_{{23} {22} {21} {20}}$"
      ],
      "text/plain": [
       "<IPython.core.display.Math object>"
      ]
     },
     "metadata": {},
     "output_type": "display_data"
    },
    {
     "data": {
      "text/latex": [
       "$\\displaystyle -1.0 B(x_1,t_i,\\Gamma^{ 2 })_{{20} {21} {22} {23}}B^*(x_0,t_i,t_f,\\Gamma^{ 2 })_{{23} {20} {21} {22}}$"
      ],
      "text/plain": [
       "<IPython.core.display.Math object>"
      ]
     },
     "metadata": {},
     "output_type": "display_data"
    },
    {
     "data": {
      "text/latex": [
       "$\\displaystyle -1.0 B(x_1,t_i,\\Gamma^{ 3 })_{{28} {29} {30} {31}}B^*(x_0,t_i,t_f,\\Gamma^{ 2 })_{{29} {30} {31} {28}}$"
      ],
      "text/plain": [
       "<IPython.core.display.Math object>"
      ]
     },
     "metadata": {},
     "output_type": "display_data"
    },
    {
     "data": {
      "text/latex": [
       "$\\displaystyle 1.0 B(x_1,t_i,\\Gamma^{ 3 })_{{28} {29} {30} {31}}B^*(x_0,t_i,t_f,\\Gamma^{ 2 })_{{29} {28} {31} {30}}$"
      ],
      "text/plain": [
       "<IPython.core.display.Math object>"
      ]
     },
     "metadata": {},
     "output_type": "display_data"
    },
    {
     "data": {
      "text/latex": [
       "$\\displaystyle 1.0 B(x_1,t_i,\\Gamma^{ 3 })_{{28} {29} {30} {31}}B^*(x_0,t_i,t_f,\\Gamma^{ 2 })_{{31} {30} {29} {28}}$"
      ],
      "text/plain": [
       "<IPython.core.display.Math object>"
      ]
     },
     "metadata": {},
     "output_type": "display_data"
    },
    {
     "data": {
      "text/latex": [
       "$\\displaystyle -1.0 B(x_1,t_i,\\Gamma^{ 3 })_{{28} {29} {30} {31}}B^*(x_0,t_i,t_f,\\Gamma^{ 2 })_{{31} {28} {29} {30}}$"
      ],
      "text/plain": [
       "<IPython.core.display.Math object>"
      ]
     },
     "metadata": {},
     "output_type": "display_data"
    },
    {
     "data": {
      "text/latex": [
       "$\\displaystyle -1.0 B(x_1,t_i,\\Gamma^{ 4 })_{{36} {37} {38} {39}}B^*(x_0,t_i,t_f,\\Gamma^{ 2 })_{{37} {38} {39} {36}}$"
      ],
      "text/plain": [
       "<IPython.core.display.Math object>"
      ]
     },
     "metadata": {},
     "output_type": "display_data"
    },
    {
     "data": {
      "text/latex": [
       "$\\displaystyle 1.0 B(x_1,t_i,\\Gamma^{ 4 })_{{36} {37} {38} {39}}B^*(x_0,t_i,t_f,\\Gamma^{ 2 })_{{37} {36} {39} {38}}$"
      ],
      "text/plain": [
       "<IPython.core.display.Math object>"
      ]
     },
     "metadata": {},
     "output_type": "display_data"
    },
    {
     "data": {
      "text/latex": [
       "$\\displaystyle 1.0 B(x_1,t_i,\\Gamma^{ 4 })_{{36} {37} {38} {39}}B^*(x_0,t_i,t_f,\\Gamma^{ 2 })_{{39} {38} {37} {36}}$"
      ],
      "text/plain": [
       "<IPython.core.display.Math object>"
      ]
     },
     "metadata": {},
     "output_type": "display_data"
    },
    {
     "data": {
      "text/latex": [
       "$\\displaystyle -1.0 B(x_1,t_i,\\Gamma^{ 4 })_{{36} {37} {38} {39}}B^*(x_0,t_i,t_f,\\Gamma^{ 2 })_{{39} {36} {37} {38}}$"
      ],
      "text/plain": [
       "<IPython.core.display.Math object>"
      ]
     },
     "metadata": {},
     "output_type": "display_data"
    },
    {
     "data": {
      "text/latex": [
       "$\\displaystyle -1.0 B(x_1,t_i,\\Gamma^{ 5 })_{{44} {45} {46} {47}}B^*(x_0,t_i,t_f,\\Gamma^{ 2 })_{{45} {46} {47} {44}}$"
      ],
      "text/plain": [
       "<IPython.core.display.Math object>"
      ]
     },
     "metadata": {},
     "output_type": "display_data"
    },
    {
     "data": {
      "text/latex": [
       "$\\displaystyle 1.0 B(x_1,t_i,\\Gamma^{ 5 })_{{44} {45} {46} {47}}B^*(x_0,t_i,t_f,\\Gamma^{ 2 })_{{45} {44} {47} {46}}$"
      ],
      "text/plain": [
       "<IPython.core.display.Math object>"
      ]
     },
     "metadata": {},
     "output_type": "display_data"
    },
    {
     "data": {
      "text/latex": [
       "$\\displaystyle 1.0 B(x_1,t_i,\\Gamma^{ 5 })_{{44} {45} {46} {47}}B^*(x_0,t_i,t_f,\\Gamma^{ 2 })_{{47} {46} {45} {44}}$"
      ],
      "text/plain": [
       "<IPython.core.display.Math object>"
      ]
     },
     "metadata": {},
     "output_type": "display_data"
    },
    {
     "data": {
      "text/latex": [
       "$\\displaystyle -1.0 B(x_1,t_i,\\Gamma^{ 5 })_{{44} {45} {46} {47}}B^*(x_0,t_i,t_f,\\Gamma^{ 2 })_{{47} {44} {45} {46}}$"
      ],
      "text/plain": [
       "<IPython.core.display.Math object>"
      ]
     },
     "metadata": {},
     "output_type": "display_data"
    },
    {
     "data": {
      "text/latex": [
       "$\\displaystyle -1.0 B^*(x_0,t_i,t_f,\\Gamma^{ 3 })_{{5} {6} {7} {4}}B(x_1,t_i,\\Gamma^{ 0 })_{{4} {5} {6} {7}}$"
      ],
      "text/plain": [
       "<IPython.core.display.Math object>"
      ]
     },
     "metadata": {},
     "output_type": "display_data"
    },
    {
     "data": {
      "text/latex": [
       "$\\displaystyle 1.0 B^*(x_0,t_i,t_f,\\Gamma^{ 3 })_{{5} {4} {7} {6}}B(x_1,t_i,\\Gamma^{ 0 })_{{4} {5} {6} {7}}$"
      ],
      "text/plain": [
       "<IPython.core.display.Math object>"
      ]
     },
     "metadata": {},
     "output_type": "display_data"
    },
    {
     "data": {
      "text/latex": [
       "$\\displaystyle 1.0 B^*(x_0,t_i,t_f,\\Gamma^{ 3 })_{{7} {6} {5} {4}}B(x_1,t_i,\\Gamma^{ 0 })_{{4} {5} {6} {7}}$"
      ],
      "text/plain": [
       "<IPython.core.display.Math object>"
      ]
     },
     "metadata": {},
     "output_type": "display_data"
    },
    {
     "data": {
      "text/latex": [
       "$\\displaystyle -1.0 B^*(x_0,t_i,t_f,\\Gamma^{ 3 })_{{7} {4} {5} {6}}B(x_1,t_i,\\Gamma^{ 0 })_{{4} {5} {6} {7}}$"
      ],
      "text/plain": [
       "<IPython.core.display.Math object>"
      ]
     },
     "metadata": {},
     "output_type": "display_data"
    },
    {
     "data": {
      "text/latex": [
       "$\\displaystyle -1.0 B^*(x_0,t_i,t_f,\\Gamma^{ 3 })_{{13} {14} {15} {12}}B(x_1,t_i,\\Gamma^{ 1 })_{{12} {13} {14} {15}}$"
      ],
      "text/plain": [
       "<IPython.core.display.Math object>"
      ]
     },
     "metadata": {},
     "output_type": "display_data"
    },
    {
     "data": {
      "text/latex": [
       "$\\displaystyle 1.0 B^*(x_0,t_i,t_f,\\Gamma^{ 3 })_{{13} {12} {15} {14}}B(x_1,t_i,\\Gamma^{ 1 })_{{12} {13} {14} {15}}$"
      ],
      "text/plain": [
       "<IPython.core.display.Math object>"
      ]
     },
     "metadata": {},
     "output_type": "display_data"
    },
    {
     "data": {
      "text/latex": [
       "$\\displaystyle 1.0 B^*(x_0,t_i,t_f,\\Gamma^{ 3 })_{{15} {14} {13} {12}}B(x_1,t_i,\\Gamma^{ 1 })_{{12} {13} {14} {15}}$"
      ],
      "text/plain": [
       "<IPython.core.display.Math object>"
      ]
     },
     "metadata": {},
     "output_type": "display_data"
    },
    {
     "data": {
      "text/latex": [
       "$\\displaystyle -1.0 B^*(x_0,t_i,t_f,\\Gamma^{ 3 })_{{15} {12} {13} {14}}B(x_1,t_i,\\Gamma^{ 1 })_{{12} {13} {14} {15}}$"
      ],
      "text/plain": [
       "<IPython.core.display.Math object>"
      ]
     },
     "metadata": {},
     "output_type": "display_data"
    },
    {
     "data": {
      "text/latex": [
       "$\\displaystyle -1.0 B^*(x_0,t_i,t_f,\\Gamma^{ 3 })_{{21} {22} {23} {20}}B(x_1,t_i,\\Gamma^{ 2 })_{{20} {21} {22} {23}}$"
      ],
      "text/plain": [
       "<IPython.core.display.Math object>"
      ]
     },
     "metadata": {},
     "output_type": "display_data"
    },
    {
     "data": {
      "text/latex": [
       "$\\displaystyle 1.0 B^*(x_0,t_i,t_f,\\Gamma^{ 3 })_{{21} {20} {23} {22}}B(x_1,t_i,\\Gamma^{ 2 })_{{20} {21} {22} {23}}$"
      ],
      "text/plain": [
       "<IPython.core.display.Math object>"
      ]
     },
     "metadata": {},
     "output_type": "display_data"
    },
    {
     "data": {
      "text/latex": [
       "$\\displaystyle 1.0 B^*(x_0,t_i,t_f,\\Gamma^{ 3 })_{{23} {22} {21} {20}}B(x_1,t_i,\\Gamma^{ 2 })_{{20} {21} {22} {23}}$"
      ],
      "text/plain": [
       "<IPython.core.display.Math object>"
      ]
     },
     "metadata": {},
     "output_type": "display_data"
    },
    {
     "data": {
      "text/latex": [
       "$\\displaystyle -1.0 B^*(x_0,t_i,t_f,\\Gamma^{ 3 })_{{23} {20} {21} {22}}B(x_1,t_i,\\Gamma^{ 2 })_{{20} {21} {22} {23}}$"
      ],
      "text/plain": [
       "<IPython.core.display.Math object>"
      ]
     },
     "metadata": {},
     "output_type": "display_data"
    },
    {
     "data": {
      "text/latex": [
       "$\\displaystyle -1.0 B(x_1,t_i,\\Gamma^{ 3 })_{{28} {29} {30} {31}}B^*(x_0,t_i,t_f,\\Gamma^{ 3 })_{{29} {30} {31} {28}}$"
      ],
      "text/plain": [
       "<IPython.core.display.Math object>"
      ]
     },
     "metadata": {},
     "output_type": "display_data"
    },
    {
     "data": {
      "text/latex": [
       "$\\displaystyle 1.0 B(x_1,t_i,\\Gamma^{ 3 })_{{28} {29} {30} {31}}B^*(x_0,t_i,t_f,\\Gamma^{ 3 })_{{29} {28} {31} {30}}$"
      ],
      "text/plain": [
       "<IPython.core.display.Math object>"
      ]
     },
     "metadata": {},
     "output_type": "display_data"
    },
    {
     "data": {
      "text/latex": [
       "$\\displaystyle 1.0 B(x_1,t_i,\\Gamma^{ 3 })_{{28} {29} {30} {31}}B^*(x_0,t_i,t_f,\\Gamma^{ 3 })_{{31} {30} {29} {28}}$"
      ],
      "text/plain": [
       "<IPython.core.display.Math object>"
      ]
     },
     "metadata": {},
     "output_type": "display_data"
    },
    {
     "data": {
      "text/latex": [
       "$\\displaystyle -1.0 B(x_1,t_i,\\Gamma^{ 3 })_{{28} {29} {30} {31}}B^*(x_0,t_i,t_f,\\Gamma^{ 3 })_{{31} {28} {29} {30}}$"
      ],
      "text/plain": [
       "<IPython.core.display.Math object>"
      ]
     },
     "metadata": {},
     "output_type": "display_data"
    },
    {
     "data": {
      "text/latex": [
       "$\\displaystyle -1.0 B(x_1,t_i,\\Gamma^{ 4 })_{{36} {37} {38} {39}}B^*(x_0,t_i,t_f,\\Gamma^{ 3 })_{{37} {38} {39} {36}}$"
      ],
      "text/plain": [
       "<IPython.core.display.Math object>"
      ]
     },
     "metadata": {},
     "output_type": "display_data"
    },
    {
     "data": {
      "text/latex": [
       "$\\displaystyle 1.0 B(x_1,t_i,\\Gamma^{ 4 })_{{36} {37} {38} {39}}B^*(x_0,t_i,t_f,\\Gamma^{ 3 })_{{37} {36} {39} {38}}$"
      ],
      "text/plain": [
       "<IPython.core.display.Math object>"
      ]
     },
     "metadata": {},
     "output_type": "display_data"
    },
    {
     "data": {
      "text/latex": [
       "$\\displaystyle 1.0 B(x_1,t_i,\\Gamma^{ 4 })_{{36} {37} {38} {39}}B^*(x_0,t_i,t_f,\\Gamma^{ 3 })_{{39} {38} {37} {36}}$"
      ],
      "text/plain": [
       "<IPython.core.display.Math object>"
      ]
     },
     "metadata": {},
     "output_type": "display_data"
    },
    {
     "data": {
      "text/latex": [
       "$\\displaystyle -1.0 B(x_1,t_i,\\Gamma^{ 4 })_{{36} {37} {38} {39}}B^*(x_0,t_i,t_f,\\Gamma^{ 3 })_{{39} {36} {37} {38}}$"
      ],
      "text/plain": [
       "<IPython.core.display.Math object>"
      ]
     },
     "metadata": {},
     "output_type": "display_data"
    },
    {
     "data": {
      "text/latex": [
       "$\\displaystyle -1.0 B(x_1,t_i,\\Gamma^{ 5 })_{{44} {45} {46} {47}}B^*(x_0,t_i,t_f,\\Gamma^{ 3 })_{{45} {46} {47} {44}}$"
      ],
      "text/plain": [
       "<IPython.core.display.Math object>"
      ]
     },
     "metadata": {},
     "output_type": "display_data"
    },
    {
     "data": {
      "text/latex": [
       "$\\displaystyle 1.0 B(x_1,t_i,\\Gamma^{ 5 })_{{44} {45} {46} {47}}B^*(x_0,t_i,t_f,\\Gamma^{ 3 })_{{45} {44} {47} {46}}$"
      ],
      "text/plain": [
       "<IPython.core.display.Math object>"
      ]
     },
     "metadata": {},
     "output_type": "display_data"
    },
    {
     "data": {
      "text/latex": [
       "$\\displaystyle 1.0 B(x_1,t_i,\\Gamma^{ 5 })_{{44} {45} {46} {47}}B^*(x_0,t_i,t_f,\\Gamma^{ 3 })_{{47} {46} {45} {44}}$"
      ],
      "text/plain": [
       "<IPython.core.display.Math object>"
      ]
     },
     "metadata": {},
     "output_type": "display_data"
    },
    {
     "data": {
      "text/latex": [
       "$\\displaystyle -1.0 B(x_1,t_i,\\Gamma^{ 5 })_{{44} {45} {46} {47}}B^*(x_0,t_i,t_f,\\Gamma^{ 3 })_{{47} {44} {45} {46}}$"
      ],
      "text/plain": [
       "<IPython.core.display.Math object>"
      ]
     },
     "metadata": {},
     "output_type": "display_data"
    },
    {
     "data": {
      "text/latex": [
       "$\\displaystyle -1.0 B^*(x_0,t_i,t_f,\\Gamma^{ 4 })_{{5} {6} {7} {4}}B(x_1,t_i,\\Gamma^{ 0 })_{{4} {5} {6} {7}}$"
      ],
      "text/plain": [
       "<IPython.core.display.Math object>"
      ]
     },
     "metadata": {},
     "output_type": "display_data"
    },
    {
     "data": {
      "text/latex": [
       "$\\displaystyle 1.0 B^*(x_0,t_i,t_f,\\Gamma^{ 4 })_{{5} {4} {7} {6}}B(x_1,t_i,\\Gamma^{ 0 })_{{4} {5} {6} {7}}$"
      ],
      "text/plain": [
       "<IPython.core.display.Math object>"
      ]
     },
     "metadata": {},
     "output_type": "display_data"
    },
    {
     "data": {
      "text/latex": [
       "$\\displaystyle 1.0 B^*(x_0,t_i,t_f,\\Gamma^{ 4 })_{{7} {6} {5} {4}}B(x_1,t_i,\\Gamma^{ 0 })_{{4} {5} {6} {7}}$"
      ],
      "text/plain": [
       "<IPython.core.display.Math object>"
      ]
     },
     "metadata": {},
     "output_type": "display_data"
    },
    {
     "data": {
      "text/latex": [
       "$\\displaystyle -1.0 B^*(x_0,t_i,t_f,\\Gamma^{ 4 })_{{7} {4} {5} {6}}B(x_1,t_i,\\Gamma^{ 0 })_{{4} {5} {6} {7}}$"
      ],
      "text/plain": [
       "<IPython.core.display.Math object>"
      ]
     },
     "metadata": {},
     "output_type": "display_data"
    },
    {
     "data": {
      "text/latex": [
       "$\\displaystyle -1.0 B^*(x_0,t_i,t_f,\\Gamma^{ 4 })_{{13} {14} {15} {12}}B(x_1,t_i,\\Gamma^{ 1 })_{{12} {13} {14} {15}}$"
      ],
      "text/plain": [
       "<IPython.core.display.Math object>"
      ]
     },
     "metadata": {},
     "output_type": "display_data"
    },
    {
     "data": {
      "text/latex": [
       "$\\displaystyle 1.0 B^*(x_0,t_i,t_f,\\Gamma^{ 4 })_{{13} {12} {15} {14}}B(x_1,t_i,\\Gamma^{ 1 })_{{12} {13} {14} {15}}$"
      ],
      "text/plain": [
       "<IPython.core.display.Math object>"
      ]
     },
     "metadata": {},
     "output_type": "display_data"
    },
    {
     "data": {
      "text/latex": [
       "$\\displaystyle 1.0 B^*(x_0,t_i,t_f,\\Gamma^{ 4 })_{{15} {14} {13} {12}}B(x_1,t_i,\\Gamma^{ 1 })_{{12} {13} {14} {15}}$"
      ],
      "text/plain": [
       "<IPython.core.display.Math object>"
      ]
     },
     "metadata": {},
     "output_type": "display_data"
    },
    {
     "data": {
      "text/latex": [
       "$\\displaystyle -1.0 B^*(x_0,t_i,t_f,\\Gamma^{ 4 })_{{15} {12} {13} {14}}B(x_1,t_i,\\Gamma^{ 1 })_{{12} {13} {14} {15}}$"
      ],
      "text/plain": [
       "<IPython.core.display.Math object>"
      ]
     },
     "metadata": {},
     "output_type": "display_data"
    },
    {
     "data": {
      "text/latex": [
       "$\\displaystyle -1.0 B^*(x_0,t_i,t_f,\\Gamma^{ 4 })_{{21} {22} {23} {20}}B(x_1,t_i,\\Gamma^{ 2 })_{{20} {21} {22} {23}}$"
      ],
      "text/plain": [
       "<IPython.core.display.Math object>"
      ]
     },
     "metadata": {},
     "output_type": "display_data"
    },
    {
     "data": {
      "text/latex": [
       "$\\displaystyle 1.0 B^*(x_0,t_i,t_f,\\Gamma^{ 4 })_{{21} {20} {23} {22}}B(x_1,t_i,\\Gamma^{ 2 })_{{20} {21} {22} {23}}$"
      ],
      "text/plain": [
       "<IPython.core.display.Math object>"
      ]
     },
     "metadata": {},
     "output_type": "display_data"
    },
    {
     "data": {
      "text/latex": [
       "$\\displaystyle 1.0 B^*(x_0,t_i,t_f,\\Gamma^{ 4 })_{{23} {22} {21} {20}}B(x_1,t_i,\\Gamma^{ 2 })_{{20} {21} {22} {23}}$"
      ],
      "text/plain": [
       "<IPython.core.display.Math object>"
      ]
     },
     "metadata": {},
     "output_type": "display_data"
    },
    {
     "data": {
      "text/latex": [
       "$\\displaystyle -1.0 B^*(x_0,t_i,t_f,\\Gamma^{ 4 })_{{23} {20} {21} {22}}B(x_1,t_i,\\Gamma^{ 2 })_{{20} {21} {22} {23}}$"
      ],
      "text/plain": [
       "<IPython.core.display.Math object>"
      ]
     },
     "metadata": {},
     "output_type": "display_data"
    },
    {
     "data": {
      "text/latex": [
       "$\\displaystyle -1.0 B^*(x_0,t_i,t_f,\\Gamma^{ 4 })_{{29} {30} {31} {28}}B(x_1,t_i,\\Gamma^{ 3 })_{{28} {29} {30} {31}}$"
      ],
      "text/plain": [
       "<IPython.core.display.Math object>"
      ]
     },
     "metadata": {},
     "output_type": "display_data"
    },
    {
     "data": {
      "text/latex": [
       "$\\displaystyle 1.0 B^*(x_0,t_i,t_f,\\Gamma^{ 4 })_{{29} {28} {31} {30}}B(x_1,t_i,\\Gamma^{ 3 })_{{28} {29} {30} {31}}$"
      ],
      "text/plain": [
       "<IPython.core.display.Math object>"
      ]
     },
     "metadata": {},
     "output_type": "display_data"
    },
    {
     "data": {
      "text/latex": [
       "$\\displaystyle 1.0 B^*(x_0,t_i,t_f,\\Gamma^{ 4 })_{{31} {30} {29} {28}}B(x_1,t_i,\\Gamma^{ 3 })_{{28} {29} {30} {31}}$"
      ],
      "text/plain": [
       "<IPython.core.display.Math object>"
      ]
     },
     "metadata": {},
     "output_type": "display_data"
    },
    {
     "data": {
      "text/latex": [
       "$\\displaystyle -1.0 B^*(x_0,t_i,t_f,\\Gamma^{ 4 })_{{31} {28} {29} {30}}B(x_1,t_i,\\Gamma^{ 3 })_{{28} {29} {30} {31}}$"
      ],
      "text/plain": [
       "<IPython.core.display.Math object>"
      ]
     },
     "metadata": {},
     "output_type": "display_data"
    },
    {
     "data": {
      "text/latex": [
       "$\\displaystyle -1.0 B(x_1,t_i,\\Gamma^{ 4 })_{{36} {37} {38} {39}}B^*(x_0,t_i,t_f,\\Gamma^{ 4 })_{{37} {38} {39} {36}}$"
      ],
      "text/plain": [
       "<IPython.core.display.Math object>"
      ]
     },
     "metadata": {},
     "output_type": "display_data"
    },
    {
     "data": {
      "text/latex": [
       "$\\displaystyle 1.0 B(x_1,t_i,\\Gamma^{ 4 })_{{36} {37} {38} {39}}B^*(x_0,t_i,t_f,\\Gamma^{ 4 })_{{37} {36} {39} {38}}$"
      ],
      "text/plain": [
       "<IPython.core.display.Math object>"
      ]
     },
     "metadata": {},
     "output_type": "display_data"
    },
    {
     "data": {
      "text/latex": [
       "$\\displaystyle 1.0 B(x_1,t_i,\\Gamma^{ 4 })_{{36} {37} {38} {39}}B^*(x_0,t_i,t_f,\\Gamma^{ 4 })_{{39} {38} {37} {36}}$"
      ],
      "text/plain": [
       "<IPython.core.display.Math object>"
      ]
     },
     "metadata": {},
     "output_type": "display_data"
    },
    {
     "data": {
      "text/latex": [
       "$\\displaystyle -1.0 B(x_1,t_i,\\Gamma^{ 4 })_{{36} {37} {38} {39}}B^*(x_0,t_i,t_f,\\Gamma^{ 4 })_{{39} {36} {37} {38}}$"
      ],
      "text/plain": [
       "<IPython.core.display.Math object>"
      ]
     },
     "metadata": {},
     "output_type": "display_data"
    },
    {
     "data": {
      "text/latex": [
       "$\\displaystyle -1.0 B(x_1,t_i,\\Gamma^{ 5 })_{{44} {45} {46} {47}}B^*(x_0,t_i,t_f,\\Gamma^{ 4 })_{{45} {46} {47} {44}}$"
      ],
      "text/plain": [
       "<IPython.core.display.Math object>"
      ]
     },
     "metadata": {},
     "output_type": "display_data"
    },
    {
     "data": {
      "text/latex": [
       "$\\displaystyle 1.0 B(x_1,t_i,\\Gamma^{ 5 })_{{44} {45} {46} {47}}B^*(x_0,t_i,t_f,\\Gamma^{ 4 })_{{45} {44} {47} {46}}$"
      ],
      "text/plain": [
       "<IPython.core.display.Math object>"
      ]
     },
     "metadata": {},
     "output_type": "display_data"
    },
    {
     "data": {
      "text/latex": [
       "$\\displaystyle 1.0 B(x_1,t_i,\\Gamma^{ 5 })_{{44} {45} {46} {47}}B^*(x_0,t_i,t_f,\\Gamma^{ 4 })_{{47} {46} {45} {44}}$"
      ],
      "text/plain": [
       "<IPython.core.display.Math object>"
      ]
     },
     "metadata": {},
     "output_type": "display_data"
    },
    {
     "data": {
      "text/latex": [
       "$\\displaystyle -1.0 B(x_1,t_i,\\Gamma^{ 5 })_{{44} {45} {46} {47}}B^*(x_0,t_i,t_f,\\Gamma^{ 4 })_{{47} {44} {45} {46}}$"
      ],
      "text/plain": [
       "<IPython.core.display.Math object>"
      ]
     },
     "metadata": {},
     "output_type": "display_data"
    },
    {
     "data": {
      "text/latex": [
       "$\\displaystyle -1.0 B^*(x_0,t_i,t_f,\\Gamma^{ 5 })_{{5} {6} {7} {4}}B(x_1,t_i,\\Gamma^{ 0 })_{{4} {5} {6} {7}}$"
      ],
      "text/plain": [
       "<IPython.core.display.Math object>"
      ]
     },
     "metadata": {},
     "output_type": "display_data"
    },
    {
     "data": {
      "text/latex": [
       "$\\displaystyle 1.0 B^*(x_0,t_i,t_f,\\Gamma^{ 5 })_{{5} {4} {7} {6}}B(x_1,t_i,\\Gamma^{ 0 })_{{4} {5} {6} {7}}$"
      ],
      "text/plain": [
       "<IPython.core.display.Math object>"
      ]
     },
     "metadata": {},
     "output_type": "display_data"
    },
    {
     "data": {
      "text/latex": [
       "$\\displaystyle 1.0 B^*(x_0,t_i,t_f,\\Gamma^{ 5 })_{{7} {6} {5} {4}}B(x_1,t_i,\\Gamma^{ 0 })_{{4} {5} {6} {7}}$"
      ],
      "text/plain": [
       "<IPython.core.display.Math object>"
      ]
     },
     "metadata": {},
     "output_type": "display_data"
    },
    {
     "data": {
      "text/latex": [
       "$\\displaystyle -1.0 B^*(x_0,t_i,t_f,\\Gamma^{ 5 })_{{7} {4} {5} {6}}B(x_1,t_i,\\Gamma^{ 0 })_{{4} {5} {6} {7}}$"
      ],
      "text/plain": [
       "<IPython.core.display.Math object>"
      ]
     },
     "metadata": {},
     "output_type": "display_data"
    },
    {
     "data": {
      "text/latex": [
       "$\\displaystyle -1.0 B^*(x_0,t_i,t_f,\\Gamma^{ 5 })_{{13} {14} {15} {12}}B(x_1,t_i,\\Gamma^{ 1 })_{{12} {13} {14} {15}}$"
      ],
      "text/plain": [
       "<IPython.core.display.Math object>"
      ]
     },
     "metadata": {},
     "output_type": "display_data"
    },
    {
     "data": {
      "text/latex": [
       "$\\displaystyle 1.0 B^*(x_0,t_i,t_f,\\Gamma^{ 5 })_{{13} {12} {15} {14}}B(x_1,t_i,\\Gamma^{ 1 })_{{12} {13} {14} {15}}$"
      ],
      "text/plain": [
       "<IPython.core.display.Math object>"
      ]
     },
     "metadata": {},
     "output_type": "display_data"
    },
    {
     "data": {
      "text/latex": [
       "$\\displaystyle 1.0 B^*(x_0,t_i,t_f,\\Gamma^{ 5 })_{{15} {14} {13} {12}}B(x_1,t_i,\\Gamma^{ 1 })_{{12} {13} {14} {15}}$"
      ],
      "text/plain": [
       "<IPython.core.display.Math object>"
      ]
     },
     "metadata": {},
     "output_type": "display_data"
    },
    {
     "data": {
      "text/latex": [
       "$\\displaystyle -1.0 B^*(x_0,t_i,t_f,\\Gamma^{ 5 })_{{15} {12} {13} {14}}B(x_1,t_i,\\Gamma^{ 1 })_{{12} {13} {14} {15}}$"
      ],
      "text/plain": [
       "<IPython.core.display.Math object>"
      ]
     },
     "metadata": {},
     "output_type": "display_data"
    },
    {
     "data": {
      "text/latex": [
       "$\\displaystyle -1.0 B^*(x_0,t_i,t_f,\\Gamma^{ 5 })_{{21} {22} {23} {20}}B(x_1,t_i,\\Gamma^{ 2 })_{{20} {21} {22} {23}}$"
      ],
      "text/plain": [
       "<IPython.core.display.Math object>"
      ]
     },
     "metadata": {},
     "output_type": "display_data"
    },
    {
     "data": {
      "text/latex": [
       "$\\displaystyle 1.0 B^*(x_0,t_i,t_f,\\Gamma^{ 5 })_{{21} {20} {23} {22}}B(x_1,t_i,\\Gamma^{ 2 })_{{20} {21} {22} {23}}$"
      ],
      "text/plain": [
       "<IPython.core.display.Math object>"
      ]
     },
     "metadata": {},
     "output_type": "display_data"
    },
    {
     "data": {
      "text/latex": [
       "$\\displaystyle 1.0 B^*(x_0,t_i,t_f,\\Gamma^{ 5 })_{{23} {22} {21} {20}}B(x_1,t_i,\\Gamma^{ 2 })_{{20} {21} {22} {23}}$"
      ],
      "text/plain": [
       "<IPython.core.display.Math object>"
      ]
     },
     "metadata": {},
     "output_type": "display_data"
    },
    {
     "data": {
      "text/latex": [
       "$\\displaystyle -1.0 B^*(x_0,t_i,t_f,\\Gamma^{ 5 })_{{23} {20} {21} {22}}B(x_1,t_i,\\Gamma^{ 2 })_{{20} {21} {22} {23}}$"
      ],
      "text/plain": [
       "<IPython.core.display.Math object>"
      ]
     },
     "metadata": {},
     "output_type": "display_data"
    },
    {
     "data": {
      "text/latex": [
       "$\\displaystyle -1.0 B^*(x_0,t_i,t_f,\\Gamma^{ 5 })_{{29} {30} {31} {28}}B(x_1,t_i,\\Gamma^{ 3 })_{{28} {29} {30} {31}}$"
      ],
      "text/plain": [
       "<IPython.core.display.Math object>"
      ]
     },
     "metadata": {},
     "output_type": "display_data"
    },
    {
     "data": {
      "text/latex": [
       "$\\displaystyle 1.0 B^*(x_0,t_i,t_f,\\Gamma^{ 5 })_{{29} {28} {31} {30}}B(x_1,t_i,\\Gamma^{ 3 })_{{28} {29} {30} {31}}$"
      ],
      "text/plain": [
       "<IPython.core.display.Math object>"
      ]
     },
     "metadata": {},
     "output_type": "display_data"
    },
    {
     "data": {
      "text/latex": [
       "$\\displaystyle 1.0 B^*(x_0,t_i,t_f,\\Gamma^{ 5 })_{{31} {30} {29} {28}}B(x_1,t_i,\\Gamma^{ 3 })_{{28} {29} {30} {31}}$"
      ],
      "text/plain": [
       "<IPython.core.display.Math object>"
      ]
     },
     "metadata": {},
     "output_type": "display_data"
    },
    {
     "data": {
      "text/latex": [
       "$\\displaystyle -1.0 B^*(x_0,t_i,t_f,\\Gamma^{ 5 })_{{31} {28} {29} {30}}B(x_1,t_i,\\Gamma^{ 3 })_{{28} {29} {30} {31}}$"
      ],
      "text/plain": [
       "<IPython.core.display.Math object>"
      ]
     },
     "metadata": {},
     "output_type": "display_data"
    },
    {
     "data": {
      "text/latex": [
       "$\\displaystyle -1.0 B^*(x_0,t_i,t_f,\\Gamma^{ 5 })_{{37} {38} {39} {36}}B(x_1,t_i,\\Gamma^{ 4 })_{{36} {37} {38} {39}}$"
      ],
      "text/plain": [
       "<IPython.core.display.Math object>"
      ]
     },
     "metadata": {},
     "output_type": "display_data"
    },
    {
     "data": {
      "text/latex": [
       "$\\displaystyle 1.0 B^*(x_0,t_i,t_f,\\Gamma^{ 5 })_{{37} {36} {39} {38}}B(x_1,t_i,\\Gamma^{ 4 })_{{36} {37} {38} {39}}$"
      ],
      "text/plain": [
       "<IPython.core.display.Math object>"
      ]
     },
     "metadata": {},
     "output_type": "display_data"
    },
    {
     "data": {
      "text/latex": [
       "$\\displaystyle 1.0 B^*(x_0,t_i,t_f,\\Gamma^{ 5 })_{{39} {38} {37} {36}}B(x_1,t_i,\\Gamma^{ 4 })_{{36} {37} {38} {39}}$"
      ],
      "text/plain": [
       "<IPython.core.display.Math object>"
      ]
     },
     "metadata": {},
     "output_type": "display_data"
    },
    {
     "data": {
      "text/latex": [
       "$\\displaystyle -1.0 B^*(x_0,t_i,t_f,\\Gamma^{ 5 })_{{39} {36} {37} {38}}B(x_1,t_i,\\Gamma^{ 4 })_{{36} {37} {38} {39}}$"
      ],
      "text/plain": [
       "<IPython.core.display.Math object>"
      ]
     },
     "metadata": {},
     "output_type": "display_data"
    },
    {
     "data": {
      "text/latex": [
       "$\\displaystyle -1.0 B(x_1,t_i,\\Gamma^{ 5 })_{{44} {45} {46} {47}}B^*(x_0,t_i,t_f,\\Gamma^{ 5 })_{{45} {46} {47} {44}}$"
      ],
      "text/plain": [
       "<IPython.core.display.Math object>"
      ]
     },
     "metadata": {},
     "output_type": "display_data"
    },
    {
     "data": {
      "text/latex": [
       "$\\displaystyle 1.0 B(x_1,t_i,\\Gamma^{ 5 })_{{44} {45} {46} {47}}B^*(x_0,t_i,t_f,\\Gamma^{ 5 })_{{45} {44} {47} {46}}$"
      ],
      "text/plain": [
       "<IPython.core.display.Math object>"
      ]
     },
     "metadata": {},
     "output_type": "display_data"
    },
    {
     "data": {
      "text/latex": [
       "$\\displaystyle 1.0 B(x_1,t_i,\\Gamma^{ 5 })_{{44} {45} {46} {47}}B^*(x_0,t_i,t_f,\\Gamma^{ 5 })_{{47} {46} {45} {44}}$"
      ],
      "text/plain": [
       "<IPython.core.display.Math object>"
      ]
     },
     "metadata": {},
     "output_type": "display_data"
    },
    {
     "data": {
      "text/latex": [
       "$\\displaystyle -1.0 B(x_1,t_i,\\Gamma^{ 5 })_{{44} {45} {46} {47}}B^*(x_0,t_i,t_f,\\Gamma^{ 5 })_{{47} {44} {45} {46}}$"
      ],
      "text/plain": [
       "<IPython.core.display.Math object>"
      ]
     },
     "metadata": {},
     "output_type": "display_data"
    }
   ],
   "source": [
    "laphDiagrams = [LDiagram(d) for d in diagrams]\n",
    "simplify_laphDiagrams(laphDiagrams)\n",
    "for d in laphDiagrams:\n",
    "    pprint(d)"
   ]
  },
  {
   "cell_type": "code",
   "execution_count": 6,
   "metadata": {},
   "outputs": [],
   "source": [
    "allBaryonTensors = find_all_baryon_tensors(laphDiagrams)"
   ]
  },
  {
   "cell_type": "code",
   "execution_count": 7,
   "metadata": {},
   "outputs": [
    {
     "data": {
      "text/plain": [
       "{'B(x_1,t_i,\\\\Gamma^{ 0 })': 0,\n",
       " 'B^*(x_0,t_i,t_f,\\\\Gamma^{ 0 })': 1,\n",
       " 'B(x_1,t_i,\\\\Gamma^{ 1 })': 2,\n",
       " 'B(x_1,t_i,\\\\Gamma^{ 2 })': 3,\n",
       " 'B(x_1,t_i,\\\\Gamma^{ 3 })': 4,\n",
       " 'B(x_1,t_i,\\\\Gamma^{ 4 })': 5,\n",
       " 'B(x_1,t_i,\\\\Gamma^{ 5 })': 6,\n",
       " 'B^*(x_0,t_i,t_f,\\\\Gamma^{ 1 })': 7,\n",
       " 'B^*(x_0,t_i,t_f,\\\\Gamma^{ 2 })': 8,\n",
       " 'B^*(x_0,t_i,t_f,\\\\Gamma^{ 3 })': 9,\n",
       " 'B^*(x_0,t_i,t_f,\\\\Gamma^{ 4 })': 10,\n",
       " 'B^*(x_0,t_i,t_f,\\\\Gamma^{ 5 })': 11}"
      ]
     },
     "execution_count": 7,
     "metadata": {},
     "output_type": "execute_result"
    }
   ],
   "source": [
    "allBaryonTensors"
   ]
  },
  {
   "cell_type": "code",
   "execution_count": 8,
   "metadata": {},
   "outputs": [
    {
     "name": "stdout",
     "output_type": "stream",
     "text": [
      "{'1,0': [[3, 0], [2, 3], [1, 2], [0, 1]]}\n",
      "{'1,0': [[3, 2], [2, 3], [1, 0], [0, 1]]}\n",
      "{'1,0': [[3, 0], [2, 1], [1, 2], [0, 3]]}\n",
      "{'1,0': [[3, 2], [2, 1], [1, 0], [0, 3]]}\n",
      "{'1,2': [[3, 0], [2, 3], [1, 2], [0, 1]]}\n",
      "{'1,2': [[3, 2], [2, 3], [1, 0], [0, 1]]}\n",
      "{'1,2': [[3, 0], [2, 1], [1, 2], [0, 3]]}\n",
      "{'1,2': [[3, 2], [2, 1], [1, 0], [0, 3]]}\n",
      "{'1,3': [[3, 0], [2, 3], [1, 2], [0, 1]]}\n",
      "{'1,3': [[3, 2], [2, 3], [1, 0], [0, 1]]}\n",
      "{'1,3': [[3, 0], [2, 1], [1, 2], [0, 3]]}\n",
      "{'1,3': [[3, 2], [2, 1], [1, 0], [0, 3]]}\n",
      "{'1,4': [[3, 0], [2, 3], [1, 2], [0, 1]]}\n",
      "{'1,4': [[3, 2], [2, 3], [1, 0], [0, 1]]}\n",
      "{'1,4': [[3, 0], [2, 1], [1, 2], [0, 3]]}\n",
      "{'1,4': [[3, 2], [2, 1], [1, 0], [0, 3]]}\n",
      "{'1,5': [[3, 0], [2, 3], [1, 2], [0, 1]]}\n",
      "{'1,5': [[3, 2], [2, 3], [1, 0], [0, 1]]}\n",
      "{'1,5': [[3, 0], [2, 1], [1, 2], [0, 3]]}\n",
      "{'1,5': [[3, 2], [2, 1], [1, 0], [0, 3]]}\n",
      "{'1,6': [[3, 0], [2, 3], [1, 2], [0, 1]]}\n",
      "{'1,6': [[3, 2], [2, 3], [1, 0], [0, 1]]}\n",
      "{'1,6': [[3, 0], [2, 1], [1, 2], [0, 3]]}\n",
      "{'1,6': [[3, 2], [2, 1], [1, 0], [0, 3]]}\n",
      "{'0,7': [[3, 2], [2, 1], [1, 0], [0, 3]]}\n",
      "{'0,7': [[3, 2], [2, 3], [1, 0], [0, 1]]}\n",
      "{'0,7': [[3, 0], [2, 1], [1, 2], [0, 3]]}\n",
      "{'0,7': [[3, 0], [2, 3], [1, 2], [0, 1]]}\n",
      "{'2,7': [[3, 2], [2, 1], [1, 0], [0, 3]]}\n",
      "{'2,7': [[3, 2], [2, 3], [1, 0], [0, 1]]}\n",
      "{'2,7': [[3, 0], [2, 1], [1, 2], [0, 3]]}\n",
      "{'2,7': [[3, 0], [2, 3], [1, 2], [0, 1]]}\n",
      "{'7,3': [[3, 0], [2, 3], [1, 2], [0, 1]]}\n",
      "{'7,3': [[3, 2], [2, 3], [1, 0], [0, 1]]}\n",
      "{'7,3': [[3, 0], [2, 1], [1, 2], [0, 3]]}\n",
      "{'7,3': [[3, 2], [2, 1], [1, 0], [0, 3]]}\n",
      "{'7,4': [[3, 0], [2, 3], [1, 2], [0, 1]]}\n",
      "{'7,4': [[3, 2], [2, 3], [1, 0], [0, 1]]}\n",
      "{'7,4': [[3, 0], [2, 1], [1, 2], [0, 3]]}\n",
      "{'7,4': [[3, 2], [2, 1], [1, 0], [0, 3]]}\n",
      "{'7,5': [[3, 0], [2, 3], [1, 2], [0, 1]]}\n",
      "{'7,5': [[3, 2], [2, 3], [1, 0], [0, 1]]}\n",
      "{'7,5': [[3, 0], [2, 1], [1, 2], [0, 3]]}\n",
      "{'7,5': [[3, 2], [2, 1], [1, 0], [0, 3]]}\n",
      "{'7,6': [[3, 0], [2, 3], [1, 2], [0, 1]]}\n",
      "{'7,6': [[3, 2], [2, 3], [1, 0], [0, 1]]}\n",
      "{'7,6': [[3, 0], [2, 1], [1, 2], [0, 3]]}\n",
      "{'7,6': [[3, 2], [2, 1], [1, 0], [0, 3]]}\n",
      "{'0,8': [[3, 2], [2, 1], [1, 0], [0, 3]]}\n",
      "{'0,8': [[3, 2], [2, 3], [1, 0], [0, 1]]}\n",
      "{'0,8': [[3, 0], [2, 1], [1, 2], [0, 3]]}\n",
      "{'0,8': [[3, 0], [2, 3], [1, 2], [0, 1]]}\n",
      "{'2,8': [[3, 2], [2, 1], [1, 0], [0, 3]]}\n",
      "{'2,8': [[3, 2], [2, 3], [1, 0], [0, 1]]}\n",
      "{'2,8': [[3, 0], [2, 1], [1, 2], [0, 3]]}\n",
      "{'2,8': [[3, 0], [2, 3], [1, 2], [0, 1]]}\n",
      "{'8,3': [[3, 0], [2, 3], [1, 2], [0, 1]]}\n",
      "{'8,3': [[3, 2], [2, 3], [1, 0], [0, 1]]}\n",
      "{'8,3': [[3, 0], [2, 1], [1, 2], [0, 3]]}\n",
      "{'8,3': [[3, 2], [2, 1], [1, 0], [0, 3]]}\n",
      "{'8,4': [[3, 0], [2, 3], [1, 2], [0, 1]]}\n",
      "{'8,4': [[3, 2], [2, 3], [1, 0], [0, 1]]}\n",
      "{'8,4': [[3, 0], [2, 1], [1, 2], [0, 3]]}\n",
      "{'8,4': [[3, 2], [2, 1], [1, 0], [0, 3]]}\n",
      "{'8,5': [[3, 0], [2, 3], [1, 2], [0, 1]]}\n",
      "{'8,5': [[3, 2], [2, 3], [1, 0], [0, 1]]}\n",
      "{'8,5': [[3, 0], [2, 1], [1, 2], [0, 3]]}\n",
      "{'8,5': [[3, 2], [2, 1], [1, 0], [0, 3]]}\n",
      "{'8,6': [[3, 0], [2, 3], [1, 2], [0, 1]]}\n",
      "{'8,6': [[3, 2], [2, 3], [1, 0], [0, 1]]}\n",
      "{'8,6': [[3, 0], [2, 1], [1, 2], [0, 3]]}\n",
      "{'8,6': [[3, 2], [2, 1], [1, 0], [0, 3]]}\n",
      "{'0,9': [[3, 2], [2, 1], [1, 0], [0, 3]]}\n",
      "{'0,9': [[3, 2], [2, 3], [1, 0], [0, 1]]}\n",
      "{'0,9': [[3, 0], [2, 1], [1, 2], [0, 3]]}\n",
      "{'0,9': [[3, 0], [2, 3], [1, 2], [0, 1]]}\n",
      "{'2,9': [[3, 2], [2, 1], [1, 0], [0, 3]]}\n",
      "{'2,9': [[3, 2], [2, 3], [1, 0], [0, 1]]}\n",
      "{'2,9': [[3, 0], [2, 1], [1, 2], [0, 3]]}\n",
      "{'2,9': [[3, 0], [2, 3], [1, 2], [0, 1]]}\n",
      "{'3,9': [[3, 2], [2, 1], [1, 0], [0, 3]]}\n",
      "{'3,9': [[3, 2], [2, 3], [1, 0], [0, 1]]}\n",
      "{'3,9': [[3, 0], [2, 1], [1, 2], [0, 3]]}\n",
      "{'3,9': [[3, 0], [2, 3], [1, 2], [0, 1]]}\n",
      "{'9,4': [[3, 0], [2, 3], [1, 2], [0, 1]]}\n",
      "{'9,4': [[3, 2], [2, 3], [1, 0], [0, 1]]}\n",
      "{'9,4': [[3, 0], [2, 1], [1, 2], [0, 3]]}\n",
      "{'9,4': [[3, 2], [2, 1], [1, 0], [0, 3]]}\n",
      "{'9,5': [[3, 0], [2, 3], [1, 2], [0, 1]]}\n",
      "{'9,5': [[3, 2], [2, 3], [1, 0], [0, 1]]}\n",
      "{'9,5': [[3, 0], [2, 1], [1, 2], [0, 3]]}\n",
      "{'9,5': [[3, 2], [2, 1], [1, 0], [0, 3]]}\n",
      "{'9,6': [[3, 0], [2, 3], [1, 2], [0, 1]]}\n",
      "{'9,6': [[3, 2], [2, 3], [1, 0], [0, 1]]}\n",
      "{'9,6': [[3, 0], [2, 1], [1, 2], [0, 3]]}\n",
      "{'9,6': [[3, 2], [2, 1], [1, 0], [0, 3]]}\n",
      "{'0,10': [[3, 2], [2, 1], [1, 0], [0, 3]]}\n",
      "{'0,10': [[3, 2], [2, 3], [1, 0], [0, 1]]}\n",
      "{'0,10': [[3, 0], [2, 1], [1, 2], [0, 3]]}\n",
      "{'0,10': [[3, 0], [2, 3], [1, 2], [0, 1]]}\n",
      "{'2,10': [[3, 2], [2, 1], [1, 0], [0, 3]]}\n",
      "{'2,10': [[3, 2], [2, 3], [1, 0], [0, 1]]}\n",
      "{'2,10': [[3, 0], [2, 1], [1, 2], [0, 3]]}\n",
      "{'2,10': [[3, 0], [2, 3], [1, 2], [0, 1]]}\n",
      "{'3,10': [[3, 2], [2, 1], [1, 0], [0, 3]]}\n",
      "{'3,10': [[3, 2], [2, 3], [1, 0], [0, 1]]}\n",
      "{'3,10': [[3, 0], [2, 1], [1, 2], [0, 3]]}\n",
      "{'3,10': [[3, 0], [2, 3], [1, 2], [0, 1]]}\n",
      "{'4,10': [[3, 2], [2, 1], [1, 0], [0, 3]]}\n",
      "{'4,10': [[3, 2], [2, 3], [1, 0], [0, 1]]}\n",
      "{'4,10': [[3, 0], [2, 1], [1, 2], [0, 3]]}\n",
      "{'4,10': [[3, 0], [2, 3], [1, 2], [0, 1]]}\n",
      "{'10,5': [[3, 0], [2, 3], [1, 2], [0, 1]]}\n",
      "{'10,5': [[3, 2], [2, 3], [1, 0], [0, 1]]}\n",
      "{'10,5': [[3, 0], [2, 1], [1, 2], [0, 3]]}\n",
      "{'10,5': [[3, 2], [2, 1], [1, 0], [0, 3]]}\n",
      "{'10,6': [[3, 0], [2, 3], [1, 2], [0, 1]]}\n",
      "{'10,6': [[3, 2], [2, 3], [1, 0], [0, 1]]}\n",
      "{'10,6': [[3, 0], [2, 1], [1, 2], [0, 3]]}\n",
      "{'10,6': [[3, 2], [2, 1], [1, 0], [0, 3]]}\n",
      "{'0,11': [[3, 2], [2, 1], [1, 0], [0, 3]]}\n",
      "{'0,11': [[3, 2], [2, 3], [1, 0], [0, 1]]}\n",
      "{'0,11': [[3, 0], [2, 1], [1, 2], [0, 3]]}\n",
      "{'0,11': [[3, 0], [2, 3], [1, 2], [0, 1]]}\n",
      "{'2,11': [[3, 2], [2, 1], [1, 0], [0, 3]]}\n",
      "{'2,11': [[3, 2], [2, 3], [1, 0], [0, 1]]}\n",
      "{'2,11': [[3, 0], [2, 1], [1, 2], [0, 3]]}\n",
      "{'2,11': [[3, 0], [2, 3], [1, 2], [0, 1]]}\n",
      "{'3,11': [[3, 2], [2, 1], [1, 0], [0, 3]]}\n",
      "{'3,11': [[3, 2], [2, 3], [1, 0], [0, 1]]}\n",
      "{'3,11': [[3, 0], [2, 1], [1, 2], [0, 3]]}\n",
      "{'3,11': [[3, 0], [2, 3], [1, 2], [0, 1]]}\n",
      "{'4,11': [[3, 2], [2, 1], [1, 0], [0, 3]]}\n",
      "{'4,11': [[3, 2], [2, 3], [1, 0], [0, 1]]}\n",
      "{'4,11': [[3, 0], [2, 1], [1, 2], [0, 3]]}\n",
      "{'4,11': [[3, 0], [2, 3], [1, 2], [0, 1]]}\n",
      "{'5,11': [[3, 2], [2, 1], [1, 0], [0, 3]]}\n",
      "{'5,11': [[3, 2], [2, 3], [1, 0], [0, 1]]}\n",
      "{'5,11': [[3, 0], [2, 1], [1, 2], [0, 3]]}\n",
      "{'5,11': [[3, 0], [2, 3], [1, 2], [0, 1]]}\n",
      "{'11,6': [[3, 0], [2, 3], [1, 2], [0, 1]]}\n",
      "{'11,6': [[3, 2], [2, 3], [1, 0], [0, 1]]}\n",
      "{'11,6': [[3, 0], [2, 1], [1, 2], [0, 3]]}\n",
      "{'11,6': [[3, 2], [2, 1], [1, 0], [0, 3]]}\n"
     ]
    }
   ],
   "source": [
    "for d in laphDiagrams:\n",
    "    print(diagram_as_graph(d,allBaryonTensors))\n",
    "    "
   ]
  },
  {
   "cell_type": "markdown",
   "metadata": {},
   "source": []
  },
  {
   "cell_type": "code",
   "execution_count": null,
   "metadata": {},
   "outputs": [],
   "source": []
  }
 ],
 "metadata": {
  "kernelspec": {
   "display_name": "Python 3.9.7 ('LQCD')",
   "language": "python",
   "name": "python3"
  },
  "language_info": {
   "codemirror_mode": {
    "name": "ipython",
    "version": 3
   },
   "file_extension": ".py",
   "mimetype": "text/x-python",
   "name": "python",
   "nbconvert_exporter": "python",
   "pygments_lexer": "ipython3",
   "version": "3.9.7"
  },
  "orig_nbformat": 4,
  "vscode": {
   "interpreter": {
    "hash": "bc10d092fd53d999667fa6c0a0e497da5d6cd5236cea8e58c3ad41d37fd15ec4"
   }
  }
 },
 "nbformat": 4,
 "nbformat_minor": 2
}
