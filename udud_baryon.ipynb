{
 "cells": [
  {
   "cell_type": "code",
   "execution_count": 2,
   "metadata": {},
   "outputs": [],
   "source": [
    "from WickContractions.wick.contract import *\n",
    "from WickContractions.laph.diagram import *\n",
    "\n",
    "from utilities import *\n",
    "\n",
    "from IPython.display import display, Math\n",
    "\n",
    "pprint = lambda o : display(Math(str(o)))"
   ]
  },
  {
   "cell_type": "markdown",
   "metadata": {},
   "source": [
    "## Operators\n",
    "\n",
    "At the moment we are hardcoding in the operators.  We will want to read in a dictionary of spin matrices, as well as isospin flavor combinations."
   ]
  },
  {
   "cell_type": "code",
   "execution_count": 29,
   "metadata": {},
   "outputs": [],
   "source": [
    "# TODO get input from operator code for Isospin/momentum combinations."
   ]
  },
  {
   "cell_type": "code",
   "execution_count": 3,
   "metadata": {},
   "outputs": [],
   "source": [
    "# load definition of the building blocks of the operators.\n",
    "from udud_elementals import *\n",
    "\n",
    "gammas = [('buchoff',0)]\n",
    "gammas += [('A1g',i) for i in range(2)]\n",
    "gammas += [('Eg',i) for i in range(2)]\n",
    "\n",
    "gammaName = lambda irrep,i : \"\\\\Gamma^{{ ({},{}) }}\".format(irrep, i)\n",
    "\n",
    "aOps=[]\n",
    "cOps=[]\n",
    "for g in gammas:\n",
    "    aOps.append(Operator([baryonSink(1,['u','d','u','d'],'x_0',gammaName(g[0],g[1]))]))\n",
    "    cOps.append(Operator([baryonSource(1,['d','u','d','u'], 'x_1',gammaName(g[0],g[1]))]))"
   ]
  },
  {
   "cell_type": "markdown",
   "metadata": {},
   "source": [
    "## Wick Contractions\n",
    "\n",
    "Now we run the wick contractions giving us essentially a list of tensor contractions to be performed."
   ]
  },
  {
   "cell_type": "code",
   "execution_count": 4,
   "metadata": {},
   "outputs": [
    {
     "name": "stdout",
     "output_type": "stream",
     "text": [
      "Need 100 diagrams\n"
     ]
    }
   ],
   "source": [
    "diagrams=[]\n",
    "for aOp in aOps:\n",
    "    for cOp in cOps:\n",
    "        for d in contract(aOp, cOp).diagrams:\n",
    "            diagrams.append(d)\n",
    "print(\"Need {} diagrams\".format(len(diagrams)))"
   ]
  },
  {
   "cell_type": "code",
   "execution_count": 5,
   "metadata": {},
   "outputs": [],
   "source": [
    "laphDiagrams = [LDiagram(d) for d in diagrams]\n",
    "simplify_laphDiagrams(laphDiagrams)\n",
    "#for d in laphDiagrams:\n",
    "#    pprint(d)"
   ]
  },
  {
   "cell_type": "code",
   "execution_count": null,
   "metadata": {},
   "outputs": [],
   "source": []
  },
  {
   "cell_type": "code",
   "execution_count": 6,
   "metadata": {},
   "outputs": [
    {
     "data": {
      "text/latex": [
       "$\\displaystyle B(x_1,t_i,\\Gamma^{ (buchoff,0) })_{l_{4} l_{5} l_{6} l_{7} s_{4} s_{5} s_{6} s_{7}}$"
      ],
      "text/plain": [
       "<IPython.core.display.Math object>"
      ]
     },
     "metadata": {},
     "output_type": "display_data"
    },
    {
     "data": {
      "text/latex": [
       "$\\displaystyle B^*(x_0,t_f,\\Gamma^{ (buchoff,0) })_{l_{0} l_{1} l_{2} l_{3} s_{0} s_{1} s_{2} s_{3}}$"
      ],
      "text/plain": [
       "<IPython.core.display.Math object>"
      ]
     },
     "metadata": {},
     "output_type": "display_data"
    }
   ],
   "source": [
    "for b in laphDiagrams[0].Bblocks:\n",
    "    pprint(b)"
   ]
  },
  {
   "cell_type": "code",
   "execution_count": 7,
   "metadata": {},
   "outputs": [
    {
     "data": {
      "text/latex": [
       "$\\displaystyle T(x_1,t_i)_{l_{4} l_{5} l_{6} l_{7}}$"
      ],
      "text/plain": [
       "<IPython.core.display.Math object>"
      ]
     },
     "metadata": {},
     "output_type": "display_data"
    },
    {
     "data": {
      "text/latex": [
       "$\\displaystyle T^*(x_0,t_f)_{l_{0} l_{1} l_{2} l_{3}}$"
      ],
      "text/plain": [
       "<IPython.core.display.Math object>"
      ]
     },
     "metadata": {},
     "output_type": "display_data"
    }
   ],
   "source": [
    "for t in laphDiagrams[0].Tblocks:\n",
    "    pprint(t)"
   ]
  },
  {
   "cell_type": "code",
   "execution_count": 27,
   "metadata": {},
   "outputs": [],
   "source": [
    "#allBaryonTensors = find_all_baryon_tensors(laphDiagrams)\n",
    "# temporary TODO make smarter version of the rest of this notebook\n",
    "allBaryonTensors={}\n",
    "idx=0\n",
    "for g in gammas:\n",
    "    allBaryonTensors['B(x_1,t_i,\\\\Gamma^{{ ({},{}) }})'.format(g[0],g[1])]=idx\n",
    "    allBaryonTensors['B^*(x_0,t_i,t_f,\\\\Gamma^{{ ({},{}) }})'.format(g[0],g[1])]=idx+1\n",
    "    idx+=2\n",
    "\n",
    "allBaryonTensorsBack={v: k for k,v in allBaryonTensors.items()}"
   ]
  },
  {
   "cell_type": "code",
   "execution_count": 28,
   "metadata": {},
   "outputs": [
    {
     "data": {
      "text/plain": [
       "{'B(x_1,t_i,\\\\Gamma^{ (buchoff,0) })': 0,\n",
       " 'B^*(x_0,t_i,t_f,\\\\Gamma^{ (buchoff,0) })': 1,\n",
       " 'B(x_1,t_i,\\\\Gamma^{ (A1g,0) })': 2,\n",
       " 'B^*(x_0,t_i,t_f,\\\\Gamma^{ (A1g,0) })': 3,\n",
       " 'B(x_1,t_i,\\\\Gamma^{ (A1g,1) })': 4,\n",
       " 'B^*(x_0,t_i,t_f,\\\\Gamma^{ (A1g,1) })': 5,\n",
       " 'B(x_1,t_i,\\\\Gamma^{ (Eg,0) })': 6,\n",
       " 'B^*(x_0,t_i,t_f,\\\\Gamma^{ (Eg,0) })': 7,\n",
       " 'B(x_1,t_i,\\\\Gamma^{ (Eg,1) })': 8,\n",
       " 'B^*(x_0,t_i,t_f,\\\\Gamma^{ (Eg,1) })': 9}"
      ]
     },
     "execution_count": 28,
     "metadata": {},
     "output_type": "execute_result"
    }
   ],
   "source": [
    "allBaryonTensors"
   ]
  },
  {
   "cell_type": "code",
   "execution_count": 25,
   "metadata": {},
   "outputs": [
    {
     "data": {
      "text/plain": [
       "100"
      ]
     },
     "execution_count": 25,
     "metadata": {},
     "output_type": "execute_result"
    }
   ],
   "source": [
    "len(laphDiagrams)"
   ]
  },
  {
   "cell_type": "code",
   "execution_count": 31,
   "metadata": {},
   "outputs": [
    {
     "name": "stdout",
     "output_type": "stream",
     "text": [
      "file header\n",
      "1,0\n",
      "diagrams.push_back(Diagram(what[B^*(x_0,t_i,t_f,\\Gamma^{ (buchoff,0) })],what[B(x_1,t_i,\\Gamma^{ (buchoff,0) })],std::vector<std::vector<int>>{{3, 0}, {2, 3}, {1, 2}, {0, 1}}));\n",
      "1,0\n",
      "diagrams.push_back(Diagram(what[B^*(x_0,t_i,t_f,\\Gamma^{ (buchoff,0) })],what[B(x_1,t_i,\\Gamma^{ (buchoff,0) })],std::vector<std::vector<int>>{{3, 2}, {2, 3}, {1, 0}, {0, 1}}));\n",
      "1,0\n",
      "diagrams.push_back(Diagram(what[B^*(x_0,t_i,t_f,\\Gamma^{ (buchoff,0) })],what[B(x_1,t_i,\\Gamma^{ (buchoff,0) })],std::vector<std::vector<int>>{{3, 0}, {2, 1}, {1, 2}, {0, 3}}));\n",
      "1,0\n",
      "diagrams.push_back(Diagram(what[B^*(x_0,t_i,t_f,\\Gamma^{ (buchoff,0) })],what[B(x_1,t_i,\\Gamma^{ (buchoff,0) })],std::vector<std::vector<int>>{{3, 2}, {2, 1}, {1, 0}, {0, 3}}));\n",
      "2,1\n",
      "diagrams.push_back(Diagram(what[B(x_1,t_i,\\Gamma^{ (A1g,0) })],what[B^*(x_0,t_i,t_f,\\Gamma^{ (buchoff,0) })],std::vector<std::vector<int>>{{3, 2}, {2, 1}, {1, 0}, {0, 3}}));\n",
      "2,1\n",
      "diagrams.push_back(Diagram(what[B(x_1,t_i,\\Gamma^{ (A1g,0) })],what[B^*(x_0,t_i,t_f,\\Gamma^{ (buchoff,0) })],std::vector<std::vector<int>>{{3, 2}, {2, 3}, {1, 0}, {0, 1}}));\n",
      "2,1\n",
      "diagrams.push_back(Diagram(what[B(x_1,t_i,\\Gamma^{ (A1g,0) })],what[B^*(x_0,t_i,t_f,\\Gamma^{ (buchoff,0) })],std::vector<std::vector<int>>{{3, 0}, {2, 1}, {1, 2}, {0, 3}}));\n",
      "2,1\n",
      "diagrams.push_back(Diagram(what[B(x_1,t_i,\\Gamma^{ (A1g,0) })],what[B^*(x_0,t_i,t_f,\\Gamma^{ (buchoff,0) })],std::vector<std::vector<int>>{{3, 0}, {2, 3}, {1, 2}, {0, 1}}));\n",
      "4,1\n",
      "diagrams.push_back(Diagram(what[B(x_1,t_i,\\Gamma^{ (A1g,1) })],what[B^*(x_0,t_i,t_f,\\Gamma^{ (buchoff,0) })],std::vector<std::vector<int>>{{3, 2}, {2, 1}, {1, 0}, {0, 3}}));\n",
      "4,1\n",
      "diagrams.push_back(Diagram(what[B(x_1,t_i,\\Gamma^{ (A1g,1) })],what[B^*(x_0,t_i,t_f,\\Gamma^{ (buchoff,0) })],std::vector<std::vector<int>>{{3, 2}, {2, 3}, {1, 0}, {0, 1}}));\n",
      "4,1\n",
      "diagrams.push_back(Diagram(what[B(x_1,t_i,\\Gamma^{ (A1g,1) })],what[B^*(x_0,t_i,t_f,\\Gamma^{ (buchoff,0) })],std::vector<std::vector<int>>{{3, 0}, {2, 1}, {1, 2}, {0, 3}}));\n",
      "4,1\n",
      "diagrams.push_back(Diagram(what[B(x_1,t_i,\\Gamma^{ (A1g,1) })],what[B^*(x_0,t_i,t_f,\\Gamma^{ (buchoff,0) })],std::vector<std::vector<int>>{{3, 0}, {2, 3}, {1, 2}, {0, 1}}));\n",
      "6,1\n",
      "diagrams.push_back(Diagram(what[B(x_1,t_i,\\Gamma^{ (Eg,0) })],what[B^*(x_0,t_i,t_f,\\Gamma^{ (buchoff,0) })],std::vector<std::vector<int>>{{3, 2}, {2, 1}, {1, 0}, {0, 3}}));\n",
      "6,1\n",
      "diagrams.push_back(Diagram(what[B(x_1,t_i,\\Gamma^{ (Eg,0) })],what[B^*(x_0,t_i,t_f,\\Gamma^{ (buchoff,0) })],std::vector<std::vector<int>>{{3, 2}, {2, 3}, {1, 0}, {0, 1}}));\n",
      "6,1\n",
      "diagrams.push_back(Diagram(what[B(x_1,t_i,\\Gamma^{ (Eg,0) })],what[B^*(x_0,t_i,t_f,\\Gamma^{ (buchoff,0) })],std::vector<std::vector<int>>{{3, 0}, {2, 1}, {1, 2}, {0, 3}}));\n",
      "6,1\n",
      "diagrams.push_back(Diagram(what[B(x_1,t_i,\\Gamma^{ (Eg,0) })],what[B^*(x_0,t_i,t_f,\\Gamma^{ (buchoff,0) })],std::vector<std::vector<int>>{{3, 0}, {2, 3}, {1, 2}, {0, 1}}));\n",
      "8,1\n",
      "diagrams.push_back(Diagram(what[B(x_1,t_i,\\Gamma^{ (Eg,1) })],what[B^*(x_0,t_i,t_f,\\Gamma^{ (buchoff,0) })],std::vector<std::vector<int>>{{3, 2}, {2, 1}, {1, 0}, {0, 3}}));\n",
      "8,1\n",
      "diagrams.push_back(Diagram(what[B(x_1,t_i,\\Gamma^{ (Eg,1) })],what[B^*(x_0,t_i,t_f,\\Gamma^{ (buchoff,0) })],std::vector<std::vector<int>>{{3, 2}, {2, 3}, {1, 0}, {0, 1}}));\n",
      "8,1\n",
      "diagrams.push_back(Diagram(what[B(x_1,t_i,\\Gamma^{ (Eg,1) })],what[B^*(x_0,t_i,t_f,\\Gamma^{ (buchoff,0) })],std::vector<std::vector<int>>{{3, 0}, {2, 1}, {1, 2}, {0, 3}}));\n",
      "8,1\n",
      "diagrams.push_back(Diagram(what[B(x_1,t_i,\\Gamma^{ (Eg,1) })],what[B^*(x_0,t_i,t_f,\\Gamma^{ (buchoff,0) })],std::vector<std::vector<int>>{{3, 0}, {2, 3}, {1, 2}, {0, 1}}));\n",
      "3,0\n",
      "diagrams.push_back(Diagram(what[B^*(x_0,t_i,t_f,\\Gamma^{ (A1g,0) })],what[B(x_1,t_i,\\Gamma^{ (buchoff,0) })],std::vector<std::vector<int>>{{3, 0}, {2, 3}, {1, 2}, {0, 1}}));\n",
      "3,0\n",
      "diagrams.push_back(Diagram(what[B^*(x_0,t_i,t_f,\\Gamma^{ (A1g,0) })],what[B(x_1,t_i,\\Gamma^{ (buchoff,0) })],std::vector<std::vector<int>>{{3, 2}, {2, 3}, {1, 0}, {0, 1}}));\n",
      "3,0\n",
      "diagrams.push_back(Diagram(what[B^*(x_0,t_i,t_f,\\Gamma^{ (A1g,0) })],what[B(x_1,t_i,\\Gamma^{ (buchoff,0) })],std::vector<std::vector<int>>{{3, 0}, {2, 1}, {1, 2}, {0, 3}}));\n",
      "3,0\n",
      "diagrams.push_back(Diagram(what[B^*(x_0,t_i,t_f,\\Gamma^{ (A1g,0) })],what[B(x_1,t_i,\\Gamma^{ (buchoff,0) })],std::vector<std::vector<int>>{{3, 2}, {2, 1}, {1, 0}, {0, 3}}));\n",
      "2,3\n",
      "diagrams.push_back(Diagram(what[B(x_1,t_i,\\Gamma^{ (A1g,0) })],what[B^*(x_0,t_i,t_f,\\Gamma^{ (A1g,0) })],std::vector<std::vector<int>>{{3, 2}, {2, 1}, {1, 0}, {0, 3}}));\n",
      "2,3\n",
      "diagrams.push_back(Diagram(what[B(x_1,t_i,\\Gamma^{ (A1g,0) })],what[B^*(x_0,t_i,t_f,\\Gamma^{ (A1g,0) })],std::vector<std::vector<int>>{{3, 2}, {2, 3}, {1, 0}, {0, 1}}));\n",
      "2,3\n",
      "diagrams.push_back(Diagram(what[B(x_1,t_i,\\Gamma^{ (A1g,0) })],what[B^*(x_0,t_i,t_f,\\Gamma^{ (A1g,0) })],std::vector<std::vector<int>>{{3, 0}, {2, 1}, {1, 2}, {0, 3}}));\n",
      "2,3\n",
      "diagrams.push_back(Diagram(what[B(x_1,t_i,\\Gamma^{ (A1g,0) })],what[B^*(x_0,t_i,t_f,\\Gamma^{ (A1g,0) })],std::vector<std::vector<int>>{{3, 0}, {2, 3}, {1, 2}, {0, 1}}));\n",
      "3,4\n",
      "diagrams.push_back(Diagram(what[B^*(x_0,t_i,t_f,\\Gamma^{ (A1g,0) })],what[B(x_1,t_i,\\Gamma^{ (A1g,1) })],std::vector<std::vector<int>>{{3, 0}, {2, 3}, {1, 2}, {0, 1}}));\n",
      "3,4\n",
      "diagrams.push_back(Diagram(what[B^*(x_0,t_i,t_f,\\Gamma^{ (A1g,0) })],what[B(x_1,t_i,\\Gamma^{ (A1g,1) })],std::vector<std::vector<int>>{{3, 2}, {2, 3}, {1, 0}, {0, 1}}));\n",
      "3,4\n",
      "diagrams.push_back(Diagram(what[B^*(x_0,t_i,t_f,\\Gamma^{ (A1g,0) })],what[B(x_1,t_i,\\Gamma^{ (A1g,1) })],std::vector<std::vector<int>>{{3, 0}, {2, 1}, {1, 2}, {0, 3}}));\n",
      "3,4\n",
      "diagrams.push_back(Diagram(what[B^*(x_0,t_i,t_f,\\Gamma^{ (A1g,0) })],what[B(x_1,t_i,\\Gamma^{ (A1g,1) })],std::vector<std::vector<int>>{{3, 2}, {2, 1}, {1, 0}, {0, 3}}));\n",
      "3,6\n",
      "diagrams.push_back(Diagram(what[B^*(x_0,t_i,t_f,\\Gamma^{ (A1g,0) })],what[B(x_1,t_i,\\Gamma^{ (Eg,0) })],std::vector<std::vector<int>>{{3, 0}, {2, 3}, {1, 2}, {0, 1}}));\n",
      "3,6\n",
      "diagrams.push_back(Diagram(what[B^*(x_0,t_i,t_f,\\Gamma^{ (A1g,0) })],what[B(x_1,t_i,\\Gamma^{ (Eg,0) })],std::vector<std::vector<int>>{{3, 2}, {2, 3}, {1, 0}, {0, 1}}));\n",
      "3,6\n",
      "diagrams.push_back(Diagram(what[B^*(x_0,t_i,t_f,\\Gamma^{ (A1g,0) })],what[B(x_1,t_i,\\Gamma^{ (Eg,0) })],std::vector<std::vector<int>>{{3, 0}, {2, 1}, {1, 2}, {0, 3}}));\n",
      "3,6\n",
      "diagrams.push_back(Diagram(what[B^*(x_0,t_i,t_f,\\Gamma^{ (A1g,0) })],what[B(x_1,t_i,\\Gamma^{ (Eg,0) })],std::vector<std::vector<int>>{{3, 2}, {2, 1}, {1, 0}, {0, 3}}));\n",
      "3,8\n",
      "diagrams.push_back(Diagram(what[B^*(x_0,t_i,t_f,\\Gamma^{ (A1g,0) })],what[B(x_1,t_i,\\Gamma^{ (Eg,1) })],std::vector<std::vector<int>>{{3, 0}, {2, 3}, {1, 2}, {0, 1}}));\n",
      "3,8\n",
      "diagrams.push_back(Diagram(what[B^*(x_0,t_i,t_f,\\Gamma^{ (A1g,0) })],what[B(x_1,t_i,\\Gamma^{ (Eg,1) })],std::vector<std::vector<int>>{{3, 2}, {2, 3}, {1, 0}, {0, 1}}));\n",
      "3,8\n",
      "diagrams.push_back(Diagram(what[B^*(x_0,t_i,t_f,\\Gamma^{ (A1g,0) })],what[B(x_1,t_i,\\Gamma^{ (Eg,1) })],std::vector<std::vector<int>>{{3, 0}, {2, 1}, {1, 2}, {0, 3}}));\n",
      "3,8\n",
      "diagrams.push_back(Diagram(what[B^*(x_0,t_i,t_f,\\Gamma^{ (A1g,0) })],what[B(x_1,t_i,\\Gamma^{ (Eg,1) })],std::vector<std::vector<int>>{{3, 2}, {2, 1}, {1, 0}, {0, 3}}));\n",
      "5,0\n",
      "diagrams.push_back(Diagram(what[B^*(x_0,t_i,t_f,\\Gamma^{ (A1g,1) })],what[B(x_1,t_i,\\Gamma^{ (buchoff,0) })],std::vector<std::vector<int>>{{3, 0}, {2, 3}, {1, 2}, {0, 1}}));\n",
      "5,0\n",
      "diagrams.push_back(Diagram(what[B^*(x_0,t_i,t_f,\\Gamma^{ (A1g,1) })],what[B(x_1,t_i,\\Gamma^{ (buchoff,0) })],std::vector<std::vector<int>>{{3, 2}, {2, 3}, {1, 0}, {0, 1}}));\n",
      "5,0\n",
      "diagrams.push_back(Diagram(what[B^*(x_0,t_i,t_f,\\Gamma^{ (A1g,1) })],what[B(x_1,t_i,\\Gamma^{ (buchoff,0) })],std::vector<std::vector<int>>{{3, 0}, {2, 1}, {1, 2}, {0, 3}}));\n",
      "5,0\n",
      "diagrams.push_back(Diagram(what[B^*(x_0,t_i,t_f,\\Gamma^{ (A1g,1) })],what[B(x_1,t_i,\\Gamma^{ (buchoff,0) })],std::vector<std::vector<int>>{{3, 2}, {2, 1}, {1, 0}, {0, 3}}));\n",
      "2,5\n",
      "diagrams.push_back(Diagram(what[B(x_1,t_i,\\Gamma^{ (A1g,0) })],what[B^*(x_0,t_i,t_f,\\Gamma^{ (A1g,1) })],std::vector<std::vector<int>>{{3, 2}, {2, 1}, {1, 0}, {0, 3}}));\n",
      "2,5\n",
      "diagrams.push_back(Diagram(what[B(x_1,t_i,\\Gamma^{ (A1g,0) })],what[B^*(x_0,t_i,t_f,\\Gamma^{ (A1g,1) })],std::vector<std::vector<int>>{{3, 2}, {2, 3}, {1, 0}, {0, 1}}));\n",
      "2,5\n",
      "diagrams.push_back(Diagram(what[B(x_1,t_i,\\Gamma^{ (A1g,0) })],what[B^*(x_0,t_i,t_f,\\Gamma^{ (A1g,1) })],std::vector<std::vector<int>>{{3, 0}, {2, 1}, {1, 2}, {0, 3}}));\n",
      "2,5\n",
      "diagrams.push_back(Diagram(what[B(x_1,t_i,\\Gamma^{ (A1g,0) })],what[B^*(x_0,t_i,t_f,\\Gamma^{ (A1g,1) })],std::vector<std::vector<int>>{{3, 0}, {2, 3}, {1, 2}, {0, 1}}));\n",
      "5,4\n",
      "diagrams.push_back(Diagram(what[B^*(x_0,t_i,t_f,\\Gamma^{ (A1g,1) })],what[B(x_1,t_i,\\Gamma^{ (A1g,1) })],std::vector<std::vector<int>>{{3, 0}, {2, 3}, {1, 2}, {0, 1}}));\n",
      "5,4\n",
      "diagrams.push_back(Diagram(what[B^*(x_0,t_i,t_f,\\Gamma^{ (A1g,1) })],what[B(x_1,t_i,\\Gamma^{ (A1g,1) })],std::vector<std::vector<int>>{{3, 2}, {2, 3}, {1, 0}, {0, 1}}));\n",
      "5,4\n",
      "diagrams.push_back(Diagram(what[B^*(x_0,t_i,t_f,\\Gamma^{ (A1g,1) })],what[B(x_1,t_i,\\Gamma^{ (A1g,1) })],std::vector<std::vector<int>>{{3, 0}, {2, 1}, {1, 2}, {0, 3}}));\n",
      "5,4\n",
      "diagrams.push_back(Diagram(what[B^*(x_0,t_i,t_f,\\Gamma^{ (A1g,1) })],what[B(x_1,t_i,\\Gamma^{ (A1g,1) })],std::vector<std::vector<int>>{{3, 2}, {2, 1}, {1, 0}, {0, 3}}));\n",
      "5,6\n",
      "diagrams.push_back(Diagram(what[B^*(x_0,t_i,t_f,\\Gamma^{ (A1g,1) })],what[B(x_1,t_i,\\Gamma^{ (Eg,0) })],std::vector<std::vector<int>>{{3, 0}, {2, 3}, {1, 2}, {0, 1}}));\n",
      "5,6\n",
      "diagrams.push_back(Diagram(what[B^*(x_0,t_i,t_f,\\Gamma^{ (A1g,1) })],what[B(x_1,t_i,\\Gamma^{ (Eg,0) })],std::vector<std::vector<int>>{{3, 2}, {2, 3}, {1, 0}, {0, 1}}));\n",
      "5,6\n",
      "diagrams.push_back(Diagram(what[B^*(x_0,t_i,t_f,\\Gamma^{ (A1g,1) })],what[B(x_1,t_i,\\Gamma^{ (Eg,0) })],std::vector<std::vector<int>>{{3, 0}, {2, 1}, {1, 2}, {0, 3}}));\n",
      "5,6\n",
      "diagrams.push_back(Diagram(what[B^*(x_0,t_i,t_f,\\Gamma^{ (A1g,1) })],what[B(x_1,t_i,\\Gamma^{ (Eg,0) })],std::vector<std::vector<int>>{{3, 2}, {2, 1}, {1, 0}, {0, 3}}));\n",
      "5,8\n",
      "diagrams.push_back(Diagram(what[B^*(x_0,t_i,t_f,\\Gamma^{ (A1g,1) })],what[B(x_1,t_i,\\Gamma^{ (Eg,1) })],std::vector<std::vector<int>>{{3, 0}, {2, 3}, {1, 2}, {0, 1}}));\n",
      "5,8\n",
      "diagrams.push_back(Diagram(what[B^*(x_0,t_i,t_f,\\Gamma^{ (A1g,1) })],what[B(x_1,t_i,\\Gamma^{ (Eg,1) })],std::vector<std::vector<int>>{{3, 2}, {2, 3}, {1, 0}, {0, 1}}));\n",
      "5,8\n",
      "diagrams.push_back(Diagram(what[B^*(x_0,t_i,t_f,\\Gamma^{ (A1g,1) })],what[B(x_1,t_i,\\Gamma^{ (Eg,1) })],std::vector<std::vector<int>>{{3, 0}, {2, 1}, {1, 2}, {0, 3}}));\n",
      "5,8\n",
      "diagrams.push_back(Diagram(what[B^*(x_0,t_i,t_f,\\Gamma^{ (A1g,1) })],what[B(x_1,t_i,\\Gamma^{ (Eg,1) })],std::vector<std::vector<int>>{{3, 2}, {2, 1}, {1, 0}, {0, 3}}));\n",
      "7,0\n",
      "diagrams.push_back(Diagram(what[B^*(x_0,t_i,t_f,\\Gamma^{ (Eg,0) })],what[B(x_1,t_i,\\Gamma^{ (buchoff,0) })],std::vector<std::vector<int>>{{3, 0}, {2, 3}, {1, 2}, {0, 1}}));\n",
      "7,0\n",
      "diagrams.push_back(Diagram(what[B^*(x_0,t_i,t_f,\\Gamma^{ (Eg,0) })],what[B(x_1,t_i,\\Gamma^{ (buchoff,0) })],std::vector<std::vector<int>>{{3, 2}, {2, 3}, {1, 0}, {0, 1}}));\n",
      "7,0\n",
      "diagrams.push_back(Diagram(what[B^*(x_0,t_i,t_f,\\Gamma^{ (Eg,0) })],what[B(x_1,t_i,\\Gamma^{ (buchoff,0) })],std::vector<std::vector<int>>{{3, 0}, {2, 1}, {1, 2}, {0, 3}}));\n",
      "7,0\n",
      "diagrams.push_back(Diagram(what[B^*(x_0,t_i,t_f,\\Gamma^{ (Eg,0) })],what[B(x_1,t_i,\\Gamma^{ (buchoff,0) })],std::vector<std::vector<int>>{{3, 2}, {2, 1}, {1, 0}, {0, 3}}));\n",
      "2,7\n",
      "diagrams.push_back(Diagram(what[B(x_1,t_i,\\Gamma^{ (A1g,0) })],what[B^*(x_0,t_i,t_f,\\Gamma^{ (Eg,0) })],std::vector<std::vector<int>>{{3, 2}, {2, 1}, {1, 0}, {0, 3}}));\n",
      "2,7\n",
      "diagrams.push_back(Diagram(what[B(x_1,t_i,\\Gamma^{ (A1g,0) })],what[B^*(x_0,t_i,t_f,\\Gamma^{ (Eg,0) })],std::vector<std::vector<int>>{{3, 2}, {2, 3}, {1, 0}, {0, 1}}));\n",
      "2,7\n",
      "diagrams.push_back(Diagram(what[B(x_1,t_i,\\Gamma^{ (A1g,0) })],what[B^*(x_0,t_i,t_f,\\Gamma^{ (Eg,0) })],std::vector<std::vector<int>>{{3, 0}, {2, 1}, {1, 2}, {0, 3}}));\n",
      "2,7\n",
      "diagrams.push_back(Diagram(what[B(x_1,t_i,\\Gamma^{ (A1g,0) })],what[B^*(x_0,t_i,t_f,\\Gamma^{ (Eg,0) })],std::vector<std::vector<int>>{{3, 0}, {2, 3}, {1, 2}, {0, 1}}));\n",
      "4,7\n",
      "diagrams.push_back(Diagram(what[B(x_1,t_i,\\Gamma^{ (A1g,1) })],what[B^*(x_0,t_i,t_f,\\Gamma^{ (Eg,0) })],std::vector<std::vector<int>>{{3, 2}, {2, 1}, {1, 0}, {0, 3}}));\n",
      "4,7\n",
      "diagrams.push_back(Diagram(what[B(x_1,t_i,\\Gamma^{ (A1g,1) })],what[B^*(x_0,t_i,t_f,\\Gamma^{ (Eg,0) })],std::vector<std::vector<int>>{{3, 2}, {2, 3}, {1, 0}, {0, 1}}));\n",
      "4,7\n",
      "diagrams.push_back(Diagram(what[B(x_1,t_i,\\Gamma^{ (A1g,1) })],what[B^*(x_0,t_i,t_f,\\Gamma^{ (Eg,0) })],std::vector<std::vector<int>>{{3, 0}, {2, 1}, {1, 2}, {0, 3}}));\n",
      "4,7\n",
      "diagrams.push_back(Diagram(what[B(x_1,t_i,\\Gamma^{ (A1g,1) })],what[B^*(x_0,t_i,t_f,\\Gamma^{ (Eg,0) })],std::vector<std::vector<int>>{{3, 0}, {2, 3}, {1, 2}, {0, 1}}));\n",
      "7,6\n",
      "diagrams.push_back(Diagram(what[B^*(x_0,t_i,t_f,\\Gamma^{ (Eg,0) })],what[B(x_1,t_i,\\Gamma^{ (Eg,0) })],std::vector<std::vector<int>>{{3, 0}, {2, 3}, {1, 2}, {0, 1}}));\n",
      "7,6\n",
      "diagrams.push_back(Diagram(what[B^*(x_0,t_i,t_f,\\Gamma^{ (Eg,0) })],what[B(x_1,t_i,\\Gamma^{ (Eg,0) })],std::vector<std::vector<int>>{{3, 2}, {2, 3}, {1, 0}, {0, 1}}));\n",
      "7,6\n",
      "diagrams.push_back(Diagram(what[B^*(x_0,t_i,t_f,\\Gamma^{ (Eg,0) })],what[B(x_1,t_i,\\Gamma^{ (Eg,0) })],std::vector<std::vector<int>>{{3, 0}, {2, 1}, {1, 2}, {0, 3}}));\n",
      "7,6\n",
      "diagrams.push_back(Diagram(what[B^*(x_0,t_i,t_f,\\Gamma^{ (Eg,0) })],what[B(x_1,t_i,\\Gamma^{ (Eg,0) })],std::vector<std::vector<int>>{{3, 2}, {2, 1}, {1, 0}, {0, 3}}));\n",
      "7,8\n",
      "diagrams.push_back(Diagram(what[B^*(x_0,t_i,t_f,\\Gamma^{ (Eg,0) })],what[B(x_1,t_i,\\Gamma^{ (Eg,1) })],std::vector<std::vector<int>>{{3, 0}, {2, 3}, {1, 2}, {0, 1}}));\n",
      "7,8\n",
      "diagrams.push_back(Diagram(what[B^*(x_0,t_i,t_f,\\Gamma^{ (Eg,0) })],what[B(x_1,t_i,\\Gamma^{ (Eg,1) })],std::vector<std::vector<int>>{{3, 2}, {2, 3}, {1, 0}, {0, 1}}));\n",
      "7,8\n",
      "diagrams.push_back(Diagram(what[B^*(x_0,t_i,t_f,\\Gamma^{ (Eg,0) })],what[B(x_1,t_i,\\Gamma^{ (Eg,1) })],std::vector<std::vector<int>>{{3, 0}, {2, 1}, {1, 2}, {0, 3}}));\n",
      "7,8\n",
      "diagrams.push_back(Diagram(what[B^*(x_0,t_i,t_f,\\Gamma^{ (Eg,0) })],what[B(x_1,t_i,\\Gamma^{ (Eg,1) })],std::vector<std::vector<int>>{{3, 2}, {2, 1}, {1, 0}, {0, 3}}));\n",
      "9,0\n",
      "diagrams.push_back(Diagram(what[B^*(x_0,t_i,t_f,\\Gamma^{ (Eg,1) })],what[B(x_1,t_i,\\Gamma^{ (buchoff,0) })],std::vector<std::vector<int>>{{3, 0}, {2, 3}, {1, 2}, {0, 1}}));\n",
      "9,0\n",
      "diagrams.push_back(Diagram(what[B^*(x_0,t_i,t_f,\\Gamma^{ (Eg,1) })],what[B(x_1,t_i,\\Gamma^{ (buchoff,0) })],std::vector<std::vector<int>>{{3, 2}, {2, 3}, {1, 0}, {0, 1}}));\n",
      "9,0\n",
      "diagrams.push_back(Diagram(what[B^*(x_0,t_i,t_f,\\Gamma^{ (Eg,1) })],what[B(x_1,t_i,\\Gamma^{ (buchoff,0) })],std::vector<std::vector<int>>{{3, 0}, {2, 1}, {1, 2}, {0, 3}}));\n",
      "9,0\n",
      "diagrams.push_back(Diagram(what[B^*(x_0,t_i,t_f,\\Gamma^{ (Eg,1) })],what[B(x_1,t_i,\\Gamma^{ (buchoff,0) })],std::vector<std::vector<int>>{{3, 2}, {2, 1}, {1, 0}, {0, 3}}));\n",
      "2,9\n",
      "diagrams.push_back(Diagram(what[B(x_1,t_i,\\Gamma^{ (A1g,0) })],what[B^*(x_0,t_i,t_f,\\Gamma^{ (Eg,1) })],std::vector<std::vector<int>>{{3, 2}, {2, 1}, {1, 0}, {0, 3}}));\n",
      "2,9\n",
      "diagrams.push_back(Diagram(what[B(x_1,t_i,\\Gamma^{ (A1g,0) })],what[B^*(x_0,t_i,t_f,\\Gamma^{ (Eg,1) })],std::vector<std::vector<int>>{{3, 2}, {2, 3}, {1, 0}, {0, 1}}));\n",
      "2,9\n",
      "diagrams.push_back(Diagram(what[B(x_1,t_i,\\Gamma^{ (A1g,0) })],what[B^*(x_0,t_i,t_f,\\Gamma^{ (Eg,1) })],std::vector<std::vector<int>>{{3, 0}, {2, 1}, {1, 2}, {0, 3}}));\n",
      "2,9\n",
      "diagrams.push_back(Diagram(what[B(x_1,t_i,\\Gamma^{ (A1g,0) })],what[B^*(x_0,t_i,t_f,\\Gamma^{ (Eg,1) })],std::vector<std::vector<int>>{{3, 0}, {2, 3}, {1, 2}, {0, 1}}));\n",
      "4,9\n",
      "diagrams.push_back(Diagram(what[B(x_1,t_i,\\Gamma^{ (A1g,1) })],what[B^*(x_0,t_i,t_f,\\Gamma^{ (Eg,1) })],std::vector<std::vector<int>>{{3, 2}, {2, 1}, {1, 0}, {0, 3}}));\n",
      "4,9\n",
      "diagrams.push_back(Diagram(what[B(x_1,t_i,\\Gamma^{ (A1g,1) })],what[B^*(x_0,t_i,t_f,\\Gamma^{ (Eg,1) })],std::vector<std::vector<int>>{{3, 2}, {2, 3}, {1, 0}, {0, 1}}));\n",
      "4,9\n",
      "diagrams.push_back(Diagram(what[B(x_1,t_i,\\Gamma^{ (A1g,1) })],what[B^*(x_0,t_i,t_f,\\Gamma^{ (Eg,1) })],std::vector<std::vector<int>>{{3, 0}, {2, 1}, {1, 2}, {0, 3}}));\n",
      "4,9\n",
      "diagrams.push_back(Diagram(what[B(x_1,t_i,\\Gamma^{ (A1g,1) })],what[B^*(x_0,t_i,t_f,\\Gamma^{ (Eg,1) })],std::vector<std::vector<int>>{{3, 0}, {2, 3}, {1, 2}, {0, 1}}));\n",
      "6,9\n",
      "diagrams.push_back(Diagram(what[B(x_1,t_i,\\Gamma^{ (Eg,0) })],what[B^*(x_0,t_i,t_f,\\Gamma^{ (Eg,1) })],std::vector<std::vector<int>>{{3, 2}, {2, 1}, {1, 0}, {0, 3}}));\n",
      "6,9\n",
      "diagrams.push_back(Diagram(what[B(x_1,t_i,\\Gamma^{ (Eg,0) })],what[B^*(x_0,t_i,t_f,\\Gamma^{ (Eg,1) })],std::vector<std::vector<int>>{{3, 2}, {2, 3}, {1, 0}, {0, 1}}));\n",
      "6,9\n",
      "diagrams.push_back(Diagram(what[B(x_1,t_i,\\Gamma^{ (Eg,0) })],what[B^*(x_0,t_i,t_f,\\Gamma^{ (Eg,1) })],std::vector<std::vector<int>>{{3, 0}, {2, 1}, {1, 2}, {0, 3}}));\n",
      "6,9\n",
      "diagrams.push_back(Diagram(what[B(x_1,t_i,\\Gamma^{ (Eg,0) })],what[B^*(x_0,t_i,t_f,\\Gamma^{ (Eg,1) })],std::vector<std::vector<int>>{{3, 0}, {2, 3}, {1, 2}, {0, 1}}));\n",
      "9,8\n",
      "diagrams.push_back(Diagram(what[B^*(x_0,t_i,t_f,\\Gamma^{ (Eg,1) })],what[B(x_1,t_i,\\Gamma^{ (Eg,1) })],std::vector<std::vector<int>>{{3, 0}, {2, 3}, {1, 2}, {0, 1}}));\n",
      "9,8\n",
      "diagrams.push_back(Diagram(what[B^*(x_0,t_i,t_f,\\Gamma^{ (Eg,1) })],what[B(x_1,t_i,\\Gamma^{ (Eg,1) })],std::vector<std::vector<int>>{{3, 2}, {2, 3}, {1, 0}, {0, 1}}));\n",
      "9,8\n",
      "diagrams.push_back(Diagram(what[B^*(x_0,t_i,t_f,\\Gamma^{ (Eg,1) })],what[B(x_1,t_i,\\Gamma^{ (Eg,1) })],std::vector<std::vector<int>>{{3, 0}, {2, 1}, {1, 2}, {0, 3}}));\n",
      "9,8\n",
      "diagrams.push_back(Diagram(what[B^*(x_0,t_i,t_f,\\Gamma^{ (Eg,1) })],what[B(x_1,t_i,\\Gamma^{ (Eg,1) })],std::vector<std::vector<int>>{{3, 2}, {2, 1}, {1, 0}, {0, 3}}));\n",
      "fild footer\n"
     ]
    }
   ],
   "source": [
    "def cppArrayPrint(lst):\n",
    "    return str(lst).replace('[','{').replace(']','}')\n",
    "\n",
    "\n",
    "def create_diagram_gpu_file(laphDiagrams, allBaryonTensors):\n",
    "    print(\"file header\")\n",
    "    for d in laphDiagrams:\n",
    "        for blocks,contraction in diagram_as_graph(d,allBaryonTensors).items():\n",
    "            print(blocks)\n",
    "            blocks=blocks.split(',')\n",
    "\n",
    "\n",
    "            block0=allBaryonTensorsBack[int(blocks[0])]\n",
    "            block1=allBaryonTensorsBack[int(blocks[1])]\n",
    "            \n",
    "            if block0[0:3]==\"B^*\":\n",
    "                b0type='bprops'\n",
    "            else: \n",
    "                b0type=''\n",
    "\n",
    "            print(\"diagrams.push_back(Diagram({}[{}],{}[{}],std::vector<std::vector<int>>{}));\".format(b0type,b0idx,b1type,b1idx,cppArrayPrint(contraction)))\n",
    "\n",
    "    print(\"fild footer\")\n",
    "        \n",
    "\n",
    "create_diagram_gpu_file(laphDiagrams,allBaryonTensors)\n",
    "#for d in laphDiagrams:\n",
    "    #print(diagram_as_graph(d,allBaryonTensors))\n",
    "    "
   ]
  },
  {
   "cell_type": "code",
   "execution_count": 14,
   "metadata": {},
   "outputs": [
    {
     "data": {
      "text/latex": [
       "$\\displaystyle -1.0 B(x_1,t_i,\\Gamma^{ (buchoff,0) })_{{4} {5} {6} {7}}B^*(x_0,t_i,t_f,\\Gamma^{ (buchoff,0) })_{{5} {6} {7} {4}}$"
      ],
      "text/plain": [
       "<IPython.core.display.Math object>"
      ]
     },
     "metadata": {},
     "output_type": "display_data"
    },
    {
     "data": {
      "text/latex": [
       "$\\displaystyle 1.0 B(x_1,t_i,\\Gamma^{ (buchoff,0) })_{{4} {5} {6} {7}}B^*(x_0,t_i,t_f,\\Gamma^{ (buchoff,0) })_{{5} {4} {7} {6}}$"
      ],
      "text/plain": [
       "<IPython.core.display.Math object>"
      ]
     },
     "metadata": {},
     "output_type": "display_data"
    },
    {
     "data": {
      "text/latex": [
       "$\\displaystyle 1.0 B(x_1,t_i,\\Gamma^{ (buchoff,0) })_{{4} {5} {6} {7}}B^*(x_0,t_i,t_f,\\Gamma^{ (buchoff,0) })_{{7} {6} {5} {4}}$"
      ],
      "text/plain": [
       "<IPython.core.display.Math object>"
      ]
     },
     "metadata": {},
     "output_type": "display_data"
    },
    {
     "data": {
      "text/latex": [
       "$\\displaystyle -1.0 B(x_1,t_i,\\Gamma^{ (buchoff,0) })_{{4} {5} {6} {7}}B^*(x_0,t_i,t_f,\\Gamma^{ (buchoff,0) })_{{7} {4} {5} {6}}$"
      ],
      "text/plain": [
       "<IPython.core.display.Math object>"
      ]
     },
     "metadata": {},
     "output_type": "display_data"
    },
    {
     "data": {
      "text/latex": [
       "$\\displaystyle -1.0 B^*(x_0,t_i,t_f,\\Gamma^{ (buchoff,0) })_{{13} {14} {15} {12}}B(x_1,t_i,\\Gamma^{ (A1g,0) })_{{12} {13} {14} {15}}$"
      ],
      "text/plain": [
       "<IPython.core.display.Math object>"
      ]
     },
     "metadata": {},
     "output_type": "display_data"
    },
    {
     "data": {
      "text/latex": [
       "$\\displaystyle 1.0 B^*(x_0,t_i,t_f,\\Gamma^{ (buchoff,0) })_{{13} {12} {15} {14}}B(x_1,t_i,\\Gamma^{ (A1g,0) })_{{12} {13} {14} {15}}$"
      ],
      "text/plain": [
       "<IPython.core.display.Math object>"
      ]
     },
     "metadata": {},
     "output_type": "display_data"
    },
    {
     "data": {
      "text/latex": [
       "$\\displaystyle 1.0 B^*(x_0,t_i,t_f,\\Gamma^{ (buchoff,0) })_{{15} {14} {13} {12}}B(x_1,t_i,\\Gamma^{ (A1g,0) })_{{12} {13} {14} {15}}$"
      ],
      "text/plain": [
       "<IPython.core.display.Math object>"
      ]
     },
     "metadata": {},
     "output_type": "display_data"
    },
    {
     "data": {
      "text/latex": [
       "$\\displaystyle -1.0 B^*(x_0,t_i,t_f,\\Gamma^{ (buchoff,0) })_{{15} {12} {13} {14}}B(x_1,t_i,\\Gamma^{ (A1g,0) })_{{12} {13} {14} {15}}$"
      ],
      "text/plain": [
       "<IPython.core.display.Math object>"
      ]
     },
     "metadata": {},
     "output_type": "display_data"
    },
    {
     "data": {
      "text/latex": [
       "$\\displaystyle -1.0 B^*(x_0,t_i,t_f,\\Gamma^{ (buchoff,0) })_{{21} {22} {23} {20}}B(x_1,t_i,\\Gamma^{ (A1g,1) })_{{20} {21} {22} {23}}$"
      ],
      "text/plain": [
       "<IPython.core.display.Math object>"
      ]
     },
     "metadata": {},
     "output_type": "display_data"
    },
    {
     "data": {
      "text/latex": [
       "$\\displaystyle 1.0 B^*(x_0,t_i,t_f,\\Gamma^{ (buchoff,0) })_{{21} {20} {23} {22}}B(x_1,t_i,\\Gamma^{ (A1g,1) })_{{20} {21} {22} {23}}$"
      ],
      "text/plain": [
       "<IPython.core.display.Math object>"
      ]
     },
     "metadata": {},
     "output_type": "display_data"
    },
    {
     "data": {
      "text/latex": [
       "$\\displaystyle 1.0 B^*(x_0,t_i,t_f,\\Gamma^{ (buchoff,0) })_{{23} {22} {21} {20}}B(x_1,t_i,\\Gamma^{ (A1g,1) })_{{20} {21} {22} {23}}$"
      ],
      "text/plain": [
       "<IPython.core.display.Math object>"
      ]
     },
     "metadata": {},
     "output_type": "display_data"
    },
    {
     "data": {
      "text/latex": [
       "$\\displaystyle -1.0 B^*(x_0,t_i,t_f,\\Gamma^{ (buchoff,0) })_{{23} {20} {21} {22}}B(x_1,t_i,\\Gamma^{ (A1g,1) })_{{20} {21} {22} {23}}$"
      ],
      "text/plain": [
       "<IPython.core.display.Math object>"
      ]
     },
     "metadata": {},
     "output_type": "display_data"
    },
    {
     "data": {
      "text/latex": [
       "$\\displaystyle -1.0 B^*(x_0,t_i,t_f,\\Gamma^{ (buchoff,0) })_{{29} {30} {31} {28}}B(x_1,t_i,\\Gamma^{ (Eg,0) })_{{28} {29} {30} {31}}$"
      ],
      "text/plain": [
       "<IPython.core.display.Math object>"
      ]
     },
     "metadata": {},
     "output_type": "display_data"
    },
    {
     "data": {
      "text/latex": [
       "$\\displaystyle 1.0 B^*(x_0,t_i,t_f,\\Gamma^{ (buchoff,0) })_{{29} {28} {31} {30}}B(x_1,t_i,\\Gamma^{ (Eg,0) })_{{28} {29} {30} {31}}$"
      ],
      "text/plain": [
       "<IPython.core.display.Math object>"
      ]
     },
     "metadata": {},
     "output_type": "display_data"
    },
    {
     "data": {
      "text/latex": [
       "$\\displaystyle 1.0 B^*(x_0,t_i,t_f,\\Gamma^{ (buchoff,0) })_{{31} {30} {29} {28}}B(x_1,t_i,\\Gamma^{ (Eg,0) })_{{28} {29} {30} {31}}$"
      ],
      "text/plain": [
       "<IPython.core.display.Math object>"
      ]
     },
     "metadata": {},
     "output_type": "display_data"
    },
    {
     "data": {
      "text/latex": [
       "$\\displaystyle -1.0 B^*(x_0,t_i,t_f,\\Gamma^{ (buchoff,0) })_{{31} {28} {29} {30}}B(x_1,t_i,\\Gamma^{ (Eg,0) })_{{28} {29} {30} {31}}$"
      ],
      "text/plain": [
       "<IPython.core.display.Math object>"
      ]
     },
     "metadata": {},
     "output_type": "display_data"
    },
    {
     "data": {
      "text/latex": [
       "$\\displaystyle -1.0 B^*(x_0,t_i,t_f,\\Gamma^{ (buchoff,0) })_{{37} {38} {39} {36}}B(x_1,t_i,\\Gamma^{ (Eg,1) })_{{36} {37} {38} {39}}$"
      ],
      "text/plain": [
       "<IPython.core.display.Math object>"
      ]
     },
     "metadata": {},
     "output_type": "display_data"
    },
    {
     "data": {
      "text/latex": [
       "$\\displaystyle 1.0 B^*(x_0,t_i,t_f,\\Gamma^{ (buchoff,0) })_{{37} {36} {39} {38}}B(x_1,t_i,\\Gamma^{ (Eg,1) })_{{36} {37} {38} {39}}$"
      ],
      "text/plain": [
       "<IPython.core.display.Math object>"
      ]
     },
     "metadata": {},
     "output_type": "display_data"
    },
    {
     "data": {
      "text/latex": [
       "$\\displaystyle 1.0 B^*(x_0,t_i,t_f,\\Gamma^{ (buchoff,0) })_{{39} {38} {37} {36}}B(x_1,t_i,\\Gamma^{ (Eg,1) })_{{36} {37} {38} {39}}$"
      ],
      "text/plain": [
       "<IPython.core.display.Math object>"
      ]
     },
     "metadata": {},
     "output_type": "display_data"
    },
    {
     "data": {
      "text/latex": [
       "$\\displaystyle -1.0 B^*(x_0,t_i,t_f,\\Gamma^{ (buchoff,0) })_{{39} {36} {37} {38}}B(x_1,t_i,\\Gamma^{ (Eg,1) })_{{36} {37} {38} {39}}$"
      ],
      "text/plain": [
       "<IPython.core.display.Math object>"
      ]
     },
     "metadata": {},
     "output_type": "display_data"
    },
    {
     "data": {
      "text/latex": [
       "$\\displaystyle -1.0 B(x_1,t_i,\\Gamma^{ (buchoff,0) })_{{4} {5} {6} {7}}B^*(x_0,t_i,t_f,\\Gamma^{ (A1g,0) })_{{5} {6} {7} {4}}$"
      ],
      "text/plain": [
       "<IPython.core.display.Math object>"
      ]
     },
     "metadata": {},
     "output_type": "display_data"
    },
    {
     "data": {
      "text/latex": [
       "$\\displaystyle 1.0 B(x_1,t_i,\\Gamma^{ (buchoff,0) })_{{4} {5} {6} {7}}B^*(x_0,t_i,t_f,\\Gamma^{ (A1g,0) })_{{5} {4} {7} {6}}$"
      ],
      "text/plain": [
       "<IPython.core.display.Math object>"
      ]
     },
     "metadata": {},
     "output_type": "display_data"
    },
    {
     "data": {
      "text/latex": [
       "$\\displaystyle 1.0 B(x_1,t_i,\\Gamma^{ (buchoff,0) })_{{4} {5} {6} {7}}B^*(x_0,t_i,t_f,\\Gamma^{ (A1g,0) })_{{7} {6} {5} {4}}$"
      ],
      "text/plain": [
       "<IPython.core.display.Math object>"
      ]
     },
     "metadata": {},
     "output_type": "display_data"
    },
    {
     "data": {
      "text/latex": [
       "$\\displaystyle -1.0 B(x_1,t_i,\\Gamma^{ (buchoff,0) })_{{4} {5} {6} {7}}B^*(x_0,t_i,t_f,\\Gamma^{ (A1g,0) })_{{7} {4} {5} {6}}$"
      ],
      "text/plain": [
       "<IPython.core.display.Math object>"
      ]
     },
     "metadata": {},
     "output_type": "display_data"
    },
    {
     "data": {
      "text/latex": [
       "$\\displaystyle -1.0 B^*(x_0,t_i,t_f,\\Gamma^{ (A1g,0) })_{{13} {14} {15} {12}}B(x_1,t_i,\\Gamma^{ (A1g,0) })_{{12} {13} {14} {15}}$"
      ],
      "text/plain": [
       "<IPython.core.display.Math object>"
      ]
     },
     "metadata": {},
     "output_type": "display_data"
    },
    {
     "data": {
      "text/latex": [
       "$\\displaystyle 1.0 B^*(x_0,t_i,t_f,\\Gamma^{ (A1g,0) })_{{13} {12} {15} {14}}B(x_1,t_i,\\Gamma^{ (A1g,0) })_{{12} {13} {14} {15}}$"
      ],
      "text/plain": [
       "<IPython.core.display.Math object>"
      ]
     },
     "metadata": {},
     "output_type": "display_data"
    },
    {
     "data": {
      "text/latex": [
       "$\\displaystyle 1.0 B^*(x_0,t_i,t_f,\\Gamma^{ (A1g,0) })_{{15} {14} {13} {12}}B(x_1,t_i,\\Gamma^{ (A1g,0) })_{{12} {13} {14} {15}}$"
      ],
      "text/plain": [
       "<IPython.core.display.Math object>"
      ]
     },
     "metadata": {},
     "output_type": "display_data"
    },
    {
     "data": {
      "text/latex": [
       "$\\displaystyle -1.0 B^*(x_0,t_i,t_f,\\Gamma^{ (A1g,0) })_{{15} {12} {13} {14}}B(x_1,t_i,\\Gamma^{ (A1g,0) })_{{12} {13} {14} {15}}$"
      ],
      "text/plain": [
       "<IPython.core.display.Math object>"
      ]
     },
     "metadata": {},
     "output_type": "display_data"
    },
    {
     "data": {
      "text/latex": [
       "$\\displaystyle -1.0 B(x_1,t_i,\\Gamma^{ (A1g,1) })_{{20} {21} {22} {23}}B^*(x_0,t_i,t_f,\\Gamma^{ (A1g,0) })_{{21} {22} {23} {20}}$"
      ],
      "text/plain": [
       "<IPython.core.display.Math object>"
      ]
     },
     "metadata": {},
     "output_type": "display_data"
    },
    {
     "data": {
      "text/latex": [
       "$\\displaystyle 1.0 B(x_1,t_i,\\Gamma^{ (A1g,1) })_{{20} {21} {22} {23}}B^*(x_0,t_i,t_f,\\Gamma^{ (A1g,0) })_{{21} {20} {23} {22}}$"
      ],
      "text/plain": [
       "<IPython.core.display.Math object>"
      ]
     },
     "metadata": {},
     "output_type": "display_data"
    },
    {
     "data": {
      "text/latex": [
       "$\\displaystyle 1.0 B(x_1,t_i,\\Gamma^{ (A1g,1) })_{{20} {21} {22} {23}}B^*(x_0,t_i,t_f,\\Gamma^{ (A1g,0) })_{{23} {22} {21} {20}}$"
      ],
      "text/plain": [
       "<IPython.core.display.Math object>"
      ]
     },
     "metadata": {},
     "output_type": "display_data"
    },
    {
     "data": {
      "text/latex": [
       "$\\displaystyle -1.0 B(x_1,t_i,\\Gamma^{ (A1g,1) })_{{20} {21} {22} {23}}B^*(x_0,t_i,t_f,\\Gamma^{ (A1g,0) })_{{23} {20} {21} {22}}$"
      ],
      "text/plain": [
       "<IPython.core.display.Math object>"
      ]
     },
     "metadata": {},
     "output_type": "display_data"
    },
    {
     "data": {
      "text/latex": [
       "$\\displaystyle -1.0 B(x_1,t_i,\\Gamma^{ (Eg,0) })_{{28} {29} {30} {31}}B^*(x_0,t_i,t_f,\\Gamma^{ (A1g,0) })_{{29} {30} {31} {28}}$"
      ],
      "text/plain": [
       "<IPython.core.display.Math object>"
      ]
     },
     "metadata": {},
     "output_type": "display_data"
    },
    {
     "data": {
      "text/latex": [
       "$\\displaystyle 1.0 B(x_1,t_i,\\Gamma^{ (Eg,0) })_{{28} {29} {30} {31}}B^*(x_0,t_i,t_f,\\Gamma^{ (A1g,0) })_{{29} {28} {31} {30}}$"
      ],
      "text/plain": [
       "<IPython.core.display.Math object>"
      ]
     },
     "metadata": {},
     "output_type": "display_data"
    },
    {
     "data": {
      "text/latex": [
       "$\\displaystyle 1.0 B(x_1,t_i,\\Gamma^{ (Eg,0) })_{{28} {29} {30} {31}}B^*(x_0,t_i,t_f,\\Gamma^{ (A1g,0) })_{{31} {30} {29} {28}}$"
      ],
      "text/plain": [
       "<IPython.core.display.Math object>"
      ]
     },
     "metadata": {},
     "output_type": "display_data"
    },
    {
     "data": {
      "text/latex": [
       "$\\displaystyle -1.0 B(x_1,t_i,\\Gamma^{ (Eg,0) })_{{28} {29} {30} {31}}B^*(x_0,t_i,t_f,\\Gamma^{ (A1g,0) })_{{31} {28} {29} {30}}$"
      ],
      "text/plain": [
       "<IPython.core.display.Math object>"
      ]
     },
     "metadata": {},
     "output_type": "display_data"
    },
    {
     "data": {
      "text/latex": [
       "$\\displaystyle -1.0 B(x_1,t_i,\\Gamma^{ (Eg,1) })_{{36} {37} {38} {39}}B^*(x_0,t_i,t_f,\\Gamma^{ (A1g,0) })_{{37} {38} {39} {36}}$"
      ],
      "text/plain": [
       "<IPython.core.display.Math object>"
      ]
     },
     "metadata": {},
     "output_type": "display_data"
    },
    {
     "data": {
      "text/latex": [
       "$\\displaystyle 1.0 B(x_1,t_i,\\Gamma^{ (Eg,1) })_{{36} {37} {38} {39}}B^*(x_0,t_i,t_f,\\Gamma^{ (A1g,0) })_{{37} {36} {39} {38}}$"
      ],
      "text/plain": [
       "<IPython.core.display.Math object>"
      ]
     },
     "metadata": {},
     "output_type": "display_data"
    },
    {
     "data": {
      "text/latex": [
       "$\\displaystyle 1.0 B(x_1,t_i,\\Gamma^{ (Eg,1) })_{{36} {37} {38} {39}}B^*(x_0,t_i,t_f,\\Gamma^{ (A1g,0) })_{{39} {38} {37} {36}}$"
      ],
      "text/plain": [
       "<IPython.core.display.Math object>"
      ]
     },
     "metadata": {},
     "output_type": "display_data"
    },
    {
     "data": {
      "text/latex": [
       "$\\displaystyle -1.0 B(x_1,t_i,\\Gamma^{ (Eg,1) })_{{36} {37} {38} {39}}B^*(x_0,t_i,t_f,\\Gamma^{ (A1g,0) })_{{39} {36} {37} {38}}$"
      ],
      "text/plain": [
       "<IPython.core.display.Math object>"
      ]
     },
     "metadata": {},
     "output_type": "display_data"
    },
    {
     "data": {
      "text/latex": [
       "$\\displaystyle -1.0 B(x_1,t_i,\\Gamma^{ (buchoff,0) })_{{4} {5} {6} {7}}B^*(x_0,t_i,t_f,\\Gamma^{ (A1g,1) })_{{5} {6} {7} {4}}$"
      ],
      "text/plain": [
       "<IPython.core.display.Math object>"
      ]
     },
     "metadata": {},
     "output_type": "display_data"
    },
    {
     "data": {
      "text/latex": [
       "$\\displaystyle 1.0 B(x_1,t_i,\\Gamma^{ (buchoff,0) })_{{4} {5} {6} {7}}B^*(x_0,t_i,t_f,\\Gamma^{ (A1g,1) })_{{5} {4} {7} {6}}$"
      ],
      "text/plain": [
       "<IPython.core.display.Math object>"
      ]
     },
     "metadata": {},
     "output_type": "display_data"
    },
    {
     "data": {
      "text/latex": [
       "$\\displaystyle 1.0 B(x_1,t_i,\\Gamma^{ (buchoff,0) })_{{4} {5} {6} {7}}B^*(x_0,t_i,t_f,\\Gamma^{ (A1g,1) })_{{7} {6} {5} {4}}$"
      ],
      "text/plain": [
       "<IPython.core.display.Math object>"
      ]
     },
     "metadata": {},
     "output_type": "display_data"
    },
    {
     "data": {
      "text/latex": [
       "$\\displaystyle -1.0 B(x_1,t_i,\\Gamma^{ (buchoff,0) })_{{4} {5} {6} {7}}B^*(x_0,t_i,t_f,\\Gamma^{ (A1g,1) })_{{7} {4} {5} {6}}$"
      ],
      "text/plain": [
       "<IPython.core.display.Math object>"
      ]
     },
     "metadata": {},
     "output_type": "display_data"
    },
    {
     "data": {
      "text/latex": [
       "$\\displaystyle -1.0 B^*(x_0,t_i,t_f,\\Gamma^{ (A1g,1) })_{{13} {14} {15} {12}}B(x_1,t_i,\\Gamma^{ (A1g,0) })_{{12} {13} {14} {15}}$"
      ],
      "text/plain": [
       "<IPython.core.display.Math object>"
      ]
     },
     "metadata": {},
     "output_type": "display_data"
    },
    {
     "data": {
      "text/latex": [
       "$\\displaystyle 1.0 B^*(x_0,t_i,t_f,\\Gamma^{ (A1g,1) })_{{13} {12} {15} {14}}B(x_1,t_i,\\Gamma^{ (A1g,0) })_{{12} {13} {14} {15}}$"
      ],
      "text/plain": [
       "<IPython.core.display.Math object>"
      ]
     },
     "metadata": {},
     "output_type": "display_data"
    },
    {
     "data": {
      "text/latex": [
       "$\\displaystyle 1.0 B^*(x_0,t_i,t_f,\\Gamma^{ (A1g,1) })_{{15} {14} {13} {12}}B(x_1,t_i,\\Gamma^{ (A1g,0) })_{{12} {13} {14} {15}}$"
      ],
      "text/plain": [
       "<IPython.core.display.Math object>"
      ]
     },
     "metadata": {},
     "output_type": "display_data"
    },
    {
     "data": {
      "text/latex": [
       "$\\displaystyle -1.0 B^*(x_0,t_i,t_f,\\Gamma^{ (A1g,1) })_{{15} {12} {13} {14}}B(x_1,t_i,\\Gamma^{ (A1g,0) })_{{12} {13} {14} {15}}$"
      ],
      "text/plain": [
       "<IPython.core.display.Math object>"
      ]
     },
     "metadata": {},
     "output_type": "display_data"
    },
    {
     "data": {
      "text/latex": [
       "$\\displaystyle -1.0 B(x_1,t_i,\\Gamma^{ (A1g,1) })_{{20} {21} {22} {23}}B^*(x_0,t_i,t_f,\\Gamma^{ (A1g,1) })_{{21} {22} {23} {20}}$"
      ],
      "text/plain": [
       "<IPython.core.display.Math object>"
      ]
     },
     "metadata": {},
     "output_type": "display_data"
    },
    {
     "data": {
      "text/latex": [
       "$\\displaystyle 1.0 B(x_1,t_i,\\Gamma^{ (A1g,1) })_{{20} {21} {22} {23}}B^*(x_0,t_i,t_f,\\Gamma^{ (A1g,1) })_{{21} {20} {23} {22}}$"
      ],
      "text/plain": [
       "<IPython.core.display.Math object>"
      ]
     },
     "metadata": {},
     "output_type": "display_data"
    },
    {
     "data": {
      "text/latex": [
       "$\\displaystyle 1.0 B(x_1,t_i,\\Gamma^{ (A1g,1) })_{{20} {21} {22} {23}}B^*(x_0,t_i,t_f,\\Gamma^{ (A1g,1) })_{{23} {22} {21} {20}}$"
      ],
      "text/plain": [
       "<IPython.core.display.Math object>"
      ]
     },
     "metadata": {},
     "output_type": "display_data"
    },
    {
     "data": {
      "text/latex": [
       "$\\displaystyle -1.0 B(x_1,t_i,\\Gamma^{ (A1g,1) })_{{20} {21} {22} {23}}B^*(x_0,t_i,t_f,\\Gamma^{ (A1g,1) })_{{23} {20} {21} {22}}$"
      ],
      "text/plain": [
       "<IPython.core.display.Math object>"
      ]
     },
     "metadata": {},
     "output_type": "display_data"
    },
    {
     "data": {
      "text/latex": [
       "$\\displaystyle -1.0 B(x_1,t_i,\\Gamma^{ (Eg,0) })_{{28} {29} {30} {31}}B^*(x_0,t_i,t_f,\\Gamma^{ (A1g,1) })_{{29} {30} {31} {28}}$"
      ],
      "text/plain": [
       "<IPython.core.display.Math object>"
      ]
     },
     "metadata": {},
     "output_type": "display_data"
    },
    {
     "data": {
      "text/latex": [
       "$\\displaystyle 1.0 B(x_1,t_i,\\Gamma^{ (Eg,0) })_{{28} {29} {30} {31}}B^*(x_0,t_i,t_f,\\Gamma^{ (A1g,1) })_{{29} {28} {31} {30}}$"
      ],
      "text/plain": [
       "<IPython.core.display.Math object>"
      ]
     },
     "metadata": {},
     "output_type": "display_data"
    },
    {
     "data": {
      "text/latex": [
       "$\\displaystyle 1.0 B(x_1,t_i,\\Gamma^{ (Eg,0) })_{{28} {29} {30} {31}}B^*(x_0,t_i,t_f,\\Gamma^{ (A1g,1) })_{{31} {30} {29} {28}}$"
      ],
      "text/plain": [
       "<IPython.core.display.Math object>"
      ]
     },
     "metadata": {},
     "output_type": "display_data"
    },
    {
     "data": {
      "text/latex": [
       "$\\displaystyle -1.0 B(x_1,t_i,\\Gamma^{ (Eg,0) })_{{28} {29} {30} {31}}B^*(x_0,t_i,t_f,\\Gamma^{ (A1g,1) })_{{31} {28} {29} {30}}$"
      ],
      "text/plain": [
       "<IPython.core.display.Math object>"
      ]
     },
     "metadata": {},
     "output_type": "display_data"
    },
    {
     "data": {
      "text/latex": [
       "$\\displaystyle -1.0 B(x_1,t_i,\\Gamma^{ (Eg,1) })_{{36} {37} {38} {39}}B^*(x_0,t_i,t_f,\\Gamma^{ (A1g,1) })_{{37} {38} {39} {36}}$"
      ],
      "text/plain": [
       "<IPython.core.display.Math object>"
      ]
     },
     "metadata": {},
     "output_type": "display_data"
    },
    {
     "data": {
      "text/latex": [
       "$\\displaystyle 1.0 B(x_1,t_i,\\Gamma^{ (Eg,1) })_{{36} {37} {38} {39}}B^*(x_0,t_i,t_f,\\Gamma^{ (A1g,1) })_{{37} {36} {39} {38}}$"
      ],
      "text/plain": [
       "<IPython.core.display.Math object>"
      ]
     },
     "metadata": {},
     "output_type": "display_data"
    },
    {
     "data": {
      "text/latex": [
       "$\\displaystyle 1.0 B(x_1,t_i,\\Gamma^{ (Eg,1) })_{{36} {37} {38} {39}}B^*(x_0,t_i,t_f,\\Gamma^{ (A1g,1) })_{{39} {38} {37} {36}}$"
      ],
      "text/plain": [
       "<IPython.core.display.Math object>"
      ]
     },
     "metadata": {},
     "output_type": "display_data"
    },
    {
     "data": {
      "text/latex": [
       "$\\displaystyle -1.0 B(x_1,t_i,\\Gamma^{ (Eg,1) })_{{36} {37} {38} {39}}B^*(x_0,t_i,t_f,\\Gamma^{ (A1g,1) })_{{39} {36} {37} {38}}$"
      ],
      "text/plain": [
       "<IPython.core.display.Math object>"
      ]
     },
     "metadata": {},
     "output_type": "display_data"
    },
    {
     "data": {
      "text/latex": [
       "$\\displaystyle -1.0 B(x_1,t_i,\\Gamma^{ (buchoff,0) })_{{4} {5} {6} {7}}B^*(x_0,t_i,t_f,\\Gamma^{ (Eg,0) })_{{5} {6} {7} {4}}$"
      ],
      "text/plain": [
       "<IPython.core.display.Math object>"
      ]
     },
     "metadata": {},
     "output_type": "display_data"
    },
    {
     "data": {
      "text/latex": [
       "$\\displaystyle 1.0 B(x_1,t_i,\\Gamma^{ (buchoff,0) })_{{4} {5} {6} {7}}B^*(x_0,t_i,t_f,\\Gamma^{ (Eg,0) })_{{5} {4} {7} {6}}$"
      ],
      "text/plain": [
       "<IPython.core.display.Math object>"
      ]
     },
     "metadata": {},
     "output_type": "display_data"
    },
    {
     "data": {
      "text/latex": [
       "$\\displaystyle 1.0 B(x_1,t_i,\\Gamma^{ (buchoff,0) })_{{4} {5} {6} {7}}B^*(x_0,t_i,t_f,\\Gamma^{ (Eg,0) })_{{7} {6} {5} {4}}$"
      ],
      "text/plain": [
       "<IPython.core.display.Math object>"
      ]
     },
     "metadata": {},
     "output_type": "display_data"
    },
    {
     "data": {
      "text/latex": [
       "$\\displaystyle -1.0 B(x_1,t_i,\\Gamma^{ (buchoff,0) })_{{4} {5} {6} {7}}B^*(x_0,t_i,t_f,\\Gamma^{ (Eg,0) })_{{7} {4} {5} {6}}$"
      ],
      "text/plain": [
       "<IPython.core.display.Math object>"
      ]
     },
     "metadata": {},
     "output_type": "display_data"
    },
    {
     "data": {
      "text/latex": [
       "$\\displaystyle -1.0 B^*(x_0,t_i,t_f,\\Gamma^{ (Eg,0) })_{{13} {14} {15} {12}}B(x_1,t_i,\\Gamma^{ (A1g,0) })_{{12} {13} {14} {15}}$"
      ],
      "text/plain": [
       "<IPython.core.display.Math object>"
      ]
     },
     "metadata": {},
     "output_type": "display_data"
    },
    {
     "data": {
      "text/latex": [
       "$\\displaystyle 1.0 B^*(x_0,t_i,t_f,\\Gamma^{ (Eg,0) })_{{13} {12} {15} {14}}B(x_1,t_i,\\Gamma^{ (A1g,0) })_{{12} {13} {14} {15}}$"
      ],
      "text/plain": [
       "<IPython.core.display.Math object>"
      ]
     },
     "metadata": {},
     "output_type": "display_data"
    },
    {
     "data": {
      "text/latex": [
       "$\\displaystyle 1.0 B^*(x_0,t_i,t_f,\\Gamma^{ (Eg,0) })_{{15} {14} {13} {12}}B(x_1,t_i,\\Gamma^{ (A1g,0) })_{{12} {13} {14} {15}}$"
      ],
      "text/plain": [
       "<IPython.core.display.Math object>"
      ]
     },
     "metadata": {},
     "output_type": "display_data"
    },
    {
     "data": {
      "text/latex": [
       "$\\displaystyle -1.0 B^*(x_0,t_i,t_f,\\Gamma^{ (Eg,0) })_{{15} {12} {13} {14}}B(x_1,t_i,\\Gamma^{ (A1g,0) })_{{12} {13} {14} {15}}$"
      ],
      "text/plain": [
       "<IPython.core.display.Math object>"
      ]
     },
     "metadata": {},
     "output_type": "display_data"
    },
    {
     "data": {
      "text/latex": [
       "$\\displaystyle -1.0 B^*(x_0,t_i,t_f,\\Gamma^{ (Eg,0) })_{{21} {22} {23} {20}}B(x_1,t_i,\\Gamma^{ (A1g,1) })_{{20} {21} {22} {23}}$"
      ],
      "text/plain": [
       "<IPython.core.display.Math object>"
      ]
     },
     "metadata": {},
     "output_type": "display_data"
    },
    {
     "data": {
      "text/latex": [
       "$\\displaystyle 1.0 B^*(x_0,t_i,t_f,\\Gamma^{ (Eg,0) })_{{21} {20} {23} {22}}B(x_1,t_i,\\Gamma^{ (A1g,1) })_{{20} {21} {22} {23}}$"
      ],
      "text/plain": [
       "<IPython.core.display.Math object>"
      ]
     },
     "metadata": {},
     "output_type": "display_data"
    },
    {
     "data": {
      "text/latex": [
       "$\\displaystyle 1.0 B^*(x_0,t_i,t_f,\\Gamma^{ (Eg,0) })_{{23} {22} {21} {20}}B(x_1,t_i,\\Gamma^{ (A1g,1) })_{{20} {21} {22} {23}}$"
      ],
      "text/plain": [
       "<IPython.core.display.Math object>"
      ]
     },
     "metadata": {},
     "output_type": "display_data"
    },
    {
     "data": {
      "text/latex": [
       "$\\displaystyle -1.0 B^*(x_0,t_i,t_f,\\Gamma^{ (Eg,0) })_{{23} {20} {21} {22}}B(x_1,t_i,\\Gamma^{ (A1g,1) })_{{20} {21} {22} {23}}$"
      ],
      "text/plain": [
       "<IPython.core.display.Math object>"
      ]
     },
     "metadata": {},
     "output_type": "display_data"
    },
    {
     "data": {
      "text/latex": [
       "$\\displaystyle -1.0 B(x_1,t_i,\\Gamma^{ (Eg,0) })_{{28} {29} {30} {31}}B^*(x_0,t_i,t_f,\\Gamma^{ (Eg,0) })_{{29} {30} {31} {28}}$"
      ],
      "text/plain": [
       "<IPython.core.display.Math object>"
      ]
     },
     "metadata": {},
     "output_type": "display_data"
    },
    {
     "data": {
      "text/latex": [
       "$\\displaystyle 1.0 B(x_1,t_i,\\Gamma^{ (Eg,0) })_{{28} {29} {30} {31}}B^*(x_0,t_i,t_f,\\Gamma^{ (Eg,0) })_{{29} {28} {31} {30}}$"
      ],
      "text/plain": [
       "<IPython.core.display.Math object>"
      ]
     },
     "metadata": {},
     "output_type": "display_data"
    },
    {
     "data": {
      "text/latex": [
       "$\\displaystyle 1.0 B(x_1,t_i,\\Gamma^{ (Eg,0) })_{{28} {29} {30} {31}}B^*(x_0,t_i,t_f,\\Gamma^{ (Eg,0) })_{{31} {30} {29} {28}}$"
      ],
      "text/plain": [
       "<IPython.core.display.Math object>"
      ]
     },
     "metadata": {},
     "output_type": "display_data"
    },
    {
     "data": {
      "text/latex": [
       "$\\displaystyle -1.0 B(x_1,t_i,\\Gamma^{ (Eg,0) })_{{28} {29} {30} {31}}B^*(x_0,t_i,t_f,\\Gamma^{ (Eg,0) })_{{31} {28} {29} {30}}$"
      ],
      "text/plain": [
       "<IPython.core.display.Math object>"
      ]
     },
     "metadata": {},
     "output_type": "display_data"
    },
    {
     "data": {
      "text/latex": [
       "$\\displaystyle -1.0 B(x_1,t_i,\\Gamma^{ (Eg,1) })_{{36} {37} {38} {39}}B^*(x_0,t_i,t_f,\\Gamma^{ (Eg,0) })_{{37} {38} {39} {36}}$"
      ],
      "text/plain": [
       "<IPython.core.display.Math object>"
      ]
     },
     "metadata": {},
     "output_type": "display_data"
    },
    {
     "data": {
      "text/latex": [
       "$\\displaystyle 1.0 B(x_1,t_i,\\Gamma^{ (Eg,1) })_{{36} {37} {38} {39}}B^*(x_0,t_i,t_f,\\Gamma^{ (Eg,0) })_{{37} {36} {39} {38}}$"
      ],
      "text/plain": [
       "<IPython.core.display.Math object>"
      ]
     },
     "metadata": {},
     "output_type": "display_data"
    },
    {
     "data": {
      "text/latex": [
       "$\\displaystyle 1.0 B(x_1,t_i,\\Gamma^{ (Eg,1) })_{{36} {37} {38} {39}}B^*(x_0,t_i,t_f,\\Gamma^{ (Eg,0) })_{{39} {38} {37} {36}}$"
      ],
      "text/plain": [
       "<IPython.core.display.Math object>"
      ]
     },
     "metadata": {},
     "output_type": "display_data"
    },
    {
     "data": {
      "text/latex": [
       "$\\displaystyle -1.0 B(x_1,t_i,\\Gamma^{ (Eg,1) })_{{36} {37} {38} {39}}B^*(x_0,t_i,t_f,\\Gamma^{ (Eg,0) })_{{39} {36} {37} {38}}$"
      ],
      "text/plain": [
       "<IPython.core.display.Math object>"
      ]
     },
     "metadata": {},
     "output_type": "display_data"
    },
    {
     "data": {
      "text/latex": [
       "$\\displaystyle -1.0 B(x_1,t_i,\\Gamma^{ (buchoff,0) })_{{4} {5} {6} {7}}B^*(x_0,t_i,t_f,\\Gamma^{ (Eg,1) })_{{5} {6} {7} {4}}$"
      ],
      "text/plain": [
       "<IPython.core.display.Math object>"
      ]
     },
     "metadata": {},
     "output_type": "display_data"
    },
    {
     "data": {
      "text/latex": [
       "$\\displaystyle 1.0 B(x_1,t_i,\\Gamma^{ (buchoff,0) })_{{4} {5} {6} {7}}B^*(x_0,t_i,t_f,\\Gamma^{ (Eg,1) })_{{5} {4} {7} {6}}$"
      ],
      "text/plain": [
       "<IPython.core.display.Math object>"
      ]
     },
     "metadata": {},
     "output_type": "display_data"
    },
    {
     "data": {
      "text/latex": [
       "$\\displaystyle 1.0 B(x_1,t_i,\\Gamma^{ (buchoff,0) })_{{4} {5} {6} {7}}B^*(x_0,t_i,t_f,\\Gamma^{ (Eg,1) })_{{7} {6} {5} {4}}$"
      ],
      "text/plain": [
       "<IPython.core.display.Math object>"
      ]
     },
     "metadata": {},
     "output_type": "display_data"
    },
    {
     "data": {
      "text/latex": [
       "$\\displaystyle -1.0 B(x_1,t_i,\\Gamma^{ (buchoff,0) })_{{4} {5} {6} {7}}B^*(x_0,t_i,t_f,\\Gamma^{ (Eg,1) })_{{7} {4} {5} {6}}$"
      ],
      "text/plain": [
       "<IPython.core.display.Math object>"
      ]
     },
     "metadata": {},
     "output_type": "display_data"
    },
    {
     "data": {
      "text/latex": [
       "$\\displaystyle -1.0 B^*(x_0,t_i,t_f,\\Gamma^{ (Eg,1) })_{{13} {14} {15} {12}}B(x_1,t_i,\\Gamma^{ (A1g,0) })_{{12} {13} {14} {15}}$"
      ],
      "text/plain": [
       "<IPython.core.display.Math object>"
      ]
     },
     "metadata": {},
     "output_type": "display_data"
    },
    {
     "data": {
      "text/latex": [
       "$\\displaystyle 1.0 B^*(x_0,t_i,t_f,\\Gamma^{ (Eg,1) })_{{13} {12} {15} {14}}B(x_1,t_i,\\Gamma^{ (A1g,0) })_{{12} {13} {14} {15}}$"
      ],
      "text/plain": [
       "<IPython.core.display.Math object>"
      ]
     },
     "metadata": {},
     "output_type": "display_data"
    },
    {
     "data": {
      "text/latex": [
       "$\\displaystyle 1.0 B^*(x_0,t_i,t_f,\\Gamma^{ (Eg,1) })_{{15} {14} {13} {12}}B(x_1,t_i,\\Gamma^{ (A1g,0) })_{{12} {13} {14} {15}}$"
      ],
      "text/plain": [
       "<IPython.core.display.Math object>"
      ]
     },
     "metadata": {},
     "output_type": "display_data"
    },
    {
     "data": {
      "text/latex": [
       "$\\displaystyle -1.0 B^*(x_0,t_i,t_f,\\Gamma^{ (Eg,1) })_{{15} {12} {13} {14}}B(x_1,t_i,\\Gamma^{ (A1g,0) })_{{12} {13} {14} {15}}$"
      ],
      "text/plain": [
       "<IPython.core.display.Math object>"
      ]
     },
     "metadata": {},
     "output_type": "display_data"
    },
    {
     "data": {
      "text/latex": [
       "$\\displaystyle -1.0 B^*(x_0,t_i,t_f,\\Gamma^{ (Eg,1) })_{{21} {22} {23} {20}}B(x_1,t_i,\\Gamma^{ (A1g,1) })_{{20} {21} {22} {23}}$"
      ],
      "text/plain": [
       "<IPython.core.display.Math object>"
      ]
     },
     "metadata": {},
     "output_type": "display_data"
    },
    {
     "data": {
      "text/latex": [
       "$\\displaystyle 1.0 B^*(x_0,t_i,t_f,\\Gamma^{ (Eg,1) })_{{21} {20} {23} {22}}B(x_1,t_i,\\Gamma^{ (A1g,1) })_{{20} {21} {22} {23}}$"
      ],
      "text/plain": [
       "<IPython.core.display.Math object>"
      ]
     },
     "metadata": {},
     "output_type": "display_data"
    },
    {
     "data": {
      "text/latex": [
       "$\\displaystyle 1.0 B^*(x_0,t_i,t_f,\\Gamma^{ (Eg,1) })_{{23} {22} {21} {20}}B(x_1,t_i,\\Gamma^{ (A1g,1) })_{{20} {21} {22} {23}}$"
      ],
      "text/plain": [
       "<IPython.core.display.Math object>"
      ]
     },
     "metadata": {},
     "output_type": "display_data"
    },
    {
     "data": {
      "text/latex": [
       "$\\displaystyle -1.0 B^*(x_0,t_i,t_f,\\Gamma^{ (Eg,1) })_{{23} {20} {21} {22}}B(x_1,t_i,\\Gamma^{ (A1g,1) })_{{20} {21} {22} {23}}$"
      ],
      "text/plain": [
       "<IPython.core.display.Math object>"
      ]
     },
     "metadata": {},
     "output_type": "display_data"
    },
    {
     "data": {
      "text/latex": [
       "$\\displaystyle -1.0 B^*(x_0,t_i,t_f,\\Gamma^{ (Eg,1) })_{{29} {30} {31} {28}}B(x_1,t_i,\\Gamma^{ (Eg,0) })_{{28} {29} {30} {31}}$"
      ],
      "text/plain": [
       "<IPython.core.display.Math object>"
      ]
     },
     "metadata": {},
     "output_type": "display_data"
    },
    {
     "data": {
      "text/latex": [
       "$\\displaystyle 1.0 B^*(x_0,t_i,t_f,\\Gamma^{ (Eg,1) })_{{29} {28} {31} {30}}B(x_1,t_i,\\Gamma^{ (Eg,0) })_{{28} {29} {30} {31}}$"
      ],
      "text/plain": [
       "<IPython.core.display.Math object>"
      ]
     },
     "metadata": {},
     "output_type": "display_data"
    },
    {
     "data": {
      "text/latex": [
       "$\\displaystyle 1.0 B^*(x_0,t_i,t_f,\\Gamma^{ (Eg,1) })_{{31} {30} {29} {28}}B(x_1,t_i,\\Gamma^{ (Eg,0) })_{{28} {29} {30} {31}}$"
      ],
      "text/plain": [
       "<IPython.core.display.Math object>"
      ]
     },
     "metadata": {},
     "output_type": "display_data"
    },
    {
     "data": {
      "text/latex": [
       "$\\displaystyle -1.0 B^*(x_0,t_i,t_f,\\Gamma^{ (Eg,1) })_{{31} {28} {29} {30}}B(x_1,t_i,\\Gamma^{ (Eg,0) })_{{28} {29} {30} {31}}$"
      ],
      "text/plain": [
       "<IPython.core.display.Math object>"
      ]
     },
     "metadata": {},
     "output_type": "display_data"
    },
    {
     "data": {
      "text/latex": [
       "$\\displaystyle -1.0 B(x_1,t_i,\\Gamma^{ (Eg,1) })_{{36} {37} {38} {39}}B^*(x_0,t_i,t_f,\\Gamma^{ (Eg,1) })_{{37} {38} {39} {36}}$"
      ],
      "text/plain": [
       "<IPython.core.display.Math object>"
      ]
     },
     "metadata": {},
     "output_type": "display_data"
    },
    {
     "data": {
      "text/latex": [
       "$\\displaystyle 1.0 B(x_1,t_i,\\Gamma^{ (Eg,1) })_{{36} {37} {38} {39}}B^*(x_0,t_i,t_f,\\Gamma^{ (Eg,1) })_{{37} {36} {39} {38}}$"
      ],
      "text/plain": [
       "<IPython.core.display.Math object>"
      ]
     },
     "metadata": {},
     "output_type": "display_data"
    },
    {
     "data": {
      "text/latex": [
       "$\\displaystyle 1.0 B(x_1,t_i,\\Gamma^{ (Eg,1) })_{{36} {37} {38} {39}}B^*(x_0,t_i,t_f,\\Gamma^{ (Eg,1) })_{{39} {38} {37} {36}}$"
      ],
      "text/plain": [
       "<IPython.core.display.Math object>"
      ]
     },
     "metadata": {},
     "output_type": "display_data"
    },
    {
     "data": {
      "text/latex": [
       "$\\displaystyle -1.0 B(x_1,t_i,\\Gamma^{ (Eg,1) })_{{36} {37} {38} {39}}B^*(x_0,t_i,t_f,\\Gamma^{ (Eg,1) })_{{39} {36} {37} {38}}$"
      ],
      "text/plain": [
       "<IPython.core.display.Math object>"
      ]
     },
     "metadata": {},
     "output_type": "display_data"
    }
   ],
   "source": [
    "for d in laphDiagrams:\n",
    "    pprint(d)"
   ]
  },
  {
   "cell_type": "code",
   "execution_count": null,
   "metadata": {},
   "outputs": [],
   "source": []
  }
 ],
 "metadata": {
  "kernelspec": {
   "display_name": "Python 3.10.6 ('LQCD')",
   "language": "python",
   "name": "python3"
  },
  "language_info": {
   "codemirror_mode": {
    "name": "ipython",
    "version": 3
   },
   "file_extension": ".py",
   "mimetype": "text/x-python",
   "name": "python",
   "nbconvert_exporter": "python",
   "pygments_lexer": "ipython3",
   "version": "3.10.6"
  },
  "orig_nbformat": 4,
  "vscode": {
   "interpreter": {
    "hash": "c8d68fb5c21a4214dd5a6a13117f82199c640d7d02a884ddca486aa724deaf3c"
   }
  }
 },
 "nbformat": 4,
 "nbformat_minor": 2
}
