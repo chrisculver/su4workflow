{
 "cells": [
  {
   "cell_type": "code",
   "execution_count": 1,
   "metadata": {},
   "outputs": [],
   "source": [
    "from WickContractions.wick.contract import *\n",
    "from WickContractions.laph.diagram import *\n",
    "\n",
    "from utilities import *\n",
    "\n",
    "from IPython.display import display, Math\n",
    "\n",
    "pprint = lambda o : display(Math(str(o)))"
   ]
  },
  {
   "cell_type": "markdown",
   "metadata": {},
   "source": [
    "## Operators\n",
    "\n",
    "At the moment we are hardcoding in the operators.  We will want to read in a dictionary of spin matrices, as well as isospin flavor combinations."
   ]
  },
  {
   "cell_type": "code",
   "execution_count": 2,
   "metadata": {},
   "outputs": [],
   "source": [
    "# TODO get input from operator code for Isospin/momentum combinations."
   ]
  },
  {
   "cell_type": "code",
   "execution_count": 4,
   "metadata": {},
   "outputs": [],
   "source": [
    "# load definition of the building blocks of the operators.\n",
    "from udud_elementals import *\n",
    "\n",
    "\n",
    "gammas = [i for i in range(2)]\n",
    "\n",
    "gammaName = lambda i : \"\\\\Gamma^{{ {} }}\".format(i)\n",
    "\n",
    "aOps=[]\n",
    "cOps=[]\n",
    "for g in gammas:\n",
    "    aOps.append(Operator([baryonSink(1,['u','d','u','d'],'x_0',gammaName(g))]))\n",
    "    cOps.append(Operator([baryonSource(1,['d','u','d','u'], 'x_1',gammaName(g))]))"
   ]
  },
  {
   "cell_type": "markdown",
   "metadata": {},
   "source": [
    "## Wick Contractions\n",
    "\n",
    "Now we run the wick contractions giving us essentially a list of tensor contractions to be performed."
   ]
  },
  {
   "cell_type": "code",
   "execution_count": 5,
   "metadata": {},
   "outputs": [
    {
     "name": "stdout",
     "output_type": "stream",
     "text": [
      "Need 16 diagrams\n"
     ]
    }
   ],
   "source": [
    "diagrams=[]\n",
    "for aOp in aOps:\n",
    "    for cOp in cOps:\n",
    "        for d in contract(aOp, cOp).diagrams:\n",
    "            diagrams.append(d)\n",
    "print(\"Need {} diagrams\".format(len(diagrams)))"
   ]
  },
  {
   "cell_type": "code",
   "execution_count": 6,
   "metadata": {},
   "outputs": [
    {
     "data": {
      "text/latex": [
       "$\\displaystyle -1.0 B(x_1,t_i,\\Gamma^{ 0 })_{{44} {45} {46} {47}}B^*(x_0,t_i,t_f,\\Gamma^{ 0 })_{{45} {46} {47} {44}}$"
      ],
      "text/plain": [
       "<IPython.core.display.Math object>"
      ]
     },
     "metadata": {},
     "output_type": "display_data"
    },
    {
     "data": {
      "text/latex": [
       "$\\displaystyle 1.0 B(x_1,t_i,\\Gamma^{ 0 })_{{44} {45} {46} {47}}B^*(x_0,t_i,t_f,\\Gamma^{ 0 })_{{45} {44} {47} {46}}$"
      ],
      "text/plain": [
       "<IPython.core.display.Math object>"
      ]
     },
     "metadata": {},
     "output_type": "display_data"
    },
    {
     "data": {
      "text/latex": [
       "$\\displaystyle 1.0 B(x_1,t_i,\\Gamma^{ 0 })_{{44} {45} {46} {47}}B^*(x_0,t_i,t_f,\\Gamma^{ 0 })_{{47} {46} {45} {44}}$"
      ],
      "text/plain": [
       "<IPython.core.display.Math object>"
      ]
     },
     "metadata": {},
     "output_type": "display_data"
    },
    {
     "data": {
      "text/latex": [
       "$\\displaystyle -1.0 B(x_1,t_i,\\Gamma^{ 0 })_{{44} {45} {46} {47}}B^*(x_0,t_i,t_f,\\Gamma^{ 0 })_{{47} {44} {45} {46}}$"
      ],
      "text/plain": [
       "<IPython.core.display.Math object>"
      ]
     },
     "metadata": {},
     "output_type": "display_data"
    },
    {
     "data": {
      "text/latex": [
       "$\\displaystyle -1.0 B(x_1,t_i,\\Gamma^{ 1 })_{{52} {53} {54} {55}}B^*(x_0,t_i,t_f,\\Gamma^{ 0 })_{{53} {54} {55} {52}}$"
      ],
      "text/plain": [
       "<IPython.core.display.Math object>"
      ]
     },
     "metadata": {},
     "output_type": "display_data"
    },
    {
     "data": {
      "text/latex": [
       "$\\displaystyle 1.0 B(x_1,t_i,\\Gamma^{ 1 })_{{52} {53} {54} {55}}B^*(x_0,t_i,t_f,\\Gamma^{ 0 })_{{53} {52} {55} {54}}$"
      ],
      "text/plain": [
       "<IPython.core.display.Math object>"
      ]
     },
     "metadata": {},
     "output_type": "display_data"
    },
    {
     "data": {
      "text/latex": [
       "$\\displaystyle 1.0 B(x_1,t_i,\\Gamma^{ 1 })_{{52} {53} {54} {55}}B^*(x_0,t_i,t_f,\\Gamma^{ 0 })_{{55} {54} {53} {52}}$"
      ],
      "text/plain": [
       "<IPython.core.display.Math object>"
      ]
     },
     "metadata": {},
     "output_type": "display_data"
    },
    {
     "data": {
      "text/latex": [
       "$\\displaystyle -1.0 B(x_1,t_i,\\Gamma^{ 1 })_{{52} {53} {54} {55}}B^*(x_0,t_i,t_f,\\Gamma^{ 0 })_{{55} {52} {53} {54}}$"
      ],
      "text/plain": [
       "<IPython.core.display.Math object>"
      ]
     },
     "metadata": {},
     "output_type": "display_data"
    },
    {
     "data": {
      "text/latex": [
       "$\\displaystyle -1.0 B^*(x_0,t_i,t_f,\\Gamma^{ 1 })_{{45} {46} {47} {44}}B(x_1,t_i,\\Gamma^{ 0 })_{{44} {45} {46} {47}}$"
      ],
      "text/plain": [
       "<IPython.core.display.Math object>"
      ]
     },
     "metadata": {},
     "output_type": "display_data"
    },
    {
     "data": {
      "text/latex": [
       "$\\displaystyle 1.0 B^*(x_0,t_i,t_f,\\Gamma^{ 1 })_{{45} {44} {47} {46}}B(x_1,t_i,\\Gamma^{ 0 })_{{44} {45} {46} {47}}$"
      ],
      "text/plain": [
       "<IPython.core.display.Math object>"
      ]
     },
     "metadata": {},
     "output_type": "display_data"
    },
    {
     "data": {
      "text/latex": [
       "$\\displaystyle 1.0 B^*(x_0,t_i,t_f,\\Gamma^{ 1 })_{{47} {46} {45} {44}}B(x_1,t_i,\\Gamma^{ 0 })_{{44} {45} {46} {47}}$"
      ],
      "text/plain": [
       "<IPython.core.display.Math object>"
      ]
     },
     "metadata": {},
     "output_type": "display_data"
    },
    {
     "data": {
      "text/latex": [
       "$\\displaystyle -1.0 B^*(x_0,t_i,t_f,\\Gamma^{ 1 })_{{47} {44} {45} {46}}B(x_1,t_i,\\Gamma^{ 0 })_{{44} {45} {46} {47}}$"
      ],
      "text/plain": [
       "<IPython.core.display.Math object>"
      ]
     },
     "metadata": {},
     "output_type": "display_data"
    },
    {
     "data": {
      "text/latex": [
       "$\\displaystyle -1.0 B(x_1,t_i,\\Gamma^{ 1 })_{{52} {53} {54} {55}}B^*(x_0,t_i,t_f,\\Gamma^{ 1 })_{{53} {54} {55} {52}}$"
      ],
      "text/plain": [
       "<IPython.core.display.Math object>"
      ]
     },
     "metadata": {},
     "output_type": "display_data"
    },
    {
     "data": {
      "text/latex": [
       "$\\displaystyle 1.0 B(x_1,t_i,\\Gamma^{ 1 })_{{52} {53} {54} {55}}B^*(x_0,t_i,t_f,\\Gamma^{ 1 })_{{53} {52} {55} {54}}$"
      ],
      "text/plain": [
       "<IPython.core.display.Math object>"
      ]
     },
     "metadata": {},
     "output_type": "display_data"
    },
    {
     "data": {
      "text/latex": [
       "$\\displaystyle 1.0 B(x_1,t_i,\\Gamma^{ 1 })_{{52} {53} {54} {55}}B^*(x_0,t_i,t_f,\\Gamma^{ 1 })_{{55} {54} {53} {52}}$"
      ],
      "text/plain": [
       "<IPython.core.display.Math object>"
      ]
     },
     "metadata": {},
     "output_type": "display_data"
    },
    {
     "data": {
      "text/latex": [
       "$\\displaystyle -1.0 B(x_1,t_i,\\Gamma^{ 1 })_{{52} {53} {54} {55}}B^*(x_0,t_i,t_f,\\Gamma^{ 1 })_{{55} {52} {53} {54}}$"
      ],
      "text/plain": [
       "<IPython.core.display.Math object>"
      ]
     },
     "metadata": {},
     "output_type": "display_data"
    }
   ],
   "source": [
    "laphDiagrams = [LDiagram(d) for d in diagrams]\n",
    "simplify_laphDiagrams(laphDiagrams)\n",
    "for d in laphDiagrams:\n",
    "    pprint(d)"
   ]
  },
  {
   "cell_type": "code",
   "execution_count": 7,
   "metadata": {},
   "outputs": [],
   "source": [
    "allBaryonTensors = find_all_baryon_tensors(laphDiagrams)"
   ]
  },
  {
   "cell_type": "code",
   "execution_count": 8,
   "metadata": {},
   "outputs": [
    {
     "data": {
      "text/plain": [
       "{'B(x_1,t_i,\\\\Gamma^{ 0 })': 0,\n",
       " 'B^*(x_0,t_i,t_f,\\\\Gamma^{ 0 })': 1,\n",
       " 'B(x_1,t_i,\\\\Gamma^{ 1 })': 2,\n",
       " 'B^*(x_0,t_i,t_f,\\\\Gamma^{ 1 })': 3}"
      ]
     },
     "execution_count": 8,
     "metadata": {},
     "output_type": "execute_result"
    }
   ],
   "source": [
    "allBaryonTensors"
   ]
  },
  {
   "cell_type": "code",
   "execution_count": 27,
   "metadata": {},
   "outputs": [
    {
     "name": "stdout",
     "output_type": "stream",
     "text": [
      "file header\n",
      "diagrams.push_back(Diagram(bprops[0],bsinks[0],std::vector<std::vector<int>>{{3, 0}, {2, 3}, {1, 2}, {0, 1}}));\n",
      "diagrams.push_back(Diagram(bprops[0],bsinks[0],std::vector<std::vector<int>>{{3, 2}, {2, 3}, {1, 0}, {0, 1}}));\n",
      "diagrams.push_back(Diagram(bprops[0],bsinks[0],std::vector<std::vector<int>>{{3, 0}, {2, 1}, {1, 2}, {0, 3}}));\n",
      "diagrams.push_back(Diagram(bprops[0],bsinks[0],std::vector<std::vector<int>>{{3, 2}, {2, 1}, {1, 0}, {0, 3}}));\n",
      "diagrams.push_back(Diagram(bprops[0],bsinks[1],std::vector<std::vector<int>>{{3, 0}, {2, 3}, {1, 2}, {0, 1}}));\n",
      "diagrams.push_back(Diagram(bprops[0],bsinks[1],std::vector<std::vector<int>>{{3, 2}, {2, 3}, {1, 0}, {0, 1}}));\n",
      "diagrams.push_back(Diagram(bprops[0],bsinks[1],std::vector<std::vector<int>>{{3, 0}, {2, 1}, {1, 2}, {0, 3}}));\n",
      "diagrams.push_back(Diagram(bprops[0],bsinks[1],std::vector<std::vector<int>>{{3, 2}, {2, 1}, {1, 0}, {0, 3}}));\n",
      "diagrams.push_back(Diagram(bsinks[0],bprops[1],std::vector<std::vector<int>>{{3, 2}, {2, 1}, {1, 0}, {0, 3}}));\n",
      "diagrams.push_back(Diagram(bsinks[0],bprops[1],std::vector<std::vector<int>>{{3, 2}, {2, 3}, {1, 0}, {0, 1}}));\n",
      "diagrams.push_back(Diagram(bsinks[0],bprops[1],std::vector<std::vector<int>>{{3, 0}, {2, 1}, {1, 2}, {0, 3}}));\n",
      "diagrams.push_back(Diagram(bsinks[0],bprops[1],std::vector<std::vector<int>>{{3, 0}, {2, 3}, {1, 2}, {0, 1}}));\n",
      "diagrams.push_back(Diagram(bprops[1],bsinks[1],std::vector<std::vector<int>>{{3, 0}, {2, 3}, {1, 2}, {0, 1}}));\n",
      "diagrams.push_back(Diagram(bprops[1],bsinks[1],std::vector<std::vector<int>>{{3, 2}, {2, 3}, {1, 0}, {0, 1}}));\n",
      "diagrams.push_back(Diagram(bprops[1],bsinks[1],std::vector<std::vector<int>>{{3, 0}, {2, 1}, {1, 2}, {0, 3}}));\n",
      "diagrams.push_back(Diagram(bprops[1],bsinks[1],std::vector<std::vector<int>>{{3, 2}, {2, 1}, {1, 0}, {0, 3}}));\n",
      "fild footer\n"
     ]
    }
   ],
   "source": [
    "def cppArrayPrint(lst):\n",
    "    return str(lst).replace('[','{').replace(']','}')\n",
    "\n",
    "\n",
    "def create_diagram_gpu_file(laphDiagrams, allBaryonTensors):\n",
    "    print(\"file header\")\n",
    "    for d in laphDiagrams:\n",
    "        for blocks,contraction in diagram_as_graph(d,allBaryonTensors).items():\n",
    "            blocks=blocks.split(',')\n",
    "\n",
    "            block0 = int(blocks[0])\n",
    "            block1 = int(blocks[1])\n",
    "            btype0 = \"\"\n",
    "            btype1 = \"\"\n",
    "            if block0 % 2 == 0:\n",
    "                btype0 = \"bsinks\"\n",
    "                block0=block0//2\n",
    "            else:\n",
    "                btype0 = \"bprops\"\n",
    "                block0=(block0-1)//2\n",
    "\n",
    "            if block1 % 2 == 0:\n",
    "                btype1 = \"bsinks\"\n",
    "                block1 = block1//2\n",
    "            else:\n",
    "                btype1 = \"bprops\"\n",
    "                block1 = (block1-1)//2\n",
    "\n",
    "            print(\"diagrams.push_back(Diagram({}[{}],{}[{}],std::vector<std::vector<int>>{}));\".format(btype0,block0,btype1,block1,cppArrayPrint(contraction)))\n",
    "\n",
    "    print(\"fild footer\")\n",
    "        \n",
    "\n",
    "create_diagram_gpu_file(laphDiagrams,allBaryonTensors)\n",
    "#for d in laphDiagrams:\n",
    "    #print(diagram_as_graph(d,allBaryonTensors))\n",
    "    "
   ]
  },
  {
   "cell_type": "code",
   "execution_count": 13,
   "metadata": {},
   "outputs": [
    {
     "name": "stdout",
     "output_type": "stream",
     "text": [
      "{'1,0': [[3, 0], [2, 3], [1, 2], [0, 1]]}\n",
      "{'1,0': [[3, 2], [2, 3], [1, 0], [0, 1]]}\n",
      "{'1,0': [[3, 0], [2, 1], [1, 2], [0, 3]]}\n",
      "{'1,0': [[3, 2], [2, 1], [1, 0], [0, 3]]}\n",
      "{'1,2': [[3, 0], [2, 3], [1, 2], [0, 1]]}\n",
      "{'1,2': [[3, 2], [2, 3], [1, 0], [0, 1]]}\n",
      "{'1,2': [[3, 0], [2, 1], [1, 2], [0, 3]]}\n",
      "{'1,2': [[3, 2], [2, 1], [1, 0], [0, 3]]}\n",
      "{'0,3': [[3, 2], [2, 1], [1, 0], [0, 3]]}\n",
      "{'0,3': [[3, 2], [2, 3], [1, 0], [0, 1]]}\n",
      "{'0,3': [[3, 0], [2, 1], [1, 2], [0, 3]]}\n",
      "{'0,3': [[3, 0], [2, 3], [1, 2], [0, 1]]}\n",
      "{'3,2': [[3, 0], [2, 3], [1, 2], [0, 1]]}\n",
      "{'3,2': [[3, 2], [2, 3], [1, 0], [0, 1]]}\n",
      "{'3,2': [[3, 0], [2, 1], [1, 2], [0, 3]]}\n",
      "{'3,2': [[3, 2], [2, 1], [1, 0], [0, 3]]}\n"
     ]
    }
   ],
   "source": [
    "for d in laphDiagrams:\n",
    "    print(diagram_as_graph(d,allBaryonTensors))"
   ]
  },
  {
   "cell_type": "code",
   "execution_count": null,
   "metadata": {},
   "outputs": [],
   "source": []
  }
 ],
 "metadata": {
  "kernelspec": {
   "display_name": "Python 3.8.13 ('LQCD')",
   "language": "python",
   "name": "python3"
  },
  "language_info": {
   "codemirror_mode": {
    "name": "ipython",
    "version": 3
   },
   "file_extension": ".py",
   "mimetype": "text/x-python",
   "name": "python",
   "nbconvert_exporter": "python",
   "pygments_lexer": "ipython3",
   "version": "3.8.13"
  },
  "orig_nbformat": 4,
  "vscode": {
   "interpreter": {
    "hash": "a3888b825b83cb01a30441fce6466e2e3f769abb521254836e194387b36b14db"
   }
  }
 },
 "nbformat": 4,
 "nbformat_minor": 2
}
