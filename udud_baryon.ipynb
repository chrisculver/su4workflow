{
 "cells": [
  {
   "cell_type": "code",
   "execution_count": 1,
   "metadata": {},
   "outputs": [],
   "source": [
    "from WickContractions.wick.contract import *\n",
    "from WickContractions.laph.diagram import *\n",
    "\n",
    "from utilities import *\n",
    "\n",
    "from IPython.display import display, Math\n",
    "\n",
    "pprint = lambda o : display(Math(str(o)))"
   ]
  },
  {
   "cell_type": "markdown",
   "metadata": {},
   "source": [
    "## Operators\n",
    "\n",
    "At the moment we are hardcoding in the operators.  We will want to read in a dictionary of spin matrices, as well as isospin flavor combinations."
   ]
  },
  {
   "cell_type": "code",
   "execution_count": 2,
   "metadata": {},
   "outputs": [],
   "source": [
    "# load definition of the building blocks of the operators.\n",
    "from udud_elementals import *\n",
    "\n",
    "annihilate_baryon = Operator([baryonSink(1,['u','d','u','d'],'x_0')])\n",
    "\n",
    "create_baryon = Operator([baryonSource(1,['d','u','d','u'], 'x_1')])"
   ]
  },
  {
   "cell_type": "code",
   "execution_count": 3,
   "metadata": {},
   "outputs": [
    {
     "data": {
      "text/latex": [
       "$\\displaystyle 1\\epsilon_{c_{0} c_{1} c_{2} c_{3}}\\Gamma^{0}_{s_{0} s_{1} s_{2} s_{3}}u_{s_{0} c_{0}}(x_0, t_f)d_{s_{1} c_{1}}(x_0, t_f)u_{s_{2} c_{2}}(x_0, t_f)d_{s_{3} c_{3}}(x_0, t_f)$"
      ],
      "text/plain": [
       "<IPython.core.display.Math object>"
      ]
     },
     "metadata": {},
     "output_type": "display_data"
    }
   ],
   "source": [
    "pprint(annihilate_baryon)"
   ]
  },
  {
   "cell_type": "code",
   "execution_count": 4,
   "metadata": {},
   "outputs": [
    {
     "data": {
      "text/latex": [
       "$\\displaystyle 1\\epsilon_{c_{4} c_{5} c_{6} c_{7}}\\Gamma^{1}_{s_{4} s_{5} s_{6} s_{7}}\\bar{d}_{s_{4} c_{4}}(x_1, t_i)\\bar{u}_{s_{5} c_{5}}(x_1, t_i)\\bar{d}_{s_{6} c_{6}}(x_1, t_i)\\bar{u}_{s_{7} c_{7}}(x_1, t_i)$"
      ],
      "text/plain": [
       "<IPython.core.display.Math object>"
      ]
     },
     "metadata": {},
     "output_type": "display_data"
    }
   ],
   "source": [
    "pprint(create_baryon)"
   ]
  },
  {
   "cell_type": "markdown",
   "metadata": {},
   "source": [
    "## Wick Contractions\n",
    "\n",
    "Now we run the wick contractions giving us essentially a list of tensor contractions to be performed."
   ]
  },
  {
   "cell_type": "code",
   "execution_count": 8,
   "metadata": {},
   "outputs": [
    {
     "name": "stdout",
     "output_type": "stream",
     "text": [
      "B->B correlator has 4 diagrams\n"
     ]
    },
    {
     "data": {
      "text/latex": [
       "$\\displaystyle -1.0 \\Gamma^{0}_{s_{0} s_{1} s_{2} s_{3}}\\Gamma^{1}_{s_{4} s_{5} s_{6} s_{7}}\\epsilon_{c_{0} c_{1} c_{2} c_{3}}\\epsilon_{c_{4} c_{5} c_{6} c_{7}}D^{-1}_{d}(x_0,t_f\\mid x_1,t_i)_{\\substack{s_{3}\\\\c_{3}}\\substack{s_{4}\\\\c_{4}}}D^{-1}_{u}(x_0,t_f\\mid x_1,t_i)_{\\substack{s_{0}\\\\c_{0}}\\substack{s_{5}\\\\c_{5}}}D^{-1}_{d}(x_0,t_f\\mid x_1,t_i)_{\\substack{s_{1}\\\\c_{1}}\\substack{s_{6}\\\\c_{6}}}D^{-1}_{u}(x_0,t_f\\mid x_1,t_i)_{\\substack{s_{2}\\\\c_{2}}\\substack{s_{7}\\\\c_{7}}}$"
      ],
      "text/plain": [
       "<IPython.core.display.Math object>"
      ]
     },
     "metadata": {},
     "output_type": "display_data"
    },
    {
     "data": {
      "text/latex": [
       "$\\displaystyle 1.0 \\Gamma^{0}_{s_{0} s_{1} s_{2} s_{3}}\\Gamma^{1}_{s_{4} s_{5} s_{6} s_{7}}\\epsilon_{c_{0} c_{1} c_{2} c_{3}}\\epsilon_{c_{4} c_{5} c_{6} c_{7}}D^{-1}_{d}(x_0,t_f\\mid x_1,t_i)_{\\substack{s_{1}\\\\c_{1}}\\substack{s_{4}\\\\c_{4}}}D^{-1}_{u}(x_0,t_f\\mid x_1,t_i)_{\\substack{s_{0}\\\\c_{0}}\\substack{s_{5}\\\\c_{5}}}D^{-1}_{d}(x_0,t_f\\mid x_1,t_i)_{\\substack{s_{3}\\\\c_{3}}\\substack{s_{6}\\\\c_{6}}}D^{-1}_{u}(x_0,t_f\\mid x_1,t_i)_{\\substack{s_{2}\\\\c_{2}}\\substack{s_{7}\\\\c_{7}}}$"
      ],
      "text/plain": [
       "<IPython.core.display.Math object>"
      ]
     },
     "metadata": {},
     "output_type": "display_data"
    },
    {
     "data": {
      "text/latex": [
       "$\\displaystyle 1.0 \\Gamma^{0}_{s_{0} s_{1} s_{2} s_{3}}\\Gamma^{1}_{s_{4} s_{5} s_{6} s_{7}}\\epsilon_{c_{0} c_{1} c_{2} c_{3}}\\epsilon_{c_{4} c_{5} c_{6} c_{7}}D^{-1}_{d}(x_0,t_f\\mid x_1,t_i)_{\\substack{s_{3}\\\\c_{3}}\\substack{s_{4}\\\\c_{4}}}D^{-1}_{u}(x_0,t_f\\mid x_1,t_i)_{\\substack{s_{2}\\\\c_{2}}\\substack{s_{5}\\\\c_{5}}}D^{-1}_{d}(x_0,t_f\\mid x_1,t_i)_{\\substack{s_{1}\\\\c_{1}}\\substack{s_{6}\\\\c_{6}}}D^{-1}_{u}(x_0,t_f\\mid x_1,t_i)_{\\substack{s_{0}\\\\c_{0}}\\substack{s_{7}\\\\c_{7}}}$"
      ],
      "text/plain": [
       "<IPython.core.display.Math object>"
      ]
     },
     "metadata": {},
     "output_type": "display_data"
    },
    {
     "data": {
      "text/latex": [
       "$\\displaystyle -1.0 \\Gamma^{0}_{s_{0} s_{1} s_{2} s_{3}}\\Gamma^{1}_{s_{4} s_{5} s_{6} s_{7}}\\epsilon_{c_{0} c_{1} c_{2} c_{3}}\\epsilon_{c_{4} c_{5} c_{6} c_{7}}D^{-1}_{d}(x_0,t_f\\mid x_1,t_i)_{\\substack{s_{1}\\\\c_{1}}\\substack{s_{4}\\\\c_{4}}}D^{-1}_{u}(x_0,t_f\\mid x_1,t_i)_{\\substack{s_{2}\\\\c_{2}}\\substack{s_{5}\\\\c_{5}}}D^{-1}_{d}(x_0,t_f\\mid x_1,t_i)_{\\substack{s_{3}\\\\c_{3}}\\substack{s_{6}\\\\c_{6}}}D^{-1}_{u}(x_0,t_f\\mid x_1,t_i)_{\\substack{s_{0}\\\\c_{0}}\\substack{s_{7}\\\\c_{7}}}$"
      ],
      "text/plain": [
       "<IPython.core.display.Math object>"
      ]
     },
     "metadata": {},
     "output_type": "display_data"
    }
   ],
   "source": [
    "diagrams = contract(annihilate_baryon, create_baryon).diagrams\n",
    "print(\"B->B correlator has {} diagrams\".format(len(diagrams)))\n",
    "for d in diagrams:\n",
    "    pprint(d)"
   ]
  },
  {
   "cell_type": "code",
   "execution_count": 9,
   "metadata": {},
   "outputs": [
    {
     "data": {
      "text/latex": [
       "$\\displaystyle -1.0 B(x_1,t_i,\\Gamma^{1})_{{4} {5} {6} {7}}B^*(x_0,t_i,t_f,\\Gamma^{0})_{{5} {6} {7} {4}}$"
      ],
      "text/plain": [
       "<IPython.core.display.Math object>"
      ]
     },
     "metadata": {},
     "output_type": "display_data"
    },
    {
     "data": {
      "text/latex": [
       "$\\displaystyle 1.0 B(x_1,t_i,\\Gamma^{1})_{{4} {5} {6} {7}}B^*(x_0,t_i,t_f,\\Gamma^{0})_{{5} {4} {7} {6}}$"
      ],
      "text/plain": [
       "<IPython.core.display.Math object>"
      ]
     },
     "metadata": {},
     "output_type": "display_data"
    },
    {
     "data": {
      "text/latex": [
       "$\\displaystyle 1.0 B(x_1,t_i,\\Gamma^{1})_{{4} {5} {6} {7}}B^*(x_0,t_i,t_f,\\Gamma^{0})_{{7} {6} {5} {4}}$"
      ],
      "text/plain": [
       "<IPython.core.display.Math object>"
      ]
     },
     "metadata": {},
     "output_type": "display_data"
    },
    {
     "data": {
      "text/latex": [
       "$\\displaystyle -1.0 B(x_1,t_i,\\Gamma^{1})_{{4} {5} {6} {7}}B^*(x_0,t_i,t_f,\\Gamma^{0})_{{7} {4} {5} {6}}$"
      ],
      "text/plain": [
       "<IPython.core.display.Math object>"
      ]
     },
     "metadata": {},
     "output_type": "display_data"
    }
   ],
   "source": [
    "laphDiagrams = [LDiagram(d) for d in diagrams]\n",
    "simplify_laphDiagrams(laphDiagrams)\n",
    "for d in laphDiagrams:\n",
    "    pprint(d)"
   ]
  },
  {
   "cell_type": "code",
   "execution_count": 14,
   "metadata": {},
   "outputs": [],
   "source": [
    "allBaryonTensors = find_all_baryon_tensors(laphDiagrams)\n"
   ]
  },
  {
   "cell_type": "code",
   "execution_count": 14,
   "metadata": {},
   "outputs": [
    {
     "name": "stdout",
     "output_type": "stream",
     "text": [
      "[[0, 3], [1, 0], [2, 1], [3, 2]]\n",
      "[[0, 1], [1, 0], [2, 3], [3, 2]]\n",
      "[[0, 3], [1, 2], [2, 1], [3, 0]]\n",
      "[[0, 1], [1, 2], [2, 3], [3, 0]]\n"
     ]
    }
   ],
   "source": [
    "for d in laphDiagrams[0:9]:\n",
    "    contractions = []\n",
    "    for i,idx in enumerate(d.commuting[0].indices[0:4]):\n",
    "        j=d.commuting[1].indices.index(idx)\n",
    "        contractions.append([i,j])\n",
    "    print(contractions)\n",
    "    "
   ]
  },
  {
   "cell_type": "code",
   "execution_count": null,
   "metadata": {},
   "outputs": [],
   "source": []
  }
 ],
 "metadata": {
  "kernelspec": {
   "display_name": "Python 3.9.7 ('LQCD')",
   "language": "python",
   "name": "python3"
  },
  "language_info": {
   "codemirror_mode": {
    "name": "ipython",
    "version": 3
   },
   "file_extension": ".py",
   "mimetype": "text/x-python",
   "name": "python",
   "nbconvert_exporter": "python",
   "pygments_lexer": "ipython3",
   "version": "3.9.7"
  },
  "orig_nbformat": 4,
  "vscode": {
   "interpreter": {
    "hash": "bc10d092fd53d999667fa6c0a0e497da5d6cd5236cea8e58c3ad41d37fd15ec4"
   }
  }
 },
 "nbformat": 4,
 "nbformat_minor": 2
}
