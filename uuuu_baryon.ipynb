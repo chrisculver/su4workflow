{
 "cells": [
  {
   "cell_type": "code",
   "execution_count": 1,
   "metadata": {},
   "outputs": [],
   "source": [
    "# Avoids reloading kernel while developing\n",
    "%load_ext autoreload\n",
    "%autoreload 2"
   ]
  },
  {
   "cell_type": "code",
   "execution_count": 2,
   "metadata": {},
   "outputs": [],
   "source": [
    "from WickContractions.wick.contract import *\n",
    "from WickContractions.laph.diagram import *\n",
    "\n",
    "import os\n",
    "\n",
    "from src.utilities import *\n",
    "from src.print_utilities import *\n",
    "\n",
    "#pretty latex printing\n",
    "from IPython.display import display, Math \n",
    "pprint = lambda o : display(Math(str(o)))\n",
    "\n"
   ]
  },
  {
   "attachments": {},
   "cell_type": "markdown",
   "metadata": {},
   "source": [
    "## Operators\n",
    "\n",
    "Operators for SU(4) baryons are constructed in full at [su4ops](github.com/chrisculver/su4ops) or a repository of Kimmy Cushman.  Here they are translated into the correct objects for the WickContraction library.  Specifically at the moment the below code sets up a list of \"Elemental Operators\" in different irreps, with a gamma matrix name and spatial coordinate.  "
   ]
  },
  {
   "cell_type": "code",
   "execution_count": 3,
   "metadata": {},
   "outputs": [
    {
     "name": "stdout",
     "output_type": "stream",
     "text": [
      "[['A1g', '0'], ['T1g0', '0'], ['Eg0', '0'], ['Eg0', '1'], ['Eg1', '0'], ['Eg1', '1']]\n"
     ]
    }
   ],
   "source": [
    "# load definition of the building blocks of the operators.\n",
    "from src.udud_elementals import *\n",
    "import numpy as np\n",
    "\n",
    "#gammas = [('buchoff',0)]\n",
    "gammas=[]\n",
    "gammas += np.array([[('A1g',i) for i in range(1)] for row in range(1)]).reshape(1,2).tolist()\n",
    "gammas += np.array([[('T1g{}'.format(row),i) for i in range(1)] for row in range(1)]).reshape(1,2).tolist()\n",
    "gammas += np.array([[('Eg{}'.format(row),i) for i in range(2)] for row in range(2)]).reshape(4,2).tolist()\n",
    "\n",
    "print(gammas)\n",
    "\n",
    "gammaName = lambda irrep,i : \"\\\\Gamma^{{ ({},{}) }}\".format(irrep, i)\n",
    "\n",
    "aOps=[] # annihilation operators\n",
    "cOps=[] # creation operators\n",
    "for g in gammas:\n",
    "    aOps.append(Operator([baryonSink(1,['u','u','u','u'],'x_0',gammaName(g[0],g[1]))]))\n",
    "    cOps.append(Operator([baryonSource(1,['u','u','u','u'], 'x_1',gammaName(g[0],g[1]))]))\n",
    "    \n",
    "    #aOps.append(Operator([baryonSink([1,-1,+1,0.5],[['d','u','u','u'],['u','d','u','u'],...],'x_0',gammaName(g[0],g[1]))]))"
   ]
  },
  {
   "cell_type": "code",
   "execution_count": 4,
   "metadata": {},
   "outputs": [
    {
     "data": {
      "text/latex": [
       "$\\displaystyle 1\\epsilon_{c_{0} c_{1} c_{2} c_{3}}\\Gamma^{ (A1g,0) }_{s_{0} s_{1} s_{2} s_{3}}u_{s_{0} c_{0}}(x_0, t_f)u_{s_{1} c_{1}}(x_0, t_f)u_{s_{2} c_{2}}(x_0, t_f)u_{s_{3} c_{3}}(x_0, t_f)$"
      ],
      "text/plain": [
       "<IPython.core.display.Math object>"
      ]
     },
     "metadata": {},
     "output_type": "display_data"
    }
   ],
   "source": [
    "pprint(aOps[0])"
   ]
  },
  {
   "cell_type": "code",
   "execution_count": 5,
   "metadata": {},
   "outputs": [
    {
     "data": {
      "text/latex": [
       "$\\displaystyle 1\\epsilon_{c_{4} c_{5} c_{6} c_{7}}\\Gamma^{ (A1g,0) }_{s_{4} s_{5} s_{6} s_{7}}\\bar{u}_{s_{4} c_{4}}(x_1, t_i)\\bar{u}_{s_{5} c_{5}}(x_1, t_i)\\bar{u}_{s_{6} c_{6}}(x_1, t_i)\\bar{u}_{s_{7} c_{7}}(x_1, t_i)$"
      ],
      "text/plain": [
       "<IPython.core.display.Math object>"
      ]
     },
     "metadata": {},
     "output_type": "display_data"
    }
   ],
   "source": [
    "pprint(cOps[0])"
   ]
  },
  {
   "attachments": {},
   "cell_type": "markdown",
   "metadata": {},
   "source": [
    "## Wick Contractions\n",
    "\n",
    "Now for each combination of annihilation and creation operator we compute the wick contractions, and store every diagram in a list.  The example diagram printed out is the full expression with all indices and dependencies for non-momentum projected baryons."
   ]
  },
  {
   "cell_type": "code",
   "execution_count": 6,
   "metadata": {},
   "outputs": [
    {
     "name": "stdout",
     "output_type": "stream",
     "text": [
      "Need to compute 864 diagrams\n"
     ]
    },
    {
     "data": {
      "text/latex": [
       "$\\displaystyle \\text{diagram}[0]=1.0 \\Gamma^{ (A1g,0) }_{s_{0} s_{1} s_{2} s_{3}}\\Gamma^{ (A1g,0) }_{s_{4} s_{5} s_{6} s_{7}}\\epsilon_{c_{0} c_{1} c_{2} c_{3}}\\epsilon_{c_{4} c_{5} c_{6} c_{7}}D^{-1}_{u}(x_0,t_f\\mid x_1,t_i)_{\\substack{s_{0}\\\\c_{0}}\\substack{s_{4}\\\\c_{4}}}D^{-1}_{u}(x_0,t_f\\mid x_1,t_i)_{\\substack{s_{1}\\\\c_{1}}\\substack{s_{5}\\\\c_{5}}}D^{-1}_{u}(x_0,t_f\\mid x_1,t_i)_{\\substack{s_{2}\\\\c_{2}}\\substack{s_{6}\\\\c_{6}}}D^{-1}_{u}(x_0,t_f\\mid x_1,t_i)_{\\substack{s_{3}\\\\c_{3}}\\substack{s_{7}\\\\c_{7}}}$"
      ],
      "text/plain": [
       "<IPython.core.display.Math object>"
      ]
     },
     "metadata": {},
     "output_type": "display_data"
    }
   ],
   "source": [
    "diagrams=[]\n",
    "for i,aOp in enumerate(aOps):\n",
    "    for j,cOp in enumerate(cOps):\n",
    "        for d in contract(aOp, cOp).diagrams:\n",
    "            diagrams.append(d)\n",
    "\n",
    "print(\"Need to compute {} diagrams\".format(len(diagrams)))\n",
    "pprint(\"\\\\text{{diagram}}[0]={}\".format(diagrams[0]))"
   ]
  },
  {
   "attachments": {},
   "cell_type": "markdown",
   "metadata": {},
   "source": [
    "Now we convert the above diagram into a LapH version, in terms of a baryon source function and baryon propagator.  These are defined in the \"SU4_Correlators\" tex file in the LSD overleaf."
   ]
  },
  {
   "cell_type": "code",
   "execution_count": 7,
   "metadata": {},
   "outputs": [],
   "source": [
    "laphDiagrams = [LDiagram(d) for d in copy.deepcopy(diagrams)]\n",
    "simplify_laphDiagrams(laphDiagrams)"
   ]
  },
  {
   "cell_type": "code",
   "execution_count": 16,
   "metadata": {},
   "outputs": [
    {
     "data": {
      "text/latex": [
       "$\\displaystyle 1.0 B(x_1,t_i,\\Gamma^{ (A1g,0) })_{{4} {5} {6} {7}}B^*(x_0,t_i,t_f,\\Gamma^{ (A1g,0) })_{{4} {5} {6} {7}}$"
      ],
      "text/plain": [
       "<IPython.core.display.Math object>"
      ]
     },
     "metadata": {},
     "output_type": "display_data"
    },
    {
     "data": {
      "text/latex": [
       "$\\displaystyle -1.0 B(x_1,t_i,\\Gamma^{ (A1g,0) })_{{4} {5} {6} {7}}B^*(x_0,t_i,t_f,\\Gamma^{ (A1g,0) })_{{7} {4} {5} {6}}$"
      ],
      "text/plain": [
       "<IPython.core.display.Math object>"
      ]
     },
     "metadata": {},
     "output_type": "display_data"
    },
    {
     "data": {
      "text/latex": [
       "$\\displaystyle 1.0 B(x_1,t_i,\\Gamma^{ (T1g0,0) })_{{12} {13} {14} {15}}B^*(x_0,t_i,t_f,\\Gamma^{ (A1g,0) })_{{12} {13} {14} {15}}$"
      ],
      "text/plain": [
       "<IPython.core.display.Math object>"
      ]
     },
     "metadata": {},
     "output_type": "display_data"
    },
    {
     "data": {
      "text/latex": [
       "$\\displaystyle 1.0 B(x_1,t_i,\\Gamma^{ (Eg0,0) })_{{20} {21} {22} {23}}B^*(x_0,t_i,t_f,\\Gamma^{ (A1g,0) })_{{20} {21} {22} {23}}$"
      ],
      "text/plain": [
       "<IPython.core.display.Math object>"
      ]
     },
     "metadata": {},
     "output_type": "display_data"
    },
    {
     "data": {
      "text/latex": [
       "$\\displaystyle 1.0 B(x_1,t_i,\\Gamma^{ (Eg0,1) })_{{28} {29} {30} {31}}B^*(x_0,t_i,t_f,\\Gamma^{ (A1g,0) })_{{28} {29} {30} {31}}$"
      ],
      "text/plain": [
       "<IPython.core.display.Math object>"
      ]
     },
     "metadata": {},
     "output_type": "display_data"
    },
    {
     "data": {
      "text/latex": [
       "$\\displaystyle 1.0 B(x_1,t_i,\\Gamma^{ (Eg1,0) })_{{36} {37} {38} {39}}B^*(x_0,t_i,t_f,\\Gamma^{ (A1g,0) })_{{36} {37} {38} {39}}$"
      ],
      "text/plain": [
       "<IPython.core.display.Math object>"
      ]
     },
     "metadata": {},
     "output_type": "display_data"
    },
    {
     "data": {
      "text/latex": [
       "$\\displaystyle 1.0 B(x_1,t_i,\\Gamma^{ (Eg1,1) })_{{44} {45} {46} {47}}B^*(x_0,t_i,t_f,\\Gamma^{ (A1g,0) })_{{44} {45} {46} {47}}$"
      ],
      "text/plain": [
       "<IPython.core.display.Math object>"
      ]
     },
     "metadata": {},
     "output_type": "display_data"
    },
    {
     "data": {
      "text/latex": [
       "$\\displaystyle 1.0 B^*(x_0,t_i,t_f,\\Gamma^{ (T1g0,0) })_{{4} {5} {6} {7}}B(x_1,t_i,\\Gamma^{ (A1g,0) })_{{4} {5} {6} {7}}$"
      ],
      "text/plain": [
       "<IPython.core.display.Math object>"
      ]
     },
     "metadata": {},
     "output_type": "display_data"
    },
    {
     "data": {
      "text/latex": [
       "$\\displaystyle 1.0 B^*(x_0,t_i,t_f,\\Gamma^{ (T1g0,0) })_{{12} {13} {14} {15}}B(x_1,t_i,\\Gamma^{ (T1g0,0) })_{{12} {13} {14} {15}}$"
      ],
      "text/plain": [
       "<IPython.core.display.Math object>"
      ]
     },
     "metadata": {},
     "output_type": "display_data"
    }
   ],
   "source": [
    "pprint(laphDiagrams[0])\n",
    "pprint(laphDiagrams[23])\n",
    "pprint(laphDiagrams[24])\n",
    "pprint(laphDiagrams[48])\n",
    "pprint(laphDiagrams[72])\n",
    "pprint(laphDiagrams[96])\n",
    "pprint(laphDiagrams[120])\n",
    "pprint(laphDiagrams[144])\n",
    "pprint(laphDiagrams[168])"
   ]
  },
  {
   "attachments": {},
   "cell_type": "markdown",
   "metadata": {},
   "source": [
    "Next we go through all of the diagrams to collect a list of all unique baryon tensors, and assign them to an integer idx. "
   ]
  },
  {
   "cell_type": "code",
   "execution_count": 9,
   "metadata": {},
   "outputs": [],
   "source": [
    "allBaryonTensors={}\n",
    "idx=0\n",
    "for g in gammas:\n",
    "    allBaryonTensors['B(x_1,t_i,\\\\Gamma^{{ ({},{}) }})'.format(g[0],g[1])]=idx\n",
    "    allBaryonTensors['B^*(x_0,t_i,t_f,\\\\Gamma^{{ ({},{}) }})'.format(g[0],g[1])]=idx+1\n",
    "    idx+=2\n",
    "\n",
    "allBaryonTensorsBack={v: k for k,v in allBaryonTensors.items()}"
   ]
  },
  {
   "cell_type": "code",
   "execution_count": 10,
   "metadata": {},
   "outputs": [
    {
     "data": {
      "text/plain": [
       "{'B(x_1,t_i,\\\\Gamma^{ (A1g,0) })': 0,\n",
       " 'B^*(x_0,t_i,t_f,\\\\Gamma^{ (A1g,0) })': 1,\n",
       " 'B(x_1,t_i,\\\\Gamma^{ (T1g0,0) })': 2,\n",
       " 'B^*(x_0,t_i,t_f,\\\\Gamma^{ (T1g0,0) })': 3,\n",
       " 'B(x_1,t_i,\\\\Gamma^{ (Eg0,0) })': 4,\n",
       " 'B^*(x_0,t_i,t_f,\\\\Gamma^{ (Eg0,0) })': 5,\n",
       " 'B(x_1,t_i,\\\\Gamma^{ (Eg0,1) })': 6,\n",
       " 'B^*(x_0,t_i,t_f,\\\\Gamma^{ (Eg0,1) })': 7,\n",
       " 'B(x_1,t_i,\\\\Gamma^{ (Eg1,0) })': 8,\n",
       " 'B^*(x_0,t_i,t_f,\\\\Gamma^{ (Eg1,0) })': 9,\n",
       " 'B(x_1,t_i,\\\\Gamma^{ (Eg1,1) })': 10,\n",
       " 'B^*(x_0,t_i,t_f,\\\\Gamma^{ (Eg1,1) })': 11}"
      ]
     },
     "execution_count": 10,
     "metadata": {},
     "output_type": "execute_result"
    }
   ],
   "source": [
    "allBaryonTensors"
   ]
  },
  {
   "cell_type": "code",
   "execution_count": 11,
   "metadata": {},
   "outputs": [],
   "source": [
    "allBaryonProps = {}\n",
    "allBaryonSinks = {}\n",
    "pIdx=0\n",
    "sIdx=0\n",
    "for k,v in allBaryonTensors.items():\n",
    "    if k[0:3]==\"B^*\":\n",
    "        allBaryonProps[k]=pIdx\n",
    "        pIdx+=1\n",
    "    else:\n",
    "        allBaryonSinks[k]=sIdx\n",
    "        sIdx+=1"
   ]
  },
  {
   "cell_type": "code",
   "execution_count": 12,
   "metadata": {},
   "outputs": [
    {
     "data": {
      "text/plain": [
       "{'B(x_1,t_i,\\\\Gamma^{ (A1g,0) })': 0,\n",
       " 'B(x_1,t_i,\\\\Gamma^{ (T1g0,0) })': 1,\n",
       " 'B(x_1,t_i,\\\\Gamma^{ (Eg0,0) })': 2,\n",
       " 'B(x_1,t_i,\\\\Gamma^{ (Eg0,1) })': 3,\n",
       " 'B(x_1,t_i,\\\\Gamma^{ (Eg1,0) })': 4,\n",
       " 'B(x_1,t_i,\\\\Gamma^{ (Eg1,1) })': 5}"
      ]
     },
     "execution_count": 12,
     "metadata": {},
     "output_type": "execute_result"
    }
   ],
   "source": [
    "allBaryonSinks"
   ]
  },
  {
   "cell_type": "code",
   "execution_count": 13,
   "metadata": {},
   "outputs": [
    {
     "data": {
      "text/plain": [
       "[['A1g', '0'],\n",
       " ['T1g0', '0'],\n",
       " ['Eg0', '0'],\n",
       " ['Eg0', '1'],\n",
       " ['Eg1', '0'],\n",
       " ['Eg1', '1']]"
      ]
     },
     "execution_count": 13,
     "metadata": {},
     "output_type": "execute_result"
    }
   ],
   "source": [
    "gammas"
   ]
  },
  {
   "cell_type": "code",
   "execution_count": 14,
   "metadata": {},
   "outputs": [
    {
     "data": {
      "text/plain": [
       "{'B^*(x_0,t_i,t_f,\\\\Gamma^{ (A1g,0) })': 0,\n",
       " 'B^*(x_0,t_i,t_f,\\\\Gamma^{ (T1g0,0) })': 1,\n",
       " 'B^*(x_0,t_i,t_f,\\\\Gamma^{ (Eg0,0) })': 2,\n",
       " 'B^*(x_0,t_i,t_f,\\\\Gamma^{ (Eg0,1) })': 3,\n",
       " 'B^*(x_0,t_i,t_f,\\\\Gamma^{ (Eg1,0) })': 4,\n",
       " 'B^*(x_0,t_i,t_f,\\\\Gamma^{ (Eg1,1) })': 5}"
      ]
     },
     "execution_count": 14,
     "metadata": {},
     "output_type": "execute_result"
    }
   ],
   "source": [
    "allBaryonProps"
   ]
  },
  {
   "attachments": {},
   "cell_type": "markdown",
   "metadata": {},
   "source": [
    "## Evaluating Diagrams\n",
    "\n",
    "Now we generate a cpp file which contracts all of the rank 4 baryon tensors into diagrams.  This is to be used with [lapH_build_and_run](https://gitlab.com/Kimmy.Cushman/laph_build_and_run) on lassen.  Specifically the \"Output/define_diagrams_gpu.cpp\" file needs to be placed in the src folder of the baryons branch of that directory along with the generated(todo) input file."
   ]
  },
  {
   "cell_type": "code",
   "execution_count": 15,
   "metadata": {},
   "outputs": [
    {
     "name": "stdout",
     "output_type": "stream",
     "text": [
      "TODO: Need to handle momenta and baryon flavor!\n"
     ]
    }
   ],
   "source": [
    "create_diagram_gpu_file(laphDiagrams, allBaryonTensors, allBaryonTensorsBack, allBaryonSinks, allBaryonProps)    \n",
    "create_input_file(str(len(diagrams)),gammas)"
   ]
  },
  {
   "cell_type": "code",
   "execution_count": null,
   "metadata": {},
   "outputs": [],
   "source": []
  },
  {
   "cell_type": "code",
   "execution_count": null,
   "metadata": {},
   "outputs": [],
   "source": []
  },
  {
   "attachments": {},
   "cell_type": "markdown",
   "metadata": {},
   "source": [
    "### Python code to combine diagrams\n",
    "\n",
    "This is just a quick hack for a python script in the lapH_build_and_run directory to get correlators out of the output files."
   ]
  },
  {
   "cell_type": "code",
   "execution_count": 16,
   "metadata": {},
   "outputs": [],
   "source": [
    "diagrams=contract(aOps[0], cOps[0]).diagrams"
   ]
  },
  {
   "cell_type": "code",
   "execution_count": 17,
   "metadata": {},
   "outputs": [],
   "source": [
    "laphDiagrams = [LDiagram(d) for d in diagrams]\n",
    "simplify_laphDiagrams(laphDiagrams)"
   ]
  },
  {
   "cell_type": "code",
   "execution_count": 20,
   "metadata": {},
   "outputs": [
    {
     "name": "stdout",
     "output_type": "stream",
     "text": [
      "+1.0*allDiags[i+0,dt,t]+-1.0*allDiags[i+1,dt,t]+1.0*allDiags[i+2,dt,t]+-1.0*allDiags[i+3,dt,t]+1.0*allDiags[i+4,dt,t]+-1.0*allDiags[i+5,dt,t]+1.0*allDiags[i+6,dt,t]+-1.0*allDiags[i+7,dt,t]+1.0*allDiags[i+8,dt,t]+-1.0*allDiags[i+9,dt,t]+1.0*allDiags[i+10,dt,t]+-1.0*allDiags[i+11,dt,t]+1.0*allDiags[i+12,dt,t]+-1.0*allDiags[i+13,dt,t]+1.0*allDiags[i+14,dt,t]+-1.0*allDiags[i+15,dt,t]+1.0*allDiags[i+16,dt,t]+-1.0*allDiags[i+17,dt,t]+1.0*allDiags[i+18,dt,t]+-1.0*allDiags[i+19,dt,t]+1.0*allDiags[i+20,dt,t]+-1.0*allDiags[i+21,dt,t]+1.0*allDiags[i+22,dt,t]+-1.0*allDiags[i+23,dt,t]\n"
     ]
    }
   ],
   "source": [
    "s=\"\"\n",
    "for i,d in enumerate(laphDiagrams):\n",
    "    s+=\"+{}*allDiags[i+{},dt,t]\".format(d.coef,i)\n",
    "print(s)"
   ]
  },
  {
   "cell_type": "code",
   "execution_count": null,
   "metadata": {},
   "outputs": [],
   "source": []
  }
 ],
 "metadata": {
  "kernelspec": {
   "display_name": "Python 3.10.6 ('LQCD')",
   "language": "python",
   "name": "python3"
  },
  "language_info": {
   "codemirror_mode": {
    "name": "ipython",
    "version": 3
   },
   "file_extension": ".py",
   "mimetype": "text/x-python",
   "name": "python",
   "nbconvert_exporter": "python",
   "pygments_lexer": "ipython3",
   "version": "3.9.12"
  },
  "orig_nbformat": 4,
  "vscode": {
   "interpreter": {
    "hash": "c8d68fb5c21a4214dd5a6a13117f82199c640d7d02a884ddca486aa724deaf3c"
   }
  }
 },
 "nbformat": 4,
 "nbformat_minor": 2
}
