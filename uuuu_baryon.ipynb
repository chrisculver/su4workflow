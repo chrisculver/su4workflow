{
 "cells": [
  {
   "cell_type": "code",
   "execution_count": 1,
   "metadata": {},
   "outputs": [],
   "source": [
    "from WickContractions.wick.contract import *\n",
    "from WickContractions.laph.diagram import *\n",
    "\n",
    "from utilities import *\n",
    "\n",
    "from IPython.display import display, Math\n",
    "\n",
    "pprint = lambda o : display(Math(str(o)))"
   ]
  },
  {
   "cell_type": "markdown",
   "metadata": {},
   "source": [
    "## Operators\n",
    "\n",
    "At the moment we are hardcoding in the operators.  We will want to read in a dictionary of spin matrices, as well as isospin flavor combinations."
   ]
  },
  {
   "cell_type": "code",
   "execution_count": 2,
   "metadata": {},
   "outputs": [],
   "source": [
    "# TODO get input from operator code for Isospin/momentum combinations."
   ]
  },
  {
   "cell_type": "code",
   "execution_count": 29,
   "metadata": {},
   "outputs": [
    {
     "name": "stdout",
     "output_type": "stream",
     "text": [
      "[('buchoff', 0), ['A1g', '0'], ['Eg0', '0'], ['Eg0', '1'], ['Eg0', '2'], ['Eg1', '0'], ['Eg1', '1'], ['Eg1', '2']]\n"
     ]
    }
   ],
   "source": [
    "# load definition of the building blocks of the operators.\n",
    "from udud_elementals import *\n",
    "import numpy as np\n",
    "\n",
    "gammas = [('buchoff',0)]\n",
    "gammas += np.array([[('A1g',i) for i in range(1)] for row in range(1)]).reshape(1,2).tolist()\n",
    "gammas += np.array([[('Eg{}'.format(row),i) for i in range(3)] for row in range(2)]).reshape(6,2).tolist()\n",
    "\n",
    "print(gammas)\n",
    "\n",
    "gammaName = lambda irrep,i : \"\\\\Gamma^{{ ({},{}) }}\".format(irrep, i)\n",
    "\n",
    "aOps=[]\n",
    "cOps=[]\n",
    "for g in gammas:\n",
    "    aOps.append(Operator([baryonSink(1,['u','u','u','u'],'x_0',gammaName(g[0],g[1]))]))\n",
    "    cOps.append(Operator([baryonSource(1,['u','u','u','u'], 'x_1',gammaName(g[0],g[1]))]))"
   ]
  },
  {
   "cell_type": "markdown",
   "metadata": {},
   "source": [
    "## Wick Contractions\n",
    "\n",
    "Now we run the wick contractions giving us essentially a list of tensor contractions to be performed."
   ]
  },
  {
   "cell_type": "code",
   "execution_count": 30,
   "metadata": {},
   "outputs": [
    {
     "name": "stdout",
     "output_type": "stream",
     "text": [
      "Need 1536 diagrams\n"
     ]
    }
   ],
   "source": [
    "diagrams=[]\n",
    "for aOp in aOps:\n",
    "    for cOp in cOps:\n",
    "        for d in contract(aOp, cOp).diagrams:\n",
    "            diagrams.append(d)\n",
    "print(\"Need {} diagrams\".format(len(diagrams)))"
   ]
  },
  {
   "cell_type": "code",
   "execution_count": 31,
   "metadata": {},
   "outputs": [],
   "source": [
    "laphDiagrams = [LDiagram(d) for d in diagrams]\n",
    "simplify_laphDiagrams(laphDiagrams)\n",
    "#for d in laphDiagrams:\n",
    "#    pprint(d)"
   ]
  },
  {
   "cell_type": "code",
   "execution_count": null,
   "metadata": {},
   "outputs": [],
   "source": []
  },
  {
   "cell_type": "code",
   "execution_count": 32,
   "metadata": {},
   "outputs": [
    {
     "data": {
      "text/latex": [
       "$\\displaystyle B(x_1,t_i,\\Gamma^{ (buchoff,0) })_{l_{132} l_{133} l_{134} l_{135} s_{132} s_{133} s_{134} s_{135}}$"
      ],
      "text/plain": [
       "<IPython.core.display.Math object>"
      ]
     },
     "metadata": {},
     "output_type": "display_data"
    },
    {
     "data": {
      "text/latex": [
       "$\\displaystyle B^*(x_0,t_f,\\Gamma^{ (buchoff,0) })_{l_{128} l_{129} l_{130} l_{131} s_{128} s_{129} s_{130} s_{131}}$"
      ],
      "text/plain": [
       "<IPython.core.display.Math object>"
      ]
     },
     "metadata": {},
     "output_type": "display_data"
    }
   ],
   "source": [
    "for b in laphDiagrams[0].Bblocks:\n",
    "    pprint(b)"
   ]
  },
  {
   "cell_type": "code",
   "execution_count": 33,
   "metadata": {},
   "outputs": [
    {
     "data": {
      "text/latex": [
       "$\\displaystyle T(x_1,t_i)_{l_{132} l_{133} l_{134} l_{135}}$"
      ],
      "text/plain": [
       "<IPython.core.display.Math object>"
      ]
     },
     "metadata": {},
     "output_type": "display_data"
    },
    {
     "data": {
      "text/latex": [
       "$\\displaystyle T^*(x_0,t_f)_{l_{128} l_{129} l_{130} l_{131}}$"
      ],
      "text/plain": [
       "<IPython.core.display.Math object>"
      ]
     },
     "metadata": {},
     "output_type": "display_data"
    }
   ],
   "source": [
    "for t in laphDiagrams[0].Tblocks:\n",
    "    pprint(t)"
   ]
  },
  {
   "cell_type": "code",
   "execution_count": 34,
   "metadata": {},
   "outputs": [],
   "source": [
    "#allBaryonTensors = find_all_baryon_tensors(laphDiagrams)\n",
    "# temporary TODO make smarter version of the rest of this notebook\n",
    "allBaryonTensors={}\n",
    "idx=0\n",
    "for g in gammas:\n",
    "    allBaryonTensors['B(x_1,t_i,\\\\Gamma^{{ ({},{}) }})'.format(g[0],g[1])]=idx\n",
    "    allBaryonTensors['B^*(x_0,t_i,t_f,\\\\Gamma^{{ ({},{}) }})'.format(g[0],g[1])]=idx+1\n",
    "    idx+=2\n",
    "\n",
    "allBaryonTensorsBack={v: k for k,v in allBaryonTensors.items()}"
   ]
  },
  {
   "cell_type": "code",
   "execution_count": 35,
   "metadata": {},
   "outputs": [
    {
     "data": {
      "text/plain": [
       "{'B(x_1,t_i,\\\\Gamma^{ (buchoff,0) })': 0,\n",
       " 'B^*(x_0,t_i,t_f,\\\\Gamma^{ (buchoff,0) })': 1,\n",
       " 'B(x_1,t_i,\\\\Gamma^{ (A1g,0) })': 2,\n",
       " 'B^*(x_0,t_i,t_f,\\\\Gamma^{ (A1g,0) })': 3,\n",
       " 'B(x_1,t_i,\\\\Gamma^{ (Eg0,0) })': 4,\n",
       " 'B^*(x_0,t_i,t_f,\\\\Gamma^{ (Eg0,0) })': 5,\n",
       " 'B(x_1,t_i,\\\\Gamma^{ (Eg0,1) })': 6,\n",
       " 'B^*(x_0,t_i,t_f,\\\\Gamma^{ (Eg0,1) })': 7,\n",
       " 'B(x_1,t_i,\\\\Gamma^{ (Eg0,2) })': 8,\n",
       " 'B^*(x_0,t_i,t_f,\\\\Gamma^{ (Eg0,2) })': 9,\n",
       " 'B(x_1,t_i,\\\\Gamma^{ (Eg1,0) })': 10,\n",
       " 'B^*(x_0,t_i,t_f,\\\\Gamma^{ (Eg1,0) })': 11,\n",
       " 'B(x_1,t_i,\\\\Gamma^{ (Eg1,1) })': 12,\n",
       " 'B^*(x_0,t_i,t_f,\\\\Gamma^{ (Eg1,1) })': 13,\n",
       " 'B(x_1,t_i,\\\\Gamma^{ (Eg1,2) })': 14,\n",
       " 'B^*(x_0,t_i,t_f,\\\\Gamma^{ (Eg1,2) })': 15}"
      ]
     },
     "execution_count": 35,
     "metadata": {},
     "output_type": "execute_result"
    }
   ],
   "source": [
    "allBaryonTensors"
   ]
  },
  {
   "cell_type": "code",
   "execution_count": 36,
   "metadata": {},
   "outputs": [],
   "source": [
    "allBaryonProps = {}\n",
    "allBaryonSinks = {}\n",
    "pIdx=0\n",
    "sIdx=0\n",
    "for k,v in allBaryonTensors.items():\n",
    "    if k[0:3]==\"B^*\":\n",
    "        allBaryonProps[k]=pIdx\n",
    "        pIdx+=1\n",
    "    else:\n",
    "        allBaryonSinks[k]=sIdx\n",
    "        sIdx+=1"
   ]
  },
  {
   "cell_type": "code",
   "execution_count": 37,
   "metadata": {},
   "outputs": [
    {
     "data": {
      "text/plain": [
       "{'B(x_1,t_i,\\\\Gamma^{ (buchoff,0) })': 0,\n",
       " 'B(x_1,t_i,\\\\Gamma^{ (A1g,0) })': 1,\n",
       " 'B(x_1,t_i,\\\\Gamma^{ (Eg0,0) })': 2,\n",
       " 'B(x_1,t_i,\\\\Gamma^{ (Eg0,1) })': 3,\n",
       " 'B(x_1,t_i,\\\\Gamma^{ (Eg0,2) })': 4,\n",
       " 'B(x_1,t_i,\\\\Gamma^{ (Eg1,0) })': 5,\n",
       " 'B(x_1,t_i,\\\\Gamma^{ (Eg1,1) })': 6,\n",
       " 'B(x_1,t_i,\\\\Gamma^{ (Eg1,2) })': 7}"
      ]
     },
     "execution_count": 37,
     "metadata": {},
     "output_type": "execute_result"
    }
   ],
   "source": [
    "allBaryonSinks"
   ]
  },
  {
   "cell_type": "code",
   "execution_count": 38,
   "metadata": {},
   "outputs": [
    {
     "name": "stdout",
     "output_type": "stream",
     "text": [
      "file header\n",
      "diagrams.push_back(Diagram(bprops[0],bsinks[0],std::vector<std::vector<int>>{{3, 3}, {2, 2}, {1, 1}, {0, 0}}));\n",
      "diagrams.push_back(Diagram(bprops[0],bsinks[0],std::vector<std::vector<int>>{{3, 3}, {2, 2}, {1, 0}, {0, 1}}));\n",
      "diagrams.push_back(Diagram(bprops[0],bsinks[0],std::vector<std::vector<int>>{{3, 3}, {2, 0}, {1, 2}, {0, 1}}));\n",
      "diagrams.push_back(Diagram(bprops[0],bsinks[0],std::vector<std::vector<int>>{{3, 3}, {2, 1}, {1, 2}, {0, 0}}));\n",
      "diagrams.push_back(Diagram(bprops[0],bsinks[0],std::vector<std::vector<int>>{{3, 3}, {2, 1}, {1, 0}, {0, 2}}));\n",
      "diagrams.push_back(Diagram(bprops[0],bsinks[0],std::vector<std::vector<int>>{{3, 3}, {2, 0}, {1, 1}, {0, 2}}));\n",
      "diagrams.push_back(Diagram(bprops[0],bsinks[0],std::vector<std::vector<int>>{{3, 0}, {2, 3}, {1, 1}, {0, 2}}));\n",
      "diagrams.push_back(Diagram(bprops[0],bsinks[0],std::vector<std::vector<int>>{{3, 1}, {2, 3}, {1, 0}, {0, 2}}));\n",
      "diagrams.push_back(Diagram(bprops[0],bsinks[0],std::vector<std::vector<int>>{{3, 1}, {2, 3}, {1, 2}, {0, 0}}));\n",
      "diagrams.push_back(Diagram(bprops[0],bsinks[0],std::vector<std::vector<int>>{{3, 0}, {2, 3}, {1, 2}, {0, 1}}));\n",
      "diagrams.push_back(Diagram(bprops[0],bsinks[0],std::vector<std::vector<int>>{{3, 2}, {2, 3}, {1, 0}, {0, 1}}));\n",
      "diagrams.push_back(Diagram(bprops[0],bsinks[0],std::vector<std::vector<int>>{{3, 2}, {2, 3}, {1, 1}, {0, 0}}));\n",
      "diagrams.push_back(Diagram(bprops[0],bsinks[0],std::vector<std::vector<int>>{{3, 2}, {2, 1}, {1, 3}, {0, 0}}));\n",
      "diagrams.push_back(Diagram(bprops[0],bsinks[0],std::vector<std::vector<int>>{{3, 2}, {2, 0}, {1, 3}, {0, 1}}));\n",
      "diagrams.push_back(Diagram(bprops[0],bsinks[0],std::vector<std::vector<int>>{{3, 0}, {2, 2}, {1, 3}, {0, 1}}));\n",
      "diagrams.push_back(Diagram(bprops[0],bsinks[0],std::vector<std::vector<int>>{{3, 1}, {2, 2}, {1, 3}, {0, 0}}));\n",
      "diagrams.push_back(Diagram(bprops[0],bsinks[0],std::vector<std::vector<int>>{{3, 1}, {2, 0}, {1, 3}, {0, 2}}));\n",
      "diagrams.push_back(Diagram(bprops[0],bsinks[0],std::vector<std::vector<int>>{{3, 0}, {2, 1}, {1, 3}, {0, 2}}));\n",
      "diagrams.push_back(Diagram(bprops[0],bsinks[0],std::vector<std::vector<int>>{{3, 0}, {2, 1}, {1, 2}, {0, 3}}));\n",
      "diagrams.push_back(Diagram(bprops[0],bsinks[0],std::vector<std::vector<int>>{{3, 1}, {2, 0}, {1, 2}, {0, 3}}));\n",
      "diagrams.push_back(Diagram(bprops[0],bsinks[0],std::vector<std::vector<int>>{{3, 1}, {2, 2}, {1, 0}, {0, 3}}));\n",
      "diagrams.push_back(Diagram(bprops[0],bsinks[0],std::vector<std::vector<int>>{{3, 0}, {2, 2}, {1, 1}, {0, 3}}));\n",
      "diagrams.push_back(Diagram(bprops[0],bsinks[0],std::vector<std::vector<int>>{{3, 2}, {2, 0}, {1, 1}, {0, 3}}));\n",
      "diagrams.push_back(Diagram(bprops[0],bsinks[0],std::vector<std::vector<int>>{{3, 2}, {2, 1}, {1, 0}, {0, 3}}));\n",
      "diagrams.push_back(Diagram(bsinks[1],bprops[0],std::vector<std::vector<int>>{{3, 3}, {2, 2}, {1, 1}, {0, 0}}));\n",
      "diagrams.push_back(Diagram(bsinks[1],bprops[0],std::vector<std::vector<int>>{{3, 3}, {2, 2}, {1, 0}, {0, 1}}));\n",
      "diagrams.push_back(Diagram(bsinks[1],bprops[0],std::vector<std::vector<int>>{{3, 3}, {2, 1}, {1, 0}, {0, 2}}));\n",
      "diagrams.push_back(Diagram(bsinks[1],bprops[0],std::vector<std::vector<int>>{{3, 3}, {2, 1}, {1, 2}, {0, 0}}));\n",
      "diagrams.push_back(Diagram(bsinks[1],bprops[0],std::vector<std::vector<int>>{{3, 3}, {2, 0}, {1, 2}, {0, 1}}));\n",
      "diagrams.push_back(Diagram(bsinks[1],bprops[0],std::vector<std::vector<int>>{{3, 3}, {2, 0}, {1, 1}, {0, 2}}));\n",
      "diagrams.push_back(Diagram(bsinks[1],bprops[0],std::vector<std::vector<int>>{{3, 2}, {2, 0}, {1, 1}, {0, 3}}));\n",
      "diagrams.push_back(Diagram(bsinks[1],bprops[0],std::vector<std::vector<int>>{{3, 2}, {2, 0}, {1, 3}, {0, 1}}));\n",
      "diagrams.push_back(Diagram(bsinks[1],bprops[0],std::vector<std::vector<int>>{{3, 2}, {2, 1}, {1, 3}, {0, 0}}));\n",
      "diagrams.push_back(Diagram(bsinks[1],bprops[0],std::vector<std::vector<int>>{{3, 2}, {2, 1}, {1, 0}, {0, 3}}));\n",
      "diagrams.push_back(Diagram(bsinks[1],bprops[0],std::vector<std::vector<int>>{{3, 2}, {2, 3}, {1, 0}, {0, 1}}));\n",
      "diagrams.push_back(Diagram(bsinks[1],bprops[0],std::vector<std::vector<int>>{{3, 2}, {2, 3}, {1, 1}, {0, 0}}));\n",
      "diagrams.push_back(Diagram(bsinks[1],bprops[0],std::vector<std::vector<int>>{{3, 1}, {2, 3}, {1, 2}, {0, 0}}));\n",
      "diagrams.push_back(Diagram(bsinks[1],bprops[0],std::vector<std::vector<int>>{{3, 1}, {2, 3}, {1, 0}, {0, 2}}));\n",
      "diagrams.push_back(Diagram(bsinks[1],bprops[0],std::vector<std::vector<int>>{{3, 1}, {2, 2}, {1, 0}, {0, 3}}));\n",
      "diagrams.push_back(Diagram(bsinks[1],bprops[0],std::vector<std::vector<int>>{{3, 1}, {2, 2}, {1, 3}, {0, 0}}));\n",
      "diagrams.push_back(Diagram(bsinks[1],bprops[0],std::vector<std::vector<int>>{{3, 1}, {2, 0}, {1, 3}, {0, 2}}));\n",
      "diagrams.push_back(Diagram(bsinks[1],bprops[0],std::vector<std::vector<int>>{{3, 1}, {2, 0}, {1, 2}, {0, 3}}));\n",
      "diagrams.push_back(Diagram(bsinks[1],bprops[0],std::vector<std::vector<int>>{{3, 0}, {2, 1}, {1, 2}, {0, 3}}));\n",
      "diagrams.push_back(Diagram(bsinks[1],bprops[0],std::vector<std::vector<int>>{{3, 0}, {2, 1}, {1, 3}, {0, 2}}));\n",
      "diagrams.push_back(Diagram(bsinks[1],bprops[0],std::vector<std::vector<int>>{{3, 0}, {2, 2}, {1, 3}, {0, 1}}));\n",
      "diagrams.push_back(Diagram(bsinks[1],bprops[0],std::vector<std::vector<int>>{{3, 0}, {2, 2}, {1, 1}, {0, 3}}));\n",
      "diagrams.push_back(Diagram(bsinks[1],bprops[0],std::vector<std::vector<int>>{{3, 0}, {2, 3}, {1, 1}, {0, 2}}));\n",
      "diagrams.push_back(Diagram(bsinks[1],bprops[0],std::vector<std::vector<int>>{{3, 0}, {2, 3}, {1, 2}, {0, 1}}));\n",
      "diagrams.push_back(Diagram(bsinks[2],bprops[0],std::vector<std::vector<int>>{{3, 3}, {2, 2}, {1, 1}, {0, 0}}));\n",
      "diagrams.push_back(Diagram(bsinks[2],bprops[0],std::vector<std::vector<int>>{{3, 3}, {2, 2}, {1, 0}, {0, 1}}));\n",
      "diagrams.push_back(Diagram(bsinks[2],bprops[0],std::vector<std::vector<int>>{{3, 3}, {2, 1}, {1, 0}, {0, 2}}));\n",
      "diagrams.push_back(Diagram(bsinks[2],bprops[0],std::vector<std::vector<int>>{{3, 3}, {2, 1}, {1, 2}, {0, 0}}));\n",
      "diagrams.push_back(Diagram(bsinks[2],bprops[0],std::vector<std::vector<int>>{{3, 3}, {2, 0}, {1, 2}, {0, 1}}));\n",
      "diagrams.push_back(Diagram(bsinks[2],bprops[0],std::vector<std::vector<int>>{{3, 3}, {2, 0}, {1, 1}, {0, 2}}));\n",
      "diagrams.push_back(Diagram(bsinks[2],bprops[0],std::vector<std::vector<int>>{{3, 2}, {2, 0}, {1, 1}, {0, 3}}));\n",
      "diagrams.push_back(Diagram(bsinks[2],bprops[0],std::vector<std::vector<int>>{{3, 2}, {2, 0}, {1, 3}, {0, 1}}));\n",
      "diagrams.push_back(Diagram(bsinks[2],bprops[0],std::vector<std::vector<int>>{{3, 2}, {2, 1}, {1, 3}, {0, 0}}));\n",
      "diagrams.push_back(Diagram(bsinks[2],bprops[0],std::vector<std::vector<int>>{{3, 2}, {2, 1}, {1, 0}, {0, 3}}));\n",
      "diagrams.push_back(Diagram(bsinks[2],bprops[0],std::vector<std::vector<int>>{{3, 2}, {2, 3}, {1, 0}, {0, 1}}));\n",
      "diagrams.push_back(Diagram(bsinks[2],bprops[0],std::vector<std::vector<int>>{{3, 2}, {2, 3}, {1, 1}, {0, 0}}));\n",
      "diagrams.push_back(Diagram(bsinks[2],bprops[0],std::vector<std::vector<int>>{{3, 1}, {2, 3}, {1, 2}, {0, 0}}));\n",
      "diagrams.push_back(Diagram(bsinks[2],bprops[0],std::vector<std::vector<int>>{{3, 1}, {2, 3}, {1, 0}, {0, 2}}));\n",
      "diagrams.push_back(Diagram(bsinks[2],bprops[0],std::vector<std::vector<int>>{{3, 1}, {2, 2}, {1, 0}, {0, 3}}));\n",
      "diagrams.push_back(Diagram(bsinks[2],bprops[0],std::vector<std::vector<int>>{{3, 1}, {2, 2}, {1, 3}, {0, 0}}));\n",
      "diagrams.push_back(Diagram(bsinks[2],bprops[0],std::vector<std::vector<int>>{{3, 1}, {2, 0}, {1, 3}, {0, 2}}));\n",
      "diagrams.push_back(Diagram(bsinks[2],bprops[0],std::vector<std::vector<int>>{{3, 1}, {2, 0}, {1, 2}, {0, 3}}));\n",
      "diagrams.push_back(Diagram(bsinks[2],bprops[0],std::vector<std::vector<int>>{{3, 0}, {2, 1}, {1, 2}, {0, 3}}));\n",
      "diagrams.push_back(Diagram(bsinks[2],bprops[0],std::vector<std::vector<int>>{{3, 0}, {2, 1}, {1, 3}, {0, 2}}));\n",
      "diagrams.push_back(Diagram(bsinks[2],bprops[0],std::vector<std::vector<int>>{{3, 0}, {2, 2}, {1, 3}, {0, 1}}));\n",
      "diagrams.push_back(Diagram(bsinks[2],bprops[0],std::vector<std::vector<int>>{{3, 0}, {2, 2}, {1, 1}, {0, 3}}));\n",
      "diagrams.push_back(Diagram(bsinks[2],bprops[0],std::vector<std::vector<int>>{{3, 0}, {2, 3}, {1, 1}, {0, 2}}));\n",
      "diagrams.push_back(Diagram(bsinks[2],bprops[0],std::vector<std::vector<int>>{{3, 0}, {2, 3}, {1, 2}, {0, 1}}));\n",
      "diagrams.push_back(Diagram(bsinks[3],bprops[0],std::vector<std::vector<int>>{{3, 3}, {2, 2}, {1, 1}, {0, 0}}));\n",
      "diagrams.push_back(Diagram(bsinks[3],bprops[0],std::vector<std::vector<int>>{{3, 3}, {2, 2}, {1, 0}, {0, 1}}));\n",
      "diagrams.push_back(Diagram(bsinks[3],bprops[0],std::vector<std::vector<int>>{{3, 3}, {2, 1}, {1, 0}, {0, 2}}));\n",
      "diagrams.push_back(Diagram(bsinks[3],bprops[0],std::vector<std::vector<int>>{{3, 3}, {2, 1}, {1, 2}, {0, 0}}));\n",
      "diagrams.push_back(Diagram(bsinks[3],bprops[0],std::vector<std::vector<int>>{{3, 3}, {2, 0}, {1, 2}, {0, 1}}));\n",
      "diagrams.push_back(Diagram(bsinks[3],bprops[0],std::vector<std::vector<int>>{{3, 3}, {2, 0}, {1, 1}, {0, 2}}));\n",
      "diagrams.push_back(Diagram(bsinks[3],bprops[0],std::vector<std::vector<int>>{{3, 2}, {2, 0}, {1, 1}, {0, 3}}));\n",
      "diagrams.push_back(Diagram(bsinks[3],bprops[0],std::vector<std::vector<int>>{{3, 2}, {2, 0}, {1, 3}, {0, 1}}));\n",
      "diagrams.push_back(Diagram(bsinks[3],bprops[0],std::vector<std::vector<int>>{{3, 2}, {2, 1}, {1, 3}, {0, 0}}));\n",
      "diagrams.push_back(Diagram(bsinks[3],bprops[0],std::vector<std::vector<int>>{{3, 2}, {2, 1}, {1, 0}, {0, 3}}));\n",
      "diagrams.push_back(Diagram(bsinks[3],bprops[0],std::vector<std::vector<int>>{{3, 2}, {2, 3}, {1, 0}, {0, 1}}));\n",
      "diagrams.push_back(Diagram(bsinks[3],bprops[0],std::vector<std::vector<int>>{{3, 2}, {2, 3}, {1, 1}, {0, 0}}));\n",
      "diagrams.push_back(Diagram(bsinks[3],bprops[0],std::vector<std::vector<int>>{{3, 1}, {2, 3}, {1, 2}, {0, 0}}));\n",
      "diagrams.push_back(Diagram(bsinks[3],bprops[0],std::vector<std::vector<int>>{{3, 1}, {2, 3}, {1, 0}, {0, 2}}));\n",
      "diagrams.push_back(Diagram(bsinks[3],bprops[0],std::vector<std::vector<int>>{{3, 1}, {2, 2}, {1, 0}, {0, 3}}));\n",
      "diagrams.push_back(Diagram(bsinks[3],bprops[0],std::vector<std::vector<int>>{{3, 1}, {2, 2}, {1, 3}, {0, 0}}));\n",
      "diagrams.push_back(Diagram(bsinks[3],bprops[0],std::vector<std::vector<int>>{{3, 1}, {2, 0}, {1, 3}, {0, 2}}));\n",
      "diagrams.push_back(Diagram(bsinks[3],bprops[0],std::vector<std::vector<int>>{{3, 1}, {2, 0}, {1, 2}, {0, 3}}));\n",
      "diagrams.push_back(Diagram(bsinks[3],bprops[0],std::vector<std::vector<int>>{{3, 0}, {2, 1}, {1, 2}, {0, 3}}));\n",
      "diagrams.push_back(Diagram(bsinks[3],bprops[0],std::vector<std::vector<int>>{{3, 0}, {2, 1}, {1, 3}, {0, 2}}));\n",
      "diagrams.push_back(Diagram(bsinks[3],bprops[0],std::vector<std::vector<int>>{{3, 0}, {2, 2}, {1, 3}, {0, 1}}));\n",
      "diagrams.push_back(Diagram(bsinks[3],bprops[0],std::vector<std::vector<int>>{{3, 0}, {2, 2}, {1, 1}, {0, 3}}));\n",
      "diagrams.push_back(Diagram(bsinks[3],bprops[0],std::vector<std::vector<int>>{{3, 0}, {2, 3}, {1, 1}, {0, 2}}));\n",
      "diagrams.push_back(Diagram(bsinks[3],bprops[0],std::vector<std::vector<int>>{{3, 0}, {2, 3}, {1, 2}, {0, 1}}));\n",
      "diagrams.push_back(Diagram(bsinks[4],bprops[0],std::vector<std::vector<int>>{{3, 3}, {2, 2}, {1, 1}, {0, 0}}));\n",
      "diagrams.push_back(Diagram(bsinks[4],bprops[0],std::vector<std::vector<int>>{{3, 3}, {2, 2}, {1, 0}, {0, 1}}));\n",
      "diagrams.push_back(Diagram(bsinks[4],bprops[0],std::vector<std::vector<int>>{{3, 3}, {2, 1}, {1, 0}, {0, 2}}));\n",
      "diagrams.push_back(Diagram(bsinks[4],bprops[0],std::vector<std::vector<int>>{{3, 3}, {2, 1}, {1, 2}, {0, 0}}));\n",
      "diagrams.push_back(Diagram(bsinks[4],bprops[0],std::vector<std::vector<int>>{{3, 3}, {2, 0}, {1, 2}, {0, 1}}));\n",
      "diagrams.push_back(Diagram(bsinks[4],bprops[0],std::vector<std::vector<int>>{{3, 3}, {2, 0}, {1, 1}, {0, 2}}));\n",
      "diagrams.push_back(Diagram(bsinks[4],bprops[0],std::vector<std::vector<int>>{{3, 2}, {2, 0}, {1, 1}, {0, 3}}));\n",
      "diagrams.push_back(Diagram(bsinks[4],bprops[0],std::vector<std::vector<int>>{{3, 2}, {2, 0}, {1, 3}, {0, 1}}));\n",
      "diagrams.push_back(Diagram(bsinks[4],bprops[0],std::vector<std::vector<int>>{{3, 2}, {2, 1}, {1, 3}, {0, 0}}));\n",
      "diagrams.push_back(Diagram(bsinks[4],bprops[0],std::vector<std::vector<int>>{{3, 2}, {2, 1}, {1, 0}, {0, 3}}));\n",
      "diagrams.push_back(Diagram(bsinks[4],bprops[0],std::vector<std::vector<int>>{{3, 2}, {2, 3}, {1, 0}, {0, 1}}));\n",
      "diagrams.push_back(Diagram(bsinks[4],bprops[0],std::vector<std::vector<int>>{{3, 2}, {2, 3}, {1, 1}, {0, 0}}));\n",
      "diagrams.push_back(Diagram(bsinks[4],bprops[0],std::vector<std::vector<int>>{{3, 1}, {2, 3}, {1, 2}, {0, 0}}));\n",
      "diagrams.push_back(Diagram(bsinks[4],bprops[0],std::vector<std::vector<int>>{{3, 1}, {2, 3}, {1, 0}, {0, 2}}));\n",
      "diagrams.push_back(Diagram(bsinks[4],bprops[0],std::vector<std::vector<int>>{{3, 1}, {2, 2}, {1, 0}, {0, 3}}));\n",
      "diagrams.push_back(Diagram(bsinks[4],bprops[0],std::vector<std::vector<int>>{{3, 1}, {2, 2}, {1, 3}, {0, 0}}));\n",
      "diagrams.push_back(Diagram(bsinks[4],bprops[0],std::vector<std::vector<int>>{{3, 1}, {2, 0}, {1, 3}, {0, 2}}));\n",
      "diagrams.push_back(Diagram(bsinks[4],bprops[0],std::vector<std::vector<int>>{{3, 1}, {2, 0}, {1, 2}, {0, 3}}));\n",
      "diagrams.push_back(Diagram(bsinks[4],bprops[0],std::vector<std::vector<int>>{{3, 0}, {2, 1}, {1, 2}, {0, 3}}));\n",
      "diagrams.push_back(Diagram(bsinks[4],bprops[0],std::vector<std::vector<int>>{{3, 0}, {2, 1}, {1, 3}, {0, 2}}));\n",
      "diagrams.push_back(Diagram(bsinks[4],bprops[0],std::vector<std::vector<int>>{{3, 0}, {2, 2}, {1, 3}, {0, 1}}));\n",
      "diagrams.push_back(Diagram(bsinks[4],bprops[0],std::vector<std::vector<int>>{{3, 0}, {2, 2}, {1, 1}, {0, 3}}));\n",
      "diagrams.push_back(Diagram(bsinks[4],bprops[0],std::vector<std::vector<int>>{{3, 0}, {2, 3}, {1, 1}, {0, 2}}));\n",
      "diagrams.push_back(Diagram(bsinks[4],bprops[0],std::vector<std::vector<int>>{{3, 0}, {2, 3}, {1, 2}, {0, 1}}));\n",
      "diagrams.push_back(Diagram(bsinks[5],bprops[0],std::vector<std::vector<int>>{{3, 3}, {2, 2}, {1, 1}, {0, 0}}));\n",
      "diagrams.push_back(Diagram(bsinks[5],bprops[0],std::vector<std::vector<int>>{{3, 3}, {2, 2}, {1, 0}, {0, 1}}));\n",
      "diagrams.push_back(Diagram(bsinks[5],bprops[0],std::vector<std::vector<int>>{{3, 3}, {2, 1}, {1, 0}, {0, 2}}));\n",
      "diagrams.push_back(Diagram(bsinks[5],bprops[0],std::vector<std::vector<int>>{{3, 3}, {2, 1}, {1, 2}, {0, 0}}));\n",
      "diagrams.push_back(Diagram(bsinks[5],bprops[0],std::vector<std::vector<int>>{{3, 3}, {2, 0}, {1, 2}, {0, 1}}));\n",
      "diagrams.push_back(Diagram(bsinks[5],bprops[0],std::vector<std::vector<int>>{{3, 3}, {2, 0}, {1, 1}, {0, 2}}));\n",
      "diagrams.push_back(Diagram(bsinks[5],bprops[0],std::vector<std::vector<int>>{{3, 2}, {2, 0}, {1, 1}, {0, 3}}));\n",
      "diagrams.push_back(Diagram(bsinks[5],bprops[0],std::vector<std::vector<int>>{{3, 2}, {2, 0}, {1, 3}, {0, 1}}));\n",
      "diagrams.push_back(Diagram(bsinks[5],bprops[0],std::vector<std::vector<int>>{{3, 2}, {2, 1}, {1, 3}, {0, 0}}));\n",
      "diagrams.push_back(Diagram(bsinks[5],bprops[0],std::vector<std::vector<int>>{{3, 2}, {2, 1}, {1, 0}, {0, 3}}));\n",
      "diagrams.push_back(Diagram(bsinks[5],bprops[0],std::vector<std::vector<int>>{{3, 2}, {2, 3}, {1, 0}, {0, 1}}));\n",
      "diagrams.push_back(Diagram(bsinks[5],bprops[0],std::vector<std::vector<int>>{{3, 2}, {2, 3}, {1, 1}, {0, 0}}));\n",
      "diagrams.push_back(Diagram(bsinks[5],bprops[0],std::vector<std::vector<int>>{{3, 1}, {2, 3}, {1, 2}, {0, 0}}));\n",
      "diagrams.push_back(Diagram(bsinks[5],bprops[0],std::vector<std::vector<int>>{{3, 1}, {2, 3}, {1, 0}, {0, 2}}));\n",
      "diagrams.push_back(Diagram(bsinks[5],bprops[0],std::vector<std::vector<int>>{{3, 1}, {2, 2}, {1, 0}, {0, 3}}));\n",
      "diagrams.push_back(Diagram(bsinks[5],bprops[0],std::vector<std::vector<int>>{{3, 1}, {2, 2}, {1, 3}, {0, 0}}));\n",
      "diagrams.push_back(Diagram(bsinks[5],bprops[0],std::vector<std::vector<int>>{{3, 1}, {2, 0}, {1, 3}, {0, 2}}));\n",
      "diagrams.push_back(Diagram(bsinks[5],bprops[0],std::vector<std::vector<int>>{{3, 1}, {2, 0}, {1, 2}, {0, 3}}));\n",
      "diagrams.push_back(Diagram(bsinks[5],bprops[0],std::vector<std::vector<int>>{{3, 0}, {2, 1}, {1, 2}, {0, 3}}));\n",
      "diagrams.push_back(Diagram(bsinks[5],bprops[0],std::vector<std::vector<int>>{{3, 0}, {2, 1}, {1, 3}, {0, 2}}));\n",
      "diagrams.push_back(Diagram(bsinks[5],bprops[0],std::vector<std::vector<int>>{{3, 0}, {2, 2}, {1, 3}, {0, 1}}));\n",
      "diagrams.push_back(Diagram(bsinks[5],bprops[0],std::vector<std::vector<int>>{{3, 0}, {2, 2}, {1, 1}, {0, 3}}));\n",
      "diagrams.push_back(Diagram(bsinks[5],bprops[0],std::vector<std::vector<int>>{{3, 0}, {2, 3}, {1, 1}, {0, 2}}));\n",
      "diagrams.push_back(Diagram(bsinks[5],bprops[0],std::vector<std::vector<int>>{{3, 0}, {2, 3}, {1, 2}, {0, 1}}));\n",
      "diagrams.push_back(Diagram(bsinks[6],bprops[0],std::vector<std::vector<int>>{{3, 3}, {2, 2}, {1, 1}, {0, 0}}));\n",
      "diagrams.push_back(Diagram(bsinks[6],bprops[0],std::vector<std::vector<int>>{{3, 3}, {2, 2}, {1, 0}, {0, 1}}));\n",
      "diagrams.push_back(Diagram(bsinks[6],bprops[0],std::vector<std::vector<int>>{{3, 3}, {2, 1}, {1, 0}, {0, 2}}));\n",
      "diagrams.push_back(Diagram(bsinks[6],bprops[0],std::vector<std::vector<int>>{{3, 3}, {2, 1}, {1, 2}, {0, 0}}));\n",
      "diagrams.push_back(Diagram(bsinks[6],bprops[0],std::vector<std::vector<int>>{{3, 3}, {2, 0}, {1, 2}, {0, 1}}));\n",
      "diagrams.push_back(Diagram(bsinks[6],bprops[0],std::vector<std::vector<int>>{{3, 3}, {2, 0}, {1, 1}, {0, 2}}));\n",
      "diagrams.push_back(Diagram(bsinks[6],bprops[0],std::vector<std::vector<int>>{{3, 2}, {2, 0}, {1, 1}, {0, 3}}));\n",
      "diagrams.push_back(Diagram(bsinks[6],bprops[0],std::vector<std::vector<int>>{{3, 2}, {2, 0}, {1, 3}, {0, 1}}));\n",
      "diagrams.push_back(Diagram(bsinks[6],bprops[0],std::vector<std::vector<int>>{{3, 2}, {2, 1}, {1, 3}, {0, 0}}));\n",
      "diagrams.push_back(Diagram(bsinks[6],bprops[0],std::vector<std::vector<int>>{{3, 2}, {2, 1}, {1, 0}, {0, 3}}));\n",
      "diagrams.push_back(Diagram(bsinks[6],bprops[0],std::vector<std::vector<int>>{{3, 2}, {2, 3}, {1, 0}, {0, 1}}));\n",
      "diagrams.push_back(Diagram(bsinks[6],bprops[0],std::vector<std::vector<int>>{{3, 2}, {2, 3}, {1, 1}, {0, 0}}));\n",
      "diagrams.push_back(Diagram(bsinks[6],bprops[0],std::vector<std::vector<int>>{{3, 1}, {2, 3}, {1, 2}, {0, 0}}));\n",
      "diagrams.push_back(Diagram(bsinks[6],bprops[0],std::vector<std::vector<int>>{{3, 1}, {2, 3}, {1, 0}, {0, 2}}));\n",
      "diagrams.push_back(Diagram(bsinks[6],bprops[0],std::vector<std::vector<int>>{{3, 1}, {2, 2}, {1, 0}, {0, 3}}));\n",
      "diagrams.push_back(Diagram(bsinks[6],bprops[0],std::vector<std::vector<int>>{{3, 1}, {2, 2}, {1, 3}, {0, 0}}));\n",
      "diagrams.push_back(Diagram(bsinks[6],bprops[0],std::vector<std::vector<int>>{{3, 1}, {2, 0}, {1, 3}, {0, 2}}));\n",
      "diagrams.push_back(Diagram(bsinks[6],bprops[0],std::vector<std::vector<int>>{{3, 1}, {2, 0}, {1, 2}, {0, 3}}));\n",
      "diagrams.push_back(Diagram(bsinks[6],bprops[0],std::vector<std::vector<int>>{{3, 0}, {2, 1}, {1, 2}, {0, 3}}));\n",
      "diagrams.push_back(Diagram(bsinks[6],bprops[0],std::vector<std::vector<int>>{{3, 0}, {2, 1}, {1, 3}, {0, 2}}));\n",
      "diagrams.push_back(Diagram(bsinks[6],bprops[0],std::vector<std::vector<int>>{{3, 0}, {2, 2}, {1, 3}, {0, 1}}));\n",
      "diagrams.push_back(Diagram(bsinks[6],bprops[0],std::vector<std::vector<int>>{{3, 0}, {2, 2}, {1, 1}, {0, 3}}));\n",
      "diagrams.push_back(Diagram(bsinks[6],bprops[0],std::vector<std::vector<int>>{{3, 0}, {2, 3}, {1, 1}, {0, 2}}));\n",
      "diagrams.push_back(Diagram(bsinks[6],bprops[0],std::vector<std::vector<int>>{{3, 0}, {2, 3}, {1, 2}, {0, 1}}));\n",
      "diagrams.push_back(Diagram(bsinks[7],bprops[0],std::vector<std::vector<int>>{{3, 3}, {2, 2}, {1, 1}, {0, 0}}));\n",
      "diagrams.push_back(Diagram(bsinks[7],bprops[0],std::vector<std::vector<int>>{{3, 3}, {2, 2}, {1, 0}, {0, 1}}));\n",
      "diagrams.push_back(Diagram(bsinks[7],bprops[0],std::vector<std::vector<int>>{{3, 3}, {2, 1}, {1, 0}, {0, 2}}));\n",
      "diagrams.push_back(Diagram(bsinks[7],bprops[0],std::vector<std::vector<int>>{{3, 3}, {2, 1}, {1, 2}, {0, 0}}));\n",
      "diagrams.push_back(Diagram(bsinks[7],bprops[0],std::vector<std::vector<int>>{{3, 3}, {2, 0}, {1, 2}, {0, 1}}));\n",
      "diagrams.push_back(Diagram(bsinks[7],bprops[0],std::vector<std::vector<int>>{{3, 3}, {2, 0}, {1, 1}, {0, 2}}));\n",
      "diagrams.push_back(Diagram(bsinks[7],bprops[0],std::vector<std::vector<int>>{{3, 2}, {2, 0}, {1, 1}, {0, 3}}));\n",
      "diagrams.push_back(Diagram(bsinks[7],bprops[0],std::vector<std::vector<int>>{{3, 2}, {2, 0}, {1, 3}, {0, 1}}));\n",
      "diagrams.push_back(Diagram(bsinks[7],bprops[0],std::vector<std::vector<int>>{{3, 2}, {2, 1}, {1, 3}, {0, 0}}));\n",
      "diagrams.push_back(Diagram(bsinks[7],bprops[0],std::vector<std::vector<int>>{{3, 2}, {2, 1}, {1, 0}, {0, 3}}));\n",
      "diagrams.push_back(Diagram(bsinks[7],bprops[0],std::vector<std::vector<int>>{{3, 2}, {2, 3}, {1, 0}, {0, 1}}));\n",
      "diagrams.push_back(Diagram(bsinks[7],bprops[0],std::vector<std::vector<int>>{{3, 2}, {2, 3}, {1, 1}, {0, 0}}));\n",
      "diagrams.push_back(Diagram(bsinks[7],bprops[0],std::vector<std::vector<int>>{{3, 1}, {2, 3}, {1, 2}, {0, 0}}));\n",
      "diagrams.push_back(Diagram(bsinks[7],bprops[0],std::vector<std::vector<int>>{{3, 1}, {2, 3}, {1, 0}, {0, 2}}));\n",
      "diagrams.push_back(Diagram(bsinks[7],bprops[0],std::vector<std::vector<int>>{{3, 1}, {2, 2}, {1, 0}, {0, 3}}));\n",
      "diagrams.push_back(Diagram(bsinks[7],bprops[0],std::vector<std::vector<int>>{{3, 1}, {2, 2}, {1, 3}, {0, 0}}));\n",
      "diagrams.push_back(Diagram(bsinks[7],bprops[0],std::vector<std::vector<int>>{{3, 1}, {2, 0}, {1, 3}, {0, 2}}));\n",
      "diagrams.push_back(Diagram(bsinks[7],bprops[0],std::vector<std::vector<int>>{{3, 1}, {2, 0}, {1, 2}, {0, 3}}));\n",
      "diagrams.push_back(Diagram(bsinks[7],bprops[0],std::vector<std::vector<int>>{{3, 0}, {2, 1}, {1, 2}, {0, 3}}));\n",
      "diagrams.push_back(Diagram(bsinks[7],bprops[0],std::vector<std::vector<int>>{{3, 0}, {2, 1}, {1, 3}, {0, 2}}));\n",
      "diagrams.push_back(Diagram(bsinks[7],bprops[0],std::vector<std::vector<int>>{{3, 0}, {2, 2}, {1, 3}, {0, 1}}));\n",
      "diagrams.push_back(Diagram(bsinks[7],bprops[0],std::vector<std::vector<int>>{{3, 0}, {2, 2}, {1, 1}, {0, 3}}));\n",
      "diagrams.push_back(Diagram(bsinks[7],bprops[0],std::vector<std::vector<int>>{{3, 0}, {2, 3}, {1, 1}, {0, 2}}));\n",
      "diagrams.push_back(Diagram(bsinks[7],bprops[0],std::vector<std::vector<int>>{{3, 0}, {2, 3}, {1, 2}, {0, 1}}));\n",
      "diagrams.push_back(Diagram(bprops[1],bsinks[0],std::vector<std::vector<int>>{{3, 3}, {2, 2}, {1, 1}, {0, 0}}));\n",
      "diagrams.push_back(Diagram(bprops[1],bsinks[0],std::vector<std::vector<int>>{{3, 3}, {2, 2}, {1, 0}, {0, 1}}));\n",
      "diagrams.push_back(Diagram(bprops[1],bsinks[0],std::vector<std::vector<int>>{{3, 3}, {2, 0}, {1, 2}, {0, 1}}));\n",
      "diagrams.push_back(Diagram(bprops[1],bsinks[0],std::vector<std::vector<int>>{{3, 3}, {2, 1}, {1, 2}, {0, 0}}));\n",
      "diagrams.push_back(Diagram(bprops[1],bsinks[0],std::vector<std::vector<int>>{{3, 3}, {2, 1}, {1, 0}, {0, 2}}));\n",
      "diagrams.push_back(Diagram(bprops[1],bsinks[0],std::vector<std::vector<int>>{{3, 3}, {2, 0}, {1, 1}, {0, 2}}));\n",
      "diagrams.push_back(Diagram(bprops[1],bsinks[0],std::vector<std::vector<int>>{{3, 0}, {2, 3}, {1, 1}, {0, 2}}));\n",
      "diagrams.push_back(Diagram(bprops[1],bsinks[0],std::vector<std::vector<int>>{{3, 1}, {2, 3}, {1, 0}, {0, 2}}));\n",
      "diagrams.push_back(Diagram(bprops[1],bsinks[0],std::vector<std::vector<int>>{{3, 1}, {2, 3}, {1, 2}, {0, 0}}));\n",
      "diagrams.push_back(Diagram(bprops[1],bsinks[0],std::vector<std::vector<int>>{{3, 0}, {2, 3}, {1, 2}, {0, 1}}));\n",
      "diagrams.push_back(Diagram(bprops[1],bsinks[0],std::vector<std::vector<int>>{{3, 2}, {2, 3}, {1, 0}, {0, 1}}));\n",
      "diagrams.push_back(Diagram(bprops[1],bsinks[0],std::vector<std::vector<int>>{{3, 2}, {2, 3}, {1, 1}, {0, 0}}));\n",
      "diagrams.push_back(Diagram(bprops[1],bsinks[0],std::vector<std::vector<int>>{{3, 2}, {2, 1}, {1, 3}, {0, 0}}));\n",
      "diagrams.push_back(Diagram(bprops[1],bsinks[0],std::vector<std::vector<int>>{{3, 2}, {2, 0}, {1, 3}, {0, 1}}));\n",
      "diagrams.push_back(Diagram(bprops[1],bsinks[0],std::vector<std::vector<int>>{{3, 0}, {2, 2}, {1, 3}, {0, 1}}));\n",
      "diagrams.push_back(Diagram(bprops[1],bsinks[0],std::vector<std::vector<int>>{{3, 1}, {2, 2}, {1, 3}, {0, 0}}));\n",
      "diagrams.push_back(Diagram(bprops[1],bsinks[0],std::vector<std::vector<int>>{{3, 1}, {2, 0}, {1, 3}, {0, 2}}));\n",
      "diagrams.push_back(Diagram(bprops[1],bsinks[0],std::vector<std::vector<int>>{{3, 0}, {2, 1}, {1, 3}, {0, 2}}));\n",
      "diagrams.push_back(Diagram(bprops[1],bsinks[0],std::vector<std::vector<int>>{{3, 0}, {2, 1}, {1, 2}, {0, 3}}));\n",
      "diagrams.push_back(Diagram(bprops[1],bsinks[0],std::vector<std::vector<int>>{{3, 1}, {2, 0}, {1, 2}, {0, 3}}));\n",
      "diagrams.push_back(Diagram(bprops[1],bsinks[0],std::vector<std::vector<int>>{{3, 1}, {2, 2}, {1, 0}, {0, 3}}));\n",
      "diagrams.push_back(Diagram(bprops[1],bsinks[0],std::vector<std::vector<int>>{{3, 0}, {2, 2}, {1, 1}, {0, 3}}));\n",
      "diagrams.push_back(Diagram(bprops[1],bsinks[0],std::vector<std::vector<int>>{{3, 2}, {2, 0}, {1, 1}, {0, 3}}));\n",
      "diagrams.push_back(Diagram(bprops[1],bsinks[0],std::vector<std::vector<int>>{{3, 2}, {2, 1}, {1, 0}, {0, 3}}));\n",
      "diagrams.push_back(Diagram(bprops[1],bsinks[1],std::vector<std::vector<int>>{{3, 3}, {2, 2}, {1, 1}, {0, 0}}));\n",
      "diagrams.push_back(Diagram(bprops[1],bsinks[1],std::vector<std::vector<int>>{{3, 3}, {2, 2}, {1, 0}, {0, 1}}));\n",
      "diagrams.push_back(Diagram(bprops[1],bsinks[1],std::vector<std::vector<int>>{{3, 3}, {2, 0}, {1, 2}, {0, 1}}));\n",
      "diagrams.push_back(Diagram(bprops[1],bsinks[1],std::vector<std::vector<int>>{{3, 3}, {2, 1}, {1, 2}, {0, 0}}));\n",
      "diagrams.push_back(Diagram(bprops[1],bsinks[1],std::vector<std::vector<int>>{{3, 3}, {2, 1}, {1, 0}, {0, 2}}));\n",
      "diagrams.push_back(Diagram(bprops[1],bsinks[1],std::vector<std::vector<int>>{{3, 3}, {2, 0}, {1, 1}, {0, 2}}));\n",
      "diagrams.push_back(Diagram(bprops[1],bsinks[1],std::vector<std::vector<int>>{{3, 0}, {2, 3}, {1, 1}, {0, 2}}));\n",
      "diagrams.push_back(Diagram(bprops[1],bsinks[1],std::vector<std::vector<int>>{{3, 1}, {2, 3}, {1, 0}, {0, 2}}));\n",
      "diagrams.push_back(Diagram(bprops[1],bsinks[1],std::vector<std::vector<int>>{{3, 1}, {2, 3}, {1, 2}, {0, 0}}));\n",
      "diagrams.push_back(Diagram(bprops[1],bsinks[1],std::vector<std::vector<int>>{{3, 0}, {2, 3}, {1, 2}, {0, 1}}));\n",
      "diagrams.push_back(Diagram(bprops[1],bsinks[1],std::vector<std::vector<int>>{{3, 2}, {2, 3}, {1, 0}, {0, 1}}));\n",
      "diagrams.push_back(Diagram(bprops[1],bsinks[1],std::vector<std::vector<int>>{{3, 2}, {2, 3}, {1, 1}, {0, 0}}));\n",
      "diagrams.push_back(Diagram(bprops[1],bsinks[1],std::vector<std::vector<int>>{{3, 2}, {2, 1}, {1, 3}, {0, 0}}));\n",
      "diagrams.push_back(Diagram(bprops[1],bsinks[1],std::vector<std::vector<int>>{{3, 2}, {2, 0}, {1, 3}, {0, 1}}));\n",
      "diagrams.push_back(Diagram(bprops[1],bsinks[1],std::vector<std::vector<int>>{{3, 0}, {2, 2}, {1, 3}, {0, 1}}));\n",
      "diagrams.push_back(Diagram(bprops[1],bsinks[1],std::vector<std::vector<int>>{{3, 1}, {2, 2}, {1, 3}, {0, 0}}));\n",
      "diagrams.push_back(Diagram(bprops[1],bsinks[1],std::vector<std::vector<int>>{{3, 1}, {2, 0}, {1, 3}, {0, 2}}));\n",
      "diagrams.push_back(Diagram(bprops[1],bsinks[1],std::vector<std::vector<int>>{{3, 0}, {2, 1}, {1, 3}, {0, 2}}));\n",
      "diagrams.push_back(Diagram(bprops[1],bsinks[1],std::vector<std::vector<int>>{{3, 0}, {2, 1}, {1, 2}, {0, 3}}));\n",
      "diagrams.push_back(Diagram(bprops[1],bsinks[1],std::vector<std::vector<int>>{{3, 1}, {2, 0}, {1, 2}, {0, 3}}));\n",
      "diagrams.push_back(Diagram(bprops[1],bsinks[1],std::vector<std::vector<int>>{{3, 1}, {2, 2}, {1, 0}, {0, 3}}));\n",
      "diagrams.push_back(Diagram(bprops[1],bsinks[1],std::vector<std::vector<int>>{{3, 0}, {2, 2}, {1, 1}, {0, 3}}));\n",
      "diagrams.push_back(Diagram(bprops[1],bsinks[1],std::vector<std::vector<int>>{{3, 2}, {2, 0}, {1, 1}, {0, 3}}));\n",
      "diagrams.push_back(Diagram(bprops[1],bsinks[1],std::vector<std::vector<int>>{{3, 2}, {2, 1}, {1, 0}, {0, 3}}));\n",
      "diagrams.push_back(Diagram(bprops[1],bsinks[2],std::vector<std::vector<int>>{{3, 3}, {2, 2}, {1, 1}, {0, 0}}));\n",
      "diagrams.push_back(Diagram(bprops[1],bsinks[2],std::vector<std::vector<int>>{{3, 3}, {2, 2}, {1, 0}, {0, 1}}));\n",
      "diagrams.push_back(Diagram(bprops[1],bsinks[2],std::vector<std::vector<int>>{{3, 3}, {2, 0}, {1, 2}, {0, 1}}));\n",
      "diagrams.push_back(Diagram(bprops[1],bsinks[2],std::vector<std::vector<int>>{{3, 3}, {2, 1}, {1, 2}, {0, 0}}));\n",
      "diagrams.push_back(Diagram(bprops[1],bsinks[2],std::vector<std::vector<int>>{{3, 3}, {2, 1}, {1, 0}, {0, 2}}));\n",
      "diagrams.push_back(Diagram(bprops[1],bsinks[2],std::vector<std::vector<int>>{{3, 3}, {2, 0}, {1, 1}, {0, 2}}));\n",
      "diagrams.push_back(Diagram(bprops[1],bsinks[2],std::vector<std::vector<int>>{{3, 0}, {2, 3}, {1, 1}, {0, 2}}));\n",
      "diagrams.push_back(Diagram(bprops[1],bsinks[2],std::vector<std::vector<int>>{{3, 1}, {2, 3}, {1, 0}, {0, 2}}));\n",
      "diagrams.push_back(Diagram(bprops[1],bsinks[2],std::vector<std::vector<int>>{{3, 1}, {2, 3}, {1, 2}, {0, 0}}));\n",
      "diagrams.push_back(Diagram(bprops[1],bsinks[2],std::vector<std::vector<int>>{{3, 0}, {2, 3}, {1, 2}, {0, 1}}));\n",
      "diagrams.push_back(Diagram(bprops[1],bsinks[2],std::vector<std::vector<int>>{{3, 2}, {2, 3}, {1, 0}, {0, 1}}));\n",
      "diagrams.push_back(Diagram(bprops[1],bsinks[2],std::vector<std::vector<int>>{{3, 2}, {2, 3}, {1, 1}, {0, 0}}));\n",
      "diagrams.push_back(Diagram(bprops[1],bsinks[2],std::vector<std::vector<int>>{{3, 2}, {2, 1}, {1, 3}, {0, 0}}));\n",
      "diagrams.push_back(Diagram(bprops[1],bsinks[2],std::vector<std::vector<int>>{{3, 2}, {2, 0}, {1, 3}, {0, 1}}));\n",
      "diagrams.push_back(Diagram(bprops[1],bsinks[2],std::vector<std::vector<int>>{{3, 0}, {2, 2}, {1, 3}, {0, 1}}));\n",
      "diagrams.push_back(Diagram(bprops[1],bsinks[2],std::vector<std::vector<int>>{{3, 1}, {2, 2}, {1, 3}, {0, 0}}));\n",
      "diagrams.push_back(Diagram(bprops[1],bsinks[2],std::vector<std::vector<int>>{{3, 1}, {2, 0}, {1, 3}, {0, 2}}));\n",
      "diagrams.push_back(Diagram(bprops[1],bsinks[2],std::vector<std::vector<int>>{{3, 0}, {2, 1}, {1, 3}, {0, 2}}));\n",
      "diagrams.push_back(Diagram(bprops[1],bsinks[2],std::vector<std::vector<int>>{{3, 0}, {2, 1}, {1, 2}, {0, 3}}));\n",
      "diagrams.push_back(Diagram(bprops[1],bsinks[2],std::vector<std::vector<int>>{{3, 1}, {2, 0}, {1, 2}, {0, 3}}));\n",
      "diagrams.push_back(Diagram(bprops[1],bsinks[2],std::vector<std::vector<int>>{{3, 1}, {2, 2}, {1, 0}, {0, 3}}));\n",
      "diagrams.push_back(Diagram(bprops[1],bsinks[2],std::vector<std::vector<int>>{{3, 0}, {2, 2}, {1, 1}, {0, 3}}));\n",
      "diagrams.push_back(Diagram(bprops[1],bsinks[2],std::vector<std::vector<int>>{{3, 2}, {2, 0}, {1, 1}, {0, 3}}));\n",
      "diagrams.push_back(Diagram(bprops[1],bsinks[2],std::vector<std::vector<int>>{{3, 2}, {2, 1}, {1, 0}, {0, 3}}));\n",
      "diagrams.push_back(Diagram(bprops[1],bsinks[3],std::vector<std::vector<int>>{{3, 3}, {2, 2}, {1, 1}, {0, 0}}));\n",
      "diagrams.push_back(Diagram(bprops[1],bsinks[3],std::vector<std::vector<int>>{{3, 3}, {2, 2}, {1, 0}, {0, 1}}));\n",
      "diagrams.push_back(Diagram(bprops[1],bsinks[3],std::vector<std::vector<int>>{{3, 3}, {2, 0}, {1, 2}, {0, 1}}));\n",
      "diagrams.push_back(Diagram(bprops[1],bsinks[3],std::vector<std::vector<int>>{{3, 3}, {2, 1}, {1, 2}, {0, 0}}));\n",
      "diagrams.push_back(Diagram(bprops[1],bsinks[3],std::vector<std::vector<int>>{{3, 3}, {2, 1}, {1, 0}, {0, 2}}));\n",
      "diagrams.push_back(Diagram(bprops[1],bsinks[3],std::vector<std::vector<int>>{{3, 3}, {2, 0}, {1, 1}, {0, 2}}));\n",
      "diagrams.push_back(Diagram(bprops[1],bsinks[3],std::vector<std::vector<int>>{{3, 0}, {2, 3}, {1, 1}, {0, 2}}));\n",
      "diagrams.push_back(Diagram(bprops[1],bsinks[3],std::vector<std::vector<int>>{{3, 1}, {2, 3}, {1, 0}, {0, 2}}));\n",
      "diagrams.push_back(Diagram(bprops[1],bsinks[3],std::vector<std::vector<int>>{{3, 1}, {2, 3}, {1, 2}, {0, 0}}));\n",
      "diagrams.push_back(Diagram(bprops[1],bsinks[3],std::vector<std::vector<int>>{{3, 0}, {2, 3}, {1, 2}, {0, 1}}));\n",
      "diagrams.push_back(Diagram(bprops[1],bsinks[3],std::vector<std::vector<int>>{{3, 2}, {2, 3}, {1, 0}, {0, 1}}));\n",
      "diagrams.push_back(Diagram(bprops[1],bsinks[3],std::vector<std::vector<int>>{{3, 2}, {2, 3}, {1, 1}, {0, 0}}));\n",
      "diagrams.push_back(Diagram(bprops[1],bsinks[3],std::vector<std::vector<int>>{{3, 2}, {2, 1}, {1, 3}, {0, 0}}));\n",
      "diagrams.push_back(Diagram(bprops[1],bsinks[3],std::vector<std::vector<int>>{{3, 2}, {2, 0}, {1, 3}, {0, 1}}));\n",
      "diagrams.push_back(Diagram(bprops[1],bsinks[3],std::vector<std::vector<int>>{{3, 0}, {2, 2}, {1, 3}, {0, 1}}));\n",
      "diagrams.push_back(Diagram(bprops[1],bsinks[3],std::vector<std::vector<int>>{{3, 1}, {2, 2}, {1, 3}, {0, 0}}));\n",
      "diagrams.push_back(Diagram(bprops[1],bsinks[3],std::vector<std::vector<int>>{{3, 1}, {2, 0}, {1, 3}, {0, 2}}));\n",
      "diagrams.push_back(Diagram(bprops[1],bsinks[3],std::vector<std::vector<int>>{{3, 0}, {2, 1}, {1, 3}, {0, 2}}));\n",
      "diagrams.push_back(Diagram(bprops[1],bsinks[3],std::vector<std::vector<int>>{{3, 0}, {2, 1}, {1, 2}, {0, 3}}));\n",
      "diagrams.push_back(Diagram(bprops[1],bsinks[3],std::vector<std::vector<int>>{{3, 1}, {2, 0}, {1, 2}, {0, 3}}));\n",
      "diagrams.push_back(Diagram(bprops[1],bsinks[3],std::vector<std::vector<int>>{{3, 1}, {2, 2}, {1, 0}, {0, 3}}));\n",
      "diagrams.push_back(Diagram(bprops[1],bsinks[3],std::vector<std::vector<int>>{{3, 0}, {2, 2}, {1, 1}, {0, 3}}));\n",
      "diagrams.push_back(Diagram(bprops[1],bsinks[3],std::vector<std::vector<int>>{{3, 2}, {2, 0}, {1, 1}, {0, 3}}));\n",
      "diagrams.push_back(Diagram(bprops[1],bsinks[3],std::vector<std::vector<int>>{{3, 2}, {2, 1}, {1, 0}, {0, 3}}));\n",
      "diagrams.push_back(Diagram(bprops[1],bsinks[4],std::vector<std::vector<int>>{{3, 3}, {2, 2}, {1, 1}, {0, 0}}));\n",
      "diagrams.push_back(Diagram(bprops[1],bsinks[4],std::vector<std::vector<int>>{{3, 3}, {2, 2}, {1, 0}, {0, 1}}));\n",
      "diagrams.push_back(Diagram(bprops[1],bsinks[4],std::vector<std::vector<int>>{{3, 3}, {2, 0}, {1, 2}, {0, 1}}));\n",
      "diagrams.push_back(Diagram(bprops[1],bsinks[4],std::vector<std::vector<int>>{{3, 3}, {2, 1}, {1, 2}, {0, 0}}));\n",
      "diagrams.push_back(Diagram(bprops[1],bsinks[4],std::vector<std::vector<int>>{{3, 3}, {2, 1}, {1, 0}, {0, 2}}));\n",
      "diagrams.push_back(Diagram(bprops[1],bsinks[4],std::vector<std::vector<int>>{{3, 3}, {2, 0}, {1, 1}, {0, 2}}));\n",
      "diagrams.push_back(Diagram(bprops[1],bsinks[4],std::vector<std::vector<int>>{{3, 0}, {2, 3}, {1, 1}, {0, 2}}));\n",
      "diagrams.push_back(Diagram(bprops[1],bsinks[4],std::vector<std::vector<int>>{{3, 1}, {2, 3}, {1, 0}, {0, 2}}));\n",
      "diagrams.push_back(Diagram(bprops[1],bsinks[4],std::vector<std::vector<int>>{{3, 1}, {2, 3}, {1, 2}, {0, 0}}));\n",
      "diagrams.push_back(Diagram(bprops[1],bsinks[4],std::vector<std::vector<int>>{{3, 0}, {2, 3}, {1, 2}, {0, 1}}));\n",
      "diagrams.push_back(Diagram(bprops[1],bsinks[4],std::vector<std::vector<int>>{{3, 2}, {2, 3}, {1, 0}, {0, 1}}));\n",
      "diagrams.push_back(Diagram(bprops[1],bsinks[4],std::vector<std::vector<int>>{{3, 2}, {2, 3}, {1, 1}, {0, 0}}));\n",
      "diagrams.push_back(Diagram(bprops[1],bsinks[4],std::vector<std::vector<int>>{{3, 2}, {2, 1}, {1, 3}, {0, 0}}));\n",
      "diagrams.push_back(Diagram(bprops[1],bsinks[4],std::vector<std::vector<int>>{{3, 2}, {2, 0}, {1, 3}, {0, 1}}));\n",
      "diagrams.push_back(Diagram(bprops[1],bsinks[4],std::vector<std::vector<int>>{{3, 0}, {2, 2}, {1, 3}, {0, 1}}));\n",
      "diagrams.push_back(Diagram(bprops[1],bsinks[4],std::vector<std::vector<int>>{{3, 1}, {2, 2}, {1, 3}, {0, 0}}));\n",
      "diagrams.push_back(Diagram(bprops[1],bsinks[4],std::vector<std::vector<int>>{{3, 1}, {2, 0}, {1, 3}, {0, 2}}));\n",
      "diagrams.push_back(Diagram(bprops[1],bsinks[4],std::vector<std::vector<int>>{{3, 0}, {2, 1}, {1, 3}, {0, 2}}));\n",
      "diagrams.push_back(Diagram(bprops[1],bsinks[4],std::vector<std::vector<int>>{{3, 0}, {2, 1}, {1, 2}, {0, 3}}));\n",
      "diagrams.push_back(Diagram(bprops[1],bsinks[4],std::vector<std::vector<int>>{{3, 1}, {2, 0}, {1, 2}, {0, 3}}));\n",
      "diagrams.push_back(Diagram(bprops[1],bsinks[4],std::vector<std::vector<int>>{{3, 1}, {2, 2}, {1, 0}, {0, 3}}));\n",
      "diagrams.push_back(Diagram(bprops[1],bsinks[4],std::vector<std::vector<int>>{{3, 0}, {2, 2}, {1, 1}, {0, 3}}));\n",
      "diagrams.push_back(Diagram(bprops[1],bsinks[4],std::vector<std::vector<int>>{{3, 2}, {2, 0}, {1, 1}, {0, 3}}));\n",
      "diagrams.push_back(Diagram(bprops[1],bsinks[4],std::vector<std::vector<int>>{{3, 2}, {2, 1}, {1, 0}, {0, 3}}));\n",
      "diagrams.push_back(Diagram(bprops[1],bsinks[5],std::vector<std::vector<int>>{{3, 3}, {2, 2}, {1, 1}, {0, 0}}));\n",
      "diagrams.push_back(Diagram(bprops[1],bsinks[5],std::vector<std::vector<int>>{{3, 3}, {2, 2}, {1, 0}, {0, 1}}));\n",
      "diagrams.push_back(Diagram(bprops[1],bsinks[5],std::vector<std::vector<int>>{{3, 3}, {2, 0}, {1, 2}, {0, 1}}));\n",
      "diagrams.push_back(Diagram(bprops[1],bsinks[5],std::vector<std::vector<int>>{{3, 3}, {2, 1}, {1, 2}, {0, 0}}));\n",
      "diagrams.push_back(Diagram(bprops[1],bsinks[5],std::vector<std::vector<int>>{{3, 3}, {2, 1}, {1, 0}, {0, 2}}));\n",
      "diagrams.push_back(Diagram(bprops[1],bsinks[5],std::vector<std::vector<int>>{{3, 3}, {2, 0}, {1, 1}, {0, 2}}));\n",
      "diagrams.push_back(Diagram(bprops[1],bsinks[5],std::vector<std::vector<int>>{{3, 0}, {2, 3}, {1, 1}, {0, 2}}));\n",
      "diagrams.push_back(Diagram(bprops[1],bsinks[5],std::vector<std::vector<int>>{{3, 1}, {2, 3}, {1, 0}, {0, 2}}));\n",
      "diagrams.push_back(Diagram(bprops[1],bsinks[5],std::vector<std::vector<int>>{{3, 1}, {2, 3}, {1, 2}, {0, 0}}));\n",
      "diagrams.push_back(Diagram(bprops[1],bsinks[5],std::vector<std::vector<int>>{{3, 0}, {2, 3}, {1, 2}, {0, 1}}));\n",
      "diagrams.push_back(Diagram(bprops[1],bsinks[5],std::vector<std::vector<int>>{{3, 2}, {2, 3}, {1, 0}, {0, 1}}));\n",
      "diagrams.push_back(Diagram(bprops[1],bsinks[5],std::vector<std::vector<int>>{{3, 2}, {2, 3}, {1, 1}, {0, 0}}));\n",
      "diagrams.push_back(Diagram(bprops[1],bsinks[5],std::vector<std::vector<int>>{{3, 2}, {2, 1}, {1, 3}, {0, 0}}));\n",
      "diagrams.push_back(Diagram(bprops[1],bsinks[5],std::vector<std::vector<int>>{{3, 2}, {2, 0}, {1, 3}, {0, 1}}));\n",
      "diagrams.push_back(Diagram(bprops[1],bsinks[5],std::vector<std::vector<int>>{{3, 0}, {2, 2}, {1, 3}, {0, 1}}));\n",
      "diagrams.push_back(Diagram(bprops[1],bsinks[5],std::vector<std::vector<int>>{{3, 1}, {2, 2}, {1, 3}, {0, 0}}));\n",
      "diagrams.push_back(Diagram(bprops[1],bsinks[5],std::vector<std::vector<int>>{{3, 1}, {2, 0}, {1, 3}, {0, 2}}));\n",
      "diagrams.push_back(Diagram(bprops[1],bsinks[5],std::vector<std::vector<int>>{{3, 0}, {2, 1}, {1, 3}, {0, 2}}));\n",
      "diagrams.push_back(Diagram(bprops[1],bsinks[5],std::vector<std::vector<int>>{{3, 0}, {2, 1}, {1, 2}, {0, 3}}));\n",
      "diagrams.push_back(Diagram(bprops[1],bsinks[5],std::vector<std::vector<int>>{{3, 1}, {2, 0}, {1, 2}, {0, 3}}));\n",
      "diagrams.push_back(Diagram(bprops[1],bsinks[5],std::vector<std::vector<int>>{{3, 1}, {2, 2}, {1, 0}, {0, 3}}));\n",
      "diagrams.push_back(Diagram(bprops[1],bsinks[5],std::vector<std::vector<int>>{{3, 0}, {2, 2}, {1, 1}, {0, 3}}));\n",
      "diagrams.push_back(Diagram(bprops[1],bsinks[5],std::vector<std::vector<int>>{{3, 2}, {2, 0}, {1, 1}, {0, 3}}));\n",
      "diagrams.push_back(Diagram(bprops[1],bsinks[5],std::vector<std::vector<int>>{{3, 2}, {2, 1}, {1, 0}, {0, 3}}));\n",
      "diagrams.push_back(Diagram(bprops[1],bsinks[6],std::vector<std::vector<int>>{{3, 3}, {2, 2}, {1, 1}, {0, 0}}));\n",
      "diagrams.push_back(Diagram(bprops[1],bsinks[6],std::vector<std::vector<int>>{{3, 3}, {2, 2}, {1, 0}, {0, 1}}));\n",
      "diagrams.push_back(Diagram(bprops[1],bsinks[6],std::vector<std::vector<int>>{{3, 3}, {2, 0}, {1, 2}, {0, 1}}));\n",
      "diagrams.push_back(Diagram(bprops[1],bsinks[6],std::vector<std::vector<int>>{{3, 3}, {2, 1}, {1, 2}, {0, 0}}));\n",
      "diagrams.push_back(Diagram(bprops[1],bsinks[6],std::vector<std::vector<int>>{{3, 3}, {2, 1}, {1, 0}, {0, 2}}));\n",
      "diagrams.push_back(Diagram(bprops[1],bsinks[6],std::vector<std::vector<int>>{{3, 3}, {2, 0}, {1, 1}, {0, 2}}));\n",
      "diagrams.push_back(Diagram(bprops[1],bsinks[6],std::vector<std::vector<int>>{{3, 0}, {2, 3}, {1, 1}, {0, 2}}));\n",
      "diagrams.push_back(Diagram(bprops[1],bsinks[6],std::vector<std::vector<int>>{{3, 1}, {2, 3}, {1, 0}, {0, 2}}));\n",
      "diagrams.push_back(Diagram(bprops[1],bsinks[6],std::vector<std::vector<int>>{{3, 1}, {2, 3}, {1, 2}, {0, 0}}));\n",
      "diagrams.push_back(Diagram(bprops[1],bsinks[6],std::vector<std::vector<int>>{{3, 0}, {2, 3}, {1, 2}, {0, 1}}));\n",
      "diagrams.push_back(Diagram(bprops[1],bsinks[6],std::vector<std::vector<int>>{{3, 2}, {2, 3}, {1, 0}, {0, 1}}));\n",
      "diagrams.push_back(Diagram(bprops[1],bsinks[6],std::vector<std::vector<int>>{{3, 2}, {2, 3}, {1, 1}, {0, 0}}));\n",
      "diagrams.push_back(Diagram(bprops[1],bsinks[6],std::vector<std::vector<int>>{{3, 2}, {2, 1}, {1, 3}, {0, 0}}));\n",
      "diagrams.push_back(Diagram(bprops[1],bsinks[6],std::vector<std::vector<int>>{{3, 2}, {2, 0}, {1, 3}, {0, 1}}));\n",
      "diagrams.push_back(Diagram(bprops[1],bsinks[6],std::vector<std::vector<int>>{{3, 0}, {2, 2}, {1, 3}, {0, 1}}));\n",
      "diagrams.push_back(Diagram(bprops[1],bsinks[6],std::vector<std::vector<int>>{{3, 1}, {2, 2}, {1, 3}, {0, 0}}));\n",
      "diagrams.push_back(Diagram(bprops[1],bsinks[6],std::vector<std::vector<int>>{{3, 1}, {2, 0}, {1, 3}, {0, 2}}));\n",
      "diagrams.push_back(Diagram(bprops[1],bsinks[6],std::vector<std::vector<int>>{{3, 0}, {2, 1}, {1, 3}, {0, 2}}));\n",
      "diagrams.push_back(Diagram(bprops[1],bsinks[6],std::vector<std::vector<int>>{{3, 0}, {2, 1}, {1, 2}, {0, 3}}));\n",
      "diagrams.push_back(Diagram(bprops[1],bsinks[6],std::vector<std::vector<int>>{{3, 1}, {2, 0}, {1, 2}, {0, 3}}));\n",
      "diagrams.push_back(Diagram(bprops[1],bsinks[6],std::vector<std::vector<int>>{{3, 1}, {2, 2}, {1, 0}, {0, 3}}));\n",
      "diagrams.push_back(Diagram(bprops[1],bsinks[6],std::vector<std::vector<int>>{{3, 0}, {2, 2}, {1, 1}, {0, 3}}));\n",
      "diagrams.push_back(Diagram(bprops[1],bsinks[6],std::vector<std::vector<int>>{{3, 2}, {2, 0}, {1, 1}, {0, 3}}));\n",
      "diagrams.push_back(Diagram(bprops[1],bsinks[6],std::vector<std::vector<int>>{{3, 2}, {2, 1}, {1, 0}, {0, 3}}));\n",
      "diagrams.push_back(Diagram(bprops[1],bsinks[7],std::vector<std::vector<int>>{{3, 3}, {2, 2}, {1, 1}, {0, 0}}));\n",
      "diagrams.push_back(Diagram(bprops[1],bsinks[7],std::vector<std::vector<int>>{{3, 3}, {2, 2}, {1, 0}, {0, 1}}));\n",
      "diagrams.push_back(Diagram(bprops[1],bsinks[7],std::vector<std::vector<int>>{{3, 3}, {2, 0}, {1, 2}, {0, 1}}));\n",
      "diagrams.push_back(Diagram(bprops[1],bsinks[7],std::vector<std::vector<int>>{{3, 3}, {2, 1}, {1, 2}, {0, 0}}));\n",
      "diagrams.push_back(Diagram(bprops[1],bsinks[7],std::vector<std::vector<int>>{{3, 3}, {2, 1}, {1, 0}, {0, 2}}));\n",
      "diagrams.push_back(Diagram(bprops[1],bsinks[7],std::vector<std::vector<int>>{{3, 3}, {2, 0}, {1, 1}, {0, 2}}));\n",
      "diagrams.push_back(Diagram(bprops[1],bsinks[7],std::vector<std::vector<int>>{{3, 0}, {2, 3}, {1, 1}, {0, 2}}));\n",
      "diagrams.push_back(Diagram(bprops[1],bsinks[7],std::vector<std::vector<int>>{{3, 1}, {2, 3}, {1, 0}, {0, 2}}));\n",
      "diagrams.push_back(Diagram(bprops[1],bsinks[7],std::vector<std::vector<int>>{{3, 1}, {2, 3}, {1, 2}, {0, 0}}));\n",
      "diagrams.push_back(Diagram(bprops[1],bsinks[7],std::vector<std::vector<int>>{{3, 0}, {2, 3}, {1, 2}, {0, 1}}));\n",
      "diagrams.push_back(Diagram(bprops[1],bsinks[7],std::vector<std::vector<int>>{{3, 2}, {2, 3}, {1, 0}, {0, 1}}));\n",
      "diagrams.push_back(Diagram(bprops[1],bsinks[7],std::vector<std::vector<int>>{{3, 2}, {2, 3}, {1, 1}, {0, 0}}));\n",
      "diagrams.push_back(Diagram(bprops[1],bsinks[7],std::vector<std::vector<int>>{{3, 2}, {2, 1}, {1, 3}, {0, 0}}));\n",
      "diagrams.push_back(Diagram(bprops[1],bsinks[7],std::vector<std::vector<int>>{{3, 2}, {2, 0}, {1, 3}, {0, 1}}));\n",
      "diagrams.push_back(Diagram(bprops[1],bsinks[7],std::vector<std::vector<int>>{{3, 0}, {2, 2}, {1, 3}, {0, 1}}));\n",
      "diagrams.push_back(Diagram(bprops[1],bsinks[7],std::vector<std::vector<int>>{{3, 1}, {2, 2}, {1, 3}, {0, 0}}));\n",
      "diagrams.push_back(Diagram(bprops[1],bsinks[7],std::vector<std::vector<int>>{{3, 1}, {2, 0}, {1, 3}, {0, 2}}));\n",
      "diagrams.push_back(Diagram(bprops[1],bsinks[7],std::vector<std::vector<int>>{{3, 0}, {2, 1}, {1, 3}, {0, 2}}));\n",
      "diagrams.push_back(Diagram(bprops[1],bsinks[7],std::vector<std::vector<int>>{{3, 0}, {2, 1}, {1, 2}, {0, 3}}));\n",
      "diagrams.push_back(Diagram(bprops[1],bsinks[7],std::vector<std::vector<int>>{{3, 1}, {2, 0}, {1, 2}, {0, 3}}));\n",
      "diagrams.push_back(Diagram(bprops[1],bsinks[7],std::vector<std::vector<int>>{{3, 1}, {2, 2}, {1, 0}, {0, 3}}));\n",
      "diagrams.push_back(Diagram(bprops[1],bsinks[7],std::vector<std::vector<int>>{{3, 0}, {2, 2}, {1, 1}, {0, 3}}));\n",
      "diagrams.push_back(Diagram(bprops[1],bsinks[7],std::vector<std::vector<int>>{{3, 2}, {2, 0}, {1, 1}, {0, 3}}));\n",
      "diagrams.push_back(Diagram(bprops[1],bsinks[7],std::vector<std::vector<int>>{{3, 2}, {2, 1}, {1, 0}, {0, 3}}));\n",
      "diagrams.push_back(Diagram(bprops[2],bsinks[0],std::vector<std::vector<int>>{{3, 3}, {2, 2}, {1, 1}, {0, 0}}));\n",
      "diagrams.push_back(Diagram(bprops[2],bsinks[0],std::vector<std::vector<int>>{{3, 3}, {2, 2}, {1, 0}, {0, 1}}));\n",
      "diagrams.push_back(Diagram(bprops[2],bsinks[0],std::vector<std::vector<int>>{{3, 3}, {2, 0}, {1, 2}, {0, 1}}));\n",
      "diagrams.push_back(Diagram(bprops[2],bsinks[0],std::vector<std::vector<int>>{{3, 3}, {2, 1}, {1, 2}, {0, 0}}));\n",
      "diagrams.push_back(Diagram(bprops[2],bsinks[0],std::vector<std::vector<int>>{{3, 3}, {2, 1}, {1, 0}, {0, 2}}));\n",
      "diagrams.push_back(Diagram(bprops[2],bsinks[0],std::vector<std::vector<int>>{{3, 3}, {2, 0}, {1, 1}, {0, 2}}));\n",
      "diagrams.push_back(Diagram(bprops[2],bsinks[0],std::vector<std::vector<int>>{{3, 0}, {2, 3}, {1, 1}, {0, 2}}));\n",
      "diagrams.push_back(Diagram(bprops[2],bsinks[0],std::vector<std::vector<int>>{{3, 1}, {2, 3}, {1, 0}, {0, 2}}));\n",
      "diagrams.push_back(Diagram(bprops[2],bsinks[0],std::vector<std::vector<int>>{{3, 1}, {2, 3}, {1, 2}, {0, 0}}));\n",
      "diagrams.push_back(Diagram(bprops[2],bsinks[0],std::vector<std::vector<int>>{{3, 0}, {2, 3}, {1, 2}, {0, 1}}));\n",
      "diagrams.push_back(Diagram(bprops[2],bsinks[0],std::vector<std::vector<int>>{{3, 2}, {2, 3}, {1, 0}, {0, 1}}));\n",
      "diagrams.push_back(Diagram(bprops[2],bsinks[0],std::vector<std::vector<int>>{{3, 2}, {2, 3}, {1, 1}, {0, 0}}));\n",
      "diagrams.push_back(Diagram(bprops[2],bsinks[0],std::vector<std::vector<int>>{{3, 2}, {2, 1}, {1, 3}, {0, 0}}));\n",
      "diagrams.push_back(Diagram(bprops[2],bsinks[0],std::vector<std::vector<int>>{{3, 2}, {2, 0}, {1, 3}, {0, 1}}));\n",
      "diagrams.push_back(Diagram(bprops[2],bsinks[0],std::vector<std::vector<int>>{{3, 0}, {2, 2}, {1, 3}, {0, 1}}));\n",
      "diagrams.push_back(Diagram(bprops[2],bsinks[0],std::vector<std::vector<int>>{{3, 1}, {2, 2}, {1, 3}, {0, 0}}));\n",
      "diagrams.push_back(Diagram(bprops[2],bsinks[0],std::vector<std::vector<int>>{{3, 1}, {2, 0}, {1, 3}, {0, 2}}));\n",
      "diagrams.push_back(Diagram(bprops[2],bsinks[0],std::vector<std::vector<int>>{{3, 0}, {2, 1}, {1, 3}, {0, 2}}));\n",
      "diagrams.push_back(Diagram(bprops[2],bsinks[0],std::vector<std::vector<int>>{{3, 0}, {2, 1}, {1, 2}, {0, 3}}));\n",
      "diagrams.push_back(Diagram(bprops[2],bsinks[0],std::vector<std::vector<int>>{{3, 1}, {2, 0}, {1, 2}, {0, 3}}));\n",
      "diagrams.push_back(Diagram(bprops[2],bsinks[0],std::vector<std::vector<int>>{{3, 1}, {2, 2}, {1, 0}, {0, 3}}));\n",
      "diagrams.push_back(Diagram(bprops[2],bsinks[0],std::vector<std::vector<int>>{{3, 0}, {2, 2}, {1, 1}, {0, 3}}));\n",
      "diagrams.push_back(Diagram(bprops[2],bsinks[0],std::vector<std::vector<int>>{{3, 2}, {2, 0}, {1, 1}, {0, 3}}));\n",
      "diagrams.push_back(Diagram(bprops[2],bsinks[0],std::vector<std::vector<int>>{{3, 2}, {2, 1}, {1, 0}, {0, 3}}));\n",
      "diagrams.push_back(Diagram(bsinks[1],bprops[2],std::vector<std::vector<int>>{{3, 3}, {2, 2}, {1, 1}, {0, 0}}));\n",
      "diagrams.push_back(Diagram(bsinks[1],bprops[2],std::vector<std::vector<int>>{{3, 3}, {2, 2}, {1, 0}, {0, 1}}));\n",
      "diagrams.push_back(Diagram(bsinks[1],bprops[2],std::vector<std::vector<int>>{{3, 3}, {2, 1}, {1, 0}, {0, 2}}));\n",
      "diagrams.push_back(Diagram(bsinks[1],bprops[2],std::vector<std::vector<int>>{{3, 3}, {2, 1}, {1, 2}, {0, 0}}));\n",
      "diagrams.push_back(Diagram(bsinks[1],bprops[2],std::vector<std::vector<int>>{{3, 3}, {2, 0}, {1, 2}, {0, 1}}));\n",
      "diagrams.push_back(Diagram(bsinks[1],bprops[2],std::vector<std::vector<int>>{{3, 3}, {2, 0}, {1, 1}, {0, 2}}));\n",
      "diagrams.push_back(Diagram(bsinks[1],bprops[2],std::vector<std::vector<int>>{{3, 2}, {2, 0}, {1, 1}, {0, 3}}));\n",
      "diagrams.push_back(Diagram(bsinks[1],bprops[2],std::vector<std::vector<int>>{{3, 2}, {2, 0}, {1, 3}, {0, 1}}));\n",
      "diagrams.push_back(Diagram(bsinks[1],bprops[2],std::vector<std::vector<int>>{{3, 2}, {2, 1}, {1, 3}, {0, 0}}));\n",
      "diagrams.push_back(Diagram(bsinks[1],bprops[2],std::vector<std::vector<int>>{{3, 2}, {2, 1}, {1, 0}, {0, 3}}));\n",
      "diagrams.push_back(Diagram(bsinks[1],bprops[2],std::vector<std::vector<int>>{{3, 2}, {2, 3}, {1, 0}, {0, 1}}));\n",
      "diagrams.push_back(Diagram(bsinks[1],bprops[2],std::vector<std::vector<int>>{{3, 2}, {2, 3}, {1, 1}, {0, 0}}));\n",
      "diagrams.push_back(Diagram(bsinks[1],bprops[2],std::vector<std::vector<int>>{{3, 1}, {2, 3}, {1, 2}, {0, 0}}));\n",
      "diagrams.push_back(Diagram(bsinks[1],bprops[2],std::vector<std::vector<int>>{{3, 1}, {2, 3}, {1, 0}, {0, 2}}));\n",
      "diagrams.push_back(Diagram(bsinks[1],bprops[2],std::vector<std::vector<int>>{{3, 1}, {2, 2}, {1, 0}, {0, 3}}));\n",
      "diagrams.push_back(Diagram(bsinks[1],bprops[2],std::vector<std::vector<int>>{{3, 1}, {2, 2}, {1, 3}, {0, 0}}));\n",
      "diagrams.push_back(Diagram(bsinks[1],bprops[2],std::vector<std::vector<int>>{{3, 1}, {2, 0}, {1, 3}, {0, 2}}));\n",
      "diagrams.push_back(Diagram(bsinks[1],bprops[2],std::vector<std::vector<int>>{{3, 1}, {2, 0}, {1, 2}, {0, 3}}));\n",
      "diagrams.push_back(Diagram(bsinks[1],bprops[2],std::vector<std::vector<int>>{{3, 0}, {2, 1}, {1, 2}, {0, 3}}));\n",
      "diagrams.push_back(Diagram(bsinks[1],bprops[2],std::vector<std::vector<int>>{{3, 0}, {2, 1}, {1, 3}, {0, 2}}));\n",
      "diagrams.push_back(Diagram(bsinks[1],bprops[2],std::vector<std::vector<int>>{{3, 0}, {2, 2}, {1, 3}, {0, 1}}));\n",
      "diagrams.push_back(Diagram(bsinks[1],bprops[2],std::vector<std::vector<int>>{{3, 0}, {2, 2}, {1, 1}, {0, 3}}));\n",
      "diagrams.push_back(Diagram(bsinks[1],bprops[2],std::vector<std::vector<int>>{{3, 0}, {2, 3}, {1, 1}, {0, 2}}));\n",
      "diagrams.push_back(Diagram(bsinks[1],bprops[2],std::vector<std::vector<int>>{{3, 0}, {2, 3}, {1, 2}, {0, 1}}));\n",
      "diagrams.push_back(Diagram(bprops[2],bsinks[2],std::vector<std::vector<int>>{{3, 3}, {2, 2}, {1, 1}, {0, 0}}));\n",
      "diagrams.push_back(Diagram(bprops[2],bsinks[2],std::vector<std::vector<int>>{{3, 3}, {2, 2}, {1, 0}, {0, 1}}));\n",
      "diagrams.push_back(Diagram(bprops[2],bsinks[2],std::vector<std::vector<int>>{{3, 3}, {2, 0}, {1, 2}, {0, 1}}));\n",
      "diagrams.push_back(Diagram(bprops[2],bsinks[2],std::vector<std::vector<int>>{{3, 3}, {2, 1}, {1, 2}, {0, 0}}));\n",
      "diagrams.push_back(Diagram(bprops[2],bsinks[2],std::vector<std::vector<int>>{{3, 3}, {2, 1}, {1, 0}, {0, 2}}));\n",
      "diagrams.push_back(Diagram(bprops[2],bsinks[2],std::vector<std::vector<int>>{{3, 3}, {2, 0}, {1, 1}, {0, 2}}));\n",
      "diagrams.push_back(Diagram(bprops[2],bsinks[2],std::vector<std::vector<int>>{{3, 0}, {2, 3}, {1, 1}, {0, 2}}));\n",
      "diagrams.push_back(Diagram(bprops[2],bsinks[2],std::vector<std::vector<int>>{{3, 1}, {2, 3}, {1, 0}, {0, 2}}));\n",
      "diagrams.push_back(Diagram(bprops[2],bsinks[2],std::vector<std::vector<int>>{{3, 1}, {2, 3}, {1, 2}, {0, 0}}));\n",
      "diagrams.push_back(Diagram(bprops[2],bsinks[2],std::vector<std::vector<int>>{{3, 0}, {2, 3}, {1, 2}, {0, 1}}));\n",
      "diagrams.push_back(Diagram(bprops[2],bsinks[2],std::vector<std::vector<int>>{{3, 2}, {2, 3}, {1, 0}, {0, 1}}));\n",
      "diagrams.push_back(Diagram(bprops[2],bsinks[2],std::vector<std::vector<int>>{{3, 2}, {2, 3}, {1, 1}, {0, 0}}));\n",
      "diagrams.push_back(Diagram(bprops[2],bsinks[2],std::vector<std::vector<int>>{{3, 2}, {2, 1}, {1, 3}, {0, 0}}));\n",
      "diagrams.push_back(Diagram(bprops[2],bsinks[2],std::vector<std::vector<int>>{{3, 2}, {2, 0}, {1, 3}, {0, 1}}));\n",
      "diagrams.push_back(Diagram(bprops[2],bsinks[2],std::vector<std::vector<int>>{{3, 0}, {2, 2}, {1, 3}, {0, 1}}));\n",
      "diagrams.push_back(Diagram(bprops[2],bsinks[2],std::vector<std::vector<int>>{{3, 1}, {2, 2}, {1, 3}, {0, 0}}));\n",
      "diagrams.push_back(Diagram(bprops[2],bsinks[2],std::vector<std::vector<int>>{{3, 1}, {2, 0}, {1, 3}, {0, 2}}));\n",
      "diagrams.push_back(Diagram(bprops[2],bsinks[2],std::vector<std::vector<int>>{{3, 0}, {2, 1}, {1, 3}, {0, 2}}));\n",
      "diagrams.push_back(Diagram(bprops[2],bsinks[2],std::vector<std::vector<int>>{{3, 0}, {2, 1}, {1, 2}, {0, 3}}));\n",
      "diagrams.push_back(Diagram(bprops[2],bsinks[2],std::vector<std::vector<int>>{{3, 1}, {2, 0}, {1, 2}, {0, 3}}));\n",
      "diagrams.push_back(Diagram(bprops[2],bsinks[2],std::vector<std::vector<int>>{{3, 1}, {2, 2}, {1, 0}, {0, 3}}));\n",
      "diagrams.push_back(Diagram(bprops[2],bsinks[2],std::vector<std::vector<int>>{{3, 0}, {2, 2}, {1, 1}, {0, 3}}));\n",
      "diagrams.push_back(Diagram(bprops[2],bsinks[2],std::vector<std::vector<int>>{{3, 2}, {2, 0}, {1, 1}, {0, 3}}));\n",
      "diagrams.push_back(Diagram(bprops[2],bsinks[2],std::vector<std::vector<int>>{{3, 2}, {2, 1}, {1, 0}, {0, 3}}));\n",
      "diagrams.push_back(Diagram(bprops[2],bsinks[3],std::vector<std::vector<int>>{{3, 3}, {2, 2}, {1, 1}, {0, 0}}));\n",
      "diagrams.push_back(Diagram(bprops[2],bsinks[3],std::vector<std::vector<int>>{{3, 3}, {2, 2}, {1, 0}, {0, 1}}));\n",
      "diagrams.push_back(Diagram(bprops[2],bsinks[3],std::vector<std::vector<int>>{{3, 3}, {2, 0}, {1, 2}, {0, 1}}));\n",
      "diagrams.push_back(Diagram(bprops[2],bsinks[3],std::vector<std::vector<int>>{{3, 3}, {2, 1}, {1, 2}, {0, 0}}));\n",
      "diagrams.push_back(Diagram(bprops[2],bsinks[3],std::vector<std::vector<int>>{{3, 3}, {2, 1}, {1, 0}, {0, 2}}));\n",
      "diagrams.push_back(Diagram(bprops[2],bsinks[3],std::vector<std::vector<int>>{{3, 3}, {2, 0}, {1, 1}, {0, 2}}));\n",
      "diagrams.push_back(Diagram(bprops[2],bsinks[3],std::vector<std::vector<int>>{{3, 0}, {2, 3}, {1, 1}, {0, 2}}));\n",
      "diagrams.push_back(Diagram(bprops[2],bsinks[3],std::vector<std::vector<int>>{{3, 1}, {2, 3}, {1, 0}, {0, 2}}));\n",
      "diagrams.push_back(Diagram(bprops[2],bsinks[3],std::vector<std::vector<int>>{{3, 1}, {2, 3}, {1, 2}, {0, 0}}));\n",
      "diagrams.push_back(Diagram(bprops[2],bsinks[3],std::vector<std::vector<int>>{{3, 0}, {2, 3}, {1, 2}, {0, 1}}));\n",
      "diagrams.push_back(Diagram(bprops[2],bsinks[3],std::vector<std::vector<int>>{{3, 2}, {2, 3}, {1, 0}, {0, 1}}));\n",
      "diagrams.push_back(Diagram(bprops[2],bsinks[3],std::vector<std::vector<int>>{{3, 2}, {2, 3}, {1, 1}, {0, 0}}));\n",
      "diagrams.push_back(Diagram(bprops[2],bsinks[3],std::vector<std::vector<int>>{{3, 2}, {2, 1}, {1, 3}, {0, 0}}));\n",
      "diagrams.push_back(Diagram(bprops[2],bsinks[3],std::vector<std::vector<int>>{{3, 2}, {2, 0}, {1, 3}, {0, 1}}));\n",
      "diagrams.push_back(Diagram(bprops[2],bsinks[3],std::vector<std::vector<int>>{{3, 0}, {2, 2}, {1, 3}, {0, 1}}));\n",
      "diagrams.push_back(Diagram(bprops[2],bsinks[3],std::vector<std::vector<int>>{{3, 1}, {2, 2}, {1, 3}, {0, 0}}));\n",
      "diagrams.push_back(Diagram(bprops[2],bsinks[3],std::vector<std::vector<int>>{{3, 1}, {2, 0}, {1, 3}, {0, 2}}));\n",
      "diagrams.push_back(Diagram(bprops[2],bsinks[3],std::vector<std::vector<int>>{{3, 0}, {2, 1}, {1, 3}, {0, 2}}));\n",
      "diagrams.push_back(Diagram(bprops[2],bsinks[3],std::vector<std::vector<int>>{{3, 0}, {2, 1}, {1, 2}, {0, 3}}));\n",
      "diagrams.push_back(Diagram(bprops[2],bsinks[3],std::vector<std::vector<int>>{{3, 1}, {2, 0}, {1, 2}, {0, 3}}));\n",
      "diagrams.push_back(Diagram(bprops[2],bsinks[3],std::vector<std::vector<int>>{{3, 1}, {2, 2}, {1, 0}, {0, 3}}));\n",
      "diagrams.push_back(Diagram(bprops[2],bsinks[3],std::vector<std::vector<int>>{{3, 0}, {2, 2}, {1, 1}, {0, 3}}));\n",
      "diagrams.push_back(Diagram(bprops[2],bsinks[3],std::vector<std::vector<int>>{{3, 2}, {2, 0}, {1, 1}, {0, 3}}));\n",
      "diagrams.push_back(Diagram(bprops[2],bsinks[3],std::vector<std::vector<int>>{{3, 2}, {2, 1}, {1, 0}, {0, 3}}));\n",
      "diagrams.push_back(Diagram(bprops[2],bsinks[4],std::vector<std::vector<int>>{{3, 3}, {2, 2}, {1, 1}, {0, 0}}));\n",
      "diagrams.push_back(Diagram(bprops[2],bsinks[4],std::vector<std::vector<int>>{{3, 3}, {2, 2}, {1, 0}, {0, 1}}));\n",
      "diagrams.push_back(Diagram(bprops[2],bsinks[4],std::vector<std::vector<int>>{{3, 3}, {2, 0}, {1, 2}, {0, 1}}));\n",
      "diagrams.push_back(Diagram(bprops[2],bsinks[4],std::vector<std::vector<int>>{{3, 3}, {2, 1}, {1, 2}, {0, 0}}));\n",
      "diagrams.push_back(Diagram(bprops[2],bsinks[4],std::vector<std::vector<int>>{{3, 3}, {2, 1}, {1, 0}, {0, 2}}));\n",
      "diagrams.push_back(Diagram(bprops[2],bsinks[4],std::vector<std::vector<int>>{{3, 3}, {2, 0}, {1, 1}, {0, 2}}));\n",
      "diagrams.push_back(Diagram(bprops[2],bsinks[4],std::vector<std::vector<int>>{{3, 0}, {2, 3}, {1, 1}, {0, 2}}));\n",
      "diagrams.push_back(Diagram(bprops[2],bsinks[4],std::vector<std::vector<int>>{{3, 1}, {2, 3}, {1, 0}, {0, 2}}));\n",
      "diagrams.push_back(Diagram(bprops[2],bsinks[4],std::vector<std::vector<int>>{{3, 1}, {2, 3}, {1, 2}, {0, 0}}));\n",
      "diagrams.push_back(Diagram(bprops[2],bsinks[4],std::vector<std::vector<int>>{{3, 0}, {2, 3}, {1, 2}, {0, 1}}));\n",
      "diagrams.push_back(Diagram(bprops[2],bsinks[4],std::vector<std::vector<int>>{{3, 2}, {2, 3}, {1, 0}, {0, 1}}));\n",
      "diagrams.push_back(Diagram(bprops[2],bsinks[4],std::vector<std::vector<int>>{{3, 2}, {2, 3}, {1, 1}, {0, 0}}));\n",
      "diagrams.push_back(Diagram(bprops[2],bsinks[4],std::vector<std::vector<int>>{{3, 2}, {2, 1}, {1, 3}, {0, 0}}));\n",
      "diagrams.push_back(Diagram(bprops[2],bsinks[4],std::vector<std::vector<int>>{{3, 2}, {2, 0}, {1, 3}, {0, 1}}));\n",
      "diagrams.push_back(Diagram(bprops[2],bsinks[4],std::vector<std::vector<int>>{{3, 0}, {2, 2}, {1, 3}, {0, 1}}));\n",
      "diagrams.push_back(Diagram(bprops[2],bsinks[4],std::vector<std::vector<int>>{{3, 1}, {2, 2}, {1, 3}, {0, 0}}));\n",
      "diagrams.push_back(Diagram(bprops[2],bsinks[4],std::vector<std::vector<int>>{{3, 1}, {2, 0}, {1, 3}, {0, 2}}));\n",
      "diagrams.push_back(Diagram(bprops[2],bsinks[4],std::vector<std::vector<int>>{{3, 0}, {2, 1}, {1, 3}, {0, 2}}));\n",
      "diagrams.push_back(Diagram(bprops[2],bsinks[4],std::vector<std::vector<int>>{{3, 0}, {2, 1}, {1, 2}, {0, 3}}));\n",
      "diagrams.push_back(Diagram(bprops[2],bsinks[4],std::vector<std::vector<int>>{{3, 1}, {2, 0}, {1, 2}, {0, 3}}));\n",
      "diagrams.push_back(Diagram(bprops[2],bsinks[4],std::vector<std::vector<int>>{{3, 1}, {2, 2}, {1, 0}, {0, 3}}));\n",
      "diagrams.push_back(Diagram(bprops[2],bsinks[4],std::vector<std::vector<int>>{{3, 0}, {2, 2}, {1, 1}, {0, 3}}));\n",
      "diagrams.push_back(Diagram(bprops[2],bsinks[4],std::vector<std::vector<int>>{{3, 2}, {2, 0}, {1, 1}, {0, 3}}));\n",
      "diagrams.push_back(Diagram(bprops[2],bsinks[4],std::vector<std::vector<int>>{{3, 2}, {2, 1}, {1, 0}, {0, 3}}));\n",
      "diagrams.push_back(Diagram(bprops[2],bsinks[5],std::vector<std::vector<int>>{{3, 3}, {2, 2}, {1, 1}, {0, 0}}));\n",
      "diagrams.push_back(Diagram(bprops[2],bsinks[5],std::vector<std::vector<int>>{{3, 3}, {2, 2}, {1, 0}, {0, 1}}));\n",
      "diagrams.push_back(Diagram(bprops[2],bsinks[5],std::vector<std::vector<int>>{{3, 3}, {2, 0}, {1, 2}, {0, 1}}));\n",
      "diagrams.push_back(Diagram(bprops[2],bsinks[5],std::vector<std::vector<int>>{{3, 3}, {2, 1}, {1, 2}, {0, 0}}));\n",
      "diagrams.push_back(Diagram(bprops[2],bsinks[5],std::vector<std::vector<int>>{{3, 3}, {2, 1}, {1, 0}, {0, 2}}));\n",
      "diagrams.push_back(Diagram(bprops[2],bsinks[5],std::vector<std::vector<int>>{{3, 3}, {2, 0}, {1, 1}, {0, 2}}));\n",
      "diagrams.push_back(Diagram(bprops[2],bsinks[5],std::vector<std::vector<int>>{{3, 0}, {2, 3}, {1, 1}, {0, 2}}));\n",
      "diagrams.push_back(Diagram(bprops[2],bsinks[5],std::vector<std::vector<int>>{{3, 1}, {2, 3}, {1, 0}, {0, 2}}));\n",
      "diagrams.push_back(Diagram(bprops[2],bsinks[5],std::vector<std::vector<int>>{{3, 1}, {2, 3}, {1, 2}, {0, 0}}));\n",
      "diagrams.push_back(Diagram(bprops[2],bsinks[5],std::vector<std::vector<int>>{{3, 0}, {2, 3}, {1, 2}, {0, 1}}));\n",
      "diagrams.push_back(Diagram(bprops[2],bsinks[5],std::vector<std::vector<int>>{{3, 2}, {2, 3}, {1, 0}, {0, 1}}));\n",
      "diagrams.push_back(Diagram(bprops[2],bsinks[5],std::vector<std::vector<int>>{{3, 2}, {2, 3}, {1, 1}, {0, 0}}));\n",
      "diagrams.push_back(Diagram(bprops[2],bsinks[5],std::vector<std::vector<int>>{{3, 2}, {2, 1}, {1, 3}, {0, 0}}));\n",
      "diagrams.push_back(Diagram(bprops[2],bsinks[5],std::vector<std::vector<int>>{{3, 2}, {2, 0}, {1, 3}, {0, 1}}));\n",
      "diagrams.push_back(Diagram(bprops[2],bsinks[5],std::vector<std::vector<int>>{{3, 0}, {2, 2}, {1, 3}, {0, 1}}));\n",
      "diagrams.push_back(Diagram(bprops[2],bsinks[5],std::vector<std::vector<int>>{{3, 1}, {2, 2}, {1, 3}, {0, 0}}));\n",
      "diagrams.push_back(Diagram(bprops[2],bsinks[5],std::vector<std::vector<int>>{{3, 1}, {2, 0}, {1, 3}, {0, 2}}));\n",
      "diagrams.push_back(Diagram(bprops[2],bsinks[5],std::vector<std::vector<int>>{{3, 0}, {2, 1}, {1, 3}, {0, 2}}));\n",
      "diagrams.push_back(Diagram(bprops[2],bsinks[5],std::vector<std::vector<int>>{{3, 0}, {2, 1}, {1, 2}, {0, 3}}));\n",
      "diagrams.push_back(Diagram(bprops[2],bsinks[5],std::vector<std::vector<int>>{{3, 1}, {2, 0}, {1, 2}, {0, 3}}));\n",
      "diagrams.push_back(Diagram(bprops[2],bsinks[5],std::vector<std::vector<int>>{{3, 1}, {2, 2}, {1, 0}, {0, 3}}));\n",
      "diagrams.push_back(Diagram(bprops[2],bsinks[5],std::vector<std::vector<int>>{{3, 0}, {2, 2}, {1, 1}, {0, 3}}));\n",
      "diagrams.push_back(Diagram(bprops[2],bsinks[5],std::vector<std::vector<int>>{{3, 2}, {2, 0}, {1, 1}, {0, 3}}));\n",
      "diagrams.push_back(Diagram(bprops[2],bsinks[5],std::vector<std::vector<int>>{{3, 2}, {2, 1}, {1, 0}, {0, 3}}));\n",
      "diagrams.push_back(Diagram(bprops[2],bsinks[6],std::vector<std::vector<int>>{{3, 3}, {2, 2}, {1, 1}, {0, 0}}));\n",
      "diagrams.push_back(Diagram(bprops[2],bsinks[6],std::vector<std::vector<int>>{{3, 3}, {2, 2}, {1, 0}, {0, 1}}));\n",
      "diagrams.push_back(Diagram(bprops[2],bsinks[6],std::vector<std::vector<int>>{{3, 3}, {2, 0}, {1, 2}, {0, 1}}));\n",
      "diagrams.push_back(Diagram(bprops[2],bsinks[6],std::vector<std::vector<int>>{{3, 3}, {2, 1}, {1, 2}, {0, 0}}));\n",
      "diagrams.push_back(Diagram(bprops[2],bsinks[6],std::vector<std::vector<int>>{{3, 3}, {2, 1}, {1, 0}, {0, 2}}));\n",
      "diagrams.push_back(Diagram(bprops[2],bsinks[6],std::vector<std::vector<int>>{{3, 3}, {2, 0}, {1, 1}, {0, 2}}));\n",
      "diagrams.push_back(Diagram(bprops[2],bsinks[6],std::vector<std::vector<int>>{{3, 0}, {2, 3}, {1, 1}, {0, 2}}));\n",
      "diagrams.push_back(Diagram(bprops[2],bsinks[6],std::vector<std::vector<int>>{{3, 1}, {2, 3}, {1, 0}, {0, 2}}));\n",
      "diagrams.push_back(Diagram(bprops[2],bsinks[6],std::vector<std::vector<int>>{{3, 1}, {2, 3}, {1, 2}, {0, 0}}));\n",
      "diagrams.push_back(Diagram(bprops[2],bsinks[6],std::vector<std::vector<int>>{{3, 0}, {2, 3}, {1, 2}, {0, 1}}));\n",
      "diagrams.push_back(Diagram(bprops[2],bsinks[6],std::vector<std::vector<int>>{{3, 2}, {2, 3}, {1, 0}, {0, 1}}));\n",
      "diagrams.push_back(Diagram(bprops[2],bsinks[6],std::vector<std::vector<int>>{{3, 2}, {2, 3}, {1, 1}, {0, 0}}));\n",
      "diagrams.push_back(Diagram(bprops[2],bsinks[6],std::vector<std::vector<int>>{{3, 2}, {2, 1}, {1, 3}, {0, 0}}));\n",
      "diagrams.push_back(Diagram(bprops[2],bsinks[6],std::vector<std::vector<int>>{{3, 2}, {2, 0}, {1, 3}, {0, 1}}));\n",
      "diagrams.push_back(Diagram(bprops[2],bsinks[6],std::vector<std::vector<int>>{{3, 0}, {2, 2}, {1, 3}, {0, 1}}));\n",
      "diagrams.push_back(Diagram(bprops[2],bsinks[6],std::vector<std::vector<int>>{{3, 1}, {2, 2}, {1, 3}, {0, 0}}));\n",
      "diagrams.push_back(Diagram(bprops[2],bsinks[6],std::vector<std::vector<int>>{{3, 1}, {2, 0}, {1, 3}, {0, 2}}));\n",
      "diagrams.push_back(Diagram(bprops[2],bsinks[6],std::vector<std::vector<int>>{{3, 0}, {2, 1}, {1, 3}, {0, 2}}));\n",
      "diagrams.push_back(Diagram(bprops[2],bsinks[6],std::vector<std::vector<int>>{{3, 0}, {2, 1}, {1, 2}, {0, 3}}));\n",
      "diagrams.push_back(Diagram(bprops[2],bsinks[6],std::vector<std::vector<int>>{{3, 1}, {2, 0}, {1, 2}, {0, 3}}));\n",
      "diagrams.push_back(Diagram(bprops[2],bsinks[6],std::vector<std::vector<int>>{{3, 1}, {2, 2}, {1, 0}, {0, 3}}));\n",
      "diagrams.push_back(Diagram(bprops[2],bsinks[6],std::vector<std::vector<int>>{{3, 0}, {2, 2}, {1, 1}, {0, 3}}));\n",
      "diagrams.push_back(Diagram(bprops[2],bsinks[6],std::vector<std::vector<int>>{{3, 2}, {2, 0}, {1, 1}, {0, 3}}));\n",
      "diagrams.push_back(Diagram(bprops[2],bsinks[6],std::vector<std::vector<int>>{{3, 2}, {2, 1}, {1, 0}, {0, 3}}));\n",
      "diagrams.push_back(Diagram(bprops[2],bsinks[7],std::vector<std::vector<int>>{{3, 3}, {2, 2}, {1, 1}, {0, 0}}));\n",
      "diagrams.push_back(Diagram(bprops[2],bsinks[7],std::vector<std::vector<int>>{{3, 3}, {2, 2}, {1, 0}, {0, 1}}));\n",
      "diagrams.push_back(Diagram(bprops[2],bsinks[7],std::vector<std::vector<int>>{{3, 3}, {2, 0}, {1, 2}, {0, 1}}));\n",
      "diagrams.push_back(Diagram(bprops[2],bsinks[7],std::vector<std::vector<int>>{{3, 3}, {2, 1}, {1, 2}, {0, 0}}));\n",
      "diagrams.push_back(Diagram(bprops[2],bsinks[7],std::vector<std::vector<int>>{{3, 3}, {2, 1}, {1, 0}, {0, 2}}));\n",
      "diagrams.push_back(Diagram(bprops[2],bsinks[7],std::vector<std::vector<int>>{{3, 3}, {2, 0}, {1, 1}, {0, 2}}));\n",
      "diagrams.push_back(Diagram(bprops[2],bsinks[7],std::vector<std::vector<int>>{{3, 0}, {2, 3}, {1, 1}, {0, 2}}));\n",
      "diagrams.push_back(Diagram(bprops[2],bsinks[7],std::vector<std::vector<int>>{{3, 1}, {2, 3}, {1, 0}, {0, 2}}));\n",
      "diagrams.push_back(Diagram(bprops[2],bsinks[7],std::vector<std::vector<int>>{{3, 1}, {2, 3}, {1, 2}, {0, 0}}));\n",
      "diagrams.push_back(Diagram(bprops[2],bsinks[7],std::vector<std::vector<int>>{{3, 0}, {2, 3}, {1, 2}, {0, 1}}));\n",
      "diagrams.push_back(Diagram(bprops[2],bsinks[7],std::vector<std::vector<int>>{{3, 2}, {2, 3}, {1, 0}, {0, 1}}));\n",
      "diagrams.push_back(Diagram(bprops[2],bsinks[7],std::vector<std::vector<int>>{{3, 2}, {2, 3}, {1, 1}, {0, 0}}));\n",
      "diagrams.push_back(Diagram(bprops[2],bsinks[7],std::vector<std::vector<int>>{{3, 2}, {2, 1}, {1, 3}, {0, 0}}));\n",
      "diagrams.push_back(Diagram(bprops[2],bsinks[7],std::vector<std::vector<int>>{{3, 2}, {2, 0}, {1, 3}, {0, 1}}));\n",
      "diagrams.push_back(Diagram(bprops[2],bsinks[7],std::vector<std::vector<int>>{{3, 0}, {2, 2}, {1, 3}, {0, 1}}));\n",
      "diagrams.push_back(Diagram(bprops[2],bsinks[7],std::vector<std::vector<int>>{{3, 1}, {2, 2}, {1, 3}, {0, 0}}));\n",
      "diagrams.push_back(Diagram(bprops[2],bsinks[7],std::vector<std::vector<int>>{{3, 1}, {2, 0}, {1, 3}, {0, 2}}));\n",
      "diagrams.push_back(Diagram(bprops[2],bsinks[7],std::vector<std::vector<int>>{{3, 0}, {2, 1}, {1, 3}, {0, 2}}));\n",
      "diagrams.push_back(Diagram(bprops[2],bsinks[7],std::vector<std::vector<int>>{{3, 0}, {2, 1}, {1, 2}, {0, 3}}));\n",
      "diagrams.push_back(Diagram(bprops[2],bsinks[7],std::vector<std::vector<int>>{{3, 1}, {2, 0}, {1, 2}, {0, 3}}));\n",
      "diagrams.push_back(Diagram(bprops[2],bsinks[7],std::vector<std::vector<int>>{{3, 1}, {2, 2}, {1, 0}, {0, 3}}));\n",
      "diagrams.push_back(Diagram(bprops[2],bsinks[7],std::vector<std::vector<int>>{{3, 0}, {2, 2}, {1, 1}, {0, 3}}));\n",
      "diagrams.push_back(Diagram(bprops[2],bsinks[7],std::vector<std::vector<int>>{{3, 2}, {2, 0}, {1, 1}, {0, 3}}));\n",
      "diagrams.push_back(Diagram(bprops[2],bsinks[7],std::vector<std::vector<int>>{{3, 2}, {2, 1}, {1, 0}, {0, 3}}));\n",
      "diagrams.push_back(Diagram(bprops[3],bsinks[0],std::vector<std::vector<int>>{{3, 3}, {2, 2}, {1, 1}, {0, 0}}));\n",
      "diagrams.push_back(Diagram(bprops[3],bsinks[0],std::vector<std::vector<int>>{{3, 3}, {2, 2}, {1, 0}, {0, 1}}));\n",
      "diagrams.push_back(Diagram(bprops[3],bsinks[0],std::vector<std::vector<int>>{{3, 3}, {2, 0}, {1, 2}, {0, 1}}));\n",
      "diagrams.push_back(Diagram(bprops[3],bsinks[0],std::vector<std::vector<int>>{{3, 3}, {2, 1}, {1, 2}, {0, 0}}));\n",
      "diagrams.push_back(Diagram(bprops[3],bsinks[0],std::vector<std::vector<int>>{{3, 3}, {2, 1}, {1, 0}, {0, 2}}));\n",
      "diagrams.push_back(Diagram(bprops[3],bsinks[0],std::vector<std::vector<int>>{{3, 3}, {2, 0}, {1, 1}, {0, 2}}));\n",
      "diagrams.push_back(Diagram(bprops[3],bsinks[0],std::vector<std::vector<int>>{{3, 0}, {2, 3}, {1, 1}, {0, 2}}));\n",
      "diagrams.push_back(Diagram(bprops[3],bsinks[0],std::vector<std::vector<int>>{{3, 1}, {2, 3}, {1, 0}, {0, 2}}));\n",
      "diagrams.push_back(Diagram(bprops[3],bsinks[0],std::vector<std::vector<int>>{{3, 1}, {2, 3}, {1, 2}, {0, 0}}));\n",
      "diagrams.push_back(Diagram(bprops[3],bsinks[0],std::vector<std::vector<int>>{{3, 0}, {2, 3}, {1, 2}, {0, 1}}));\n",
      "diagrams.push_back(Diagram(bprops[3],bsinks[0],std::vector<std::vector<int>>{{3, 2}, {2, 3}, {1, 0}, {0, 1}}));\n",
      "diagrams.push_back(Diagram(bprops[3],bsinks[0],std::vector<std::vector<int>>{{3, 2}, {2, 3}, {1, 1}, {0, 0}}));\n",
      "diagrams.push_back(Diagram(bprops[3],bsinks[0],std::vector<std::vector<int>>{{3, 2}, {2, 1}, {1, 3}, {0, 0}}));\n",
      "diagrams.push_back(Diagram(bprops[3],bsinks[0],std::vector<std::vector<int>>{{3, 2}, {2, 0}, {1, 3}, {0, 1}}));\n",
      "diagrams.push_back(Diagram(bprops[3],bsinks[0],std::vector<std::vector<int>>{{3, 0}, {2, 2}, {1, 3}, {0, 1}}));\n",
      "diagrams.push_back(Diagram(bprops[3],bsinks[0],std::vector<std::vector<int>>{{3, 1}, {2, 2}, {1, 3}, {0, 0}}));\n",
      "diagrams.push_back(Diagram(bprops[3],bsinks[0],std::vector<std::vector<int>>{{3, 1}, {2, 0}, {1, 3}, {0, 2}}));\n",
      "diagrams.push_back(Diagram(bprops[3],bsinks[0],std::vector<std::vector<int>>{{3, 0}, {2, 1}, {1, 3}, {0, 2}}));\n",
      "diagrams.push_back(Diagram(bprops[3],bsinks[0],std::vector<std::vector<int>>{{3, 0}, {2, 1}, {1, 2}, {0, 3}}));\n",
      "diagrams.push_back(Diagram(bprops[3],bsinks[0],std::vector<std::vector<int>>{{3, 1}, {2, 0}, {1, 2}, {0, 3}}));\n",
      "diagrams.push_back(Diagram(bprops[3],bsinks[0],std::vector<std::vector<int>>{{3, 1}, {2, 2}, {1, 0}, {0, 3}}));\n",
      "diagrams.push_back(Diagram(bprops[3],bsinks[0],std::vector<std::vector<int>>{{3, 0}, {2, 2}, {1, 1}, {0, 3}}));\n",
      "diagrams.push_back(Diagram(bprops[3],bsinks[0],std::vector<std::vector<int>>{{3, 2}, {2, 0}, {1, 1}, {0, 3}}));\n",
      "diagrams.push_back(Diagram(bprops[3],bsinks[0],std::vector<std::vector<int>>{{3, 2}, {2, 1}, {1, 0}, {0, 3}}));\n",
      "diagrams.push_back(Diagram(bsinks[1],bprops[3],std::vector<std::vector<int>>{{3, 3}, {2, 2}, {1, 1}, {0, 0}}));\n",
      "diagrams.push_back(Diagram(bsinks[1],bprops[3],std::vector<std::vector<int>>{{3, 3}, {2, 2}, {1, 0}, {0, 1}}));\n",
      "diagrams.push_back(Diagram(bsinks[1],bprops[3],std::vector<std::vector<int>>{{3, 3}, {2, 1}, {1, 0}, {0, 2}}));\n",
      "diagrams.push_back(Diagram(bsinks[1],bprops[3],std::vector<std::vector<int>>{{3, 3}, {2, 1}, {1, 2}, {0, 0}}));\n",
      "diagrams.push_back(Diagram(bsinks[1],bprops[3],std::vector<std::vector<int>>{{3, 3}, {2, 0}, {1, 2}, {0, 1}}));\n",
      "diagrams.push_back(Diagram(bsinks[1],bprops[3],std::vector<std::vector<int>>{{3, 3}, {2, 0}, {1, 1}, {0, 2}}));\n",
      "diagrams.push_back(Diagram(bsinks[1],bprops[3],std::vector<std::vector<int>>{{3, 2}, {2, 0}, {1, 1}, {0, 3}}));\n",
      "diagrams.push_back(Diagram(bsinks[1],bprops[3],std::vector<std::vector<int>>{{3, 2}, {2, 0}, {1, 3}, {0, 1}}));\n",
      "diagrams.push_back(Diagram(bsinks[1],bprops[3],std::vector<std::vector<int>>{{3, 2}, {2, 1}, {1, 3}, {0, 0}}));\n",
      "diagrams.push_back(Diagram(bsinks[1],bprops[3],std::vector<std::vector<int>>{{3, 2}, {2, 1}, {1, 0}, {0, 3}}));\n",
      "diagrams.push_back(Diagram(bsinks[1],bprops[3],std::vector<std::vector<int>>{{3, 2}, {2, 3}, {1, 0}, {0, 1}}));\n",
      "diagrams.push_back(Diagram(bsinks[1],bprops[3],std::vector<std::vector<int>>{{3, 2}, {2, 3}, {1, 1}, {0, 0}}));\n",
      "diagrams.push_back(Diagram(bsinks[1],bprops[3],std::vector<std::vector<int>>{{3, 1}, {2, 3}, {1, 2}, {0, 0}}));\n",
      "diagrams.push_back(Diagram(bsinks[1],bprops[3],std::vector<std::vector<int>>{{3, 1}, {2, 3}, {1, 0}, {0, 2}}));\n",
      "diagrams.push_back(Diagram(bsinks[1],bprops[3],std::vector<std::vector<int>>{{3, 1}, {2, 2}, {1, 0}, {0, 3}}));\n",
      "diagrams.push_back(Diagram(bsinks[1],bprops[3],std::vector<std::vector<int>>{{3, 1}, {2, 2}, {1, 3}, {0, 0}}));\n",
      "diagrams.push_back(Diagram(bsinks[1],bprops[3],std::vector<std::vector<int>>{{3, 1}, {2, 0}, {1, 3}, {0, 2}}));\n",
      "diagrams.push_back(Diagram(bsinks[1],bprops[3],std::vector<std::vector<int>>{{3, 1}, {2, 0}, {1, 2}, {0, 3}}));\n",
      "diagrams.push_back(Diagram(bsinks[1],bprops[3],std::vector<std::vector<int>>{{3, 0}, {2, 1}, {1, 2}, {0, 3}}));\n",
      "diagrams.push_back(Diagram(bsinks[1],bprops[3],std::vector<std::vector<int>>{{3, 0}, {2, 1}, {1, 3}, {0, 2}}));\n",
      "diagrams.push_back(Diagram(bsinks[1],bprops[3],std::vector<std::vector<int>>{{3, 0}, {2, 2}, {1, 3}, {0, 1}}));\n",
      "diagrams.push_back(Diagram(bsinks[1],bprops[3],std::vector<std::vector<int>>{{3, 0}, {2, 2}, {1, 1}, {0, 3}}));\n",
      "diagrams.push_back(Diagram(bsinks[1],bprops[3],std::vector<std::vector<int>>{{3, 0}, {2, 3}, {1, 1}, {0, 2}}));\n",
      "diagrams.push_back(Diagram(bsinks[1],bprops[3],std::vector<std::vector<int>>{{3, 0}, {2, 3}, {1, 2}, {0, 1}}));\n",
      "diagrams.push_back(Diagram(bsinks[2],bprops[3],std::vector<std::vector<int>>{{3, 3}, {2, 2}, {1, 1}, {0, 0}}));\n",
      "diagrams.push_back(Diagram(bsinks[2],bprops[3],std::vector<std::vector<int>>{{3, 3}, {2, 2}, {1, 0}, {0, 1}}));\n",
      "diagrams.push_back(Diagram(bsinks[2],bprops[3],std::vector<std::vector<int>>{{3, 3}, {2, 1}, {1, 0}, {0, 2}}));\n",
      "diagrams.push_back(Diagram(bsinks[2],bprops[3],std::vector<std::vector<int>>{{3, 3}, {2, 1}, {1, 2}, {0, 0}}));\n",
      "diagrams.push_back(Diagram(bsinks[2],bprops[3],std::vector<std::vector<int>>{{3, 3}, {2, 0}, {1, 2}, {0, 1}}));\n",
      "diagrams.push_back(Diagram(bsinks[2],bprops[3],std::vector<std::vector<int>>{{3, 3}, {2, 0}, {1, 1}, {0, 2}}));\n",
      "diagrams.push_back(Diagram(bsinks[2],bprops[3],std::vector<std::vector<int>>{{3, 2}, {2, 0}, {1, 1}, {0, 3}}));\n",
      "diagrams.push_back(Diagram(bsinks[2],bprops[3],std::vector<std::vector<int>>{{3, 2}, {2, 0}, {1, 3}, {0, 1}}));\n",
      "diagrams.push_back(Diagram(bsinks[2],bprops[3],std::vector<std::vector<int>>{{3, 2}, {2, 1}, {1, 3}, {0, 0}}));\n",
      "diagrams.push_back(Diagram(bsinks[2],bprops[3],std::vector<std::vector<int>>{{3, 2}, {2, 1}, {1, 0}, {0, 3}}));\n",
      "diagrams.push_back(Diagram(bsinks[2],bprops[3],std::vector<std::vector<int>>{{3, 2}, {2, 3}, {1, 0}, {0, 1}}));\n",
      "diagrams.push_back(Diagram(bsinks[2],bprops[3],std::vector<std::vector<int>>{{3, 2}, {2, 3}, {1, 1}, {0, 0}}));\n",
      "diagrams.push_back(Diagram(bsinks[2],bprops[3],std::vector<std::vector<int>>{{3, 1}, {2, 3}, {1, 2}, {0, 0}}));\n",
      "diagrams.push_back(Diagram(bsinks[2],bprops[3],std::vector<std::vector<int>>{{3, 1}, {2, 3}, {1, 0}, {0, 2}}));\n",
      "diagrams.push_back(Diagram(bsinks[2],bprops[3],std::vector<std::vector<int>>{{3, 1}, {2, 2}, {1, 0}, {0, 3}}));\n",
      "diagrams.push_back(Diagram(bsinks[2],bprops[3],std::vector<std::vector<int>>{{3, 1}, {2, 2}, {1, 3}, {0, 0}}));\n",
      "diagrams.push_back(Diagram(bsinks[2],bprops[3],std::vector<std::vector<int>>{{3, 1}, {2, 0}, {1, 3}, {0, 2}}));\n",
      "diagrams.push_back(Diagram(bsinks[2],bprops[3],std::vector<std::vector<int>>{{3, 1}, {2, 0}, {1, 2}, {0, 3}}));\n",
      "diagrams.push_back(Diagram(bsinks[2],bprops[3],std::vector<std::vector<int>>{{3, 0}, {2, 1}, {1, 2}, {0, 3}}));\n",
      "diagrams.push_back(Diagram(bsinks[2],bprops[3],std::vector<std::vector<int>>{{3, 0}, {2, 1}, {1, 3}, {0, 2}}));\n",
      "diagrams.push_back(Diagram(bsinks[2],bprops[3],std::vector<std::vector<int>>{{3, 0}, {2, 2}, {1, 3}, {0, 1}}));\n",
      "diagrams.push_back(Diagram(bsinks[2],bprops[3],std::vector<std::vector<int>>{{3, 0}, {2, 2}, {1, 1}, {0, 3}}));\n",
      "diagrams.push_back(Diagram(bsinks[2],bprops[3],std::vector<std::vector<int>>{{3, 0}, {2, 3}, {1, 1}, {0, 2}}));\n",
      "diagrams.push_back(Diagram(bsinks[2],bprops[3],std::vector<std::vector<int>>{{3, 0}, {2, 3}, {1, 2}, {0, 1}}));\n",
      "diagrams.push_back(Diagram(bprops[3],bsinks[3],std::vector<std::vector<int>>{{3, 3}, {2, 2}, {1, 1}, {0, 0}}));\n",
      "diagrams.push_back(Diagram(bprops[3],bsinks[3],std::vector<std::vector<int>>{{3, 3}, {2, 2}, {1, 0}, {0, 1}}));\n",
      "diagrams.push_back(Diagram(bprops[3],bsinks[3],std::vector<std::vector<int>>{{3, 3}, {2, 0}, {1, 2}, {0, 1}}));\n",
      "diagrams.push_back(Diagram(bprops[3],bsinks[3],std::vector<std::vector<int>>{{3, 3}, {2, 1}, {1, 2}, {0, 0}}));\n",
      "diagrams.push_back(Diagram(bprops[3],bsinks[3],std::vector<std::vector<int>>{{3, 3}, {2, 1}, {1, 0}, {0, 2}}));\n",
      "diagrams.push_back(Diagram(bprops[3],bsinks[3],std::vector<std::vector<int>>{{3, 3}, {2, 0}, {1, 1}, {0, 2}}));\n",
      "diagrams.push_back(Diagram(bprops[3],bsinks[3],std::vector<std::vector<int>>{{3, 0}, {2, 3}, {1, 1}, {0, 2}}));\n",
      "diagrams.push_back(Diagram(bprops[3],bsinks[3],std::vector<std::vector<int>>{{3, 1}, {2, 3}, {1, 0}, {0, 2}}));\n",
      "diagrams.push_back(Diagram(bprops[3],bsinks[3],std::vector<std::vector<int>>{{3, 1}, {2, 3}, {1, 2}, {0, 0}}));\n",
      "diagrams.push_back(Diagram(bprops[3],bsinks[3],std::vector<std::vector<int>>{{3, 0}, {2, 3}, {1, 2}, {0, 1}}));\n",
      "diagrams.push_back(Diagram(bprops[3],bsinks[3],std::vector<std::vector<int>>{{3, 2}, {2, 3}, {1, 0}, {0, 1}}));\n",
      "diagrams.push_back(Diagram(bprops[3],bsinks[3],std::vector<std::vector<int>>{{3, 2}, {2, 3}, {1, 1}, {0, 0}}));\n",
      "diagrams.push_back(Diagram(bprops[3],bsinks[3],std::vector<std::vector<int>>{{3, 2}, {2, 1}, {1, 3}, {0, 0}}));\n",
      "diagrams.push_back(Diagram(bprops[3],bsinks[3],std::vector<std::vector<int>>{{3, 2}, {2, 0}, {1, 3}, {0, 1}}));\n",
      "diagrams.push_back(Diagram(bprops[3],bsinks[3],std::vector<std::vector<int>>{{3, 0}, {2, 2}, {1, 3}, {0, 1}}));\n",
      "diagrams.push_back(Diagram(bprops[3],bsinks[3],std::vector<std::vector<int>>{{3, 1}, {2, 2}, {1, 3}, {0, 0}}));\n",
      "diagrams.push_back(Diagram(bprops[3],bsinks[3],std::vector<std::vector<int>>{{3, 1}, {2, 0}, {1, 3}, {0, 2}}));\n",
      "diagrams.push_back(Diagram(bprops[3],bsinks[3],std::vector<std::vector<int>>{{3, 0}, {2, 1}, {1, 3}, {0, 2}}));\n",
      "diagrams.push_back(Diagram(bprops[3],bsinks[3],std::vector<std::vector<int>>{{3, 0}, {2, 1}, {1, 2}, {0, 3}}));\n",
      "diagrams.push_back(Diagram(bprops[3],bsinks[3],std::vector<std::vector<int>>{{3, 1}, {2, 0}, {1, 2}, {0, 3}}));\n",
      "diagrams.push_back(Diagram(bprops[3],bsinks[3],std::vector<std::vector<int>>{{3, 1}, {2, 2}, {1, 0}, {0, 3}}));\n",
      "diagrams.push_back(Diagram(bprops[3],bsinks[3],std::vector<std::vector<int>>{{3, 0}, {2, 2}, {1, 1}, {0, 3}}));\n",
      "diagrams.push_back(Diagram(bprops[3],bsinks[3],std::vector<std::vector<int>>{{3, 2}, {2, 0}, {1, 1}, {0, 3}}));\n",
      "diagrams.push_back(Diagram(bprops[3],bsinks[3],std::vector<std::vector<int>>{{3, 2}, {2, 1}, {1, 0}, {0, 3}}));\n",
      "diagrams.push_back(Diagram(bprops[3],bsinks[4],std::vector<std::vector<int>>{{3, 3}, {2, 2}, {1, 1}, {0, 0}}));\n",
      "diagrams.push_back(Diagram(bprops[3],bsinks[4],std::vector<std::vector<int>>{{3, 3}, {2, 2}, {1, 0}, {0, 1}}));\n",
      "diagrams.push_back(Diagram(bprops[3],bsinks[4],std::vector<std::vector<int>>{{3, 3}, {2, 0}, {1, 2}, {0, 1}}));\n",
      "diagrams.push_back(Diagram(bprops[3],bsinks[4],std::vector<std::vector<int>>{{3, 3}, {2, 1}, {1, 2}, {0, 0}}));\n",
      "diagrams.push_back(Diagram(bprops[3],bsinks[4],std::vector<std::vector<int>>{{3, 3}, {2, 1}, {1, 0}, {0, 2}}));\n",
      "diagrams.push_back(Diagram(bprops[3],bsinks[4],std::vector<std::vector<int>>{{3, 3}, {2, 0}, {1, 1}, {0, 2}}));\n",
      "diagrams.push_back(Diagram(bprops[3],bsinks[4],std::vector<std::vector<int>>{{3, 0}, {2, 3}, {1, 1}, {0, 2}}));\n",
      "diagrams.push_back(Diagram(bprops[3],bsinks[4],std::vector<std::vector<int>>{{3, 1}, {2, 3}, {1, 0}, {0, 2}}));\n",
      "diagrams.push_back(Diagram(bprops[3],bsinks[4],std::vector<std::vector<int>>{{3, 1}, {2, 3}, {1, 2}, {0, 0}}));\n",
      "diagrams.push_back(Diagram(bprops[3],bsinks[4],std::vector<std::vector<int>>{{3, 0}, {2, 3}, {1, 2}, {0, 1}}));\n",
      "diagrams.push_back(Diagram(bprops[3],bsinks[4],std::vector<std::vector<int>>{{3, 2}, {2, 3}, {1, 0}, {0, 1}}));\n",
      "diagrams.push_back(Diagram(bprops[3],bsinks[4],std::vector<std::vector<int>>{{3, 2}, {2, 3}, {1, 1}, {0, 0}}));\n",
      "diagrams.push_back(Diagram(bprops[3],bsinks[4],std::vector<std::vector<int>>{{3, 2}, {2, 1}, {1, 3}, {0, 0}}));\n",
      "diagrams.push_back(Diagram(bprops[3],bsinks[4],std::vector<std::vector<int>>{{3, 2}, {2, 0}, {1, 3}, {0, 1}}));\n",
      "diagrams.push_back(Diagram(bprops[3],bsinks[4],std::vector<std::vector<int>>{{3, 0}, {2, 2}, {1, 3}, {0, 1}}));\n",
      "diagrams.push_back(Diagram(bprops[3],bsinks[4],std::vector<std::vector<int>>{{3, 1}, {2, 2}, {1, 3}, {0, 0}}));\n",
      "diagrams.push_back(Diagram(bprops[3],bsinks[4],std::vector<std::vector<int>>{{3, 1}, {2, 0}, {1, 3}, {0, 2}}));\n",
      "diagrams.push_back(Diagram(bprops[3],bsinks[4],std::vector<std::vector<int>>{{3, 0}, {2, 1}, {1, 3}, {0, 2}}));\n",
      "diagrams.push_back(Diagram(bprops[3],bsinks[4],std::vector<std::vector<int>>{{3, 0}, {2, 1}, {1, 2}, {0, 3}}));\n",
      "diagrams.push_back(Diagram(bprops[3],bsinks[4],std::vector<std::vector<int>>{{3, 1}, {2, 0}, {1, 2}, {0, 3}}));\n",
      "diagrams.push_back(Diagram(bprops[3],bsinks[4],std::vector<std::vector<int>>{{3, 1}, {2, 2}, {1, 0}, {0, 3}}));\n",
      "diagrams.push_back(Diagram(bprops[3],bsinks[4],std::vector<std::vector<int>>{{3, 0}, {2, 2}, {1, 1}, {0, 3}}));\n",
      "diagrams.push_back(Diagram(bprops[3],bsinks[4],std::vector<std::vector<int>>{{3, 2}, {2, 0}, {1, 1}, {0, 3}}));\n",
      "diagrams.push_back(Diagram(bprops[3],bsinks[4],std::vector<std::vector<int>>{{3, 2}, {2, 1}, {1, 0}, {0, 3}}));\n",
      "diagrams.push_back(Diagram(bprops[3],bsinks[5],std::vector<std::vector<int>>{{3, 3}, {2, 2}, {1, 1}, {0, 0}}));\n",
      "diagrams.push_back(Diagram(bprops[3],bsinks[5],std::vector<std::vector<int>>{{3, 3}, {2, 2}, {1, 0}, {0, 1}}));\n",
      "diagrams.push_back(Diagram(bprops[3],bsinks[5],std::vector<std::vector<int>>{{3, 3}, {2, 0}, {1, 2}, {0, 1}}));\n",
      "diagrams.push_back(Diagram(bprops[3],bsinks[5],std::vector<std::vector<int>>{{3, 3}, {2, 1}, {1, 2}, {0, 0}}));\n",
      "diagrams.push_back(Diagram(bprops[3],bsinks[5],std::vector<std::vector<int>>{{3, 3}, {2, 1}, {1, 0}, {0, 2}}));\n",
      "diagrams.push_back(Diagram(bprops[3],bsinks[5],std::vector<std::vector<int>>{{3, 3}, {2, 0}, {1, 1}, {0, 2}}));\n",
      "diagrams.push_back(Diagram(bprops[3],bsinks[5],std::vector<std::vector<int>>{{3, 0}, {2, 3}, {1, 1}, {0, 2}}));\n",
      "diagrams.push_back(Diagram(bprops[3],bsinks[5],std::vector<std::vector<int>>{{3, 1}, {2, 3}, {1, 0}, {0, 2}}));\n",
      "diagrams.push_back(Diagram(bprops[3],bsinks[5],std::vector<std::vector<int>>{{3, 1}, {2, 3}, {1, 2}, {0, 0}}));\n",
      "diagrams.push_back(Diagram(bprops[3],bsinks[5],std::vector<std::vector<int>>{{3, 0}, {2, 3}, {1, 2}, {0, 1}}));\n",
      "diagrams.push_back(Diagram(bprops[3],bsinks[5],std::vector<std::vector<int>>{{3, 2}, {2, 3}, {1, 0}, {0, 1}}));\n",
      "diagrams.push_back(Diagram(bprops[3],bsinks[5],std::vector<std::vector<int>>{{3, 2}, {2, 3}, {1, 1}, {0, 0}}));\n",
      "diagrams.push_back(Diagram(bprops[3],bsinks[5],std::vector<std::vector<int>>{{3, 2}, {2, 1}, {1, 3}, {0, 0}}));\n",
      "diagrams.push_back(Diagram(bprops[3],bsinks[5],std::vector<std::vector<int>>{{3, 2}, {2, 0}, {1, 3}, {0, 1}}));\n",
      "diagrams.push_back(Diagram(bprops[3],bsinks[5],std::vector<std::vector<int>>{{3, 0}, {2, 2}, {1, 3}, {0, 1}}));\n",
      "diagrams.push_back(Diagram(bprops[3],bsinks[5],std::vector<std::vector<int>>{{3, 1}, {2, 2}, {1, 3}, {0, 0}}));\n",
      "diagrams.push_back(Diagram(bprops[3],bsinks[5],std::vector<std::vector<int>>{{3, 1}, {2, 0}, {1, 3}, {0, 2}}));\n",
      "diagrams.push_back(Diagram(bprops[3],bsinks[5],std::vector<std::vector<int>>{{3, 0}, {2, 1}, {1, 3}, {0, 2}}));\n",
      "diagrams.push_back(Diagram(bprops[3],bsinks[5],std::vector<std::vector<int>>{{3, 0}, {2, 1}, {1, 2}, {0, 3}}));\n",
      "diagrams.push_back(Diagram(bprops[3],bsinks[5],std::vector<std::vector<int>>{{3, 1}, {2, 0}, {1, 2}, {0, 3}}));\n",
      "diagrams.push_back(Diagram(bprops[3],bsinks[5],std::vector<std::vector<int>>{{3, 1}, {2, 2}, {1, 0}, {0, 3}}));\n",
      "diagrams.push_back(Diagram(bprops[3],bsinks[5],std::vector<std::vector<int>>{{3, 0}, {2, 2}, {1, 1}, {0, 3}}));\n",
      "diagrams.push_back(Diagram(bprops[3],bsinks[5],std::vector<std::vector<int>>{{3, 2}, {2, 0}, {1, 1}, {0, 3}}));\n",
      "diagrams.push_back(Diagram(bprops[3],bsinks[5],std::vector<std::vector<int>>{{3, 2}, {2, 1}, {1, 0}, {0, 3}}));\n",
      "diagrams.push_back(Diagram(bprops[3],bsinks[6],std::vector<std::vector<int>>{{3, 3}, {2, 2}, {1, 1}, {0, 0}}));\n",
      "diagrams.push_back(Diagram(bprops[3],bsinks[6],std::vector<std::vector<int>>{{3, 3}, {2, 2}, {1, 0}, {0, 1}}));\n",
      "diagrams.push_back(Diagram(bprops[3],bsinks[6],std::vector<std::vector<int>>{{3, 3}, {2, 0}, {1, 2}, {0, 1}}));\n",
      "diagrams.push_back(Diagram(bprops[3],bsinks[6],std::vector<std::vector<int>>{{3, 3}, {2, 1}, {1, 2}, {0, 0}}));\n",
      "diagrams.push_back(Diagram(bprops[3],bsinks[6],std::vector<std::vector<int>>{{3, 3}, {2, 1}, {1, 0}, {0, 2}}));\n",
      "diagrams.push_back(Diagram(bprops[3],bsinks[6],std::vector<std::vector<int>>{{3, 3}, {2, 0}, {1, 1}, {0, 2}}));\n",
      "diagrams.push_back(Diagram(bprops[3],bsinks[6],std::vector<std::vector<int>>{{3, 0}, {2, 3}, {1, 1}, {0, 2}}));\n",
      "diagrams.push_back(Diagram(bprops[3],bsinks[6],std::vector<std::vector<int>>{{3, 1}, {2, 3}, {1, 0}, {0, 2}}));\n",
      "diagrams.push_back(Diagram(bprops[3],bsinks[6],std::vector<std::vector<int>>{{3, 1}, {2, 3}, {1, 2}, {0, 0}}));\n",
      "diagrams.push_back(Diagram(bprops[3],bsinks[6],std::vector<std::vector<int>>{{3, 0}, {2, 3}, {1, 2}, {0, 1}}));\n",
      "diagrams.push_back(Diagram(bprops[3],bsinks[6],std::vector<std::vector<int>>{{3, 2}, {2, 3}, {1, 0}, {0, 1}}));\n",
      "diagrams.push_back(Diagram(bprops[3],bsinks[6],std::vector<std::vector<int>>{{3, 2}, {2, 3}, {1, 1}, {0, 0}}));\n",
      "diagrams.push_back(Diagram(bprops[3],bsinks[6],std::vector<std::vector<int>>{{3, 2}, {2, 1}, {1, 3}, {0, 0}}));\n",
      "diagrams.push_back(Diagram(bprops[3],bsinks[6],std::vector<std::vector<int>>{{3, 2}, {2, 0}, {1, 3}, {0, 1}}));\n",
      "diagrams.push_back(Diagram(bprops[3],bsinks[6],std::vector<std::vector<int>>{{3, 0}, {2, 2}, {1, 3}, {0, 1}}));\n",
      "diagrams.push_back(Diagram(bprops[3],bsinks[6],std::vector<std::vector<int>>{{3, 1}, {2, 2}, {1, 3}, {0, 0}}));\n",
      "diagrams.push_back(Diagram(bprops[3],bsinks[6],std::vector<std::vector<int>>{{3, 1}, {2, 0}, {1, 3}, {0, 2}}));\n",
      "diagrams.push_back(Diagram(bprops[3],bsinks[6],std::vector<std::vector<int>>{{3, 0}, {2, 1}, {1, 3}, {0, 2}}));\n",
      "diagrams.push_back(Diagram(bprops[3],bsinks[6],std::vector<std::vector<int>>{{3, 0}, {2, 1}, {1, 2}, {0, 3}}));\n",
      "diagrams.push_back(Diagram(bprops[3],bsinks[6],std::vector<std::vector<int>>{{3, 1}, {2, 0}, {1, 2}, {0, 3}}));\n",
      "diagrams.push_back(Diagram(bprops[3],bsinks[6],std::vector<std::vector<int>>{{3, 1}, {2, 2}, {1, 0}, {0, 3}}));\n",
      "diagrams.push_back(Diagram(bprops[3],bsinks[6],std::vector<std::vector<int>>{{3, 0}, {2, 2}, {1, 1}, {0, 3}}));\n",
      "diagrams.push_back(Diagram(bprops[3],bsinks[6],std::vector<std::vector<int>>{{3, 2}, {2, 0}, {1, 1}, {0, 3}}));\n",
      "diagrams.push_back(Diagram(bprops[3],bsinks[6],std::vector<std::vector<int>>{{3, 2}, {2, 1}, {1, 0}, {0, 3}}));\n",
      "diagrams.push_back(Diagram(bprops[3],bsinks[7],std::vector<std::vector<int>>{{3, 3}, {2, 2}, {1, 1}, {0, 0}}));\n",
      "diagrams.push_back(Diagram(bprops[3],bsinks[7],std::vector<std::vector<int>>{{3, 3}, {2, 2}, {1, 0}, {0, 1}}));\n",
      "diagrams.push_back(Diagram(bprops[3],bsinks[7],std::vector<std::vector<int>>{{3, 3}, {2, 0}, {1, 2}, {0, 1}}));\n",
      "diagrams.push_back(Diagram(bprops[3],bsinks[7],std::vector<std::vector<int>>{{3, 3}, {2, 1}, {1, 2}, {0, 0}}));\n",
      "diagrams.push_back(Diagram(bprops[3],bsinks[7],std::vector<std::vector<int>>{{3, 3}, {2, 1}, {1, 0}, {0, 2}}));\n",
      "diagrams.push_back(Diagram(bprops[3],bsinks[7],std::vector<std::vector<int>>{{3, 3}, {2, 0}, {1, 1}, {0, 2}}));\n",
      "diagrams.push_back(Diagram(bprops[3],bsinks[7],std::vector<std::vector<int>>{{3, 0}, {2, 3}, {1, 1}, {0, 2}}));\n",
      "diagrams.push_back(Diagram(bprops[3],bsinks[7],std::vector<std::vector<int>>{{3, 1}, {2, 3}, {1, 0}, {0, 2}}));\n",
      "diagrams.push_back(Diagram(bprops[3],bsinks[7],std::vector<std::vector<int>>{{3, 1}, {2, 3}, {1, 2}, {0, 0}}));\n",
      "diagrams.push_back(Diagram(bprops[3],bsinks[7],std::vector<std::vector<int>>{{3, 0}, {2, 3}, {1, 2}, {0, 1}}));\n",
      "diagrams.push_back(Diagram(bprops[3],bsinks[7],std::vector<std::vector<int>>{{3, 2}, {2, 3}, {1, 0}, {0, 1}}));\n",
      "diagrams.push_back(Diagram(bprops[3],bsinks[7],std::vector<std::vector<int>>{{3, 2}, {2, 3}, {1, 1}, {0, 0}}));\n",
      "diagrams.push_back(Diagram(bprops[3],bsinks[7],std::vector<std::vector<int>>{{3, 2}, {2, 1}, {1, 3}, {0, 0}}));\n",
      "diagrams.push_back(Diagram(bprops[3],bsinks[7],std::vector<std::vector<int>>{{3, 2}, {2, 0}, {1, 3}, {0, 1}}));\n",
      "diagrams.push_back(Diagram(bprops[3],bsinks[7],std::vector<std::vector<int>>{{3, 0}, {2, 2}, {1, 3}, {0, 1}}));\n",
      "diagrams.push_back(Diagram(bprops[3],bsinks[7],std::vector<std::vector<int>>{{3, 1}, {2, 2}, {1, 3}, {0, 0}}));\n",
      "diagrams.push_back(Diagram(bprops[3],bsinks[7],std::vector<std::vector<int>>{{3, 1}, {2, 0}, {1, 3}, {0, 2}}));\n",
      "diagrams.push_back(Diagram(bprops[3],bsinks[7],std::vector<std::vector<int>>{{3, 0}, {2, 1}, {1, 3}, {0, 2}}));\n",
      "diagrams.push_back(Diagram(bprops[3],bsinks[7],std::vector<std::vector<int>>{{3, 0}, {2, 1}, {1, 2}, {0, 3}}));\n",
      "diagrams.push_back(Diagram(bprops[3],bsinks[7],std::vector<std::vector<int>>{{3, 1}, {2, 0}, {1, 2}, {0, 3}}));\n",
      "diagrams.push_back(Diagram(bprops[3],bsinks[7],std::vector<std::vector<int>>{{3, 1}, {2, 2}, {1, 0}, {0, 3}}));\n",
      "diagrams.push_back(Diagram(bprops[3],bsinks[7],std::vector<std::vector<int>>{{3, 0}, {2, 2}, {1, 1}, {0, 3}}));\n",
      "diagrams.push_back(Diagram(bprops[3],bsinks[7],std::vector<std::vector<int>>{{3, 2}, {2, 0}, {1, 1}, {0, 3}}));\n",
      "diagrams.push_back(Diagram(bprops[3],bsinks[7],std::vector<std::vector<int>>{{3, 2}, {2, 1}, {1, 0}, {0, 3}}));\n",
      "diagrams.push_back(Diagram(bprops[4],bsinks[0],std::vector<std::vector<int>>{{3, 3}, {2, 2}, {1, 1}, {0, 0}}));\n",
      "diagrams.push_back(Diagram(bprops[4],bsinks[0],std::vector<std::vector<int>>{{3, 3}, {2, 2}, {1, 0}, {0, 1}}));\n",
      "diagrams.push_back(Diagram(bprops[4],bsinks[0],std::vector<std::vector<int>>{{3, 3}, {2, 0}, {1, 2}, {0, 1}}));\n",
      "diagrams.push_back(Diagram(bprops[4],bsinks[0],std::vector<std::vector<int>>{{3, 3}, {2, 1}, {1, 2}, {0, 0}}));\n",
      "diagrams.push_back(Diagram(bprops[4],bsinks[0],std::vector<std::vector<int>>{{3, 3}, {2, 1}, {1, 0}, {0, 2}}));\n",
      "diagrams.push_back(Diagram(bprops[4],bsinks[0],std::vector<std::vector<int>>{{3, 3}, {2, 0}, {1, 1}, {0, 2}}));\n",
      "diagrams.push_back(Diagram(bprops[4],bsinks[0],std::vector<std::vector<int>>{{3, 0}, {2, 3}, {1, 1}, {0, 2}}));\n",
      "diagrams.push_back(Diagram(bprops[4],bsinks[0],std::vector<std::vector<int>>{{3, 1}, {2, 3}, {1, 0}, {0, 2}}));\n",
      "diagrams.push_back(Diagram(bprops[4],bsinks[0],std::vector<std::vector<int>>{{3, 1}, {2, 3}, {1, 2}, {0, 0}}));\n",
      "diagrams.push_back(Diagram(bprops[4],bsinks[0],std::vector<std::vector<int>>{{3, 0}, {2, 3}, {1, 2}, {0, 1}}));\n",
      "diagrams.push_back(Diagram(bprops[4],bsinks[0],std::vector<std::vector<int>>{{3, 2}, {2, 3}, {1, 0}, {0, 1}}));\n",
      "diagrams.push_back(Diagram(bprops[4],bsinks[0],std::vector<std::vector<int>>{{3, 2}, {2, 3}, {1, 1}, {0, 0}}));\n",
      "diagrams.push_back(Diagram(bprops[4],bsinks[0],std::vector<std::vector<int>>{{3, 2}, {2, 1}, {1, 3}, {0, 0}}));\n",
      "diagrams.push_back(Diagram(bprops[4],bsinks[0],std::vector<std::vector<int>>{{3, 2}, {2, 0}, {1, 3}, {0, 1}}));\n",
      "diagrams.push_back(Diagram(bprops[4],bsinks[0],std::vector<std::vector<int>>{{3, 0}, {2, 2}, {1, 3}, {0, 1}}));\n",
      "diagrams.push_back(Diagram(bprops[4],bsinks[0],std::vector<std::vector<int>>{{3, 1}, {2, 2}, {1, 3}, {0, 0}}));\n",
      "diagrams.push_back(Diagram(bprops[4],bsinks[0],std::vector<std::vector<int>>{{3, 1}, {2, 0}, {1, 3}, {0, 2}}));\n",
      "diagrams.push_back(Diagram(bprops[4],bsinks[0],std::vector<std::vector<int>>{{3, 0}, {2, 1}, {1, 3}, {0, 2}}));\n",
      "diagrams.push_back(Diagram(bprops[4],bsinks[0],std::vector<std::vector<int>>{{3, 0}, {2, 1}, {1, 2}, {0, 3}}));\n",
      "diagrams.push_back(Diagram(bprops[4],bsinks[0],std::vector<std::vector<int>>{{3, 1}, {2, 0}, {1, 2}, {0, 3}}));\n",
      "diagrams.push_back(Diagram(bprops[4],bsinks[0],std::vector<std::vector<int>>{{3, 1}, {2, 2}, {1, 0}, {0, 3}}));\n",
      "diagrams.push_back(Diagram(bprops[4],bsinks[0],std::vector<std::vector<int>>{{3, 0}, {2, 2}, {1, 1}, {0, 3}}));\n",
      "diagrams.push_back(Diagram(bprops[4],bsinks[0],std::vector<std::vector<int>>{{3, 2}, {2, 0}, {1, 1}, {0, 3}}));\n",
      "diagrams.push_back(Diagram(bprops[4],bsinks[0],std::vector<std::vector<int>>{{3, 2}, {2, 1}, {1, 0}, {0, 3}}));\n",
      "diagrams.push_back(Diagram(bsinks[1],bprops[4],std::vector<std::vector<int>>{{3, 3}, {2, 2}, {1, 1}, {0, 0}}));\n",
      "diagrams.push_back(Diagram(bsinks[1],bprops[4],std::vector<std::vector<int>>{{3, 3}, {2, 2}, {1, 0}, {0, 1}}));\n",
      "diagrams.push_back(Diagram(bsinks[1],bprops[4],std::vector<std::vector<int>>{{3, 3}, {2, 1}, {1, 0}, {0, 2}}));\n",
      "diagrams.push_back(Diagram(bsinks[1],bprops[4],std::vector<std::vector<int>>{{3, 3}, {2, 1}, {1, 2}, {0, 0}}));\n",
      "diagrams.push_back(Diagram(bsinks[1],bprops[4],std::vector<std::vector<int>>{{3, 3}, {2, 0}, {1, 2}, {0, 1}}));\n",
      "diagrams.push_back(Diagram(bsinks[1],bprops[4],std::vector<std::vector<int>>{{3, 3}, {2, 0}, {1, 1}, {0, 2}}));\n",
      "diagrams.push_back(Diagram(bsinks[1],bprops[4],std::vector<std::vector<int>>{{3, 2}, {2, 0}, {1, 1}, {0, 3}}));\n",
      "diagrams.push_back(Diagram(bsinks[1],bprops[4],std::vector<std::vector<int>>{{3, 2}, {2, 0}, {1, 3}, {0, 1}}));\n",
      "diagrams.push_back(Diagram(bsinks[1],bprops[4],std::vector<std::vector<int>>{{3, 2}, {2, 1}, {1, 3}, {0, 0}}));\n",
      "diagrams.push_back(Diagram(bsinks[1],bprops[4],std::vector<std::vector<int>>{{3, 2}, {2, 1}, {1, 0}, {0, 3}}));\n",
      "diagrams.push_back(Diagram(bsinks[1],bprops[4],std::vector<std::vector<int>>{{3, 2}, {2, 3}, {1, 0}, {0, 1}}));\n",
      "diagrams.push_back(Diagram(bsinks[1],bprops[4],std::vector<std::vector<int>>{{3, 2}, {2, 3}, {1, 1}, {0, 0}}));\n",
      "diagrams.push_back(Diagram(bsinks[1],bprops[4],std::vector<std::vector<int>>{{3, 1}, {2, 3}, {1, 2}, {0, 0}}));\n",
      "diagrams.push_back(Diagram(bsinks[1],bprops[4],std::vector<std::vector<int>>{{3, 1}, {2, 3}, {1, 0}, {0, 2}}));\n",
      "diagrams.push_back(Diagram(bsinks[1],bprops[4],std::vector<std::vector<int>>{{3, 1}, {2, 2}, {1, 0}, {0, 3}}));\n",
      "diagrams.push_back(Diagram(bsinks[1],bprops[4],std::vector<std::vector<int>>{{3, 1}, {2, 2}, {1, 3}, {0, 0}}));\n",
      "diagrams.push_back(Diagram(bsinks[1],bprops[4],std::vector<std::vector<int>>{{3, 1}, {2, 0}, {1, 3}, {0, 2}}));\n",
      "diagrams.push_back(Diagram(bsinks[1],bprops[4],std::vector<std::vector<int>>{{3, 1}, {2, 0}, {1, 2}, {0, 3}}));\n",
      "diagrams.push_back(Diagram(bsinks[1],bprops[4],std::vector<std::vector<int>>{{3, 0}, {2, 1}, {1, 2}, {0, 3}}));\n",
      "diagrams.push_back(Diagram(bsinks[1],bprops[4],std::vector<std::vector<int>>{{3, 0}, {2, 1}, {1, 3}, {0, 2}}));\n",
      "diagrams.push_back(Diagram(bsinks[1],bprops[4],std::vector<std::vector<int>>{{3, 0}, {2, 2}, {1, 3}, {0, 1}}));\n",
      "diagrams.push_back(Diagram(bsinks[1],bprops[4],std::vector<std::vector<int>>{{3, 0}, {2, 2}, {1, 1}, {0, 3}}));\n",
      "diagrams.push_back(Diagram(bsinks[1],bprops[4],std::vector<std::vector<int>>{{3, 0}, {2, 3}, {1, 1}, {0, 2}}));\n",
      "diagrams.push_back(Diagram(bsinks[1],bprops[4],std::vector<std::vector<int>>{{3, 0}, {2, 3}, {1, 2}, {0, 1}}));\n",
      "diagrams.push_back(Diagram(bsinks[2],bprops[4],std::vector<std::vector<int>>{{3, 3}, {2, 2}, {1, 1}, {0, 0}}));\n",
      "diagrams.push_back(Diagram(bsinks[2],bprops[4],std::vector<std::vector<int>>{{3, 3}, {2, 2}, {1, 0}, {0, 1}}));\n",
      "diagrams.push_back(Diagram(bsinks[2],bprops[4],std::vector<std::vector<int>>{{3, 3}, {2, 1}, {1, 0}, {0, 2}}));\n",
      "diagrams.push_back(Diagram(bsinks[2],bprops[4],std::vector<std::vector<int>>{{3, 3}, {2, 1}, {1, 2}, {0, 0}}));\n",
      "diagrams.push_back(Diagram(bsinks[2],bprops[4],std::vector<std::vector<int>>{{3, 3}, {2, 0}, {1, 2}, {0, 1}}));\n",
      "diagrams.push_back(Diagram(bsinks[2],bprops[4],std::vector<std::vector<int>>{{3, 3}, {2, 0}, {1, 1}, {0, 2}}));\n",
      "diagrams.push_back(Diagram(bsinks[2],bprops[4],std::vector<std::vector<int>>{{3, 2}, {2, 0}, {1, 1}, {0, 3}}));\n",
      "diagrams.push_back(Diagram(bsinks[2],bprops[4],std::vector<std::vector<int>>{{3, 2}, {2, 0}, {1, 3}, {0, 1}}));\n",
      "diagrams.push_back(Diagram(bsinks[2],bprops[4],std::vector<std::vector<int>>{{3, 2}, {2, 1}, {1, 3}, {0, 0}}));\n",
      "diagrams.push_back(Diagram(bsinks[2],bprops[4],std::vector<std::vector<int>>{{3, 2}, {2, 1}, {1, 0}, {0, 3}}));\n",
      "diagrams.push_back(Diagram(bsinks[2],bprops[4],std::vector<std::vector<int>>{{3, 2}, {2, 3}, {1, 0}, {0, 1}}));\n",
      "diagrams.push_back(Diagram(bsinks[2],bprops[4],std::vector<std::vector<int>>{{3, 2}, {2, 3}, {1, 1}, {0, 0}}));\n",
      "diagrams.push_back(Diagram(bsinks[2],bprops[4],std::vector<std::vector<int>>{{3, 1}, {2, 3}, {1, 2}, {0, 0}}));\n",
      "diagrams.push_back(Diagram(bsinks[2],bprops[4],std::vector<std::vector<int>>{{3, 1}, {2, 3}, {1, 0}, {0, 2}}));\n",
      "diagrams.push_back(Diagram(bsinks[2],bprops[4],std::vector<std::vector<int>>{{3, 1}, {2, 2}, {1, 0}, {0, 3}}));\n",
      "diagrams.push_back(Diagram(bsinks[2],bprops[4],std::vector<std::vector<int>>{{3, 1}, {2, 2}, {1, 3}, {0, 0}}));\n",
      "diagrams.push_back(Diagram(bsinks[2],bprops[4],std::vector<std::vector<int>>{{3, 1}, {2, 0}, {1, 3}, {0, 2}}));\n",
      "diagrams.push_back(Diagram(bsinks[2],bprops[4],std::vector<std::vector<int>>{{3, 1}, {2, 0}, {1, 2}, {0, 3}}));\n",
      "diagrams.push_back(Diagram(bsinks[2],bprops[4],std::vector<std::vector<int>>{{3, 0}, {2, 1}, {1, 2}, {0, 3}}));\n",
      "diagrams.push_back(Diagram(bsinks[2],bprops[4],std::vector<std::vector<int>>{{3, 0}, {2, 1}, {1, 3}, {0, 2}}));\n",
      "diagrams.push_back(Diagram(bsinks[2],bprops[4],std::vector<std::vector<int>>{{3, 0}, {2, 2}, {1, 3}, {0, 1}}));\n",
      "diagrams.push_back(Diagram(bsinks[2],bprops[4],std::vector<std::vector<int>>{{3, 0}, {2, 2}, {1, 1}, {0, 3}}));\n",
      "diagrams.push_back(Diagram(bsinks[2],bprops[4],std::vector<std::vector<int>>{{3, 0}, {2, 3}, {1, 1}, {0, 2}}));\n",
      "diagrams.push_back(Diagram(bsinks[2],bprops[4],std::vector<std::vector<int>>{{3, 0}, {2, 3}, {1, 2}, {0, 1}}));\n",
      "diagrams.push_back(Diagram(bsinks[3],bprops[4],std::vector<std::vector<int>>{{3, 3}, {2, 2}, {1, 1}, {0, 0}}));\n",
      "diagrams.push_back(Diagram(bsinks[3],bprops[4],std::vector<std::vector<int>>{{3, 3}, {2, 2}, {1, 0}, {0, 1}}));\n",
      "diagrams.push_back(Diagram(bsinks[3],bprops[4],std::vector<std::vector<int>>{{3, 3}, {2, 1}, {1, 0}, {0, 2}}));\n",
      "diagrams.push_back(Diagram(bsinks[3],bprops[4],std::vector<std::vector<int>>{{3, 3}, {2, 1}, {1, 2}, {0, 0}}));\n",
      "diagrams.push_back(Diagram(bsinks[3],bprops[4],std::vector<std::vector<int>>{{3, 3}, {2, 0}, {1, 2}, {0, 1}}));\n",
      "diagrams.push_back(Diagram(bsinks[3],bprops[4],std::vector<std::vector<int>>{{3, 3}, {2, 0}, {1, 1}, {0, 2}}));\n",
      "diagrams.push_back(Diagram(bsinks[3],bprops[4],std::vector<std::vector<int>>{{3, 2}, {2, 0}, {1, 1}, {0, 3}}));\n",
      "diagrams.push_back(Diagram(bsinks[3],bprops[4],std::vector<std::vector<int>>{{3, 2}, {2, 0}, {1, 3}, {0, 1}}));\n",
      "diagrams.push_back(Diagram(bsinks[3],bprops[4],std::vector<std::vector<int>>{{3, 2}, {2, 1}, {1, 3}, {0, 0}}));\n",
      "diagrams.push_back(Diagram(bsinks[3],bprops[4],std::vector<std::vector<int>>{{3, 2}, {2, 1}, {1, 0}, {0, 3}}));\n",
      "diagrams.push_back(Diagram(bsinks[3],bprops[4],std::vector<std::vector<int>>{{3, 2}, {2, 3}, {1, 0}, {0, 1}}));\n",
      "diagrams.push_back(Diagram(bsinks[3],bprops[4],std::vector<std::vector<int>>{{3, 2}, {2, 3}, {1, 1}, {0, 0}}));\n",
      "diagrams.push_back(Diagram(bsinks[3],bprops[4],std::vector<std::vector<int>>{{3, 1}, {2, 3}, {1, 2}, {0, 0}}));\n",
      "diagrams.push_back(Diagram(bsinks[3],bprops[4],std::vector<std::vector<int>>{{3, 1}, {2, 3}, {1, 0}, {0, 2}}));\n",
      "diagrams.push_back(Diagram(bsinks[3],bprops[4],std::vector<std::vector<int>>{{3, 1}, {2, 2}, {1, 0}, {0, 3}}));\n",
      "diagrams.push_back(Diagram(bsinks[3],bprops[4],std::vector<std::vector<int>>{{3, 1}, {2, 2}, {1, 3}, {0, 0}}));\n",
      "diagrams.push_back(Diagram(bsinks[3],bprops[4],std::vector<std::vector<int>>{{3, 1}, {2, 0}, {1, 3}, {0, 2}}));\n",
      "diagrams.push_back(Diagram(bsinks[3],bprops[4],std::vector<std::vector<int>>{{3, 1}, {2, 0}, {1, 2}, {0, 3}}));\n",
      "diagrams.push_back(Diagram(bsinks[3],bprops[4],std::vector<std::vector<int>>{{3, 0}, {2, 1}, {1, 2}, {0, 3}}));\n",
      "diagrams.push_back(Diagram(bsinks[3],bprops[4],std::vector<std::vector<int>>{{3, 0}, {2, 1}, {1, 3}, {0, 2}}));\n",
      "diagrams.push_back(Diagram(bsinks[3],bprops[4],std::vector<std::vector<int>>{{3, 0}, {2, 2}, {1, 3}, {0, 1}}));\n",
      "diagrams.push_back(Diagram(bsinks[3],bprops[4],std::vector<std::vector<int>>{{3, 0}, {2, 2}, {1, 1}, {0, 3}}));\n",
      "diagrams.push_back(Diagram(bsinks[3],bprops[4],std::vector<std::vector<int>>{{3, 0}, {2, 3}, {1, 1}, {0, 2}}));\n",
      "diagrams.push_back(Diagram(bsinks[3],bprops[4],std::vector<std::vector<int>>{{3, 0}, {2, 3}, {1, 2}, {0, 1}}));\n",
      "diagrams.push_back(Diagram(bprops[4],bsinks[4],std::vector<std::vector<int>>{{3, 3}, {2, 2}, {1, 1}, {0, 0}}));\n",
      "diagrams.push_back(Diagram(bprops[4],bsinks[4],std::vector<std::vector<int>>{{3, 3}, {2, 2}, {1, 0}, {0, 1}}));\n",
      "diagrams.push_back(Diagram(bprops[4],bsinks[4],std::vector<std::vector<int>>{{3, 3}, {2, 0}, {1, 2}, {0, 1}}));\n",
      "diagrams.push_back(Diagram(bprops[4],bsinks[4],std::vector<std::vector<int>>{{3, 3}, {2, 1}, {1, 2}, {0, 0}}));\n",
      "diagrams.push_back(Diagram(bprops[4],bsinks[4],std::vector<std::vector<int>>{{3, 3}, {2, 1}, {1, 0}, {0, 2}}));\n",
      "diagrams.push_back(Diagram(bprops[4],bsinks[4],std::vector<std::vector<int>>{{3, 3}, {2, 0}, {1, 1}, {0, 2}}));\n",
      "diagrams.push_back(Diagram(bprops[4],bsinks[4],std::vector<std::vector<int>>{{3, 0}, {2, 3}, {1, 1}, {0, 2}}));\n",
      "diagrams.push_back(Diagram(bprops[4],bsinks[4],std::vector<std::vector<int>>{{3, 1}, {2, 3}, {1, 0}, {0, 2}}));\n",
      "diagrams.push_back(Diagram(bprops[4],bsinks[4],std::vector<std::vector<int>>{{3, 1}, {2, 3}, {1, 2}, {0, 0}}));\n",
      "diagrams.push_back(Diagram(bprops[4],bsinks[4],std::vector<std::vector<int>>{{3, 0}, {2, 3}, {1, 2}, {0, 1}}));\n",
      "diagrams.push_back(Diagram(bprops[4],bsinks[4],std::vector<std::vector<int>>{{3, 2}, {2, 3}, {1, 0}, {0, 1}}));\n",
      "diagrams.push_back(Diagram(bprops[4],bsinks[4],std::vector<std::vector<int>>{{3, 2}, {2, 3}, {1, 1}, {0, 0}}));\n",
      "diagrams.push_back(Diagram(bprops[4],bsinks[4],std::vector<std::vector<int>>{{3, 2}, {2, 1}, {1, 3}, {0, 0}}));\n",
      "diagrams.push_back(Diagram(bprops[4],bsinks[4],std::vector<std::vector<int>>{{3, 2}, {2, 0}, {1, 3}, {0, 1}}));\n",
      "diagrams.push_back(Diagram(bprops[4],bsinks[4],std::vector<std::vector<int>>{{3, 0}, {2, 2}, {1, 3}, {0, 1}}));\n",
      "diagrams.push_back(Diagram(bprops[4],bsinks[4],std::vector<std::vector<int>>{{3, 1}, {2, 2}, {1, 3}, {0, 0}}));\n",
      "diagrams.push_back(Diagram(bprops[4],bsinks[4],std::vector<std::vector<int>>{{3, 1}, {2, 0}, {1, 3}, {0, 2}}));\n",
      "diagrams.push_back(Diagram(bprops[4],bsinks[4],std::vector<std::vector<int>>{{3, 0}, {2, 1}, {1, 3}, {0, 2}}));\n",
      "diagrams.push_back(Diagram(bprops[4],bsinks[4],std::vector<std::vector<int>>{{3, 0}, {2, 1}, {1, 2}, {0, 3}}));\n",
      "diagrams.push_back(Diagram(bprops[4],bsinks[4],std::vector<std::vector<int>>{{3, 1}, {2, 0}, {1, 2}, {0, 3}}));\n",
      "diagrams.push_back(Diagram(bprops[4],bsinks[4],std::vector<std::vector<int>>{{3, 1}, {2, 2}, {1, 0}, {0, 3}}));\n",
      "diagrams.push_back(Diagram(bprops[4],bsinks[4],std::vector<std::vector<int>>{{3, 0}, {2, 2}, {1, 1}, {0, 3}}));\n",
      "diagrams.push_back(Diagram(bprops[4],bsinks[4],std::vector<std::vector<int>>{{3, 2}, {2, 0}, {1, 1}, {0, 3}}));\n",
      "diagrams.push_back(Diagram(bprops[4],bsinks[4],std::vector<std::vector<int>>{{3, 2}, {2, 1}, {1, 0}, {0, 3}}));\n",
      "diagrams.push_back(Diagram(bprops[4],bsinks[5],std::vector<std::vector<int>>{{3, 3}, {2, 2}, {1, 1}, {0, 0}}));\n",
      "diagrams.push_back(Diagram(bprops[4],bsinks[5],std::vector<std::vector<int>>{{3, 3}, {2, 2}, {1, 0}, {0, 1}}));\n",
      "diagrams.push_back(Diagram(bprops[4],bsinks[5],std::vector<std::vector<int>>{{3, 3}, {2, 0}, {1, 2}, {0, 1}}));\n",
      "diagrams.push_back(Diagram(bprops[4],bsinks[5],std::vector<std::vector<int>>{{3, 3}, {2, 1}, {1, 2}, {0, 0}}));\n",
      "diagrams.push_back(Diagram(bprops[4],bsinks[5],std::vector<std::vector<int>>{{3, 3}, {2, 1}, {1, 0}, {0, 2}}));\n",
      "diagrams.push_back(Diagram(bprops[4],bsinks[5],std::vector<std::vector<int>>{{3, 3}, {2, 0}, {1, 1}, {0, 2}}));\n",
      "diagrams.push_back(Diagram(bprops[4],bsinks[5],std::vector<std::vector<int>>{{3, 0}, {2, 3}, {1, 1}, {0, 2}}));\n",
      "diagrams.push_back(Diagram(bprops[4],bsinks[5],std::vector<std::vector<int>>{{3, 1}, {2, 3}, {1, 0}, {0, 2}}));\n",
      "diagrams.push_back(Diagram(bprops[4],bsinks[5],std::vector<std::vector<int>>{{3, 1}, {2, 3}, {1, 2}, {0, 0}}));\n",
      "diagrams.push_back(Diagram(bprops[4],bsinks[5],std::vector<std::vector<int>>{{3, 0}, {2, 3}, {1, 2}, {0, 1}}));\n",
      "diagrams.push_back(Diagram(bprops[4],bsinks[5],std::vector<std::vector<int>>{{3, 2}, {2, 3}, {1, 0}, {0, 1}}));\n",
      "diagrams.push_back(Diagram(bprops[4],bsinks[5],std::vector<std::vector<int>>{{3, 2}, {2, 3}, {1, 1}, {0, 0}}));\n",
      "diagrams.push_back(Diagram(bprops[4],bsinks[5],std::vector<std::vector<int>>{{3, 2}, {2, 1}, {1, 3}, {0, 0}}));\n",
      "diagrams.push_back(Diagram(bprops[4],bsinks[5],std::vector<std::vector<int>>{{3, 2}, {2, 0}, {1, 3}, {0, 1}}));\n",
      "diagrams.push_back(Diagram(bprops[4],bsinks[5],std::vector<std::vector<int>>{{3, 0}, {2, 2}, {1, 3}, {0, 1}}));\n",
      "diagrams.push_back(Diagram(bprops[4],bsinks[5],std::vector<std::vector<int>>{{3, 1}, {2, 2}, {1, 3}, {0, 0}}));\n",
      "diagrams.push_back(Diagram(bprops[4],bsinks[5],std::vector<std::vector<int>>{{3, 1}, {2, 0}, {1, 3}, {0, 2}}));\n",
      "diagrams.push_back(Diagram(bprops[4],bsinks[5],std::vector<std::vector<int>>{{3, 0}, {2, 1}, {1, 3}, {0, 2}}));\n",
      "diagrams.push_back(Diagram(bprops[4],bsinks[5],std::vector<std::vector<int>>{{3, 0}, {2, 1}, {1, 2}, {0, 3}}));\n",
      "diagrams.push_back(Diagram(bprops[4],bsinks[5],std::vector<std::vector<int>>{{3, 1}, {2, 0}, {1, 2}, {0, 3}}));\n",
      "diagrams.push_back(Diagram(bprops[4],bsinks[5],std::vector<std::vector<int>>{{3, 1}, {2, 2}, {1, 0}, {0, 3}}));\n",
      "diagrams.push_back(Diagram(bprops[4],bsinks[5],std::vector<std::vector<int>>{{3, 0}, {2, 2}, {1, 1}, {0, 3}}));\n",
      "diagrams.push_back(Diagram(bprops[4],bsinks[5],std::vector<std::vector<int>>{{3, 2}, {2, 0}, {1, 1}, {0, 3}}));\n",
      "diagrams.push_back(Diagram(bprops[4],bsinks[5],std::vector<std::vector<int>>{{3, 2}, {2, 1}, {1, 0}, {0, 3}}));\n",
      "diagrams.push_back(Diagram(bprops[4],bsinks[6],std::vector<std::vector<int>>{{3, 3}, {2, 2}, {1, 1}, {0, 0}}));\n",
      "diagrams.push_back(Diagram(bprops[4],bsinks[6],std::vector<std::vector<int>>{{3, 3}, {2, 2}, {1, 0}, {0, 1}}));\n",
      "diagrams.push_back(Diagram(bprops[4],bsinks[6],std::vector<std::vector<int>>{{3, 3}, {2, 0}, {1, 2}, {0, 1}}));\n",
      "diagrams.push_back(Diagram(bprops[4],bsinks[6],std::vector<std::vector<int>>{{3, 3}, {2, 1}, {1, 2}, {0, 0}}));\n",
      "diagrams.push_back(Diagram(bprops[4],bsinks[6],std::vector<std::vector<int>>{{3, 3}, {2, 1}, {1, 0}, {0, 2}}));\n",
      "diagrams.push_back(Diagram(bprops[4],bsinks[6],std::vector<std::vector<int>>{{3, 3}, {2, 0}, {1, 1}, {0, 2}}));\n",
      "diagrams.push_back(Diagram(bprops[4],bsinks[6],std::vector<std::vector<int>>{{3, 0}, {2, 3}, {1, 1}, {0, 2}}));\n",
      "diagrams.push_back(Diagram(bprops[4],bsinks[6],std::vector<std::vector<int>>{{3, 1}, {2, 3}, {1, 0}, {0, 2}}));\n",
      "diagrams.push_back(Diagram(bprops[4],bsinks[6],std::vector<std::vector<int>>{{3, 1}, {2, 3}, {1, 2}, {0, 0}}));\n",
      "diagrams.push_back(Diagram(bprops[4],bsinks[6],std::vector<std::vector<int>>{{3, 0}, {2, 3}, {1, 2}, {0, 1}}));\n",
      "diagrams.push_back(Diagram(bprops[4],bsinks[6],std::vector<std::vector<int>>{{3, 2}, {2, 3}, {1, 0}, {0, 1}}));\n",
      "diagrams.push_back(Diagram(bprops[4],bsinks[6],std::vector<std::vector<int>>{{3, 2}, {2, 3}, {1, 1}, {0, 0}}));\n",
      "diagrams.push_back(Diagram(bprops[4],bsinks[6],std::vector<std::vector<int>>{{3, 2}, {2, 1}, {1, 3}, {0, 0}}));\n",
      "diagrams.push_back(Diagram(bprops[4],bsinks[6],std::vector<std::vector<int>>{{3, 2}, {2, 0}, {1, 3}, {0, 1}}));\n",
      "diagrams.push_back(Diagram(bprops[4],bsinks[6],std::vector<std::vector<int>>{{3, 0}, {2, 2}, {1, 3}, {0, 1}}));\n",
      "diagrams.push_back(Diagram(bprops[4],bsinks[6],std::vector<std::vector<int>>{{3, 1}, {2, 2}, {1, 3}, {0, 0}}));\n",
      "diagrams.push_back(Diagram(bprops[4],bsinks[6],std::vector<std::vector<int>>{{3, 1}, {2, 0}, {1, 3}, {0, 2}}));\n",
      "diagrams.push_back(Diagram(bprops[4],bsinks[6],std::vector<std::vector<int>>{{3, 0}, {2, 1}, {1, 3}, {0, 2}}));\n",
      "diagrams.push_back(Diagram(bprops[4],bsinks[6],std::vector<std::vector<int>>{{3, 0}, {2, 1}, {1, 2}, {0, 3}}));\n",
      "diagrams.push_back(Diagram(bprops[4],bsinks[6],std::vector<std::vector<int>>{{3, 1}, {2, 0}, {1, 2}, {0, 3}}));\n",
      "diagrams.push_back(Diagram(bprops[4],bsinks[6],std::vector<std::vector<int>>{{3, 1}, {2, 2}, {1, 0}, {0, 3}}));\n",
      "diagrams.push_back(Diagram(bprops[4],bsinks[6],std::vector<std::vector<int>>{{3, 0}, {2, 2}, {1, 1}, {0, 3}}));\n",
      "diagrams.push_back(Diagram(bprops[4],bsinks[6],std::vector<std::vector<int>>{{3, 2}, {2, 0}, {1, 1}, {0, 3}}));\n",
      "diagrams.push_back(Diagram(bprops[4],bsinks[6],std::vector<std::vector<int>>{{3, 2}, {2, 1}, {1, 0}, {0, 3}}));\n",
      "diagrams.push_back(Diagram(bprops[4],bsinks[7],std::vector<std::vector<int>>{{3, 3}, {2, 2}, {1, 1}, {0, 0}}));\n",
      "diagrams.push_back(Diagram(bprops[4],bsinks[7],std::vector<std::vector<int>>{{3, 3}, {2, 2}, {1, 0}, {0, 1}}));\n",
      "diagrams.push_back(Diagram(bprops[4],bsinks[7],std::vector<std::vector<int>>{{3, 3}, {2, 0}, {1, 2}, {0, 1}}));\n",
      "diagrams.push_back(Diagram(bprops[4],bsinks[7],std::vector<std::vector<int>>{{3, 3}, {2, 1}, {1, 2}, {0, 0}}));\n",
      "diagrams.push_back(Diagram(bprops[4],bsinks[7],std::vector<std::vector<int>>{{3, 3}, {2, 1}, {1, 0}, {0, 2}}));\n",
      "diagrams.push_back(Diagram(bprops[4],bsinks[7],std::vector<std::vector<int>>{{3, 3}, {2, 0}, {1, 1}, {0, 2}}));\n",
      "diagrams.push_back(Diagram(bprops[4],bsinks[7],std::vector<std::vector<int>>{{3, 0}, {2, 3}, {1, 1}, {0, 2}}));\n",
      "diagrams.push_back(Diagram(bprops[4],bsinks[7],std::vector<std::vector<int>>{{3, 1}, {2, 3}, {1, 0}, {0, 2}}));\n",
      "diagrams.push_back(Diagram(bprops[4],bsinks[7],std::vector<std::vector<int>>{{3, 1}, {2, 3}, {1, 2}, {0, 0}}));\n",
      "diagrams.push_back(Diagram(bprops[4],bsinks[7],std::vector<std::vector<int>>{{3, 0}, {2, 3}, {1, 2}, {0, 1}}));\n",
      "diagrams.push_back(Diagram(bprops[4],bsinks[7],std::vector<std::vector<int>>{{3, 2}, {2, 3}, {1, 0}, {0, 1}}));\n",
      "diagrams.push_back(Diagram(bprops[4],bsinks[7],std::vector<std::vector<int>>{{3, 2}, {2, 3}, {1, 1}, {0, 0}}));\n",
      "diagrams.push_back(Diagram(bprops[4],bsinks[7],std::vector<std::vector<int>>{{3, 2}, {2, 1}, {1, 3}, {0, 0}}));\n",
      "diagrams.push_back(Diagram(bprops[4],bsinks[7],std::vector<std::vector<int>>{{3, 2}, {2, 0}, {1, 3}, {0, 1}}));\n",
      "diagrams.push_back(Diagram(bprops[4],bsinks[7],std::vector<std::vector<int>>{{3, 0}, {2, 2}, {1, 3}, {0, 1}}));\n",
      "diagrams.push_back(Diagram(bprops[4],bsinks[7],std::vector<std::vector<int>>{{3, 1}, {2, 2}, {1, 3}, {0, 0}}));\n",
      "diagrams.push_back(Diagram(bprops[4],bsinks[7],std::vector<std::vector<int>>{{3, 1}, {2, 0}, {1, 3}, {0, 2}}));\n",
      "diagrams.push_back(Diagram(bprops[4],bsinks[7],std::vector<std::vector<int>>{{3, 0}, {2, 1}, {1, 3}, {0, 2}}));\n",
      "diagrams.push_back(Diagram(bprops[4],bsinks[7],std::vector<std::vector<int>>{{3, 0}, {2, 1}, {1, 2}, {0, 3}}));\n",
      "diagrams.push_back(Diagram(bprops[4],bsinks[7],std::vector<std::vector<int>>{{3, 1}, {2, 0}, {1, 2}, {0, 3}}));\n",
      "diagrams.push_back(Diagram(bprops[4],bsinks[7],std::vector<std::vector<int>>{{3, 1}, {2, 2}, {1, 0}, {0, 3}}));\n",
      "diagrams.push_back(Diagram(bprops[4],bsinks[7],std::vector<std::vector<int>>{{3, 0}, {2, 2}, {1, 1}, {0, 3}}));\n",
      "diagrams.push_back(Diagram(bprops[4],bsinks[7],std::vector<std::vector<int>>{{3, 2}, {2, 0}, {1, 1}, {0, 3}}));\n",
      "diagrams.push_back(Diagram(bprops[4],bsinks[7],std::vector<std::vector<int>>{{3, 2}, {2, 1}, {1, 0}, {0, 3}}));\n",
      "diagrams.push_back(Diagram(bprops[5],bsinks[0],std::vector<std::vector<int>>{{3, 3}, {2, 2}, {1, 1}, {0, 0}}));\n",
      "diagrams.push_back(Diagram(bprops[5],bsinks[0],std::vector<std::vector<int>>{{3, 3}, {2, 2}, {1, 0}, {0, 1}}));\n",
      "diagrams.push_back(Diagram(bprops[5],bsinks[0],std::vector<std::vector<int>>{{3, 3}, {2, 0}, {1, 2}, {0, 1}}));\n",
      "diagrams.push_back(Diagram(bprops[5],bsinks[0],std::vector<std::vector<int>>{{3, 3}, {2, 1}, {1, 2}, {0, 0}}));\n",
      "diagrams.push_back(Diagram(bprops[5],bsinks[0],std::vector<std::vector<int>>{{3, 3}, {2, 1}, {1, 0}, {0, 2}}));\n",
      "diagrams.push_back(Diagram(bprops[5],bsinks[0],std::vector<std::vector<int>>{{3, 3}, {2, 0}, {1, 1}, {0, 2}}));\n",
      "diagrams.push_back(Diagram(bprops[5],bsinks[0],std::vector<std::vector<int>>{{3, 0}, {2, 3}, {1, 1}, {0, 2}}));\n",
      "diagrams.push_back(Diagram(bprops[5],bsinks[0],std::vector<std::vector<int>>{{3, 1}, {2, 3}, {1, 0}, {0, 2}}));\n",
      "diagrams.push_back(Diagram(bprops[5],bsinks[0],std::vector<std::vector<int>>{{3, 1}, {2, 3}, {1, 2}, {0, 0}}));\n",
      "diagrams.push_back(Diagram(bprops[5],bsinks[0],std::vector<std::vector<int>>{{3, 0}, {2, 3}, {1, 2}, {0, 1}}));\n",
      "diagrams.push_back(Diagram(bprops[5],bsinks[0],std::vector<std::vector<int>>{{3, 2}, {2, 3}, {1, 0}, {0, 1}}));\n",
      "diagrams.push_back(Diagram(bprops[5],bsinks[0],std::vector<std::vector<int>>{{3, 2}, {2, 3}, {1, 1}, {0, 0}}));\n",
      "diagrams.push_back(Diagram(bprops[5],bsinks[0],std::vector<std::vector<int>>{{3, 2}, {2, 1}, {1, 3}, {0, 0}}));\n",
      "diagrams.push_back(Diagram(bprops[5],bsinks[0],std::vector<std::vector<int>>{{3, 2}, {2, 0}, {1, 3}, {0, 1}}));\n",
      "diagrams.push_back(Diagram(bprops[5],bsinks[0],std::vector<std::vector<int>>{{3, 0}, {2, 2}, {1, 3}, {0, 1}}));\n",
      "diagrams.push_back(Diagram(bprops[5],bsinks[0],std::vector<std::vector<int>>{{3, 1}, {2, 2}, {1, 3}, {0, 0}}));\n",
      "diagrams.push_back(Diagram(bprops[5],bsinks[0],std::vector<std::vector<int>>{{3, 1}, {2, 0}, {1, 3}, {0, 2}}));\n",
      "diagrams.push_back(Diagram(bprops[5],bsinks[0],std::vector<std::vector<int>>{{3, 0}, {2, 1}, {1, 3}, {0, 2}}));\n",
      "diagrams.push_back(Diagram(bprops[5],bsinks[0],std::vector<std::vector<int>>{{3, 0}, {2, 1}, {1, 2}, {0, 3}}));\n",
      "diagrams.push_back(Diagram(bprops[5],bsinks[0],std::vector<std::vector<int>>{{3, 1}, {2, 0}, {1, 2}, {0, 3}}));\n",
      "diagrams.push_back(Diagram(bprops[5],bsinks[0],std::vector<std::vector<int>>{{3, 1}, {2, 2}, {1, 0}, {0, 3}}));\n",
      "diagrams.push_back(Diagram(bprops[5],bsinks[0],std::vector<std::vector<int>>{{3, 0}, {2, 2}, {1, 1}, {0, 3}}));\n",
      "diagrams.push_back(Diagram(bprops[5],bsinks[0],std::vector<std::vector<int>>{{3, 2}, {2, 0}, {1, 1}, {0, 3}}));\n",
      "diagrams.push_back(Diagram(bprops[5],bsinks[0],std::vector<std::vector<int>>{{3, 2}, {2, 1}, {1, 0}, {0, 3}}));\n",
      "diagrams.push_back(Diagram(bsinks[1],bprops[5],std::vector<std::vector<int>>{{3, 3}, {2, 2}, {1, 1}, {0, 0}}));\n",
      "diagrams.push_back(Diagram(bsinks[1],bprops[5],std::vector<std::vector<int>>{{3, 3}, {2, 2}, {1, 0}, {0, 1}}));\n",
      "diagrams.push_back(Diagram(bsinks[1],bprops[5],std::vector<std::vector<int>>{{3, 3}, {2, 1}, {1, 0}, {0, 2}}));\n",
      "diagrams.push_back(Diagram(bsinks[1],bprops[5],std::vector<std::vector<int>>{{3, 3}, {2, 1}, {1, 2}, {0, 0}}));\n",
      "diagrams.push_back(Diagram(bsinks[1],bprops[5],std::vector<std::vector<int>>{{3, 3}, {2, 0}, {1, 2}, {0, 1}}));\n",
      "diagrams.push_back(Diagram(bsinks[1],bprops[5],std::vector<std::vector<int>>{{3, 3}, {2, 0}, {1, 1}, {0, 2}}));\n",
      "diagrams.push_back(Diagram(bsinks[1],bprops[5],std::vector<std::vector<int>>{{3, 2}, {2, 0}, {1, 1}, {0, 3}}));\n",
      "diagrams.push_back(Diagram(bsinks[1],bprops[5],std::vector<std::vector<int>>{{3, 2}, {2, 0}, {1, 3}, {0, 1}}));\n",
      "diagrams.push_back(Diagram(bsinks[1],bprops[5],std::vector<std::vector<int>>{{3, 2}, {2, 1}, {1, 3}, {0, 0}}));\n",
      "diagrams.push_back(Diagram(bsinks[1],bprops[5],std::vector<std::vector<int>>{{3, 2}, {2, 1}, {1, 0}, {0, 3}}));\n",
      "diagrams.push_back(Diagram(bsinks[1],bprops[5],std::vector<std::vector<int>>{{3, 2}, {2, 3}, {1, 0}, {0, 1}}));\n",
      "diagrams.push_back(Diagram(bsinks[1],bprops[5],std::vector<std::vector<int>>{{3, 2}, {2, 3}, {1, 1}, {0, 0}}));\n",
      "diagrams.push_back(Diagram(bsinks[1],bprops[5],std::vector<std::vector<int>>{{3, 1}, {2, 3}, {1, 2}, {0, 0}}));\n",
      "diagrams.push_back(Diagram(bsinks[1],bprops[5],std::vector<std::vector<int>>{{3, 1}, {2, 3}, {1, 0}, {0, 2}}));\n",
      "diagrams.push_back(Diagram(bsinks[1],bprops[5],std::vector<std::vector<int>>{{3, 1}, {2, 2}, {1, 0}, {0, 3}}));\n",
      "diagrams.push_back(Diagram(bsinks[1],bprops[5],std::vector<std::vector<int>>{{3, 1}, {2, 2}, {1, 3}, {0, 0}}));\n",
      "diagrams.push_back(Diagram(bsinks[1],bprops[5],std::vector<std::vector<int>>{{3, 1}, {2, 0}, {1, 3}, {0, 2}}));\n",
      "diagrams.push_back(Diagram(bsinks[1],bprops[5],std::vector<std::vector<int>>{{3, 1}, {2, 0}, {1, 2}, {0, 3}}));\n",
      "diagrams.push_back(Diagram(bsinks[1],bprops[5],std::vector<std::vector<int>>{{3, 0}, {2, 1}, {1, 2}, {0, 3}}));\n",
      "diagrams.push_back(Diagram(bsinks[1],bprops[5],std::vector<std::vector<int>>{{3, 0}, {2, 1}, {1, 3}, {0, 2}}));\n",
      "diagrams.push_back(Diagram(bsinks[1],bprops[5],std::vector<std::vector<int>>{{3, 0}, {2, 2}, {1, 3}, {0, 1}}));\n",
      "diagrams.push_back(Diagram(bsinks[1],bprops[5],std::vector<std::vector<int>>{{3, 0}, {2, 2}, {1, 1}, {0, 3}}));\n",
      "diagrams.push_back(Diagram(bsinks[1],bprops[5],std::vector<std::vector<int>>{{3, 0}, {2, 3}, {1, 1}, {0, 2}}));\n",
      "diagrams.push_back(Diagram(bsinks[1],bprops[5],std::vector<std::vector<int>>{{3, 0}, {2, 3}, {1, 2}, {0, 1}}));\n",
      "diagrams.push_back(Diagram(bsinks[2],bprops[5],std::vector<std::vector<int>>{{3, 3}, {2, 2}, {1, 1}, {0, 0}}));\n",
      "diagrams.push_back(Diagram(bsinks[2],bprops[5],std::vector<std::vector<int>>{{3, 3}, {2, 2}, {1, 0}, {0, 1}}));\n",
      "diagrams.push_back(Diagram(bsinks[2],bprops[5],std::vector<std::vector<int>>{{3, 3}, {2, 1}, {1, 0}, {0, 2}}));\n",
      "diagrams.push_back(Diagram(bsinks[2],bprops[5],std::vector<std::vector<int>>{{3, 3}, {2, 1}, {1, 2}, {0, 0}}));\n",
      "diagrams.push_back(Diagram(bsinks[2],bprops[5],std::vector<std::vector<int>>{{3, 3}, {2, 0}, {1, 2}, {0, 1}}));\n",
      "diagrams.push_back(Diagram(bsinks[2],bprops[5],std::vector<std::vector<int>>{{3, 3}, {2, 0}, {1, 1}, {0, 2}}));\n",
      "diagrams.push_back(Diagram(bsinks[2],bprops[5],std::vector<std::vector<int>>{{3, 2}, {2, 0}, {1, 1}, {0, 3}}));\n",
      "diagrams.push_back(Diagram(bsinks[2],bprops[5],std::vector<std::vector<int>>{{3, 2}, {2, 0}, {1, 3}, {0, 1}}));\n",
      "diagrams.push_back(Diagram(bsinks[2],bprops[5],std::vector<std::vector<int>>{{3, 2}, {2, 1}, {1, 3}, {0, 0}}));\n",
      "diagrams.push_back(Diagram(bsinks[2],bprops[5],std::vector<std::vector<int>>{{3, 2}, {2, 1}, {1, 0}, {0, 3}}));\n",
      "diagrams.push_back(Diagram(bsinks[2],bprops[5],std::vector<std::vector<int>>{{3, 2}, {2, 3}, {1, 0}, {0, 1}}));\n",
      "diagrams.push_back(Diagram(bsinks[2],bprops[5],std::vector<std::vector<int>>{{3, 2}, {2, 3}, {1, 1}, {0, 0}}));\n",
      "diagrams.push_back(Diagram(bsinks[2],bprops[5],std::vector<std::vector<int>>{{3, 1}, {2, 3}, {1, 2}, {0, 0}}));\n",
      "diagrams.push_back(Diagram(bsinks[2],bprops[5],std::vector<std::vector<int>>{{3, 1}, {2, 3}, {1, 0}, {0, 2}}));\n",
      "diagrams.push_back(Diagram(bsinks[2],bprops[5],std::vector<std::vector<int>>{{3, 1}, {2, 2}, {1, 0}, {0, 3}}));\n",
      "diagrams.push_back(Diagram(bsinks[2],bprops[5],std::vector<std::vector<int>>{{3, 1}, {2, 2}, {1, 3}, {0, 0}}));\n",
      "diagrams.push_back(Diagram(bsinks[2],bprops[5],std::vector<std::vector<int>>{{3, 1}, {2, 0}, {1, 3}, {0, 2}}));\n",
      "diagrams.push_back(Diagram(bsinks[2],bprops[5],std::vector<std::vector<int>>{{3, 1}, {2, 0}, {1, 2}, {0, 3}}));\n",
      "diagrams.push_back(Diagram(bsinks[2],bprops[5],std::vector<std::vector<int>>{{3, 0}, {2, 1}, {1, 2}, {0, 3}}));\n",
      "diagrams.push_back(Diagram(bsinks[2],bprops[5],std::vector<std::vector<int>>{{3, 0}, {2, 1}, {1, 3}, {0, 2}}));\n",
      "diagrams.push_back(Diagram(bsinks[2],bprops[5],std::vector<std::vector<int>>{{3, 0}, {2, 2}, {1, 3}, {0, 1}}));\n",
      "diagrams.push_back(Diagram(bsinks[2],bprops[5],std::vector<std::vector<int>>{{3, 0}, {2, 2}, {1, 1}, {0, 3}}));\n",
      "diagrams.push_back(Diagram(bsinks[2],bprops[5],std::vector<std::vector<int>>{{3, 0}, {2, 3}, {1, 1}, {0, 2}}));\n",
      "diagrams.push_back(Diagram(bsinks[2],bprops[5],std::vector<std::vector<int>>{{3, 0}, {2, 3}, {1, 2}, {0, 1}}));\n",
      "diagrams.push_back(Diagram(bsinks[3],bprops[5],std::vector<std::vector<int>>{{3, 3}, {2, 2}, {1, 1}, {0, 0}}));\n",
      "diagrams.push_back(Diagram(bsinks[3],bprops[5],std::vector<std::vector<int>>{{3, 3}, {2, 2}, {1, 0}, {0, 1}}));\n",
      "diagrams.push_back(Diagram(bsinks[3],bprops[5],std::vector<std::vector<int>>{{3, 3}, {2, 1}, {1, 0}, {0, 2}}));\n",
      "diagrams.push_back(Diagram(bsinks[3],bprops[5],std::vector<std::vector<int>>{{3, 3}, {2, 1}, {1, 2}, {0, 0}}));\n",
      "diagrams.push_back(Diagram(bsinks[3],bprops[5],std::vector<std::vector<int>>{{3, 3}, {2, 0}, {1, 2}, {0, 1}}));\n",
      "diagrams.push_back(Diagram(bsinks[3],bprops[5],std::vector<std::vector<int>>{{3, 3}, {2, 0}, {1, 1}, {0, 2}}));\n",
      "diagrams.push_back(Diagram(bsinks[3],bprops[5],std::vector<std::vector<int>>{{3, 2}, {2, 0}, {1, 1}, {0, 3}}));\n",
      "diagrams.push_back(Diagram(bsinks[3],bprops[5],std::vector<std::vector<int>>{{3, 2}, {2, 0}, {1, 3}, {0, 1}}));\n",
      "diagrams.push_back(Diagram(bsinks[3],bprops[5],std::vector<std::vector<int>>{{3, 2}, {2, 1}, {1, 3}, {0, 0}}));\n",
      "diagrams.push_back(Diagram(bsinks[3],bprops[5],std::vector<std::vector<int>>{{3, 2}, {2, 1}, {1, 0}, {0, 3}}));\n",
      "diagrams.push_back(Diagram(bsinks[3],bprops[5],std::vector<std::vector<int>>{{3, 2}, {2, 3}, {1, 0}, {0, 1}}));\n",
      "diagrams.push_back(Diagram(bsinks[3],bprops[5],std::vector<std::vector<int>>{{3, 2}, {2, 3}, {1, 1}, {0, 0}}));\n",
      "diagrams.push_back(Diagram(bsinks[3],bprops[5],std::vector<std::vector<int>>{{3, 1}, {2, 3}, {1, 2}, {0, 0}}));\n",
      "diagrams.push_back(Diagram(bsinks[3],bprops[5],std::vector<std::vector<int>>{{3, 1}, {2, 3}, {1, 0}, {0, 2}}));\n",
      "diagrams.push_back(Diagram(bsinks[3],bprops[5],std::vector<std::vector<int>>{{3, 1}, {2, 2}, {1, 0}, {0, 3}}));\n",
      "diagrams.push_back(Diagram(bsinks[3],bprops[5],std::vector<std::vector<int>>{{3, 1}, {2, 2}, {1, 3}, {0, 0}}));\n",
      "diagrams.push_back(Diagram(bsinks[3],bprops[5],std::vector<std::vector<int>>{{3, 1}, {2, 0}, {1, 3}, {0, 2}}));\n",
      "diagrams.push_back(Diagram(bsinks[3],bprops[5],std::vector<std::vector<int>>{{3, 1}, {2, 0}, {1, 2}, {0, 3}}));\n",
      "diagrams.push_back(Diagram(bsinks[3],bprops[5],std::vector<std::vector<int>>{{3, 0}, {2, 1}, {1, 2}, {0, 3}}));\n",
      "diagrams.push_back(Diagram(bsinks[3],bprops[5],std::vector<std::vector<int>>{{3, 0}, {2, 1}, {1, 3}, {0, 2}}));\n",
      "diagrams.push_back(Diagram(bsinks[3],bprops[5],std::vector<std::vector<int>>{{3, 0}, {2, 2}, {1, 3}, {0, 1}}));\n",
      "diagrams.push_back(Diagram(bsinks[3],bprops[5],std::vector<std::vector<int>>{{3, 0}, {2, 2}, {1, 1}, {0, 3}}));\n",
      "diagrams.push_back(Diagram(bsinks[3],bprops[5],std::vector<std::vector<int>>{{3, 0}, {2, 3}, {1, 1}, {0, 2}}));\n",
      "diagrams.push_back(Diagram(bsinks[3],bprops[5],std::vector<std::vector<int>>{{3, 0}, {2, 3}, {1, 2}, {0, 1}}));\n",
      "diagrams.push_back(Diagram(bsinks[4],bprops[5],std::vector<std::vector<int>>{{3, 3}, {2, 2}, {1, 1}, {0, 0}}));\n",
      "diagrams.push_back(Diagram(bsinks[4],bprops[5],std::vector<std::vector<int>>{{3, 3}, {2, 2}, {1, 0}, {0, 1}}));\n",
      "diagrams.push_back(Diagram(bsinks[4],bprops[5],std::vector<std::vector<int>>{{3, 3}, {2, 1}, {1, 0}, {0, 2}}));\n",
      "diagrams.push_back(Diagram(bsinks[4],bprops[5],std::vector<std::vector<int>>{{3, 3}, {2, 1}, {1, 2}, {0, 0}}));\n",
      "diagrams.push_back(Diagram(bsinks[4],bprops[5],std::vector<std::vector<int>>{{3, 3}, {2, 0}, {1, 2}, {0, 1}}));\n",
      "diagrams.push_back(Diagram(bsinks[4],bprops[5],std::vector<std::vector<int>>{{3, 3}, {2, 0}, {1, 1}, {0, 2}}));\n",
      "diagrams.push_back(Diagram(bsinks[4],bprops[5],std::vector<std::vector<int>>{{3, 2}, {2, 0}, {1, 1}, {0, 3}}));\n",
      "diagrams.push_back(Diagram(bsinks[4],bprops[5],std::vector<std::vector<int>>{{3, 2}, {2, 0}, {1, 3}, {0, 1}}));\n",
      "diagrams.push_back(Diagram(bsinks[4],bprops[5],std::vector<std::vector<int>>{{3, 2}, {2, 1}, {1, 3}, {0, 0}}));\n",
      "diagrams.push_back(Diagram(bsinks[4],bprops[5],std::vector<std::vector<int>>{{3, 2}, {2, 1}, {1, 0}, {0, 3}}));\n",
      "diagrams.push_back(Diagram(bsinks[4],bprops[5],std::vector<std::vector<int>>{{3, 2}, {2, 3}, {1, 0}, {0, 1}}));\n",
      "diagrams.push_back(Diagram(bsinks[4],bprops[5],std::vector<std::vector<int>>{{3, 2}, {2, 3}, {1, 1}, {0, 0}}));\n",
      "diagrams.push_back(Diagram(bsinks[4],bprops[5],std::vector<std::vector<int>>{{3, 1}, {2, 3}, {1, 2}, {0, 0}}));\n",
      "diagrams.push_back(Diagram(bsinks[4],bprops[5],std::vector<std::vector<int>>{{3, 1}, {2, 3}, {1, 0}, {0, 2}}));\n",
      "diagrams.push_back(Diagram(bsinks[4],bprops[5],std::vector<std::vector<int>>{{3, 1}, {2, 2}, {1, 0}, {0, 3}}));\n",
      "diagrams.push_back(Diagram(bsinks[4],bprops[5],std::vector<std::vector<int>>{{3, 1}, {2, 2}, {1, 3}, {0, 0}}));\n",
      "diagrams.push_back(Diagram(bsinks[4],bprops[5],std::vector<std::vector<int>>{{3, 1}, {2, 0}, {1, 3}, {0, 2}}));\n",
      "diagrams.push_back(Diagram(bsinks[4],bprops[5],std::vector<std::vector<int>>{{3, 1}, {2, 0}, {1, 2}, {0, 3}}));\n",
      "diagrams.push_back(Diagram(bsinks[4],bprops[5],std::vector<std::vector<int>>{{3, 0}, {2, 1}, {1, 2}, {0, 3}}));\n",
      "diagrams.push_back(Diagram(bsinks[4],bprops[5],std::vector<std::vector<int>>{{3, 0}, {2, 1}, {1, 3}, {0, 2}}));\n",
      "diagrams.push_back(Diagram(bsinks[4],bprops[5],std::vector<std::vector<int>>{{3, 0}, {2, 2}, {1, 3}, {0, 1}}));\n",
      "diagrams.push_back(Diagram(bsinks[4],bprops[5],std::vector<std::vector<int>>{{3, 0}, {2, 2}, {1, 1}, {0, 3}}));\n",
      "diagrams.push_back(Diagram(bsinks[4],bprops[5],std::vector<std::vector<int>>{{3, 0}, {2, 3}, {1, 1}, {0, 2}}));\n",
      "diagrams.push_back(Diagram(bsinks[4],bprops[5],std::vector<std::vector<int>>{{3, 0}, {2, 3}, {1, 2}, {0, 1}}));\n",
      "diagrams.push_back(Diagram(bprops[5],bsinks[5],std::vector<std::vector<int>>{{3, 3}, {2, 2}, {1, 1}, {0, 0}}));\n",
      "diagrams.push_back(Diagram(bprops[5],bsinks[5],std::vector<std::vector<int>>{{3, 3}, {2, 2}, {1, 0}, {0, 1}}));\n",
      "diagrams.push_back(Diagram(bprops[5],bsinks[5],std::vector<std::vector<int>>{{3, 3}, {2, 0}, {1, 2}, {0, 1}}));\n",
      "diagrams.push_back(Diagram(bprops[5],bsinks[5],std::vector<std::vector<int>>{{3, 3}, {2, 1}, {1, 2}, {0, 0}}));\n",
      "diagrams.push_back(Diagram(bprops[5],bsinks[5],std::vector<std::vector<int>>{{3, 3}, {2, 1}, {1, 0}, {0, 2}}));\n",
      "diagrams.push_back(Diagram(bprops[5],bsinks[5],std::vector<std::vector<int>>{{3, 3}, {2, 0}, {1, 1}, {0, 2}}));\n",
      "diagrams.push_back(Diagram(bprops[5],bsinks[5],std::vector<std::vector<int>>{{3, 0}, {2, 3}, {1, 1}, {0, 2}}));\n",
      "diagrams.push_back(Diagram(bprops[5],bsinks[5],std::vector<std::vector<int>>{{3, 1}, {2, 3}, {1, 0}, {0, 2}}));\n",
      "diagrams.push_back(Diagram(bprops[5],bsinks[5],std::vector<std::vector<int>>{{3, 1}, {2, 3}, {1, 2}, {0, 0}}));\n",
      "diagrams.push_back(Diagram(bprops[5],bsinks[5],std::vector<std::vector<int>>{{3, 0}, {2, 3}, {1, 2}, {0, 1}}));\n",
      "diagrams.push_back(Diagram(bprops[5],bsinks[5],std::vector<std::vector<int>>{{3, 2}, {2, 3}, {1, 0}, {0, 1}}));\n",
      "diagrams.push_back(Diagram(bprops[5],bsinks[5],std::vector<std::vector<int>>{{3, 2}, {2, 3}, {1, 1}, {0, 0}}));\n",
      "diagrams.push_back(Diagram(bprops[5],bsinks[5],std::vector<std::vector<int>>{{3, 2}, {2, 1}, {1, 3}, {0, 0}}));\n",
      "diagrams.push_back(Diagram(bprops[5],bsinks[5],std::vector<std::vector<int>>{{3, 2}, {2, 0}, {1, 3}, {0, 1}}));\n",
      "diagrams.push_back(Diagram(bprops[5],bsinks[5],std::vector<std::vector<int>>{{3, 0}, {2, 2}, {1, 3}, {0, 1}}));\n",
      "diagrams.push_back(Diagram(bprops[5],bsinks[5],std::vector<std::vector<int>>{{3, 1}, {2, 2}, {1, 3}, {0, 0}}));\n",
      "diagrams.push_back(Diagram(bprops[5],bsinks[5],std::vector<std::vector<int>>{{3, 1}, {2, 0}, {1, 3}, {0, 2}}));\n",
      "diagrams.push_back(Diagram(bprops[5],bsinks[5],std::vector<std::vector<int>>{{3, 0}, {2, 1}, {1, 3}, {0, 2}}));\n",
      "diagrams.push_back(Diagram(bprops[5],bsinks[5],std::vector<std::vector<int>>{{3, 0}, {2, 1}, {1, 2}, {0, 3}}));\n",
      "diagrams.push_back(Diagram(bprops[5],bsinks[5],std::vector<std::vector<int>>{{3, 1}, {2, 0}, {1, 2}, {0, 3}}));\n",
      "diagrams.push_back(Diagram(bprops[5],bsinks[5],std::vector<std::vector<int>>{{3, 1}, {2, 2}, {1, 0}, {0, 3}}));\n",
      "diagrams.push_back(Diagram(bprops[5],bsinks[5],std::vector<std::vector<int>>{{3, 0}, {2, 2}, {1, 1}, {0, 3}}));\n",
      "diagrams.push_back(Diagram(bprops[5],bsinks[5],std::vector<std::vector<int>>{{3, 2}, {2, 0}, {1, 1}, {0, 3}}));\n",
      "diagrams.push_back(Diagram(bprops[5],bsinks[5],std::vector<std::vector<int>>{{3, 2}, {2, 1}, {1, 0}, {0, 3}}));\n",
      "diagrams.push_back(Diagram(bprops[5],bsinks[6],std::vector<std::vector<int>>{{3, 3}, {2, 2}, {1, 1}, {0, 0}}));\n",
      "diagrams.push_back(Diagram(bprops[5],bsinks[6],std::vector<std::vector<int>>{{3, 3}, {2, 2}, {1, 0}, {0, 1}}));\n",
      "diagrams.push_back(Diagram(bprops[5],bsinks[6],std::vector<std::vector<int>>{{3, 3}, {2, 0}, {1, 2}, {0, 1}}));\n",
      "diagrams.push_back(Diagram(bprops[5],bsinks[6],std::vector<std::vector<int>>{{3, 3}, {2, 1}, {1, 2}, {0, 0}}));\n",
      "diagrams.push_back(Diagram(bprops[5],bsinks[6],std::vector<std::vector<int>>{{3, 3}, {2, 1}, {1, 0}, {0, 2}}));\n",
      "diagrams.push_back(Diagram(bprops[5],bsinks[6],std::vector<std::vector<int>>{{3, 3}, {2, 0}, {1, 1}, {0, 2}}));\n",
      "diagrams.push_back(Diagram(bprops[5],bsinks[6],std::vector<std::vector<int>>{{3, 0}, {2, 3}, {1, 1}, {0, 2}}));\n",
      "diagrams.push_back(Diagram(bprops[5],bsinks[6],std::vector<std::vector<int>>{{3, 1}, {2, 3}, {1, 0}, {0, 2}}));\n",
      "diagrams.push_back(Diagram(bprops[5],bsinks[6],std::vector<std::vector<int>>{{3, 1}, {2, 3}, {1, 2}, {0, 0}}));\n",
      "diagrams.push_back(Diagram(bprops[5],bsinks[6],std::vector<std::vector<int>>{{3, 0}, {2, 3}, {1, 2}, {0, 1}}));\n",
      "diagrams.push_back(Diagram(bprops[5],bsinks[6],std::vector<std::vector<int>>{{3, 2}, {2, 3}, {1, 0}, {0, 1}}));\n",
      "diagrams.push_back(Diagram(bprops[5],bsinks[6],std::vector<std::vector<int>>{{3, 2}, {2, 3}, {1, 1}, {0, 0}}));\n",
      "diagrams.push_back(Diagram(bprops[5],bsinks[6],std::vector<std::vector<int>>{{3, 2}, {2, 1}, {1, 3}, {0, 0}}));\n",
      "diagrams.push_back(Diagram(bprops[5],bsinks[6],std::vector<std::vector<int>>{{3, 2}, {2, 0}, {1, 3}, {0, 1}}));\n",
      "diagrams.push_back(Diagram(bprops[5],bsinks[6],std::vector<std::vector<int>>{{3, 0}, {2, 2}, {1, 3}, {0, 1}}));\n",
      "diagrams.push_back(Diagram(bprops[5],bsinks[6],std::vector<std::vector<int>>{{3, 1}, {2, 2}, {1, 3}, {0, 0}}));\n",
      "diagrams.push_back(Diagram(bprops[5],bsinks[6],std::vector<std::vector<int>>{{3, 1}, {2, 0}, {1, 3}, {0, 2}}));\n",
      "diagrams.push_back(Diagram(bprops[5],bsinks[6],std::vector<std::vector<int>>{{3, 0}, {2, 1}, {1, 3}, {0, 2}}));\n",
      "diagrams.push_back(Diagram(bprops[5],bsinks[6],std::vector<std::vector<int>>{{3, 0}, {2, 1}, {1, 2}, {0, 3}}));\n",
      "diagrams.push_back(Diagram(bprops[5],bsinks[6],std::vector<std::vector<int>>{{3, 1}, {2, 0}, {1, 2}, {0, 3}}));\n",
      "diagrams.push_back(Diagram(bprops[5],bsinks[6],std::vector<std::vector<int>>{{3, 1}, {2, 2}, {1, 0}, {0, 3}}));\n",
      "diagrams.push_back(Diagram(bprops[5],bsinks[6],std::vector<std::vector<int>>{{3, 0}, {2, 2}, {1, 1}, {0, 3}}));\n",
      "diagrams.push_back(Diagram(bprops[5],bsinks[6],std::vector<std::vector<int>>{{3, 2}, {2, 0}, {1, 1}, {0, 3}}));\n",
      "diagrams.push_back(Diagram(bprops[5],bsinks[6],std::vector<std::vector<int>>{{3, 2}, {2, 1}, {1, 0}, {0, 3}}));\n",
      "diagrams.push_back(Diagram(bprops[5],bsinks[7],std::vector<std::vector<int>>{{3, 3}, {2, 2}, {1, 1}, {0, 0}}));\n",
      "diagrams.push_back(Diagram(bprops[5],bsinks[7],std::vector<std::vector<int>>{{3, 3}, {2, 2}, {1, 0}, {0, 1}}));\n",
      "diagrams.push_back(Diagram(bprops[5],bsinks[7],std::vector<std::vector<int>>{{3, 3}, {2, 0}, {1, 2}, {0, 1}}));\n",
      "diagrams.push_back(Diagram(bprops[5],bsinks[7],std::vector<std::vector<int>>{{3, 3}, {2, 1}, {1, 2}, {0, 0}}));\n",
      "diagrams.push_back(Diagram(bprops[5],bsinks[7],std::vector<std::vector<int>>{{3, 3}, {2, 1}, {1, 0}, {0, 2}}));\n",
      "diagrams.push_back(Diagram(bprops[5],bsinks[7],std::vector<std::vector<int>>{{3, 3}, {2, 0}, {1, 1}, {0, 2}}));\n",
      "diagrams.push_back(Diagram(bprops[5],bsinks[7],std::vector<std::vector<int>>{{3, 0}, {2, 3}, {1, 1}, {0, 2}}));\n",
      "diagrams.push_back(Diagram(bprops[5],bsinks[7],std::vector<std::vector<int>>{{3, 1}, {2, 3}, {1, 0}, {0, 2}}));\n",
      "diagrams.push_back(Diagram(bprops[5],bsinks[7],std::vector<std::vector<int>>{{3, 1}, {2, 3}, {1, 2}, {0, 0}}));\n",
      "diagrams.push_back(Diagram(bprops[5],bsinks[7],std::vector<std::vector<int>>{{3, 0}, {2, 3}, {1, 2}, {0, 1}}));\n",
      "diagrams.push_back(Diagram(bprops[5],bsinks[7],std::vector<std::vector<int>>{{3, 2}, {2, 3}, {1, 0}, {0, 1}}));\n",
      "diagrams.push_back(Diagram(bprops[5],bsinks[7],std::vector<std::vector<int>>{{3, 2}, {2, 3}, {1, 1}, {0, 0}}));\n",
      "diagrams.push_back(Diagram(bprops[5],bsinks[7],std::vector<std::vector<int>>{{3, 2}, {2, 1}, {1, 3}, {0, 0}}));\n",
      "diagrams.push_back(Diagram(bprops[5],bsinks[7],std::vector<std::vector<int>>{{3, 2}, {2, 0}, {1, 3}, {0, 1}}));\n",
      "diagrams.push_back(Diagram(bprops[5],bsinks[7],std::vector<std::vector<int>>{{3, 0}, {2, 2}, {1, 3}, {0, 1}}));\n",
      "diagrams.push_back(Diagram(bprops[5],bsinks[7],std::vector<std::vector<int>>{{3, 1}, {2, 2}, {1, 3}, {0, 0}}));\n",
      "diagrams.push_back(Diagram(bprops[5],bsinks[7],std::vector<std::vector<int>>{{3, 1}, {2, 0}, {1, 3}, {0, 2}}));\n",
      "diagrams.push_back(Diagram(bprops[5],bsinks[7],std::vector<std::vector<int>>{{3, 0}, {2, 1}, {1, 3}, {0, 2}}));\n",
      "diagrams.push_back(Diagram(bprops[5],bsinks[7],std::vector<std::vector<int>>{{3, 0}, {2, 1}, {1, 2}, {0, 3}}));\n",
      "diagrams.push_back(Diagram(bprops[5],bsinks[7],std::vector<std::vector<int>>{{3, 1}, {2, 0}, {1, 2}, {0, 3}}));\n",
      "diagrams.push_back(Diagram(bprops[5],bsinks[7],std::vector<std::vector<int>>{{3, 1}, {2, 2}, {1, 0}, {0, 3}}));\n",
      "diagrams.push_back(Diagram(bprops[5],bsinks[7],std::vector<std::vector<int>>{{3, 0}, {2, 2}, {1, 1}, {0, 3}}));\n",
      "diagrams.push_back(Diagram(bprops[5],bsinks[7],std::vector<std::vector<int>>{{3, 2}, {2, 0}, {1, 1}, {0, 3}}));\n",
      "diagrams.push_back(Diagram(bprops[5],bsinks[7],std::vector<std::vector<int>>{{3, 2}, {2, 1}, {1, 0}, {0, 3}}));\n",
      "diagrams.push_back(Diagram(bprops[6],bsinks[0],std::vector<std::vector<int>>{{3, 3}, {2, 2}, {1, 1}, {0, 0}}));\n",
      "diagrams.push_back(Diagram(bprops[6],bsinks[0],std::vector<std::vector<int>>{{3, 3}, {2, 2}, {1, 0}, {0, 1}}));\n",
      "diagrams.push_back(Diagram(bprops[6],bsinks[0],std::vector<std::vector<int>>{{3, 3}, {2, 0}, {1, 2}, {0, 1}}));\n",
      "diagrams.push_back(Diagram(bprops[6],bsinks[0],std::vector<std::vector<int>>{{3, 3}, {2, 1}, {1, 2}, {0, 0}}));\n",
      "diagrams.push_back(Diagram(bprops[6],bsinks[0],std::vector<std::vector<int>>{{3, 3}, {2, 1}, {1, 0}, {0, 2}}));\n",
      "diagrams.push_back(Diagram(bprops[6],bsinks[0],std::vector<std::vector<int>>{{3, 3}, {2, 0}, {1, 1}, {0, 2}}));\n",
      "diagrams.push_back(Diagram(bprops[6],bsinks[0],std::vector<std::vector<int>>{{3, 0}, {2, 3}, {1, 1}, {0, 2}}));\n",
      "diagrams.push_back(Diagram(bprops[6],bsinks[0],std::vector<std::vector<int>>{{3, 1}, {2, 3}, {1, 0}, {0, 2}}));\n",
      "diagrams.push_back(Diagram(bprops[6],bsinks[0],std::vector<std::vector<int>>{{3, 1}, {2, 3}, {1, 2}, {0, 0}}));\n",
      "diagrams.push_back(Diagram(bprops[6],bsinks[0],std::vector<std::vector<int>>{{3, 0}, {2, 3}, {1, 2}, {0, 1}}));\n",
      "diagrams.push_back(Diagram(bprops[6],bsinks[0],std::vector<std::vector<int>>{{3, 2}, {2, 3}, {1, 0}, {0, 1}}));\n",
      "diagrams.push_back(Diagram(bprops[6],bsinks[0],std::vector<std::vector<int>>{{3, 2}, {2, 3}, {1, 1}, {0, 0}}));\n",
      "diagrams.push_back(Diagram(bprops[6],bsinks[0],std::vector<std::vector<int>>{{3, 2}, {2, 1}, {1, 3}, {0, 0}}));\n",
      "diagrams.push_back(Diagram(bprops[6],bsinks[0],std::vector<std::vector<int>>{{3, 2}, {2, 0}, {1, 3}, {0, 1}}));\n",
      "diagrams.push_back(Diagram(bprops[6],bsinks[0],std::vector<std::vector<int>>{{3, 0}, {2, 2}, {1, 3}, {0, 1}}));\n",
      "diagrams.push_back(Diagram(bprops[6],bsinks[0],std::vector<std::vector<int>>{{3, 1}, {2, 2}, {1, 3}, {0, 0}}));\n",
      "diagrams.push_back(Diagram(bprops[6],bsinks[0],std::vector<std::vector<int>>{{3, 1}, {2, 0}, {1, 3}, {0, 2}}));\n",
      "diagrams.push_back(Diagram(bprops[6],bsinks[0],std::vector<std::vector<int>>{{3, 0}, {2, 1}, {1, 3}, {0, 2}}));\n",
      "diagrams.push_back(Diagram(bprops[6],bsinks[0],std::vector<std::vector<int>>{{3, 0}, {2, 1}, {1, 2}, {0, 3}}));\n",
      "diagrams.push_back(Diagram(bprops[6],bsinks[0],std::vector<std::vector<int>>{{3, 1}, {2, 0}, {1, 2}, {0, 3}}));\n",
      "diagrams.push_back(Diagram(bprops[6],bsinks[0],std::vector<std::vector<int>>{{3, 1}, {2, 2}, {1, 0}, {0, 3}}));\n",
      "diagrams.push_back(Diagram(bprops[6],bsinks[0],std::vector<std::vector<int>>{{3, 0}, {2, 2}, {1, 1}, {0, 3}}));\n",
      "diagrams.push_back(Diagram(bprops[6],bsinks[0],std::vector<std::vector<int>>{{3, 2}, {2, 0}, {1, 1}, {0, 3}}));\n",
      "diagrams.push_back(Diagram(bprops[6],bsinks[0],std::vector<std::vector<int>>{{3, 2}, {2, 1}, {1, 0}, {0, 3}}));\n",
      "diagrams.push_back(Diagram(bsinks[1],bprops[6],std::vector<std::vector<int>>{{3, 3}, {2, 2}, {1, 1}, {0, 0}}));\n",
      "diagrams.push_back(Diagram(bsinks[1],bprops[6],std::vector<std::vector<int>>{{3, 3}, {2, 2}, {1, 0}, {0, 1}}));\n",
      "diagrams.push_back(Diagram(bsinks[1],bprops[6],std::vector<std::vector<int>>{{3, 3}, {2, 1}, {1, 0}, {0, 2}}));\n",
      "diagrams.push_back(Diagram(bsinks[1],bprops[6],std::vector<std::vector<int>>{{3, 3}, {2, 1}, {1, 2}, {0, 0}}));\n",
      "diagrams.push_back(Diagram(bsinks[1],bprops[6],std::vector<std::vector<int>>{{3, 3}, {2, 0}, {1, 2}, {0, 1}}));\n",
      "diagrams.push_back(Diagram(bsinks[1],bprops[6],std::vector<std::vector<int>>{{3, 3}, {2, 0}, {1, 1}, {0, 2}}));\n",
      "diagrams.push_back(Diagram(bsinks[1],bprops[6],std::vector<std::vector<int>>{{3, 2}, {2, 0}, {1, 1}, {0, 3}}));\n",
      "diagrams.push_back(Diagram(bsinks[1],bprops[6],std::vector<std::vector<int>>{{3, 2}, {2, 0}, {1, 3}, {0, 1}}));\n",
      "diagrams.push_back(Diagram(bsinks[1],bprops[6],std::vector<std::vector<int>>{{3, 2}, {2, 1}, {1, 3}, {0, 0}}));\n",
      "diagrams.push_back(Diagram(bsinks[1],bprops[6],std::vector<std::vector<int>>{{3, 2}, {2, 1}, {1, 0}, {0, 3}}));\n",
      "diagrams.push_back(Diagram(bsinks[1],bprops[6],std::vector<std::vector<int>>{{3, 2}, {2, 3}, {1, 0}, {0, 1}}));\n",
      "diagrams.push_back(Diagram(bsinks[1],bprops[6],std::vector<std::vector<int>>{{3, 2}, {2, 3}, {1, 1}, {0, 0}}));\n",
      "diagrams.push_back(Diagram(bsinks[1],bprops[6],std::vector<std::vector<int>>{{3, 1}, {2, 3}, {1, 2}, {0, 0}}));\n",
      "diagrams.push_back(Diagram(bsinks[1],bprops[6],std::vector<std::vector<int>>{{3, 1}, {2, 3}, {1, 0}, {0, 2}}));\n",
      "diagrams.push_back(Diagram(bsinks[1],bprops[6],std::vector<std::vector<int>>{{3, 1}, {2, 2}, {1, 0}, {0, 3}}));\n",
      "diagrams.push_back(Diagram(bsinks[1],bprops[6],std::vector<std::vector<int>>{{3, 1}, {2, 2}, {1, 3}, {0, 0}}));\n",
      "diagrams.push_back(Diagram(bsinks[1],bprops[6],std::vector<std::vector<int>>{{3, 1}, {2, 0}, {1, 3}, {0, 2}}));\n",
      "diagrams.push_back(Diagram(bsinks[1],bprops[6],std::vector<std::vector<int>>{{3, 1}, {2, 0}, {1, 2}, {0, 3}}));\n",
      "diagrams.push_back(Diagram(bsinks[1],bprops[6],std::vector<std::vector<int>>{{3, 0}, {2, 1}, {1, 2}, {0, 3}}));\n",
      "diagrams.push_back(Diagram(bsinks[1],bprops[6],std::vector<std::vector<int>>{{3, 0}, {2, 1}, {1, 3}, {0, 2}}));\n",
      "diagrams.push_back(Diagram(bsinks[1],bprops[6],std::vector<std::vector<int>>{{3, 0}, {2, 2}, {1, 3}, {0, 1}}));\n",
      "diagrams.push_back(Diagram(bsinks[1],bprops[6],std::vector<std::vector<int>>{{3, 0}, {2, 2}, {1, 1}, {0, 3}}));\n",
      "diagrams.push_back(Diagram(bsinks[1],bprops[6],std::vector<std::vector<int>>{{3, 0}, {2, 3}, {1, 1}, {0, 2}}));\n",
      "diagrams.push_back(Diagram(bsinks[1],bprops[6],std::vector<std::vector<int>>{{3, 0}, {2, 3}, {1, 2}, {0, 1}}));\n",
      "diagrams.push_back(Diagram(bsinks[2],bprops[6],std::vector<std::vector<int>>{{3, 3}, {2, 2}, {1, 1}, {0, 0}}));\n",
      "diagrams.push_back(Diagram(bsinks[2],bprops[6],std::vector<std::vector<int>>{{3, 3}, {2, 2}, {1, 0}, {0, 1}}));\n",
      "diagrams.push_back(Diagram(bsinks[2],bprops[6],std::vector<std::vector<int>>{{3, 3}, {2, 1}, {1, 0}, {0, 2}}));\n",
      "diagrams.push_back(Diagram(bsinks[2],bprops[6],std::vector<std::vector<int>>{{3, 3}, {2, 1}, {1, 2}, {0, 0}}));\n",
      "diagrams.push_back(Diagram(bsinks[2],bprops[6],std::vector<std::vector<int>>{{3, 3}, {2, 0}, {1, 2}, {0, 1}}));\n",
      "diagrams.push_back(Diagram(bsinks[2],bprops[6],std::vector<std::vector<int>>{{3, 3}, {2, 0}, {1, 1}, {0, 2}}));\n",
      "diagrams.push_back(Diagram(bsinks[2],bprops[6],std::vector<std::vector<int>>{{3, 2}, {2, 0}, {1, 1}, {0, 3}}));\n",
      "diagrams.push_back(Diagram(bsinks[2],bprops[6],std::vector<std::vector<int>>{{3, 2}, {2, 0}, {1, 3}, {0, 1}}));\n",
      "diagrams.push_back(Diagram(bsinks[2],bprops[6],std::vector<std::vector<int>>{{3, 2}, {2, 1}, {1, 3}, {0, 0}}));\n",
      "diagrams.push_back(Diagram(bsinks[2],bprops[6],std::vector<std::vector<int>>{{3, 2}, {2, 1}, {1, 0}, {0, 3}}));\n",
      "diagrams.push_back(Diagram(bsinks[2],bprops[6],std::vector<std::vector<int>>{{3, 2}, {2, 3}, {1, 0}, {0, 1}}));\n",
      "diagrams.push_back(Diagram(bsinks[2],bprops[6],std::vector<std::vector<int>>{{3, 2}, {2, 3}, {1, 1}, {0, 0}}));\n",
      "diagrams.push_back(Diagram(bsinks[2],bprops[6],std::vector<std::vector<int>>{{3, 1}, {2, 3}, {1, 2}, {0, 0}}));\n",
      "diagrams.push_back(Diagram(bsinks[2],bprops[6],std::vector<std::vector<int>>{{3, 1}, {2, 3}, {1, 0}, {0, 2}}));\n",
      "diagrams.push_back(Diagram(bsinks[2],bprops[6],std::vector<std::vector<int>>{{3, 1}, {2, 2}, {1, 0}, {0, 3}}));\n",
      "diagrams.push_back(Diagram(bsinks[2],bprops[6],std::vector<std::vector<int>>{{3, 1}, {2, 2}, {1, 3}, {0, 0}}));\n",
      "diagrams.push_back(Diagram(bsinks[2],bprops[6],std::vector<std::vector<int>>{{3, 1}, {2, 0}, {1, 3}, {0, 2}}));\n",
      "diagrams.push_back(Diagram(bsinks[2],bprops[6],std::vector<std::vector<int>>{{3, 1}, {2, 0}, {1, 2}, {0, 3}}));\n",
      "diagrams.push_back(Diagram(bsinks[2],bprops[6],std::vector<std::vector<int>>{{3, 0}, {2, 1}, {1, 2}, {0, 3}}));\n",
      "diagrams.push_back(Diagram(bsinks[2],bprops[6],std::vector<std::vector<int>>{{3, 0}, {2, 1}, {1, 3}, {0, 2}}));\n",
      "diagrams.push_back(Diagram(bsinks[2],bprops[6],std::vector<std::vector<int>>{{3, 0}, {2, 2}, {1, 3}, {0, 1}}));\n",
      "diagrams.push_back(Diagram(bsinks[2],bprops[6],std::vector<std::vector<int>>{{3, 0}, {2, 2}, {1, 1}, {0, 3}}));\n",
      "diagrams.push_back(Diagram(bsinks[2],bprops[6],std::vector<std::vector<int>>{{3, 0}, {2, 3}, {1, 1}, {0, 2}}));\n",
      "diagrams.push_back(Diagram(bsinks[2],bprops[6],std::vector<std::vector<int>>{{3, 0}, {2, 3}, {1, 2}, {0, 1}}));\n",
      "diagrams.push_back(Diagram(bsinks[3],bprops[6],std::vector<std::vector<int>>{{3, 3}, {2, 2}, {1, 1}, {0, 0}}));\n",
      "diagrams.push_back(Diagram(bsinks[3],bprops[6],std::vector<std::vector<int>>{{3, 3}, {2, 2}, {1, 0}, {0, 1}}));\n",
      "diagrams.push_back(Diagram(bsinks[3],bprops[6],std::vector<std::vector<int>>{{3, 3}, {2, 1}, {1, 0}, {0, 2}}));\n",
      "diagrams.push_back(Diagram(bsinks[3],bprops[6],std::vector<std::vector<int>>{{3, 3}, {2, 1}, {1, 2}, {0, 0}}));\n",
      "diagrams.push_back(Diagram(bsinks[3],bprops[6],std::vector<std::vector<int>>{{3, 3}, {2, 0}, {1, 2}, {0, 1}}));\n",
      "diagrams.push_back(Diagram(bsinks[3],bprops[6],std::vector<std::vector<int>>{{3, 3}, {2, 0}, {1, 1}, {0, 2}}));\n",
      "diagrams.push_back(Diagram(bsinks[3],bprops[6],std::vector<std::vector<int>>{{3, 2}, {2, 0}, {1, 1}, {0, 3}}));\n",
      "diagrams.push_back(Diagram(bsinks[3],bprops[6],std::vector<std::vector<int>>{{3, 2}, {2, 0}, {1, 3}, {0, 1}}));\n",
      "diagrams.push_back(Diagram(bsinks[3],bprops[6],std::vector<std::vector<int>>{{3, 2}, {2, 1}, {1, 3}, {0, 0}}));\n",
      "diagrams.push_back(Diagram(bsinks[3],bprops[6],std::vector<std::vector<int>>{{3, 2}, {2, 1}, {1, 0}, {0, 3}}));\n",
      "diagrams.push_back(Diagram(bsinks[3],bprops[6],std::vector<std::vector<int>>{{3, 2}, {2, 3}, {1, 0}, {0, 1}}));\n",
      "diagrams.push_back(Diagram(bsinks[3],bprops[6],std::vector<std::vector<int>>{{3, 2}, {2, 3}, {1, 1}, {0, 0}}));\n",
      "diagrams.push_back(Diagram(bsinks[3],bprops[6],std::vector<std::vector<int>>{{3, 1}, {2, 3}, {1, 2}, {0, 0}}));\n",
      "diagrams.push_back(Diagram(bsinks[3],bprops[6],std::vector<std::vector<int>>{{3, 1}, {2, 3}, {1, 0}, {0, 2}}));\n",
      "diagrams.push_back(Diagram(bsinks[3],bprops[6],std::vector<std::vector<int>>{{3, 1}, {2, 2}, {1, 0}, {0, 3}}));\n",
      "diagrams.push_back(Diagram(bsinks[3],bprops[6],std::vector<std::vector<int>>{{3, 1}, {2, 2}, {1, 3}, {0, 0}}));\n",
      "diagrams.push_back(Diagram(bsinks[3],bprops[6],std::vector<std::vector<int>>{{3, 1}, {2, 0}, {1, 3}, {0, 2}}));\n",
      "diagrams.push_back(Diagram(bsinks[3],bprops[6],std::vector<std::vector<int>>{{3, 1}, {2, 0}, {1, 2}, {0, 3}}));\n",
      "diagrams.push_back(Diagram(bsinks[3],bprops[6],std::vector<std::vector<int>>{{3, 0}, {2, 1}, {1, 2}, {0, 3}}));\n",
      "diagrams.push_back(Diagram(bsinks[3],bprops[6],std::vector<std::vector<int>>{{3, 0}, {2, 1}, {1, 3}, {0, 2}}));\n",
      "diagrams.push_back(Diagram(bsinks[3],bprops[6],std::vector<std::vector<int>>{{3, 0}, {2, 2}, {1, 3}, {0, 1}}));\n",
      "diagrams.push_back(Diagram(bsinks[3],bprops[6],std::vector<std::vector<int>>{{3, 0}, {2, 2}, {1, 1}, {0, 3}}));\n",
      "diagrams.push_back(Diagram(bsinks[3],bprops[6],std::vector<std::vector<int>>{{3, 0}, {2, 3}, {1, 1}, {0, 2}}));\n",
      "diagrams.push_back(Diagram(bsinks[3],bprops[6],std::vector<std::vector<int>>{{3, 0}, {2, 3}, {1, 2}, {0, 1}}));\n",
      "diagrams.push_back(Diagram(bsinks[4],bprops[6],std::vector<std::vector<int>>{{3, 3}, {2, 2}, {1, 1}, {0, 0}}));\n",
      "diagrams.push_back(Diagram(bsinks[4],bprops[6],std::vector<std::vector<int>>{{3, 3}, {2, 2}, {1, 0}, {0, 1}}));\n",
      "diagrams.push_back(Diagram(bsinks[4],bprops[6],std::vector<std::vector<int>>{{3, 3}, {2, 1}, {1, 0}, {0, 2}}));\n",
      "diagrams.push_back(Diagram(bsinks[4],bprops[6],std::vector<std::vector<int>>{{3, 3}, {2, 1}, {1, 2}, {0, 0}}));\n",
      "diagrams.push_back(Diagram(bsinks[4],bprops[6],std::vector<std::vector<int>>{{3, 3}, {2, 0}, {1, 2}, {0, 1}}));\n",
      "diagrams.push_back(Diagram(bsinks[4],bprops[6],std::vector<std::vector<int>>{{3, 3}, {2, 0}, {1, 1}, {0, 2}}));\n",
      "diagrams.push_back(Diagram(bsinks[4],bprops[6],std::vector<std::vector<int>>{{3, 2}, {2, 0}, {1, 1}, {0, 3}}));\n",
      "diagrams.push_back(Diagram(bsinks[4],bprops[6],std::vector<std::vector<int>>{{3, 2}, {2, 0}, {1, 3}, {0, 1}}));\n",
      "diagrams.push_back(Diagram(bsinks[4],bprops[6],std::vector<std::vector<int>>{{3, 2}, {2, 1}, {1, 3}, {0, 0}}));\n",
      "diagrams.push_back(Diagram(bsinks[4],bprops[6],std::vector<std::vector<int>>{{3, 2}, {2, 1}, {1, 0}, {0, 3}}));\n",
      "diagrams.push_back(Diagram(bsinks[4],bprops[6],std::vector<std::vector<int>>{{3, 2}, {2, 3}, {1, 0}, {0, 1}}));\n",
      "diagrams.push_back(Diagram(bsinks[4],bprops[6],std::vector<std::vector<int>>{{3, 2}, {2, 3}, {1, 1}, {0, 0}}));\n",
      "diagrams.push_back(Diagram(bsinks[4],bprops[6],std::vector<std::vector<int>>{{3, 1}, {2, 3}, {1, 2}, {0, 0}}));\n",
      "diagrams.push_back(Diagram(bsinks[4],bprops[6],std::vector<std::vector<int>>{{3, 1}, {2, 3}, {1, 0}, {0, 2}}));\n",
      "diagrams.push_back(Diagram(bsinks[4],bprops[6],std::vector<std::vector<int>>{{3, 1}, {2, 2}, {1, 0}, {0, 3}}));\n",
      "diagrams.push_back(Diagram(bsinks[4],bprops[6],std::vector<std::vector<int>>{{3, 1}, {2, 2}, {1, 3}, {0, 0}}));\n",
      "diagrams.push_back(Diagram(bsinks[4],bprops[6],std::vector<std::vector<int>>{{3, 1}, {2, 0}, {1, 3}, {0, 2}}));\n",
      "diagrams.push_back(Diagram(bsinks[4],bprops[6],std::vector<std::vector<int>>{{3, 1}, {2, 0}, {1, 2}, {0, 3}}));\n",
      "diagrams.push_back(Diagram(bsinks[4],bprops[6],std::vector<std::vector<int>>{{3, 0}, {2, 1}, {1, 2}, {0, 3}}));\n",
      "diagrams.push_back(Diagram(bsinks[4],bprops[6],std::vector<std::vector<int>>{{3, 0}, {2, 1}, {1, 3}, {0, 2}}));\n",
      "diagrams.push_back(Diagram(bsinks[4],bprops[6],std::vector<std::vector<int>>{{3, 0}, {2, 2}, {1, 3}, {0, 1}}));\n",
      "diagrams.push_back(Diagram(bsinks[4],bprops[6],std::vector<std::vector<int>>{{3, 0}, {2, 2}, {1, 1}, {0, 3}}));\n",
      "diagrams.push_back(Diagram(bsinks[4],bprops[6],std::vector<std::vector<int>>{{3, 0}, {2, 3}, {1, 1}, {0, 2}}));\n",
      "diagrams.push_back(Diagram(bsinks[4],bprops[6],std::vector<std::vector<int>>{{3, 0}, {2, 3}, {1, 2}, {0, 1}}));\n",
      "diagrams.push_back(Diagram(bsinks[5],bprops[6],std::vector<std::vector<int>>{{3, 3}, {2, 2}, {1, 1}, {0, 0}}));\n",
      "diagrams.push_back(Diagram(bsinks[5],bprops[6],std::vector<std::vector<int>>{{3, 3}, {2, 2}, {1, 0}, {0, 1}}));\n",
      "diagrams.push_back(Diagram(bsinks[5],bprops[6],std::vector<std::vector<int>>{{3, 3}, {2, 1}, {1, 0}, {0, 2}}));\n",
      "diagrams.push_back(Diagram(bsinks[5],bprops[6],std::vector<std::vector<int>>{{3, 3}, {2, 1}, {1, 2}, {0, 0}}));\n",
      "diagrams.push_back(Diagram(bsinks[5],bprops[6],std::vector<std::vector<int>>{{3, 3}, {2, 0}, {1, 2}, {0, 1}}));\n",
      "diagrams.push_back(Diagram(bsinks[5],bprops[6],std::vector<std::vector<int>>{{3, 3}, {2, 0}, {1, 1}, {0, 2}}));\n",
      "diagrams.push_back(Diagram(bsinks[5],bprops[6],std::vector<std::vector<int>>{{3, 2}, {2, 0}, {1, 1}, {0, 3}}));\n",
      "diagrams.push_back(Diagram(bsinks[5],bprops[6],std::vector<std::vector<int>>{{3, 2}, {2, 0}, {1, 3}, {0, 1}}));\n",
      "diagrams.push_back(Diagram(bsinks[5],bprops[6],std::vector<std::vector<int>>{{3, 2}, {2, 1}, {1, 3}, {0, 0}}));\n",
      "diagrams.push_back(Diagram(bsinks[5],bprops[6],std::vector<std::vector<int>>{{3, 2}, {2, 1}, {1, 0}, {0, 3}}));\n",
      "diagrams.push_back(Diagram(bsinks[5],bprops[6],std::vector<std::vector<int>>{{3, 2}, {2, 3}, {1, 0}, {0, 1}}));\n",
      "diagrams.push_back(Diagram(bsinks[5],bprops[6],std::vector<std::vector<int>>{{3, 2}, {2, 3}, {1, 1}, {0, 0}}));\n",
      "diagrams.push_back(Diagram(bsinks[5],bprops[6],std::vector<std::vector<int>>{{3, 1}, {2, 3}, {1, 2}, {0, 0}}));\n",
      "diagrams.push_back(Diagram(bsinks[5],bprops[6],std::vector<std::vector<int>>{{3, 1}, {2, 3}, {1, 0}, {0, 2}}));\n",
      "diagrams.push_back(Diagram(bsinks[5],bprops[6],std::vector<std::vector<int>>{{3, 1}, {2, 2}, {1, 0}, {0, 3}}));\n",
      "diagrams.push_back(Diagram(bsinks[5],bprops[6],std::vector<std::vector<int>>{{3, 1}, {2, 2}, {1, 3}, {0, 0}}));\n",
      "diagrams.push_back(Diagram(bsinks[5],bprops[6],std::vector<std::vector<int>>{{3, 1}, {2, 0}, {1, 3}, {0, 2}}));\n",
      "diagrams.push_back(Diagram(bsinks[5],bprops[6],std::vector<std::vector<int>>{{3, 1}, {2, 0}, {1, 2}, {0, 3}}));\n",
      "diagrams.push_back(Diagram(bsinks[5],bprops[6],std::vector<std::vector<int>>{{3, 0}, {2, 1}, {1, 2}, {0, 3}}));\n",
      "diagrams.push_back(Diagram(bsinks[5],bprops[6],std::vector<std::vector<int>>{{3, 0}, {2, 1}, {1, 3}, {0, 2}}));\n",
      "diagrams.push_back(Diagram(bsinks[5],bprops[6],std::vector<std::vector<int>>{{3, 0}, {2, 2}, {1, 3}, {0, 1}}));\n",
      "diagrams.push_back(Diagram(bsinks[5],bprops[6],std::vector<std::vector<int>>{{3, 0}, {2, 2}, {1, 1}, {0, 3}}));\n",
      "diagrams.push_back(Diagram(bsinks[5],bprops[6],std::vector<std::vector<int>>{{3, 0}, {2, 3}, {1, 1}, {0, 2}}));\n",
      "diagrams.push_back(Diagram(bsinks[5],bprops[6],std::vector<std::vector<int>>{{3, 0}, {2, 3}, {1, 2}, {0, 1}}));\n",
      "diagrams.push_back(Diagram(bprops[6],bsinks[6],std::vector<std::vector<int>>{{3, 3}, {2, 2}, {1, 1}, {0, 0}}));\n",
      "diagrams.push_back(Diagram(bprops[6],bsinks[6],std::vector<std::vector<int>>{{3, 3}, {2, 2}, {1, 0}, {0, 1}}));\n",
      "diagrams.push_back(Diagram(bprops[6],bsinks[6],std::vector<std::vector<int>>{{3, 3}, {2, 0}, {1, 2}, {0, 1}}));\n",
      "diagrams.push_back(Diagram(bprops[6],bsinks[6],std::vector<std::vector<int>>{{3, 3}, {2, 1}, {1, 2}, {0, 0}}));\n",
      "diagrams.push_back(Diagram(bprops[6],bsinks[6],std::vector<std::vector<int>>{{3, 3}, {2, 1}, {1, 0}, {0, 2}}));\n",
      "diagrams.push_back(Diagram(bprops[6],bsinks[6],std::vector<std::vector<int>>{{3, 3}, {2, 0}, {1, 1}, {0, 2}}));\n",
      "diagrams.push_back(Diagram(bprops[6],bsinks[6],std::vector<std::vector<int>>{{3, 0}, {2, 3}, {1, 1}, {0, 2}}));\n",
      "diagrams.push_back(Diagram(bprops[6],bsinks[6],std::vector<std::vector<int>>{{3, 1}, {2, 3}, {1, 0}, {0, 2}}));\n",
      "diagrams.push_back(Diagram(bprops[6],bsinks[6],std::vector<std::vector<int>>{{3, 1}, {2, 3}, {1, 2}, {0, 0}}));\n",
      "diagrams.push_back(Diagram(bprops[6],bsinks[6],std::vector<std::vector<int>>{{3, 0}, {2, 3}, {1, 2}, {0, 1}}));\n",
      "diagrams.push_back(Diagram(bprops[6],bsinks[6],std::vector<std::vector<int>>{{3, 2}, {2, 3}, {1, 0}, {0, 1}}));\n",
      "diagrams.push_back(Diagram(bprops[6],bsinks[6],std::vector<std::vector<int>>{{3, 2}, {2, 3}, {1, 1}, {0, 0}}));\n",
      "diagrams.push_back(Diagram(bprops[6],bsinks[6],std::vector<std::vector<int>>{{3, 2}, {2, 1}, {1, 3}, {0, 0}}));\n",
      "diagrams.push_back(Diagram(bprops[6],bsinks[6],std::vector<std::vector<int>>{{3, 2}, {2, 0}, {1, 3}, {0, 1}}));\n",
      "diagrams.push_back(Diagram(bprops[6],bsinks[6],std::vector<std::vector<int>>{{3, 0}, {2, 2}, {1, 3}, {0, 1}}));\n",
      "diagrams.push_back(Diagram(bprops[6],bsinks[6],std::vector<std::vector<int>>{{3, 1}, {2, 2}, {1, 3}, {0, 0}}));\n",
      "diagrams.push_back(Diagram(bprops[6],bsinks[6],std::vector<std::vector<int>>{{3, 1}, {2, 0}, {1, 3}, {0, 2}}));\n",
      "diagrams.push_back(Diagram(bprops[6],bsinks[6],std::vector<std::vector<int>>{{3, 0}, {2, 1}, {1, 3}, {0, 2}}));\n",
      "diagrams.push_back(Diagram(bprops[6],bsinks[6],std::vector<std::vector<int>>{{3, 0}, {2, 1}, {1, 2}, {0, 3}}));\n",
      "diagrams.push_back(Diagram(bprops[6],bsinks[6],std::vector<std::vector<int>>{{3, 1}, {2, 0}, {1, 2}, {0, 3}}));\n",
      "diagrams.push_back(Diagram(bprops[6],bsinks[6],std::vector<std::vector<int>>{{3, 1}, {2, 2}, {1, 0}, {0, 3}}));\n",
      "diagrams.push_back(Diagram(bprops[6],bsinks[6],std::vector<std::vector<int>>{{3, 0}, {2, 2}, {1, 1}, {0, 3}}));\n",
      "diagrams.push_back(Diagram(bprops[6],bsinks[6],std::vector<std::vector<int>>{{3, 2}, {2, 0}, {1, 1}, {0, 3}}));\n",
      "diagrams.push_back(Diagram(bprops[6],bsinks[6],std::vector<std::vector<int>>{{3, 2}, {2, 1}, {1, 0}, {0, 3}}));\n",
      "diagrams.push_back(Diagram(bprops[6],bsinks[7],std::vector<std::vector<int>>{{3, 3}, {2, 2}, {1, 1}, {0, 0}}));\n",
      "diagrams.push_back(Diagram(bprops[6],bsinks[7],std::vector<std::vector<int>>{{3, 3}, {2, 2}, {1, 0}, {0, 1}}));\n",
      "diagrams.push_back(Diagram(bprops[6],bsinks[7],std::vector<std::vector<int>>{{3, 3}, {2, 0}, {1, 2}, {0, 1}}));\n",
      "diagrams.push_back(Diagram(bprops[6],bsinks[7],std::vector<std::vector<int>>{{3, 3}, {2, 1}, {1, 2}, {0, 0}}));\n",
      "diagrams.push_back(Diagram(bprops[6],bsinks[7],std::vector<std::vector<int>>{{3, 3}, {2, 1}, {1, 0}, {0, 2}}));\n",
      "diagrams.push_back(Diagram(bprops[6],bsinks[7],std::vector<std::vector<int>>{{3, 3}, {2, 0}, {1, 1}, {0, 2}}));\n",
      "diagrams.push_back(Diagram(bprops[6],bsinks[7],std::vector<std::vector<int>>{{3, 0}, {2, 3}, {1, 1}, {0, 2}}));\n",
      "diagrams.push_back(Diagram(bprops[6],bsinks[7],std::vector<std::vector<int>>{{3, 1}, {2, 3}, {1, 0}, {0, 2}}));\n",
      "diagrams.push_back(Diagram(bprops[6],bsinks[7],std::vector<std::vector<int>>{{3, 1}, {2, 3}, {1, 2}, {0, 0}}));\n",
      "diagrams.push_back(Diagram(bprops[6],bsinks[7],std::vector<std::vector<int>>{{3, 0}, {2, 3}, {1, 2}, {0, 1}}));\n",
      "diagrams.push_back(Diagram(bprops[6],bsinks[7],std::vector<std::vector<int>>{{3, 2}, {2, 3}, {1, 0}, {0, 1}}));\n",
      "diagrams.push_back(Diagram(bprops[6],bsinks[7],std::vector<std::vector<int>>{{3, 2}, {2, 3}, {1, 1}, {0, 0}}));\n",
      "diagrams.push_back(Diagram(bprops[6],bsinks[7],std::vector<std::vector<int>>{{3, 2}, {2, 1}, {1, 3}, {0, 0}}));\n",
      "diagrams.push_back(Diagram(bprops[6],bsinks[7],std::vector<std::vector<int>>{{3, 2}, {2, 0}, {1, 3}, {0, 1}}));\n",
      "diagrams.push_back(Diagram(bprops[6],bsinks[7],std::vector<std::vector<int>>{{3, 0}, {2, 2}, {1, 3}, {0, 1}}));\n",
      "diagrams.push_back(Diagram(bprops[6],bsinks[7],std::vector<std::vector<int>>{{3, 1}, {2, 2}, {1, 3}, {0, 0}}));\n",
      "diagrams.push_back(Diagram(bprops[6],bsinks[7],std::vector<std::vector<int>>{{3, 1}, {2, 0}, {1, 3}, {0, 2}}));\n",
      "diagrams.push_back(Diagram(bprops[6],bsinks[7],std::vector<std::vector<int>>{{3, 0}, {2, 1}, {1, 3}, {0, 2}}));\n",
      "diagrams.push_back(Diagram(bprops[6],bsinks[7],std::vector<std::vector<int>>{{3, 0}, {2, 1}, {1, 2}, {0, 3}}));\n",
      "diagrams.push_back(Diagram(bprops[6],bsinks[7],std::vector<std::vector<int>>{{3, 1}, {2, 0}, {1, 2}, {0, 3}}));\n",
      "diagrams.push_back(Diagram(bprops[6],bsinks[7],std::vector<std::vector<int>>{{3, 1}, {2, 2}, {1, 0}, {0, 3}}));\n",
      "diagrams.push_back(Diagram(bprops[6],bsinks[7],std::vector<std::vector<int>>{{3, 0}, {2, 2}, {1, 1}, {0, 3}}));\n",
      "diagrams.push_back(Diagram(bprops[6],bsinks[7],std::vector<std::vector<int>>{{3, 2}, {2, 0}, {1, 1}, {0, 3}}));\n",
      "diagrams.push_back(Diagram(bprops[6],bsinks[7],std::vector<std::vector<int>>{{3, 2}, {2, 1}, {1, 0}, {0, 3}}));\n",
      "diagrams.push_back(Diagram(bprops[7],bsinks[0],std::vector<std::vector<int>>{{3, 3}, {2, 2}, {1, 1}, {0, 0}}));\n",
      "diagrams.push_back(Diagram(bprops[7],bsinks[0],std::vector<std::vector<int>>{{3, 3}, {2, 2}, {1, 0}, {0, 1}}));\n",
      "diagrams.push_back(Diagram(bprops[7],bsinks[0],std::vector<std::vector<int>>{{3, 3}, {2, 0}, {1, 2}, {0, 1}}));\n",
      "diagrams.push_back(Diagram(bprops[7],bsinks[0],std::vector<std::vector<int>>{{3, 3}, {2, 1}, {1, 2}, {0, 0}}));\n",
      "diagrams.push_back(Diagram(bprops[7],bsinks[0],std::vector<std::vector<int>>{{3, 3}, {2, 1}, {1, 0}, {0, 2}}));\n",
      "diagrams.push_back(Diagram(bprops[7],bsinks[0],std::vector<std::vector<int>>{{3, 3}, {2, 0}, {1, 1}, {0, 2}}));\n",
      "diagrams.push_back(Diagram(bprops[7],bsinks[0],std::vector<std::vector<int>>{{3, 0}, {2, 3}, {1, 1}, {0, 2}}));\n",
      "diagrams.push_back(Diagram(bprops[7],bsinks[0],std::vector<std::vector<int>>{{3, 1}, {2, 3}, {1, 0}, {0, 2}}));\n",
      "diagrams.push_back(Diagram(bprops[7],bsinks[0],std::vector<std::vector<int>>{{3, 1}, {2, 3}, {1, 2}, {0, 0}}));\n",
      "diagrams.push_back(Diagram(bprops[7],bsinks[0],std::vector<std::vector<int>>{{3, 0}, {2, 3}, {1, 2}, {0, 1}}));\n",
      "diagrams.push_back(Diagram(bprops[7],bsinks[0],std::vector<std::vector<int>>{{3, 2}, {2, 3}, {1, 0}, {0, 1}}));\n",
      "diagrams.push_back(Diagram(bprops[7],bsinks[0],std::vector<std::vector<int>>{{3, 2}, {2, 3}, {1, 1}, {0, 0}}));\n",
      "diagrams.push_back(Diagram(bprops[7],bsinks[0],std::vector<std::vector<int>>{{3, 2}, {2, 1}, {1, 3}, {0, 0}}));\n",
      "diagrams.push_back(Diagram(bprops[7],bsinks[0],std::vector<std::vector<int>>{{3, 2}, {2, 0}, {1, 3}, {0, 1}}));\n",
      "diagrams.push_back(Diagram(bprops[7],bsinks[0],std::vector<std::vector<int>>{{3, 0}, {2, 2}, {1, 3}, {0, 1}}));\n",
      "diagrams.push_back(Diagram(bprops[7],bsinks[0],std::vector<std::vector<int>>{{3, 1}, {2, 2}, {1, 3}, {0, 0}}));\n",
      "diagrams.push_back(Diagram(bprops[7],bsinks[0],std::vector<std::vector<int>>{{3, 1}, {2, 0}, {1, 3}, {0, 2}}));\n",
      "diagrams.push_back(Diagram(bprops[7],bsinks[0],std::vector<std::vector<int>>{{3, 0}, {2, 1}, {1, 3}, {0, 2}}));\n",
      "diagrams.push_back(Diagram(bprops[7],bsinks[0],std::vector<std::vector<int>>{{3, 0}, {2, 1}, {1, 2}, {0, 3}}));\n",
      "diagrams.push_back(Diagram(bprops[7],bsinks[0],std::vector<std::vector<int>>{{3, 1}, {2, 0}, {1, 2}, {0, 3}}));\n",
      "diagrams.push_back(Diagram(bprops[7],bsinks[0],std::vector<std::vector<int>>{{3, 1}, {2, 2}, {1, 0}, {0, 3}}));\n",
      "diagrams.push_back(Diagram(bprops[7],bsinks[0],std::vector<std::vector<int>>{{3, 0}, {2, 2}, {1, 1}, {0, 3}}));\n",
      "diagrams.push_back(Diagram(bprops[7],bsinks[0],std::vector<std::vector<int>>{{3, 2}, {2, 0}, {1, 1}, {0, 3}}));\n",
      "diagrams.push_back(Diagram(bprops[7],bsinks[0],std::vector<std::vector<int>>{{3, 2}, {2, 1}, {1, 0}, {0, 3}}));\n",
      "diagrams.push_back(Diagram(bsinks[1],bprops[7],std::vector<std::vector<int>>{{3, 3}, {2, 2}, {1, 1}, {0, 0}}));\n",
      "diagrams.push_back(Diagram(bsinks[1],bprops[7],std::vector<std::vector<int>>{{3, 3}, {2, 2}, {1, 0}, {0, 1}}));\n",
      "diagrams.push_back(Diagram(bsinks[1],bprops[7],std::vector<std::vector<int>>{{3, 3}, {2, 1}, {1, 0}, {0, 2}}));\n",
      "diagrams.push_back(Diagram(bsinks[1],bprops[7],std::vector<std::vector<int>>{{3, 3}, {2, 1}, {1, 2}, {0, 0}}));\n",
      "diagrams.push_back(Diagram(bsinks[1],bprops[7],std::vector<std::vector<int>>{{3, 3}, {2, 0}, {1, 2}, {0, 1}}));\n",
      "diagrams.push_back(Diagram(bsinks[1],bprops[7],std::vector<std::vector<int>>{{3, 3}, {2, 0}, {1, 1}, {0, 2}}));\n",
      "diagrams.push_back(Diagram(bsinks[1],bprops[7],std::vector<std::vector<int>>{{3, 2}, {2, 0}, {1, 1}, {0, 3}}));\n",
      "diagrams.push_back(Diagram(bsinks[1],bprops[7],std::vector<std::vector<int>>{{3, 2}, {2, 0}, {1, 3}, {0, 1}}));\n",
      "diagrams.push_back(Diagram(bsinks[1],bprops[7],std::vector<std::vector<int>>{{3, 2}, {2, 1}, {1, 3}, {0, 0}}));\n",
      "diagrams.push_back(Diagram(bsinks[1],bprops[7],std::vector<std::vector<int>>{{3, 2}, {2, 1}, {1, 0}, {0, 3}}));\n",
      "diagrams.push_back(Diagram(bsinks[1],bprops[7],std::vector<std::vector<int>>{{3, 2}, {2, 3}, {1, 0}, {0, 1}}));\n",
      "diagrams.push_back(Diagram(bsinks[1],bprops[7],std::vector<std::vector<int>>{{3, 2}, {2, 3}, {1, 1}, {0, 0}}));\n",
      "diagrams.push_back(Diagram(bsinks[1],bprops[7],std::vector<std::vector<int>>{{3, 1}, {2, 3}, {1, 2}, {0, 0}}));\n",
      "diagrams.push_back(Diagram(bsinks[1],bprops[7],std::vector<std::vector<int>>{{3, 1}, {2, 3}, {1, 0}, {0, 2}}));\n",
      "diagrams.push_back(Diagram(bsinks[1],bprops[7],std::vector<std::vector<int>>{{3, 1}, {2, 2}, {1, 0}, {0, 3}}));\n",
      "diagrams.push_back(Diagram(bsinks[1],bprops[7],std::vector<std::vector<int>>{{3, 1}, {2, 2}, {1, 3}, {0, 0}}));\n",
      "diagrams.push_back(Diagram(bsinks[1],bprops[7],std::vector<std::vector<int>>{{3, 1}, {2, 0}, {1, 3}, {0, 2}}));\n",
      "diagrams.push_back(Diagram(bsinks[1],bprops[7],std::vector<std::vector<int>>{{3, 1}, {2, 0}, {1, 2}, {0, 3}}));\n",
      "diagrams.push_back(Diagram(bsinks[1],bprops[7],std::vector<std::vector<int>>{{3, 0}, {2, 1}, {1, 2}, {0, 3}}));\n",
      "diagrams.push_back(Diagram(bsinks[1],bprops[7],std::vector<std::vector<int>>{{3, 0}, {2, 1}, {1, 3}, {0, 2}}));\n",
      "diagrams.push_back(Diagram(bsinks[1],bprops[7],std::vector<std::vector<int>>{{3, 0}, {2, 2}, {1, 3}, {0, 1}}));\n",
      "diagrams.push_back(Diagram(bsinks[1],bprops[7],std::vector<std::vector<int>>{{3, 0}, {2, 2}, {1, 1}, {0, 3}}));\n",
      "diagrams.push_back(Diagram(bsinks[1],bprops[7],std::vector<std::vector<int>>{{3, 0}, {2, 3}, {1, 1}, {0, 2}}));\n",
      "diagrams.push_back(Diagram(bsinks[1],bprops[7],std::vector<std::vector<int>>{{3, 0}, {2, 3}, {1, 2}, {0, 1}}));\n",
      "diagrams.push_back(Diagram(bsinks[2],bprops[7],std::vector<std::vector<int>>{{3, 3}, {2, 2}, {1, 1}, {0, 0}}));\n",
      "diagrams.push_back(Diagram(bsinks[2],bprops[7],std::vector<std::vector<int>>{{3, 3}, {2, 2}, {1, 0}, {0, 1}}));\n",
      "diagrams.push_back(Diagram(bsinks[2],bprops[7],std::vector<std::vector<int>>{{3, 3}, {2, 1}, {1, 0}, {0, 2}}));\n",
      "diagrams.push_back(Diagram(bsinks[2],bprops[7],std::vector<std::vector<int>>{{3, 3}, {2, 1}, {1, 2}, {0, 0}}));\n",
      "diagrams.push_back(Diagram(bsinks[2],bprops[7],std::vector<std::vector<int>>{{3, 3}, {2, 0}, {1, 2}, {0, 1}}));\n",
      "diagrams.push_back(Diagram(bsinks[2],bprops[7],std::vector<std::vector<int>>{{3, 3}, {2, 0}, {1, 1}, {0, 2}}));\n",
      "diagrams.push_back(Diagram(bsinks[2],bprops[7],std::vector<std::vector<int>>{{3, 2}, {2, 0}, {1, 1}, {0, 3}}));\n",
      "diagrams.push_back(Diagram(bsinks[2],bprops[7],std::vector<std::vector<int>>{{3, 2}, {2, 0}, {1, 3}, {0, 1}}));\n",
      "diagrams.push_back(Diagram(bsinks[2],bprops[7],std::vector<std::vector<int>>{{3, 2}, {2, 1}, {1, 3}, {0, 0}}));\n",
      "diagrams.push_back(Diagram(bsinks[2],bprops[7],std::vector<std::vector<int>>{{3, 2}, {2, 1}, {1, 0}, {0, 3}}));\n",
      "diagrams.push_back(Diagram(bsinks[2],bprops[7],std::vector<std::vector<int>>{{3, 2}, {2, 3}, {1, 0}, {0, 1}}));\n",
      "diagrams.push_back(Diagram(bsinks[2],bprops[7],std::vector<std::vector<int>>{{3, 2}, {2, 3}, {1, 1}, {0, 0}}));\n",
      "diagrams.push_back(Diagram(bsinks[2],bprops[7],std::vector<std::vector<int>>{{3, 1}, {2, 3}, {1, 2}, {0, 0}}));\n",
      "diagrams.push_back(Diagram(bsinks[2],bprops[7],std::vector<std::vector<int>>{{3, 1}, {2, 3}, {1, 0}, {0, 2}}));\n",
      "diagrams.push_back(Diagram(bsinks[2],bprops[7],std::vector<std::vector<int>>{{3, 1}, {2, 2}, {1, 0}, {0, 3}}));\n",
      "diagrams.push_back(Diagram(bsinks[2],bprops[7],std::vector<std::vector<int>>{{3, 1}, {2, 2}, {1, 3}, {0, 0}}));\n",
      "diagrams.push_back(Diagram(bsinks[2],bprops[7],std::vector<std::vector<int>>{{3, 1}, {2, 0}, {1, 3}, {0, 2}}));\n",
      "diagrams.push_back(Diagram(bsinks[2],bprops[7],std::vector<std::vector<int>>{{3, 1}, {2, 0}, {1, 2}, {0, 3}}));\n",
      "diagrams.push_back(Diagram(bsinks[2],bprops[7],std::vector<std::vector<int>>{{3, 0}, {2, 1}, {1, 2}, {0, 3}}));\n",
      "diagrams.push_back(Diagram(bsinks[2],bprops[7],std::vector<std::vector<int>>{{3, 0}, {2, 1}, {1, 3}, {0, 2}}));\n",
      "diagrams.push_back(Diagram(bsinks[2],bprops[7],std::vector<std::vector<int>>{{3, 0}, {2, 2}, {1, 3}, {0, 1}}));\n",
      "diagrams.push_back(Diagram(bsinks[2],bprops[7],std::vector<std::vector<int>>{{3, 0}, {2, 2}, {1, 1}, {0, 3}}));\n",
      "diagrams.push_back(Diagram(bsinks[2],bprops[7],std::vector<std::vector<int>>{{3, 0}, {2, 3}, {1, 1}, {0, 2}}));\n",
      "diagrams.push_back(Diagram(bsinks[2],bprops[7],std::vector<std::vector<int>>{{3, 0}, {2, 3}, {1, 2}, {0, 1}}));\n",
      "diagrams.push_back(Diagram(bsinks[3],bprops[7],std::vector<std::vector<int>>{{3, 3}, {2, 2}, {1, 1}, {0, 0}}));\n",
      "diagrams.push_back(Diagram(bsinks[3],bprops[7],std::vector<std::vector<int>>{{3, 3}, {2, 2}, {1, 0}, {0, 1}}));\n",
      "diagrams.push_back(Diagram(bsinks[3],bprops[7],std::vector<std::vector<int>>{{3, 3}, {2, 1}, {1, 0}, {0, 2}}));\n",
      "diagrams.push_back(Diagram(bsinks[3],bprops[7],std::vector<std::vector<int>>{{3, 3}, {2, 1}, {1, 2}, {0, 0}}));\n",
      "diagrams.push_back(Diagram(bsinks[3],bprops[7],std::vector<std::vector<int>>{{3, 3}, {2, 0}, {1, 2}, {0, 1}}));\n",
      "diagrams.push_back(Diagram(bsinks[3],bprops[7],std::vector<std::vector<int>>{{3, 3}, {2, 0}, {1, 1}, {0, 2}}));\n",
      "diagrams.push_back(Diagram(bsinks[3],bprops[7],std::vector<std::vector<int>>{{3, 2}, {2, 0}, {1, 1}, {0, 3}}));\n",
      "diagrams.push_back(Diagram(bsinks[3],bprops[7],std::vector<std::vector<int>>{{3, 2}, {2, 0}, {1, 3}, {0, 1}}));\n",
      "diagrams.push_back(Diagram(bsinks[3],bprops[7],std::vector<std::vector<int>>{{3, 2}, {2, 1}, {1, 3}, {0, 0}}));\n",
      "diagrams.push_back(Diagram(bsinks[3],bprops[7],std::vector<std::vector<int>>{{3, 2}, {2, 1}, {1, 0}, {0, 3}}));\n",
      "diagrams.push_back(Diagram(bsinks[3],bprops[7],std::vector<std::vector<int>>{{3, 2}, {2, 3}, {1, 0}, {0, 1}}));\n",
      "diagrams.push_back(Diagram(bsinks[3],bprops[7],std::vector<std::vector<int>>{{3, 2}, {2, 3}, {1, 1}, {0, 0}}));\n",
      "diagrams.push_back(Diagram(bsinks[3],bprops[7],std::vector<std::vector<int>>{{3, 1}, {2, 3}, {1, 2}, {0, 0}}));\n",
      "diagrams.push_back(Diagram(bsinks[3],bprops[7],std::vector<std::vector<int>>{{3, 1}, {2, 3}, {1, 0}, {0, 2}}));\n",
      "diagrams.push_back(Diagram(bsinks[3],bprops[7],std::vector<std::vector<int>>{{3, 1}, {2, 2}, {1, 0}, {0, 3}}));\n",
      "diagrams.push_back(Diagram(bsinks[3],bprops[7],std::vector<std::vector<int>>{{3, 1}, {2, 2}, {1, 3}, {0, 0}}));\n",
      "diagrams.push_back(Diagram(bsinks[3],bprops[7],std::vector<std::vector<int>>{{3, 1}, {2, 0}, {1, 3}, {0, 2}}));\n",
      "diagrams.push_back(Diagram(bsinks[3],bprops[7],std::vector<std::vector<int>>{{3, 1}, {2, 0}, {1, 2}, {0, 3}}));\n",
      "diagrams.push_back(Diagram(bsinks[3],bprops[7],std::vector<std::vector<int>>{{3, 0}, {2, 1}, {1, 2}, {0, 3}}));\n",
      "diagrams.push_back(Diagram(bsinks[3],bprops[7],std::vector<std::vector<int>>{{3, 0}, {2, 1}, {1, 3}, {0, 2}}));\n",
      "diagrams.push_back(Diagram(bsinks[3],bprops[7],std::vector<std::vector<int>>{{3, 0}, {2, 2}, {1, 3}, {0, 1}}));\n",
      "diagrams.push_back(Diagram(bsinks[3],bprops[7],std::vector<std::vector<int>>{{3, 0}, {2, 2}, {1, 1}, {0, 3}}));\n",
      "diagrams.push_back(Diagram(bsinks[3],bprops[7],std::vector<std::vector<int>>{{3, 0}, {2, 3}, {1, 1}, {0, 2}}));\n",
      "diagrams.push_back(Diagram(bsinks[3],bprops[7],std::vector<std::vector<int>>{{3, 0}, {2, 3}, {1, 2}, {0, 1}}));\n",
      "diagrams.push_back(Diagram(bsinks[4],bprops[7],std::vector<std::vector<int>>{{3, 3}, {2, 2}, {1, 1}, {0, 0}}));\n",
      "diagrams.push_back(Diagram(bsinks[4],bprops[7],std::vector<std::vector<int>>{{3, 3}, {2, 2}, {1, 0}, {0, 1}}));\n",
      "diagrams.push_back(Diagram(bsinks[4],bprops[7],std::vector<std::vector<int>>{{3, 3}, {2, 1}, {1, 0}, {0, 2}}));\n",
      "diagrams.push_back(Diagram(bsinks[4],bprops[7],std::vector<std::vector<int>>{{3, 3}, {2, 1}, {1, 2}, {0, 0}}));\n",
      "diagrams.push_back(Diagram(bsinks[4],bprops[7],std::vector<std::vector<int>>{{3, 3}, {2, 0}, {1, 2}, {0, 1}}));\n",
      "diagrams.push_back(Diagram(bsinks[4],bprops[7],std::vector<std::vector<int>>{{3, 3}, {2, 0}, {1, 1}, {0, 2}}));\n",
      "diagrams.push_back(Diagram(bsinks[4],bprops[7],std::vector<std::vector<int>>{{3, 2}, {2, 0}, {1, 1}, {0, 3}}));\n",
      "diagrams.push_back(Diagram(bsinks[4],bprops[7],std::vector<std::vector<int>>{{3, 2}, {2, 0}, {1, 3}, {0, 1}}));\n",
      "diagrams.push_back(Diagram(bsinks[4],bprops[7],std::vector<std::vector<int>>{{3, 2}, {2, 1}, {1, 3}, {0, 0}}));\n",
      "diagrams.push_back(Diagram(bsinks[4],bprops[7],std::vector<std::vector<int>>{{3, 2}, {2, 1}, {1, 0}, {0, 3}}));\n",
      "diagrams.push_back(Diagram(bsinks[4],bprops[7],std::vector<std::vector<int>>{{3, 2}, {2, 3}, {1, 0}, {0, 1}}));\n",
      "diagrams.push_back(Diagram(bsinks[4],bprops[7],std::vector<std::vector<int>>{{3, 2}, {2, 3}, {1, 1}, {0, 0}}));\n",
      "diagrams.push_back(Diagram(bsinks[4],bprops[7],std::vector<std::vector<int>>{{3, 1}, {2, 3}, {1, 2}, {0, 0}}));\n",
      "diagrams.push_back(Diagram(bsinks[4],bprops[7],std::vector<std::vector<int>>{{3, 1}, {2, 3}, {1, 0}, {0, 2}}));\n",
      "diagrams.push_back(Diagram(bsinks[4],bprops[7],std::vector<std::vector<int>>{{3, 1}, {2, 2}, {1, 0}, {0, 3}}));\n",
      "diagrams.push_back(Diagram(bsinks[4],bprops[7],std::vector<std::vector<int>>{{3, 1}, {2, 2}, {1, 3}, {0, 0}}));\n",
      "diagrams.push_back(Diagram(bsinks[4],bprops[7],std::vector<std::vector<int>>{{3, 1}, {2, 0}, {1, 3}, {0, 2}}));\n",
      "diagrams.push_back(Diagram(bsinks[4],bprops[7],std::vector<std::vector<int>>{{3, 1}, {2, 0}, {1, 2}, {0, 3}}));\n",
      "diagrams.push_back(Diagram(bsinks[4],bprops[7],std::vector<std::vector<int>>{{3, 0}, {2, 1}, {1, 2}, {0, 3}}));\n",
      "diagrams.push_back(Diagram(bsinks[4],bprops[7],std::vector<std::vector<int>>{{3, 0}, {2, 1}, {1, 3}, {0, 2}}));\n",
      "diagrams.push_back(Diagram(bsinks[4],bprops[7],std::vector<std::vector<int>>{{3, 0}, {2, 2}, {1, 3}, {0, 1}}));\n",
      "diagrams.push_back(Diagram(bsinks[4],bprops[7],std::vector<std::vector<int>>{{3, 0}, {2, 2}, {1, 1}, {0, 3}}));\n",
      "diagrams.push_back(Diagram(bsinks[4],bprops[7],std::vector<std::vector<int>>{{3, 0}, {2, 3}, {1, 1}, {0, 2}}));\n",
      "diagrams.push_back(Diagram(bsinks[4],bprops[7],std::vector<std::vector<int>>{{3, 0}, {2, 3}, {1, 2}, {0, 1}}));\n",
      "diagrams.push_back(Diagram(bsinks[5],bprops[7],std::vector<std::vector<int>>{{3, 3}, {2, 2}, {1, 1}, {0, 0}}));\n",
      "diagrams.push_back(Diagram(bsinks[5],bprops[7],std::vector<std::vector<int>>{{3, 3}, {2, 2}, {1, 0}, {0, 1}}));\n",
      "diagrams.push_back(Diagram(bsinks[5],bprops[7],std::vector<std::vector<int>>{{3, 3}, {2, 1}, {1, 0}, {0, 2}}));\n",
      "diagrams.push_back(Diagram(bsinks[5],bprops[7],std::vector<std::vector<int>>{{3, 3}, {2, 1}, {1, 2}, {0, 0}}));\n",
      "diagrams.push_back(Diagram(bsinks[5],bprops[7],std::vector<std::vector<int>>{{3, 3}, {2, 0}, {1, 2}, {0, 1}}));\n",
      "diagrams.push_back(Diagram(bsinks[5],bprops[7],std::vector<std::vector<int>>{{3, 3}, {2, 0}, {1, 1}, {0, 2}}));\n",
      "diagrams.push_back(Diagram(bsinks[5],bprops[7],std::vector<std::vector<int>>{{3, 2}, {2, 0}, {1, 1}, {0, 3}}));\n",
      "diagrams.push_back(Diagram(bsinks[5],bprops[7],std::vector<std::vector<int>>{{3, 2}, {2, 0}, {1, 3}, {0, 1}}));\n",
      "diagrams.push_back(Diagram(bsinks[5],bprops[7],std::vector<std::vector<int>>{{3, 2}, {2, 1}, {1, 3}, {0, 0}}));\n",
      "diagrams.push_back(Diagram(bsinks[5],bprops[7],std::vector<std::vector<int>>{{3, 2}, {2, 1}, {1, 0}, {0, 3}}));\n",
      "diagrams.push_back(Diagram(bsinks[5],bprops[7],std::vector<std::vector<int>>{{3, 2}, {2, 3}, {1, 0}, {0, 1}}));\n",
      "diagrams.push_back(Diagram(bsinks[5],bprops[7],std::vector<std::vector<int>>{{3, 2}, {2, 3}, {1, 1}, {0, 0}}));\n",
      "diagrams.push_back(Diagram(bsinks[5],bprops[7],std::vector<std::vector<int>>{{3, 1}, {2, 3}, {1, 2}, {0, 0}}));\n",
      "diagrams.push_back(Diagram(bsinks[5],bprops[7],std::vector<std::vector<int>>{{3, 1}, {2, 3}, {1, 0}, {0, 2}}));\n",
      "diagrams.push_back(Diagram(bsinks[5],bprops[7],std::vector<std::vector<int>>{{3, 1}, {2, 2}, {1, 0}, {0, 3}}));\n",
      "diagrams.push_back(Diagram(bsinks[5],bprops[7],std::vector<std::vector<int>>{{3, 1}, {2, 2}, {1, 3}, {0, 0}}));\n",
      "diagrams.push_back(Diagram(bsinks[5],bprops[7],std::vector<std::vector<int>>{{3, 1}, {2, 0}, {1, 3}, {0, 2}}));\n",
      "diagrams.push_back(Diagram(bsinks[5],bprops[7],std::vector<std::vector<int>>{{3, 1}, {2, 0}, {1, 2}, {0, 3}}));\n",
      "diagrams.push_back(Diagram(bsinks[5],bprops[7],std::vector<std::vector<int>>{{3, 0}, {2, 1}, {1, 2}, {0, 3}}));\n",
      "diagrams.push_back(Diagram(bsinks[5],bprops[7],std::vector<std::vector<int>>{{3, 0}, {2, 1}, {1, 3}, {0, 2}}));\n",
      "diagrams.push_back(Diagram(bsinks[5],bprops[7],std::vector<std::vector<int>>{{3, 0}, {2, 2}, {1, 3}, {0, 1}}));\n",
      "diagrams.push_back(Diagram(bsinks[5],bprops[7],std::vector<std::vector<int>>{{3, 0}, {2, 2}, {1, 1}, {0, 3}}));\n",
      "diagrams.push_back(Diagram(bsinks[5],bprops[7],std::vector<std::vector<int>>{{3, 0}, {2, 3}, {1, 1}, {0, 2}}));\n",
      "diagrams.push_back(Diagram(bsinks[5],bprops[7],std::vector<std::vector<int>>{{3, 0}, {2, 3}, {1, 2}, {0, 1}}));\n",
      "diagrams.push_back(Diagram(bsinks[6],bprops[7],std::vector<std::vector<int>>{{3, 3}, {2, 2}, {1, 1}, {0, 0}}));\n",
      "diagrams.push_back(Diagram(bsinks[6],bprops[7],std::vector<std::vector<int>>{{3, 3}, {2, 2}, {1, 0}, {0, 1}}));\n",
      "diagrams.push_back(Diagram(bsinks[6],bprops[7],std::vector<std::vector<int>>{{3, 3}, {2, 1}, {1, 0}, {0, 2}}));\n",
      "diagrams.push_back(Diagram(bsinks[6],bprops[7],std::vector<std::vector<int>>{{3, 3}, {2, 1}, {1, 2}, {0, 0}}));\n",
      "diagrams.push_back(Diagram(bsinks[6],bprops[7],std::vector<std::vector<int>>{{3, 3}, {2, 0}, {1, 2}, {0, 1}}));\n",
      "diagrams.push_back(Diagram(bsinks[6],bprops[7],std::vector<std::vector<int>>{{3, 3}, {2, 0}, {1, 1}, {0, 2}}));\n",
      "diagrams.push_back(Diagram(bsinks[6],bprops[7],std::vector<std::vector<int>>{{3, 2}, {2, 0}, {1, 1}, {0, 3}}));\n",
      "diagrams.push_back(Diagram(bsinks[6],bprops[7],std::vector<std::vector<int>>{{3, 2}, {2, 0}, {1, 3}, {0, 1}}));\n",
      "diagrams.push_back(Diagram(bsinks[6],bprops[7],std::vector<std::vector<int>>{{3, 2}, {2, 1}, {1, 3}, {0, 0}}));\n",
      "diagrams.push_back(Diagram(bsinks[6],bprops[7],std::vector<std::vector<int>>{{3, 2}, {2, 1}, {1, 0}, {0, 3}}));\n",
      "diagrams.push_back(Diagram(bsinks[6],bprops[7],std::vector<std::vector<int>>{{3, 2}, {2, 3}, {1, 0}, {0, 1}}));\n",
      "diagrams.push_back(Diagram(bsinks[6],bprops[7],std::vector<std::vector<int>>{{3, 2}, {2, 3}, {1, 1}, {0, 0}}));\n",
      "diagrams.push_back(Diagram(bsinks[6],bprops[7],std::vector<std::vector<int>>{{3, 1}, {2, 3}, {1, 2}, {0, 0}}));\n",
      "diagrams.push_back(Diagram(bsinks[6],bprops[7],std::vector<std::vector<int>>{{3, 1}, {2, 3}, {1, 0}, {0, 2}}));\n",
      "diagrams.push_back(Diagram(bsinks[6],bprops[7],std::vector<std::vector<int>>{{3, 1}, {2, 2}, {1, 0}, {0, 3}}));\n",
      "diagrams.push_back(Diagram(bsinks[6],bprops[7],std::vector<std::vector<int>>{{3, 1}, {2, 2}, {1, 3}, {0, 0}}));\n",
      "diagrams.push_back(Diagram(bsinks[6],bprops[7],std::vector<std::vector<int>>{{3, 1}, {2, 0}, {1, 3}, {0, 2}}));\n",
      "diagrams.push_back(Diagram(bsinks[6],bprops[7],std::vector<std::vector<int>>{{3, 1}, {2, 0}, {1, 2}, {0, 3}}));\n",
      "diagrams.push_back(Diagram(bsinks[6],bprops[7],std::vector<std::vector<int>>{{3, 0}, {2, 1}, {1, 2}, {0, 3}}));\n",
      "diagrams.push_back(Diagram(bsinks[6],bprops[7],std::vector<std::vector<int>>{{3, 0}, {2, 1}, {1, 3}, {0, 2}}));\n",
      "diagrams.push_back(Diagram(bsinks[6],bprops[7],std::vector<std::vector<int>>{{3, 0}, {2, 2}, {1, 3}, {0, 1}}));\n",
      "diagrams.push_back(Diagram(bsinks[6],bprops[7],std::vector<std::vector<int>>{{3, 0}, {2, 2}, {1, 1}, {0, 3}}));\n",
      "diagrams.push_back(Diagram(bsinks[6],bprops[7],std::vector<std::vector<int>>{{3, 0}, {2, 3}, {1, 1}, {0, 2}}));\n",
      "diagrams.push_back(Diagram(bsinks[6],bprops[7],std::vector<std::vector<int>>{{3, 0}, {2, 3}, {1, 2}, {0, 1}}));\n",
      "diagrams.push_back(Diagram(bprops[7],bsinks[7],std::vector<std::vector<int>>{{3, 3}, {2, 2}, {1, 1}, {0, 0}}));\n",
      "diagrams.push_back(Diagram(bprops[7],bsinks[7],std::vector<std::vector<int>>{{3, 3}, {2, 2}, {1, 0}, {0, 1}}));\n",
      "diagrams.push_back(Diagram(bprops[7],bsinks[7],std::vector<std::vector<int>>{{3, 3}, {2, 0}, {1, 2}, {0, 1}}));\n",
      "diagrams.push_back(Diagram(bprops[7],bsinks[7],std::vector<std::vector<int>>{{3, 3}, {2, 1}, {1, 2}, {0, 0}}));\n",
      "diagrams.push_back(Diagram(bprops[7],bsinks[7],std::vector<std::vector<int>>{{3, 3}, {2, 1}, {1, 0}, {0, 2}}));\n",
      "diagrams.push_back(Diagram(bprops[7],bsinks[7],std::vector<std::vector<int>>{{3, 3}, {2, 0}, {1, 1}, {0, 2}}));\n",
      "diagrams.push_back(Diagram(bprops[7],bsinks[7],std::vector<std::vector<int>>{{3, 0}, {2, 3}, {1, 1}, {0, 2}}));\n",
      "diagrams.push_back(Diagram(bprops[7],bsinks[7],std::vector<std::vector<int>>{{3, 1}, {2, 3}, {1, 0}, {0, 2}}));\n",
      "diagrams.push_back(Diagram(bprops[7],bsinks[7],std::vector<std::vector<int>>{{3, 1}, {2, 3}, {1, 2}, {0, 0}}));\n",
      "diagrams.push_back(Diagram(bprops[7],bsinks[7],std::vector<std::vector<int>>{{3, 0}, {2, 3}, {1, 2}, {0, 1}}));\n",
      "diagrams.push_back(Diagram(bprops[7],bsinks[7],std::vector<std::vector<int>>{{3, 2}, {2, 3}, {1, 0}, {0, 1}}));\n",
      "diagrams.push_back(Diagram(bprops[7],bsinks[7],std::vector<std::vector<int>>{{3, 2}, {2, 3}, {1, 1}, {0, 0}}));\n",
      "diagrams.push_back(Diagram(bprops[7],bsinks[7],std::vector<std::vector<int>>{{3, 2}, {2, 1}, {1, 3}, {0, 0}}));\n",
      "diagrams.push_back(Diagram(bprops[7],bsinks[7],std::vector<std::vector<int>>{{3, 2}, {2, 0}, {1, 3}, {0, 1}}));\n",
      "diagrams.push_back(Diagram(bprops[7],bsinks[7],std::vector<std::vector<int>>{{3, 0}, {2, 2}, {1, 3}, {0, 1}}));\n",
      "diagrams.push_back(Diagram(bprops[7],bsinks[7],std::vector<std::vector<int>>{{3, 1}, {2, 2}, {1, 3}, {0, 0}}));\n",
      "diagrams.push_back(Diagram(bprops[7],bsinks[7],std::vector<std::vector<int>>{{3, 1}, {2, 0}, {1, 3}, {0, 2}}));\n",
      "diagrams.push_back(Diagram(bprops[7],bsinks[7],std::vector<std::vector<int>>{{3, 0}, {2, 1}, {1, 3}, {0, 2}}));\n",
      "diagrams.push_back(Diagram(bprops[7],bsinks[7],std::vector<std::vector<int>>{{3, 0}, {2, 1}, {1, 2}, {0, 3}}));\n",
      "diagrams.push_back(Diagram(bprops[7],bsinks[7],std::vector<std::vector<int>>{{3, 1}, {2, 0}, {1, 2}, {0, 3}}));\n",
      "diagrams.push_back(Diagram(bprops[7],bsinks[7],std::vector<std::vector<int>>{{3, 1}, {2, 2}, {1, 0}, {0, 3}}));\n",
      "diagrams.push_back(Diagram(bprops[7],bsinks[7],std::vector<std::vector<int>>{{3, 0}, {2, 2}, {1, 1}, {0, 3}}));\n",
      "diagrams.push_back(Diagram(bprops[7],bsinks[7],std::vector<std::vector<int>>{{3, 2}, {2, 0}, {1, 1}, {0, 3}}));\n",
      "diagrams.push_back(Diagram(bprops[7],bsinks[7],std::vector<std::vector<int>>{{3, 2}, {2, 1}, {1, 0}, {0, 3}}));\n",
      "file footer\n"
     ]
    }
   ],
   "source": [
    "def cppArrayPrint(lst):\n",
    "    return str(lst).replace('[','{').replace(']','}')\n",
    "\n",
    "\n",
    "def create_diagram_gpu_file(laphDiagrams, allBaryonTensors):\n",
    "    print(\"file header\")\n",
    "    for d in laphDiagrams:\n",
    "        for blocks,contraction in diagram_as_graph(d,allBaryonTensors).items():\n",
    "            blocks=blocks.split(',')\n",
    "\n",
    "\n",
    "            block0=allBaryonTensorsBack[int(blocks[0])]\n",
    "            block1=allBaryonTensorsBack[int(blocks[1])]\n",
    "            \n",
    "            if block0[0:3]==\"B^*\":\n",
    "                b0type='bprops'\n",
    "                b0Idx=allBaryonProps[block0]\n",
    "            else: \n",
    "                b0type='bsinks'\n",
    "                b0Idx=allBaryonSinks[block0]\n",
    "            \n",
    "            if block1[0:3]==\"B^*\":\n",
    "                b1type='bprops'\n",
    "                b1Idx=allBaryonProps[block1]\n",
    "            else:\n",
    "                b1type='bsinks'\n",
    "                b1Idx=allBaryonSinks[block1]\n",
    "\n",
    "            print(\"diagrams.push_back(Diagram({}[{}],{}[{}],std::vector<std::vector<int>>{}));\".format(b0type,b0Idx,b1type,b1Idx,cppArrayPrint(contraction)))\n",
    "\n",
    "    print(\"file footer\")\n",
    "        \n",
    "\n",
    "create_diagram_gpu_file(laphDiagrams,allBaryonTensors)\n",
    "#for d in laphDiagrams:\n",
    "    #print(diagram_as_graph(d,allBaryonTensors))\n",
    "    "
   ]
  },
  {
   "cell_type": "code",
   "execution_count": 39,
   "metadata": {},
   "outputs": [
    {
     "data": {
      "text/latex": [
       "$\\displaystyle 1.0 B(x_1,t_i,\\Gamma^{ (buchoff,0) })_{{132} {133} {134} {135}}B^*(x_0,t_i,t_f,\\Gamma^{ (buchoff,0) })_{{132} {133} {134} {135}}$"
      ],
      "text/plain": [
       "<IPython.core.display.Math object>"
      ]
     },
     "metadata": {},
     "output_type": "display_data"
    },
    {
     "data": {
      "text/latex": [
       "$\\displaystyle -1.0 B(x_1,t_i,\\Gamma^{ (buchoff,0) })_{{132} {133} {134} {135}}B^*(x_0,t_i,t_f,\\Gamma^{ (buchoff,0) })_{{133} {132} {134} {135}}$"
      ],
      "text/plain": [
       "<IPython.core.display.Math object>"
      ]
     },
     "metadata": {},
     "output_type": "display_data"
    },
    {
     "data": {
      "text/latex": [
       "$\\displaystyle 1.0 B(x_1,t_i,\\Gamma^{ (buchoff,0) })_{{132} {133} {134} {135}}B^*(x_0,t_i,t_f,\\Gamma^{ (buchoff,0) })_{{133} {134} {132} {135}}$"
      ],
      "text/plain": [
       "<IPython.core.display.Math object>"
      ]
     },
     "metadata": {},
     "output_type": "display_data"
    },
    {
     "data": {
      "text/latex": [
       "$\\displaystyle -1.0 B(x_1,t_i,\\Gamma^{ (buchoff,0) })_{{132} {133} {134} {135}}B^*(x_0,t_i,t_f,\\Gamma^{ (buchoff,0) })_{{132} {134} {133} {135}}$"
      ],
      "text/plain": [
       "<IPython.core.display.Math object>"
      ]
     },
     "metadata": {},
     "output_type": "display_data"
    },
    {
     "data": {
      "text/latex": [
       "$\\displaystyle 1.0 B(x_1,t_i,\\Gamma^{ (buchoff,0) })_{{132} {133} {134} {135}}B^*(x_0,t_i,t_f,\\Gamma^{ (buchoff,0) })_{{134} {132} {133} {135}}$"
      ],
      "text/plain": [
       "<IPython.core.display.Math object>"
      ]
     },
     "metadata": {},
     "output_type": "display_data"
    },
    {
     "data": {
      "text/latex": [
       "$\\displaystyle -1.0 B(x_1,t_i,\\Gamma^{ (buchoff,0) })_{{132} {133} {134} {135}}B^*(x_0,t_i,t_f,\\Gamma^{ (buchoff,0) })_{{134} {133} {132} {135}}$"
      ],
      "text/plain": [
       "<IPython.core.display.Math object>"
      ]
     },
     "metadata": {},
     "output_type": "display_data"
    },
    {
     "data": {
      "text/latex": [
       "$\\displaystyle 1.0 B(x_1,t_i,\\Gamma^{ (buchoff,0) })_{{132} {133} {134} {135}}B^*(x_0,t_i,t_f,\\Gamma^{ (buchoff,0) })_{{134} {133} {135} {132}}$"
      ],
      "text/plain": [
       "<IPython.core.display.Math object>"
      ]
     },
     "metadata": {},
     "output_type": "display_data"
    },
    {
     "data": {
      "text/latex": [
       "$\\displaystyle -1.0 B(x_1,t_i,\\Gamma^{ (buchoff,0) })_{{132} {133} {134} {135}}B^*(x_0,t_i,t_f,\\Gamma^{ (buchoff,0) })_{{134} {132} {135} {133}}$"
      ],
      "text/plain": [
       "<IPython.core.display.Math object>"
      ]
     },
     "metadata": {},
     "output_type": "display_data"
    },
    {
     "data": {
      "text/latex": [
       "$\\displaystyle 1.0 B(x_1,t_i,\\Gamma^{ (buchoff,0) })_{{132} {133} {134} {135}}B^*(x_0,t_i,t_f,\\Gamma^{ (buchoff,0) })_{{132} {134} {135} {133}}$"
      ],
      "text/plain": [
       "<IPython.core.display.Math object>"
      ]
     },
     "metadata": {},
     "output_type": "display_data"
    },
    {
     "data": {
      "text/latex": [
       "$\\displaystyle -1.0 B(x_1,t_i,\\Gamma^{ (buchoff,0) })_{{132} {133} {134} {135}}B^*(x_0,t_i,t_f,\\Gamma^{ (buchoff,0) })_{{133} {134} {135} {132}}$"
      ],
      "text/plain": [
       "<IPython.core.display.Math object>"
      ]
     },
     "metadata": {},
     "output_type": "display_data"
    },
    {
     "data": {
      "text/latex": [
       "$\\displaystyle 1.0 B(x_1,t_i,\\Gamma^{ (buchoff,0) })_{{132} {133} {134} {135}}B^*(x_0,t_i,t_f,\\Gamma^{ (buchoff,0) })_{{133} {132} {135} {134}}$"
      ],
      "text/plain": [
       "<IPython.core.display.Math object>"
      ]
     },
     "metadata": {},
     "output_type": "display_data"
    },
    {
     "data": {
      "text/latex": [
       "$\\displaystyle -1.0 B(x_1,t_i,\\Gamma^{ (buchoff,0) })_{{132} {133} {134} {135}}B^*(x_0,t_i,t_f,\\Gamma^{ (buchoff,0) })_{{132} {133} {135} {134}}$"
      ],
      "text/plain": [
       "<IPython.core.display.Math object>"
      ]
     },
     "metadata": {},
     "output_type": "display_data"
    },
    {
     "data": {
      "text/latex": [
       "$\\displaystyle 1.0 B(x_1,t_i,\\Gamma^{ (buchoff,0) })_{{132} {133} {134} {135}}B^*(x_0,t_i,t_f,\\Gamma^{ (buchoff,0) })_{{132} {135} {133} {134}}$"
      ],
      "text/plain": [
       "<IPython.core.display.Math object>"
      ]
     },
     "metadata": {},
     "output_type": "display_data"
    },
    {
     "data": {
      "text/latex": [
       "$\\displaystyle -1.0 B(x_1,t_i,\\Gamma^{ (buchoff,0) })_{{132} {133} {134} {135}}B^*(x_0,t_i,t_f,\\Gamma^{ (buchoff,0) })_{{133} {135} {132} {134}}$"
      ],
      "text/plain": [
       "<IPython.core.display.Math object>"
      ]
     },
     "metadata": {},
     "output_type": "display_data"
    },
    {
     "data": {
      "text/latex": [
       "$\\displaystyle 1.0 B(x_1,t_i,\\Gamma^{ (buchoff,0) })_{{132} {133} {134} {135}}B^*(x_0,t_i,t_f,\\Gamma^{ (buchoff,0) })_{{133} {135} {134} {132}}$"
      ],
      "text/plain": [
       "<IPython.core.display.Math object>"
      ]
     },
     "metadata": {},
     "output_type": "display_data"
    },
    {
     "data": {
      "text/latex": [
       "$\\displaystyle -1.0 B(x_1,t_i,\\Gamma^{ (buchoff,0) })_{{132} {133} {134} {135}}B^*(x_0,t_i,t_f,\\Gamma^{ (buchoff,0) })_{{132} {135} {134} {133}}$"
      ],
      "text/plain": [
       "<IPython.core.display.Math object>"
      ]
     },
     "metadata": {},
     "output_type": "display_data"
    },
    {
     "data": {
      "text/latex": [
       "$\\displaystyle 1.0 B(x_1,t_i,\\Gamma^{ (buchoff,0) })_{{132} {133} {134} {135}}B^*(x_0,t_i,t_f,\\Gamma^{ (buchoff,0) })_{{134} {135} {132} {133}}$"
      ],
      "text/plain": [
       "<IPython.core.display.Math object>"
      ]
     },
     "metadata": {},
     "output_type": "display_data"
    },
    {
     "data": {
      "text/latex": [
       "$\\displaystyle -1.0 B(x_1,t_i,\\Gamma^{ (buchoff,0) })_{{132} {133} {134} {135}}B^*(x_0,t_i,t_f,\\Gamma^{ (buchoff,0) })_{{134} {135} {133} {132}}$"
      ],
      "text/plain": [
       "<IPython.core.display.Math object>"
      ]
     },
     "metadata": {},
     "output_type": "display_data"
    },
    {
     "data": {
      "text/latex": [
       "$\\displaystyle 1.0 B(x_1,t_i,\\Gamma^{ (buchoff,0) })_{{132} {133} {134} {135}}B^*(x_0,t_i,t_f,\\Gamma^{ (buchoff,0) })_{{135} {134} {133} {132}}$"
      ],
      "text/plain": [
       "<IPython.core.display.Math object>"
      ]
     },
     "metadata": {},
     "output_type": "display_data"
    },
    {
     "data": {
      "text/latex": [
       "$\\displaystyle -1.0 B(x_1,t_i,\\Gamma^{ (buchoff,0) })_{{132} {133} {134} {135}}B^*(x_0,t_i,t_f,\\Gamma^{ (buchoff,0) })_{{135} {134} {132} {133}}$"
      ],
      "text/plain": [
       "<IPython.core.display.Math object>"
      ]
     },
     "metadata": {},
     "output_type": "display_data"
    },
    {
     "data": {
      "text/latex": [
       "$\\displaystyle 1.0 B(x_1,t_i,\\Gamma^{ (buchoff,0) })_{{132} {133} {134} {135}}B^*(x_0,t_i,t_f,\\Gamma^{ (buchoff,0) })_{{135} {132} {134} {133}}$"
      ],
      "text/plain": [
       "<IPython.core.display.Math object>"
      ]
     },
     "metadata": {},
     "output_type": "display_data"
    },
    {
     "data": {
      "text/latex": [
       "$\\displaystyle -1.0 B(x_1,t_i,\\Gamma^{ (buchoff,0) })_{{132} {133} {134} {135}}B^*(x_0,t_i,t_f,\\Gamma^{ (buchoff,0) })_{{135} {133} {134} {132}}$"
      ],
      "text/plain": [
       "<IPython.core.display.Math object>"
      ]
     },
     "metadata": {},
     "output_type": "display_data"
    },
    {
     "data": {
      "text/latex": [
       "$\\displaystyle 1.0 B(x_1,t_i,\\Gamma^{ (buchoff,0) })_{{132} {133} {134} {135}}B^*(x_0,t_i,t_f,\\Gamma^{ (buchoff,0) })_{{135} {133} {132} {134}}$"
      ],
      "text/plain": [
       "<IPython.core.display.Math object>"
      ]
     },
     "metadata": {},
     "output_type": "display_data"
    },
    {
     "data": {
      "text/latex": [
       "$\\displaystyle -1.0 B(x_1,t_i,\\Gamma^{ (buchoff,0) })_{{132} {133} {134} {135}}B^*(x_0,t_i,t_f,\\Gamma^{ (buchoff,0) })_{{135} {132} {133} {134}}$"
      ],
      "text/plain": [
       "<IPython.core.display.Math object>"
      ]
     },
     "metadata": {},
     "output_type": "display_data"
    },
    {
     "data": {
      "text/latex": [
       "$\\displaystyle 1.0 B^*(x_0,t_i,t_f,\\Gamma^{ (buchoff,0) })_{{140} {141} {142} {143}}B(x_1,t_i,\\Gamma^{ (A1g,0) })_{{140} {141} {142} {143}}$"
      ],
      "text/plain": [
       "<IPython.core.display.Math object>"
      ]
     },
     "metadata": {},
     "output_type": "display_data"
    },
    {
     "data": {
      "text/latex": [
       "$\\displaystyle -1.0 B^*(x_0,t_i,t_f,\\Gamma^{ (buchoff,0) })_{{141} {140} {142} {143}}B(x_1,t_i,\\Gamma^{ (A1g,0) })_{{140} {141} {142} {143}}$"
      ],
      "text/plain": [
       "<IPython.core.display.Math object>"
      ]
     },
     "metadata": {},
     "output_type": "display_data"
    },
    {
     "data": {
      "text/latex": [
       "$\\displaystyle 1.0 B^*(x_0,t_i,t_f,\\Gamma^{ (buchoff,0) })_{{141} {142} {140} {143}}B(x_1,t_i,\\Gamma^{ (A1g,0) })_{{140} {141} {142} {143}}$"
      ],
      "text/plain": [
       "<IPython.core.display.Math object>"
      ]
     },
     "metadata": {},
     "output_type": "display_data"
    },
    {
     "data": {
      "text/latex": [
       "$\\displaystyle -1.0 B^*(x_0,t_i,t_f,\\Gamma^{ (buchoff,0) })_{{140} {142} {141} {143}}B(x_1,t_i,\\Gamma^{ (A1g,0) })_{{140} {141} {142} {143}}$"
      ],
      "text/plain": [
       "<IPython.core.display.Math object>"
      ]
     },
     "metadata": {},
     "output_type": "display_data"
    },
    {
     "data": {
      "text/latex": [
       "$\\displaystyle 1.0 B^*(x_0,t_i,t_f,\\Gamma^{ (buchoff,0) })_{{142} {140} {141} {143}}B(x_1,t_i,\\Gamma^{ (A1g,0) })_{{140} {141} {142} {143}}$"
      ],
      "text/plain": [
       "<IPython.core.display.Math object>"
      ]
     },
     "metadata": {},
     "output_type": "display_data"
    },
    {
     "data": {
      "text/latex": [
       "$\\displaystyle -1.0 B^*(x_0,t_i,t_f,\\Gamma^{ (buchoff,0) })_{{142} {141} {140} {143}}B(x_1,t_i,\\Gamma^{ (A1g,0) })_{{140} {141} {142} {143}}$"
      ],
      "text/plain": [
       "<IPython.core.display.Math object>"
      ]
     },
     "metadata": {},
     "output_type": "display_data"
    },
    {
     "data": {
      "text/latex": [
       "$\\displaystyle 1.0 B^*(x_0,t_i,t_f,\\Gamma^{ (buchoff,0) })_{{142} {141} {143} {140}}B(x_1,t_i,\\Gamma^{ (A1g,0) })_{{140} {141} {142} {143}}$"
      ],
      "text/plain": [
       "<IPython.core.display.Math object>"
      ]
     },
     "metadata": {},
     "output_type": "display_data"
    },
    {
     "data": {
      "text/latex": [
       "$\\displaystyle -1.0 B^*(x_0,t_i,t_f,\\Gamma^{ (buchoff,0) })_{{142} {140} {143} {141}}B(x_1,t_i,\\Gamma^{ (A1g,0) })_{{140} {141} {142} {143}}$"
      ],
      "text/plain": [
       "<IPython.core.display.Math object>"
      ]
     },
     "metadata": {},
     "output_type": "display_data"
    },
    {
     "data": {
      "text/latex": [
       "$\\displaystyle 1.0 B^*(x_0,t_i,t_f,\\Gamma^{ (buchoff,0) })_{{140} {142} {143} {141}}B(x_1,t_i,\\Gamma^{ (A1g,0) })_{{140} {141} {142} {143}}$"
      ],
      "text/plain": [
       "<IPython.core.display.Math object>"
      ]
     },
     "metadata": {},
     "output_type": "display_data"
    },
    {
     "data": {
      "text/latex": [
       "$\\displaystyle -1.0 B^*(x_0,t_i,t_f,\\Gamma^{ (buchoff,0) })_{{141} {142} {143} {140}}B(x_1,t_i,\\Gamma^{ (A1g,0) })_{{140} {141} {142} {143}}$"
      ],
      "text/plain": [
       "<IPython.core.display.Math object>"
      ]
     },
     "metadata": {},
     "output_type": "display_data"
    },
    {
     "data": {
      "text/latex": [
       "$\\displaystyle 1.0 B^*(x_0,t_i,t_f,\\Gamma^{ (buchoff,0) })_{{141} {140} {143} {142}}B(x_1,t_i,\\Gamma^{ (A1g,0) })_{{140} {141} {142} {143}}$"
      ],
      "text/plain": [
       "<IPython.core.display.Math object>"
      ]
     },
     "metadata": {},
     "output_type": "display_data"
    },
    {
     "data": {
      "text/latex": [
       "$\\displaystyle -1.0 B^*(x_0,t_i,t_f,\\Gamma^{ (buchoff,0) })_{{140} {141} {143} {142}}B(x_1,t_i,\\Gamma^{ (A1g,0) })_{{140} {141} {142} {143}}$"
      ],
      "text/plain": [
       "<IPython.core.display.Math object>"
      ]
     },
     "metadata": {},
     "output_type": "display_data"
    },
    {
     "data": {
      "text/latex": [
       "$\\displaystyle 1.0 B^*(x_0,t_i,t_f,\\Gamma^{ (buchoff,0) })_{{140} {143} {141} {142}}B(x_1,t_i,\\Gamma^{ (A1g,0) })_{{140} {141} {142} {143}}$"
      ],
      "text/plain": [
       "<IPython.core.display.Math object>"
      ]
     },
     "metadata": {},
     "output_type": "display_data"
    },
    {
     "data": {
      "text/latex": [
       "$\\displaystyle -1.0 B^*(x_0,t_i,t_f,\\Gamma^{ (buchoff,0) })_{{141} {143} {140} {142}}B(x_1,t_i,\\Gamma^{ (A1g,0) })_{{140} {141} {142} {143}}$"
      ],
      "text/plain": [
       "<IPython.core.display.Math object>"
      ]
     },
     "metadata": {},
     "output_type": "display_data"
    },
    {
     "data": {
      "text/latex": [
       "$\\displaystyle 1.0 B^*(x_0,t_i,t_f,\\Gamma^{ (buchoff,0) })_{{141} {143} {142} {140}}B(x_1,t_i,\\Gamma^{ (A1g,0) })_{{140} {141} {142} {143}}$"
      ],
      "text/plain": [
       "<IPython.core.display.Math object>"
      ]
     },
     "metadata": {},
     "output_type": "display_data"
    },
    {
     "data": {
      "text/latex": [
       "$\\displaystyle -1.0 B^*(x_0,t_i,t_f,\\Gamma^{ (buchoff,0) })_{{140} {143} {142} {141}}B(x_1,t_i,\\Gamma^{ (A1g,0) })_{{140} {141} {142} {143}}$"
      ],
      "text/plain": [
       "<IPython.core.display.Math object>"
      ]
     },
     "metadata": {},
     "output_type": "display_data"
    },
    {
     "data": {
      "text/latex": [
       "$\\displaystyle 1.0 B^*(x_0,t_i,t_f,\\Gamma^{ (buchoff,0) })_{{142} {143} {140} {141}}B(x_1,t_i,\\Gamma^{ (A1g,0) })_{{140} {141} {142} {143}}$"
      ],
      "text/plain": [
       "<IPython.core.display.Math object>"
      ]
     },
     "metadata": {},
     "output_type": "display_data"
    },
    {
     "data": {
      "text/latex": [
       "$\\displaystyle -1.0 B^*(x_0,t_i,t_f,\\Gamma^{ (buchoff,0) })_{{142} {143} {141} {140}}B(x_1,t_i,\\Gamma^{ (A1g,0) })_{{140} {141} {142} {143}}$"
      ],
      "text/plain": [
       "<IPython.core.display.Math object>"
      ]
     },
     "metadata": {},
     "output_type": "display_data"
    },
    {
     "data": {
      "text/latex": [
       "$\\displaystyle 1.0 B^*(x_0,t_i,t_f,\\Gamma^{ (buchoff,0) })_{{143} {142} {141} {140}}B(x_1,t_i,\\Gamma^{ (A1g,0) })_{{140} {141} {142} {143}}$"
      ],
      "text/plain": [
       "<IPython.core.display.Math object>"
      ]
     },
     "metadata": {},
     "output_type": "display_data"
    },
    {
     "data": {
      "text/latex": [
       "$\\displaystyle -1.0 B^*(x_0,t_i,t_f,\\Gamma^{ (buchoff,0) })_{{143} {142} {140} {141}}B(x_1,t_i,\\Gamma^{ (A1g,0) })_{{140} {141} {142} {143}}$"
      ],
      "text/plain": [
       "<IPython.core.display.Math object>"
      ]
     },
     "metadata": {},
     "output_type": "display_data"
    },
    {
     "data": {
      "text/latex": [
       "$\\displaystyle 1.0 B^*(x_0,t_i,t_f,\\Gamma^{ (buchoff,0) })_{{143} {140} {142} {141}}B(x_1,t_i,\\Gamma^{ (A1g,0) })_{{140} {141} {142} {143}}$"
      ],
      "text/plain": [
       "<IPython.core.display.Math object>"
      ]
     },
     "metadata": {},
     "output_type": "display_data"
    },
    {
     "data": {
      "text/latex": [
       "$\\displaystyle -1.0 B^*(x_0,t_i,t_f,\\Gamma^{ (buchoff,0) })_{{143} {141} {142} {140}}B(x_1,t_i,\\Gamma^{ (A1g,0) })_{{140} {141} {142} {143}}$"
      ],
      "text/plain": [
       "<IPython.core.display.Math object>"
      ]
     },
     "metadata": {},
     "output_type": "display_data"
    },
    {
     "data": {
      "text/latex": [
       "$\\displaystyle 1.0 B^*(x_0,t_i,t_f,\\Gamma^{ (buchoff,0) })_{{143} {141} {140} {142}}B(x_1,t_i,\\Gamma^{ (A1g,0) })_{{140} {141} {142} {143}}$"
      ],
      "text/plain": [
       "<IPython.core.display.Math object>"
      ]
     },
     "metadata": {},
     "output_type": "display_data"
    },
    {
     "data": {
      "text/latex": [
       "$\\displaystyle -1.0 B^*(x_0,t_i,t_f,\\Gamma^{ (buchoff,0) })_{{143} {140} {141} {142}}B(x_1,t_i,\\Gamma^{ (A1g,0) })_{{140} {141} {142} {143}}$"
      ],
      "text/plain": [
       "<IPython.core.display.Math object>"
      ]
     },
     "metadata": {},
     "output_type": "display_data"
    },
    {
     "data": {
      "text/latex": [
       "$\\displaystyle 1.0 B^*(x_0,t_i,t_f,\\Gamma^{ (buchoff,0) })_{{148} {149} {150} {151}}B(x_1,t_i,\\Gamma^{ (Eg0,0) })_{{148} {149} {150} {151}}$"
      ],
      "text/plain": [
       "<IPython.core.display.Math object>"
      ]
     },
     "metadata": {},
     "output_type": "display_data"
    },
    {
     "data": {
      "text/latex": [
       "$\\displaystyle -1.0 B^*(x_0,t_i,t_f,\\Gamma^{ (buchoff,0) })_{{149} {148} {150} {151}}B(x_1,t_i,\\Gamma^{ (Eg0,0) })_{{148} {149} {150} {151}}$"
      ],
      "text/plain": [
       "<IPython.core.display.Math object>"
      ]
     },
     "metadata": {},
     "output_type": "display_data"
    },
    {
     "data": {
      "text/latex": [
       "$\\displaystyle 1.0 B^*(x_0,t_i,t_f,\\Gamma^{ (buchoff,0) })_{{149} {150} {148} {151}}B(x_1,t_i,\\Gamma^{ (Eg0,0) })_{{148} {149} {150} {151}}$"
      ],
      "text/plain": [
       "<IPython.core.display.Math object>"
      ]
     },
     "metadata": {},
     "output_type": "display_data"
    },
    {
     "data": {
      "text/latex": [
       "$\\displaystyle -1.0 B^*(x_0,t_i,t_f,\\Gamma^{ (buchoff,0) })_{{148} {150} {149} {151}}B(x_1,t_i,\\Gamma^{ (Eg0,0) })_{{148} {149} {150} {151}}$"
      ],
      "text/plain": [
       "<IPython.core.display.Math object>"
      ]
     },
     "metadata": {},
     "output_type": "display_data"
    },
    {
     "data": {
      "text/latex": [
       "$\\displaystyle 1.0 B^*(x_0,t_i,t_f,\\Gamma^{ (buchoff,0) })_{{150} {148} {149} {151}}B(x_1,t_i,\\Gamma^{ (Eg0,0) })_{{148} {149} {150} {151}}$"
      ],
      "text/plain": [
       "<IPython.core.display.Math object>"
      ]
     },
     "metadata": {},
     "output_type": "display_data"
    },
    {
     "data": {
      "text/latex": [
       "$\\displaystyle -1.0 B^*(x_0,t_i,t_f,\\Gamma^{ (buchoff,0) })_{{150} {149} {148} {151}}B(x_1,t_i,\\Gamma^{ (Eg0,0) })_{{148} {149} {150} {151}}$"
      ],
      "text/plain": [
       "<IPython.core.display.Math object>"
      ]
     },
     "metadata": {},
     "output_type": "display_data"
    },
    {
     "data": {
      "text/latex": [
       "$\\displaystyle 1.0 B^*(x_0,t_i,t_f,\\Gamma^{ (buchoff,0) })_{{150} {149} {151} {148}}B(x_1,t_i,\\Gamma^{ (Eg0,0) })_{{148} {149} {150} {151}}$"
      ],
      "text/plain": [
       "<IPython.core.display.Math object>"
      ]
     },
     "metadata": {},
     "output_type": "display_data"
    },
    {
     "data": {
      "text/latex": [
       "$\\displaystyle -1.0 B^*(x_0,t_i,t_f,\\Gamma^{ (buchoff,0) })_{{150} {148} {151} {149}}B(x_1,t_i,\\Gamma^{ (Eg0,0) })_{{148} {149} {150} {151}}$"
      ],
      "text/plain": [
       "<IPython.core.display.Math object>"
      ]
     },
     "metadata": {},
     "output_type": "display_data"
    },
    {
     "data": {
      "text/latex": [
       "$\\displaystyle 1.0 B^*(x_0,t_i,t_f,\\Gamma^{ (buchoff,0) })_{{148} {150} {151} {149}}B(x_1,t_i,\\Gamma^{ (Eg0,0) })_{{148} {149} {150} {151}}$"
      ],
      "text/plain": [
       "<IPython.core.display.Math object>"
      ]
     },
     "metadata": {},
     "output_type": "display_data"
    },
    {
     "data": {
      "text/latex": [
       "$\\displaystyle -1.0 B^*(x_0,t_i,t_f,\\Gamma^{ (buchoff,0) })_{{149} {150} {151} {148}}B(x_1,t_i,\\Gamma^{ (Eg0,0) })_{{148} {149} {150} {151}}$"
      ],
      "text/plain": [
       "<IPython.core.display.Math object>"
      ]
     },
     "metadata": {},
     "output_type": "display_data"
    },
    {
     "data": {
      "text/latex": [
       "$\\displaystyle 1.0 B^*(x_0,t_i,t_f,\\Gamma^{ (buchoff,0) })_{{149} {148} {151} {150}}B(x_1,t_i,\\Gamma^{ (Eg0,0) })_{{148} {149} {150} {151}}$"
      ],
      "text/plain": [
       "<IPython.core.display.Math object>"
      ]
     },
     "metadata": {},
     "output_type": "display_data"
    },
    {
     "data": {
      "text/latex": [
       "$\\displaystyle -1.0 B^*(x_0,t_i,t_f,\\Gamma^{ (buchoff,0) })_{{148} {149} {151} {150}}B(x_1,t_i,\\Gamma^{ (Eg0,0) })_{{148} {149} {150} {151}}$"
      ],
      "text/plain": [
       "<IPython.core.display.Math object>"
      ]
     },
     "metadata": {},
     "output_type": "display_data"
    },
    {
     "data": {
      "text/latex": [
       "$\\displaystyle 1.0 B^*(x_0,t_i,t_f,\\Gamma^{ (buchoff,0) })_{{148} {151} {149} {150}}B(x_1,t_i,\\Gamma^{ (Eg0,0) })_{{148} {149} {150} {151}}$"
      ],
      "text/plain": [
       "<IPython.core.display.Math object>"
      ]
     },
     "metadata": {},
     "output_type": "display_data"
    },
    {
     "data": {
      "text/latex": [
       "$\\displaystyle -1.0 B^*(x_0,t_i,t_f,\\Gamma^{ (buchoff,0) })_{{149} {151} {148} {150}}B(x_1,t_i,\\Gamma^{ (Eg0,0) })_{{148} {149} {150} {151}}$"
      ],
      "text/plain": [
       "<IPython.core.display.Math object>"
      ]
     },
     "metadata": {},
     "output_type": "display_data"
    },
    {
     "data": {
      "text/latex": [
       "$\\displaystyle 1.0 B^*(x_0,t_i,t_f,\\Gamma^{ (buchoff,0) })_{{149} {151} {150} {148}}B(x_1,t_i,\\Gamma^{ (Eg0,0) })_{{148} {149} {150} {151}}$"
      ],
      "text/plain": [
       "<IPython.core.display.Math object>"
      ]
     },
     "metadata": {},
     "output_type": "display_data"
    },
    {
     "data": {
      "text/latex": [
       "$\\displaystyle -1.0 B^*(x_0,t_i,t_f,\\Gamma^{ (buchoff,0) })_{{148} {151} {150} {149}}B(x_1,t_i,\\Gamma^{ (Eg0,0) })_{{148} {149} {150} {151}}$"
      ],
      "text/plain": [
       "<IPython.core.display.Math object>"
      ]
     },
     "metadata": {},
     "output_type": "display_data"
    },
    {
     "data": {
      "text/latex": [
       "$\\displaystyle 1.0 B^*(x_0,t_i,t_f,\\Gamma^{ (buchoff,0) })_{{150} {151} {148} {149}}B(x_1,t_i,\\Gamma^{ (Eg0,0) })_{{148} {149} {150} {151}}$"
      ],
      "text/plain": [
       "<IPython.core.display.Math object>"
      ]
     },
     "metadata": {},
     "output_type": "display_data"
    },
    {
     "data": {
      "text/latex": [
       "$\\displaystyle -1.0 B^*(x_0,t_i,t_f,\\Gamma^{ (buchoff,0) })_{{150} {151} {149} {148}}B(x_1,t_i,\\Gamma^{ (Eg0,0) })_{{148} {149} {150} {151}}$"
      ],
      "text/plain": [
       "<IPython.core.display.Math object>"
      ]
     },
     "metadata": {},
     "output_type": "display_data"
    },
    {
     "data": {
      "text/latex": [
       "$\\displaystyle 1.0 B^*(x_0,t_i,t_f,\\Gamma^{ (buchoff,0) })_{{151} {150} {149} {148}}B(x_1,t_i,\\Gamma^{ (Eg0,0) })_{{148} {149} {150} {151}}$"
      ],
      "text/plain": [
       "<IPython.core.display.Math object>"
      ]
     },
     "metadata": {},
     "output_type": "display_data"
    },
    {
     "data": {
      "text/latex": [
       "$\\displaystyle -1.0 B^*(x_0,t_i,t_f,\\Gamma^{ (buchoff,0) })_{{151} {150} {148} {149}}B(x_1,t_i,\\Gamma^{ (Eg0,0) })_{{148} {149} {150} {151}}$"
      ],
      "text/plain": [
       "<IPython.core.display.Math object>"
      ]
     },
     "metadata": {},
     "output_type": "display_data"
    },
    {
     "data": {
      "text/latex": [
       "$\\displaystyle 1.0 B^*(x_0,t_i,t_f,\\Gamma^{ (buchoff,0) })_{{151} {148} {150} {149}}B(x_1,t_i,\\Gamma^{ (Eg0,0) })_{{148} {149} {150} {151}}$"
      ],
      "text/plain": [
       "<IPython.core.display.Math object>"
      ]
     },
     "metadata": {},
     "output_type": "display_data"
    },
    {
     "data": {
      "text/latex": [
       "$\\displaystyle -1.0 B^*(x_0,t_i,t_f,\\Gamma^{ (buchoff,0) })_{{151} {149} {150} {148}}B(x_1,t_i,\\Gamma^{ (Eg0,0) })_{{148} {149} {150} {151}}$"
      ],
      "text/plain": [
       "<IPython.core.display.Math object>"
      ]
     },
     "metadata": {},
     "output_type": "display_data"
    },
    {
     "data": {
      "text/latex": [
       "$\\displaystyle 1.0 B^*(x_0,t_i,t_f,\\Gamma^{ (buchoff,0) })_{{151} {149} {148} {150}}B(x_1,t_i,\\Gamma^{ (Eg0,0) })_{{148} {149} {150} {151}}$"
      ],
      "text/plain": [
       "<IPython.core.display.Math object>"
      ]
     },
     "metadata": {},
     "output_type": "display_data"
    },
    {
     "data": {
      "text/latex": [
       "$\\displaystyle -1.0 B^*(x_0,t_i,t_f,\\Gamma^{ (buchoff,0) })_{{151} {148} {149} {150}}B(x_1,t_i,\\Gamma^{ (Eg0,0) })_{{148} {149} {150} {151}}$"
      ],
      "text/plain": [
       "<IPython.core.display.Math object>"
      ]
     },
     "metadata": {},
     "output_type": "display_data"
    },
    {
     "data": {
      "text/latex": [
       "$\\displaystyle 1.0 B^*(x_0,t_i,t_f,\\Gamma^{ (buchoff,0) })_{{156} {157} {158} {159}}B(x_1,t_i,\\Gamma^{ (Eg0,1) })_{{156} {157} {158} {159}}$"
      ],
      "text/plain": [
       "<IPython.core.display.Math object>"
      ]
     },
     "metadata": {},
     "output_type": "display_data"
    },
    {
     "data": {
      "text/latex": [
       "$\\displaystyle -1.0 B^*(x_0,t_i,t_f,\\Gamma^{ (buchoff,0) })_{{157} {156} {158} {159}}B(x_1,t_i,\\Gamma^{ (Eg0,1) })_{{156} {157} {158} {159}}$"
      ],
      "text/plain": [
       "<IPython.core.display.Math object>"
      ]
     },
     "metadata": {},
     "output_type": "display_data"
    },
    {
     "data": {
      "text/latex": [
       "$\\displaystyle 1.0 B^*(x_0,t_i,t_f,\\Gamma^{ (buchoff,0) })_{{157} {158} {156} {159}}B(x_1,t_i,\\Gamma^{ (Eg0,1) })_{{156} {157} {158} {159}}$"
      ],
      "text/plain": [
       "<IPython.core.display.Math object>"
      ]
     },
     "metadata": {},
     "output_type": "display_data"
    },
    {
     "data": {
      "text/latex": [
       "$\\displaystyle -1.0 B^*(x_0,t_i,t_f,\\Gamma^{ (buchoff,0) })_{{156} {158} {157} {159}}B(x_1,t_i,\\Gamma^{ (Eg0,1) })_{{156} {157} {158} {159}}$"
      ],
      "text/plain": [
       "<IPython.core.display.Math object>"
      ]
     },
     "metadata": {},
     "output_type": "display_data"
    },
    {
     "data": {
      "text/latex": [
       "$\\displaystyle 1.0 B^*(x_0,t_i,t_f,\\Gamma^{ (buchoff,0) })_{{158} {156} {157} {159}}B(x_1,t_i,\\Gamma^{ (Eg0,1) })_{{156} {157} {158} {159}}$"
      ],
      "text/plain": [
       "<IPython.core.display.Math object>"
      ]
     },
     "metadata": {},
     "output_type": "display_data"
    },
    {
     "data": {
      "text/latex": [
       "$\\displaystyle -1.0 B^*(x_0,t_i,t_f,\\Gamma^{ (buchoff,0) })_{{158} {157} {156} {159}}B(x_1,t_i,\\Gamma^{ (Eg0,1) })_{{156} {157} {158} {159}}$"
      ],
      "text/plain": [
       "<IPython.core.display.Math object>"
      ]
     },
     "metadata": {},
     "output_type": "display_data"
    },
    {
     "data": {
      "text/latex": [
       "$\\displaystyle 1.0 B^*(x_0,t_i,t_f,\\Gamma^{ (buchoff,0) })_{{158} {157} {159} {156}}B(x_1,t_i,\\Gamma^{ (Eg0,1) })_{{156} {157} {158} {159}}$"
      ],
      "text/plain": [
       "<IPython.core.display.Math object>"
      ]
     },
     "metadata": {},
     "output_type": "display_data"
    },
    {
     "data": {
      "text/latex": [
       "$\\displaystyle -1.0 B^*(x_0,t_i,t_f,\\Gamma^{ (buchoff,0) })_{{158} {156} {159} {157}}B(x_1,t_i,\\Gamma^{ (Eg0,1) })_{{156} {157} {158} {159}}$"
      ],
      "text/plain": [
       "<IPython.core.display.Math object>"
      ]
     },
     "metadata": {},
     "output_type": "display_data"
    },
    {
     "data": {
      "text/latex": [
       "$\\displaystyle 1.0 B^*(x_0,t_i,t_f,\\Gamma^{ (buchoff,0) })_{{156} {158} {159} {157}}B(x_1,t_i,\\Gamma^{ (Eg0,1) })_{{156} {157} {158} {159}}$"
      ],
      "text/plain": [
       "<IPython.core.display.Math object>"
      ]
     },
     "metadata": {},
     "output_type": "display_data"
    },
    {
     "data": {
      "text/latex": [
       "$\\displaystyle -1.0 B^*(x_0,t_i,t_f,\\Gamma^{ (buchoff,0) })_{{157} {158} {159} {156}}B(x_1,t_i,\\Gamma^{ (Eg0,1) })_{{156} {157} {158} {159}}$"
      ],
      "text/plain": [
       "<IPython.core.display.Math object>"
      ]
     },
     "metadata": {},
     "output_type": "display_data"
    },
    {
     "data": {
      "text/latex": [
       "$\\displaystyle 1.0 B^*(x_0,t_i,t_f,\\Gamma^{ (buchoff,0) })_{{157} {156} {159} {158}}B(x_1,t_i,\\Gamma^{ (Eg0,1) })_{{156} {157} {158} {159}}$"
      ],
      "text/plain": [
       "<IPython.core.display.Math object>"
      ]
     },
     "metadata": {},
     "output_type": "display_data"
    },
    {
     "data": {
      "text/latex": [
       "$\\displaystyle -1.0 B^*(x_0,t_i,t_f,\\Gamma^{ (buchoff,0) })_{{156} {157} {159} {158}}B(x_1,t_i,\\Gamma^{ (Eg0,1) })_{{156} {157} {158} {159}}$"
      ],
      "text/plain": [
       "<IPython.core.display.Math object>"
      ]
     },
     "metadata": {},
     "output_type": "display_data"
    },
    {
     "data": {
      "text/latex": [
       "$\\displaystyle 1.0 B^*(x_0,t_i,t_f,\\Gamma^{ (buchoff,0) })_{{156} {159} {157} {158}}B(x_1,t_i,\\Gamma^{ (Eg0,1) })_{{156} {157} {158} {159}}$"
      ],
      "text/plain": [
       "<IPython.core.display.Math object>"
      ]
     },
     "metadata": {},
     "output_type": "display_data"
    },
    {
     "data": {
      "text/latex": [
       "$\\displaystyle -1.0 B^*(x_0,t_i,t_f,\\Gamma^{ (buchoff,0) })_{{157} {159} {156} {158}}B(x_1,t_i,\\Gamma^{ (Eg0,1) })_{{156} {157} {158} {159}}$"
      ],
      "text/plain": [
       "<IPython.core.display.Math object>"
      ]
     },
     "metadata": {},
     "output_type": "display_data"
    },
    {
     "data": {
      "text/latex": [
       "$\\displaystyle 1.0 B^*(x_0,t_i,t_f,\\Gamma^{ (buchoff,0) })_{{157} {159} {158} {156}}B(x_1,t_i,\\Gamma^{ (Eg0,1) })_{{156} {157} {158} {159}}$"
      ],
      "text/plain": [
       "<IPython.core.display.Math object>"
      ]
     },
     "metadata": {},
     "output_type": "display_data"
    },
    {
     "data": {
      "text/latex": [
       "$\\displaystyle -1.0 B^*(x_0,t_i,t_f,\\Gamma^{ (buchoff,0) })_{{156} {159} {158} {157}}B(x_1,t_i,\\Gamma^{ (Eg0,1) })_{{156} {157} {158} {159}}$"
      ],
      "text/plain": [
       "<IPython.core.display.Math object>"
      ]
     },
     "metadata": {},
     "output_type": "display_data"
    },
    {
     "data": {
      "text/latex": [
       "$\\displaystyle 1.0 B^*(x_0,t_i,t_f,\\Gamma^{ (buchoff,0) })_{{158} {159} {156} {157}}B(x_1,t_i,\\Gamma^{ (Eg0,1) })_{{156} {157} {158} {159}}$"
      ],
      "text/plain": [
       "<IPython.core.display.Math object>"
      ]
     },
     "metadata": {},
     "output_type": "display_data"
    },
    {
     "data": {
      "text/latex": [
       "$\\displaystyle -1.0 B^*(x_0,t_i,t_f,\\Gamma^{ (buchoff,0) })_{{158} {159} {157} {156}}B(x_1,t_i,\\Gamma^{ (Eg0,1) })_{{156} {157} {158} {159}}$"
      ],
      "text/plain": [
       "<IPython.core.display.Math object>"
      ]
     },
     "metadata": {},
     "output_type": "display_data"
    },
    {
     "data": {
      "text/latex": [
       "$\\displaystyle 1.0 B^*(x_0,t_i,t_f,\\Gamma^{ (buchoff,0) })_{{159} {158} {157} {156}}B(x_1,t_i,\\Gamma^{ (Eg0,1) })_{{156} {157} {158} {159}}$"
      ],
      "text/plain": [
       "<IPython.core.display.Math object>"
      ]
     },
     "metadata": {},
     "output_type": "display_data"
    },
    {
     "data": {
      "text/latex": [
       "$\\displaystyle -1.0 B^*(x_0,t_i,t_f,\\Gamma^{ (buchoff,0) })_{{159} {158} {156} {157}}B(x_1,t_i,\\Gamma^{ (Eg0,1) })_{{156} {157} {158} {159}}$"
      ],
      "text/plain": [
       "<IPython.core.display.Math object>"
      ]
     },
     "metadata": {},
     "output_type": "display_data"
    },
    {
     "data": {
      "text/latex": [
       "$\\displaystyle 1.0 B^*(x_0,t_i,t_f,\\Gamma^{ (buchoff,0) })_{{159} {156} {158} {157}}B(x_1,t_i,\\Gamma^{ (Eg0,1) })_{{156} {157} {158} {159}}$"
      ],
      "text/plain": [
       "<IPython.core.display.Math object>"
      ]
     },
     "metadata": {},
     "output_type": "display_data"
    },
    {
     "data": {
      "text/latex": [
       "$\\displaystyle -1.0 B^*(x_0,t_i,t_f,\\Gamma^{ (buchoff,0) })_{{159} {157} {158} {156}}B(x_1,t_i,\\Gamma^{ (Eg0,1) })_{{156} {157} {158} {159}}$"
      ],
      "text/plain": [
       "<IPython.core.display.Math object>"
      ]
     },
     "metadata": {},
     "output_type": "display_data"
    },
    {
     "data": {
      "text/latex": [
       "$\\displaystyle 1.0 B^*(x_0,t_i,t_f,\\Gamma^{ (buchoff,0) })_{{159} {157} {156} {158}}B(x_1,t_i,\\Gamma^{ (Eg0,1) })_{{156} {157} {158} {159}}$"
      ],
      "text/plain": [
       "<IPython.core.display.Math object>"
      ]
     },
     "metadata": {},
     "output_type": "display_data"
    },
    {
     "data": {
      "text/latex": [
       "$\\displaystyle -1.0 B^*(x_0,t_i,t_f,\\Gamma^{ (buchoff,0) })_{{159} {156} {157} {158}}B(x_1,t_i,\\Gamma^{ (Eg0,1) })_{{156} {157} {158} {159}}$"
      ],
      "text/plain": [
       "<IPython.core.display.Math object>"
      ]
     },
     "metadata": {},
     "output_type": "display_data"
    },
    {
     "data": {
      "text/latex": [
       "$\\displaystyle 1.0 B^*(x_0,t_i,t_f,\\Gamma^{ (buchoff,0) })_{{164} {165} {166} {167}}B(x_1,t_i,\\Gamma^{ (Eg0,2) })_{{164} {165} {166} {167}}$"
      ],
      "text/plain": [
       "<IPython.core.display.Math object>"
      ]
     },
     "metadata": {},
     "output_type": "display_data"
    },
    {
     "data": {
      "text/latex": [
       "$\\displaystyle -1.0 B^*(x_0,t_i,t_f,\\Gamma^{ (buchoff,0) })_{{165} {164} {166} {167}}B(x_1,t_i,\\Gamma^{ (Eg0,2) })_{{164} {165} {166} {167}}$"
      ],
      "text/plain": [
       "<IPython.core.display.Math object>"
      ]
     },
     "metadata": {},
     "output_type": "display_data"
    },
    {
     "data": {
      "text/latex": [
       "$\\displaystyle 1.0 B^*(x_0,t_i,t_f,\\Gamma^{ (buchoff,0) })_{{165} {166} {164} {167}}B(x_1,t_i,\\Gamma^{ (Eg0,2) })_{{164} {165} {166} {167}}$"
      ],
      "text/plain": [
       "<IPython.core.display.Math object>"
      ]
     },
     "metadata": {},
     "output_type": "display_data"
    },
    {
     "data": {
      "text/latex": [
       "$\\displaystyle -1.0 B^*(x_0,t_i,t_f,\\Gamma^{ (buchoff,0) })_{{164} {166} {165} {167}}B(x_1,t_i,\\Gamma^{ (Eg0,2) })_{{164} {165} {166} {167}}$"
      ],
      "text/plain": [
       "<IPython.core.display.Math object>"
      ]
     },
     "metadata": {},
     "output_type": "display_data"
    },
    {
     "data": {
      "text/latex": [
       "$\\displaystyle 1.0 B^*(x_0,t_i,t_f,\\Gamma^{ (buchoff,0) })_{{166} {164} {165} {167}}B(x_1,t_i,\\Gamma^{ (Eg0,2) })_{{164} {165} {166} {167}}$"
      ],
      "text/plain": [
       "<IPython.core.display.Math object>"
      ]
     },
     "metadata": {},
     "output_type": "display_data"
    },
    {
     "data": {
      "text/latex": [
       "$\\displaystyle -1.0 B^*(x_0,t_i,t_f,\\Gamma^{ (buchoff,0) })_{{166} {165} {164} {167}}B(x_1,t_i,\\Gamma^{ (Eg0,2) })_{{164} {165} {166} {167}}$"
      ],
      "text/plain": [
       "<IPython.core.display.Math object>"
      ]
     },
     "metadata": {},
     "output_type": "display_data"
    },
    {
     "data": {
      "text/latex": [
       "$\\displaystyle 1.0 B^*(x_0,t_i,t_f,\\Gamma^{ (buchoff,0) })_{{166} {165} {167} {164}}B(x_1,t_i,\\Gamma^{ (Eg0,2) })_{{164} {165} {166} {167}}$"
      ],
      "text/plain": [
       "<IPython.core.display.Math object>"
      ]
     },
     "metadata": {},
     "output_type": "display_data"
    },
    {
     "data": {
      "text/latex": [
       "$\\displaystyle -1.0 B^*(x_0,t_i,t_f,\\Gamma^{ (buchoff,0) })_{{166} {164} {167} {165}}B(x_1,t_i,\\Gamma^{ (Eg0,2) })_{{164} {165} {166} {167}}$"
      ],
      "text/plain": [
       "<IPython.core.display.Math object>"
      ]
     },
     "metadata": {},
     "output_type": "display_data"
    },
    {
     "data": {
      "text/latex": [
       "$\\displaystyle 1.0 B^*(x_0,t_i,t_f,\\Gamma^{ (buchoff,0) })_{{164} {166} {167} {165}}B(x_1,t_i,\\Gamma^{ (Eg0,2) })_{{164} {165} {166} {167}}$"
      ],
      "text/plain": [
       "<IPython.core.display.Math object>"
      ]
     },
     "metadata": {},
     "output_type": "display_data"
    },
    {
     "data": {
      "text/latex": [
       "$\\displaystyle -1.0 B^*(x_0,t_i,t_f,\\Gamma^{ (buchoff,0) })_{{165} {166} {167} {164}}B(x_1,t_i,\\Gamma^{ (Eg0,2) })_{{164} {165} {166} {167}}$"
      ],
      "text/plain": [
       "<IPython.core.display.Math object>"
      ]
     },
     "metadata": {},
     "output_type": "display_data"
    },
    {
     "data": {
      "text/latex": [
       "$\\displaystyle 1.0 B^*(x_0,t_i,t_f,\\Gamma^{ (buchoff,0) })_{{165} {164} {167} {166}}B(x_1,t_i,\\Gamma^{ (Eg0,2) })_{{164} {165} {166} {167}}$"
      ],
      "text/plain": [
       "<IPython.core.display.Math object>"
      ]
     },
     "metadata": {},
     "output_type": "display_data"
    },
    {
     "data": {
      "text/latex": [
       "$\\displaystyle -1.0 B^*(x_0,t_i,t_f,\\Gamma^{ (buchoff,0) })_{{164} {165} {167} {166}}B(x_1,t_i,\\Gamma^{ (Eg0,2) })_{{164} {165} {166} {167}}$"
      ],
      "text/plain": [
       "<IPython.core.display.Math object>"
      ]
     },
     "metadata": {},
     "output_type": "display_data"
    },
    {
     "data": {
      "text/latex": [
       "$\\displaystyle 1.0 B^*(x_0,t_i,t_f,\\Gamma^{ (buchoff,0) })_{{164} {167} {165} {166}}B(x_1,t_i,\\Gamma^{ (Eg0,2) })_{{164} {165} {166} {167}}$"
      ],
      "text/plain": [
       "<IPython.core.display.Math object>"
      ]
     },
     "metadata": {},
     "output_type": "display_data"
    },
    {
     "data": {
      "text/latex": [
       "$\\displaystyle -1.0 B^*(x_0,t_i,t_f,\\Gamma^{ (buchoff,0) })_{{165} {167} {164} {166}}B(x_1,t_i,\\Gamma^{ (Eg0,2) })_{{164} {165} {166} {167}}$"
      ],
      "text/plain": [
       "<IPython.core.display.Math object>"
      ]
     },
     "metadata": {},
     "output_type": "display_data"
    },
    {
     "data": {
      "text/latex": [
       "$\\displaystyle 1.0 B^*(x_0,t_i,t_f,\\Gamma^{ (buchoff,0) })_{{165} {167} {166} {164}}B(x_1,t_i,\\Gamma^{ (Eg0,2) })_{{164} {165} {166} {167}}$"
      ],
      "text/plain": [
       "<IPython.core.display.Math object>"
      ]
     },
     "metadata": {},
     "output_type": "display_data"
    },
    {
     "data": {
      "text/latex": [
       "$\\displaystyle -1.0 B^*(x_0,t_i,t_f,\\Gamma^{ (buchoff,0) })_{{164} {167} {166} {165}}B(x_1,t_i,\\Gamma^{ (Eg0,2) })_{{164} {165} {166} {167}}$"
      ],
      "text/plain": [
       "<IPython.core.display.Math object>"
      ]
     },
     "metadata": {},
     "output_type": "display_data"
    },
    {
     "data": {
      "text/latex": [
       "$\\displaystyle 1.0 B^*(x_0,t_i,t_f,\\Gamma^{ (buchoff,0) })_{{166} {167} {164} {165}}B(x_1,t_i,\\Gamma^{ (Eg0,2) })_{{164} {165} {166} {167}}$"
      ],
      "text/plain": [
       "<IPython.core.display.Math object>"
      ]
     },
     "metadata": {},
     "output_type": "display_data"
    },
    {
     "data": {
      "text/latex": [
       "$\\displaystyle -1.0 B^*(x_0,t_i,t_f,\\Gamma^{ (buchoff,0) })_{{166} {167} {165} {164}}B(x_1,t_i,\\Gamma^{ (Eg0,2) })_{{164} {165} {166} {167}}$"
      ],
      "text/plain": [
       "<IPython.core.display.Math object>"
      ]
     },
     "metadata": {},
     "output_type": "display_data"
    },
    {
     "data": {
      "text/latex": [
       "$\\displaystyle 1.0 B^*(x_0,t_i,t_f,\\Gamma^{ (buchoff,0) })_{{167} {166} {165} {164}}B(x_1,t_i,\\Gamma^{ (Eg0,2) })_{{164} {165} {166} {167}}$"
      ],
      "text/plain": [
       "<IPython.core.display.Math object>"
      ]
     },
     "metadata": {},
     "output_type": "display_data"
    },
    {
     "data": {
      "text/latex": [
       "$\\displaystyle -1.0 B^*(x_0,t_i,t_f,\\Gamma^{ (buchoff,0) })_{{167} {166} {164} {165}}B(x_1,t_i,\\Gamma^{ (Eg0,2) })_{{164} {165} {166} {167}}$"
      ],
      "text/plain": [
       "<IPython.core.display.Math object>"
      ]
     },
     "metadata": {},
     "output_type": "display_data"
    },
    {
     "data": {
      "text/latex": [
       "$\\displaystyle 1.0 B^*(x_0,t_i,t_f,\\Gamma^{ (buchoff,0) })_{{167} {164} {166} {165}}B(x_1,t_i,\\Gamma^{ (Eg0,2) })_{{164} {165} {166} {167}}$"
      ],
      "text/plain": [
       "<IPython.core.display.Math object>"
      ]
     },
     "metadata": {},
     "output_type": "display_data"
    },
    {
     "data": {
      "text/latex": [
       "$\\displaystyle -1.0 B^*(x_0,t_i,t_f,\\Gamma^{ (buchoff,0) })_{{167} {165} {166} {164}}B(x_1,t_i,\\Gamma^{ (Eg0,2) })_{{164} {165} {166} {167}}$"
      ],
      "text/plain": [
       "<IPython.core.display.Math object>"
      ]
     },
     "metadata": {},
     "output_type": "display_data"
    },
    {
     "data": {
      "text/latex": [
       "$\\displaystyle 1.0 B^*(x_0,t_i,t_f,\\Gamma^{ (buchoff,0) })_{{167} {165} {164} {166}}B(x_1,t_i,\\Gamma^{ (Eg0,2) })_{{164} {165} {166} {167}}$"
      ],
      "text/plain": [
       "<IPython.core.display.Math object>"
      ]
     },
     "metadata": {},
     "output_type": "display_data"
    },
    {
     "data": {
      "text/latex": [
       "$\\displaystyle -1.0 B^*(x_0,t_i,t_f,\\Gamma^{ (buchoff,0) })_{{167} {164} {165} {166}}B(x_1,t_i,\\Gamma^{ (Eg0,2) })_{{164} {165} {166} {167}}$"
      ],
      "text/plain": [
       "<IPython.core.display.Math object>"
      ]
     },
     "metadata": {},
     "output_type": "display_data"
    },
    {
     "data": {
      "text/latex": [
       "$\\displaystyle 1.0 B^*(x_0,t_i,t_f,\\Gamma^{ (buchoff,0) })_{{172} {173} {174} {175}}B(x_1,t_i,\\Gamma^{ (Eg1,0) })_{{172} {173} {174} {175}}$"
      ],
      "text/plain": [
       "<IPython.core.display.Math object>"
      ]
     },
     "metadata": {},
     "output_type": "display_data"
    },
    {
     "data": {
      "text/latex": [
       "$\\displaystyle -1.0 B^*(x_0,t_i,t_f,\\Gamma^{ (buchoff,0) })_{{173} {172} {174} {175}}B(x_1,t_i,\\Gamma^{ (Eg1,0) })_{{172} {173} {174} {175}}$"
      ],
      "text/plain": [
       "<IPython.core.display.Math object>"
      ]
     },
     "metadata": {},
     "output_type": "display_data"
    },
    {
     "data": {
      "text/latex": [
       "$\\displaystyle 1.0 B^*(x_0,t_i,t_f,\\Gamma^{ (buchoff,0) })_{{173} {174} {172} {175}}B(x_1,t_i,\\Gamma^{ (Eg1,0) })_{{172} {173} {174} {175}}$"
      ],
      "text/plain": [
       "<IPython.core.display.Math object>"
      ]
     },
     "metadata": {},
     "output_type": "display_data"
    },
    {
     "data": {
      "text/latex": [
       "$\\displaystyle -1.0 B^*(x_0,t_i,t_f,\\Gamma^{ (buchoff,0) })_{{172} {174} {173} {175}}B(x_1,t_i,\\Gamma^{ (Eg1,0) })_{{172} {173} {174} {175}}$"
      ],
      "text/plain": [
       "<IPython.core.display.Math object>"
      ]
     },
     "metadata": {},
     "output_type": "display_data"
    },
    {
     "data": {
      "text/latex": [
       "$\\displaystyle 1.0 B^*(x_0,t_i,t_f,\\Gamma^{ (buchoff,0) })_{{174} {172} {173} {175}}B(x_1,t_i,\\Gamma^{ (Eg1,0) })_{{172} {173} {174} {175}}$"
      ],
      "text/plain": [
       "<IPython.core.display.Math object>"
      ]
     },
     "metadata": {},
     "output_type": "display_data"
    },
    {
     "data": {
      "text/latex": [
       "$\\displaystyle -1.0 B^*(x_0,t_i,t_f,\\Gamma^{ (buchoff,0) })_{{174} {173} {172} {175}}B(x_1,t_i,\\Gamma^{ (Eg1,0) })_{{172} {173} {174} {175}}$"
      ],
      "text/plain": [
       "<IPython.core.display.Math object>"
      ]
     },
     "metadata": {},
     "output_type": "display_data"
    },
    {
     "data": {
      "text/latex": [
       "$\\displaystyle 1.0 B^*(x_0,t_i,t_f,\\Gamma^{ (buchoff,0) })_{{174} {173} {175} {172}}B(x_1,t_i,\\Gamma^{ (Eg1,0) })_{{172} {173} {174} {175}}$"
      ],
      "text/plain": [
       "<IPython.core.display.Math object>"
      ]
     },
     "metadata": {},
     "output_type": "display_data"
    },
    {
     "data": {
      "text/latex": [
       "$\\displaystyle -1.0 B^*(x_0,t_i,t_f,\\Gamma^{ (buchoff,0) })_{{174} {172} {175} {173}}B(x_1,t_i,\\Gamma^{ (Eg1,0) })_{{172} {173} {174} {175}}$"
      ],
      "text/plain": [
       "<IPython.core.display.Math object>"
      ]
     },
     "metadata": {},
     "output_type": "display_data"
    },
    {
     "data": {
      "text/latex": [
       "$\\displaystyle 1.0 B^*(x_0,t_i,t_f,\\Gamma^{ (buchoff,0) })_{{172} {174} {175} {173}}B(x_1,t_i,\\Gamma^{ (Eg1,0) })_{{172} {173} {174} {175}}$"
      ],
      "text/plain": [
       "<IPython.core.display.Math object>"
      ]
     },
     "metadata": {},
     "output_type": "display_data"
    },
    {
     "data": {
      "text/latex": [
       "$\\displaystyle -1.0 B^*(x_0,t_i,t_f,\\Gamma^{ (buchoff,0) })_{{173} {174} {175} {172}}B(x_1,t_i,\\Gamma^{ (Eg1,0) })_{{172} {173} {174} {175}}$"
      ],
      "text/plain": [
       "<IPython.core.display.Math object>"
      ]
     },
     "metadata": {},
     "output_type": "display_data"
    },
    {
     "data": {
      "text/latex": [
       "$\\displaystyle 1.0 B^*(x_0,t_i,t_f,\\Gamma^{ (buchoff,0) })_{{173} {172} {175} {174}}B(x_1,t_i,\\Gamma^{ (Eg1,0) })_{{172} {173} {174} {175}}$"
      ],
      "text/plain": [
       "<IPython.core.display.Math object>"
      ]
     },
     "metadata": {},
     "output_type": "display_data"
    },
    {
     "data": {
      "text/latex": [
       "$\\displaystyle -1.0 B^*(x_0,t_i,t_f,\\Gamma^{ (buchoff,0) })_{{172} {173} {175} {174}}B(x_1,t_i,\\Gamma^{ (Eg1,0) })_{{172} {173} {174} {175}}$"
      ],
      "text/plain": [
       "<IPython.core.display.Math object>"
      ]
     },
     "metadata": {},
     "output_type": "display_data"
    },
    {
     "data": {
      "text/latex": [
       "$\\displaystyle 1.0 B^*(x_0,t_i,t_f,\\Gamma^{ (buchoff,0) })_{{172} {175} {173} {174}}B(x_1,t_i,\\Gamma^{ (Eg1,0) })_{{172} {173} {174} {175}}$"
      ],
      "text/plain": [
       "<IPython.core.display.Math object>"
      ]
     },
     "metadata": {},
     "output_type": "display_data"
    },
    {
     "data": {
      "text/latex": [
       "$\\displaystyle -1.0 B^*(x_0,t_i,t_f,\\Gamma^{ (buchoff,0) })_{{173} {175} {172} {174}}B(x_1,t_i,\\Gamma^{ (Eg1,0) })_{{172} {173} {174} {175}}$"
      ],
      "text/plain": [
       "<IPython.core.display.Math object>"
      ]
     },
     "metadata": {},
     "output_type": "display_data"
    },
    {
     "data": {
      "text/latex": [
       "$\\displaystyle 1.0 B^*(x_0,t_i,t_f,\\Gamma^{ (buchoff,0) })_{{173} {175} {174} {172}}B(x_1,t_i,\\Gamma^{ (Eg1,0) })_{{172} {173} {174} {175}}$"
      ],
      "text/plain": [
       "<IPython.core.display.Math object>"
      ]
     },
     "metadata": {},
     "output_type": "display_data"
    },
    {
     "data": {
      "text/latex": [
       "$\\displaystyle -1.0 B^*(x_0,t_i,t_f,\\Gamma^{ (buchoff,0) })_{{172} {175} {174} {173}}B(x_1,t_i,\\Gamma^{ (Eg1,0) })_{{172} {173} {174} {175}}$"
      ],
      "text/plain": [
       "<IPython.core.display.Math object>"
      ]
     },
     "metadata": {},
     "output_type": "display_data"
    },
    {
     "data": {
      "text/latex": [
       "$\\displaystyle 1.0 B^*(x_0,t_i,t_f,\\Gamma^{ (buchoff,0) })_{{174} {175} {172} {173}}B(x_1,t_i,\\Gamma^{ (Eg1,0) })_{{172} {173} {174} {175}}$"
      ],
      "text/plain": [
       "<IPython.core.display.Math object>"
      ]
     },
     "metadata": {},
     "output_type": "display_data"
    },
    {
     "data": {
      "text/latex": [
       "$\\displaystyle -1.0 B^*(x_0,t_i,t_f,\\Gamma^{ (buchoff,0) })_{{174} {175} {173} {172}}B(x_1,t_i,\\Gamma^{ (Eg1,0) })_{{172} {173} {174} {175}}$"
      ],
      "text/plain": [
       "<IPython.core.display.Math object>"
      ]
     },
     "metadata": {},
     "output_type": "display_data"
    },
    {
     "data": {
      "text/latex": [
       "$\\displaystyle 1.0 B^*(x_0,t_i,t_f,\\Gamma^{ (buchoff,0) })_{{175} {174} {173} {172}}B(x_1,t_i,\\Gamma^{ (Eg1,0) })_{{172} {173} {174} {175}}$"
      ],
      "text/plain": [
       "<IPython.core.display.Math object>"
      ]
     },
     "metadata": {},
     "output_type": "display_data"
    },
    {
     "data": {
      "text/latex": [
       "$\\displaystyle -1.0 B^*(x_0,t_i,t_f,\\Gamma^{ (buchoff,0) })_{{175} {174} {172} {173}}B(x_1,t_i,\\Gamma^{ (Eg1,0) })_{{172} {173} {174} {175}}$"
      ],
      "text/plain": [
       "<IPython.core.display.Math object>"
      ]
     },
     "metadata": {},
     "output_type": "display_data"
    },
    {
     "data": {
      "text/latex": [
       "$\\displaystyle 1.0 B^*(x_0,t_i,t_f,\\Gamma^{ (buchoff,0) })_{{175} {172} {174} {173}}B(x_1,t_i,\\Gamma^{ (Eg1,0) })_{{172} {173} {174} {175}}$"
      ],
      "text/plain": [
       "<IPython.core.display.Math object>"
      ]
     },
     "metadata": {},
     "output_type": "display_data"
    },
    {
     "data": {
      "text/latex": [
       "$\\displaystyle -1.0 B^*(x_0,t_i,t_f,\\Gamma^{ (buchoff,0) })_{{175} {173} {174} {172}}B(x_1,t_i,\\Gamma^{ (Eg1,0) })_{{172} {173} {174} {175}}$"
      ],
      "text/plain": [
       "<IPython.core.display.Math object>"
      ]
     },
     "metadata": {},
     "output_type": "display_data"
    },
    {
     "data": {
      "text/latex": [
       "$\\displaystyle 1.0 B^*(x_0,t_i,t_f,\\Gamma^{ (buchoff,0) })_{{175} {173} {172} {174}}B(x_1,t_i,\\Gamma^{ (Eg1,0) })_{{172} {173} {174} {175}}$"
      ],
      "text/plain": [
       "<IPython.core.display.Math object>"
      ]
     },
     "metadata": {},
     "output_type": "display_data"
    },
    {
     "data": {
      "text/latex": [
       "$\\displaystyle -1.0 B^*(x_0,t_i,t_f,\\Gamma^{ (buchoff,0) })_{{175} {172} {173} {174}}B(x_1,t_i,\\Gamma^{ (Eg1,0) })_{{172} {173} {174} {175}}$"
      ],
      "text/plain": [
       "<IPython.core.display.Math object>"
      ]
     },
     "metadata": {},
     "output_type": "display_data"
    },
    {
     "data": {
      "text/latex": [
       "$\\displaystyle 1.0 B^*(x_0,t_i,t_f,\\Gamma^{ (buchoff,0) })_{{180} {181} {182} {183}}B(x_1,t_i,\\Gamma^{ (Eg1,1) })_{{180} {181} {182} {183}}$"
      ],
      "text/plain": [
       "<IPython.core.display.Math object>"
      ]
     },
     "metadata": {},
     "output_type": "display_data"
    },
    {
     "data": {
      "text/latex": [
       "$\\displaystyle -1.0 B^*(x_0,t_i,t_f,\\Gamma^{ (buchoff,0) })_{{181} {180} {182} {183}}B(x_1,t_i,\\Gamma^{ (Eg1,1) })_{{180} {181} {182} {183}}$"
      ],
      "text/plain": [
       "<IPython.core.display.Math object>"
      ]
     },
     "metadata": {},
     "output_type": "display_data"
    },
    {
     "data": {
      "text/latex": [
       "$\\displaystyle 1.0 B^*(x_0,t_i,t_f,\\Gamma^{ (buchoff,0) })_{{181} {182} {180} {183}}B(x_1,t_i,\\Gamma^{ (Eg1,1) })_{{180} {181} {182} {183}}$"
      ],
      "text/plain": [
       "<IPython.core.display.Math object>"
      ]
     },
     "metadata": {},
     "output_type": "display_data"
    },
    {
     "data": {
      "text/latex": [
       "$\\displaystyle -1.0 B^*(x_0,t_i,t_f,\\Gamma^{ (buchoff,0) })_{{180} {182} {181} {183}}B(x_1,t_i,\\Gamma^{ (Eg1,1) })_{{180} {181} {182} {183}}$"
      ],
      "text/plain": [
       "<IPython.core.display.Math object>"
      ]
     },
     "metadata": {},
     "output_type": "display_data"
    },
    {
     "data": {
      "text/latex": [
       "$\\displaystyle 1.0 B^*(x_0,t_i,t_f,\\Gamma^{ (buchoff,0) })_{{182} {180} {181} {183}}B(x_1,t_i,\\Gamma^{ (Eg1,1) })_{{180} {181} {182} {183}}$"
      ],
      "text/plain": [
       "<IPython.core.display.Math object>"
      ]
     },
     "metadata": {},
     "output_type": "display_data"
    },
    {
     "data": {
      "text/latex": [
       "$\\displaystyle -1.0 B^*(x_0,t_i,t_f,\\Gamma^{ (buchoff,0) })_{{182} {181} {180} {183}}B(x_1,t_i,\\Gamma^{ (Eg1,1) })_{{180} {181} {182} {183}}$"
      ],
      "text/plain": [
       "<IPython.core.display.Math object>"
      ]
     },
     "metadata": {},
     "output_type": "display_data"
    },
    {
     "data": {
      "text/latex": [
       "$\\displaystyle 1.0 B^*(x_0,t_i,t_f,\\Gamma^{ (buchoff,0) })_{{182} {181} {183} {180}}B(x_1,t_i,\\Gamma^{ (Eg1,1) })_{{180} {181} {182} {183}}$"
      ],
      "text/plain": [
       "<IPython.core.display.Math object>"
      ]
     },
     "metadata": {},
     "output_type": "display_data"
    },
    {
     "data": {
      "text/latex": [
       "$\\displaystyle -1.0 B^*(x_0,t_i,t_f,\\Gamma^{ (buchoff,0) })_{{182} {180} {183} {181}}B(x_1,t_i,\\Gamma^{ (Eg1,1) })_{{180} {181} {182} {183}}$"
      ],
      "text/plain": [
       "<IPython.core.display.Math object>"
      ]
     },
     "metadata": {},
     "output_type": "display_data"
    },
    {
     "data": {
      "text/latex": [
       "$\\displaystyle 1.0 B^*(x_0,t_i,t_f,\\Gamma^{ (buchoff,0) })_{{180} {182} {183} {181}}B(x_1,t_i,\\Gamma^{ (Eg1,1) })_{{180} {181} {182} {183}}$"
      ],
      "text/plain": [
       "<IPython.core.display.Math object>"
      ]
     },
     "metadata": {},
     "output_type": "display_data"
    },
    {
     "data": {
      "text/latex": [
       "$\\displaystyle -1.0 B^*(x_0,t_i,t_f,\\Gamma^{ (buchoff,0) })_{{181} {182} {183} {180}}B(x_1,t_i,\\Gamma^{ (Eg1,1) })_{{180} {181} {182} {183}}$"
      ],
      "text/plain": [
       "<IPython.core.display.Math object>"
      ]
     },
     "metadata": {},
     "output_type": "display_data"
    },
    {
     "data": {
      "text/latex": [
       "$\\displaystyle 1.0 B^*(x_0,t_i,t_f,\\Gamma^{ (buchoff,0) })_{{181} {180} {183} {182}}B(x_1,t_i,\\Gamma^{ (Eg1,1) })_{{180} {181} {182} {183}}$"
      ],
      "text/plain": [
       "<IPython.core.display.Math object>"
      ]
     },
     "metadata": {},
     "output_type": "display_data"
    },
    {
     "data": {
      "text/latex": [
       "$\\displaystyle -1.0 B^*(x_0,t_i,t_f,\\Gamma^{ (buchoff,0) })_{{180} {181} {183} {182}}B(x_1,t_i,\\Gamma^{ (Eg1,1) })_{{180} {181} {182} {183}}$"
      ],
      "text/plain": [
       "<IPython.core.display.Math object>"
      ]
     },
     "metadata": {},
     "output_type": "display_data"
    },
    {
     "data": {
      "text/latex": [
       "$\\displaystyle 1.0 B^*(x_0,t_i,t_f,\\Gamma^{ (buchoff,0) })_{{180} {183} {181} {182}}B(x_1,t_i,\\Gamma^{ (Eg1,1) })_{{180} {181} {182} {183}}$"
      ],
      "text/plain": [
       "<IPython.core.display.Math object>"
      ]
     },
     "metadata": {},
     "output_type": "display_data"
    },
    {
     "data": {
      "text/latex": [
       "$\\displaystyle -1.0 B^*(x_0,t_i,t_f,\\Gamma^{ (buchoff,0) })_{{181} {183} {180} {182}}B(x_1,t_i,\\Gamma^{ (Eg1,1) })_{{180} {181} {182} {183}}$"
      ],
      "text/plain": [
       "<IPython.core.display.Math object>"
      ]
     },
     "metadata": {},
     "output_type": "display_data"
    },
    {
     "data": {
      "text/latex": [
       "$\\displaystyle 1.0 B^*(x_0,t_i,t_f,\\Gamma^{ (buchoff,0) })_{{181} {183} {182} {180}}B(x_1,t_i,\\Gamma^{ (Eg1,1) })_{{180} {181} {182} {183}}$"
      ],
      "text/plain": [
       "<IPython.core.display.Math object>"
      ]
     },
     "metadata": {},
     "output_type": "display_data"
    },
    {
     "data": {
      "text/latex": [
       "$\\displaystyle -1.0 B^*(x_0,t_i,t_f,\\Gamma^{ (buchoff,0) })_{{180} {183} {182} {181}}B(x_1,t_i,\\Gamma^{ (Eg1,1) })_{{180} {181} {182} {183}}$"
      ],
      "text/plain": [
       "<IPython.core.display.Math object>"
      ]
     },
     "metadata": {},
     "output_type": "display_data"
    },
    {
     "data": {
      "text/latex": [
       "$\\displaystyle 1.0 B^*(x_0,t_i,t_f,\\Gamma^{ (buchoff,0) })_{{182} {183} {180} {181}}B(x_1,t_i,\\Gamma^{ (Eg1,1) })_{{180} {181} {182} {183}}$"
      ],
      "text/plain": [
       "<IPython.core.display.Math object>"
      ]
     },
     "metadata": {},
     "output_type": "display_data"
    },
    {
     "data": {
      "text/latex": [
       "$\\displaystyle -1.0 B^*(x_0,t_i,t_f,\\Gamma^{ (buchoff,0) })_{{182} {183} {181} {180}}B(x_1,t_i,\\Gamma^{ (Eg1,1) })_{{180} {181} {182} {183}}$"
      ],
      "text/plain": [
       "<IPython.core.display.Math object>"
      ]
     },
     "metadata": {},
     "output_type": "display_data"
    },
    {
     "data": {
      "text/latex": [
       "$\\displaystyle 1.0 B^*(x_0,t_i,t_f,\\Gamma^{ (buchoff,0) })_{{183} {182} {181} {180}}B(x_1,t_i,\\Gamma^{ (Eg1,1) })_{{180} {181} {182} {183}}$"
      ],
      "text/plain": [
       "<IPython.core.display.Math object>"
      ]
     },
     "metadata": {},
     "output_type": "display_data"
    },
    {
     "data": {
      "text/latex": [
       "$\\displaystyle -1.0 B^*(x_0,t_i,t_f,\\Gamma^{ (buchoff,0) })_{{183} {182} {180} {181}}B(x_1,t_i,\\Gamma^{ (Eg1,1) })_{{180} {181} {182} {183}}$"
      ],
      "text/plain": [
       "<IPython.core.display.Math object>"
      ]
     },
     "metadata": {},
     "output_type": "display_data"
    },
    {
     "data": {
      "text/latex": [
       "$\\displaystyle 1.0 B^*(x_0,t_i,t_f,\\Gamma^{ (buchoff,0) })_{{183} {180} {182} {181}}B(x_1,t_i,\\Gamma^{ (Eg1,1) })_{{180} {181} {182} {183}}$"
      ],
      "text/plain": [
       "<IPython.core.display.Math object>"
      ]
     },
     "metadata": {},
     "output_type": "display_data"
    },
    {
     "data": {
      "text/latex": [
       "$\\displaystyle -1.0 B^*(x_0,t_i,t_f,\\Gamma^{ (buchoff,0) })_{{183} {181} {182} {180}}B(x_1,t_i,\\Gamma^{ (Eg1,1) })_{{180} {181} {182} {183}}$"
      ],
      "text/plain": [
       "<IPython.core.display.Math object>"
      ]
     },
     "metadata": {},
     "output_type": "display_data"
    },
    {
     "data": {
      "text/latex": [
       "$\\displaystyle 1.0 B^*(x_0,t_i,t_f,\\Gamma^{ (buchoff,0) })_{{183} {181} {180} {182}}B(x_1,t_i,\\Gamma^{ (Eg1,1) })_{{180} {181} {182} {183}}$"
      ],
      "text/plain": [
       "<IPython.core.display.Math object>"
      ]
     },
     "metadata": {},
     "output_type": "display_data"
    },
    {
     "data": {
      "text/latex": [
       "$\\displaystyle -1.0 B^*(x_0,t_i,t_f,\\Gamma^{ (buchoff,0) })_{{183} {180} {181} {182}}B(x_1,t_i,\\Gamma^{ (Eg1,1) })_{{180} {181} {182} {183}}$"
      ],
      "text/plain": [
       "<IPython.core.display.Math object>"
      ]
     },
     "metadata": {},
     "output_type": "display_data"
    },
    {
     "data": {
      "text/latex": [
       "$\\displaystyle 1.0 B^*(x_0,t_i,t_f,\\Gamma^{ (buchoff,0) })_{{188} {189} {190} {191}}B(x_1,t_i,\\Gamma^{ (Eg1,2) })_{{188} {189} {190} {191}}$"
      ],
      "text/plain": [
       "<IPython.core.display.Math object>"
      ]
     },
     "metadata": {},
     "output_type": "display_data"
    },
    {
     "data": {
      "text/latex": [
       "$\\displaystyle -1.0 B^*(x_0,t_i,t_f,\\Gamma^{ (buchoff,0) })_{{189} {188} {190} {191}}B(x_1,t_i,\\Gamma^{ (Eg1,2) })_{{188} {189} {190} {191}}$"
      ],
      "text/plain": [
       "<IPython.core.display.Math object>"
      ]
     },
     "metadata": {},
     "output_type": "display_data"
    },
    {
     "data": {
      "text/latex": [
       "$\\displaystyle 1.0 B^*(x_0,t_i,t_f,\\Gamma^{ (buchoff,0) })_{{189} {190} {188} {191}}B(x_1,t_i,\\Gamma^{ (Eg1,2) })_{{188} {189} {190} {191}}$"
      ],
      "text/plain": [
       "<IPython.core.display.Math object>"
      ]
     },
     "metadata": {},
     "output_type": "display_data"
    },
    {
     "data": {
      "text/latex": [
       "$\\displaystyle -1.0 B^*(x_0,t_i,t_f,\\Gamma^{ (buchoff,0) })_{{188} {190} {189} {191}}B(x_1,t_i,\\Gamma^{ (Eg1,2) })_{{188} {189} {190} {191}}$"
      ],
      "text/plain": [
       "<IPython.core.display.Math object>"
      ]
     },
     "metadata": {},
     "output_type": "display_data"
    },
    {
     "data": {
      "text/latex": [
       "$\\displaystyle 1.0 B^*(x_0,t_i,t_f,\\Gamma^{ (buchoff,0) })_{{190} {188} {189} {191}}B(x_1,t_i,\\Gamma^{ (Eg1,2) })_{{188} {189} {190} {191}}$"
      ],
      "text/plain": [
       "<IPython.core.display.Math object>"
      ]
     },
     "metadata": {},
     "output_type": "display_data"
    },
    {
     "data": {
      "text/latex": [
       "$\\displaystyle -1.0 B^*(x_0,t_i,t_f,\\Gamma^{ (buchoff,0) })_{{190} {189} {188} {191}}B(x_1,t_i,\\Gamma^{ (Eg1,2) })_{{188} {189} {190} {191}}$"
      ],
      "text/plain": [
       "<IPython.core.display.Math object>"
      ]
     },
     "metadata": {},
     "output_type": "display_data"
    },
    {
     "data": {
      "text/latex": [
       "$\\displaystyle 1.0 B^*(x_0,t_i,t_f,\\Gamma^{ (buchoff,0) })_{{190} {189} {191} {188}}B(x_1,t_i,\\Gamma^{ (Eg1,2) })_{{188} {189} {190} {191}}$"
      ],
      "text/plain": [
       "<IPython.core.display.Math object>"
      ]
     },
     "metadata": {},
     "output_type": "display_data"
    },
    {
     "data": {
      "text/latex": [
       "$\\displaystyle -1.0 B^*(x_0,t_i,t_f,\\Gamma^{ (buchoff,0) })_{{190} {188} {191} {189}}B(x_1,t_i,\\Gamma^{ (Eg1,2) })_{{188} {189} {190} {191}}$"
      ],
      "text/plain": [
       "<IPython.core.display.Math object>"
      ]
     },
     "metadata": {},
     "output_type": "display_data"
    },
    {
     "data": {
      "text/latex": [
       "$\\displaystyle 1.0 B^*(x_0,t_i,t_f,\\Gamma^{ (buchoff,0) })_{{188} {190} {191} {189}}B(x_1,t_i,\\Gamma^{ (Eg1,2) })_{{188} {189} {190} {191}}$"
      ],
      "text/plain": [
       "<IPython.core.display.Math object>"
      ]
     },
     "metadata": {},
     "output_type": "display_data"
    },
    {
     "data": {
      "text/latex": [
       "$\\displaystyle -1.0 B^*(x_0,t_i,t_f,\\Gamma^{ (buchoff,0) })_{{189} {190} {191} {188}}B(x_1,t_i,\\Gamma^{ (Eg1,2) })_{{188} {189} {190} {191}}$"
      ],
      "text/plain": [
       "<IPython.core.display.Math object>"
      ]
     },
     "metadata": {},
     "output_type": "display_data"
    },
    {
     "data": {
      "text/latex": [
       "$\\displaystyle 1.0 B^*(x_0,t_i,t_f,\\Gamma^{ (buchoff,0) })_{{189} {188} {191} {190}}B(x_1,t_i,\\Gamma^{ (Eg1,2) })_{{188} {189} {190} {191}}$"
      ],
      "text/plain": [
       "<IPython.core.display.Math object>"
      ]
     },
     "metadata": {},
     "output_type": "display_data"
    },
    {
     "data": {
      "text/latex": [
       "$\\displaystyle -1.0 B^*(x_0,t_i,t_f,\\Gamma^{ (buchoff,0) })_{{188} {189} {191} {190}}B(x_1,t_i,\\Gamma^{ (Eg1,2) })_{{188} {189} {190} {191}}$"
      ],
      "text/plain": [
       "<IPython.core.display.Math object>"
      ]
     },
     "metadata": {},
     "output_type": "display_data"
    },
    {
     "data": {
      "text/latex": [
       "$\\displaystyle 1.0 B^*(x_0,t_i,t_f,\\Gamma^{ (buchoff,0) })_{{188} {191} {189} {190}}B(x_1,t_i,\\Gamma^{ (Eg1,2) })_{{188} {189} {190} {191}}$"
      ],
      "text/plain": [
       "<IPython.core.display.Math object>"
      ]
     },
     "metadata": {},
     "output_type": "display_data"
    },
    {
     "data": {
      "text/latex": [
       "$\\displaystyle -1.0 B^*(x_0,t_i,t_f,\\Gamma^{ (buchoff,0) })_{{189} {191} {188} {190}}B(x_1,t_i,\\Gamma^{ (Eg1,2) })_{{188} {189} {190} {191}}$"
      ],
      "text/plain": [
       "<IPython.core.display.Math object>"
      ]
     },
     "metadata": {},
     "output_type": "display_data"
    },
    {
     "data": {
      "text/latex": [
       "$\\displaystyle 1.0 B^*(x_0,t_i,t_f,\\Gamma^{ (buchoff,0) })_{{189} {191} {190} {188}}B(x_1,t_i,\\Gamma^{ (Eg1,2) })_{{188} {189} {190} {191}}$"
      ],
      "text/plain": [
       "<IPython.core.display.Math object>"
      ]
     },
     "metadata": {},
     "output_type": "display_data"
    },
    {
     "data": {
      "text/latex": [
       "$\\displaystyle -1.0 B^*(x_0,t_i,t_f,\\Gamma^{ (buchoff,0) })_{{188} {191} {190} {189}}B(x_1,t_i,\\Gamma^{ (Eg1,2) })_{{188} {189} {190} {191}}$"
      ],
      "text/plain": [
       "<IPython.core.display.Math object>"
      ]
     },
     "metadata": {},
     "output_type": "display_data"
    },
    {
     "data": {
      "text/latex": [
       "$\\displaystyle 1.0 B^*(x_0,t_i,t_f,\\Gamma^{ (buchoff,0) })_{{190} {191} {188} {189}}B(x_1,t_i,\\Gamma^{ (Eg1,2) })_{{188} {189} {190} {191}}$"
      ],
      "text/plain": [
       "<IPython.core.display.Math object>"
      ]
     },
     "metadata": {},
     "output_type": "display_data"
    },
    {
     "data": {
      "text/latex": [
       "$\\displaystyle -1.0 B^*(x_0,t_i,t_f,\\Gamma^{ (buchoff,0) })_{{190} {191} {189} {188}}B(x_1,t_i,\\Gamma^{ (Eg1,2) })_{{188} {189} {190} {191}}$"
      ],
      "text/plain": [
       "<IPython.core.display.Math object>"
      ]
     },
     "metadata": {},
     "output_type": "display_data"
    },
    {
     "data": {
      "text/latex": [
       "$\\displaystyle 1.0 B^*(x_0,t_i,t_f,\\Gamma^{ (buchoff,0) })_{{191} {190} {189} {188}}B(x_1,t_i,\\Gamma^{ (Eg1,2) })_{{188} {189} {190} {191}}$"
      ],
      "text/plain": [
       "<IPython.core.display.Math object>"
      ]
     },
     "metadata": {},
     "output_type": "display_data"
    },
    {
     "data": {
      "text/latex": [
       "$\\displaystyle -1.0 B^*(x_0,t_i,t_f,\\Gamma^{ (buchoff,0) })_{{191} {190} {188} {189}}B(x_1,t_i,\\Gamma^{ (Eg1,2) })_{{188} {189} {190} {191}}$"
      ],
      "text/plain": [
       "<IPython.core.display.Math object>"
      ]
     },
     "metadata": {},
     "output_type": "display_data"
    },
    {
     "data": {
      "text/latex": [
       "$\\displaystyle 1.0 B^*(x_0,t_i,t_f,\\Gamma^{ (buchoff,0) })_{{191} {188} {190} {189}}B(x_1,t_i,\\Gamma^{ (Eg1,2) })_{{188} {189} {190} {191}}$"
      ],
      "text/plain": [
       "<IPython.core.display.Math object>"
      ]
     },
     "metadata": {},
     "output_type": "display_data"
    },
    {
     "data": {
      "text/latex": [
       "$\\displaystyle -1.0 B^*(x_0,t_i,t_f,\\Gamma^{ (buchoff,0) })_{{191} {189} {190} {188}}B(x_1,t_i,\\Gamma^{ (Eg1,2) })_{{188} {189} {190} {191}}$"
      ],
      "text/plain": [
       "<IPython.core.display.Math object>"
      ]
     },
     "metadata": {},
     "output_type": "display_data"
    },
    {
     "data": {
      "text/latex": [
       "$\\displaystyle 1.0 B^*(x_0,t_i,t_f,\\Gamma^{ (buchoff,0) })_{{191} {189} {188} {190}}B(x_1,t_i,\\Gamma^{ (Eg1,2) })_{{188} {189} {190} {191}}$"
      ],
      "text/plain": [
       "<IPython.core.display.Math object>"
      ]
     },
     "metadata": {},
     "output_type": "display_data"
    },
    {
     "data": {
      "text/latex": [
       "$\\displaystyle -1.0 B^*(x_0,t_i,t_f,\\Gamma^{ (buchoff,0) })_{{191} {188} {189} {190}}B(x_1,t_i,\\Gamma^{ (Eg1,2) })_{{188} {189} {190} {191}}$"
      ],
      "text/plain": [
       "<IPython.core.display.Math object>"
      ]
     },
     "metadata": {},
     "output_type": "display_data"
    },
    {
     "data": {
      "text/latex": [
       "$\\displaystyle 1.0 B(x_1,t_i,\\Gamma^{ (buchoff,0) })_{{132} {133} {134} {135}}B^*(x_0,t_i,t_f,\\Gamma^{ (A1g,0) })_{{132} {133} {134} {135}}$"
      ],
      "text/plain": [
       "<IPython.core.display.Math object>"
      ]
     },
     "metadata": {},
     "output_type": "display_data"
    },
    {
     "data": {
      "text/latex": [
       "$\\displaystyle -1.0 B(x_1,t_i,\\Gamma^{ (buchoff,0) })_{{132} {133} {134} {135}}B^*(x_0,t_i,t_f,\\Gamma^{ (A1g,0) })_{{133} {132} {134} {135}}$"
      ],
      "text/plain": [
       "<IPython.core.display.Math object>"
      ]
     },
     "metadata": {},
     "output_type": "display_data"
    },
    {
     "data": {
      "text/latex": [
       "$\\displaystyle 1.0 B(x_1,t_i,\\Gamma^{ (buchoff,0) })_{{132} {133} {134} {135}}B^*(x_0,t_i,t_f,\\Gamma^{ (A1g,0) })_{{133} {134} {132} {135}}$"
      ],
      "text/plain": [
       "<IPython.core.display.Math object>"
      ]
     },
     "metadata": {},
     "output_type": "display_data"
    },
    {
     "data": {
      "text/latex": [
       "$\\displaystyle -1.0 B(x_1,t_i,\\Gamma^{ (buchoff,0) })_{{132} {133} {134} {135}}B^*(x_0,t_i,t_f,\\Gamma^{ (A1g,0) })_{{132} {134} {133} {135}}$"
      ],
      "text/plain": [
       "<IPython.core.display.Math object>"
      ]
     },
     "metadata": {},
     "output_type": "display_data"
    },
    {
     "data": {
      "text/latex": [
       "$\\displaystyle 1.0 B(x_1,t_i,\\Gamma^{ (buchoff,0) })_{{132} {133} {134} {135}}B^*(x_0,t_i,t_f,\\Gamma^{ (A1g,0) })_{{134} {132} {133} {135}}$"
      ],
      "text/plain": [
       "<IPython.core.display.Math object>"
      ]
     },
     "metadata": {},
     "output_type": "display_data"
    },
    {
     "data": {
      "text/latex": [
       "$\\displaystyle -1.0 B(x_1,t_i,\\Gamma^{ (buchoff,0) })_{{132} {133} {134} {135}}B^*(x_0,t_i,t_f,\\Gamma^{ (A1g,0) })_{{134} {133} {132} {135}}$"
      ],
      "text/plain": [
       "<IPython.core.display.Math object>"
      ]
     },
     "metadata": {},
     "output_type": "display_data"
    },
    {
     "data": {
      "text/latex": [
       "$\\displaystyle 1.0 B(x_1,t_i,\\Gamma^{ (buchoff,0) })_{{132} {133} {134} {135}}B^*(x_0,t_i,t_f,\\Gamma^{ (A1g,0) })_{{134} {133} {135} {132}}$"
      ],
      "text/plain": [
       "<IPython.core.display.Math object>"
      ]
     },
     "metadata": {},
     "output_type": "display_data"
    },
    {
     "data": {
      "text/latex": [
       "$\\displaystyle -1.0 B(x_1,t_i,\\Gamma^{ (buchoff,0) })_{{132} {133} {134} {135}}B^*(x_0,t_i,t_f,\\Gamma^{ (A1g,0) })_{{134} {132} {135} {133}}$"
      ],
      "text/plain": [
       "<IPython.core.display.Math object>"
      ]
     },
     "metadata": {},
     "output_type": "display_data"
    },
    {
     "data": {
      "text/latex": [
       "$\\displaystyle 1.0 B(x_1,t_i,\\Gamma^{ (buchoff,0) })_{{132} {133} {134} {135}}B^*(x_0,t_i,t_f,\\Gamma^{ (A1g,0) })_{{132} {134} {135} {133}}$"
      ],
      "text/plain": [
       "<IPython.core.display.Math object>"
      ]
     },
     "metadata": {},
     "output_type": "display_data"
    },
    {
     "data": {
      "text/latex": [
       "$\\displaystyle -1.0 B(x_1,t_i,\\Gamma^{ (buchoff,0) })_{{132} {133} {134} {135}}B^*(x_0,t_i,t_f,\\Gamma^{ (A1g,0) })_{{133} {134} {135} {132}}$"
      ],
      "text/plain": [
       "<IPython.core.display.Math object>"
      ]
     },
     "metadata": {},
     "output_type": "display_data"
    },
    {
     "data": {
      "text/latex": [
       "$\\displaystyle 1.0 B(x_1,t_i,\\Gamma^{ (buchoff,0) })_{{132} {133} {134} {135}}B^*(x_0,t_i,t_f,\\Gamma^{ (A1g,0) })_{{133} {132} {135} {134}}$"
      ],
      "text/plain": [
       "<IPython.core.display.Math object>"
      ]
     },
     "metadata": {},
     "output_type": "display_data"
    },
    {
     "data": {
      "text/latex": [
       "$\\displaystyle -1.0 B(x_1,t_i,\\Gamma^{ (buchoff,0) })_{{132} {133} {134} {135}}B^*(x_0,t_i,t_f,\\Gamma^{ (A1g,0) })_{{132} {133} {135} {134}}$"
      ],
      "text/plain": [
       "<IPython.core.display.Math object>"
      ]
     },
     "metadata": {},
     "output_type": "display_data"
    },
    {
     "data": {
      "text/latex": [
       "$\\displaystyle 1.0 B(x_1,t_i,\\Gamma^{ (buchoff,0) })_{{132} {133} {134} {135}}B^*(x_0,t_i,t_f,\\Gamma^{ (A1g,0) })_{{132} {135} {133} {134}}$"
      ],
      "text/plain": [
       "<IPython.core.display.Math object>"
      ]
     },
     "metadata": {},
     "output_type": "display_data"
    },
    {
     "data": {
      "text/latex": [
       "$\\displaystyle -1.0 B(x_1,t_i,\\Gamma^{ (buchoff,0) })_{{132} {133} {134} {135}}B^*(x_0,t_i,t_f,\\Gamma^{ (A1g,0) })_{{133} {135} {132} {134}}$"
      ],
      "text/plain": [
       "<IPython.core.display.Math object>"
      ]
     },
     "metadata": {},
     "output_type": "display_data"
    },
    {
     "data": {
      "text/latex": [
       "$\\displaystyle 1.0 B(x_1,t_i,\\Gamma^{ (buchoff,0) })_{{132} {133} {134} {135}}B^*(x_0,t_i,t_f,\\Gamma^{ (A1g,0) })_{{133} {135} {134} {132}}$"
      ],
      "text/plain": [
       "<IPython.core.display.Math object>"
      ]
     },
     "metadata": {},
     "output_type": "display_data"
    },
    {
     "data": {
      "text/latex": [
       "$\\displaystyle -1.0 B(x_1,t_i,\\Gamma^{ (buchoff,0) })_{{132} {133} {134} {135}}B^*(x_0,t_i,t_f,\\Gamma^{ (A1g,0) })_{{132} {135} {134} {133}}$"
      ],
      "text/plain": [
       "<IPython.core.display.Math object>"
      ]
     },
     "metadata": {},
     "output_type": "display_data"
    },
    {
     "data": {
      "text/latex": [
       "$\\displaystyle 1.0 B(x_1,t_i,\\Gamma^{ (buchoff,0) })_{{132} {133} {134} {135}}B^*(x_0,t_i,t_f,\\Gamma^{ (A1g,0) })_{{134} {135} {132} {133}}$"
      ],
      "text/plain": [
       "<IPython.core.display.Math object>"
      ]
     },
     "metadata": {},
     "output_type": "display_data"
    },
    {
     "data": {
      "text/latex": [
       "$\\displaystyle -1.0 B(x_1,t_i,\\Gamma^{ (buchoff,0) })_{{132} {133} {134} {135}}B^*(x_0,t_i,t_f,\\Gamma^{ (A1g,0) })_{{134} {135} {133} {132}}$"
      ],
      "text/plain": [
       "<IPython.core.display.Math object>"
      ]
     },
     "metadata": {},
     "output_type": "display_data"
    },
    {
     "data": {
      "text/latex": [
       "$\\displaystyle 1.0 B(x_1,t_i,\\Gamma^{ (buchoff,0) })_{{132} {133} {134} {135}}B^*(x_0,t_i,t_f,\\Gamma^{ (A1g,0) })_{{135} {134} {133} {132}}$"
      ],
      "text/plain": [
       "<IPython.core.display.Math object>"
      ]
     },
     "metadata": {},
     "output_type": "display_data"
    },
    {
     "data": {
      "text/latex": [
       "$\\displaystyle -1.0 B(x_1,t_i,\\Gamma^{ (buchoff,0) })_{{132} {133} {134} {135}}B^*(x_0,t_i,t_f,\\Gamma^{ (A1g,0) })_{{135} {134} {132} {133}}$"
      ],
      "text/plain": [
       "<IPython.core.display.Math object>"
      ]
     },
     "metadata": {},
     "output_type": "display_data"
    },
    {
     "data": {
      "text/latex": [
       "$\\displaystyle 1.0 B(x_1,t_i,\\Gamma^{ (buchoff,0) })_{{132} {133} {134} {135}}B^*(x_0,t_i,t_f,\\Gamma^{ (A1g,0) })_{{135} {132} {134} {133}}$"
      ],
      "text/plain": [
       "<IPython.core.display.Math object>"
      ]
     },
     "metadata": {},
     "output_type": "display_data"
    },
    {
     "data": {
      "text/latex": [
       "$\\displaystyle -1.0 B(x_1,t_i,\\Gamma^{ (buchoff,0) })_{{132} {133} {134} {135}}B^*(x_0,t_i,t_f,\\Gamma^{ (A1g,0) })_{{135} {133} {134} {132}}$"
      ],
      "text/plain": [
       "<IPython.core.display.Math object>"
      ]
     },
     "metadata": {},
     "output_type": "display_data"
    },
    {
     "data": {
      "text/latex": [
       "$\\displaystyle 1.0 B(x_1,t_i,\\Gamma^{ (buchoff,0) })_{{132} {133} {134} {135}}B^*(x_0,t_i,t_f,\\Gamma^{ (A1g,0) })_{{135} {133} {132} {134}}$"
      ],
      "text/plain": [
       "<IPython.core.display.Math object>"
      ]
     },
     "metadata": {},
     "output_type": "display_data"
    },
    {
     "data": {
      "text/latex": [
       "$\\displaystyle -1.0 B(x_1,t_i,\\Gamma^{ (buchoff,0) })_{{132} {133} {134} {135}}B^*(x_0,t_i,t_f,\\Gamma^{ (A1g,0) })_{{135} {132} {133} {134}}$"
      ],
      "text/plain": [
       "<IPython.core.display.Math object>"
      ]
     },
     "metadata": {},
     "output_type": "display_data"
    },
    {
     "data": {
      "text/latex": [
       "$\\displaystyle 1.0 B(x_1,t_i,\\Gamma^{ (A1g,0) })_{{140} {141} {142} {143}}B^*(x_0,t_i,t_f,\\Gamma^{ (A1g,0) })_{{140} {141} {142} {143}}$"
      ],
      "text/plain": [
       "<IPython.core.display.Math object>"
      ]
     },
     "metadata": {},
     "output_type": "display_data"
    },
    {
     "data": {
      "text/latex": [
       "$\\displaystyle -1.0 B(x_1,t_i,\\Gamma^{ (A1g,0) })_{{140} {141} {142} {143}}B^*(x_0,t_i,t_f,\\Gamma^{ (A1g,0) })_{{141} {140} {142} {143}}$"
      ],
      "text/plain": [
       "<IPython.core.display.Math object>"
      ]
     },
     "metadata": {},
     "output_type": "display_data"
    },
    {
     "data": {
      "text/latex": [
       "$\\displaystyle 1.0 B(x_1,t_i,\\Gamma^{ (A1g,0) })_{{140} {141} {142} {143}}B^*(x_0,t_i,t_f,\\Gamma^{ (A1g,0) })_{{141} {142} {140} {143}}$"
      ],
      "text/plain": [
       "<IPython.core.display.Math object>"
      ]
     },
     "metadata": {},
     "output_type": "display_data"
    },
    {
     "data": {
      "text/latex": [
       "$\\displaystyle -1.0 B(x_1,t_i,\\Gamma^{ (A1g,0) })_{{140} {141} {142} {143}}B^*(x_0,t_i,t_f,\\Gamma^{ (A1g,0) })_{{140} {142} {141} {143}}$"
      ],
      "text/plain": [
       "<IPython.core.display.Math object>"
      ]
     },
     "metadata": {},
     "output_type": "display_data"
    },
    {
     "data": {
      "text/latex": [
       "$\\displaystyle 1.0 B(x_1,t_i,\\Gamma^{ (A1g,0) })_{{140} {141} {142} {143}}B^*(x_0,t_i,t_f,\\Gamma^{ (A1g,0) })_{{142} {140} {141} {143}}$"
      ],
      "text/plain": [
       "<IPython.core.display.Math object>"
      ]
     },
     "metadata": {},
     "output_type": "display_data"
    },
    {
     "data": {
      "text/latex": [
       "$\\displaystyle -1.0 B(x_1,t_i,\\Gamma^{ (A1g,0) })_{{140} {141} {142} {143}}B^*(x_0,t_i,t_f,\\Gamma^{ (A1g,0) })_{{142} {141} {140} {143}}$"
      ],
      "text/plain": [
       "<IPython.core.display.Math object>"
      ]
     },
     "metadata": {},
     "output_type": "display_data"
    },
    {
     "data": {
      "text/latex": [
       "$\\displaystyle 1.0 B(x_1,t_i,\\Gamma^{ (A1g,0) })_{{140} {141} {142} {143}}B^*(x_0,t_i,t_f,\\Gamma^{ (A1g,0) })_{{142} {141} {143} {140}}$"
      ],
      "text/plain": [
       "<IPython.core.display.Math object>"
      ]
     },
     "metadata": {},
     "output_type": "display_data"
    },
    {
     "data": {
      "text/latex": [
       "$\\displaystyle -1.0 B(x_1,t_i,\\Gamma^{ (A1g,0) })_{{140} {141} {142} {143}}B^*(x_0,t_i,t_f,\\Gamma^{ (A1g,0) })_{{142} {140} {143} {141}}$"
      ],
      "text/plain": [
       "<IPython.core.display.Math object>"
      ]
     },
     "metadata": {},
     "output_type": "display_data"
    },
    {
     "data": {
      "text/latex": [
       "$\\displaystyle 1.0 B(x_1,t_i,\\Gamma^{ (A1g,0) })_{{140} {141} {142} {143}}B^*(x_0,t_i,t_f,\\Gamma^{ (A1g,0) })_{{140} {142} {143} {141}}$"
      ],
      "text/plain": [
       "<IPython.core.display.Math object>"
      ]
     },
     "metadata": {},
     "output_type": "display_data"
    },
    {
     "data": {
      "text/latex": [
       "$\\displaystyle -1.0 B(x_1,t_i,\\Gamma^{ (A1g,0) })_{{140} {141} {142} {143}}B^*(x_0,t_i,t_f,\\Gamma^{ (A1g,0) })_{{141} {142} {143} {140}}$"
      ],
      "text/plain": [
       "<IPython.core.display.Math object>"
      ]
     },
     "metadata": {},
     "output_type": "display_data"
    },
    {
     "data": {
      "text/latex": [
       "$\\displaystyle 1.0 B(x_1,t_i,\\Gamma^{ (A1g,0) })_{{140} {141} {142} {143}}B^*(x_0,t_i,t_f,\\Gamma^{ (A1g,0) })_{{141} {140} {143} {142}}$"
      ],
      "text/plain": [
       "<IPython.core.display.Math object>"
      ]
     },
     "metadata": {},
     "output_type": "display_data"
    },
    {
     "data": {
      "text/latex": [
       "$\\displaystyle -1.0 B(x_1,t_i,\\Gamma^{ (A1g,0) })_{{140} {141} {142} {143}}B^*(x_0,t_i,t_f,\\Gamma^{ (A1g,0) })_{{140} {141} {143} {142}}$"
      ],
      "text/plain": [
       "<IPython.core.display.Math object>"
      ]
     },
     "metadata": {},
     "output_type": "display_data"
    },
    {
     "data": {
      "text/latex": [
       "$\\displaystyle 1.0 B(x_1,t_i,\\Gamma^{ (A1g,0) })_{{140} {141} {142} {143}}B^*(x_0,t_i,t_f,\\Gamma^{ (A1g,0) })_{{140} {143} {141} {142}}$"
      ],
      "text/plain": [
       "<IPython.core.display.Math object>"
      ]
     },
     "metadata": {},
     "output_type": "display_data"
    },
    {
     "data": {
      "text/latex": [
       "$\\displaystyle -1.0 B(x_1,t_i,\\Gamma^{ (A1g,0) })_{{140} {141} {142} {143}}B^*(x_0,t_i,t_f,\\Gamma^{ (A1g,0) })_{{141} {143} {140} {142}}$"
      ],
      "text/plain": [
       "<IPython.core.display.Math object>"
      ]
     },
     "metadata": {},
     "output_type": "display_data"
    },
    {
     "data": {
      "text/latex": [
       "$\\displaystyle 1.0 B(x_1,t_i,\\Gamma^{ (A1g,0) })_{{140} {141} {142} {143}}B^*(x_0,t_i,t_f,\\Gamma^{ (A1g,0) })_{{141} {143} {142} {140}}$"
      ],
      "text/plain": [
       "<IPython.core.display.Math object>"
      ]
     },
     "metadata": {},
     "output_type": "display_data"
    },
    {
     "data": {
      "text/latex": [
       "$\\displaystyle -1.0 B(x_1,t_i,\\Gamma^{ (A1g,0) })_{{140} {141} {142} {143}}B^*(x_0,t_i,t_f,\\Gamma^{ (A1g,0) })_{{140} {143} {142} {141}}$"
      ],
      "text/plain": [
       "<IPython.core.display.Math object>"
      ]
     },
     "metadata": {},
     "output_type": "display_data"
    },
    {
     "data": {
      "text/latex": [
       "$\\displaystyle 1.0 B(x_1,t_i,\\Gamma^{ (A1g,0) })_{{140} {141} {142} {143}}B^*(x_0,t_i,t_f,\\Gamma^{ (A1g,0) })_{{142} {143} {140} {141}}$"
      ],
      "text/plain": [
       "<IPython.core.display.Math object>"
      ]
     },
     "metadata": {},
     "output_type": "display_data"
    },
    {
     "data": {
      "text/latex": [
       "$\\displaystyle -1.0 B(x_1,t_i,\\Gamma^{ (A1g,0) })_{{140} {141} {142} {143}}B^*(x_0,t_i,t_f,\\Gamma^{ (A1g,0) })_{{142} {143} {141} {140}}$"
      ],
      "text/plain": [
       "<IPython.core.display.Math object>"
      ]
     },
     "metadata": {},
     "output_type": "display_data"
    },
    {
     "data": {
      "text/latex": [
       "$\\displaystyle 1.0 B(x_1,t_i,\\Gamma^{ (A1g,0) })_{{140} {141} {142} {143}}B^*(x_0,t_i,t_f,\\Gamma^{ (A1g,0) })_{{143} {142} {141} {140}}$"
      ],
      "text/plain": [
       "<IPython.core.display.Math object>"
      ]
     },
     "metadata": {},
     "output_type": "display_data"
    },
    {
     "data": {
      "text/latex": [
       "$\\displaystyle -1.0 B(x_1,t_i,\\Gamma^{ (A1g,0) })_{{140} {141} {142} {143}}B^*(x_0,t_i,t_f,\\Gamma^{ (A1g,0) })_{{143} {142} {140} {141}}$"
      ],
      "text/plain": [
       "<IPython.core.display.Math object>"
      ]
     },
     "metadata": {},
     "output_type": "display_data"
    },
    {
     "data": {
      "text/latex": [
       "$\\displaystyle 1.0 B(x_1,t_i,\\Gamma^{ (A1g,0) })_{{140} {141} {142} {143}}B^*(x_0,t_i,t_f,\\Gamma^{ (A1g,0) })_{{143} {140} {142} {141}}$"
      ],
      "text/plain": [
       "<IPython.core.display.Math object>"
      ]
     },
     "metadata": {},
     "output_type": "display_data"
    },
    {
     "data": {
      "text/latex": [
       "$\\displaystyle -1.0 B(x_1,t_i,\\Gamma^{ (A1g,0) })_{{140} {141} {142} {143}}B^*(x_0,t_i,t_f,\\Gamma^{ (A1g,0) })_{{143} {141} {142} {140}}$"
      ],
      "text/plain": [
       "<IPython.core.display.Math object>"
      ]
     },
     "metadata": {},
     "output_type": "display_data"
    },
    {
     "data": {
      "text/latex": [
       "$\\displaystyle 1.0 B(x_1,t_i,\\Gamma^{ (A1g,0) })_{{140} {141} {142} {143}}B^*(x_0,t_i,t_f,\\Gamma^{ (A1g,0) })_{{143} {141} {140} {142}}$"
      ],
      "text/plain": [
       "<IPython.core.display.Math object>"
      ]
     },
     "metadata": {},
     "output_type": "display_data"
    },
    {
     "data": {
      "text/latex": [
       "$\\displaystyle -1.0 B(x_1,t_i,\\Gamma^{ (A1g,0) })_{{140} {141} {142} {143}}B^*(x_0,t_i,t_f,\\Gamma^{ (A1g,0) })_{{143} {140} {141} {142}}$"
      ],
      "text/plain": [
       "<IPython.core.display.Math object>"
      ]
     },
     "metadata": {},
     "output_type": "display_data"
    },
    {
     "data": {
      "text/latex": [
       "$\\displaystyle 1.0 B(x_1,t_i,\\Gamma^{ (Eg0,0) })_{{148} {149} {150} {151}}B^*(x_0,t_i,t_f,\\Gamma^{ (A1g,0) })_{{148} {149} {150} {151}}$"
      ],
      "text/plain": [
       "<IPython.core.display.Math object>"
      ]
     },
     "metadata": {},
     "output_type": "display_data"
    },
    {
     "data": {
      "text/latex": [
       "$\\displaystyle -1.0 B(x_1,t_i,\\Gamma^{ (Eg0,0) })_{{148} {149} {150} {151}}B^*(x_0,t_i,t_f,\\Gamma^{ (A1g,0) })_{{149} {148} {150} {151}}$"
      ],
      "text/plain": [
       "<IPython.core.display.Math object>"
      ]
     },
     "metadata": {},
     "output_type": "display_data"
    },
    {
     "data": {
      "text/latex": [
       "$\\displaystyle 1.0 B(x_1,t_i,\\Gamma^{ (Eg0,0) })_{{148} {149} {150} {151}}B^*(x_0,t_i,t_f,\\Gamma^{ (A1g,0) })_{{149} {150} {148} {151}}$"
      ],
      "text/plain": [
       "<IPython.core.display.Math object>"
      ]
     },
     "metadata": {},
     "output_type": "display_data"
    },
    {
     "data": {
      "text/latex": [
       "$\\displaystyle -1.0 B(x_1,t_i,\\Gamma^{ (Eg0,0) })_{{148} {149} {150} {151}}B^*(x_0,t_i,t_f,\\Gamma^{ (A1g,0) })_{{148} {150} {149} {151}}$"
      ],
      "text/plain": [
       "<IPython.core.display.Math object>"
      ]
     },
     "metadata": {},
     "output_type": "display_data"
    },
    {
     "data": {
      "text/latex": [
       "$\\displaystyle 1.0 B(x_1,t_i,\\Gamma^{ (Eg0,0) })_{{148} {149} {150} {151}}B^*(x_0,t_i,t_f,\\Gamma^{ (A1g,0) })_{{150} {148} {149} {151}}$"
      ],
      "text/plain": [
       "<IPython.core.display.Math object>"
      ]
     },
     "metadata": {},
     "output_type": "display_data"
    },
    {
     "data": {
      "text/latex": [
       "$\\displaystyle -1.0 B(x_1,t_i,\\Gamma^{ (Eg0,0) })_{{148} {149} {150} {151}}B^*(x_0,t_i,t_f,\\Gamma^{ (A1g,0) })_{{150} {149} {148} {151}}$"
      ],
      "text/plain": [
       "<IPython.core.display.Math object>"
      ]
     },
     "metadata": {},
     "output_type": "display_data"
    },
    {
     "data": {
      "text/latex": [
       "$\\displaystyle 1.0 B(x_1,t_i,\\Gamma^{ (Eg0,0) })_{{148} {149} {150} {151}}B^*(x_0,t_i,t_f,\\Gamma^{ (A1g,0) })_{{150} {149} {151} {148}}$"
      ],
      "text/plain": [
       "<IPython.core.display.Math object>"
      ]
     },
     "metadata": {},
     "output_type": "display_data"
    },
    {
     "data": {
      "text/latex": [
       "$\\displaystyle -1.0 B(x_1,t_i,\\Gamma^{ (Eg0,0) })_{{148} {149} {150} {151}}B^*(x_0,t_i,t_f,\\Gamma^{ (A1g,0) })_{{150} {148} {151} {149}}$"
      ],
      "text/plain": [
       "<IPython.core.display.Math object>"
      ]
     },
     "metadata": {},
     "output_type": "display_data"
    },
    {
     "data": {
      "text/latex": [
       "$\\displaystyle 1.0 B(x_1,t_i,\\Gamma^{ (Eg0,0) })_{{148} {149} {150} {151}}B^*(x_0,t_i,t_f,\\Gamma^{ (A1g,0) })_{{148} {150} {151} {149}}$"
      ],
      "text/plain": [
       "<IPython.core.display.Math object>"
      ]
     },
     "metadata": {},
     "output_type": "display_data"
    },
    {
     "data": {
      "text/latex": [
       "$\\displaystyle -1.0 B(x_1,t_i,\\Gamma^{ (Eg0,0) })_{{148} {149} {150} {151}}B^*(x_0,t_i,t_f,\\Gamma^{ (A1g,0) })_{{149} {150} {151} {148}}$"
      ],
      "text/plain": [
       "<IPython.core.display.Math object>"
      ]
     },
     "metadata": {},
     "output_type": "display_data"
    },
    {
     "data": {
      "text/latex": [
       "$\\displaystyle 1.0 B(x_1,t_i,\\Gamma^{ (Eg0,0) })_{{148} {149} {150} {151}}B^*(x_0,t_i,t_f,\\Gamma^{ (A1g,0) })_{{149} {148} {151} {150}}$"
      ],
      "text/plain": [
       "<IPython.core.display.Math object>"
      ]
     },
     "metadata": {},
     "output_type": "display_data"
    },
    {
     "data": {
      "text/latex": [
       "$\\displaystyle -1.0 B(x_1,t_i,\\Gamma^{ (Eg0,0) })_{{148} {149} {150} {151}}B^*(x_0,t_i,t_f,\\Gamma^{ (A1g,0) })_{{148} {149} {151} {150}}$"
      ],
      "text/plain": [
       "<IPython.core.display.Math object>"
      ]
     },
     "metadata": {},
     "output_type": "display_data"
    },
    {
     "data": {
      "text/latex": [
       "$\\displaystyle 1.0 B(x_1,t_i,\\Gamma^{ (Eg0,0) })_{{148} {149} {150} {151}}B^*(x_0,t_i,t_f,\\Gamma^{ (A1g,0) })_{{148} {151} {149} {150}}$"
      ],
      "text/plain": [
       "<IPython.core.display.Math object>"
      ]
     },
     "metadata": {},
     "output_type": "display_data"
    },
    {
     "data": {
      "text/latex": [
       "$\\displaystyle -1.0 B(x_1,t_i,\\Gamma^{ (Eg0,0) })_{{148} {149} {150} {151}}B^*(x_0,t_i,t_f,\\Gamma^{ (A1g,0) })_{{149} {151} {148} {150}}$"
      ],
      "text/plain": [
       "<IPython.core.display.Math object>"
      ]
     },
     "metadata": {},
     "output_type": "display_data"
    },
    {
     "data": {
      "text/latex": [
       "$\\displaystyle 1.0 B(x_1,t_i,\\Gamma^{ (Eg0,0) })_{{148} {149} {150} {151}}B^*(x_0,t_i,t_f,\\Gamma^{ (A1g,0) })_{{149} {151} {150} {148}}$"
      ],
      "text/plain": [
       "<IPython.core.display.Math object>"
      ]
     },
     "metadata": {},
     "output_type": "display_data"
    },
    {
     "data": {
      "text/latex": [
       "$\\displaystyle -1.0 B(x_1,t_i,\\Gamma^{ (Eg0,0) })_{{148} {149} {150} {151}}B^*(x_0,t_i,t_f,\\Gamma^{ (A1g,0) })_{{148} {151} {150} {149}}$"
      ],
      "text/plain": [
       "<IPython.core.display.Math object>"
      ]
     },
     "metadata": {},
     "output_type": "display_data"
    },
    {
     "data": {
      "text/latex": [
       "$\\displaystyle 1.0 B(x_1,t_i,\\Gamma^{ (Eg0,0) })_{{148} {149} {150} {151}}B^*(x_0,t_i,t_f,\\Gamma^{ (A1g,0) })_{{150} {151} {148} {149}}$"
      ],
      "text/plain": [
       "<IPython.core.display.Math object>"
      ]
     },
     "metadata": {},
     "output_type": "display_data"
    },
    {
     "data": {
      "text/latex": [
       "$\\displaystyle -1.0 B(x_1,t_i,\\Gamma^{ (Eg0,0) })_{{148} {149} {150} {151}}B^*(x_0,t_i,t_f,\\Gamma^{ (A1g,0) })_{{150} {151} {149} {148}}$"
      ],
      "text/plain": [
       "<IPython.core.display.Math object>"
      ]
     },
     "metadata": {},
     "output_type": "display_data"
    },
    {
     "data": {
      "text/latex": [
       "$\\displaystyle 1.0 B(x_1,t_i,\\Gamma^{ (Eg0,0) })_{{148} {149} {150} {151}}B^*(x_0,t_i,t_f,\\Gamma^{ (A1g,0) })_{{151} {150} {149} {148}}$"
      ],
      "text/plain": [
       "<IPython.core.display.Math object>"
      ]
     },
     "metadata": {},
     "output_type": "display_data"
    },
    {
     "data": {
      "text/latex": [
       "$\\displaystyle -1.0 B(x_1,t_i,\\Gamma^{ (Eg0,0) })_{{148} {149} {150} {151}}B^*(x_0,t_i,t_f,\\Gamma^{ (A1g,0) })_{{151} {150} {148} {149}}$"
      ],
      "text/plain": [
       "<IPython.core.display.Math object>"
      ]
     },
     "metadata": {},
     "output_type": "display_data"
    },
    {
     "data": {
      "text/latex": [
       "$\\displaystyle 1.0 B(x_1,t_i,\\Gamma^{ (Eg0,0) })_{{148} {149} {150} {151}}B^*(x_0,t_i,t_f,\\Gamma^{ (A1g,0) })_{{151} {148} {150} {149}}$"
      ],
      "text/plain": [
       "<IPython.core.display.Math object>"
      ]
     },
     "metadata": {},
     "output_type": "display_data"
    },
    {
     "data": {
      "text/latex": [
       "$\\displaystyle -1.0 B(x_1,t_i,\\Gamma^{ (Eg0,0) })_{{148} {149} {150} {151}}B^*(x_0,t_i,t_f,\\Gamma^{ (A1g,0) })_{{151} {149} {150} {148}}$"
      ],
      "text/plain": [
       "<IPython.core.display.Math object>"
      ]
     },
     "metadata": {},
     "output_type": "display_data"
    },
    {
     "data": {
      "text/latex": [
       "$\\displaystyle 1.0 B(x_1,t_i,\\Gamma^{ (Eg0,0) })_{{148} {149} {150} {151}}B^*(x_0,t_i,t_f,\\Gamma^{ (A1g,0) })_{{151} {149} {148} {150}}$"
      ],
      "text/plain": [
       "<IPython.core.display.Math object>"
      ]
     },
     "metadata": {},
     "output_type": "display_data"
    },
    {
     "data": {
      "text/latex": [
       "$\\displaystyle -1.0 B(x_1,t_i,\\Gamma^{ (Eg0,0) })_{{148} {149} {150} {151}}B^*(x_0,t_i,t_f,\\Gamma^{ (A1g,0) })_{{151} {148} {149} {150}}$"
      ],
      "text/plain": [
       "<IPython.core.display.Math object>"
      ]
     },
     "metadata": {},
     "output_type": "display_data"
    },
    {
     "data": {
      "text/latex": [
       "$\\displaystyle 1.0 B(x_1,t_i,\\Gamma^{ (Eg0,1) })_{{156} {157} {158} {159}}B^*(x_0,t_i,t_f,\\Gamma^{ (A1g,0) })_{{156} {157} {158} {159}}$"
      ],
      "text/plain": [
       "<IPython.core.display.Math object>"
      ]
     },
     "metadata": {},
     "output_type": "display_data"
    },
    {
     "data": {
      "text/latex": [
       "$\\displaystyle -1.0 B(x_1,t_i,\\Gamma^{ (Eg0,1) })_{{156} {157} {158} {159}}B^*(x_0,t_i,t_f,\\Gamma^{ (A1g,0) })_{{157} {156} {158} {159}}$"
      ],
      "text/plain": [
       "<IPython.core.display.Math object>"
      ]
     },
     "metadata": {},
     "output_type": "display_data"
    },
    {
     "data": {
      "text/latex": [
       "$\\displaystyle 1.0 B(x_1,t_i,\\Gamma^{ (Eg0,1) })_{{156} {157} {158} {159}}B^*(x_0,t_i,t_f,\\Gamma^{ (A1g,0) })_{{157} {158} {156} {159}}$"
      ],
      "text/plain": [
       "<IPython.core.display.Math object>"
      ]
     },
     "metadata": {},
     "output_type": "display_data"
    },
    {
     "data": {
      "text/latex": [
       "$\\displaystyle -1.0 B(x_1,t_i,\\Gamma^{ (Eg0,1) })_{{156} {157} {158} {159}}B^*(x_0,t_i,t_f,\\Gamma^{ (A1g,0) })_{{156} {158} {157} {159}}$"
      ],
      "text/plain": [
       "<IPython.core.display.Math object>"
      ]
     },
     "metadata": {},
     "output_type": "display_data"
    },
    {
     "data": {
      "text/latex": [
       "$\\displaystyle 1.0 B(x_1,t_i,\\Gamma^{ (Eg0,1) })_{{156} {157} {158} {159}}B^*(x_0,t_i,t_f,\\Gamma^{ (A1g,0) })_{{158} {156} {157} {159}}$"
      ],
      "text/plain": [
       "<IPython.core.display.Math object>"
      ]
     },
     "metadata": {},
     "output_type": "display_data"
    },
    {
     "data": {
      "text/latex": [
       "$\\displaystyle -1.0 B(x_1,t_i,\\Gamma^{ (Eg0,1) })_{{156} {157} {158} {159}}B^*(x_0,t_i,t_f,\\Gamma^{ (A1g,0) })_{{158} {157} {156} {159}}$"
      ],
      "text/plain": [
       "<IPython.core.display.Math object>"
      ]
     },
     "metadata": {},
     "output_type": "display_data"
    },
    {
     "data": {
      "text/latex": [
       "$\\displaystyle 1.0 B(x_1,t_i,\\Gamma^{ (Eg0,1) })_{{156} {157} {158} {159}}B^*(x_0,t_i,t_f,\\Gamma^{ (A1g,0) })_{{158} {157} {159} {156}}$"
      ],
      "text/plain": [
       "<IPython.core.display.Math object>"
      ]
     },
     "metadata": {},
     "output_type": "display_data"
    },
    {
     "data": {
      "text/latex": [
       "$\\displaystyle -1.0 B(x_1,t_i,\\Gamma^{ (Eg0,1) })_{{156} {157} {158} {159}}B^*(x_0,t_i,t_f,\\Gamma^{ (A1g,0) })_{{158} {156} {159} {157}}$"
      ],
      "text/plain": [
       "<IPython.core.display.Math object>"
      ]
     },
     "metadata": {},
     "output_type": "display_data"
    },
    {
     "data": {
      "text/latex": [
       "$\\displaystyle 1.0 B(x_1,t_i,\\Gamma^{ (Eg0,1) })_{{156} {157} {158} {159}}B^*(x_0,t_i,t_f,\\Gamma^{ (A1g,0) })_{{156} {158} {159} {157}}$"
      ],
      "text/plain": [
       "<IPython.core.display.Math object>"
      ]
     },
     "metadata": {},
     "output_type": "display_data"
    },
    {
     "data": {
      "text/latex": [
       "$\\displaystyle -1.0 B(x_1,t_i,\\Gamma^{ (Eg0,1) })_{{156} {157} {158} {159}}B^*(x_0,t_i,t_f,\\Gamma^{ (A1g,0) })_{{157} {158} {159} {156}}$"
      ],
      "text/plain": [
       "<IPython.core.display.Math object>"
      ]
     },
     "metadata": {},
     "output_type": "display_data"
    },
    {
     "data": {
      "text/latex": [
       "$\\displaystyle 1.0 B(x_1,t_i,\\Gamma^{ (Eg0,1) })_{{156} {157} {158} {159}}B^*(x_0,t_i,t_f,\\Gamma^{ (A1g,0) })_{{157} {156} {159} {158}}$"
      ],
      "text/plain": [
       "<IPython.core.display.Math object>"
      ]
     },
     "metadata": {},
     "output_type": "display_data"
    },
    {
     "data": {
      "text/latex": [
       "$\\displaystyle -1.0 B(x_1,t_i,\\Gamma^{ (Eg0,1) })_{{156} {157} {158} {159}}B^*(x_0,t_i,t_f,\\Gamma^{ (A1g,0) })_{{156} {157} {159} {158}}$"
      ],
      "text/plain": [
       "<IPython.core.display.Math object>"
      ]
     },
     "metadata": {},
     "output_type": "display_data"
    },
    {
     "data": {
      "text/latex": [
       "$\\displaystyle 1.0 B(x_1,t_i,\\Gamma^{ (Eg0,1) })_{{156} {157} {158} {159}}B^*(x_0,t_i,t_f,\\Gamma^{ (A1g,0) })_{{156} {159} {157} {158}}$"
      ],
      "text/plain": [
       "<IPython.core.display.Math object>"
      ]
     },
     "metadata": {},
     "output_type": "display_data"
    },
    {
     "data": {
      "text/latex": [
       "$\\displaystyle -1.0 B(x_1,t_i,\\Gamma^{ (Eg0,1) })_{{156} {157} {158} {159}}B^*(x_0,t_i,t_f,\\Gamma^{ (A1g,0) })_{{157} {159} {156} {158}}$"
      ],
      "text/plain": [
       "<IPython.core.display.Math object>"
      ]
     },
     "metadata": {},
     "output_type": "display_data"
    },
    {
     "data": {
      "text/latex": [
       "$\\displaystyle 1.0 B(x_1,t_i,\\Gamma^{ (Eg0,1) })_{{156} {157} {158} {159}}B^*(x_0,t_i,t_f,\\Gamma^{ (A1g,0) })_{{157} {159} {158} {156}}$"
      ],
      "text/plain": [
       "<IPython.core.display.Math object>"
      ]
     },
     "metadata": {},
     "output_type": "display_data"
    },
    {
     "data": {
      "text/latex": [
       "$\\displaystyle -1.0 B(x_1,t_i,\\Gamma^{ (Eg0,1) })_{{156} {157} {158} {159}}B^*(x_0,t_i,t_f,\\Gamma^{ (A1g,0) })_{{156} {159} {158} {157}}$"
      ],
      "text/plain": [
       "<IPython.core.display.Math object>"
      ]
     },
     "metadata": {},
     "output_type": "display_data"
    },
    {
     "data": {
      "text/latex": [
       "$\\displaystyle 1.0 B(x_1,t_i,\\Gamma^{ (Eg0,1) })_{{156} {157} {158} {159}}B^*(x_0,t_i,t_f,\\Gamma^{ (A1g,0) })_{{158} {159} {156} {157}}$"
      ],
      "text/plain": [
       "<IPython.core.display.Math object>"
      ]
     },
     "metadata": {},
     "output_type": "display_data"
    },
    {
     "data": {
      "text/latex": [
       "$\\displaystyle -1.0 B(x_1,t_i,\\Gamma^{ (Eg0,1) })_{{156} {157} {158} {159}}B^*(x_0,t_i,t_f,\\Gamma^{ (A1g,0) })_{{158} {159} {157} {156}}$"
      ],
      "text/plain": [
       "<IPython.core.display.Math object>"
      ]
     },
     "metadata": {},
     "output_type": "display_data"
    },
    {
     "data": {
      "text/latex": [
       "$\\displaystyle 1.0 B(x_1,t_i,\\Gamma^{ (Eg0,1) })_{{156} {157} {158} {159}}B^*(x_0,t_i,t_f,\\Gamma^{ (A1g,0) })_{{159} {158} {157} {156}}$"
      ],
      "text/plain": [
       "<IPython.core.display.Math object>"
      ]
     },
     "metadata": {},
     "output_type": "display_data"
    },
    {
     "data": {
      "text/latex": [
       "$\\displaystyle -1.0 B(x_1,t_i,\\Gamma^{ (Eg0,1) })_{{156} {157} {158} {159}}B^*(x_0,t_i,t_f,\\Gamma^{ (A1g,0) })_{{159} {158} {156} {157}}$"
      ],
      "text/plain": [
       "<IPython.core.display.Math object>"
      ]
     },
     "metadata": {},
     "output_type": "display_data"
    },
    {
     "data": {
      "text/latex": [
       "$\\displaystyle 1.0 B(x_1,t_i,\\Gamma^{ (Eg0,1) })_{{156} {157} {158} {159}}B^*(x_0,t_i,t_f,\\Gamma^{ (A1g,0) })_{{159} {156} {158} {157}}$"
      ],
      "text/plain": [
       "<IPython.core.display.Math object>"
      ]
     },
     "metadata": {},
     "output_type": "display_data"
    },
    {
     "data": {
      "text/latex": [
       "$\\displaystyle -1.0 B(x_1,t_i,\\Gamma^{ (Eg0,1) })_{{156} {157} {158} {159}}B^*(x_0,t_i,t_f,\\Gamma^{ (A1g,0) })_{{159} {157} {158} {156}}$"
      ],
      "text/plain": [
       "<IPython.core.display.Math object>"
      ]
     },
     "metadata": {},
     "output_type": "display_data"
    },
    {
     "data": {
      "text/latex": [
       "$\\displaystyle 1.0 B(x_1,t_i,\\Gamma^{ (Eg0,1) })_{{156} {157} {158} {159}}B^*(x_0,t_i,t_f,\\Gamma^{ (A1g,0) })_{{159} {157} {156} {158}}$"
      ],
      "text/plain": [
       "<IPython.core.display.Math object>"
      ]
     },
     "metadata": {},
     "output_type": "display_data"
    },
    {
     "data": {
      "text/latex": [
       "$\\displaystyle -1.0 B(x_1,t_i,\\Gamma^{ (Eg0,1) })_{{156} {157} {158} {159}}B^*(x_0,t_i,t_f,\\Gamma^{ (A1g,0) })_{{159} {156} {157} {158}}$"
      ],
      "text/plain": [
       "<IPython.core.display.Math object>"
      ]
     },
     "metadata": {},
     "output_type": "display_data"
    },
    {
     "data": {
      "text/latex": [
       "$\\displaystyle 1.0 B(x_1,t_i,\\Gamma^{ (Eg0,2) })_{{164} {165} {166} {167}}B^*(x_0,t_i,t_f,\\Gamma^{ (A1g,0) })_{{164} {165} {166} {167}}$"
      ],
      "text/plain": [
       "<IPython.core.display.Math object>"
      ]
     },
     "metadata": {},
     "output_type": "display_data"
    },
    {
     "data": {
      "text/latex": [
       "$\\displaystyle -1.0 B(x_1,t_i,\\Gamma^{ (Eg0,2) })_{{164} {165} {166} {167}}B^*(x_0,t_i,t_f,\\Gamma^{ (A1g,0) })_{{165} {164} {166} {167}}$"
      ],
      "text/plain": [
       "<IPython.core.display.Math object>"
      ]
     },
     "metadata": {},
     "output_type": "display_data"
    },
    {
     "data": {
      "text/latex": [
       "$\\displaystyle 1.0 B(x_1,t_i,\\Gamma^{ (Eg0,2) })_{{164} {165} {166} {167}}B^*(x_0,t_i,t_f,\\Gamma^{ (A1g,0) })_{{165} {166} {164} {167}}$"
      ],
      "text/plain": [
       "<IPython.core.display.Math object>"
      ]
     },
     "metadata": {},
     "output_type": "display_data"
    },
    {
     "data": {
      "text/latex": [
       "$\\displaystyle -1.0 B(x_1,t_i,\\Gamma^{ (Eg0,2) })_{{164} {165} {166} {167}}B^*(x_0,t_i,t_f,\\Gamma^{ (A1g,0) })_{{164} {166} {165} {167}}$"
      ],
      "text/plain": [
       "<IPython.core.display.Math object>"
      ]
     },
     "metadata": {},
     "output_type": "display_data"
    },
    {
     "data": {
      "text/latex": [
       "$\\displaystyle 1.0 B(x_1,t_i,\\Gamma^{ (Eg0,2) })_{{164} {165} {166} {167}}B^*(x_0,t_i,t_f,\\Gamma^{ (A1g,0) })_{{166} {164} {165} {167}}$"
      ],
      "text/plain": [
       "<IPython.core.display.Math object>"
      ]
     },
     "metadata": {},
     "output_type": "display_data"
    },
    {
     "data": {
      "text/latex": [
       "$\\displaystyle -1.0 B(x_1,t_i,\\Gamma^{ (Eg0,2) })_{{164} {165} {166} {167}}B^*(x_0,t_i,t_f,\\Gamma^{ (A1g,0) })_{{166} {165} {164} {167}}$"
      ],
      "text/plain": [
       "<IPython.core.display.Math object>"
      ]
     },
     "metadata": {},
     "output_type": "display_data"
    },
    {
     "data": {
      "text/latex": [
       "$\\displaystyle 1.0 B(x_1,t_i,\\Gamma^{ (Eg0,2) })_{{164} {165} {166} {167}}B^*(x_0,t_i,t_f,\\Gamma^{ (A1g,0) })_{{166} {165} {167} {164}}$"
      ],
      "text/plain": [
       "<IPython.core.display.Math object>"
      ]
     },
     "metadata": {},
     "output_type": "display_data"
    },
    {
     "data": {
      "text/latex": [
       "$\\displaystyle -1.0 B(x_1,t_i,\\Gamma^{ (Eg0,2) })_{{164} {165} {166} {167}}B^*(x_0,t_i,t_f,\\Gamma^{ (A1g,0) })_{{166} {164} {167} {165}}$"
      ],
      "text/plain": [
       "<IPython.core.display.Math object>"
      ]
     },
     "metadata": {},
     "output_type": "display_data"
    },
    {
     "data": {
      "text/latex": [
       "$\\displaystyle 1.0 B(x_1,t_i,\\Gamma^{ (Eg0,2) })_{{164} {165} {166} {167}}B^*(x_0,t_i,t_f,\\Gamma^{ (A1g,0) })_{{164} {166} {167} {165}}$"
      ],
      "text/plain": [
       "<IPython.core.display.Math object>"
      ]
     },
     "metadata": {},
     "output_type": "display_data"
    },
    {
     "data": {
      "text/latex": [
       "$\\displaystyle -1.0 B(x_1,t_i,\\Gamma^{ (Eg0,2) })_{{164} {165} {166} {167}}B^*(x_0,t_i,t_f,\\Gamma^{ (A1g,0) })_{{165} {166} {167} {164}}$"
      ],
      "text/plain": [
       "<IPython.core.display.Math object>"
      ]
     },
     "metadata": {},
     "output_type": "display_data"
    },
    {
     "data": {
      "text/latex": [
       "$\\displaystyle 1.0 B(x_1,t_i,\\Gamma^{ (Eg0,2) })_{{164} {165} {166} {167}}B^*(x_0,t_i,t_f,\\Gamma^{ (A1g,0) })_{{165} {164} {167} {166}}$"
      ],
      "text/plain": [
       "<IPython.core.display.Math object>"
      ]
     },
     "metadata": {},
     "output_type": "display_data"
    },
    {
     "data": {
      "text/latex": [
       "$\\displaystyle -1.0 B(x_1,t_i,\\Gamma^{ (Eg0,2) })_{{164} {165} {166} {167}}B^*(x_0,t_i,t_f,\\Gamma^{ (A1g,0) })_{{164} {165} {167} {166}}$"
      ],
      "text/plain": [
       "<IPython.core.display.Math object>"
      ]
     },
     "metadata": {},
     "output_type": "display_data"
    },
    {
     "data": {
      "text/latex": [
       "$\\displaystyle 1.0 B(x_1,t_i,\\Gamma^{ (Eg0,2) })_{{164} {165} {166} {167}}B^*(x_0,t_i,t_f,\\Gamma^{ (A1g,0) })_{{164} {167} {165} {166}}$"
      ],
      "text/plain": [
       "<IPython.core.display.Math object>"
      ]
     },
     "metadata": {},
     "output_type": "display_data"
    },
    {
     "data": {
      "text/latex": [
       "$\\displaystyle -1.0 B(x_1,t_i,\\Gamma^{ (Eg0,2) })_{{164} {165} {166} {167}}B^*(x_0,t_i,t_f,\\Gamma^{ (A1g,0) })_{{165} {167} {164} {166}}$"
      ],
      "text/plain": [
       "<IPython.core.display.Math object>"
      ]
     },
     "metadata": {},
     "output_type": "display_data"
    },
    {
     "data": {
      "text/latex": [
       "$\\displaystyle 1.0 B(x_1,t_i,\\Gamma^{ (Eg0,2) })_{{164} {165} {166} {167}}B^*(x_0,t_i,t_f,\\Gamma^{ (A1g,0) })_{{165} {167} {166} {164}}$"
      ],
      "text/plain": [
       "<IPython.core.display.Math object>"
      ]
     },
     "metadata": {},
     "output_type": "display_data"
    },
    {
     "data": {
      "text/latex": [
       "$\\displaystyle -1.0 B(x_1,t_i,\\Gamma^{ (Eg0,2) })_{{164} {165} {166} {167}}B^*(x_0,t_i,t_f,\\Gamma^{ (A1g,0) })_{{164} {167} {166} {165}}$"
      ],
      "text/plain": [
       "<IPython.core.display.Math object>"
      ]
     },
     "metadata": {},
     "output_type": "display_data"
    },
    {
     "data": {
      "text/latex": [
       "$\\displaystyle 1.0 B(x_1,t_i,\\Gamma^{ (Eg0,2) })_{{164} {165} {166} {167}}B^*(x_0,t_i,t_f,\\Gamma^{ (A1g,0) })_{{166} {167} {164} {165}}$"
      ],
      "text/plain": [
       "<IPython.core.display.Math object>"
      ]
     },
     "metadata": {},
     "output_type": "display_data"
    },
    {
     "data": {
      "text/latex": [
       "$\\displaystyle -1.0 B(x_1,t_i,\\Gamma^{ (Eg0,2) })_{{164} {165} {166} {167}}B^*(x_0,t_i,t_f,\\Gamma^{ (A1g,0) })_{{166} {167} {165} {164}}$"
      ],
      "text/plain": [
       "<IPython.core.display.Math object>"
      ]
     },
     "metadata": {},
     "output_type": "display_data"
    },
    {
     "data": {
      "text/latex": [
       "$\\displaystyle 1.0 B(x_1,t_i,\\Gamma^{ (Eg0,2) })_{{164} {165} {166} {167}}B^*(x_0,t_i,t_f,\\Gamma^{ (A1g,0) })_{{167} {166} {165} {164}}$"
      ],
      "text/plain": [
       "<IPython.core.display.Math object>"
      ]
     },
     "metadata": {},
     "output_type": "display_data"
    },
    {
     "data": {
      "text/latex": [
       "$\\displaystyle -1.0 B(x_1,t_i,\\Gamma^{ (Eg0,2) })_{{164} {165} {166} {167}}B^*(x_0,t_i,t_f,\\Gamma^{ (A1g,0) })_{{167} {166} {164} {165}}$"
      ],
      "text/plain": [
       "<IPython.core.display.Math object>"
      ]
     },
     "metadata": {},
     "output_type": "display_data"
    },
    {
     "data": {
      "text/latex": [
       "$\\displaystyle 1.0 B(x_1,t_i,\\Gamma^{ (Eg0,2) })_{{164} {165} {166} {167}}B^*(x_0,t_i,t_f,\\Gamma^{ (A1g,0) })_{{167} {164} {166} {165}}$"
      ],
      "text/plain": [
       "<IPython.core.display.Math object>"
      ]
     },
     "metadata": {},
     "output_type": "display_data"
    },
    {
     "data": {
      "text/latex": [
       "$\\displaystyle -1.0 B(x_1,t_i,\\Gamma^{ (Eg0,2) })_{{164} {165} {166} {167}}B^*(x_0,t_i,t_f,\\Gamma^{ (A1g,0) })_{{167} {165} {166} {164}}$"
      ],
      "text/plain": [
       "<IPython.core.display.Math object>"
      ]
     },
     "metadata": {},
     "output_type": "display_data"
    },
    {
     "data": {
      "text/latex": [
       "$\\displaystyle 1.0 B(x_1,t_i,\\Gamma^{ (Eg0,2) })_{{164} {165} {166} {167}}B^*(x_0,t_i,t_f,\\Gamma^{ (A1g,0) })_{{167} {165} {164} {166}}$"
      ],
      "text/plain": [
       "<IPython.core.display.Math object>"
      ]
     },
     "metadata": {},
     "output_type": "display_data"
    },
    {
     "data": {
      "text/latex": [
       "$\\displaystyle -1.0 B(x_1,t_i,\\Gamma^{ (Eg0,2) })_{{164} {165} {166} {167}}B^*(x_0,t_i,t_f,\\Gamma^{ (A1g,0) })_{{167} {164} {165} {166}}$"
      ],
      "text/plain": [
       "<IPython.core.display.Math object>"
      ]
     },
     "metadata": {},
     "output_type": "display_data"
    },
    {
     "data": {
      "text/latex": [
       "$\\displaystyle 1.0 B(x_1,t_i,\\Gamma^{ (Eg1,0) })_{{172} {173} {174} {175}}B^*(x_0,t_i,t_f,\\Gamma^{ (A1g,0) })_{{172} {173} {174} {175}}$"
      ],
      "text/plain": [
       "<IPython.core.display.Math object>"
      ]
     },
     "metadata": {},
     "output_type": "display_data"
    },
    {
     "data": {
      "text/latex": [
       "$\\displaystyle -1.0 B(x_1,t_i,\\Gamma^{ (Eg1,0) })_{{172} {173} {174} {175}}B^*(x_0,t_i,t_f,\\Gamma^{ (A1g,0) })_{{173} {172} {174} {175}}$"
      ],
      "text/plain": [
       "<IPython.core.display.Math object>"
      ]
     },
     "metadata": {},
     "output_type": "display_data"
    },
    {
     "data": {
      "text/latex": [
       "$\\displaystyle 1.0 B(x_1,t_i,\\Gamma^{ (Eg1,0) })_{{172} {173} {174} {175}}B^*(x_0,t_i,t_f,\\Gamma^{ (A1g,0) })_{{173} {174} {172} {175}}$"
      ],
      "text/plain": [
       "<IPython.core.display.Math object>"
      ]
     },
     "metadata": {},
     "output_type": "display_data"
    },
    {
     "data": {
      "text/latex": [
       "$\\displaystyle -1.0 B(x_1,t_i,\\Gamma^{ (Eg1,0) })_{{172} {173} {174} {175}}B^*(x_0,t_i,t_f,\\Gamma^{ (A1g,0) })_{{172} {174} {173} {175}}$"
      ],
      "text/plain": [
       "<IPython.core.display.Math object>"
      ]
     },
     "metadata": {},
     "output_type": "display_data"
    },
    {
     "data": {
      "text/latex": [
       "$\\displaystyle 1.0 B(x_1,t_i,\\Gamma^{ (Eg1,0) })_{{172} {173} {174} {175}}B^*(x_0,t_i,t_f,\\Gamma^{ (A1g,0) })_{{174} {172} {173} {175}}$"
      ],
      "text/plain": [
       "<IPython.core.display.Math object>"
      ]
     },
     "metadata": {},
     "output_type": "display_data"
    },
    {
     "data": {
      "text/latex": [
       "$\\displaystyle -1.0 B(x_1,t_i,\\Gamma^{ (Eg1,0) })_{{172} {173} {174} {175}}B^*(x_0,t_i,t_f,\\Gamma^{ (A1g,0) })_{{174} {173} {172} {175}}$"
      ],
      "text/plain": [
       "<IPython.core.display.Math object>"
      ]
     },
     "metadata": {},
     "output_type": "display_data"
    },
    {
     "data": {
      "text/latex": [
       "$\\displaystyle 1.0 B(x_1,t_i,\\Gamma^{ (Eg1,0) })_{{172} {173} {174} {175}}B^*(x_0,t_i,t_f,\\Gamma^{ (A1g,0) })_{{174} {173} {175} {172}}$"
      ],
      "text/plain": [
       "<IPython.core.display.Math object>"
      ]
     },
     "metadata": {},
     "output_type": "display_data"
    },
    {
     "data": {
      "text/latex": [
       "$\\displaystyle -1.0 B(x_1,t_i,\\Gamma^{ (Eg1,0) })_{{172} {173} {174} {175}}B^*(x_0,t_i,t_f,\\Gamma^{ (A1g,0) })_{{174} {172} {175} {173}}$"
      ],
      "text/plain": [
       "<IPython.core.display.Math object>"
      ]
     },
     "metadata": {},
     "output_type": "display_data"
    },
    {
     "data": {
      "text/latex": [
       "$\\displaystyle 1.0 B(x_1,t_i,\\Gamma^{ (Eg1,0) })_{{172} {173} {174} {175}}B^*(x_0,t_i,t_f,\\Gamma^{ (A1g,0) })_{{172} {174} {175} {173}}$"
      ],
      "text/plain": [
       "<IPython.core.display.Math object>"
      ]
     },
     "metadata": {},
     "output_type": "display_data"
    },
    {
     "data": {
      "text/latex": [
       "$\\displaystyle -1.0 B(x_1,t_i,\\Gamma^{ (Eg1,0) })_{{172} {173} {174} {175}}B^*(x_0,t_i,t_f,\\Gamma^{ (A1g,0) })_{{173} {174} {175} {172}}$"
      ],
      "text/plain": [
       "<IPython.core.display.Math object>"
      ]
     },
     "metadata": {},
     "output_type": "display_data"
    },
    {
     "data": {
      "text/latex": [
       "$\\displaystyle 1.0 B(x_1,t_i,\\Gamma^{ (Eg1,0) })_{{172} {173} {174} {175}}B^*(x_0,t_i,t_f,\\Gamma^{ (A1g,0) })_{{173} {172} {175} {174}}$"
      ],
      "text/plain": [
       "<IPython.core.display.Math object>"
      ]
     },
     "metadata": {},
     "output_type": "display_data"
    },
    {
     "data": {
      "text/latex": [
       "$\\displaystyle -1.0 B(x_1,t_i,\\Gamma^{ (Eg1,0) })_{{172} {173} {174} {175}}B^*(x_0,t_i,t_f,\\Gamma^{ (A1g,0) })_{{172} {173} {175} {174}}$"
      ],
      "text/plain": [
       "<IPython.core.display.Math object>"
      ]
     },
     "metadata": {},
     "output_type": "display_data"
    },
    {
     "data": {
      "text/latex": [
       "$\\displaystyle 1.0 B(x_1,t_i,\\Gamma^{ (Eg1,0) })_{{172} {173} {174} {175}}B^*(x_0,t_i,t_f,\\Gamma^{ (A1g,0) })_{{172} {175} {173} {174}}$"
      ],
      "text/plain": [
       "<IPython.core.display.Math object>"
      ]
     },
     "metadata": {},
     "output_type": "display_data"
    },
    {
     "data": {
      "text/latex": [
       "$\\displaystyle -1.0 B(x_1,t_i,\\Gamma^{ (Eg1,0) })_{{172} {173} {174} {175}}B^*(x_0,t_i,t_f,\\Gamma^{ (A1g,0) })_{{173} {175} {172} {174}}$"
      ],
      "text/plain": [
       "<IPython.core.display.Math object>"
      ]
     },
     "metadata": {},
     "output_type": "display_data"
    },
    {
     "data": {
      "text/latex": [
       "$\\displaystyle 1.0 B(x_1,t_i,\\Gamma^{ (Eg1,0) })_{{172} {173} {174} {175}}B^*(x_0,t_i,t_f,\\Gamma^{ (A1g,0) })_{{173} {175} {174} {172}}$"
      ],
      "text/plain": [
       "<IPython.core.display.Math object>"
      ]
     },
     "metadata": {},
     "output_type": "display_data"
    },
    {
     "data": {
      "text/latex": [
       "$\\displaystyle -1.0 B(x_1,t_i,\\Gamma^{ (Eg1,0) })_{{172} {173} {174} {175}}B^*(x_0,t_i,t_f,\\Gamma^{ (A1g,0) })_{{172} {175} {174} {173}}$"
      ],
      "text/plain": [
       "<IPython.core.display.Math object>"
      ]
     },
     "metadata": {},
     "output_type": "display_data"
    },
    {
     "data": {
      "text/latex": [
       "$\\displaystyle 1.0 B(x_1,t_i,\\Gamma^{ (Eg1,0) })_{{172} {173} {174} {175}}B^*(x_0,t_i,t_f,\\Gamma^{ (A1g,0) })_{{174} {175} {172} {173}}$"
      ],
      "text/plain": [
       "<IPython.core.display.Math object>"
      ]
     },
     "metadata": {},
     "output_type": "display_data"
    },
    {
     "data": {
      "text/latex": [
       "$\\displaystyle -1.0 B(x_1,t_i,\\Gamma^{ (Eg1,0) })_{{172} {173} {174} {175}}B^*(x_0,t_i,t_f,\\Gamma^{ (A1g,0) })_{{174} {175} {173} {172}}$"
      ],
      "text/plain": [
       "<IPython.core.display.Math object>"
      ]
     },
     "metadata": {},
     "output_type": "display_data"
    },
    {
     "data": {
      "text/latex": [
       "$\\displaystyle 1.0 B(x_1,t_i,\\Gamma^{ (Eg1,0) })_{{172} {173} {174} {175}}B^*(x_0,t_i,t_f,\\Gamma^{ (A1g,0) })_{{175} {174} {173} {172}}$"
      ],
      "text/plain": [
       "<IPython.core.display.Math object>"
      ]
     },
     "metadata": {},
     "output_type": "display_data"
    },
    {
     "data": {
      "text/latex": [
       "$\\displaystyle -1.0 B(x_1,t_i,\\Gamma^{ (Eg1,0) })_{{172} {173} {174} {175}}B^*(x_0,t_i,t_f,\\Gamma^{ (A1g,0) })_{{175} {174} {172} {173}}$"
      ],
      "text/plain": [
       "<IPython.core.display.Math object>"
      ]
     },
     "metadata": {},
     "output_type": "display_data"
    },
    {
     "data": {
      "text/latex": [
       "$\\displaystyle 1.0 B(x_1,t_i,\\Gamma^{ (Eg1,0) })_{{172} {173} {174} {175}}B^*(x_0,t_i,t_f,\\Gamma^{ (A1g,0) })_{{175} {172} {174} {173}}$"
      ],
      "text/plain": [
       "<IPython.core.display.Math object>"
      ]
     },
     "metadata": {},
     "output_type": "display_data"
    },
    {
     "data": {
      "text/latex": [
       "$\\displaystyle -1.0 B(x_1,t_i,\\Gamma^{ (Eg1,0) })_{{172} {173} {174} {175}}B^*(x_0,t_i,t_f,\\Gamma^{ (A1g,0) })_{{175} {173} {174} {172}}$"
      ],
      "text/plain": [
       "<IPython.core.display.Math object>"
      ]
     },
     "metadata": {},
     "output_type": "display_data"
    },
    {
     "data": {
      "text/latex": [
       "$\\displaystyle 1.0 B(x_1,t_i,\\Gamma^{ (Eg1,0) })_{{172} {173} {174} {175}}B^*(x_0,t_i,t_f,\\Gamma^{ (A1g,0) })_{{175} {173} {172} {174}}$"
      ],
      "text/plain": [
       "<IPython.core.display.Math object>"
      ]
     },
     "metadata": {},
     "output_type": "display_data"
    },
    {
     "data": {
      "text/latex": [
       "$\\displaystyle -1.0 B(x_1,t_i,\\Gamma^{ (Eg1,0) })_{{172} {173} {174} {175}}B^*(x_0,t_i,t_f,\\Gamma^{ (A1g,0) })_{{175} {172} {173} {174}}$"
      ],
      "text/plain": [
       "<IPython.core.display.Math object>"
      ]
     },
     "metadata": {},
     "output_type": "display_data"
    },
    {
     "data": {
      "text/latex": [
       "$\\displaystyle 1.0 B(x_1,t_i,\\Gamma^{ (Eg1,1) })_{{180} {181} {182} {183}}B^*(x_0,t_i,t_f,\\Gamma^{ (A1g,0) })_{{180} {181} {182} {183}}$"
      ],
      "text/plain": [
       "<IPython.core.display.Math object>"
      ]
     },
     "metadata": {},
     "output_type": "display_data"
    },
    {
     "data": {
      "text/latex": [
       "$\\displaystyle -1.0 B(x_1,t_i,\\Gamma^{ (Eg1,1) })_{{180} {181} {182} {183}}B^*(x_0,t_i,t_f,\\Gamma^{ (A1g,0) })_{{181} {180} {182} {183}}$"
      ],
      "text/plain": [
       "<IPython.core.display.Math object>"
      ]
     },
     "metadata": {},
     "output_type": "display_data"
    },
    {
     "data": {
      "text/latex": [
       "$\\displaystyle 1.0 B(x_1,t_i,\\Gamma^{ (Eg1,1) })_{{180} {181} {182} {183}}B^*(x_0,t_i,t_f,\\Gamma^{ (A1g,0) })_{{181} {182} {180} {183}}$"
      ],
      "text/plain": [
       "<IPython.core.display.Math object>"
      ]
     },
     "metadata": {},
     "output_type": "display_data"
    },
    {
     "data": {
      "text/latex": [
       "$\\displaystyle -1.0 B(x_1,t_i,\\Gamma^{ (Eg1,1) })_{{180} {181} {182} {183}}B^*(x_0,t_i,t_f,\\Gamma^{ (A1g,0) })_{{180} {182} {181} {183}}$"
      ],
      "text/plain": [
       "<IPython.core.display.Math object>"
      ]
     },
     "metadata": {},
     "output_type": "display_data"
    },
    {
     "data": {
      "text/latex": [
       "$\\displaystyle 1.0 B(x_1,t_i,\\Gamma^{ (Eg1,1) })_{{180} {181} {182} {183}}B^*(x_0,t_i,t_f,\\Gamma^{ (A1g,0) })_{{182} {180} {181} {183}}$"
      ],
      "text/plain": [
       "<IPython.core.display.Math object>"
      ]
     },
     "metadata": {},
     "output_type": "display_data"
    },
    {
     "data": {
      "text/latex": [
       "$\\displaystyle -1.0 B(x_1,t_i,\\Gamma^{ (Eg1,1) })_{{180} {181} {182} {183}}B^*(x_0,t_i,t_f,\\Gamma^{ (A1g,0) })_{{182} {181} {180} {183}}$"
      ],
      "text/plain": [
       "<IPython.core.display.Math object>"
      ]
     },
     "metadata": {},
     "output_type": "display_data"
    },
    {
     "data": {
      "text/latex": [
       "$\\displaystyle 1.0 B(x_1,t_i,\\Gamma^{ (Eg1,1) })_{{180} {181} {182} {183}}B^*(x_0,t_i,t_f,\\Gamma^{ (A1g,0) })_{{182} {181} {183} {180}}$"
      ],
      "text/plain": [
       "<IPython.core.display.Math object>"
      ]
     },
     "metadata": {},
     "output_type": "display_data"
    },
    {
     "data": {
      "text/latex": [
       "$\\displaystyle -1.0 B(x_1,t_i,\\Gamma^{ (Eg1,1) })_{{180} {181} {182} {183}}B^*(x_0,t_i,t_f,\\Gamma^{ (A1g,0) })_{{182} {180} {183} {181}}$"
      ],
      "text/plain": [
       "<IPython.core.display.Math object>"
      ]
     },
     "metadata": {},
     "output_type": "display_data"
    },
    {
     "data": {
      "text/latex": [
       "$\\displaystyle 1.0 B(x_1,t_i,\\Gamma^{ (Eg1,1) })_{{180} {181} {182} {183}}B^*(x_0,t_i,t_f,\\Gamma^{ (A1g,0) })_{{180} {182} {183} {181}}$"
      ],
      "text/plain": [
       "<IPython.core.display.Math object>"
      ]
     },
     "metadata": {},
     "output_type": "display_data"
    },
    {
     "data": {
      "text/latex": [
       "$\\displaystyle -1.0 B(x_1,t_i,\\Gamma^{ (Eg1,1) })_{{180} {181} {182} {183}}B^*(x_0,t_i,t_f,\\Gamma^{ (A1g,0) })_{{181} {182} {183} {180}}$"
      ],
      "text/plain": [
       "<IPython.core.display.Math object>"
      ]
     },
     "metadata": {},
     "output_type": "display_data"
    },
    {
     "data": {
      "text/latex": [
       "$\\displaystyle 1.0 B(x_1,t_i,\\Gamma^{ (Eg1,1) })_{{180} {181} {182} {183}}B^*(x_0,t_i,t_f,\\Gamma^{ (A1g,0) })_{{181} {180} {183} {182}}$"
      ],
      "text/plain": [
       "<IPython.core.display.Math object>"
      ]
     },
     "metadata": {},
     "output_type": "display_data"
    },
    {
     "data": {
      "text/latex": [
       "$\\displaystyle -1.0 B(x_1,t_i,\\Gamma^{ (Eg1,1) })_{{180} {181} {182} {183}}B^*(x_0,t_i,t_f,\\Gamma^{ (A1g,0) })_{{180} {181} {183} {182}}$"
      ],
      "text/plain": [
       "<IPython.core.display.Math object>"
      ]
     },
     "metadata": {},
     "output_type": "display_data"
    },
    {
     "data": {
      "text/latex": [
       "$\\displaystyle 1.0 B(x_1,t_i,\\Gamma^{ (Eg1,1) })_{{180} {181} {182} {183}}B^*(x_0,t_i,t_f,\\Gamma^{ (A1g,0) })_{{180} {183} {181} {182}}$"
      ],
      "text/plain": [
       "<IPython.core.display.Math object>"
      ]
     },
     "metadata": {},
     "output_type": "display_data"
    },
    {
     "data": {
      "text/latex": [
       "$\\displaystyle -1.0 B(x_1,t_i,\\Gamma^{ (Eg1,1) })_{{180} {181} {182} {183}}B^*(x_0,t_i,t_f,\\Gamma^{ (A1g,0) })_{{181} {183} {180} {182}}$"
      ],
      "text/plain": [
       "<IPython.core.display.Math object>"
      ]
     },
     "metadata": {},
     "output_type": "display_data"
    },
    {
     "data": {
      "text/latex": [
       "$\\displaystyle 1.0 B(x_1,t_i,\\Gamma^{ (Eg1,1) })_{{180} {181} {182} {183}}B^*(x_0,t_i,t_f,\\Gamma^{ (A1g,0) })_{{181} {183} {182} {180}}$"
      ],
      "text/plain": [
       "<IPython.core.display.Math object>"
      ]
     },
     "metadata": {},
     "output_type": "display_data"
    },
    {
     "data": {
      "text/latex": [
       "$\\displaystyle -1.0 B(x_1,t_i,\\Gamma^{ (Eg1,1) })_{{180} {181} {182} {183}}B^*(x_0,t_i,t_f,\\Gamma^{ (A1g,0) })_{{180} {183} {182} {181}}$"
      ],
      "text/plain": [
       "<IPython.core.display.Math object>"
      ]
     },
     "metadata": {},
     "output_type": "display_data"
    },
    {
     "data": {
      "text/latex": [
       "$\\displaystyle 1.0 B(x_1,t_i,\\Gamma^{ (Eg1,1) })_{{180} {181} {182} {183}}B^*(x_0,t_i,t_f,\\Gamma^{ (A1g,0) })_{{182} {183} {180} {181}}$"
      ],
      "text/plain": [
       "<IPython.core.display.Math object>"
      ]
     },
     "metadata": {},
     "output_type": "display_data"
    },
    {
     "data": {
      "text/latex": [
       "$\\displaystyle -1.0 B(x_1,t_i,\\Gamma^{ (Eg1,1) })_{{180} {181} {182} {183}}B^*(x_0,t_i,t_f,\\Gamma^{ (A1g,0) })_{{182} {183} {181} {180}}$"
      ],
      "text/plain": [
       "<IPython.core.display.Math object>"
      ]
     },
     "metadata": {},
     "output_type": "display_data"
    },
    {
     "data": {
      "text/latex": [
       "$\\displaystyle 1.0 B(x_1,t_i,\\Gamma^{ (Eg1,1) })_{{180} {181} {182} {183}}B^*(x_0,t_i,t_f,\\Gamma^{ (A1g,0) })_{{183} {182} {181} {180}}$"
      ],
      "text/plain": [
       "<IPython.core.display.Math object>"
      ]
     },
     "metadata": {},
     "output_type": "display_data"
    },
    {
     "data": {
      "text/latex": [
       "$\\displaystyle -1.0 B(x_1,t_i,\\Gamma^{ (Eg1,1) })_{{180} {181} {182} {183}}B^*(x_0,t_i,t_f,\\Gamma^{ (A1g,0) })_{{183} {182} {180} {181}}$"
      ],
      "text/plain": [
       "<IPython.core.display.Math object>"
      ]
     },
     "metadata": {},
     "output_type": "display_data"
    },
    {
     "data": {
      "text/latex": [
       "$\\displaystyle 1.0 B(x_1,t_i,\\Gamma^{ (Eg1,1) })_{{180} {181} {182} {183}}B^*(x_0,t_i,t_f,\\Gamma^{ (A1g,0) })_{{183} {180} {182} {181}}$"
      ],
      "text/plain": [
       "<IPython.core.display.Math object>"
      ]
     },
     "metadata": {},
     "output_type": "display_data"
    },
    {
     "data": {
      "text/latex": [
       "$\\displaystyle -1.0 B(x_1,t_i,\\Gamma^{ (Eg1,1) })_{{180} {181} {182} {183}}B^*(x_0,t_i,t_f,\\Gamma^{ (A1g,0) })_{{183} {181} {182} {180}}$"
      ],
      "text/plain": [
       "<IPython.core.display.Math object>"
      ]
     },
     "metadata": {},
     "output_type": "display_data"
    },
    {
     "data": {
      "text/latex": [
       "$\\displaystyle 1.0 B(x_1,t_i,\\Gamma^{ (Eg1,1) })_{{180} {181} {182} {183}}B^*(x_0,t_i,t_f,\\Gamma^{ (A1g,0) })_{{183} {181} {180} {182}}$"
      ],
      "text/plain": [
       "<IPython.core.display.Math object>"
      ]
     },
     "metadata": {},
     "output_type": "display_data"
    },
    {
     "data": {
      "text/latex": [
       "$\\displaystyle -1.0 B(x_1,t_i,\\Gamma^{ (Eg1,1) })_{{180} {181} {182} {183}}B^*(x_0,t_i,t_f,\\Gamma^{ (A1g,0) })_{{183} {180} {181} {182}}$"
      ],
      "text/plain": [
       "<IPython.core.display.Math object>"
      ]
     },
     "metadata": {},
     "output_type": "display_data"
    },
    {
     "data": {
      "text/latex": [
       "$\\displaystyle 1.0 B(x_1,t_i,\\Gamma^{ (Eg1,2) })_{{188} {189} {190} {191}}B^*(x_0,t_i,t_f,\\Gamma^{ (A1g,0) })_{{188} {189} {190} {191}}$"
      ],
      "text/plain": [
       "<IPython.core.display.Math object>"
      ]
     },
     "metadata": {},
     "output_type": "display_data"
    },
    {
     "data": {
      "text/latex": [
       "$\\displaystyle -1.0 B(x_1,t_i,\\Gamma^{ (Eg1,2) })_{{188} {189} {190} {191}}B^*(x_0,t_i,t_f,\\Gamma^{ (A1g,0) })_{{189} {188} {190} {191}}$"
      ],
      "text/plain": [
       "<IPython.core.display.Math object>"
      ]
     },
     "metadata": {},
     "output_type": "display_data"
    },
    {
     "data": {
      "text/latex": [
       "$\\displaystyle 1.0 B(x_1,t_i,\\Gamma^{ (Eg1,2) })_{{188} {189} {190} {191}}B^*(x_0,t_i,t_f,\\Gamma^{ (A1g,0) })_{{189} {190} {188} {191}}$"
      ],
      "text/plain": [
       "<IPython.core.display.Math object>"
      ]
     },
     "metadata": {},
     "output_type": "display_data"
    },
    {
     "data": {
      "text/latex": [
       "$\\displaystyle -1.0 B(x_1,t_i,\\Gamma^{ (Eg1,2) })_{{188} {189} {190} {191}}B^*(x_0,t_i,t_f,\\Gamma^{ (A1g,0) })_{{188} {190} {189} {191}}$"
      ],
      "text/plain": [
       "<IPython.core.display.Math object>"
      ]
     },
     "metadata": {},
     "output_type": "display_data"
    },
    {
     "data": {
      "text/latex": [
       "$\\displaystyle 1.0 B(x_1,t_i,\\Gamma^{ (Eg1,2) })_{{188} {189} {190} {191}}B^*(x_0,t_i,t_f,\\Gamma^{ (A1g,0) })_{{190} {188} {189} {191}}$"
      ],
      "text/plain": [
       "<IPython.core.display.Math object>"
      ]
     },
     "metadata": {},
     "output_type": "display_data"
    },
    {
     "data": {
      "text/latex": [
       "$\\displaystyle -1.0 B(x_1,t_i,\\Gamma^{ (Eg1,2) })_{{188} {189} {190} {191}}B^*(x_0,t_i,t_f,\\Gamma^{ (A1g,0) })_{{190} {189} {188} {191}}$"
      ],
      "text/plain": [
       "<IPython.core.display.Math object>"
      ]
     },
     "metadata": {},
     "output_type": "display_data"
    },
    {
     "data": {
      "text/latex": [
       "$\\displaystyle 1.0 B(x_1,t_i,\\Gamma^{ (Eg1,2) })_{{188} {189} {190} {191}}B^*(x_0,t_i,t_f,\\Gamma^{ (A1g,0) })_{{190} {189} {191} {188}}$"
      ],
      "text/plain": [
       "<IPython.core.display.Math object>"
      ]
     },
     "metadata": {},
     "output_type": "display_data"
    },
    {
     "data": {
      "text/latex": [
       "$\\displaystyle -1.0 B(x_1,t_i,\\Gamma^{ (Eg1,2) })_{{188} {189} {190} {191}}B^*(x_0,t_i,t_f,\\Gamma^{ (A1g,0) })_{{190} {188} {191} {189}}$"
      ],
      "text/plain": [
       "<IPython.core.display.Math object>"
      ]
     },
     "metadata": {},
     "output_type": "display_data"
    },
    {
     "data": {
      "text/latex": [
       "$\\displaystyle 1.0 B(x_1,t_i,\\Gamma^{ (Eg1,2) })_{{188} {189} {190} {191}}B^*(x_0,t_i,t_f,\\Gamma^{ (A1g,0) })_{{188} {190} {191} {189}}$"
      ],
      "text/plain": [
       "<IPython.core.display.Math object>"
      ]
     },
     "metadata": {},
     "output_type": "display_data"
    },
    {
     "data": {
      "text/latex": [
       "$\\displaystyle -1.0 B(x_1,t_i,\\Gamma^{ (Eg1,2) })_{{188} {189} {190} {191}}B^*(x_0,t_i,t_f,\\Gamma^{ (A1g,0) })_{{189} {190} {191} {188}}$"
      ],
      "text/plain": [
       "<IPython.core.display.Math object>"
      ]
     },
     "metadata": {},
     "output_type": "display_data"
    },
    {
     "data": {
      "text/latex": [
       "$\\displaystyle 1.0 B(x_1,t_i,\\Gamma^{ (Eg1,2) })_{{188} {189} {190} {191}}B^*(x_0,t_i,t_f,\\Gamma^{ (A1g,0) })_{{189} {188} {191} {190}}$"
      ],
      "text/plain": [
       "<IPython.core.display.Math object>"
      ]
     },
     "metadata": {},
     "output_type": "display_data"
    },
    {
     "data": {
      "text/latex": [
       "$\\displaystyle -1.0 B(x_1,t_i,\\Gamma^{ (Eg1,2) })_{{188} {189} {190} {191}}B^*(x_0,t_i,t_f,\\Gamma^{ (A1g,0) })_{{188} {189} {191} {190}}$"
      ],
      "text/plain": [
       "<IPython.core.display.Math object>"
      ]
     },
     "metadata": {},
     "output_type": "display_data"
    },
    {
     "data": {
      "text/latex": [
       "$\\displaystyle 1.0 B(x_1,t_i,\\Gamma^{ (Eg1,2) })_{{188} {189} {190} {191}}B^*(x_0,t_i,t_f,\\Gamma^{ (A1g,0) })_{{188} {191} {189} {190}}$"
      ],
      "text/plain": [
       "<IPython.core.display.Math object>"
      ]
     },
     "metadata": {},
     "output_type": "display_data"
    },
    {
     "data": {
      "text/latex": [
       "$\\displaystyle -1.0 B(x_1,t_i,\\Gamma^{ (Eg1,2) })_{{188} {189} {190} {191}}B^*(x_0,t_i,t_f,\\Gamma^{ (A1g,0) })_{{189} {191} {188} {190}}$"
      ],
      "text/plain": [
       "<IPython.core.display.Math object>"
      ]
     },
     "metadata": {},
     "output_type": "display_data"
    },
    {
     "data": {
      "text/latex": [
       "$\\displaystyle 1.0 B(x_1,t_i,\\Gamma^{ (Eg1,2) })_{{188} {189} {190} {191}}B^*(x_0,t_i,t_f,\\Gamma^{ (A1g,0) })_{{189} {191} {190} {188}}$"
      ],
      "text/plain": [
       "<IPython.core.display.Math object>"
      ]
     },
     "metadata": {},
     "output_type": "display_data"
    },
    {
     "data": {
      "text/latex": [
       "$\\displaystyle -1.0 B(x_1,t_i,\\Gamma^{ (Eg1,2) })_{{188} {189} {190} {191}}B^*(x_0,t_i,t_f,\\Gamma^{ (A1g,0) })_{{188} {191} {190} {189}}$"
      ],
      "text/plain": [
       "<IPython.core.display.Math object>"
      ]
     },
     "metadata": {},
     "output_type": "display_data"
    },
    {
     "data": {
      "text/latex": [
       "$\\displaystyle 1.0 B(x_1,t_i,\\Gamma^{ (Eg1,2) })_{{188} {189} {190} {191}}B^*(x_0,t_i,t_f,\\Gamma^{ (A1g,0) })_{{190} {191} {188} {189}}$"
      ],
      "text/plain": [
       "<IPython.core.display.Math object>"
      ]
     },
     "metadata": {},
     "output_type": "display_data"
    },
    {
     "data": {
      "text/latex": [
       "$\\displaystyle -1.0 B(x_1,t_i,\\Gamma^{ (Eg1,2) })_{{188} {189} {190} {191}}B^*(x_0,t_i,t_f,\\Gamma^{ (A1g,0) })_{{190} {191} {189} {188}}$"
      ],
      "text/plain": [
       "<IPython.core.display.Math object>"
      ]
     },
     "metadata": {},
     "output_type": "display_data"
    },
    {
     "data": {
      "text/latex": [
       "$\\displaystyle 1.0 B(x_1,t_i,\\Gamma^{ (Eg1,2) })_{{188} {189} {190} {191}}B^*(x_0,t_i,t_f,\\Gamma^{ (A1g,0) })_{{191} {190} {189} {188}}$"
      ],
      "text/plain": [
       "<IPython.core.display.Math object>"
      ]
     },
     "metadata": {},
     "output_type": "display_data"
    },
    {
     "data": {
      "text/latex": [
       "$\\displaystyle -1.0 B(x_1,t_i,\\Gamma^{ (Eg1,2) })_{{188} {189} {190} {191}}B^*(x_0,t_i,t_f,\\Gamma^{ (A1g,0) })_{{191} {190} {188} {189}}$"
      ],
      "text/plain": [
       "<IPython.core.display.Math object>"
      ]
     },
     "metadata": {},
     "output_type": "display_data"
    },
    {
     "data": {
      "text/latex": [
       "$\\displaystyle 1.0 B(x_1,t_i,\\Gamma^{ (Eg1,2) })_{{188} {189} {190} {191}}B^*(x_0,t_i,t_f,\\Gamma^{ (A1g,0) })_{{191} {188} {190} {189}}$"
      ],
      "text/plain": [
       "<IPython.core.display.Math object>"
      ]
     },
     "metadata": {},
     "output_type": "display_data"
    },
    {
     "data": {
      "text/latex": [
       "$\\displaystyle -1.0 B(x_1,t_i,\\Gamma^{ (Eg1,2) })_{{188} {189} {190} {191}}B^*(x_0,t_i,t_f,\\Gamma^{ (A1g,0) })_{{191} {189} {190} {188}}$"
      ],
      "text/plain": [
       "<IPython.core.display.Math object>"
      ]
     },
     "metadata": {},
     "output_type": "display_data"
    },
    {
     "data": {
      "text/latex": [
       "$\\displaystyle 1.0 B(x_1,t_i,\\Gamma^{ (Eg1,2) })_{{188} {189} {190} {191}}B^*(x_0,t_i,t_f,\\Gamma^{ (A1g,0) })_{{191} {189} {188} {190}}$"
      ],
      "text/plain": [
       "<IPython.core.display.Math object>"
      ]
     },
     "metadata": {},
     "output_type": "display_data"
    },
    {
     "data": {
      "text/latex": [
       "$\\displaystyle -1.0 B(x_1,t_i,\\Gamma^{ (Eg1,2) })_{{188} {189} {190} {191}}B^*(x_0,t_i,t_f,\\Gamma^{ (A1g,0) })_{{191} {188} {189} {190}}$"
      ],
      "text/plain": [
       "<IPython.core.display.Math object>"
      ]
     },
     "metadata": {},
     "output_type": "display_data"
    },
    {
     "data": {
      "text/latex": [
       "$\\displaystyle 1.0 B(x_1,t_i,\\Gamma^{ (buchoff,0) })_{{132} {133} {134} {135}}B^*(x_0,t_i,t_f,\\Gamma^{ (Eg0,0) })_{{132} {133} {134} {135}}$"
      ],
      "text/plain": [
       "<IPython.core.display.Math object>"
      ]
     },
     "metadata": {},
     "output_type": "display_data"
    },
    {
     "data": {
      "text/latex": [
       "$\\displaystyle -1.0 B(x_1,t_i,\\Gamma^{ (buchoff,0) })_{{132} {133} {134} {135}}B^*(x_0,t_i,t_f,\\Gamma^{ (Eg0,0) })_{{133} {132} {134} {135}}$"
      ],
      "text/plain": [
       "<IPython.core.display.Math object>"
      ]
     },
     "metadata": {},
     "output_type": "display_data"
    },
    {
     "data": {
      "text/latex": [
       "$\\displaystyle 1.0 B(x_1,t_i,\\Gamma^{ (buchoff,0) })_{{132} {133} {134} {135}}B^*(x_0,t_i,t_f,\\Gamma^{ (Eg0,0) })_{{133} {134} {132} {135}}$"
      ],
      "text/plain": [
       "<IPython.core.display.Math object>"
      ]
     },
     "metadata": {},
     "output_type": "display_data"
    },
    {
     "data": {
      "text/latex": [
       "$\\displaystyle -1.0 B(x_1,t_i,\\Gamma^{ (buchoff,0) })_{{132} {133} {134} {135}}B^*(x_0,t_i,t_f,\\Gamma^{ (Eg0,0) })_{{132} {134} {133} {135}}$"
      ],
      "text/plain": [
       "<IPython.core.display.Math object>"
      ]
     },
     "metadata": {},
     "output_type": "display_data"
    },
    {
     "data": {
      "text/latex": [
       "$\\displaystyle 1.0 B(x_1,t_i,\\Gamma^{ (buchoff,0) })_{{132} {133} {134} {135}}B^*(x_0,t_i,t_f,\\Gamma^{ (Eg0,0) })_{{134} {132} {133} {135}}$"
      ],
      "text/plain": [
       "<IPython.core.display.Math object>"
      ]
     },
     "metadata": {},
     "output_type": "display_data"
    },
    {
     "data": {
      "text/latex": [
       "$\\displaystyle -1.0 B(x_1,t_i,\\Gamma^{ (buchoff,0) })_{{132} {133} {134} {135}}B^*(x_0,t_i,t_f,\\Gamma^{ (Eg0,0) })_{{134} {133} {132} {135}}$"
      ],
      "text/plain": [
       "<IPython.core.display.Math object>"
      ]
     },
     "metadata": {},
     "output_type": "display_data"
    },
    {
     "data": {
      "text/latex": [
       "$\\displaystyle 1.0 B(x_1,t_i,\\Gamma^{ (buchoff,0) })_{{132} {133} {134} {135}}B^*(x_0,t_i,t_f,\\Gamma^{ (Eg0,0) })_{{134} {133} {135} {132}}$"
      ],
      "text/plain": [
       "<IPython.core.display.Math object>"
      ]
     },
     "metadata": {},
     "output_type": "display_data"
    },
    {
     "data": {
      "text/latex": [
       "$\\displaystyle -1.0 B(x_1,t_i,\\Gamma^{ (buchoff,0) })_{{132} {133} {134} {135}}B^*(x_0,t_i,t_f,\\Gamma^{ (Eg0,0) })_{{134} {132} {135} {133}}$"
      ],
      "text/plain": [
       "<IPython.core.display.Math object>"
      ]
     },
     "metadata": {},
     "output_type": "display_data"
    },
    {
     "data": {
      "text/latex": [
       "$\\displaystyle 1.0 B(x_1,t_i,\\Gamma^{ (buchoff,0) })_{{132} {133} {134} {135}}B^*(x_0,t_i,t_f,\\Gamma^{ (Eg0,0) })_{{132} {134} {135} {133}}$"
      ],
      "text/plain": [
       "<IPython.core.display.Math object>"
      ]
     },
     "metadata": {},
     "output_type": "display_data"
    },
    {
     "data": {
      "text/latex": [
       "$\\displaystyle -1.0 B(x_1,t_i,\\Gamma^{ (buchoff,0) })_{{132} {133} {134} {135}}B^*(x_0,t_i,t_f,\\Gamma^{ (Eg0,0) })_{{133} {134} {135} {132}}$"
      ],
      "text/plain": [
       "<IPython.core.display.Math object>"
      ]
     },
     "metadata": {},
     "output_type": "display_data"
    },
    {
     "data": {
      "text/latex": [
       "$\\displaystyle 1.0 B(x_1,t_i,\\Gamma^{ (buchoff,0) })_{{132} {133} {134} {135}}B^*(x_0,t_i,t_f,\\Gamma^{ (Eg0,0) })_{{133} {132} {135} {134}}$"
      ],
      "text/plain": [
       "<IPython.core.display.Math object>"
      ]
     },
     "metadata": {},
     "output_type": "display_data"
    },
    {
     "data": {
      "text/latex": [
       "$\\displaystyle -1.0 B(x_1,t_i,\\Gamma^{ (buchoff,0) })_{{132} {133} {134} {135}}B^*(x_0,t_i,t_f,\\Gamma^{ (Eg0,0) })_{{132} {133} {135} {134}}$"
      ],
      "text/plain": [
       "<IPython.core.display.Math object>"
      ]
     },
     "metadata": {},
     "output_type": "display_data"
    },
    {
     "data": {
      "text/latex": [
       "$\\displaystyle 1.0 B(x_1,t_i,\\Gamma^{ (buchoff,0) })_{{132} {133} {134} {135}}B^*(x_0,t_i,t_f,\\Gamma^{ (Eg0,0) })_{{132} {135} {133} {134}}$"
      ],
      "text/plain": [
       "<IPython.core.display.Math object>"
      ]
     },
     "metadata": {},
     "output_type": "display_data"
    },
    {
     "data": {
      "text/latex": [
       "$\\displaystyle -1.0 B(x_1,t_i,\\Gamma^{ (buchoff,0) })_{{132} {133} {134} {135}}B^*(x_0,t_i,t_f,\\Gamma^{ (Eg0,0) })_{{133} {135} {132} {134}}$"
      ],
      "text/plain": [
       "<IPython.core.display.Math object>"
      ]
     },
     "metadata": {},
     "output_type": "display_data"
    },
    {
     "data": {
      "text/latex": [
       "$\\displaystyle 1.0 B(x_1,t_i,\\Gamma^{ (buchoff,0) })_{{132} {133} {134} {135}}B^*(x_0,t_i,t_f,\\Gamma^{ (Eg0,0) })_{{133} {135} {134} {132}}$"
      ],
      "text/plain": [
       "<IPython.core.display.Math object>"
      ]
     },
     "metadata": {},
     "output_type": "display_data"
    },
    {
     "data": {
      "text/latex": [
       "$\\displaystyle -1.0 B(x_1,t_i,\\Gamma^{ (buchoff,0) })_{{132} {133} {134} {135}}B^*(x_0,t_i,t_f,\\Gamma^{ (Eg0,0) })_{{132} {135} {134} {133}}$"
      ],
      "text/plain": [
       "<IPython.core.display.Math object>"
      ]
     },
     "metadata": {},
     "output_type": "display_data"
    },
    {
     "data": {
      "text/latex": [
       "$\\displaystyle 1.0 B(x_1,t_i,\\Gamma^{ (buchoff,0) })_{{132} {133} {134} {135}}B^*(x_0,t_i,t_f,\\Gamma^{ (Eg0,0) })_{{134} {135} {132} {133}}$"
      ],
      "text/plain": [
       "<IPython.core.display.Math object>"
      ]
     },
     "metadata": {},
     "output_type": "display_data"
    },
    {
     "data": {
      "text/latex": [
       "$\\displaystyle -1.0 B(x_1,t_i,\\Gamma^{ (buchoff,0) })_{{132} {133} {134} {135}}B^*(x_0,t_i,t_f,\\Gamma^{ (Eg0,0) })_{{134} {135} {133} {132}}$"
      ],
      "text/plain": [
       "<IPython.core.display.Math object>"
      ]
     },
     "metadata": {},
     "output_type": "display_data"
    },
    {
     "data": {
      "text/latex": [
       "$\\displaystyle 1.0 B(x_1,t_i,\\Gamma^{ (buchoff,0) })_{{132} {133} {134} {135}}B^*(x_0,t_i,t_f,\\Gamma^{ (Eg0,0) })_{{135} {134} {133} {132}}$"
      ],
      "text/plain": [
       "<IPython.core.display.Math object>"
      ]
     },
     "metadata": {},
     "output_type": "display_data"
    },
    {
     "data": {
      "text/latex": [
       "$\\displaystyle -1.0 B(x_1,t_i,\\Gamma^{ (buchoff,0) })_{{132} {133} {134} {135}}B^*(x_0,t_i,t_f,\\Gamma^{ (Eg0,0) })_{{135} {134} {132} {133}}$"
      ],
      "text/plain": [
       "<IPython.core.display.Math object>"
      ]
     },
     "metadata": {},
     "output_type": "display_data"
    },
    {
     "data": {
      "text/latex": [
       "$\\displaystyle 1.0 B(x_1,t_i,\\Gamma^{ (buchoff,0) })_{{132} {133} {134} {135}}B^*(x_0,t_i,t_f,\\Gamma^{ (Eg0,0) })_{{135} {132} {134} {133}}$"
      ],
      "text/plain": [
       "<IPython.core.display.Math object>"
      ]
     },
     "metadata": {},
     "output_type": "display_data"
    },
    {
     "data": {
      "text/latex": [
       "$\\displaystyle -1.0 B(x_1,t_i,\\Gamma^{ (buchoff,0) })_{{132} {133} {134} {135}}B^*(x_0,t_i,t_f,\\Gamma^{ (Eg0,0) })_{{135} {133} {134} {132}}$"
      ],
      "text/plain": [
       "<IPython.core.display.Math object>"
      ]
     },
     "metadata": {},
     "output_type": "display_data"
    },
    {
     "data": {
      "text/latex": [
       "$\\displaystyle 1.0 B(x_1,t_i,\\Gamma^{ (buchoff,0) })_{{132} {133} {134} {135}}B^*(x_0,t_i,t_f,\\Gamma^{ (Eg0,0) })_{{135} {133} {132} {134}}$"
      ],
      "text/plain": [
       "<IPython.core.display.Math object>"
      ]
     },
     "metadata": {},
     "output_type": "display_data"
    },
    {
     "data": {
      "text/latex": [
       "$\\displaystyle -1.0 B(x_1,t_i,\\Gamma^{ (buchoff,0) })_{{132} {133} {134} {135}}B^*(x_0,t_i,t_f,\\Gamma^{ (Eg0,0) })_{{135} {132} {133} {134}}$"
      ],
      "text/plain": [
       "<IPython.core.display.Math object>"
      ]
     },
     "metadata": {},
     "output_type": "display_data"
    },
    {
     "data": {
      "text/latex": [
       "$\\displaystyle 1.0 B^*(x_0,t_i,t_f,\\Gamma^{ (Eg0,0) })_{{140} {141} {142} {143}}B(x_1,t_i,\\Gamma^{ (A1g,0) })_{{140} {141} {142} {143}}$"
      ],
      "text/plain": [
       "<IPython.core.display.Math object>"
      ]
     },
     "metadata": {},
     "output_type": "display_data"
    },
    {
     "data": {
      "text/latex": [
       "$\\displaystyle -1.0 B^*(x_0,t_i,t_f,\\Gamma^{ (Eg0,0) })_{{141} {140} {142} {143}}B(x_1,t_i,\\Gamma^{ (A1g,0) })_{{140} {141} {142} {143}}$"
      ],
      "text/plain": [
       "<IPython.core.display.Math object>"
      ]
     },
     "metadata": {},
     "output_type": "display_data"
    },
    {
     "data": {
      "text/latex": [
       "$\\displaystyle 1.0 B^*(x_0,t_i,t_f,\\Gamma^{ (Eg0,0) })_{{141} {142} {140} {143}}B(x_1,t_i,\\Gamma^{ (A1g,0) })_{{140} {141} {142} {143}}$"
      ],
      "text/plain": [
       "<IPython.core.display.Math object>"
      ]
     },
     "metadata": {},
     "output_type": "display_data"
    },
    {
     "data": {
      "text/latex": [
       "$\\displaystyle -1.0 B^*(x_0,t_i,t_f,\\Gamma^{ (Eg0,0) })_{{140} {142} {141} {143}}B(x_1,t_i,\\Gamma^{ (A1g,0) })_{{140} {141} {142} {143}}$"
      ],
      "text/plain": [
       "<IPython.core.display.Math object>"
      ]
     },
     "metadata": {},
     "output_type": "display_data"
    },
    {
     "data": {
      "text/latex": [
       "$\\displaystyle 1.0 B^*(x_0,t_i,t_f,\\Gamma^{ (Eg0,0) })_{{142} {140} {141} {143}}B(x_1,t_i,\\Gamma^{ (A1g,0) })_{{140} {141} {142} {143}}$"
      ],
      "text/plain": [
       "<IPython.core.display.Math object>"
      ]
     },
     "metadata": {},
     "output_type": "display_data"
    },
    {
     "data": {
      "text/latex": [
       "$\\displaystyle -1.0 B^*(x_0,t_i,t_f,\\Gamma^{ (Eg0,0) })_{{142} {141} {140} {143}}B(x_1,t_i,\\Gamma^{ (A1g,0) })_{{140} {141} {142} {143}}$"
      ],
      "text/plain": [
       "<IPython.core.display.Math object>"
      ]
     },
     "metadata": {},
     "output_type": "display_data"
    },
    {
     "data": {
      "text/latex": [
       "$\\displaystyle 1.0 B^*(x_0,t_i,t_f,\\Gamma^{ (Eg0,0) })_{{142} {141} {143} {140}}B(x_1,t_i,\\Gamma^{ (A1g,0) })_{{140} {141} {142} {143}}$"
      ],
      "text/plain": [
       "<IPython.core.display.Math object>"
      ]
     },
     "metadata": {},
     "output_type": "display_data"
    },
    {
     "data": {
      "text/latex": [
       "$\\displaystyle -1.0 B^*(x_0,t_i,t_f,\\Gamma^{ (Eg0,0) })_{{142} {140} {143} {141}}B(x_1,t_i,\\Gamma^{ (A1g,0) })_{{140} {141} {142} {143}}$"
      ],
      "text/plain": [
       "<IPython.core.display.Math object>"
      ]
     },
     "metadata": {},
     "output_type": "display_data"
    },
    {
     "data": {
      "text/latex": [
       "$\\displaystyle 1.0 B^*(x_0,t_i,t_f,\\Gamma^{ (Eg0,0) })_{{140} {142} {143} {141}}B(x_1,t_i,\\Gamma^{ (A1g,0) })_{{140} {141} {142} {143}}$"
      ],
      "text/plain": [
       "<IPython.core.display.Math object>"
      ]
     },
     "metadata": {},
     "output_type": "display_data"
    },
    {
     "data": {
      "text/latex": [
       "$\\displaystyle -1.0 B^*(x_0,t_i,t_f,\\Gamma^{ (Eg0,0) })_{{141} {142} {143} {140}}B(x_1,t_i,\\Gamma^{ (A1g,0) })_{{140} {141} {142} {143}}$"
      ],
      "text/plain": [
       "<IPython.core.display.Math object>"
      ]
     },
     "metadata": {},
     "output_type": "display_data"
    },
    {
     "data": {
      "text/latex": [
       "$\\displaystyle 1.0 B^*(x_0,t_i,t_f,\\Gamma^{ (Eg0,0) })_{{141} {140} {143} {142}}B(x_1,t_i,\\Gamma^{ (A1g,0) })_{{140} {141} {142} {143}}$"
      ],
      "text/plain": [
       "<IPython.core.display.Math object>"
      ]
     },
     "metadata": {},
     "output_type": "display_data"
    },
    {
     "data": {
      "text/latex": [
       "$\\displaystyle -1.0 B^*(x_0,t_i,t_f,\\Gamma^{ (Eg0,0) })_{{140} {141} {143} {142}}B(x_1,t_i,\\Gamma^{ (A1g,0) })_{{140} {141} {142} {143}}$"
      ],
      "text/plain": [
       "<IPython.core.display.Math object>"
      ]
     },
     "metadata": {},
     "output_type": "display_data"
    },
    {
     "data": {
      "text/latex": [
       "$\\displaystyle 1.0 B^*(x_0,t_i,t_f,\\Gamma^{ (Eg0,0) })_{{140} {143} {141} {142}}B(x_1,t_i,\\Gamma^{ (A1g,0) })_{{140} {141} {142} {143}}$"
      ],
      "text/plain": [
       "<IPython.core.display.Math object>"
      ]
     },
     "metadata": {},
     "output_type": "display_data"
    },
    {
     "data": {
      "text/latex": [
       "$\\displaystyle -1.0 B^*(x_0,t_i,t_f,\\Gamma^{ (Eg0,0) })_{{141} {143} {140} {142}}B(x_1,t_i,\\Gamma^{ (A1g,0) })_{{140} {141} {142} {143}}$"
      ],
      "text/plain": [
       "<IPython.core.display.Math object>"
      ]
     },
     "metadata": {},
     "output_type": "display_data"
    },
    {
     "data": {
      "text/latex": [
       "$\\displaystyle 1.0 B^*(x_0,t_i,t_f,\\Gamma^{ (Eg0,0) })_{{141} {143} {142} {140}}B(x_1,t_i,\\Gamma^{ (A1g,0) })_{{140} {141} {142} {143}}$"
      ],
      "text/plain": [
       "<IPython.core.display.Math object>"
      ]
     },
     "metadata": {},
     "output_type": "display_data"
    },
    {
     "data": {
      "text/latex": [
       "$\\displaystyle -1.0 B^*(x_0,t_i,t_f,\\Gamma^{ (Eg0,0) })_{{140} {143} {142} {141}}B(x_1,t_i,\\Gamma^{ (A1g,0) })_{{140} {141} {142} {143}}$"
      ],
      "text/plain": [
       "<IPython.core.display.Math object>"
      ]
     },
     "metadata": {},
     "output_type": "display_data"
    },
    {
     "data": {
      "text/latex": [
       "$\\displaystyle 1.0 B^*(x_0,t_i,t_f,\\Gamma^{ (Eg0,0) })_{{142} {143} {140} {141}}B(x_1,t_i,\\Gamma^{ (A1g,0) })_{{140} {141} {142} {143}}$"
      ],
      "text/plain": [
       "<IPython.core.display.Math object>"
      ]
     },
     "metadata": {},
     "output_type": "display_data"
    },
    {
     "data": {
      "text/latex": [
       "$\\displaystyle -1.0 B^*(x_0,t_i,t_f,\\Gamma^{ (Eg0,0) })_{{142} {143} {141} {140}}B(x_1,t_i,\\Gamma^{ (A1g,0) })_{{140} {141} {142} {143}}$"
      ],
      "text/plain": [
       "<IPython.core.display.Math object>"
      ]
     },
     "metadata": {},
     "output_type": "display_data"
    },
    {
     "data": {
      "text/latex": [
       "$\\displaystyle 1.0 B^*(x_0,t_i,t_f,\\Gamma^{ (Eg0,0) })_{{143} {142} {141} {140}}B(x_1,t_i,\\Gamma^{ (A1g,0) })_{{140} {141} {142} {143}}$"
      ],
      "text/plain": [
       "<IPython.core.display.Math object>"
      ]
     },
     "metadata": {},
     "output_type": "display_data"
    },
    {
     "data": {
      "text/latex": [
       "$\\displaystyle -1.0 B^*(x_0,t_i,t_f,\\Gamma^{ (Eg0,0) })_{{143} {142} {140} {141}}B(x_1,t_i,\\Gamma^{ (A1g,0) })_{{140} {141} {142} {143}}$"
      ],
      "text/plain": [
       "<IPython.core.display.Math object>"
      ]
     },
     "metadata": {},
     "output_type": "display_data"
    },
    {
     "data": {
      "text/latex": [
       "$\\displaystyle 1.0 B^*(x_0,t_i,t_f,\\Gamma^{ (Eg0,0) })_{{143} {140} {142} {141}}B(x_1,t_i,\\Gamma^{ (A1g,0) })_{{140} {141} {142} {143}}$"
      ],
      "text/plain": [
       "<IPython.core.display.Math object>"
      ]
     },
     "metadata": {},
     "output_type": "display_data"
    },
    {
     "data": {
      "text/latex": [
       "$\\displaystyle -1.0 B^*(x_0,t_i,t_f,\\Gamma^{ (Eg0,0) })_{{143} {141} {142} {140}}B(x_1,t_i,\\Gamma^{ (A1g,0) })_{{140} {141} {142} {143}}$"
      ],
      "text/plain": [
       "<IPython.core.display.Math object>"
      ]
     },
     "metadata": {},
     "output_type": "display_data"
    },
    {
     "data": {
      "text/latex": [
       "$\\displaystyle 1.0 B^*(x_0,t_i,t_f,\\Gamma^{ (Eg0,0) })_{{143} {141} {140} {142}}B(x_1,t_i,\\Gamma^{ (A1g,0) })_{{140} {141} {142} {143}}$"
      ],
      "text/plain": [
       "<IPython.core.display.Math object>"
      ]
     },
     "metadata": {},
     "output_type": "display_data"
    },
    {
     "data": {
      "text/latex": [
       "$\\displaystyle -1.0 B^*(x_0,t_i,t_f,\\Gamma^{ (Eg0,0) })_{{143} {140} {141} {142}}B(x_1,t_i,\\Gamma^{ (A1g,0) })_{{140} {141} {142} {143}}$"
      ],
      "text/plain": [
       "<IPython.core.display.Math object>"
      ]
     },
     "metadata": {},
     "output_type": "display_data"
    },
    {
     "data": {
      "text/latex": [
       "$\\displaystyle 1.0 B(x_1,t_i,\\Gamma^{ (Eg0,0) })_{{148} {149} {150} {151}}B^*(x_0,t_i,t_f,\\Gamma^{ (Eg0,0) })_{{148} {149} {150} {151}}$"
      ],
      "text/plain": [
       "<IPython.core.display.Math object>"
      ]
     },
     "metadata": {},
     "output_type": "display_data"
    },
    {
     "data": {
      "text/latex": [
       "$\\displaystyle -1.0 B(x_1,t_i,\\Gamma^{ (Eg0,0) })_{{148} {149} {150} {151}}B^*(x_0,t_i,t_f,\\Gamma^{ (Eg0,0) })_{{149} {148} {150} {151}}$"
      ],
      "text/plain": [
       "<IPython.core.display.Math object>"
      ]
     },
     "metadata": {},
     "output_type": "display_data"
    },
    {
     "data": {
      "text/latex": [
       "$\\displaystyle 1.0 B(x_1,t_i,\\Gamma^{ (Eg0,0) })_{{148} {149} {150} {151}}B^*(x_0,t_i,t_f,\\Gamma^{ (Eg0,0) })_{{149} {150} {148} {151}}$"
      ],
      "text/plain": [
       "<IPython.core.display.Math object>"
      ]
     },
     "metadata": {},
     "output_type": "display_data"
    },
    {
     "data": {
      "text/latex": [
       "$\\displaystyle -1.0 B(x_1,t_i,\\Gamma^{ (Eg0,0) })_{{148} {149} {150} {151}}B^*(x_0,t_i,t_f,\\Gamma^{ (Eg0,0) })_{{148} {150} {149} {151}}$"
      ],
      "text/plain": [
       "<IPython.core.display.Math object>"
      ]
     },
     "metadata": {},
     "output_type": "display_data"
    },
    {
     "data": {
      "text/latex": [
       "$\\displaystyle 1.0 B(x_1,t_i,\\Gamma^{ (Eg0,0) })_{{148} {149} {150} {151}}B^*(x_0,t_i,t_f,\\Gamma^{ (Eg0,0) })_{{150} {148} {149} {151}}$"
      ],
      "text/plain": [
       "<IPython.core.display.Math object>"
      ]
     },
     "metadata": {},
     "output_type": "display_data"
    },
    {
     "data": {
      "text/latex": [
       "$\\displaystyle -1.0 B(x_1,t_i,\\Gamma^{ (Eg0,0) })_{{148} {149} {150} {151}}B^*(x_0,t_i,t_f,\\Gamma^{ (Eg0,0) })_{{150} {149} {148} {151}}$"
      ],
      "text/plain": [
       "<IPython.core.display.Math object>"
      ]
     },
     "metadata": {},
     "output_type": "display_data"
    },
    {
     "data": {
      "text/latex": [
       "$\\displaystyle 1.0 B(x_1,t_i,\\Gamma^{ (Eg0,0) })_{{148} {149} {150} {151}}B^*(x_0,t_i,t_f,\\Gamma^{ (Eg0,0) })_{{150} {149} {151} {148}}$"
      ],
      "text/plain": [
       "<IPython.core.display.Math object>"
      ]
     },
     "metadata": {},
     "output_type": "display_data"
    },
    {
     "data": {
      "text/latex": [
       "$\\displaystyle -1.0 B(x_1,t_i,\\Gamma^{ (Eg0,0) })_{{148} {149} {150} {151}}B^*(x_0,t_i,t_f,\\Gamma^{ (Eg0,0) })_{{150} {148} {151} {149}}$"
      ],
      "text/plain": [
       "<IPython.core.display.Math object>"
      ]
     },
     "metadata": {},
     "output_type": "display_data"
    },
    {
     "data": {
      "text/latex": [
       "$\\displaystyle 1.0 B(x_1,t_i,\\Gamma^{ (Eg0,0) })_{{148} {149} {150} {151}}B^*(x_0,t_i,t_f,\\Gamma^{ (Eg0,0) })_{{148} {150} {151} {149}}$"
      ],
      "text/plain": [
       "<IPython.core.display.Math object>"
      ]
     },
     "metadata": {},
     "output_type": "display_data"
    },
    {
     "data": {
      "text/latex": [
       "$\\displaystyle -1.0 B(x_1,t_i,\\Gamma^{ (Eg0,0) })_{{148} {149} {150} {151}}B^*(x_0,t_i,t_f,\\Gamma^{ (Eg0,0) })_{{149} {150} {151} {148}}$"
      ],
      "text/plain": [
       "<IPython.core.display.Math object>"
      ]
     },
     "metadata": {},
     "output_type": "display_data"
    },
    {
     "data": {
      "text/latex": [
       "$\\displaystyle 1.0 B(x_1,t_i,\\Gamma^{ (Eg0,0) })_{{148} {149} {150} {151}}B^*(x_0,t_i,t_f,\\Gamma^{ (Eg0,0) })_{{149} {148} {151} {150}}$"
      ],
      "text/plain": [
       "<IPython.core.display.Math object>"
      ]
     },
     "metadata": {},
     "output_type": "display_data"
    },
    {
     "data": {
      "text/latex": [
       "$\\displaystyle -1.0 B(x_1,t_i,\\Gamma^{ (Eg0,0) })_{{148} {149} {150} {151}}B^*(x_0,t_i,t_f,\\Gamma^{ (Eg0,0) })_{{148} {149} {151} {150}}$"
      ],
      "text/plain": [
       "<IPython.core.display.Math object>"
      ]
     },
     "metadata": {},
     "output_type": "display_data"
    },
    {
     "data": {
      "text/latex": [
       "$\\displaystyle 1.0 B(x_1,t_i,\\Gamma^{ (Eg0,0) })_{{148} {149} {150} {151}}B^*(x_0,t_i,t_f,\\Gamma^{ (Eg0,0) })_{{148} {151} {149} {150}}$"
      ],
      "text/plain": [
       "<IPython.core.display.Math object>"
      ]
     },
     "metadata": {},
     "output_type": "display_data"
    },
    {
     "data": {
      "text/latex": [
       "$\\displaystyle -1.0 B(x_1,t_i,\\Gamma^{ (Eg0,0) })_{{148} {149} {150} {151}}B^*(x_0,t_i,t_f,\\Gamma^{ (Eg0,0) })_{{149} {151} {148} {150}}$"
      ],
      "text/plain": [
       "<IPython.core.display.Math object>"
      ]
     },
     "metadata": {},
     "output_type": "display_data"
    },
    {
     "data": {
      "text/latex": [
       "$\\displaystyle 1.0 B(x_1,t_i,\\Gamma^{ (Eg0,0) })_{{148} {149} {150} {151}}B^*(x_0,t_i,t_f,\\Gamma^{ (Eg0,0) })_{{149} {151} {150} {148}}$"
      ],
      "text/plain": [
       "<IPython.core.display.Math object>"
      ]
     },
     "metadata": {},
     "output_type": "display_data"
    },
    {
     "data": {
      "text/latex": [
       "$\\displaystyle -1.0 B(x_1,t_i,\\Gamma^{ (Eg0,0) })_{{148} {149} {150} {151}}B^*(x_0,t_i,t_f,\\Gamma^{ (Eg0,0) })_{{148} {151} {150} {149}}$"
      ],
      "text/plain": [
       "<IPython.core.display.Math object>"
      ]
     },
     "metadata": {},
     "output_type": "display_data"
    },
    {
     "data": {
      "text/latex": [
       "$\\displaystyle 1.0 B(x_1,t_i,\\Gamma^{ (Eg0,0) })_{{148} {149} {150} {151}}B^*(x_0,t_i,t_f,\\Gamma^{ (Eg0,0) })_{{150} {151} {148} {149}}$"
      ],
      "text/plain": [
       "<IPython.core.display.Math object>"
      ]
     },
     "metadata": {},
     "output_type": "display_data"
    },
    {
     "data": {
      "text/latex": [
       "$\\displaystyle -1.0 B(x_1,t_i,\\Gamma^{ (Eg0,0) })_{{148} {149} {150} {151}}B^*(x_0,t_i,t_f,\\Gamma^{ (Eg0,0) })_{{150} {151} {149} {148}}$"
      ],
      "text/plain": [
       "<IPython.core.display.Math object>"
      ]
     },
     "metadata": {},
     "output_type": "display_data"
    },
    {
     "data": {
      "text/latex": [
       "$\\displaystyle 1.0 B(x_1,t_i,\\Gamma^{ (Eg0,0) })_{{148} {149} {150} {151}}B^*(x_0,t_i,t_f,\\Gamma^{ (Eg0,0) })_{{151} {150} {149} {148}}$"
      ],
      "text/plain": [
       "<IPython.core.display.Math object>"
      ]
     },
     "metadata": {},
     "output_type": "display_data"
    },
    {
     "data": {
      "text/latex": [
       "$\\displaystyle -1.0 B(x_1,t_i,\\Gamma^{ (Eg0,0) })_{{148} {149} {150} {151}}B^*(x_0,t_i,t_f,\\Gamma^{ (Eg0,0) })_{{151} {150} {148} {149}}$"
      ],
      "text/plain": [
       "<IPython.core.display.Math object>"
      ]
     },
     "metadata": {},
     "output_type": "display_data"
    },
    {
     "data": {
      "text/latex": [
       "$\\displaystyle 1.0 B(x_1,t_i,\\Gamma^{ (Eg0,0) })_{{148} {149} {150} {151}}B^*(x_0,t_i,t_f,\\Gamma^{ (Eg0,0) })_{{151} {148} {150} {149}}$"
      ],
      "text/plain": [
       "<IPython.core.display.Math object>"
      ]
     },
     "metadata": {},
     "output_type": "display_data"
    },
    {
     "data": {
      "text/latex": [
       "$\\displaystyle -1.0 B(x_1,t_i,\\Gamma^{ (Eg0,0) })_{{148} {149} {150} {151}}B^*(x_0,t_i,t_f,\\Gamma^{ (Eg0,0) })_{{151} {149} {150} {148}}$"
      ],
      "text/plain": [
       "<IPython.core.display.Math object>"
      ]
     },
     "metadata": {},
     "output_type": "display_data"
    },
    {
     "data": {
      "text/latex": [
       "$\\displaystyle 1.0 B(x_1,t_i,\\Gamma^{ (Eg0,0) })_{{148} {149} {150} {151}}B^*(x_0,t_i,t_f,\\Gamma^{ (Eg0,0) })_{{151} {149} {148} {150}}$"
      ],
      "text/plain": [
       "<IPython.core.display.Math object>"
      ]
     },
     "metadata": {},
     "output_type": "display_data"
    },
    {
     "data": {
      "text/latex": [
       "$\\displaystyle -1.0 B(x_1,t_i,\\Gamma^{ (Eg0,0) })_{{148} {149} {150} {151}}B^*(x_0,t_i,t_f,\\Gamma^{ (Eg0,0) })_{{151} {148} {149} {150}}$"
      ],
      "text/plain": [
       "<IPython.core.display.Math object>"
      ]
     },
     "metadata": {},
     "output_type": "display_data"
    },
    {
     "data": {
      "text/latex": [
       "$\\displaystyle 1.0 B(x_1,t_i,\\Gamma^{ (Eg0,1) })_{{156} {157} {158} {159}}B^*(x_0,t_i,t_f,\\Gamma^{ (Eg0,0) })_{{156} {157} {158} {159}}$"
      ],
      "text/plain": [
       "<IPython.core.display.Math object>"
      ]
     },
     "metadata": {},
     "output_type": "display_data"
    },
    {
     "data": {
      "text/latex": [
       "$\\displaystyle -1.0 B(x_1,t_i,\\Gamma^{ (Eg0,1) })_{{156} {157} {158} {159}}B^*(x_0,t_i,t_f,\\Gamma^{ (Eg0,0) })_{{157} {156} {158} {159}}$"
      ],
      "text/plain": [
       "<IPython.core.display.Math object>"
      ]
     },
     "metadata": {},
     "output_type": "display_data"
    },
    {
     "data": {
      "text/latex": [
       "$\\displaystyle 1.0 B(x_1,t_i,\\Gamma^{ (Eg0,1) })_{{156} {157} {158} {159}}B^*(x_0,t_i,t_f,\\Gamma^{ (Eg0,0) })_{{157} {158} {156} {159}}$"
      ],
      "text/plain": [
       "<IPython.core.display.Math object>"
      ]
     },
     "metadata": {},
     "output_type": "display_data"
    },
    {
     "data": {
      "text/latex": [
       "$\\displaystyle -1.0 B(x_1,t_i,\\Gamma^{ (Eg0,1) })_{{156} {157} {158} {159}}B^*(x_0,t_i,t_f,\\Gamma^{ (Eg0,0) })_{{156} {158} {157} {159}}$"
      ],
      "text/plain": [
       "<IPython.core.display.Math object>"
      ]
     },
     "metadata": {},
     "output_type": "display_data"
    },
    {
     "data": {
      "text/latex": [
       "$\\displaystyle 1.0 B(x_1,t_i,\\Gamma^{ (Eg0,1) })_{{156} {157} {158} {159}}B^*(x_0,t_i,t_f,\\Gamma^{ (Eg0,0) })_{{158} {156} {157} {159}}$"
      ],
      "text/plain": [
       "<IPython.core.display.Math object>"
      ]
     },
     "metadata": {},
     "output_type": "display_data"
    },
    {
     "data": {
      "text/latex": [
       "$\\displaystyle -1.0 B(x_1,t_i,\\Gamma^{ (Eg0,1) })_{{156} {157} {158} {159}}B^*(x_0,t_i,t_f,\\Gamma^{ (Eg0,0) })_{{158} {157} {156} {159}}$"
      ],
      "text/plain": [
       "<IPython.core.display.Math object>"
      ]
     },
     "metadata": {},
     "output_type": "display_data"
    },
    {
     "data": {
      "text/latex": [
       "$\\displaystyle 1.0 B(x_1,t_i,\\Gamma^{ (Eg0,1) })_{{156} {157} {158} {159}}B^*(x_0,t_i,t_f,\\Gamma^{ (Eg0,0) })_{{158} {157} {159} {156}}$"
      ],
      "text/plain": [
       "<IPython.core.display.Math object>"
      ]
     },
     "metadata": {},
     "output_type": "display_data"
    },
    {
     "data": {
      "text/latex": [
       "$\\displaystyle -1.0 B(x_1,t_i,\\Gamma^{ (Eg0,1) })_{{156} {157} {158} {159}}B^*(x_0,t_i,t_f,\\Gamma^{ (Eg0,0) })_{{158} {156} {159} {157}}$"
      ],
      "text/plain": [
       "<IPython.core.display.Math object>"
      ]
     },
     "metadata": {},
     "output_type": "display_data"
    },
    {
     "data": {
      "text/latex": [
       "$\\displaystyle 1.0 B(x_1,t_i,\\Gamma^{ (Eg0,1) })_{{156} {157} {158} {159}}B^*(x_0,t_i,t_f,\\Gamma^{ (Eg0,0) })_{{156} {158} {159} {157}}$"
      ],
      "text/plain": [
       "<IPython.core.display.Math object>"
      ]
     },
     "metadata": {},
     "output_type": "display_data"
    },
    {
     "data": {
      "text/latex": [
       "$\\displaystyle -1.0 B(x_1,t_i,\\Gamma^{ (Eg0,1) })_{{156} {157} {158} {159}}B^*(x_0,t_i,t_f,\\Gamma^{ (Eg0,0) })_{{157} {158} {159} {156}}$"
      ],
      "text/plain": [
       "<IPython.core.display.Math object>"
      ]
     },
     "metadata": {},
     "output_type": "display_data"
    },
    {
     "data": {
      "text/latex": [
       "$\\displaystyle 1.0 B(x_1,t_i,\\Gamma^{ (Eg0,1) })_{{156} {157} {158} {159}}B^*(x_0,t_i,t_f,\\Gamma^{ (Eg0,0) })_{{157} {156} {159} {158}}$"
      ],
      "text/plain": [
       "<IPython.core.display.Math object>"
      ]
     },
     "metadata": {},
     "output_type": "display_data"
    },
    {
     "data": {
      "text/latex": [
       "$\\displaystyle -1.0 B(x_1,t_i,\\Gamma^{ (Eg0,1) })_{{156} {157} {158} {159}}B^*(x_0,t_i,t_f,\\Gamma^{ (Eg0,0) })_{{156} {157} {159} {158}}$"
      ],
      "text/plain": [
       "<IPython.core.display.Math object>"
      ]
     },
     "metadata": {},
     "output_type": "display_data"
    },
    {
     "data": {
      "text/latex": [
       "$\\displaystyle 1.0 B(x_1,t_i,\\Gamma^{ (Eg0,1) })_{{156} {157} {158} {159}}B^*(x_0,t_i,t_f,\\Gamma^{ (Eg0,0) })_{{156} {159} {157} {158}}$"
      ],
      "text/plain": [
       "<IPython.core.display.Math object>"
      ]
     },
     "metadata": {},
     "output_type": "display_data"
    },
    {
     "data": {
      "text/latex": [
       "$\\displaystyle -1.0 B(x_1,t_i,\\Gamma^{ (Eg0,1) })_{{156} {157} {158} {159}}B^*(x_0,t_i,t_f,\\Gamma^{ (Eg0,0) })_{{157} {159} {156} {158}}$"
      ],
      "text/plain": [
       "<IPython.core.display.Math object>"
      ]
     },
     "metadata": {},
     "output_type": "display_data"
    },
    {
     "data": {
      "text/latex": [
       "$\\displaystyle 1.0 B(x_1,t_i,\\Gamma^{ (Eg0,1) })_{{156} {157} {158} {159}}B^*(x_0,t_i,t_f,\\Gamma^{ (Eg0,0) })_{{157} {159} {158} {156}}$"
      ],
      "text/plain": [
       "<IPython.core.display.Math object>"
      ]
     },
     "metadata": {},
     "output_type": "display_data"
    },
    {
     "data": {
      "text/latex": [
       "$\\displaystyle -1.0 B(x_1,t_i,\\Gamma^{ (Eg0,1) })_{{156} {157} {158} {159}}B^*(x_0,t_i,t_f,\\Gamma^{ (Eg0,0) })_{{156} {159} {158} {157}}$"
      ],
      "text/plain": [
       "<IPython.core.display.Math object>"
      ]
     },
     "metadata": {},
     "output_type": "display_data"
    },
    {
     "data": {
      "text/latex": [
       "$\\displaystyle 1.0 B(x_1,t_i,\\Gamma^{ (Eg0,1) })_{{156} {157} {158} {159}}B^*(x_0,t_i,t_f,\\Gamma^{ (Eg0,0) })_{{158} {159} {156} {157}}$"
      ],
      "text/plain": [
       "<IPython.core.display.Math object>"
      ]
     },
     "metadata": {},
     "output_type": "display_data"
    },
    {
     "data": {
      "text/latex": [
       "$\\displaystyle -1.0 B(x_1,t_i,\\Gamma^{ (Eg0,1) })_{{156} {157} {158} {159}}B^*(x_0,t_i,t_f,\\Gamma^{ (Eg0,0) })_{{158} {159} {157} {156}}$"
      ],
      "text/plain": [
       "<IPython.core.display.Math object>"
      ]
     },
     "metadata": {},
     "output_type": "display_data"
    },
    {
     "data": {
      "text/latex": [
       "$\\displaystyle 1.0 B(x_1,t_i,\\Gamma^{ (Eg0,1) })_{{156} {157} {158} {159}}B^*(x_0,t_i,t_f,\\Gamma^{ (Eg0,0) })_{{159} {158} {157} {156}}$"
      ],
      "text/plain": [
       "<IPython.core.display.Math object>"
      ]
     },
     "metadata": {},
     "output_type": "display_data"
    },
    {
     "data": {
      "text/latex": [
       "$\\displaystyle -1.0 B(x_1,t_i,\\Gamma^{ (Eg0,1) })_{{156} {157} {158} {159}}B^*(x_0,t_i,t_f,\\Gamma^{ (Eg0,0) })_{{159} {158} {156} {157}}$"
      ],
      "text/plain": [
       "<IPython.core.display.Math object>"
      ]
     },
     "metadata": {},
     "output_type": "display_data"
    },
    {
     "data": {
      "text/latex": [
       "$\\displaystyle 1.0 B(x_1,t_i,\\Gamma^{ (Eg0,1) })_{{156} {157} {158} {159}}B^*(x_0,t_i,t_f,\\Gamma^{ (Eg0,0) })_{{159} {156} {158} {157}}$"
      ],
      "text/plain": [
       "<IPython.core.display.Math object>"
      ]
     },
     "metadata": {},
     "output_type": "display_data"
    },
    {
     "data": {
      "text/latex": [
       "$\\displaystyle -1.0 B(x_1,t_i,\\Gamma^{ (Eg0,1) })_{{156} {157} {158} {159}}B^*(x_0,t_i,t_f,\\Gamma^{ (Eg0,0) })_{{159} {157} {158} {156}}$"
      ],
      "text/plain": [
       "<IPython.core.display.Math object>"
      ]
     },
     "metadata": {},
     "output_type": "display_data"
    },
    {
     "data": {
      "text/latex": [
       "$\\displaystyle 1.0 B(x_1,t_i,\\Gamma^{ (Eg0,1) })_{{156} {157} {158} {159}}B^*(x_0,t_i,t_f,\\Gamma^{ (Eg0,0) })_{{159} {157} {156} {158}}$"
      ],
      "text/plain": [
       "<IPython.core.display.Math object>"
      ]
     },
     "metadata": {},
     "output_type": "display_data"
    },
    {
     "data": {
      "text/latex": [
       "$\\displaystyle -1.0 B(x_1,t_i,\\Gamma^{ (Eg0,1) })_{{156} {157} {158} {159}}B^*(x_0,t_i,t_f,\\Gamma^{ (Eg0,0) })_{{159} {156} {157} {158}}$"
      ],
      "text/plain": [
       "<IPython.core.display.Math object>"
      ]
     },
     "metadata": {},
     "output_type": "display_data"
    },
    {
     "data": {
      "text/latex": [
       "$\\displaystyle 1.0 B(x_1,t_i,\\Gamma^{ (Eg0,2) })_{{164} {165} {166} {167}}B^*(x_0,t_i,t_f,\\Gamma^{ (Eg0,0) })_{{164} {165} {166} {167}}$"
      ],
      "text/plain": [
       "<IPython.core.display.Math object>"
      ]
     },
     "metadata": {},
     "output_type": "display_data"
    },
    {
     "data": {
      "text/latex": [
       "$\\displaystyle -1.0 B(x_1,t_i,\\Gamma^{ (Eg0,2) })_{{164} {165} {166} {167}}B^*(x_0,t_i,t_f,\\Gamma^{ (Eg0,0) })_{{165} {164} {166} {167}}$"
      ],
      "text/plain": [
       "<IPython.core.display.Math object>"
      ]
     },
     "metadata": {},
     "output_type": "display_data"
    },
    {
     "data": {
      "text/latex": [
       "$\\displaystyle 1.0 B(x_1,t_i,\\Gamma^{ (Eg0,2) })_{{164} {165} {166} {167}}B^*(x_0,t_i,t_f,\\Gamma^{ (Eg0,0) })_{{165} {166} {164} {167}}$"
      ],
      "text/plain": [
       "<IPython.core.display.Math object>"
      ]
     },
     "metadata": {},
     "output_type": "display_data"
    },
    {
     "data": {
      "text/latex": [
       "$\\displaystyle -1.0 B(x_1,t_i,\\Gamma^{ (Eg0,2) })_{{164} {165} {166} {167}}B^*(x_0,t_i,t_f,\\Gamma^{ (Eg0,0) })_{{164} {166} {165} {167}}$"
      ],
      "text/plain": [
       "<IPython.core.display.Math object>"
      ]
     },
     "metadata": {},
     "output_type": "display_data"
    },
    {
     "data": {
      "text/latex": [
       "$\\displaystyle 1.0 B(x_1,t_i,\\Gamma^{ (Eg0,2) })_{{164} {165} {166} {167}}B^*(x_0,t_i,t_f,\\Gamma^{ (Eg0,0) })_{{166} {164} {165} {167}}$"
      ],
      "text/plain": [
       "<IPython.core.display.Math object>"
      ]
     },
     "metadata": {},
     "output_type": "display_data"
    },
    {
     "data": {
      "text/latex": [
       "$\\displaystyle -1.0 B(x_1,t_i,\\Gamma^{ (Eg0,2) })_{{164} {165} {166} {167}}B^*(x_0,t_i,t_f,\\Gamma^{ (Eg0,0) })_{{166} {165} {164} {167}}$"
      ],
      "text/plain": [
       "<IPython.core.display.Math object>"
      ]
     },
     "metadata": {},
     "output_type": "display_data"
    },
    {
     "data": {
      "text/latex": [
       "$\\displaystyle 1.0 B(x_1,t_i,\\Gamma^{ (Eg0,2) })_{{164} {165} {166} {167}}B^*(x_0,t_i,t_f,\\Gamma^{ (Eg0,0) })_{{166} {165} {167} {164}}$"
      ],
      "text/plain": [
       "<IPython.core.display.Math object>"
      ]
     },
     "metadata": {},
     "output_type": "display_data"
    },
    {
     "data": {
      "text/latex": [
       "$\\displaystyle -1.0 B(x_1,t_i,\\Gamma^{ (Eg0,2) })_{{164} {165} {166} {167}}B^*(x_0,t_i,t_f,\\Gamma^{ (Eg0,0) })_{{166} {164} {167} {165}}$"
      ],
      "text/plain": [
       "<IPython.core.display.Math object>"
      ]
     },
     "metadata": {},
     "output_type": "display_data"
    },
    {
     "data": {
      "text/latex": [
       "$\\displaystyle 1.0 B(x_1,t_i,\\Gamma^{ (Eg0,2) })_{{164} {165} {166} {167}}B^*(x_0,t_i,t_f,\\Gamma^{ (Eg0,0) })_{{164} {166} {167} {165}}$"
      ],
      "text/plain": [
       "<IPython.core.display.Math object>"
      ]
     },
     "metadata": {},
     "output_type": "display_data"
    },
    {
     "data": {
      "text/latex": [
       "$\\displaystyle -1.0 B(x_1,t_i,\\Gamma^{ (Eg0,2) })_{{164} {165} {166} {167}}B^*(x_0,t_i,t_f,\\Gamma^{ (Eg0,0) })_{{165} {166} {167} {164}}$"
      ],
      "text/plain": [
       "<IPython.core.display.Math object>"
      ]
     },
     "metadata": {},
     "output_type": "display_data"
    },
    {
     "data": {
      "text/latex": [
       "$\\displaystyle 1.0 B(x_1,t_i,\\Gamma^{ (Eg0,2) })_{{164} {165} {166} {167}}B^*(x_0,t_i,t_f,\\Gamma^{ (Eg0,0) })_{{165} {164} {167} {166}}$"
      ],
      "text/plain": [
       "<IPython.core.display.Math object>"
      ]
     },
     "metadata": {},
     "output_type": "display_data"
    },
    {
     "data": {
      "text/latex": [
       "$\\displaystyle -1.0 B(x_1,t_i,\\Gamma^{ (Eg0,2) })_{{164} {165} {166} {167}}B^*(x_0,t_i,t_f,\\Gamma^{ (Eg0,0) })_{{164} {165} {167} {166}}$"
      ],
      "text/plain": [
       "<IPython.core.display.Math object>"
      ]
     },
     "metadata": {},
     "output_type": "display_data"
    },
    {
     "data": {
      "text/latex": [
       "$\\displaystyle 1.0 B(x_1,t_i,\\Gamma^{ (Eg0,2) })_{{164} {165} {166} {167}}B^*(x_0,t_i,t_f,\\Gamma^{ (Eg0,0) })_{{164} {167} {165} {166}}$"
      ],
      "text/plain": [
       "<IPython.core.display.Math object>"
      ]
     },
     "metadata": {},
     "output_type": "display_data"
    },
    {
     "data": {
      "text/latex": [
       "$\\displaystyle -1.0 B(x_1,t_i,\\Gamma^{ (Eg0,2) })_{{164} {165} {166} {167}}B^*(x_0,t_i,t_f,\\Gamma^{ (Eg0,0) })_{{165} {167} {164} {166}}$"
      ],
      "text/plain": [
       "<IPython.core.display.Math object>"
      ]
     },
     "metadata": {},
     "output_type": "display_data"
    },
    {
     "data": {
      "text/latex": [
       "$\\displaystyle 1.0 B(x_1,t_i,\\Gamma^{ (Eg0,2) })_{{164} {165} {166} {167}}B^*(x_0,t_i,t_f,\\Gamma^{ (Eg0,0) })_{{165} {167} {166} {164}}$"
      ],
      "text/plain": [
       "<IPython.core.display.Math object>"
      ]
     },
     "metadata": {},
     "output_type": "display_data"
    },
    {
     "data": {
      "text/latex": [
       "$\\displaystyle -1.0 B(x_1,t_i,\\Gamma^{ (Eg0,2) })_{{164} {165} {166} {167}}B^*(x_0,t_i,t_f,\\Gamma^{ (Eg0,0) })_{{164} {167} {166} {165}}$"
      ],
      "text/plain": [
       "<IPython.core.display.Math object>"
      ]
     },
     "metadata": {},
     "output_type": "display_data"
    },
    {
     "data": {
      "text/latex": [
       "$\\displaystyle 1.0 B(x_1,t_i,\\Gamma^{ (Eg0,2) })_{{164} {165} {166} {167}}B^*(x_0,t_i,t_f,\\Gamma^{ (Eg0,0) })_{{166} {167} {164} {165}}$"
      ],
      "text/plain": [
       "<IPython.core.display.Math object>"
      ]
     },
     "metadata": {},
     "output_type": "display_data"
    },
    {
     "data": {
      "text/latex": [
       "$\\displaystyle -1.0 B(x_1,t_i,\\Gamma^{ (Eg0,2) })_{{164} {165} {166} {167}}B^*(x_0,t_i,t_f,\\Gamma^{ (Eg0,0) })_{{166} {167} {165} {164}}$"
      ],
      "text/plain": [
       "<IPython.core.display.Math object>"
      ]
     },
     "metadata": {},
     "output_type": "display_data"
    },
    {
     "data": {
      "text/latex": [
       "$\\displaystyle 1.0 B(x_1,t_i,\\Gamma^{ (Eg0,2) })_{{164} {165} {166} {167}}B^*(x_0,t_i,t_f,\\Gamma^{ (Eg0,0) })_{{167} {166} {165} {164}}$"
      ],
      "text/plain": [
       "<IPython.core.display.Math object>"
      ]
     },
     "metadata": {},
     "output_type": "display_data"
    },
    {
     "data": {
      "text/latex": [
       "$\\displaystyle -1.0 B(x_1,t_i,\\Gamma^{ (Eg0,2) })_{{164} {165} {166} {167}}B^*(x_0,t_i,t_f,\\Gamma^{ (Eg0,0) })_{{167} {166} {164} {165}}$"
      ],
      "text/plain": [
       "<IPython.core.display.Math object>"
      ]
     },
     "metadata": {},
     "output_type": "display_data"
    },
    {
     "data": {
      "text/latex": [
       "$\\displaystyle 1.0 B(x_1,t_i,\\Gamma^{ (Eg0,2) })_{{164} {165} {166} {167}}B^*(x_0,t_i,t_f,\\Gamma^{ (Eg0,0) })_{{167} {164} {166} {165}}$"
      ],
      "text/plain": [
       "<IPython.core.display.Math object>"
      ]
     },
     "metadata": {},
     "output_type": "display_data"
    },
    {
     "data": {
      "text/latex": [
       "$\\displaystyle -1.0 B(x_1,t_i,\\Gamma^{ (Eg0,2) })_{{164} {165} {166} {167}}B^*(x_0,t_i,t_f,\\Gamma^{ (Eg0,0) })_{{167} {165} {166} {164}}$"
      ],
      "text/plain": [
       "<IPython.core.display.Math object>"
      ]
     },
     "metadata": {},
     "output_type": "display_data"
    },
    {
     "data": {
      "text/latex": [
       "$\\displaystyle 1.0 B(x_1,t_i,\\Gamma^{ (Eg0,2) })_{{164} {165} {166} {167}}B^*(x_0,t_i,t_f,\\Gamma^{ (Eg0,0) })_{{167} {165} {164} {166}}$"
      ],
      "text/plain": [
       "<IPython.core.display.Math object>"
      ]
     },
     "metadata": {},
     "output_type": "display_data"
    },
    {
     "data": {
      "text/latex": [
       "$\\displaystyle -1.0 B(x_1,t_i,\\Gamma^{ (Eg0,2) })_{{164} {165} {166} {167}}B^*(x_0,t_i,t_f,\\Gamma^{ (Eg0,0) })_{{167} {164} {165} {166}}$"
      ],
      "text/plain": [
       "<IPython.core.display.Math object>"
      ]
     },
     "metadata": {},
     "output_type": "display_data"
    },
    {
     "data": {
      "text/latex": [
       "$\\displaystyle 1.0 B(x_1,t_i,\\Gamma^{ (Eg1,0) })_{{172} {173} {174} {175}}B^*(x_0,t_i,t_f,\\Gamma^{ (Eg0,0) })_{{172} {173} {174} {175}}$"
      ],
      "text/plain": [
       "<IPython.core.display.Math object>"
      ]
     },
     "metadata": {},
     "output_type": "display_data"
    },
    {
     "data": {
      "text/latex": [
       "$\\displaystyle -1.0 B(x_1,t_i,\\Gamma^{ (Eg1,0) })_{{172} {173} {174} {175}}B^*(x_0,t_i,t_f,\\Gamma^{ (Eg0,0) })_{{173} {172} {174} {175}}$"
      ],
      "text/plain": [
       "<IPython.core.display.Math object>"
      ]
     },
     "metadata": {},
     "output_type": "display_data"
    },
    {
     "data": {
      "text/latex": [
       "$\\displaystyle 1.0 B(x_1,t_i,\\Gamma^{ (Eg1,0) })_{{172} {173} {174} {175}}B^*(x_0,t_i,t_f,\\Gamma^{ (Eg0,0) })_{{173} {174} {172} {175}}$"
      ],
      "text/plain": [
       "<IPython.core.display.Math object>"
      ]
     },
     "metadata": {},
     "output_type": "display_data"
    },
    {
     "data": {
      "text/latex": [
       "$\\displaystyle -1.0 B(x_1,t_i,\\Gamma^{ (Eg1,0) })_{{172} {173} {174} {175}}B^*(x_0,t_i,t_f,\\Gamma^{ (Eg0,0) })_{{172} {174} {173} {175}}$"
      ],
      "text/plain": [
       "<IPython.core.display.Math object>"
      ]
     },
     "metadata": {},
     "output_type": "display_data"
    },
    {
     "data": {
      "text/latex": [
       "$\\displaystyle 1.0 B(x_1,t_i,\\Gamma^{ (Eg1,0) })_{{172} {173} {174} {175}}B^*(x_0,t_i,t_f,\\Gamma^{ (Eg0,0) })_{{174} {172} {173} {175}}$"
      ],
      "text/plain": [
       "<IPython.core.display.Math object>"
      ]
     },
     "metadata": {},
     "output_type": "display_data"
    },
    {
     "data": {
      "text/latex": [
       "$\\displaystyle -1.0 B(x_1,t_i,\\Gamma^{ (Eg1,0) })_{{172} {173} {174} {175}}B^*(x_0,t_i,t_f,\\Gamma^{ (Eg0,0) })_{{174} {173} {172} {175}}$"
      ],
      "text/plain": [
       "<IPython.core.display.Math object>"
      ]
     },
     "metadata": {},
     "output_type": "display_data"
    },
    {
     "data": {
      "text/latex": [
       "$\\displaystyle 1.0 B(x_1,t_i,\\Gamma^{ (Eg1,0) })_{{172} {173} {174} {175}}B^*(x_0,t_i,t_f,\\Gamma^{ (Eg0,0) })_{{174} {173} {175} {172}}$"
      ],
      "text/plain": [
       "<IPython.core.display.Math object>"
      ]
     },
     "metadata": {},
     "output_type": "display_data"
    },
    {
     "data": {
      "text/latex": [
       "$\\displaystyle -1.0 B(x_1,t_i,\\Gamma^{ (Eg1,0) })_{{172} {173} {174} {175}}B^*(x_0,t_i,t_f,\\Gamma^{ (Eg0,0) })_{{174} {172} {175} {173}}$"
      ],
      "text/plain": [
       "<IPython.core.display.Math object>"
      ]
     },
     "metadata": {},
     "output_type": "display_data"
    },
    {
     "data": {
      "text/latex": [
       "$\\displaystyle 1.0 B(x_1,t_i,\\Gamma^{ (Eg1,0) })_{{172} {173} {174} {175}}B^*(x_0,t_i,t_f,\\Gamma^{ (Eg0,0) })_{{172} {174} {175} {173}}$"
      ],
      "text/plain": [
       "<IPython.core.display.Math object>"
      ]
     },
     "metadata": {},
     "output_type": "display_data"
    },
    {
     "data": {
      "text/latex": [
       "$\\displaystyle -1.0 B(x_1,t_i,\\Gamma^{ (Eg1,0) })_{{172} {173} {174} {175}}B^*(x_0,t_i,t_f,\\Gamma^{ (Eg0,0) })_{{173} {174} {175} {172}}$"
      ],
      "text/plain": [
       "<IPython.core.display.Math object>"
      ]
     },
     "metadata": {},
     "output_type": "display_data"
    },
    {
     "data": {
      "text/latex": [
       "$\\displaystyle 1.0 B(x_1,t_i,\\Gamma^{ (Eg1,0) })_{{172} {173} {174} {175}}B^*(x_0,t_i,t_f,\\Gamma^{ (Eg0,0) })_{{173} {172} {175} {174}}$"
      ],
      "text/plain": [
       "<IPython.core.display.Math object>"
      ]
     },
     "metadata": {},
     "output_type": "display_data"
    },
    {
     "data": {
      "text/latex": [
       "$\\displaystyle -1.0 B(x_1,t_i,\\Gamma^{ (Eg1,0) })_{{172} {173} {174} {175}}B^*(x_0,t_i,t_f,\\Gamma^{ (Eg0,0) })_{{172} {173} {175} {174}}$"
      ],
      "text/plain": [
       "<IPython.core.display.Math object>"
      ]
     },
     "metadata": {},
     "output_type": "display_data"
    },
    {
     "data": {
      "text/latex": [
       "$\\displaystyle 1.0 B(x_1,t_i,\\Gamma^{ (Eg1,0) })_{{172} {173} {174} {175}}B^*(x_0,t_i,t_f,\\Gamma^{ (Eg0,0) })_{{172} {175} {173} {174}}$"
      ],
      "text/plain": [
       "<IPython.core.display.Math object>"
      ]
     },
     "metadata": {},
     "output_type": "display_data"
    },
    {
     "data": {
      "text/latex": [
       "$\\displaystyle -1.0 B(x_1,t_i,\\Gamma^{ (Eg1,0) })_{{172} {173} {174} {175}}B^*(x_0,t_i,t_f,\\Gamma^{ (Eg0,0) })_{{173} {175} {172} {174}}$"
      ],
      "text/plain": [
       "<IPython.core.display.Math object>"
      ]
     },
     "metadata": {},
     "output_type": "display_data"
    },
    {
     "data": {
      "text/latex": [
       "$\\displaystyle 1.0 B(x_1,t_i,\\Gamma^{ (Eg1,0) })_{{172} {173} {174} {175}}B^*(x_0,t_i,t_f,\\Gamma^{ (Eg0,0) })_{{173} {175} {174} {172}}$"
      ],
      "text/plain": [
       "<IPython.core.display.Math object>"
      ]
     },
     "metadata": {},
     "output_type": "display_data"
    },
    {
     "data": {
      "text/latex": [
       "$\\displaystyle -1.0 B(x_1,t_i,\\Gamma^{ (Eg1,0) })_{{172} {173} {174} {175}}B^*(x_0,t_i,t_f,\\Gamma^{ (Eg0,0) })_{{172} {175} {174} {173}}$"
      ],
      "text/plain": [
       "<IPython.core.display.Math object>"
      ]
     },
     "metadata": {},
     "output_type": "display_data"
    },
    {
     "data": {
      "text/latex": [
       "$\\displaystyle 1.0 B(x_1,t_i,\\Gamma^{ (Eg1,0) })_{{172} {173} {174} {175}}B^*(x_0,t_i,t_f,\\Gamma^{ (Eg0,0) })_{{174} {175} {172} {173}}$"
      ],
      "text/plain": [
       "<IPython.core.display.Math object>"
      ]
     },
     "metadata": {},
     "output_type": "display_data"
    },
    {
     "data": {
      "text/latex": [
       "$\\displaystyle -1.0 B(x_1,t_i,\\Gamma^{ (Eg1,0) })_{{172} {173} {174} {175}}B^*(x_0,t_i,t_f,\\Gamma^{ (Eg0,0) })_{{174} {175} {173} {172}}$"
      ],
      "text/plain": [
       "<IPython.core.display.Math object>"
      ]
     },
     "metadata": {},
     "output_type": "display_data"
    },
    {
     "data": {
      "text/latex": [
       "$\\displaystyle 1.0 B(x_1,t_i,\\Gamma^{ (Eg1,0) })_{{172} {173} {174} {175}}B^*(x_0,t_i,t_f,\\Gamma^{ (Eg0,0) })_{{175} {174} {173} {172}}$"
      ],
      "text/plain": [
       "<IPython.core.display.Math object>"
      ]
     },
     "metadata": {},
     "output_type": "display_data"
    },
    {
     "data": {
      "text/latex": [
       "$\\displaystyle -1.0 B(x_1,t_i,\\Gamma^{ (Eg1,0) })_{{172} {173} {174} {175}}B^*(x_0,t_i,t_f,\\Gamma^{ (Eg0,0) })_{{175} {174} {172} {173}}$"
      ],
      "text/plain": [
       "<IPython.core.display.Math object>"
      ]
     },
     "metadata": {},
     "output_type": "display_data"
    },
    {
     "data": {
      "text/latex": [
       "$\\displaystyle 1.0 B(x_1,t_i,\\Gamma^{ (Eg1,0) })_{{172} {173} {174} {175}}B^*(x_0,t_i,t_f,\\Gamma^{ (Eg0,0) })_{{175} {172} {174} {173}}$"
      ],
      "text/plain": [
       "<IPython.core.display.Math object>"
      ]
     },
     "metadata": {},
     "output_type": "display_data"
    },
    {
     "data": {
      "text/latex": [
       "$\\displaystyle -1.0 B(x_1,t_i,\\Gamma^{ (Eg1,0) })_{{172} {173} {174} {175}}B^*(x_0,t_i,t_f,\\Gamma^{ (Eg0,0) })_{{175} {173} {174} {172}}$"
      ],
      "text/plain": [
       "<IPython.core.display.Math object>"
      ]
     },
     "metadata": {},
     "output_type": "display_data"
    },
    {
     "data": {
      "text/latex": [
       "$\\displaystyle 1.0 B(x_1,t_i,\\Gamma^{ (Eg1,0) })_{{172} {173} {174} {175}}B^*(x_0,t_i,t_f,\\Gamma^{ (Eg0,0) })_{{175} {173} {172} {174}}$"
      ],
      "text/plain": [
       "<IPython.core.display.Math object>"
      ]
     },
     "metadata": {},
     "output_type": "display_data"
    },
    {
     "data": {
      "text/latex": [
       "$\\displaystyle -1.0 B(x_1,t_i,\\Gamma^{ (Eg1,0) })_{{172} {173} {174} {175}}B^*(x_0,t_i,t_f,\\Gamma^{ (Eg0,0) })_{{175} {172} {173} {174}}$"
      ],
      "text/plain": [
       "<IPython.core.display.Math object>"
      ]
     },
     "metadata": {},
     "output_type": "display_data"
    },
    {
     "data": {
      "text/latex": [
       "$\\displaystyle 1.0 B(x_1,t_i,\\Gamma^{ (Eg1,1) })_{{180} {181} {182} {183}}B^*(x_0,t_i,t_f,\\Gamma^{ (Eg0,0) })_{{180} {181} {182} {183}}$"
      ],
      "text/plain": [
       "<IPython.core.display.Math object>"
      ]
     },
     "metadata": {},
     "output_type": "display_data"
    },
    {
     "data": {
      "text/latex": [
       "$\\displaystyle -1.0 B(x_1,t_i,\\Gamma^{ (Eg1,1) })_{{180} {181} {182} {183}}B^*(x_0,t_i,t_f,\\Gamma^{ (Eg0,0) })_{{181} {180} {182} {183}}$"
      ],
      "text/plain": [
       "<IPython.core.display.Math object>"
      ]
     },
     "metadata": {},
     "output_type": "display_data"
    },
    {
     "data": {
      "text/latex": [
       "$\\displaystyle 1.0 B(x_1,t_i,\\Gamma^{ (Eg1,1) })_{{180} {181} {182} {183}}B^*(x_0,t_i,t_f,\\Gamma^{ (Eg0,0) })_{{181} {182} {180} {183}}$"
      ],
      "text/plain": [
       "<IPython.core.display.Math object>"
      ]
     },
     "metadata": {},
     "output_type": "display_data"
    },
    {
     "data": {
      "text/latex": [
       "$\\displaystyle -1.0 B(x_1,t_i,\\Gamma^{ (Eg1,1) })_{{180} {181} {182} {183}}B^*(x_0,t_i,t_f,\\Gamma^{ (Eg0,0) })_{{180} {182} {181} {183}}$"
      ],
      "text/plain": [
       "<IPython.core.display.Math object>"
      ]
     },
     "metadata": {},
     "output_type": "display_data"
    },
    {
     "data": {
      "text/latex": [
       "$\\displaystyle 1.0 B(x_1,t_i,\\Gamma^{ (Eg1,1) })_{{180} {181} {182} {183}}B^*(x_0,t_i,t_f,\\Gamma^{ (Eg0,0) })_{{182} {180} {181} {183}}$"
      ],
      "text/plain": [
       "<IPython.core.display.Math object>"
      ]
     },
     "metadata": {},
     "output_type": "display_data"
    },
    {
     "data": {
      "text/latex": [
       "$\\displaystyle -1.0 B(x_1,t_i,\\Gamma^{ (Eg1,1) })_{{180} {181} {182} {183}}B^*(x_0,t_i,t_f,\\Gamma^{ (Eg0,0) })_{{182} {181} {180} {183}}$"
      ],
      "text/plain": [
       "<IPython.core.display.Math object>"
      ]
     },
     "metadata": {},
     "output_type": "display_data"
    },
    {
     "data": {
      "text/latex": [
       "$\\displaystyle 1.0 B(x_1,t_i,\\Gamma^{ (Eg1,1) })_{{180} {181} {182} {183}}B^*(x_0,t_i,t_f,\\Gamma^{ (Eg0,0) })_{{182} {181} {183} {180}}$"
      ],
      "text/plain": [
       "<IPython.core.display.Math object>"
      ]
     },
     "metadata": {},
     "output_type": "display_data"
    },
    {
     "data": {
      "text/latex": [
       "$\\displaystyle -1.0 B(x_1,t_i,\\Gamma^{ (Eg1,1) })_{{180} {181} {182} {183}}B^*(x_0,t_i,t_f,\\Gamma^{ (Eg0,0) })_{{182} {180} {183} {181}}$"
      ],
      "text/plain": [
       "<IPython.core.display.Math object>"
      ]
     },
     "metadata": {},
     "output_type": "display_data"
    },
    {
     "data": {
      "text/latex": [
       "$\\displaystyle 1.0 B(x_1,t_i,\\Gamma^{ (Eg1,1) })_{{180} {181} {182} {183}}B^*(x_0,t_i,t_f,\\Gamma^{ (Eg0,0) })_{{180} {182} {183} {181}}$"
      ],
      "text/plain": [
       "<IPython.core.display.Math object>"
      ]
     },
     "metadata": {},
     "output_type": "display_data"
    },
    {
     "data": {
      "text/latex": [
       "$\\displaystyle -1.0 B(x_1,t_i,\\Gamma^{ (Eg1,1) })_{{180} {181} {182} {183}}B^*(x_0,t_i,t_f,\\Gamma^{ (Eg0,0) })_{{181} {182} {183} {180}}$"
      ],
      "text/plain": [
       "<IPython.core.display.Math object>"
      ]
     },
     "metadata": {},
     "output_type": "display_data"
    },
    {
     "data": {
      "text/latex": [
       "$\\displaystyle 1.0 B(x_1,t_i,\\Gamma^{ (Eg1,1) })_{{180} {181} {182} {183}}B^*(x_0,t_i,t_f,\\Gamma^{ (Eg0,0) })_{{181} {180} {183} {182}}$"
      ],
      "text/plain": [
       "<IPython.core.display.Math object>"
      ]
     },
     "metadata": {},
     "output_type": "display_data"
    },
    {
     "data": {
      "text/latex": [
       "$\\displaystyle -1.0 B(x_1,t_i,\\Gamma^{ (Eg1,1) })_{{180} {181} {182} {183}}B^*(x_0,t_i,t_f,\\Gamma^{ (Eg0,0) })_{{180} {181} {183} {182}}$"
      ],
      "text/plain": [
       "<IPython.core.display.Math object>"
      ]
     },
     "metadata": {},
     "output_type": "display_data"
    },
    {
     "data": {
      "text/latex": [
       "$\\displaystyle 1.0 B(x_1,t_i,\\Gamma^{ (Eg1,1) })_{{180} {181} {182} {183}}B^*(x_0,t_i,t_f,\\Gamma^{ (Eg0,0) })_{{180} {183} {181} {182}}$"
      ],
      "text/plain": [
       "<IPython.core.display.Math object>"
      ]
     },
     "metadata": {},
     "output_type": "display_data"
    },
    {
     "data": {
      "text/latex": [
       "$\\displaystyle -1.0 B(x_1,t_i,\\Gamma^{ (Eg1,1) })_{{180} {181} {182} {183}}B^*(x_0,t_i,t_f,\\Gamma^{ (Eg0,0) })_{{181} {183} {180} {182}}$"
      ],
      "text/plain": [
       "<IPython.core.display.Math object>"
      ]
     },
     "metadata": {},
     "output_type": "display_data"
    },
    {
     "data": {
      "text/latex": [
       "$\\displaystyle 1.0 B(x_1,t_i,\\Gamma^{ (Eg1,1) })_{{180} {181} {182} {183}}B^*(x_0,t_i,t_f,\\Gamma^{ (Eg0,0) })_{{181} {183} {182} {180}}$"
      ],
      "text/plain": [
       "<IPython.core.display.Math object>"
      ]
     },
     "metadata": {},
     "output_type": "display_data"
    },
    {
     "data": {
      "text/latex": [
       "$\\displaystyle -1.0 B(x_1,t_i,\\Gamma^{ (Eg1,1) })_{{180} {181} {182} {183}}B^*(x_0,t_i,t_f,\\Gamma^{ (Eg0,0) })_{{180} {183} {182} {181}}$"
      ],
      "text/plain": [
       "<IPython.core.display.Math object>"
      ]
     },
     "metadata": {},
     "output_type": "display_data"
    },
    {
     "data": {
      "text/latex": [
       "$\\displaystyle 1.0 B(x_1,t_i,\\Gamma^{ (Eg1,1) })_{{180} {181} {182} {183}}B^*(x_0,t_i,t_f,\\Gamma^{ (Eg0,0) })_{{182} {183} {180} {181}}$"
      ],
      "text/plain": [
       "<IPython.core.display.Math object>"
      ]
     },
     "metadata": {},
     "output_type": "display_data"
    },
    {
     "data": {
      "text/latex": [
       "$\\displaystyle -1.0 B(x_1,t_i,\\Gamma^{ (Eg1,1) })_{{180} {181} {182} {183}}B^*(x_0,t_i,t_f,\\Gamma^{ (Eg0,0) })_{{182} {183} {181} {180}}$"
      ],
      "text/plain": [
       "<IPython.core.display.Math object>"
      ]
     },
     "metadata": {},
     "output_type": "display_data"
    },
    {
     "data": {
      "text/latex": [
       "$\\displaystyle 1.0 B(x_1,t_i,\\Gamma^{ (Eg1,1) })_{{180} {181} {182} {183}}B^*(x_0,t_i,t_f,\\Gamma^{ (Eg0,0) })_{{183} {182} {181} {180}}$"
      ],
      "text/plain": [
       "<IPython.core.display.Math object>"
      ]
     },
     "metadata": {},
     "output_type": "display_data"
    },
    {
     "data": {
      "text/latex": [
       "$\\displaystyle -1.0 B(x_1,t_i,\\Gamma^{ (Eg1,1) })_{{180} {181} {182} {183}}B^*(x_0,t_i,t_f,\\Gamma^{ (Eg0,0) })_{{183} {182} {180} {181}}$"
      ],
      "text/plain": [
       "<IPython.core.display.Math object>"
      ]
     },
     "metadata": {},
     "output_type": "display_data"
    },
    {
     "data": {
      "text/latex": [
       "$\\displaystyle 1.0 B(x_1,t_i,\\Gamma^{ (Eg1,1) })_{{180} {181} {182} {183}}B^*(x_0,t_i,t_f,\\Gamma^{ (Eg0,0) })_{{183} {180} {182} {181}}$"
      ],
      "text/plain": [
       "<IPython.core.display.Math object>"
      ]
     },
     "metadata": {},
     "output_type": "display_data"
    },
    {
     "data": {
      "text/latex": [
       "$\\displaystyle -1.0 B(x_1,t_i,\\Gamma^{ (Eg1,1) })_{{180} {181} {182} {183}}B^*(x_0,t_i,t_f,\\Gamma^{ (Eg0,0) })_{{183} {181} {182} {180}}$"
      ],
      "text/plain": [
       "<IPython.core.display.Math object>"
      ]
     },
     "metadata": {},
     "output_type": "display_data"
    },
    {
     "data": {
      "text/latex": [
       "$\\displaystyle 1.0 B(x_1,t_i,\\Gamma^{ (Eg1,1) })_{{180} {181} {182} {183}}B^*(x_0,t_i,t_f,\\Gamma^{ (Eg0,0) })_{{183} {181} {180} {182}}$"
      ],
      "text/plain": [
       "<IPython.core.display.Math object>"
      ]
     },
     "metadata": {},
     "output_type": "display_data"
    },
    {
     "data": {
      "text/latex": [
       "$\\displaystyle -1.0 B(x_1,t_i,\\Gamma^{ (Eg1,1) })_{{180} {181} {182} {183}}B^*(x_0,t_i,t_f,\\Gamma^{ (Eg0,0) })_{{183} {180} {181} {182}}$"
      ],
      "text/plain": [
       "<IPython.core.display.Math object>"
      ]
     },
     "metadata": {},
     "output_type": "display_data"
    },
    {
     "data": {
      "text/latex": [
       "$\\displaystyle 1.0 B(x_1,t_i,\\Gamma^{ (Eg1,2) })_{{188} {189} {190} {191}}B^*(x_0,t_i,t_f,\\Gamma^{ (Eg0,0) })_{{188} {189} {190} {191}}$"
      ],
      "text/plain": [
       "<IPython.core.display.Math object>"
      ]
     },
     "metadata": {},
     "output_type": "display_data"
    },
    {
     "data": {
      "text/latex": [
       "$\\displaystyle -1.0 B(x_1,t_i,\\Gamma^{ (Eg1,2) })_{{188} {189} {190} {191}}B^*(x_0,t_i,t_f,\\Gamma^{ (Eg0,0) })_{{189} {188} {190} {191}}$"
      ],
      "text/plain": [
       "<IPython.core.display.Math object>"
      ]
     },
     "metadata": {},
     "output_type": "display_data"
    },
    {
     "data": {
      "text/latex": [
       "$\\displaystyle 1.0 B(x_1,t_i,\\Gamma^{ (Eg1,2) })_{{188} {189} {190} {191}}B^*(x_0,t_i,t_f,\\Gamma^{ (Eg0,0) })_{{189} {190} {188} {191}}$"
      ],
      "text/plain": [
       "<IPython.core.display.Math object>"
      ]
     },
     "metadata": {},
     "output_type": "display_data"
    },
    {
     "data": {
      "text/latex": [
       "$\\displaystyle -1.0 B(x_1,t_i,\\Gamma^{ (Eg1,2) })_{{188} {189} {190} {191}}B^*(x_0,t_i,t_f,\\Gamma^{ (Eg0,0) })_{{188} {190} {189} {191}}$"
      ],
      "text/plain": [
       "<IPython.core.display.Math object>"
      ]
     },
     "metadata": {},
     "output_type": "display_data"
    },
    {
     "data": {
      "text/latex": [
       "$\\displaystyle 1.0 B(x_1,t_i,\\Gamma^{ (Eg1,2) })_{{188} {189} {190} {191}}B^*(x_0,t_i,t_f,\\Gamma^{ (Eg0,0) })_{{190} {188} {189} {191}}$"
      ],
      "text/plain": [
       "<IPython.core.display.Math object>"
      ]
     },
     "metadata": {},
     "output_type": "display_data"
    },
    {
     "data": {
      "text/latex": [
       "$\\displaystyle -1.0 B(x_1,t_i,\\Gamma^{ (Eg1,2) })_{{188} {189} {190} {191}}B^*(x_0,t_i,t_f,\\Gamma^{ (Eg0,0) })_{{190} {189} {188} {191}}$"
      ],
      "text/plain": [
       "<IPython.core.display.Math object>"
      ]
     },
     "metadata": {},
     "output_type": "display_data"
    },
    {
     "data": {
      "text/latex": [
       "$\\displaystyle 1.0 B(x_1,t_i,\\Gamma^{ (Eg1,2) })_{{188} {189} {190} {191}}B^*(x_0,t_i,t_f,\\Gamma^{ (Eg0,0) })_{{190} {189} {191} {188}}$"
      ],
      "text/plain": [
       "<IPython.core.display.Math object>"
      ]
     },
     "metadata": {},
     "output_type": "display_data"
    },
    {
     "data": {
      "text/latex": [
       "$\\displaystyle -1.0 B(x_1,t_i,\\Gamma^{ (Eg1,2) })_{{188} {189} {190} {191}}B^*(x_0,t_i,t_f,\\Gamma^{ (Eg0,0) })_{{190} {188} {191} {189}}$"
      ],
      "text/plain": [
       "<IPython.core.display.Math object>"
      ]
     },
     "metadata": {},
     "output_type": "display_data"
    },
    {
     "data": {
      "text/latex": [
       "$\\displaystyle 1.0 B(x_1,t_i,\\Gamma^{ (Eg1,2) })_{{188} {189} {190} {191}}B^*(x_0,t_i,t_f,\\Gamma^{ (Eg0,0) })_{{188} {190} {191} {189}}$"
      ],
      "text/plain": [
       "<IPython.core.display.Math object>"
      ]
     },
     "metadata": {},
     "output_type": "display_data"
    },
    {
     "data": {
      "text/latex": [
       "$\\displaystyle -1.0 B(x_1,t_i,\\Gamma^{ (Eg1,2) })_{{188} {189} {190} {191}}B^*(x_0,t_i,t_f,\\Gamma^{ (Eg0,0) })_{{189} {190} {191} {188}}$"
      ],
      "text/plain": [
       "<IPython.core.display.Math object>"
      ]
     },
     "metadata": {},
     "output_type": "display_data"
    },
    {
     "data": {
      "text/latex": [
       "$\\displaystyle 1.0 B(x_1,t_i,\\Gamma^{ (Eg1,2) })_{{188} {189} {190} {191}}B^*(x_0,t_i,t_f,\\Gamma^{ (Eg0,0) })_{{189} {188} {191} {190}}$"
      ],
      "text/plain": [
       "<IPython.core.display.Math object>"
      ]
     },
     "metadata": {},
     "output_type": "display_data"
    },
    {
     "data": {
      "text/latex": [
       "$\\displaystyle -1.0 B(x_1,t_i,\\Gamma^{ (Eg1,2) })_{{188} {189} {190} {191}}B^*(x_0,t_i,t_f,\\Gamma^{ (Eg0,0) })_{{188} {189} {191} {190}}$"
      ],
      "text/plain": [
       "<IPython.core.display.Math object>"
      ]
     },
     "metadata": {},
     "output_type": "display_data"
    },
    {
     "data": {
      "text/latex": [
       "$\\displaystyle 1.0 B(x_1,t_i,\\Gamma^{ (Eg1,2) })_{{188} {189} {190} {191}}B^*(x_0,t_i,t_f,\\Gamma^{ (Eg0,0) })_{{188} {191} {189} {190}}$"
      ],
      "text/plain": [
       "<IPython.core.display.Math object>"
      ]
     },
     "metadata": {},
     "output_type": "display_data"
    },
    {
     "data": {
      "text/latex": [
       "$\\displaystyle -1.0 B(x_1,t_i,\\Gamma^{ (Eg1,2) })_{{188} {189} {190} {191}}B^*(x_0,t_i,t_f,\\Gamma^{ (Eg0,0) })_{{189} {191} {188} {190}}$"
      ],
      "text/plain": [
       "<IPython.core.display.Math object>"
      ]
     },
     "metadata": {},
     "output_type": "display_data"
    },
    {
     "data": {
      "text/latex": [
       "$\\displaystyle 1.0 B(x_1,t_i,\\Gamma^{ (Eg1,2) })_{{188} {189} {190} {191}}B^*(x_0,t_i,t_f,\\Gamma^{ (Eg0,0) })_{{189} {191} {190} {188}}$"
      ],
      "text/plain": [
       "<IPython.core.display.Math object>"
      ]
     },
     "metadata": {},
     "output_type": "display_data"
    },
    {
     "data": {
      "text/latex": [
       "$\\displaystyle -1.0 B(x_1,t_i,\\Gamma^{ (Eg1,2) })_{{188} {189} {190} {191}}B^*(x_0,t_i,t_f,\\Gamma^{ (Eg0,0) })_{{188} {191} {190} {189}}$"
      ],
      "text/plain": [
       "<IPython.core.display.Math object>"
      ]
     },
     "metadata": {},
     "output_type": "display_data"
    },
    {
     "data": {
      "text/latex": [
       "$\\displaystyle 1.0 B(x_1,t_i,\\Gamma^{ (Eg1,2) })_{{188} {189} {190} {191}}B^*(x_0,t_i,t_f,\\Gamma^{ (Eg0,0) })_{{190} {191} {188} {189}}$"
      ],
      "text/plain": [
       "<IPython.core.display.Math object>"
      ]
     },
     "metadata": {},
     "output_type": "display_data"
    },
    {
     "data": {
      "text/latex": [
       "$\\displaystyle -1.0 B(x_1,t_i,\\Gamma^{ (Eg1,2) })_{{188} {189} {190} {191}}B^*(x_0,t_i,t_f,\\Gamma^{ (Eg0,0) })_{{190} {191} {189} {188}}$"
      ],
      "text/plain": [
       "<IPython.core.display.Math object>"
      ]
     },
     "metadata": {},
     "output_type": "display_data"
    },
    {
     "data": {
      "text/latex": [
       "$\\displaystyle 1.0 B(x_1,t_i,\\Gamma^{ (Eg1,2) })_{{188} {189} {190} {191}}B^*(x_0,t_i,t_f,\\Gamma^{ (Eg0,0) })_{{191} {190} {189} {188}}$"
      ],
      "text/plain": [
       "<IPython.core.display.Math object>"
      ]
     },
     "metadata": {},
     "output_type": "display_data"
    },
    {
     "data": {
      "text/latex": [
       "$\\displaystyle -1.0 B(x_1,t_i,\\Gamma^{ (Eg1,2) })_{{188} {189} {190} {191}}B^*(x_0,t_i,t_f,\\Gamma^{ (Eg0,0) })_{{191} {190} {188} {189}}$"
      ],
      "text/plain": [
       "<IPython.core.display.Math object>"
      ]
     },
     "metadata": {},
     "output_type": "display_data"
    },
    {
     "data": {
      "text/latex": [
       "$\\displaystyle 1.0 B(x_1,t_i,\\Gamma^{ (Eg1,2) })_{{188} {189} {190} {191}}B^*(x_0,t_i,t_f,\\Gamma^{ (Eg0,0) })_{{191} {188} {190} {189}}$"
      ],
      "text/plain": [
       "<IPython.core.display.Math object>"
      ]
     },
     "metadata": {},
     "output_type": "display_data"
    },
    {
     "data": {
      "text/latex": [
       "$\\displaystyle -1.0 B(x_1,t_i,\\Gamma^{ (Eg1,2) })_{{188} {189} {190} {191}}B^*(x_0,t_i,t_f,\\Gamma^{ (Eg0,0) })_{{191} {189} {190} {188}}$"
      ],
      "text/plain": [
       "<IPython.core.display.Math object>"
      ]
     },
     "metadata": {},
     "output_type": "display_data"
    },
    {
     "data": {
      "text/latex": [
       "$\\displaystyle 1.0 B(x_1,t_i,\\Gamma^{ (Eg1,2) })_{{188} {189} {190} {191}}B^*(x_0,t_i,t_f,\\Gamma^{ (Eg0,0) })_{{191} {189} {188} {190}}$"
      ],
      "text/plain": [
       "<IPython.core.display.Math object>"
      ]
     },
     "metadata": {},
     "output_type": "display_data"
    },
    {
     "data": {
      "text/latex": [
       "$\\displaystyle -1.0 B(x_1,t_i,\\Gamma^{ (Eg1,2) })_{{188} {189} {190} {191}}B^*(x_0,t_i,t_f,\\Gamma^{ (Eg0,0) })_{{191} {188} {189} {190}}$"
      ],
      "text/plain": [
       "<IPython.core.display.Math object>"
      ]
     },
     "metadata": {},
     "output_type": "display_data"
    },
    {
     "data": {
      "text/latex": [
       "$\\displaystyle 1.0 B(x_1,t_i,\\Gamma^{ (buchoff,0) })_{{132} {133} {134} {135}}B^*(x_0,t_i,t_f,\\Gamma^{ (Eg0,1) })_{{132} {133} {134} {135}}$"
      ],
      "text/plain": [
       "<IPython.core.display.Math object>"
      ]
     },
     "metadata": {},
     "output_type": "display_data"
    },
    {
     "data": {
      "text/latex": [
       "$\\displaystyle -1.0 B(x_1,t_i,\\Gamma^{ (buchoff,0) })_{{132} {133} {134} {135}}B^*(x_0,t_i,t_f,\\Gamma^{ (Eg0,1) })_{{133} {132} {134} {135}}$"
      ],
      "text/plain": [
       "<IPython.core.display.Math object>"
      ]
     },
     "metadata": {},
     "output_type": "display_data"
    },
    {
     "data": {
      "text/latex": [
       "$\\displaystyle 1.0 B(x_1,t_i,\\Gamma^{ (buchoff,0) })_{{132} {133} {134} {135}}B^*(x_0,t_i,t_f,\\Gamma^{ (Eg0,1) })_{{133} {134} {132} {135}}$"
      ],
      "text/plain": [
       "<IPython.core.display.Math object>"
      ]
     },
     "metadata": {},
     "output_type": "display_data"
    },
    {
     "data": {
      "text/latex": [
       "$\\displaystyle -1.0 B(x_1,t_i,\\Gamma^{ (buchoff,0) })_{{132} {133} {134} {135}}B^*(x_0,t_i,t_f,\\Gamma^{ (Eg0,1) })_{{132} {134} {133} {135}}$"
      ],
      "text/plain": [
       "<IPython.core.display.Math object>"
      ]
     },
     "metadata": {},
     "output_type": "display_data"
    },
    {
     "data": {
      "text/latex": [
       "$\\displaystyle 1.0 B(x_1,t_i,\\Gamma^{ (buchoff,0) })_{{132} {133} {134} {135}}B^*(x_0,t_i,t_f,\\Gamma^{ (Eg0,1) })_{{134} {132} {133} {135}}$"
      ],
      "text/plain": [
       "<IPython.core.display.Math object>"
      ]
     },
     "metadata": {},
     "output_type": "display_data"
    },
    {
     "data": {
      "text/latex": [
       "$\\displaystyle -1.0 B(x_1,t_i,\\Gamma^{ (buchoff,0) })_{{132} {133} {134} {135}}B^*(x_0,t_i,t_f,\\Gamma^{ (Eg0,1) })_{{134} {133} {132} {135}}$"
      ],
      "text/plain": [
       "<IPython.core.display.Math object>"
      ]
     },
     "metadata": {},
     "output_type": "display_data"
    },
    {
     "data": {
      "text/latex": [
       "$\\displaystyle 1.0 B(x_1,t_i,\\Gamma^{ (buchoff,0) })_{{132} {133} {134} {135}}B^*(x_0,t_i,t_f,\\Gamma^{ (Eg0,1) })_{{134} {133} {135} {132}}$"
      ],
      "text/plain": [
       "<IPython.core.display.Math object>"
      ]
     },
     "metadata": {},
     "output_type": "display_data"
    },
    {
     "data": {
      "text/latex": [
       "$\\displaystyle -1.0 B(x_1,t_i,\\Gamma^{ (buchoff,0) })_{{132} {133} {134} {135}}B^*(x_0,t_i,t_f,\\Gamma^{ (Eg0,1) })_{{134} {132} {135} {133}}$"
      ],
      "text/plain": [
       "<IPython.core.display.Math object>"
      ]
     },
     "metadata": {},
     "output_type": "display_data"
    },
    {
     "data": {
      "text/latex": [
       "$\\displaystyle 1.0 B(x_1,t_i,\\Gamma^{ (buchoff,0) })_{{132} {133} {134} {135}}B^*(x_0,t_i,t_f,\\Gamma^{ (Eg0,1) })_{{132} {134} {135} {133}}$"
      ],
      "text/plain": [
       "<IPython.core.display.Math object>"
      ]
     },
     "metadata": {},
     "output_type": "display_data"
    },
    {
     "data": {
      "text/latex": [
       "$\\displaystyle -1.0 B(x_1,t_i,\\Gamma^{ (buchoff,0) })_{{132} {133} {134} {135}}B^*(x_0,t_i,t_f,\\Gamma^{ (Eg0,1) })_{{133} {134} {135} {132}}$"
      ],
      "text/plain": [
       "<IPython.core.display.Math object>"
      ]
     },
     "metadata": {},
     "output_type": "display_data"
    },
    {
     "data": {
      "text/latex": [
       "$\\displaystyle 1.0 B(x_1,t_i,\\Gamma^{ (buchoff,0) })_{{132} {133} {134} {135}}B^*(x_0,t_i,t_f,\\Gamma^{ (Eg0,1) })_{{133} {132} {135} {134}}$"
      ],
      "text/plain": [
       "<IPython.core.display.Math object>"
      ]
     },
     "metadata": {},
     "output_type": "display_data"
    },
    {
     "data": {
      "text/latex": [
       "$\\displaystyle -1.0 B(x_1,t_i,\\Gamma^{ (buchoff,0) })_{{132} {133} {134} {135}}B^*(x_0,t_i,t_f,\\Gamma^{ (Eg0,1) })_{{132} {133} {135} {134}}$"
      ],
      "text/plain": [
       "<IPython.core.display.Math object>"
      ]
     },
     "metadata": {},
     "output_type": "display_data"
    },
    {
     "data": {
      "text/latex": [
       "$\\displaystyle 1.0 B(x_1,t_i,\\Gamma^{ (buchoff,0) })_{{132} {133} {134} {135}}B^*(x_0,t_i,t_f,\\Gamma^{ (Eg0,1) })_{{132} {135} {133} {134}}$"
      ],
      "text/plain": [
       "<IPython.core.display.Math object>"
      ]
     },
     "metadata": {},
     "output_type": "display_data"
    },
    {
     "data": {
      "text/latex": [
       "$\\displaystyle -1.0 B(x_1,t_i,\\Gamma^{ (buchoff,0) })_{{132} {133} {134} {135}}B^*(x_0,t_i,t_f,\\Gamma^{ (Eg0,1) })_{{133} {135} {132} {134}}$"
      ],
      "text/plain": [
       "<IPython.core.display.Math object>"
      ]
     },
     "metadata": {},
     "output_type": "display_data"
    },
    {
     "data": {
      "text/latex": [
       "$\\displaystyle 1.0 B(x_1,t_i,\\Gamma^{ (buchoff,0) })_{{132} {133} {134} {135}}B^*(x_0,t_i,t_f,\\Gamma^{ (Eg0,1) })_{{133} {135} {134} {132}}$"
      ],
      "text/plain": [
       "<IPython.core.display.Math object>"
      ]
     },
     "metadata": {},
     "output_type": "display_data"
    },
    {
     "data": {
      "text/latex": [
       "$\\displaystyle -1.0 B(x_1,t_i,\\Gamma^{ (buchoff,0) })_{{132} {133} {134} {135}}B^*(x_0,t_i,t_f,\\Gamma^{ (Eg0,1) })_{{132} {135} {134} {133}}$"
      ],
      "text/plain": [
       "<IPython.core.display.Math object>"
      ]
     },
     "metadata": {},
     "output_type": "display_data"
    },
    {
     "data": {
      "text/latex": [
       "$\\displaystyle 1.0 B(x_1,t_i,\\Gamma^{ (buchoff,0) })_{{132} {133} {134} {135}}B^*(x_0,t_i,t_f,\\Gamma^{ (Eg0,1) })_{{134} {135} {132} {133}}$"
      ],
      "text/plain": [
       "<IPython.core.display.Math object>"
      ]
     },
     "metadata": {},
     "output_type": "display_data"
    },
    {
     "data": {
      "text/latex": [
       "$\\displaystyle -1.0 B(x_1,t_i,\\Gamma^{ (buchoff,0) })_{{132} {133} {134} {135}}B^*(x_0,t_i,t_f,\\Gamma^{ (Eg0,1) })_{{134} {135} {133} {132}}$"
      ],
      "text/plain": [
       "<IPython.core.display.Math object>"
      ]
     },
     "metadata": {},
     "output_type": "display_data"
    },
    {
     "data": {
      "text/latex": [
       "$\\displaystyle 1.0 B(x_1,t_i,\\Gamma^{ (buchoff,0) })_{{132} {133} {134} {135}}B^*(x_0,t_i,t_f,\\Gamma^{ (Eg0,1) })_{{135} {134} {133} {132}}$"
      ],
      "text/plain": [
       "<IPython.core.display.Math object>"
      ]
     },
     "metadata": {},
     "output_type": "display_data"
    },
    {
     "data": {
      "text/latex": [
       "$\\displaystyle -1.0 B(x_1,t_i,\\Gamma^{ (buchoff,0) })_{{132} {133} {134} {135}}B^*(x_0,t_i,t_f,\\Gamma^{ (Eg0,1) })_{{135} {134} {132} {133}}$"
      ],
      "text/plain": [
       "<IPython.core.display.Math object>"
      ]
     },
     "metadata": {},
     "output_type": "display_data"
    },
    {
     "data": {
      "text/latex": [
       "$\\displaystyle 1.0 B(x_1,t_i,\\Gamma^{ (buchoff,0) })_{{132} {133} {134} {135}}B^*(x_0,t_i,t_f,\\Gamma^{ (Eg0,1) })_{{135} {132} {134} {133}}$"
      ],
      "text/plain": [
       "<IPython.core.display.Math object>"
      ]
     },
     "metadata": {},
     "output_type": "display_data"
    },
    {
     "data": {
      "text/latex": [
       "$\\displaystyle -1.0 B(x_1,t_i,\\Gamma^{ (buchoff,0) })_{{132} {133} {134} {135}}B^*(x_0,t_i,t_f,\\Gamma^{ (Eg0,1) })_{{135} {133} {134} {132}}$"
      ],
      "text/plain": [
       "<IPython.core.display.Math object>"
      ]
     },
     "metadata": {},
     "output_type": "display_data"
    },
    {
     "data": {
      "text/latex": [
       "$\\displaystyle 1.0 B(x_1,t_i,\\Gamma^{ (buchoff,0) })_{{132} {133} {134} {135}}B^*(x_0,t_i,t_f,\\Gamma^{ (Eg0,1) })_{{135} {133} {132} {134}}$"
      ],
      "text/plain": [
       "<IPython.core.display.Math object>"
      ]
     },
     "metadata": {},
     "output_type": "display_data"
    },
    {
     "data": {
      "text/latex": [
       "$\\displaystyle -1.0 B(x_1,t_i,\\Gamma^{ (buchoff,0) })_{{132} {133} {134} {135}}B^*(x_0,t_i,t_f,\\Gamma^{ (Eg0,1) })_{{135} {132} {133} {134}}$"
      ],
      "text/plain": [
       "<IPython.core.display.Math object>"
      ]
     },
     "metadata": {},
     "output_type": "display_data"
    },
    {
     "data": {
      "text/latex": [
       "$\\displaystyle 1.0 B^*(x_0,t_i,t_f,\\Gamma^{ (Eg0,1) })_{{140} {141} {142} {143}}B(x_1,t_i,\\Gamma^{ (A1g,0) })_{{140} {141} {142} {143}}$"
      ],
      "text/plain": [
       "<IPython.core.display.Math object>"
      ]
     },
     "metadata": {},
     "output_type": "display_data"
    },
    {
     "data": {
      "text/latex": [
       "$\\displaystyle -1.0 B^*(x_0,t_i,t_f,\\Gamma^{ (Eg0,1) })_{{141} {140} {142} {143}}B(x_1,t_i,\\Gamma^{ (A1g,0) })_{{140} {141} {142} {143}}$"
      ],
      "text/plain": [
       "<IPython.core.display.Math object>"
      ]
     },
     "metadata": {},
     "output_type": "display_data"
    },
    {
     "data": {
      "text/latex": [
       "$\\displaystyle 1.0 B^*(x_0,t_i,t_f,\\Gamma^{ (Eg0,1) })_{{141} {142} {140} {143}}B(x_1,t_i,\\Gamma^{ (A1g,0) })_{{140} {141} {142} {143}}$"
      ],
      "text/plain": [
       "<IPython.core.display.Math object>"
      ]
     },
     "metadata": {},
     "output_type": "display_data"
    },
    {
     "data": {
      "text/latex": [
       "$\\displaystyle -1.0 B^*(x_0,t_i,t_f,\\Gamma^{ (Eg0,1) })_{{140} {142} {141} {143}}B(x_1,t_i,\\Gamma^{ (A1g,0) })_{{140} {141} {142} {143}}$"
      ],
      "text/plain": [
       "<IPython.core.display.Math object>"
      ]
     },
     "metadata": {},
     "output_type": "display_data"
    },
    {
     "data": {
      "text/latex": [
       "$\\displaystyle 1.0 B^*(x_0,t_i,t_f,\\Gamma^{ (Eg0,1) })_{{142} {140} {141} {143}}B(x_1,t_i,\\Gamma^{ (A1g,0) })_{{140} {141} {142} {143}}$"
      ],
      "text/plain": [
       "<IPython.core.display.Math object>"
      ]
     },
     "metadata": {},
     "output_type": "display_data"
    },
    {
     "data": {
      "text/latex": [
       "$\\displaystyle -1.0 B^*(x_0,t_i,t_f,\\Gamma^{ (Eg0,1) })_{{142} {141} {140} {143}}B(x_1,t_i,\\Gamma^{ (A1g,0) })_{{140} {141} {142} {143}}$"
      ],
      "text/plain": [
       "<IPython.core.display.Math object>"
      ]
     },
     "metadata": {},
     "output_type": "display_data"
    },
    {
     "data": {
      "text/latex": [
       "$\\displaystyle 1.0 B^*(x_0,t_i,t_f,\\Gamma^{ (Eg0,1) })_{{142} {141} {143} {140}}B(x_1,t_i,\\Gamma^{ (A1g,0) })_{{140} {141} {142} {143}}$"
      ],
      "text/plain": [
       "<IPython.core.display.Math object>"
      ]
     },
     "metadata": {},
     "output_type": "display_data"
    },
    {
     "data": {
      "text/latex": [
       "$\\displaystyle -1.0 B^*(x_0,t_i,t_f,\\Gamma^{ (Eg0,1) })_{{142} {140} {143} {141}}B(x_1,t_i,\\Gamma^{ (A1g,0) })_{{140} {141} {142} {143}}$"
      ],
      "text/plain": [
       "<IPython.core.display.Math object>"
      ]
     },
     "metadata": {},
     "output_type": "display_data"
    },
    {
     "data": {
      "text/latex": [
       "$\\displaystyle 1.0 B^*(x_0,t_i,t_f,\\Gamma^{ (Eg0,1) })_{{140} {142} {143} {141}}B(x_1,t_i,\\Gamma^{ (A1g,0) })_{{140} {141} {142} {143}}$"
      ],
      "text/plain": [
       "<IPython.core.display.Math object>"
      ]
     },
     "metadata": {},
     "output_type": "display_data"
    },
    {
     "data": {
      "text/latex": [
       "$\\displaystyle -1.0 B^*(x_0,t_i,t_f,\\Gamma^{ (Eg0,1) })_{{141} {142} {143} {140}}B(x_1,t_i,\\Gamma^{ (A1g,0) })_{{140} {141} {142} {143}}$"
      ],
      "text/plain": [
       "<IPython.core.display.Math object>"
      ]
     },
     "metadata": {},
     "output_type": "display_data"
    },
    {
     "data": {
      "text/latex": [
       "$\\displaystyle 1.0 B^*(x_0,t_i,t_f,\\Gamma^{ (Eg0,1) })_{{141} {140} {143} {142}}B(x_1,t_i,\\Gamma^{ (A1g,0) })_{{140} {141} {142} {143}}$"
      ],
      "text/plain": [
       "<IPython.core.display.Math object>"
      ]
     },
     "metadata": {},
     "output_type": "display_data"
    },
    {
     "data": {
      "text/latex": [
       "$\\displaystyle -1.0 B^*(x_0,t_i,t_f,\\Gamma^{ (Eg0,1) })_{{140} {141} {143} {142}}B(x_1,t_i,\\Gamma^{ (A1g,0) })_{{140} {141} {142} {143}}$"
      ],
      "text/plain": [
       "<IPython.core.display.Math object>"
      ]
     },
     "metadata": {},
     "output_type": "display_data"
    },
    {
     "data": {
      "text/latex": [
       "$\\displaystyle 1.0 B^*(x_0,t_i,t_f,\\Gamma^{ (Eg0,1) })_{{140} {143} {141} {142}}B(x_1,t_i,\\Gamma^{ (A1g,0) })_{{140} {141} {142} {143}}$"
      ],
      "text/plain": [
       "<IPython.core.display.Math object>"
      ]
     },
     "metadata": {},
     "output_type": "display_data"
    },
    {
     "data": {
      "text/latex": [
       "$\\displaystyle -1.0 B^*(x_0,t_i,t_f,\\Gamma^{ (Eg0,1) })_{{141} {143} {140} {142}}B(x_1,t_i,\\Gamma^{ (A1g,0) })_{{140} {141} {142} {143}}$"
      ],
      "text/plain": [
       "<IPython.core.display.Math object>"
      ]
     },
     "metadata": {},
     "output_type": "display_data"
    },
    {
     "data": {
      "text/latex": [
       "$\\displaystyle 1.0 B^*(x_0,t_i,t_f,\\Gamma^{ (Eg0,1) })_{{141} {143} {142} {140}}B(x_1,t_i,\\Gamma^{ (A1g,0) })_{{140} {141} {142} {143}}$"
      ],
      "text/plain": [
       "<IPython.core.display.Math object>"
      ]
     },
     "metadata": {},
     "output_type": "display_data"
    },
    {
     "data": {
      "text/latex": [
       "$\\displaystyle -1.0 B^*(x_0,t_i,t_f,\\Gamma^{ (Eg0,1) })_{{140} {143} {142} {141}}B(x_1,t_i,\\Gamma^{ (A1g,0) })_{{140} {141} {142} {143}}$"
      ],
      "text/plain": [
       "<IPython.core.display.Math object>"
      ]
     },
     "metadata": {},
     "output_type": "display_data"
    },
    {
     "data": {
      "text/latex": [
       "$\\displaystyle 1.0 B^*(x_0,t_i,t_f,\\Gamma^{ (Eg0,1) })_{{142} {143} {140} {141}}B(x_1,t_i,\\Gamma^{ (A1g,0) })_{{140} {141} {142} {143}}$"
      ],
      "text/plain": [
       "<IPython.core.display.Math object>"
      ]
     },
     "metadata": {},
     "output_type": "display_data"
    },
    {
     "data": {
      "text/latex": [
       "$\\displaystyle -1.0 B^*(x_0,t_i,t_f,\\Gamma^{ (Eg0,1) })_{{142} {143} {141} {140}}B(x_1,t_i,\\Gamma^{ (A1g,0) })_{{140} {141} {142} {143}}$"
      ],
      "text/plain": [
       "<IPython.core.display.Math object>"
      ]
     },
     "metadata": {},
     "output_type": "display_data"
    },
    {
     "data": {
      "text/latex": [
       "$\\displaystyle 1.0 B^*(x_0,t_i,t_f,\\Gamma^{ (Eg0,1) })_{{143} {142} {141} {140}}B(x_1,t_i,\\Gamma^{ (A1g,0) })_{{140} {141} {142} {143}}$"
      ],
      "text/plain": [
       "<IPython.core.display.Math object>"
      ]
     },
     "metadata": {},
     "output_type": "display_data"
    },
    {
     "data": {
      "text/latex": [
       "$\\displaystyle -1.0 B^*(x_0,t_i,t_f,\\Gamma^{ (Eg0,1) })_{{143} {142} {140} {141}}B(x_1,t_i,\\Gamma^{ (A1g,0) })_{{140} {141} {142} {143}}$"
      ],
      "text/plain": [
       "<IPython.core.display.Math object>"
      ]
     },
     "metadata": {},
     "output_type": "display_data"
    },
    {
     "data": {
      "text/latex": [
       "$\\displaystyle 1.0 B^*(x_0,t_i,t_f,\\Gamma^{ (Eg0,1) })_{{143} {140} {142} {141}}B(x_1,t_i,\\Gamma^{ (A1g,0) })_{{140} {141} {142} {143}}$"
      ],
      "text/plain": [
       "<IPython.core.display.Math object>"
      ]
     },
     "metadata": {},
     "output_type": "display_data"
    },
    {
     "data": {
      "text/latex": [
       "$\\displaystyle -1.0 B^*(x_0,t_i,t_f,\\Gamma^{ (Eg0,1) })_{{143} {141} {142} {140}}B(x_1,t_i,\\Gamma^{ (A1g,0) })_{{140} {141} {142} {143}}$"
      ],
      "text/plain": [
       "<IPython.core.display.Math object>"
      ]
     },
     "metadata": {},
     "output_type": "display_data"
    },
    {
     "data": {
      "text/latex": [
       "$\\displaystyle 1.0 B^*(x_0,t_i,t_f,\\Gamma^{ (Eg0,1) })_{{143} {141} {140} {142}}B(x_1,t_i,\\Gamma^{ (A1g,0) })_{{140} {141} {142} {143}}$"
      ],
      "text/plain": [
       "<IPython.core.display.Math object>"
      ]
     },
     "metadata": {},
     "output_type": "display_data"
    },
    {
     "data": {
      "text/latex": [
       "$\\displaystyle -1.0 B^*(x_0,t_i,t_f,\\Gamma^{ (Eg0,1) })_{{143} {140} {141} {142}}B(x_1,t_i,\\Gamma^{ (A1g,0) })_{{140} {141} {142} {143}}$"
      ],
      "text/plain": [
       "<IPython.core.display.Math object>"
      ]
     },
     "metadata": {},
     "output_type": "display_data"
    },
    {
     "data": {
      "text/latex": [
       "$\\displaystyle 1.0 B^*(x_0,t_i,t_f,\\Gamma^{ (Eg0,1) })_{{148} {149} {150} {151}}B(x_1,t_i,\\Gamma^{ (Eg0,0) })_{{148} {149} {150} {151}}$"
      ],
      "text/plain": [
       "<IPython.core.display.Math object>"
      ]
     },
     "metadata": {},
     "output_type": "display_data"
    },
    {
     "data": {
      "text/latex": [
       "$\\displaystyle -1.0 B^*(x_0,t_i,t_f,\\Gamma^{ (Eg0,1) })_{{149} {148} {150} {151}}B(x_1,t_i,\\Gamma^{ (Eg0,0) })_{{148} {149} {150} {151}}$"
      ],
      "text/plain": [
       "<IPython.core.display.Math object>"
      ]
     },
     "metadata": {},
     "output_type": "display_data"
    },
    {
     "data": {
      "text/latex": [
       "$\\displaystyle 1.0 B^*(x_0,t_i,t_f,\\Gamma^{ (Eg0,1) })_{{149} {150} {148} {151}}B(x_1,t_i,\\Gamma^{ (Eg0,0) })_{{148} {149} {150} {151}}$"
      ],
      "text/plain": [
       "<IPython.core.display.Math object>"
      ]
     },
     "metadata": {},
     "output_type": "display_data"
    },
    {
     "data": {
      "text/latex": [
       "$\\displaystyle -1.0 B^*(x_0,t_i,t_f,\\Gamma^{ (Eg0,1) })_{{148} {150} {149} {151}}B(x_1,t_i,\\Gamma^{ (Eg0,0) })_{{148} {149} {150} {151}}$"
      ],
      "text/plain": [
       "<IPython.core.display.Math object>"
      ]
     },
     "metadata": {},
     "output_type": "display_data"
    },
    {
     "data": {
      "text/latex": [
       "$\\displaystyle 1.0 B^*(x_0,t_i,t_f,\\Gamma^{ (Eg0,1) })_{{150} {148} {149} {151}}B(x_1,t_i,\\Gamma^{ (Eg0,0) })_{{148} {149} {150} {151}}$"
      ],
      "text/plain": [
       "<IPython.core.display.Math object>"
      ]
     },
     "metadata": {},
     "output_type": "display_data"
    },
    {
     "data": {
      "text/latex": [
       "$\\displaystyle -1.0 B^*(x_0,t_i,t_f,\\Gamma^{ (Eg0,1) })_{{150} {149} {148} {151}}B(x_1,t_i,\\Gamma^{ (Eg0,0) })_{{148} {149} {150} {151}}$"
      ],
      "text/plain": [
       "<IPython.core.display.Math object>"
      ]
     },
     "metadata": {},
     "output_type": "display_data"
    },
    {
     "data": {
      "text/latex": [
       "$\\displaystyle 1.0 B^*(x_0,t_i,t_f,\\Gamma^{ (Eg0,1) })_{{150} {149} {151} {148}}B(x_1,t_i,\\Gamma^{ (Eg0,0) })_{{148} {149} {150} {151}}$"
      ],
      "text/plain": [
       "<IPython.core.display.Math object>"
      ]
     },
     "metadata": {},
     "output_type": "display_data"
    },
    {
     "data": {
      "text/latex": [
       "$\\displaystyle -1.0 B^*(x_0,t_i,t_f,\\Gamma^{ (Eg0,1) })_{{150} {148} {151} {149}}B(x_1,t_i,\\Gamma^{ (Eg0,0) })_{{148} {149} {150} {151}}$"
      ],
      "text/plain": [
       "<IPython.core.display.Math object>"
      ]
     },
     "metadata": {},
     "output_type": "display_data"
    },
    {
     "data": {
      "text/latex": [
       "$\\displaystyle 1.0 B^*(x_0,t_i,t_f,\\Gamma^{ (Eg0,1) })_{{148} {150} {151} {149}}B(x_1,t_i,\\Gamma^{ (Eg0,0) })_{{148} {149} {150} {151}}$"
      ],
      "text/plain": [
       "<IPython.core.display.Math object>"
      ]
     },
     "metadata": {},
     "output_type": "display_data"
    },
    {
     "data": {
      "text/latex": [
       "$\\displaystyle -1.0 B^*(x_0,t_i,t_f,\\Gamma^{ (Eg0,1) })_{{149} {150} {151} {148}}B(x_1,t_i,\\Gamma^{ (Eg0,0) })_{{148} {149} {150} {151}}$"
      ],
      "text/plain": [
       "<IPython.core.display.Math object>"
      ]
     },
     "metadata": {},
     "output_type": "display_data"
    },
    {
     "data": {
      "text/latex": [
       "$\\displaystyle 1.0 B^*(x_0,t_i,t_f,\\Gamma^{ (Eg0,1) })_{{149} {148} {151} {150}}B(x_1,t_i,\\Gamma^{ (Eg0,0) })_{{148} {149} {150} {151}}$"
      ],
      "text/plain": [
       "<IPython.core.display.Math object>"
      ]
     },
     "metadata": {},
     "output_type": "display_data"
    },
    {
     "data": {
      "text/latex": [
       "$\\displaystyle -1.0 B^*(x_0,t_i,t_f,\\Gamma^{ (Eg0,1) })_{{148} {149} {151} {150}}B(x_1,t_i,\\Gamma^{ (Eg0,0) })_{{148} {149} {150} {151}}$"
      ],
      "text/plain": [
       "<IPython.core.display.Math object>"
      ]
     },
     "metadata": {},
     "output_type": "display_data"
    },
    {
     "data": {
      "text/latex": [
       "$\\displaystyle 1.0 B^*(x_0,t_i,t_f,\\Gamma^{ (Eg0,1) })_{{148} {151} {149} {150}}B(x_1,t_i,\\Gamma^{ (Eg0,0) })_{{148} {149} {150} {151}}$"
      ],
      "text/plain": [
       "<IPython.core.display.Math object>"
      ]
     },
     "metadata": {},
     "output_type": "display_data"
    },
    {
     "data": {
      "text/latex": [
       "$\\displaystyle -1.0 B^*(x_0,t_i,t_f,\\Gamma^{ (Eg0,1) })_{{149} {151} {148} {150}}B(x_1,t_i,\\Gamma^{ (Eg0,0) })_{{148} {149} {150} {151}}$"
      ],
      "text/plain": [
       "<IPython.core.display.Math object>"
      ]
     },
     "metadata": {},
     "output_type": "display_data"
    },
    {
     "data": {
      "text/latex": [
       "$\\displaystyle 1.0 B^*(x_0,t_i,t_f,\\Gamma^{ (Eg0,1) })_{{149} {151} {150} {148}}B(x_1,t_i,\\Gamma^{ (Eg0,0) })_{{148} {149} {150} {151}}$"
      ],
      "text/plain": [
       "<IPython.core.display.Math object>"
      ]
     },
     "metadata": {},
     "output_type": "display_data"
    },
    {
     "data": {
      "text/latex": [
       "$\\displaystyle -1.0 B^*(x_0,t_i,t_f,\\Gamma^{ (Eg0,1) })_{{148} {151} {150} {149}}B(x_1,t_i,\\Gamma^{ (Eg0,0) })_{{148} {149} {150} {151}}$"
      ],
      "text/plain": [
       "<IPython.core.display.Math object>"
      ]
     },
     "metadata": {},
     "output_type": "display_data"
    },
    {
     "data": {
      "text/latex": [
       "$\\displaystyle 1.0 B^*(x_0,t_i,t_f,\\Gamma^{ (Eg0,1) })_{{150} {151} {148} {149}}B(x_1,t_i,\\Gamma^{ (Eg0,0) })_{{148} {149} {150} {151}}$"
      ],
      "text/plain": [
       "<IPython.core.display.Math object>"
      ]
     },
     "metadata": {},
     "output_type": "display_data"
    },
    {
     "data": {
      "text/latex": [
       "$\\displaystyle -1.0 B^*(x_0,t_i,t_f,\\Gamma^{ (Eg0,1) })_{{150} {151} {149} {148}}B(x_1,t_i,\\Gamma^{ (Eg0,0) })_{{148} {149} {150} {151}}$"
      ],
      "text/plain": [
       "<IPython.core.display.Math object>"
      ]
     },
     "metadata": {},
     "output_type": "display_data"
    },
    {
     "data": {
      "text/latex": [
       "$\\displaystyle 1.0 B^*(x_0,t_i,t_f,\\Gamma^{ (Eg0,1) })_{{151} {150} {149} {148}}B(x_1,t_i,\\Gamma^{ (Eg0,0) })_{{148} {149} {150} {151}}$"
      ],
      "text/plain": [
       "<IPython.core.display.Math object>"
      ]
     },
     "metadata": {},
     "output_type": "display_data"
    },
    {
     "data": {
      "text/latex": [
       "$\\displaystyle -1.0 B^*(x_0,t_i,t_f,\\Gamma^{ (Eg0,1) })_{{151} {150} {148} {149}}B(x_1,t_i,\\Gamma^{ (Eg0,0) })_{{148} {149} {150} {151}}$"
      ],
      "text/plain": [
       "<IPython.core.display.Math object>"
      ]
     },
     "metadata": {},
     "output_type": "display_data"
    },
    {
     "data": {
      "text/latex": [
       "$\\displaystyle 1.0 B^*(x_0,t_i,t_f,\\Gamma^{ (Eg0,1) })_{{151} {148} {150} {149}}B(x_1,t_i,\\Gamma^{ (Eg0,0) })_{{148} {149} {150} {151}}$"
      ],
      "text/plain": [
       "<IPython.core.display.Math object>"
      ]
     },
     "metadata": {},
     "output_type": "display_data"
    },
    {
     "data": {
      "text/latex": [
       "$\\displaystyle -1.0 B^*(x_0,t_i,t_f,\\Gamma^{ (Eg0,1) })_{{151} {149} {150} {148}}B(x_1,t_i,\\Gamma^{ (Eg0,0) })_{{148} {149} {150} {151}}$"
      ],
      "text/plain": [
       "<IPython.core.display.Math object>"
      ]
     },
     "metadata": {},
     "output_type": "display_data"
    },
    {
     "data": {
      "text/latex": [
       "$\\displaystyle 1.0 B^*(x_0,t_i,t_f,\\Gamma^{ (Eg0,1) })_{{151} {149} {148} {150}}B(x_1,t_i,\\Gamma^{ (Eg0,0) })_{{148} {149} {150} {151}}$"
      ],
      "text/plain": [
       "<IPython.core.display.Math object>"
      ]
     },
     "metadata": {},
     "output_type": "display_data"
    },
    {
     "data": {
      "text/latex": [
       "$\\displaystyle -1.0 B^*(x_0,t_i,t_f,\\Gamma^{ (Eg0,1) })_{{151} {148} {149} {150}}B(x_1,t_i,\\Gamma^{ (Eg0,0) })_{{148} {149} {150} {151}}$"
      ],
      "text/plain": [
       "<IPython.core.display.Math object>"
      ]
     },
     "metadata": {},
     "output_type": "display_data"
    },
    {
     "data": {
      "text/latex": [
       "$\\displaystyle 1.0 B(x_1,t_i,\\Gamma^{ (Eg0,1) })_{{156} {157} {158} {159}}B^*(x_0,t_i,t_f,\\Gamma^{ (Eg0,1) })_{{156} {157} {158} {159}}$"
      ],
      "text/plain": [
       "<IPython.core.display.Math object>"
      ]
     },
     "metadata": {},
     "output_type": "display_data"
    },
    {
     "data": {
      "text/latex": [
       "$\\displaystyle -1.0 B(x_1,t_i,\\Gamma^{ (Eg0,1) })_{{156} {157} {158} {159}}B^*(x_0,t_i,t_f,\\Gamma^{ (Eg0,1) })_{{157} {156} {158} {159}}$"
      ],
      "text/plain": [
       "<IPython.core.display.Math object>"
      ]
     },
     "metadata": {},
     "output_type": "display_data"
    },
    {
     "data": {
      "text/latex": [
       "$\\displaystyle 1.0 B(x_1,t_i,\\Gamma^{ (Eg0,1) })_{{156} {157} {158} {159}}B^*(x_0,t_i,t_f,\\Gamma^{ (Eg0,1) })_{{157} {158} {156} {159}}$"
      ],
      "text/plain": [
       "<IPython.core.display.Math object>"
      ]
     },
     "metadata": {},
     "output_type": "display_data"
    },
    {
     "data": {
      "text/latex": [
       "$\\displaystyle -1.0 B(x_1,t_i,\\Gamma^{ (Eg0,1) })_{{156} {157} {158} {159}}B^*(x_0,t_i,t_f,\\Gamma^{ (Eg0,1) })_{{156} {158} {157} {159}}$"
      ],
      "text/plain": [
       "<IPython.core.display.Math object>"
      ]
     },
     "metadata": {},
     "output_type": "display_data"
    },
    {
     "data": {
      "text/latex": [
       "$\\displaystyle 1.0 B(x_1,t_i,\\Gamma^{ (Eg0,1) })_{{156} {157} {158} {159}}B^*(x_0,t_i,t_f,\\Gamma^{ (Eg0,1) })_{{158} {156} {157} {159}}$"
      ],
      "text/plain": [
       "<IPython.core.display.Math object>"
      ]
     },
     "metadata": {},
     "output_type": "display_data"
    },
    {
     "data": {
      "text/latex": [
       "$\\displaystyle -1.0 B(x_1,t_i,\\Gamma^{ (Eg0,1) })_{{156} {157} {158} {159}}B^*(x_0,t_i,t_f,\\Gamma^{ (Eg0,1) })_{{158} {157} {156} {159}}$"
      ],
      "text/plain": [
       "<IPython.core.display.Math object>"
      ]
     },
     "metadata": {},
     "output_type": "display_data"
    },
    {
     "data": {
      "text/latex": [
       "$\\displaystyle 1.0 B(x_1,t_i,\\Gamma^{ (Eg0,1) })_{{156} {157} {158} {159}}B^*(x_0,t_i,t_f,\\Gamma^{ (Eg0,1) })_{{158} {157} {159} {156}}$"
      ],
      "text/plain": [
       "<IPython.core.display.Math object>"
      ]
     },
     "metadata": {},
     "output_type": "display_data"
    },
    {
     "data": {
      "text/latex": [
       "$\\displaystyle -1.0 B(x_1,t_i,\\Gamma^{ (Eg0,1) })_{{156} {157} {158} {159}}B^*(x_0,t_i,t_f,\\Gamma^{ (Eg0,1) })_{{158} {156} {159} {157}}$"
      ],
      "text/plain": [
       "<IPython.core.display.Math object>"
      ]
     },
     "metadata": {},
     "output_type": "display_data"
    },
    {
     "data": {
      "text/latex": [
       "$\\displaystyle 1.0 B(x_1,t_i,\\Gamma^{ (Eg0,1) })_{{156} {157} {158} {159}}B^*(x_0,t_i,t_f,\\Gamma^{ (Eg0,1) })_{{156} {158} {159} {157}}$"
      ],
      "text/plain": [
       "<IPython.core.display.Math object>"
      ]
     },
     "metadata": {},
     "output_type": "display_data"
    },
    {
     "data": {
      "text/latex": [
       "$\\displaystyle -1.0 B(x_1,t_i,\\Gamma^{ (Eg0,1) })_{{156} {157} {158} {159}}B^*(x_0,t_i,t_f,\\Gamma^{ (Eg0,1) })_{{157} {158} {159} {156}}$"
      ],
      "text/plain": [
       "<IPython.core.display.Math object>"
      ]
     },
     "metadata": {},
     "output_type": "display_data"
    },
    {
     "data": {
      "text/latex": [
       "$\\displaystyle 1.0 B(x_1,t_i,\\Gamma^{ (Eg0,1) })_{{156} {157} {158} {159}}B^*(x_0,t_i,t_f,\\Gamma^{ (Eg0,1) })_{{157} {156} {159} {158}}$"
      ],
      "text/plain": [
       "<IPython.core.display.Math object>"
      ]
     },
     "metadata": {},
     "output_type": "display_data"
    },
    {
     "data": {
      "text/latex": [
       "$\\displaystyle -1.0 B(x_1,t_i,\\Gamma^{ (Eg0,1) })_{{156} {157} {158} {159}}B^*(x_0,t_i,t_f,\\Gamma^{ (Eg0,1) })_{{156} {157} {159} {158}}$"
      ],
      "text/plain": [
       "<IPython.core.display.Math object>"
      ]
     },
     "metadata": {},
     "output_type": "display_data"
    },
    {
     "data": {
      "text/latex": [
       "$\\displaystyle 1.0 B(x_1,t_i,\\Gamma^{ (Eg0,1) })_{{156} {157} {158} {159}}B^*(x_0,t_i,t_f,\\Gamma^{ (Eg0,1) })_{{156} {159} {157} {158}}$"
      ],
      "text/plain": [
       "<IPython.core.display.Math object>"
      ]
     },
     "metadata": {},
     "output_type": "display_data"
    },
    {
     "data": {
      "text/latex": [
       "$\\displaystyle -1.0 B(x_1,t_i,\\Gamma^{ (Eg0,1) })_{{156} {157} {158} {159}}B^*(x_0,t_i,t_f,\\Gamma^{ (Eg0,1) })_{{157} {159} {156} {158}}$"
      ],
      "text/plain": [
       "<IPython.core.display.Math object>"
      ]
     },
     "metadata": {},
     "output_type": "display_data"
    },
    {
     "data": {
      "text/latex": [
       "$\\displaystyle 1.0 B(x_1,t_i,\\Gamma^{ (Eg0,1) })_{{156} {157} {158} {159}}B^*(x_0,t_i,t_f,\\Gamma^{ (Eg0,1) })_{{157} {159} {158} {156}}$"
      ],
      "text/plain": [
       "<IPython.core.display.Math object>"
      ]
     },
     "metadata": {},
     "output_type": "display_data"
    },
    {
     "data": {
      "text/latex": [
       "$\\displaystyle -1.0 B(x_1,t_i,\\Gamma^{ (Eg0,1) })_{{156} {157} {158} {159}}B^*(x_0,t_i,t_f,\\Gamma^{ (Eg0,1) })_{{156} {159} {158} {157}}$"
      ],
      "text/plain": [
       "<IPython.core.display.Math object>"
      ]
     },
     "metadata": {},
     "output_type": "display_data"
    },
    {
     "data": {
      "text/latex": [
       "$\\displaystyle 1.0 B(x_1,t_i,\\Gamma^{ (Eg0,1) })_{{156} {157} {158} {159}}B^*(x_0,t_i,t_f,\\Gamma^{ (Eg0,1) })_{{158} {159} {156} {157}}$"
      ],
      "text/plain": [
       "<IPython.core.display.Math object>"
      ]
     },
     "metadata": {},
     "output_type": "display_data"
    },
    {
     "data": {
      "text/latex": [
       "$\\displaystyle -1.0 B(x_1,t_i,\\Gamma^{ (Eg0,1) })_{{156} {157} {158} {159}}B^*(x_0,t_i,t_f,\\Gamma^{ (Eg0,1) })_{{158} {159} {157} {156}}$"
      ],
      "text/plain": [
       "<IPython.core.display.Math object>"
      ]
     },
     "metadata": {},
     "output_type": "display_data"
    },
    {
     "data": {
      "text/latex": [
       "$\\displaystyle 1.0 B(x_1,t_i,\\Gamma^{ (Eg0,1) })_{{156} {157} {158} {159}}B^*(x_0,t_i,t_f,\\Gamma^{ (Eg0,1) })_{{159} {158} {157} {156}}$"
      ],
      "text/plain": [
       "<IPython.core.display.Math object>"
      ]
     },
     "metadata": {},
     "output_type": "display_data"
    },
    {
     "data": {
      "text/latex": [
       "$\\displaystyle -1.0 B(x_1,t_i,\\Gamma^{ (Eg0,1) })_{{156} {157} {158} {159}}B^*(x_0,t_i,t_f,\\Gamma^{ (Eg0,1) })_{{159} {158} {156} {157}}$"
      ],
      "text/plain": [
       "<IPython.core.display.Math object>"
      ]
     },
     "metadata": {},
     "output_type": "display_data"
    },
    {
     "data": {
      "text/latex": [
       "$\\displaystyle 1.0 B(x_1,t_i,\\Gamma^{ (Eg0,1) })_{{156} {157} {158} {159}}B^*(x_0,t_i,t_f,\\Gamma^{ (Eg0,1) })_{{159} {156} {158} {157}}$"
      ],
      "text/plain": [
       "<IPython.core.display.Math object>"
      ]
     },
     "metadata": {},
     "output_type": "display_data"
    },
    {
     "data": {
      "text/latex": [
       "$\\displaystyle -1.0 B(x_1,t_i,\\Gamma^{ (Eg0,1) })_{{156} {157} {158} {159}}B^*(x_0,t_i,t_f,\\Gamma^{ (Eg0,1) })_{{159} {157} {158} {156}}$"
      ],
      "text/plain": [
       "<IPython.core.display.Math object>"
      ]
     },
     "metadata": {},
     "output_type": "display_data"
    },
    {
     "data": {
      "text/latex": [
       "$\\displaystyle 1.0 B(x_1,t_i,\\Gamma^{ (Eg0,1) })_{{156} {157} {158} {159}}B^*(x_0,t_i,t_f,\\Gamma^{ (Eg0,1) })_{{159} {157} {156} {158}}$"
      ],
      "text/plain": [
       "<IPython.core.display.Math object>"
      ]
     },
     "metadata": {},
     "output_type": "display_data"
    },
    {
     "data": {
      "text/latex": [
       "$\\displaystyle -1.0 B(x_1,t_i,\\Gamma^{ (Eg0,1) })_{{156} {157} {158} {159}}B^*(x_0,t_i,t_f,\\Gamma^{ (Eg0,1) })_{{159} {156} {157} {158}}$"
      ],
      "text/plain": [
       "<IPython.core.display.Math object>"
      ]
     },
     "metadata": {},
     "output_type": "display_data"
    },
    {
     "data": {
      "text/latex": [
       "$\\displaystyle 1.0 B(x_1,t_i,\\Gamma^{ (Eg0,2) })_{{164} {165} {166} {167}}B^*(x_0,t_i,t_f,\\Gamma^{ (Eg0,1) })_{{164} {165} {166} {167}}$"
      ],
      "text/plain": [
       "<IPython.core.display.Math object>"
      ]
     },
     "metadata": {},
     "output_type": "display_data"
    },
    {
     "data": {
      "text/latex": [
       "$\\displaystyle -1.0 B(x_1,t_i,\\Gamma^{ (Eg0,2) })_{{164} {165} {166} {167}}B^*(x_0,t_i,t_f,\\Gamma^{ (Eg0,1) })_{{165} {164} {166} {167}}$"
      ],
      "text/plain": [
       "<IPython.core.display.Math object>"
      ]
     },
     "metadata": {},
     "output_type": "display_data"
    },
    {
     "data": {
      "text/latex": [
       "$\\displaystyle 1.0 B(x_1,t_i,\\Gamma^{ (Eg0,2) })_{{164} {165} {166} {167}}B^*(x_0,t_i,t_f,\\Gamma^{ (Eg0,1) })_{{165} {166} {164} {167}}$"
      ],
      "text/plain": [
       "<IPython.core.display.Math object>"
      ]
     },
     "metadata": {},
     "output_type": "display_data"
    },
    {
     "data": {
      "text/latex": [
       "$\\displaystyle -1.0 B(x_1,t_i,\\Gamma^{ (Eg0,2) })_{{164} {165} {166} {167}}B^*(x_0,t_i,t_f,\\Gamma^{ (Eg0,1) })_{{164} {166} {165} {167}}$"
      ],
      "text/plain": [
       "<IPython.core.display.Math object>"
      ]
     },
     "metadata": {},
     "output_type": "display_data"
    },
    {
     "data": {
      "text/latex": [
       "$\\displaystyle 1.0 B(x_1,t_i,\\Gamma^{ (Eg0,2) })_{{164} {165} {166} {167}}B^*(x_0,t_i,t_f,\\Gamma^{ (Eg0,1) })_{{166} {164} {165} {167}}$"
      ],
      "text/plain": [
       "<IPython.core.display.Math object>"
      ]
     },
     "metadata": {},
     "output_type": "display_data"
    },
    {
     "data": {
      "text/latex": [
       "$\\displaystyle -1.0 B(x_1,t_i,\\Gamma^{ (Eg0,2) })_{{164} {165} {166} {167}}B^*(x_0,t_i,t_f,\\Gamma^{ (Eg0,1) })_{{166} {165} {164} {167}}$"
      ],
      "text/plain": [
       "<IPython.core.display.Math object>"
      ]
     },
     "metadata": {},
     "output_type": "display_data"
    },
    {
     "data": {
      "text/latex": [
       "$\\displaystyle 1.0 B(x_1,t_i,\\Gamma^{ (Eg0,2) })_{{164} {165} {166} {167}}B^*(x_0,t_i,t_f,\\Gamma^{ (Eg0,1) })_{{166} {165} {167} {164}}$"
      ],
      "text/plain": [
       "<IPython.core.display.Math object>"
      ]
     },
     "metadata": {},
     "output_type": "display_data"
    },
    {
     "data": {
      "text/latex": [
       "$\\displaystyle -1.0 B(x_1,t_i,\\Gamma^{ (Eg0,2) })_{{164} {165} {166} {167}}B^*(x_0,t_i,t_f,\\Gamma^{ (Eg0,1) })_{{166} {164} {167} {165}}$"
      ],
      "text/plain": [
       "<IPython.core.display.Math object>"
      ]
     },
     "metadata": {},
     "output_type": "display_data"
    },
    {
     "data": {
      "text/latex": [
       "$\\displaystyle 1.0 B(x_1,t_i,\\Gamma^{ (Eg0,2) })_{{164} {165} {166} {167}}B^*(x_0,t_i,t_f,\\Gamma^{ (Eg0,1) })_{{164} {166} {167} {165}}$"
      ],
      "text/plain": [
       "<IPython.core.display.Math object>"
      ]
     },
     "metadata": {},
     "output_type": "display_data"
    },
    {
     "data": {
      "text/latex": [
       "$\\displaystyle -1.0 B(x_1,t_i,\\Gamma^{ (Eg0,2) })_{{164} {165} {166} {167}}B^*(x_0,t_i,t_f,\\Gamma^{ (Eg0,1) })_{{165} {166} {167} {164}}$"
      ],
      "text/plain": [
       "<IPython.core.display.Math object>"
      ]
     },
     "metadata": {},
     "output_type": "display_data"
    },
    {
     "data": {
      "text/latex": [
       "$\\displaystyle 1.0 B(x_1,t_i,\\Gamma^{ (Eg0,2) })_{{164} {165} {166} {167}}B^*(x_0,t_i,t_f,\\Gamma^{ (Eg0,1) })_{{165} {164} {167} {166}}$"
      ],
      "text/plain": [
       "<IPython.core.display.Math object>"
      ]
     },
     "metadata": {},
     "output_type": "display_data"
    },
    {
     "data": {
      "text/latex": [
       "$\\displaystyle -1.0 B(x_1,t_i,\\Gamma^{ (Eg0,2) })_{{164} {165} {166} {167}}B^*(x_0,t_i,t_f,\\Gamma^{ (Eg0,1) })_{{164} {165} {167} {166}}$"
      ],
      "text/plain": [
       "<IPython.core.display.Math object>"
      ]
     },
     "metadata": {},
     "output_type": "display_data"
    },
    {
     "data": {
      "text/latex": [
       "$\\displaystyle 1.0 B(x_1,t_i,\\Gamma^{ (Eg0,2) })_{{164} {165} {166} {167}}B^*(x_0,t_i,t_f,\\Gamma^{ (Eg0,1) })_{{164} {167} {165} {166}}$"
      ],
      "text/plain": [
       "<IPython.core.display.Math object>"
      ]
     },
     "metadata": {},
     "output_type": "display_data"
    },
    {
     "data": {
      "text/latex": [
       "$\\displaystyle -1.0 B(x_1,t_i,\\Gamma^{ (Eg0,2) })_{{164} {165} {166} {167}}B^*(x_0,t_i,t_f,\\Gamma^{ (Eg0,1) })_{{165} {167} {164} {166}}$"
      ],
      "text/plain": [
       "<IPython.core.display.Math object>"
      ]
     },
     "metadata": {},
     "output_type": "display_data"
    },
    {
     "data": {
      "text/latex": [
       "$\\displaystyle 1.0 B(x_1,t_i,\\Gamma^{ (Eg0,2) })_{{164} {165} {166} {167}}B^*(x_0,t_i,t_f,\\Gamma^{ (Eg0,1) })_{{165} {167} {166} {164}}$"
      ],
      "text/plain": [
       "<IPython.core.display.Math object>"
      ]
     },
     "metadata": {},
     "output_type": "display_data"
    },
    {
     "data": {
      "text/latex": [
       "$\\displaystyle -1.0 B(x_1,t_i,\\Gamma^{ (Eg0,2) })_{{164} {165} {166} {167}}B^*(x_0,t_i,t_f,\\Gamma^{ (Eg0,1) })_{{164} {167} {166} {165}}$"
      ],
      "text/plain": [
       "<IPython.core.display.Math object>"
      ]
     },
     "metadata": {},
     "output_type": "display_data"
    },
    {
     "data": {
      "text/latex": [
       "$\\displaystyle 1.0 B(x_1,t_i,\\Gamma^{ (Eg0,2) })_{{164} {165} {166} {167}}B^*(x_0,t_i,t_f,\\Gamma^{ (Eg0,1) })_{{166} {167} {164} {165}}$"
      ],
      "text/plain": [
       "<IPython.core.display.Math object>"
      ]
     },
     "metadata": {},
     "output_type": "display_data"
    },
    {
     "data": {
      "text/latex": [
       "$\\displaystyle -1.0 B(x_1,t_i,\\Gamma^{ (Eg0,2) })_{{164} {165} {166} {167}}B^*(x_0,t_i,t_f,\\Gamma^{ (Eg0,1) })_{{166} {167} {165} {164}}$"
      ],
      "text/plain": [
       "<IPython.core.display.Math object>"
      ]
     },
     "metadata": {},
     "output_type": "display_data"
    },
    {
     "data": {
      "text/latex": [
       "$\\displaystyle 1.0 B(x_1,t_i,\\Gamma^{ (Eg0,2) })_{{164} {165} {166} {167}}B^*(x_0,t_i,t_f,\\Gamma^{ (Eg0,1) })_{{167} {166} {165} {164}}$"
      ],
      "text/plain": [
       "<IPython.core.display.Math object>"
      ]
     },
     "metadata": {},
     "output_type": "display_data"
    },
    {
     "data": {
      "text/latex": [
       "$\\displaystyle -1.0 B(x_1,t_i,\\Gamma^{ (Eg0,2) })_{{164} {165} {166} {167}}B^*(x_0,t_i,t_f,\\Gamma^{ (Eg0,1) })_{{167} {166} {164} {165}}$"
      ],
      "text/plain": [
       "<IPython.core.display.Math object>"
      ]
     },
     "metadata": {},
     "output_type": "display_data"
    },
    {
     "data": {
      "text/latex": [
       "$\\displaystyle 1.0 B(x_1,t_i,\\Gamma^{ (Eg0,2) })_{{164} {165} {166} {167}}B^*(x_0,t_i,t_f,\\Gamma^{ (Eg0,1) })_{{167} {164} {166} {165}}$"
      ],
      "text/plain": [
       "<IPython.core.display.Math object>"
      ]
     },
     "metadata": {},
     "output_type": "display_data"
    },
    {
     "data": {
      "text/latex": [
       "$\\displaystyle -1.0 B(x_1,t_i,\\Gamma^{ (Eg0,2) })_{{164} {165} {166} {167}}B^*(x_0,t_i,t_f,\\Gamma^{ (Eg0,1) })_{{167} {165} {166} {164}}$"
      ],
      "text/plain": [
       "<IPython.core.display.Math object>"
      ]
     },
     "metadata": {},
     "output_type": "display_data"
    },
    {
     "data": {
      "text/latex": [
       "$\\displaystyle 1.0 B(x_1,t_i,\\Gamma^{ (Eg0,2) })_{{164} {165} {166} {167}}B^*(x_0,t_i,t_f,\\Gamma^{ (Eg0,1) })_{{167} {165} {164} {166}}$"
      ],
      "text/plain": [
       "<IPython.core.display.Math object>"
      ]
     },
     "metadata": {},
     "output_type": "display_data"
    },
    {
     "data": {
      "text/latex": [
       "$\\displaystyle -1.0 B(x_1,t_i,\\Gamma^{ (Eg0,2) })_{{164} {165} {166} {167}}B^*(x_0,t_i,t_f,\\Gamma^{ (Eg0,1) })_{{167} {164} {165} {166}}$"
      ],
      "text/plain": [
       "<IPython.core.display.Math object>"
      ]
     },
     "metadata": {},
     "output_type": "display_data"
    },
    {
     "data": {
      "text/latex": [
       "$\\displaystyle 1.0 B(x_1,t_i,\\Gamma^{ (Eg1,0) })_{{172} {173} {174} {175}}B^*(x_0,t_i,t_f,\\Gamma^{ (Eg0,1) })_{{172} {173} {174} {175}}$"
      ],
      "text/plain": [
       "<IPython.core.display.Math object>"
      ]
     },
     "metadata": {},
     "output_type": "display_data"
    },
    {
     "data": {
      "text/latex": [
       "$\\displaystyle -1.0 B(x_1,t_i,\\Gamma^{ (Eg1,0) })_{{172} {173} {174} {175}}B^*(x_0,t_i,t_f,\\Gamma^{ (Eg0,1) })_{{173} {172} {174} {175}}$"
      ],
      "text/plain": [
       "<IPython.core.display.Math object>"
      ]
     },
     "metadata": {},
     "output_type": "display_data"
    },
    {
     "data": {
      "text/latex": [
       "$\\displaystyle 1.0 B(x_1,t_i,\\Gamma^{ (Eg1,0) })_{{172} {173} {174} {175}}B^*(x_0,t_i,t_f,\\Gamma^{ (Eg0,1) })_{{173} {174} {172} {175}}$"
      ],
      "text/plain": [
       "<IPython.core.display.Math object>"
      ]
     },
     "metadata": {},
     "output_type": "display_data"
    },
    {
     "data": {
      "text/latex": [
       "$\\displaystyle -1.0 B(x_1,t_i,\\Gamma^{ (Eg1,0) })_{{172} {173} {174} {175}}B^*(x_0,t_i,t_f,\\Gamma^{ (Eg0,1) })_{{172} {174} {173} {175}}$"
      ],
      "text/plain": [
       "<IPython.core.display.Math object>"
      ]
     },
     "metadata": {},
     "output_type": "display_data"
    },
    {
     "data": {
      "text/latex": [
       "$\\displaystyle 1.0 B(x_1,t_i,\\Gamma^{ (Eg1,0) })_{{172} {173} {174} {175}}B^*(x_0,t_i,t_f,\\Gamma^{ (Eg0,1) })_{{174} {172} {173} {175}}$"
      ],
      "text/plain": [
       "<IPython.core.display.Math object>"
      ]
     },
     "metadata": {},
     "output_type": "display_data"
    },
    {
     "data": {
      "text/latex": [
       "$\\displaystyle -1.0 B(x_1,t_i,\\Gamma^{ (Eg1,0) })_{{172} {173} {174} {175}}B^*(x_0,t_i,t_f,\\Gamma^{ (Eg0,1) })_{{174} {173} {172} {175}}$"
      ],
      "text/plain": [
       "<IPython.core.display.Math object>"
      ]
     },
     "metadata": {},
     "output_type": "display_data"
    },
    {
     "data": {
      "text/latex": [
       "$\\displaystyle 1.0 B(x_1,t_i,\\Gamma^{ (Eg1,0) })_{{172} {173} {174} {175}}B^*(x_0,t_i,t_f,\\Gamma^{ (Eg0,1) })_{{174} {173} {175} {172}}$"
      ],
      "text/plain": [
       "<IPython.core.display.Math object>"
      ]
     },
     "metadata": {},
     "output_type": "display_data"
    },
    {
     "data": {
      "text/latex": [
       "$\\displaystyle -1.0 B(x_1,t_i,\\Gamma^{ (Eg1,0) })_{{172} {173} {174} {175}}B^*(x_0,t_i,t_f,\\Gamma^{ (Eg0,1) })_{{174} {172} {175} {173}}$"
      ],
      "text/plain": [
       "<IPython.core.display.Math object>"
      ]
     },
     "metadata": {},
     "output_type": "display_data"
    },
    {
     "data": {
      "text/latex": [
       "$\\displaystyle 1.0 B(x_1,t_i,\\Gamma^{ (Eg1,0) })_{{172} {173} {174} {175}}B^*(x_0,t_i,t_f,\\Gamma^{ (Eg0,1) })_{{172} {174} {175} {173}}$"
      ],
      "text/plain": [
       "<IPython.core.display.Math object>"
      ]
     },
     "metadata": {},
     "output_type": "display_data"
    },
    {
     "data": {
      "text/latex": [
       "$\\displaystyle -1.0 B(x_1,t_i,\\Gamma^{ (Eg1,0) })_{{172} {173} {174} {175}}B^*(x_0,t_i,t_f,\\Gamma^{ (Eg0,1) })_{{173} {174} {175} {172}}$"
      ],
      "text/plain": [
       "<IPython.core.display.Math object>"
      ]
     },
     "metadata": {},
     "output_type": "display_data"
    },
    {
     "data": {
      "text/latex": [
       "$\\displaystyle 1.0 B(x_1,t_i,\\Gamma^{ (Eg1,0) })_{{172} {173} {174} {175}}B^*(x_0,t_i,t_f,\\Gamma^{ (Eg0,1) })_{{173} {172} {175} {174}}$"
      ],
      "text/plain": [
       "<IPython.core.display.Math object>"
      ]
     },
     "metadata": {},
     "output_type": "display_data"
    },
    {
     "data": {
      "text/latex": [
       "$\\displaystyle -1.0 B(x_1,t_i,\\Gamma^{ (Eg1,0) })_{{172} {173} {174} {175}}B^*(x_0,t_i,t_f,\\Gamma^{ (Eg0,1) })_{{172} {173} {175} {174}}$"
      ],
      "text/plain": [
       "<IPython.core.display.Math object>"
      ]
     },
     "metadata": {},
     "output_type": "display_data"
    },
    {
     "data": {
      "text/latex": [
       "$\\displaystyle 1.0 B(x_1,t_i,\\Gamma^{ (Eg1,0) })_{{172} {173} {174} {175}}B^*(x_0,t_i,t_f,\\Gamma^{ (Eg0,1) })_{{172} {175} {173} {174}}$"
      ],
      "text/plain": [
       "<IPython.core.display.Math object>"
      ]
     },
     "metadata": {},
     "output_type": "display_data"
    },
    {
     "data": {
      "text/latex": [
       "$\\displaystyle -1.0 B(x_1,t_i,\\Gamma^{ (Eg1,0) })_{{172} {173} {174} {175}}B^*(x_0,t_i,t_f,\\Gamma^{ (Eg0,1) })_{{173} {175} {172} {174}}$"
      ],
      "text/plain": [
       "<IPython.core.display.Math object>"
      ]
     },
     "metadata": {},
     "output_type": "display_data"
    },
    {
     "data": {
      "text/latex": [
       "$\\displaystyle 1.0 B(x_1,t_i,\\Gamma^{ (Eg1,0) })_{{172} {173} {174} {175}}B^*(x_0,t_i,t_f,\\Gamma^{ (Eg0,1) })_{{173} {175} {174} {172}}$"
      ],
      "text/plain": [
       "<IPython.core.display.Math object>"
      ]
     },
     "metadata": {},
     "output_type": "display_data"
    },
    {
     "data": {
      "text/latex": [
       "$\\displaystyle -1.0 B(x_1,t_i,\\Gamma^{ (Eg1,0) })_{{172} {173} {174} {175}}B^*(x_0,t_i,t_f,\\Gamma^{ (Eg0,1) })_{{172} {175} {174} {173}}$"
      ],
      "text/plain": [
       "<IPython.core.display.Math object>"
      ]
     },
     "metadata": {},
     "output_type": "display_data"
    },
    {
     "data": {
      "text/latex": [
       "$\\displaystyle 1.0 B(x_1,t_i,\\Gamma^{ (Eg1,0) })_{{172} {173} {174} {175}}B^*(x_0,t_i,t_f,\\Gamma^{ (Eg0,1) })_{{174} {175} {172} {173}}$"
      ],
      "text/plain": [
       "<IPython.core.display.Math object>"
      ]
     },
     "metadata": {},
     "output_type": "display_data"
    },
    {
     "data": {
      "text/latex": [
       "$\\displaystyle -1.0 B(x_1,t_i,\\Gamma^{ (Eg1,0) })_{{172} {173} {174} {175}}B^*(x_0,t_i,t_f,\\Gamma^{ (Eg0,1) })_{{174} {175} {173} {172}}$"
      ],
      "text/plain": [
       "<IPython.core.display.Math object>"
      ]
     },
     "metadata": {},
     "output_type": "display_data"
    },
    {
     "data": {
      "text/latex": [
       "$\\displaystyle 1.0 B(x_1,t_i,\\Gamma^{ (Eg1,0) })_{{172} {173} {174} {175}}B^*(x_0,t_i,t_f,\\Gamma^{ (Eg0,1) })_{{175} {174} {173} {172}}$"
      ],
      "text/plain": [
       "<IPython.core.display.Math object>"
      ]
     },
     "metadata": {},
     "output_type": "display_data"
    },
    {
     "data": {
      "text/latex": [
       "$\\displaystyle -1.0 B(x_1,t_i,\\Gamma^{ (Eg1,0) })_{{172} {173} {174} {175}}B^*(x_0,t_i,t_f,\\Gamma^{ (Eg0,1) })_{{175} {174} {172} {173}}$"
      ],
      "text/plain": [
       "<IPython.core.display.Math object>"
      ]
     },
     "metadata": {},
     "output_type": "display_data"
    },
    {
     "data": {
      "text/latex": [
       "$\\displaystyle 1.0 B(x_1,t_i,\\Gamma^{ (Eg1,0) })_{{172} {173} {174} {175}}B^*(x_0,t_i,t_f,\\Gamma^{ (Eg0,1) })_{{175} {172} {174} {173}}$"
      ],
      "text/plain": [
       "<IPython.core.display.Math object>"
      ]
     },
     "metadata": {},
     "output_type": "display_data"
    },
    {
     "data": {
      "text/latex": [
       "$\\displaystyle -1.0 B(x_1,t_i,\\Gamma^{ (Eg1,0) })_{{172} {173} {174} {175}}B^*(x_0,t_i,t_f,\\Gamma^{ (Eg0,1) })_{{175} {173} {174} {172}}$"
      ],
      "text/plain": [
       "<IPython.core.display.Math object>"
      ]
     },
     "metadata": {},
     "output_type": "display_data"
    },
    {
     "data": {
      "text/latex": [
       "$\\displaystyle 1.0 B(x_1,t_i,\\Gamma^{ (Eg1,0) })_{{172} {173} {174} {175}}B^*(x_0,t_i,t_f,\\Gamma^{ (Eg0,1) })_{{175} {173} {172} {174}}$"
      ],
      "text/plain": [
       "<IPython.core.display.Math object>"
      ]
     },
     "metadata": {},
     "output_type": "display_data"
    },
    {
     "data": {
      "text/latex": [
       "$\\displaystyle -1.0 B(x_1,t_i,\\Gamma^{ (Eg1,0) })_{{172} {173} {174} {175}}B^*(x_0,t_i,t_f,\\Gamma^{ (Eg0,1) })_{{175} {172} {173} {174}}$"
      ],
      "text/plain": [
       "<IPython.core.display.Math object>"
      ]
     },
     "metadata": {},
     "output_type": "display_data"
    },
    {
     "data": {
      "text/latex": [
       "$\\displaystyle 1.0 B(x_1,t_i,\\Gamma^{ (Eg1,1) })_{{180} {181} {182} {183}}B^*(x_0,t_i,t_f,\\Gamma^{ (Eg0,1) })_{{180} {181} {182} {183}}$"
      ],
      "text/plain": [
       "<IPython.core.display.Math object>"
      ]
     },
     "metadata": {},
     "output_type": "display_data"
    },
    {
     "data": {
      "text/latex": [
       "$\\displaystyle -1.0 B(x_1,t_i,\\Gamma^{ (Eg1,1) })_{{180} {181} {182} {183}}B^*(x_0,t_i,t_f,\\Gamma^{ (Eg0,1) })_{{181} {180} {182} {183}}$"
      ],
      "text/plain": [
       "<IPython.core.display.Math object>"
      ]
     },
     "metadata": {},
     "output_type": "display_data"
    },
    {
     "data": {
      "text/latex": [
       "$\\displaystyle 1.0 B(x_1,t_i,\\Gamma^{ (Eg1,1) })_{{180} {181} {182} {183}}B^*(x_0,t_i,t_f,\\Gamma^{ (Eg0,1) })_{{181} {182} {180} {183}}$"
      ],
      "text/plain": [
       "<IPython.core.display.Math object>"
      ]
     },
     "metadata": {},
     "output_type": "display_data"
    },
    {
     "data": {
      "text/latex": [
       "$\\displaystyle -1.0 B(x_1,t_i,\\Gamma^{ (Eg1,1) })_{{180} {181} {182} {183}}B^*(x_0,t_i,t_f,\\Gamma^{ (Eg0,1) })_{{180} {182} {181} {183}}$"
      ],
      "text/plain": [
       "<IPython.core.display.Math object>"
      ]
     },
     "metadata": {},
     "output_type": "display_data"
    },
    {
     "data": {
      "text/latex": [
       "$\\displaystyle 1.0 B(x_1,t_i,\\Gamma^{ (Eg1,1) })_{{180} {181} {182} {183}}B^*(x_0,t_i,t_f,\\Gamma^{ (Eg0,1) })_{{182} {180} {181} {183}}$"
      ],
      "text/plain": [
       "<IPython.core.display.Math object>"
      ]
     },
     "metadata": {},
     "output_type": "display_data"
    },
    {
     "data": {
      "text/latex": [
       "$\\displaystyle -1.0 B(x_1,t_i,\\Gamma^{ (Eg1,1) })_{{180} {181} {182} {183}}B^*(x_0,t_i,t_f,\\Gamma^{ (Eg0,1) })_{{182} {181} {180} {183}}$"
      ],
      "text/plain": [
       "<IPython.core.display.Math object>"
      ]
     },
     "metadata": {},
     "output_type": "display_data"
    },
    {
     "data": {
      "text/latex": [
       "$\\displaystyle 1.0 B(x_1,t_i,\\Gamma^{ (Eg1,1) })_{{180} {181} {182} {183}}B^*(x_0,t_i,t_f,\\Gamma^{ (Eg0,1) })_{{182} {181} {183} {180}}$"
      ],
      "text/plain": [
       "<IPython.core.display.Math object>"
      ]
     },
     "metadata": {},
     "output_type": "display_data"
    },
    {
     "data": {
      "text/latex": [
       "$\\displaystyle -1.0 B(x_1,t_i,\\Gamma^{ (Eg1,1) })_{{180} {181} {182} {183}}B^*(x_0,t_i,t_f,\\Gamma^{ (Eg0,1) })_{{182} {180} {183} {181}}$"
      ],
      "text/plain": [
       "<IPython.core.display.Math object>"
      ]
     },
     "metadata": {},
     "output_type": "display_data"
    },
    {
     "data": {
      "text/latex": [
       "$\\displaystyle 1.0 B(x_1,t_i,\\Gamma^{ (Eg1,1) })_{{180} {181} {182} {183}}B^*(x_0,t_i,t_f,\\Gamma^{ (Eg0,1) })_{{180} {182} {183} {181}}$"
      ],
      "text/plain": [
       "<IPython.core.display.Math object>"
      ]
     },
     "metadata": {},
     "output_type": "display_data"
    },
    {
     "data": {
      "text/latex": [
       "$\\displaystyle -1.0 B(x_1,t_i,\\Gamma^{ (Eg1,1) })_{{180} {181} {182} {183}}B^*(x_0,t_i,t_f,\\Gamma^{ (Eg0,1) })_{{181} {182} {183} {180}}$"
      ],
      "text/plain": [
       "<IPython.core.display.Math object>"
      ]
     },
     "metadata": {},
     "output_type": "display_data"
    },
    {
     "data": {
      "text/latex": [
       "$\\displaystyle 1.0 B(x_1,t_i,\\Gamma^{ (Eg1,1) })_{{180} {181} {182} {183}}B^*(x_0,t_i,t_f,\\Gamma^{ (Eg0,1) })_{{181} {180} {183} {182}}$"
      ],
      "text/plain": [
       "<IPython.core.display.Math object>"
      ]
     },
     "metadata": {},
     "output_type": "display_data"
    },
    {
     "data": {
      "text/latex": [
       "$\\displaystyle -1.0 B(x_1,t_i,\\Gamma^{ (Eg1,1) })_{{180} {181} {182} {183}}B^*(x_0,t_i,t_f,\\Gamma^{ (Eg0,1) })_{{180} {181} {183} {182}}$"
      ],
      "text/plain": [
       "<IPython.core.display.Math object>"
      ]
     },
     "metadata": {},
     "output_type": "display_data"
    },
    {
     "data": {
      "text/latex": [
       "$\\displaystyle 1.0 B(x_1,t_i,\\Gamma^{ (Eg1,1) })_{{180} {181} {182} {183}}B^*(x_0,t_i,t_f,\\Gamma^{ (Eg0,1) })_{{180} {183} {181} {182}}$"
      ],
      "text/plain": [
       "<IPython.core.display.Math object>"
      ]
     },
     "metadata": {},
     "output_type": "display_data"
    },
    {
     "data": {
      "text/latex": [
       "$\\displaystyle -1.0 B(x_1,t_i,\\Gamma^{ (Eg1,1) })_{{180} {181} {182} {183}}B^*(x_0,t_i,t_f,\\Gamma^{ (Eg0,1) })_{{181} {183} {180} {182}}$"
      ],
      "text/plain": [
       "<IPython.core.display.Math object>"
      ]
     },
     "metadata": {},
     "output_type": "display_data"
    },
    {
     "data": {
      "text/latex": [
       "$\\displaystyle 1.0 B(x_1,t_i,\\Gamma^{ (Eg1,1) })_{{180} {181} {182} {183}}B^*(x_0,t_i,t_f,\\Gamma^{ (Eg0,1) })_{{181} {183} {182} {180}}$"
      ],
      "text/plain": [
       "<IPython.core.display.Math object>"
      ]
     },
     "metadata": {},
     "output_type": "display_data"
    },
    {
     "data": {
      "text/latex": [
       "$\\displaystyle -1.0 B(x_1,t_i,\\Gamma^{ (Eg1,1) })_{{180} {181} {182} {183}}B^*(x_0,t_i,t_f,\\Gamma^{ (Eg0,1) })_{{180} {183} {182} {181}}$"
      ],
      "text/plain": [
       "<IPython.core.display.Math object>"
      ]
     },
     "metadata": {},
     "output_type": "display_data"
    },
    {
     "data": {
      "text/latex": [
       "$\\displaystyle 1.0 B(x_1,t_i,\\Gamma^{ (Eg1,1) })_{{180} {181} {182} {183}}B^*(x_0,t_i,t_f,\\Gamma^{ (Eg0,1) })_{{182} {183} {180} {181}}$"
      ],
      "text/plain": [
       "<IPython.core.display.Math object>"
      ]
     },
     "metadata": {},
     "output_type": "display_data"
    },
    {
     "data": {
      "text/latex": [
       "$\\displaystyle -1.0 B(x_1,t_i,\\Gamma^{ (Eg1,1) })_{{180} {181} {182} {183}}B^*(x_0,t_i,t_f,\\Gamma^{ (Eg0,1) })_{{182} {183} {181} {180}}$"
      ],
      "text/plain": [
       "<IPython.core.display.Math object>"
      ]
     },
     "metadata": {},
     "output_type": "display_data"
    },
    {
     "data": {
      "text/latex": [
       "$\\displaystyle 1.0 B(x_1,t_i,\\Gamma^{ (Eg1,1) })_{{180} {181} {182} {183}}B^*(x_0,t_i,t_f,\\Gamma^{ (Eg0,1) })_{{183} {182} {181} {180}}$"
      ],
      "text/plain": [
       "<IPython.core.display.Math object>"
      ]
     },
     "metadata": {},
     "output_type": "display_data"
    },
    {
     "data": {
      "text/latex": [
       "$\\displaystyle -1.0 B(x_1,t_i,\\Gamma^{ (Eg1,1) })_{{180} {181} {182} {183}}B^*(x_0,t_i,t_f,\\Gamma^{ (Eg0,1) })_{{183} {182} {180} {181}}$"
      ],
      "text/plain": [
       "<IPython.core.display.Math object>"
      ]
     },
     "metadata": {},
     "output_type": "display_data"
    },
    {
     "data": {
      "text/latex": [
       "$\\displaystyle 1.0 B(x_1,t_i,\\Gamma^{ (Eg1,1) })_{{180} {181} {182} {183}}B^*(x_0,t_i,t_f,\\Gamma^{ (Eg0,1) })_{{183} {180} {182} {181}}$"
      ],
      "text/plain": [
       "<IPython.core.display.Math object>"
      ]
     },
     "metadata": {},
     "output_type": "display_data"
    },
    {
     "data": {
      "text/latex": [
       "$\\displaystyle -1.0 B(x_1,t_i,\\Gamma^{ (Eg1,1) })_{{180} {181} {182} {183}}B^*(x_0,t_i,t_f,\\Gamma^{ (Eg0,1) })_{{183} {181} {182} {180}}$"
      ],
      "text/plain": [
       "<IPython.core.display.Math object>"
      ]
     },
     "metadata": {},
     "output_type": "display_data"
    },
    {
     "data": {
      "text/latex": [
       "$\\displaystyle 1.0 B(x_1,t_i,\\Gamma^{ (Eg1,1) })_{{180} {181} {182} {183}}B^*(x_0,t_i,t_f,\\Gamma^{ (Eg0,1) })_{{183} {181} {180} {182}}$"
      ],
      "text/plain": [
       "<IPython.core.display.Math object>"
      ]
     },
     "metadata": {},
     "output_type": "display_data"
    },
    {
     "data": {
      "text/latex": [
       "$\\displaystyle -1.0 B(x_1,t_i,\\Gamma^{ (Eg1,1) })_{{180} {181} {182} {183}}B^*(x_0,t_i,t_f,\\Gamma^{ (Eg0,1) })_{{183} {180} {181} {182}}$"
      ],
      "text/plain": [
       "<IPython.core.display.Math object>"
      ]
     },
     "metadata": {},
     "output_type": "display_data"
    },
    {
     "data": {
      "text/latex": [
       "$\\displaystyle 1.0 B(x_1,t_i,\\Gamma^{ (Eg1,2) })_{{188} {189} {190} {191}}B^*(x_0,t_i,t_f,\\Gamma^{ (Eg0,1) })_{{188} {189} {190} {191}}$"
      ],
      "text/plain": [
       "<IPython.core.display.Math object>"
      ]
     },
     "metadata": {},
     "output_type": "display_data"
    },
    {
     "data": {
      "text/latex": [
       "$\\displaystyle -1.0 B(x_1,t_i,\\Gamma^{ (Eg1,2) })_{{188} {189} {190} {191}}B^*(x_0,t_i,t_f,\\Gamma^{ (Eg0,1) })_{{189} {188} {190} {191}}$"
      ],
      "text/plain": [
       "<IPython.core.display.Math object>"
      ]
     },
     "metadata": {},
     "output_type": "display_data"
    },
    {
     "data": {
      "text/latex": [
       "$\\displaystyle 1.0 B(x_1,t_i,\\Gamma^{ (Eg1,2) })_{{188} {189} {190} {191}}B^*(x_0,t_i,t_f,\\Gamma^{ (Eg0,1) })_{{189} {190} {188} {191}}$"
      ],
      "text/plain": [
       "<IPython.core.display.Math object>"
      ]
     },
     "metadata": {},
     "output_type": "display_data"
    },
    {
     "data": {
      "text/latex": [
       "$\\displaystyle -1.0 B(x_1,t_i,\\Gamma^{ (Eg1,2) })_{{188} {189} {190} {191}}B^*(x_0,t_i,t_f,\\Gamma^{ (Eg0,1) })_{{188} {190} {189} {191}}$"
      ],
      "text/plain": [
       "<IPython.core.display.Math object>"
      ]
     },
     "metadata": {},
     "output_type": "display_data"
    },
    {
     "data": {
      "text/latex": [
       "$\\displaystyle 1.0 B(x_1,t_i,\\Gamma^{ (Eg1,2) })_{{188} {189} {190} {191}}B^*(x_0,t_i,t_f,\\Gamma^{ (Eg0,1) })_{{190} {188} {189} {191}}$"
      ],
      "text/plain": [
       "<IPython.core.display.Math object>"
      ]
     },
     "metadata": {},
     "output_type": "display_data"
    },
    {
     "data": {
      "text/latex": [
       "$\\displaystyle -1.0 B(x_1,t_i,\\Gamma^{ (Eg1,2) })_{{188} {189} {190} {191}}B^*(x_0,t_i,t_f,\\Gamma^{ (Eg0,1) })_{{190} {189} {188} {191}}$"
      ],
      "text/plain": [
       "<IPython.core.display.Math object>"
      ]
     },
     "metadata": {},
     "output_type": "display_data"
    },
    {
     "data": {
      "text/latex": [
       "$\\displaystyle 1.0 B(x_1,t_i,\\Gamma^{ (Eg1,2) })_{{188} {189} {190} {191}}B^*(x_0,t_i,t_f,\\Gamma^{ (Eg0,1) })_{{190} {189} {191} {188}}$"
      ],
      "text/plain": [
       "<IPython.core.display.Math object>"
      ]
     },
     "metadata": {},
     "output_type": "display_data"
    },
    {
     "data": {
      "text/latex": [
       "$\\displaystyle -1.0 B(x_1,t_i,\\Gamma^{ (Eg1,2) })_{{188} {189} {190} {191}}B^*(x_0,t_i,t_f,\\Gamma^{ (Eg0,1) })_{{190} {188} {191} {189}}$"
      ],
      "text/plain": [
       "<IPython.core.display.Math object>"
      ]
     },
     "metadata": {},
     "output_type": "display_data"
    },
    {
     "data": {
      "text/latex": [
       "$\\displaystyle 1.0 B(x_1,t_i,\\Gamma^{ (Eg1,2) })_{{188} {189} {190} {191}}B^*(x_0,t_i,t_f,\\Gamma^{ (Eg0,1) })_{{188} {190} {191} {189}}$"
      ],
      "text/plain": [
       "<IPython.core.display.Math object>"
      ]
     },
     "metadata": {},
     "output_type": "display_data"
    },
    {
     "data": {
      "text/latex": [
       "$\\displaystyle -1.0 B(x_1,t_i,\\Gamma^{ (Eg1,2) })_{{188} {189} {190} {191}}B^*(x_0,t_i,t_f,\\Gamma^{ (Eg0,1) })_{{189} {190} {191} {188}}$"
      ],
      "text/plain": [
       "<IPython.core.display.Math object>"
      ]
     },
     "metadata": {},
     "output_type": "display_data"
    },
    {
     "data": {
      "text/latex": [
       "$\\displaystyle 1.0 B(x_1,t_i,\\Gamma^{ (Eg1,2) })_{{188} {189} {190} {191}}B^*(x_0,t_i,t_f,\\Gamma^{ (Eg0,1) })_{{189} {188} {191} {190}}$"
      ],
      "text/plain": [
       "<IPython.core.display.Math object>"
      ]
     },
     "metadata": {},
     "output_type": "display_data"
    },
    {
     "data": {
      "text/latex": [
       "$\\displaystyle -1.0 B(x_1,t_i,\\Gamma^{ (Eg1,2) })_{{188} {189} {190} {191}}B^*(x_0,t_i,t_f,\\Gamma^{ (Eg0,1) })_{{188} {189} {191} {190}}$"
      ],
      "text/plain": [
       "<IPython.core.display.Math object>"
      ]
     },
     "metadata": {},
     "output_type": "display_data"
    },
    {
     "data": {
      "text/latex": [
       "$\\displaystyle 1.0 B(x_1,t_i,\\Gamma^{ (Eg1,2) })_{{188} {189} {190} {191}}B^*(x_0,t_i,t_f,\\Gamma^{ (Eg0,1) })_{{188} {191} {189} {190}}$"
      ],
      "text/plain": [
       "<IPython.core.display.Math object>"
      ]
     },
     "metadata": {},
     "output_type": "display_data"
    },
    {
     "data": {
      "text/latex": [
       "$\\displaystyle -1.0 B(x_1,t_i,\\Gamma^{ (Eg1,2) })_{{188} {189} {190} {191}}B^*(x_0,t_i,t_f,\\Gamma^{ (Eg0,1) })_{{189} {191} {188} {190}}$"
      ],
      "text/plain": [
       "<IPython.core.display.Math object>"
      ]
     },
     "metadata": {},
     "output_type": "display_data"
    },
    {
     "data": {
      "text/latex": [
       "$\\displaystyle 1.0 B(x_1,t_i,\\Gamma^{ (Eg1,2) })_{{188} {189} {190} {191}}B^*(x_0,t_i,t_f,\\Gamma^{ (Eg0,1) })_{{189} {191} {190} {188}}$"
      ],
      "text/plain": [
       "<IPython.core.display.Math object>"
      ]
     },
     "metadata": {},
     "output_type": "display_data"
    },
    {
     "data": {
      "text/latex": [
       "$\\displaystyle -1.0 B(x_1,t_i,\\Gamma^{ (Eg1,2) })_{{188} {189} {190} {191}}B^*(x_0,t_i,t_f,\\Gamma^{ (Eg0,1) })_{{188} {191} {190} {189}}$"
      ],
      "text/plain": [
       "<IPython.core.display.Math object>"
      ]
     },
     "metadata": {},
     "output_type": "display_data"
    },
    {
     "data": {
      "text/latex": [
       "$\\displaystyle 1.0 B(x_1,t_i,\\Gamma^{ (Eg1,2) })_{{188} {189} {190} {191}}B^*(x_0,t_i,t_f,\\Gamma^{ (Eg0,1) })_{{190} {191} {188} {189}}$"
      ],
      "text/plain": [
       "<IPython.core.display.Math object>"
      ]
     },
     "metadata": {},
     "output_type": "display_data"
    },
    {
     "data": {
      "text/latex": [
       "$\\displaystyle -1.0 B(x_1,t_i,\\Gamma^{ (Eg1,2) })_{{188} {189} {190} {191}}B^*(x_0,t_i,t_f,\\Gamma^{ (Eg0,1) })_{{190} {191} {189} {188}}$"
      ],
      "text/plain": [
       "<IPython.core.display.Math object>"
      ]
     },
     "metadata": {},
     "output_type": "display_data"
    },
    {
     "data": {
      "text/latex": [
       "$\\displaystyle 1.0 B(x_1,t_i,\\Gamma^{ (Eg1,2) })_{{188} {189} {190} {191}}B^*(x_0,t_i,t_f,\\Gamma^{ (Eg0,1) })_{{191} {190} {189} {188}}$"
      ],
      "text/plain": [
       "<IPython.core.display.Math object>"
      ]
     },
     "metadata": {},
     "output_type": "display_data"
    },
    {
     "data": {
      "text/latex": [
       "$\\displaystyle -1.0 B(x_1,t_i,\\Gamma^{ (Eg1,2) })_{{188} {189} {190} {191}}B^*(x_0,t_i,t_f,\\Gamma^{ (Eg0,1) })_{{191} {190} {188} {189}}$"
      ],
      "text/plain": [
       "<IPython.core.display.Math object>"
      ]
     },
     "metadata": {},
     "output_type": "display_data"
    },
    {
     "data": {
      "text/latex": [
       "$\\displaystyle 1.0 B(x_1,t_i,\\Gamma^{ (Eg1,2) })_{{188} {189} {190} {191}}B^*(x_0,t_i,t_f,\\Gamma^{ (Eg0,1) })_{{191} {188} {190} {189}}$"
      ],
      "text/plain": [
       "<IPython.core.display.Math object>"
      ]
     },
     "metadata": {},
     "output_type": "display_data"
    },
    {
     "data": {
      "text/latex": [
       "$\\displaystyle -1.0 B(x_1,t_i,\\Gamma^{ (Eg1,2) })_{{188} {189} {190} {191}}B^*(x_0,t_i,t_f,\\Gamma^{ (Eg0,1) })_{{191} {189} {190} {188}}$"
      ],
      "text/plain": [
       "<IPython.core.display.Math object>"
      ]
     },
     "metadata": {},
     "output_type": "display_data"
    },
    {
     "data": {
      "text/latex": [
       "$\\displaystyle 1.0 B(x_1,t_i,\\Gamma^{ (Eg1,2) })_{{188} {189} {190} {191}}B^*(x_0,t_i,t_f,\\Gamma^{ (Eg0,1) })_{{191} {189} {188} {190}}$"
      ],
      "text/plain": [
       "<IPython.core.display.Math object>"
      ]
     },
     "metadata": {},
     "output_type": "display_data"
    },
    {
     "data": {
      "text/latex": [
       "$\\displaystyle -1.0 B(x_1,t_i,\\Gamma^{ (Eg1,2) })_{{188} {189} {190} {191}}B^*(x_0,t_i,t_f,\\Gamma^{ (Eg0,1) })_{{191} {188} {189} {190}}$"
      ],
      "text/plain": [
       "<IPython.core.display.Math object>"
      ]
     },
     "metadata": {},
     "output_type": "display_data"
    },
    {
     "data": {
      "text/latex": [
       "$\\displaystyle 1.0 B(x_1,t_i,\\Gamma^{ (buchoff,0) })_{{132} {133} {134} {135}}B^*(x_0,t_i,t_f,\\Gamma^{ (Eg0,2) })_{{132} {133} {134} {135}}$"
      ],
      "text/plain": [
       "<IPython.core.display.Math object>"
      ]
     },
     "metadata": {},
     "output_type": "display_data"
    },
    {
     "data": {
      "text/latex": [
       "$\\displaystyle -1.0 B(x_1,t_i,\\Gamma^{ (buchoff,0) })_{{132} {133} {134} {135}}B^*(x_0,t_i,t_f,\\Gamma^{ (Eg0,2) })_{{133} {132} {134} {135}}$"
      ],
      "text/plain": [
       "<IPython.core.display.Math object>"
      ]
     },
     "metadata": {},
     "output_type": "display_data"
    },
    {
     "data": {
      "text/latex": [
       "$\\displaystyle 1.0 B(x_1,t_i,\\Gamma^{ (buchoff,0) })_{{132} {133} {134} {135}}B^*(x_0,t_i,t_f,\\Gamma^{ (Eg0,2) })_{{133} {134} {132} {135}}$"
      ],
      "text/plain": [
       "<IPython.core.display.Math object>"
      ]
     },
     "metadata": {},
     "output_type": "display_data"
    },
    {
     "data": {
      "text/latex": [
       "$\\displaystyle -1.0 B(x_1,t_i,\\Gamma^{ (buchoff,0) })_{{132} {133} {134} {135}}B^*(x_0,t_i,t_f,\\Gamma^{ (Eg0,2) })_{{132} {134} {133} {135}}$"
      ],
      "text/plain": [
       "<IPython.core.display.Math object>"
      ]
     },
     "metadata": {},
     "output_type": "display_data"
    },
    {
     "data": {
      "text/latex": [
       "$\\displaystyle 1.0 B(x_1,t_i,\\Gamma^{ (buchoff,0) })_{{132} {133} {134} {135}}B^*(x_0,t_i,t_f,\\Gamma^{ (Eg0,2) })_{{134} {132} {133} {135}}$"
      ],
      "text/plain": [
       "<IPython.core.display.Math object>"
      ]
     },
     "metadata": {},
     "output_type": "display_data"
    },
    {
     "data": {
      "text/latex": [
       "$\\displaystyle -1.0 B(x_1,t_i,\\Gamma^{ (buchoff,0) })_{{132} {133} {134} {135}}B^*(x_0,t_i,t_f,\\Gamma^{ (Eg0,2) })_{{134} {133} {132} {135}}$"
      ],
      "text/plain": [
       "<IPython.core.display.Math object>"
      ]
     },
     "metadata": {},
     "output_type": "display_data"
    },
    {
     "data": {
      "text/latex": [
       "$\\displaystyle 1.0 B(x_1,t_i,\\Gamma^{ (buchoff,0) })_{{132} {133} {134} {135}}B^*(x_0,t_i,t_f,\\Gamma^{ (Eg0,2) })_{{134} {133} {135} {132}}$"
      ],
      "text/plain": [
       "<IPython.core.display.Math object>"
      ]
     },
     "metadata": {},
     "output_type": "display_data"
    },
    {
     "data": {
      "text/latex": [
       "$\\displaystyle -1.0 B(x_1,t_i,\\Gamma^{ (buchoff,0) })_{{132} {133} {134} {135}}B^*(x_0,t_i,t_f,\\Gamma^{ (Eg0,2) })_{{134} {132} {135} {133}}$"
      ],
      "text/plain": [
       "<IPython.core.display.Math object>"
      ]
     },
     "metadata": {},
     "output_type": "display_data"
    },
    {
     "data": {
      "text/latex": [
       "$\\displaystyle 1.0 B(x_1,t_i,\\Gamma^{ (buchoff,0) })_{{132} {133} {134} {135}}B^*(x_0,t_i,t_f,\\Gamma^{ (Eg0,2) })_{{132} {134} {135} {133}}$"
      ],
      "text/plain": [
       "<IPython.core.display.Math object>"
      ]
     },
     "metadata": {},
     "output_type": "display_data"
    },
    {
     "data": {
      "text/latex": [
       "$\\displaystyle -1.0 B(x_1,t_i,\\Gamma^{ (buchoff,0) })_{{132} {133} {134} {135}}B^*(x_0,t_i,t_f,\\Gamma^{ (Eg0,2) })_{{133} {134} {135} {132}}$"
      ],
      "text/plain": [
       "<IPython.core.display.Math object>"
      ]
     },
     "metadata": {},
     "output_type": "display_data"
    },
    {
     "data": {
      "text/latex": [
       "$\\displaystyle 1.0 B(x_1,t_i,\\Gamma^{ (buchoff,0) })_{{132} {133} {134} {135}}B^*(x_0,t_i,t_f,\\Gamma^{ (Eg0,2) })_{{133} {132} {135} {134}}$"
      ],
      "text/plain": [
       "<IPython.core.display.Math object>"
      ]
     },
     "metadata": {},
     "output_type": "display_data"
    },
    {
     "data": {
      "text/latex": [
       "$\\displaystyle -1.0 B(x_1,t_i,\\Gamma^{ (buchoff,0) })_{{132} {133} {134} {135}}B^*(x_0,t_i,t_f,\\Gamma^{ (Eg0,2) })_{{132} {133} {135} {134}}$"
      ],
      "text/plain": [
       "<IPython.core.display.Math object>"
      ]
     },
     "metadata": {},
     "output_type": "display_data"
    },
    {
     "data": {
      "text/latex": [
       "$\\displaystyle 1.0 B(x_1,t_i,\\Gamma^{ (buchoff,0) })_{{132} {133} {134} {135}}B^*(x_0,t_i,t_f,\\Gamma^{ (Eg0,2) })_{{132} {135} {133} {134}}$"
      ],
      "text/plain": [
       "<IPython.core.display.Math object>"
      ]
     },
     "metadata": {},
     "output_type": "display_data"
    },
    {
     "data": {
      "text/latex": [
       "$\\displaystyle -1.0 B(x_1,t_i,\\Gamma^{ (buchoff,0) })_{{132} {133} {134} {135}}B^*(x_0,t_i,t_f,\\Gamma^{ (Eg0,2) })_{{133} {135} {132} {134}}$"
      ],
      "text/plain": [
       "<IPython.core.display.Math object>"
      ]
     },
     "metadata": {},
     "output_type": "display_data"
    },
    {
     "data": {
      "text/latex": [
       "$\\displaystyle 1.0 B(x_1,t_i,\\Gamma^{ (buchoff,0) })_{{132} {133} {134} {135}}B^*(x_0,t_i,t_f,\\Gamma^{ (Eg0,2) })_{{133} {135} {134} {132}}$"
      ],
      "text/plain": [
       "<IPython.core.display.Math object>"
      ]
     },
     "metadata": {},
     "output_type": "display_data"
    },
    {
     "data": {
      "text/latex": [
       "$\\displaystyle -1.0 B(x_1,t_i,\\Gamma^{ (buchoff,0) })_{{132} {133} {134} {135}}B^*(x_0,t_i,t_f,\\Gamma^{ (Eg0,2) })_{{132} {135} {134} {133}}$"
      ],
      "text/plain": [
       "<IPython.core.display.Math object>"
      ]
     },
     "metadata": {},
     "output_type": "display_data"
    },
    {
     "data": {
      "text/latex": [
       "$\\displaystyle 1.0 B(x_1,t_i,\\Gamma^{ (buchoff,0) })_{{132} {133} {134} {135}}B^*(x_0,t_i,t_f,\\Gamma^{ (Eg0,2) })_{{134} {135} {132} {133}}$"
      ],
      "text/plain": [
       "<IPython.core.display.Math object>"
      ]
     },
     "metadata": {},
     "output_type": "display_data"
    },
    {
     "data": {
      "text/latex": [
       "$\\displaystyle -1.0 B(x_1,t_i,\\Gamma^{ (buchoff,0) })_{{132} {133} {134} {135}}B^*(x_0,t_i,t_f,\\Gamma^{ (Eg0,2) })_{{134} {135} {133} {132}}$"
      ],
      "text/plain": [
       "<IPython.core.display.Math object>"
      ]
     },
     "metadata": {},
     "output_type": "display_data"
    },
    {
     "data": {
      "text/latex": [
       "$\\displaystyle 1.0 B(x_1,t_i,\\Gamma^{ (buchoff,0) })_{{132} {133} {134} {135}}B^*(x_0,t_i,t_f,\\Gamma^{ (Eg0,2) })_{{135} {134} {133} {132}}$"
      ],
      "text/plain": [
       "<IPython.core.display.Math object>"
      ]
     },
     "metadata": {},
     "output_type": "display_data"
    },
    {
     "data": {
      "text/latex": [
       "$\\displaystyle -1.0 B(x_1,t_i,\\Gamma^{ (buchoff,0) })_{{132} {133} {134} {135}}B^*(x_0,t_i,t_f,\\Gamma^{ (Eg0,2) })_{{135} {134} {132} {133}}$"
      ],
      "text/plain": [
       "<IPython.core.display.Math object>"
      ]
     },
     "metadata": {},
     "output_type": "display_data"
    },
    {
     "data": {
      "text/latex": [
       "$\\displaystyle 1.0 B(x_1,t_i,\\Gamma^{ (buchoff,0) })_{{132} {133} {134} {135}}B^*(x_0,t_i,t_f,\\Gamma^{ (Eg0,2) })_{{135} {132} {134} {133}}$"
      ],
      "text/plain": [
       "<IPython.core.display.Math object>"
      ]
     },
     "metadata": {},
     "output_type": "display_data"
    },
    {
     "data": {
      "text/latex": [
       "$\\displaystyle -1.0 B(x_1,t_i,\\Gamma^{ (buchoff,0) })_{{132} {133} {134} {135}}B^*(x_0,t_i,t_f,\\Gamma^{ (Eg0,2) })_{{135} {133} {134} {132}}$"
      ],
      "text/plain": [
       "<IPython.core.display.Math object>"
      ]
     },
     "metadata": {},
     "output_type": "display_data"
    },
    {
     "data": {
      "text/latex": [
       "$\\displaystyle 1.0 B(x_1,t_i,\\Gamma^{ (buchoff,0) })_{{132} {133} {134} {135}}B^*(x_0,t_i,t_f,\\Gamma^{ (Eg0,2) })_{{135} {133} {132} {134}}$"
      ],
      "text/plain": [
       "<IPython.core.display.Math object>"
      ]
     },
     "metadata": {},
     "output_type": "display_data"
    },
    {
     "data": {
      "text/latex": [
       "$\\displaystyle -1.0 B(x_1,t_i,\\Gamma^{ (buchoff,0) })_{{132} {133} {134} {135}}B^*(x_0,t_i,t_f,\\Gamma^{ (Eg0,2) })_{{135} {132} {133} {134}}$"
      ],
      "text/plain": [
       "<IPython.core.display.Math object>"
      ]
     },
     "metadata": {},
     "output_type": "display_data"
    },
    {
     "data": {
      "text/latex": [
       "$\\displaystyle 1.0 B^*(x_0,t_i,t_f,\\Gamma^{ (Eg0,2) })_{{140} {141} {142} {143}}B(x_1,t_i,\\Gamma^{ (A1g,0) })_{{140} {141} {142} {143}}$"
      ],
      "text/plain": [
       "<IPython.core.display.Math object>"
      ]
     },
     "metadata": {},
     "output_type": "display_data"
    },
    {
     "data": {
      "text/latex": [
       "$\\displaystyle -1.0 B^*(x_0,t_i,t_f,\\Gamma^{ (Eg0,2) })_{{141} {140} {142} {143}}B(x_1,t_i,\\Gamma^{ (A1g,0) })_{{140} {141} {142} {143}}$"
      ],
      "text/plain": [
       "<IPython.core.display.Math object>"
      ]
     },
     "metadata": {},
     "output_type": "display_data"
    },
    {
     "data": {
      "text/latex": [
       "$\\displaystyle 1.0 B^*(x_0,t_i,t_f,\\Gamma^{ (Eg0,2) })_{{141} {142} {140} {143}}B(x_1,t_i,\\Gamma^{ (A1g,0) })_{{140} {141} {142} {143}}$"
      ],
      "text/plain": [
       "<IPython.core.display.Math object>"
      ]
     },
     "metadata": {},
     "output_type": "display_data"
    },
    {
     "data": {
      "text/latex": [
       "$\\displaystyle -1.0 B^*(x_0,t_i,t_f,\\Gamma^{ (Eg0,2) })_{{140} {142} {141} {143}}B(x_1,t_i,\\Gamma^{ (A1g,0) })_{{140} {141} {142} {143}}$"
      ],
      "text/plain": [
       "<IPython.core.display.Math object>"
      ]
     },
     "metadata": {},
     "output_type": "display_data"
    },
    {
     "data": {
      "text/latex": [
       "$\\displaystyle 1.0 B^*(x_0,t_i,t_f,\\Gamma^{ (Eg0,2) })_{{142} {140} {141} {143}}B(x_1,t_i,\\Gamma^{ (A1g,0) })_{{140} {141} {142} {143}}$"
      ],
      "text/plain": [
       "<IPython.core.display.Math object>"
      ]
     },
     "metadata": {},
     "output_type": "display_data"
    },
    {
     "data": {
      "text/latex": [
       "$\\displaystyle -1.0 B^*(x_0,t_i,t_f,\\Gamma^{ (Eg0,2) })_{{142} {141} {140} {143}}B(x_1,t_i,\\Gamma^{ (A1g,0) })_{{140} {141} {142} {143}}$"
      ],
      "text/plain": [
       "<IPython.core.display.Math object>"
      ]
     },
     "metadata": {},
     "output_type": "display_data"
    },
    {
     "data": {
      "text/latex": [
       "$\\displaystyle 1.0 B^*(x_0,t_i,t_f,\\Gamma^{ (Eg0,2) })_{{142} {141} {143} {140}}B(x_1,t_i,\\Gamma^{ (A1g,0) })_{{140} {141} {142} {143}}$"
      ],
      "text/plain": [
       "<IPython.core.display.Math object>"
      ]
     },
     "metadata": {},
     "output_type": "display_data"
    },
    {
     "data": {
      "text/latex": [
       "$\\displaystyle -1.0 B^*(x_0,t_i,t_f,\\Gamma^{ (Eg0,2) })_{{142} {140} {143} {141}}B(x_1,t_i,\\Gamma^{ (A1g,0) })_{{140} {141} {142} {143}}$"
      ],
      "text/plain": [
       "<IPython.core.display.Math object>"
      ]
     },
     "metadata": {},
     "output_type": "display_data"
    },
    {
     "data": {
      "text/latex": [
       "$\\displaystyle 1.0 B^*(x_0,t_i,t_f,\\Gamma^{ (Eg0,2) })_{{140} {142} {143} {141}}B(x_1,t_i,\\Gamma^{ (A1g,0) })_{{140} {141} {142} {143}}$"
      ],
      "text/plain": [
       "<IPython.core.display.Math object>"
      ]
     },
     "metadata": {},
     "output_type": "display_data"
    },
    {
     "data": {
      "text/latex": [
       "$\\displaystyle -1.0 B^*(x_0,t_i,t_f,\\Gamma^{ (Eg0,2) })_{{141} {142} {143} {140}}B(x_1,t_i,\\Gamma^{ (A1g,0) })_{{140} {141} {142} {143}}$"
      ],
      "text/plain": [
       "<IPython.core.display.Math object>"
      ]
     },
     "metadata": {},
     "output_type": "display_data"
    },
    {
     "data": {
      "text/latex": [
       "$\\displaystyle 1.0 B^*(x_0,t_i,t_f,\\Gamma^{ (Eg0,2) })_{{141} {140} {143} {142}}B(x_1,t_i,\\Gamma^{ (A1g,0) })_{{140} {141} {142} {143}}$"
      ],
      "text/plain": [
       "<IPython.core.display.Math object>"
      ]
     },
     "metadata": {},
     "output_type": "display_data"
    },
    {
     "data": {
      "text/latex": [
       "$\\displaystyle -1.0 B^*(x_0,t_i,t_f,\\Gamma^{ (Eg0,2) })_{{140} {141} {143} {142}}B(x_1,t_i,\\Gamma^{ (A1g,0) })_{{140} {141} {142} {143}}$"
      ],
      "text/plain": [
       "<IPython.core.display.Math object>"
      ]
     },
     "metadata": {},
     "output_type": "display_data"
    },
    {
     "data": {
      "text/latex": [
       "$\\displaystyle 1.0 B^*(x_0,t_i,t_f,\\Gamma^{ (Eg0,2) })_{{140} {143} {141} {142}}B(x_1,t_i,\\Gamma^{ (A1g,0) })_{{140} {141} {142} {143}}$"
      ],
      "text/plain": [
       "<IPython.core.display.Math object>"
      ]
     },
     "metadata": {},
     "output_type": "display_data"
    },
    {
     "data": {
      "text/latex": [
       "$\\displaystyle -1.0 B^*(x_0,t_i,t_f,\\Gamma^{ (Eg0,2) })_{{141} {143} {140} {142}}B(x_1,t_i,\\Gamma^{ (A1g,0) })_{{140} {141} {142} {143}}$"
      ],
      "text/plain": [
       "<IPython.core.display.Math object>"
      ]
     },
     "metadata": {},
     "output_type": "display_data"
    },
    {
     "data": {
      "text/latex": [
       "$\\displaystyle 1.0 B^*(x_0,t_i,t_f,\\Gamma^{ (Eg0,2) })_{{141} {143} {142} {140}}B(x_1,t_i,\\Gamma^{ (A1g,0) })_{{140} {141} {142} {143}}$"
      ],
      "text/plain": [
       "<IPython.core.display.Math object>"
      ]
     },
     "metadata": {},
     "output_type": "display_data"
    },
    {
     "data": {
      "text/latex": [
       "$\\displaystyle -1.0 B^*(x_0,t_i,t_f,\\Gamma^{ (Eg0,2) })_{{140} {143} {142} {141}}B(x_1,t_i,\\Gamma^{ (A1g,0) })_{{140} {141} {142} {143}}$"
      ],
      "text/plain": [
       "<IPython.core.display.Math object>"
      ]
     },
     "metadata": {},
     "output_type": "display_data"
    },
    {
     "data": {
      "text/latex": [
       "$\\displaystyle 1.0 B^*(x_0,t_i,t_f,\\Gamma^{ (Eg0,2) })_{{142} {143} {140} {141}}B(x_1,t_i,\\Gamma^{ (A1g,0) })_{{140} {141} {142} {143}}$"
      ],
      "text/plain": [
       "<IPython.core.display.Math object>"
      ]
     },
     "metadata": {},
     "output_type": "display_data"
    },
    {
     "data": {
      "text/latex": [
       "$\\displaystyle -1.0 B^*(x_0,t_i,t_f,\\Gamma^{ (Eg0,2) })_{{142} {143} {141} {140}}B(x_1,t_i,\\Gamma^{ (A1g,0) })_{{140} {141} {142} {143}}$"
      ],
      "text/plain": [
       "<IPython.core.display.Math object>"
      ]
     },
     "metadata": {},
     "output_type": "display_data"
    },
    {
     "data": {
      "text/latex": [
       "$\\displaystyle 1.0 B^*(x_0,t_i,t_f,\\Gamma^{ (Eg0,2) })_{{143} {142} {141} {140}}B(x_1,t_i,\\Gamma^{ (A1g,0) })_{{140} {141} {142} {143}}$"
      ],
      "text/plain": [
       "<IPython.core.display.Math object>"
      ]
     },
     "metadata": {},
     "output_type": "display_data"
    },
    {
     "data": {
      "text/latex": [
       "$\\displaystyle -1.0 B^*(x_0,t_i,t_f,\\Gamma^{ (Eg0,2) })_{{143} {142} {140} {141}}B(x_1,t_i,\\Gamma^{ (A1g,0) })_{{140} {141} {142} {143}}$"
      ],
      "text/plain": [
       "<IPython.core.display.Math object>"
      ]
     },
     "metadata": {},
     "output_type": "display_data"
    },
    {
     "data": {
      "text/latex": [
       "$\\displaystyle 1.0 B^*(x_0,t_i,t_f,\\Gamma^{ (Eg0,2) })_{{143} {140} {142} {141}}B(x_1,t_i,\\Gamma^{ (A1g,0) })_{{140} {141} {142} {143}}$"
      ],
      "text/plain": [
       "<IPython.core.display.Math object>"
      ]
     },
     "metadata": {},
     "output_type": "display_data"
    },
    {
     "data": {
      "text/latex": [
       "$\\displaystyle -1.0 B^*(x_0,t_i,t_f,\\Gamma^{ (Eg0,2) })_{{143} {141} {142} {140}}B(x_1,t_i,\\Gamma^{ (A1g,0) })_{{140} {141} {142} {143}}$"
      ],
      "text/plain": [
       "<IPython.core.display.Math object>"
      ]
     },
     "metadata": {},
     "output_type": "display_data"
    },
    {
     "data": {
      "text/latex": [
       "$\\displaystyle 1.0 B^*(x_0,t_i,t_f,\\Gamma^{ (Eg0,2) })_{{143} {141} {140} {142}}B(x_1,t_i,\\Gamma^{ (A1g,0) })_{{140} {141} {142} {143}}$"
      ],
      "text/plain": [
       "<IPython.core.display.Math object>"
      ]
     },
     "metadata": {},
     "output_type": "display_data"
    },
    {
     "data": {
      "text/latex": [
       "$\\displaystyle -1.0 B^*(x_0,t_i,t_f,\\Gamma^{ (Eg0,2) })_{{143} {140} {141} {142}}B(x_1,t_i,\\Gamma^{ (A1g,0) })_{{140} {141} {142} {143}}$"
      ],
      "text/plain": [
       "<IPython.core.display.Math object>"
      ]
     },
     "metadata": {},
     "output_type": "display_data"
    },
    {
     "data": {
      "text/latex": [
       "$\\displaystyle 1.0 B^*(x_0,t_i,t_f,\\Gamma^{ (Eg0,2) })_{{148} {149} {150} {151}}B(x_1,t_i,\\Gamma^{ (Eg0,0) })_{{148} {149} {150} {151}}$"
      ],
      "text/plain": [
       "<IPython.core.display.Math object>"
      ]
     },
     "metadata": {},
     "output_type": "display_data"
    },
    {
     "data": {
      "text/latex": [
       "$\\displaystyle -1.0 B^*(x_0,t_i,t_f,\\Gamma^{ (Eg0,2) })_{{149} {148} {150} {151}}B(x_1,t_i,\\Gamma^{ (Eg0,0) })_{{148} {149} {150} {151}}$"
      ],
      "text/plain": [
       "<IPython.core.display.Math object>"
      ]
     },
     "metadata": {},
     "output_type": "display_data"
    },
    {
     "data": {
      "text/latex": [
       "$\\displaystyle 1.0 B^*(x_0,t_i,t_f,\\Gamma^{ (Eg0,2) })_{{149} {150} {148} {151}}B(x_1,t_i,\\Gamma^{ (Eg0,0) })_{{148} {149} {150} {151}}$"
      ],
      "text/plain": [
       "<IPython.core.display.Math object>"
      ]
     },
     "metadata": {},
     "output_type": "display_data"
    },
    {
     "data": {
      "text/latex": [
       "$\\displaystyle -1.0 B^*(x_0,t_i,t_f,\\Gamma^{ (Eg0,2) })_{{148} {150} {149} {151}}B(x_1,t_i,\\Gamma^{ (Eg0,0) })_{{148} {149} {150} {151}}$"
      ],
      "text/plain": [
       "<IPython.core.display.Math object>"
      ]
     },
     "metadata": {},
     "output_type": "display_data"
    },
    {
     "data": {
      "text/latex": [
       "$\\displaystyle 1.0 B^*(x_0,t_i,t_f,\\Gamma^{ (Eg0,2) })_{{150} {148} {149} {151}}B(x_1,t_i,\\Gamma^{ (Eg0,0) })_{{148} {149} {150} {151}}$"
      ],
      "text/plain": [
       "<IPython.core.display.Math object>"
      ]
     },
     "metadata": {},
     "output_type": "display_data"
    },
    {
     "data": {
      "text/latex": [
       "$\\displaystyle -1.0 B^*(x_0,t_i,t_f,\\Gamma^{ (Eg0,2) })_{{150} {149} {148} {151}}B(x_1,t_i,\\Gamma^{ (Eg0,0) })_{{148} {149} {150} {151}}$"
      ],
      "text/plain": [
       "<IPython.core.display.Math object>"
      ]
     },
     "metadata": {},
     "output_type": "display_data"
    },
    {
     "data": {
      "text/latex": [
       "$\\displaystyle 1.0 B^*(x_0,t_i,t_f,\\Gamma^{ (Eg0,2) })_{{150} {149} {151} {148}}B(x_1,t_i,\\Gamma^{ (Eg0,0) })_{{148} {149} {150} {151}}$"
      ],
      "text/plain": [
       "<IPython.core.display.Math object>"
      ]
     },
     "metadata": {},
     "output_type": "display_data"
    },
    {
     "data": {
      "text/latex": [
       "$\\displaystyle -1.0 B^*(x_0,t_i,t_f,\\Gamma^{ (Eg0,2) })_{{150} {148} {151} {149}}B(x_1,t_i,\\Gamma^{ (Eg0,0) })_{{148} {149} {150} {151}}$"
      ],
      "text/plain": [
       "<IPython.core.display.Math object>"
      ]
     },
     "metadata": {},
     "output_type": "display_data"
    },
    {
     "data": {
      "text/latex": [
       "$\\displaystyle 1.0 B^*(x_0,t_i,t_f,\\Gamma^{ (Eg0,2) })_{{148} {150} {151} {149}}B(x_1,t_i,\\Gamma^{ (Eg0,0) })_{{148} {149} {150} {151}}$"
      ],
      "text/plain": [
       "<IPython.core.display.Math object>"
      ]
     },
     "metadata": {},
     "output_type": "display_data"
    },
    {
     "data": {
      "text/latex": [
       "$\\displaystyle -1.0 B^*(x_0,t_i,t_f,\\Gamma^{ (Eg0,2) })_{{149} {150} {151} {148}}B(x_1,t_i,\\Gamma^{ (Eg0,0) })_{{148} {149} {150} {151}}$"
      ],
      "text/plain": [
       "<IPython.core.display.Math object>"
      ]
     },
     "metadata": {},
     "output_type": "display_data"
    },
    {
     "data": {
      "text/latex": [
       "$\\displaystyle 1.0 B^*(x_0,t_i,t_f,\\Gamma^{ (Eg0,2) })_{{149} {148} {151} {150}}B(x_1,t_i,\\Gamma^{ (Eg0,0) })_{{148} {149} {150} {151}}$"
      ],
      "text/plain": [
       "<IPython.core.display.Math object>"
      ]
     },
     "metadata": {},
     "output_type": "display_data"
    },
    {
     "data": {
      "text/latex": [
       "$\\displaystyle -1.0 B^*(x_0,t_i,t_f,\\Gamma^{ (Eg0,2) })_{{148} {149} {151} {150}}B(x_1,t_i,\\Gamma^{ (Eg0,0) })_{{148} {149} {150} {151}}$"
      ],
      "text/plain": [
       "<IPython.core.display.Math object>"
      ]
     },
     "metadata": {},
     "output_type": "display_data"
    },
    {
     "data": {
      "text/latex": [
       "$\\displaystyle 1.0 B^*(x_0,t_i,t_f,\\Gamma^{ (Eg0,2) })_{{148} {151} {149} {150}}B(x_1,t_i,\\Gamma^{ (Eg0,0) })_{{148} {149} {150} {151}}$"
      ],
      "text/plain": [
       "<IPython.core.display.Math object>"
      ]
     },
     "metadata": {},
     "output_type": "display_data"
    },
    {
     "data": {
      "text/latex": [
       "$\\displaystyle -1.0 B^*(x_0,t_i,t_f,\\Gamma^{ (Eg0,2) })_{{149} {151} {148} {150}}B(x_1,t_i,\\Gamma^{ (Eg0,0) })_{{148} {149} {150} {151}}$"
      ],
      "text/plain": [
       "<IPython.core.display.Math object>"
      ]
     },
     "metadata": {},
     "output_type": "display_data"
    },
    {
     "data": {
      "text/latex": [
       "$\\displaystyle 1.0 B^*(x_0,t_i,t_f,\\Gamma^{ (Eg0,2) })_{{149} {151} {150} {148}}B(x_1,t_i,\\Gamma^{ (Eg0,0) })_{{148} {149} {150} {151}}$"
      ],
      "text/plain": [
       "<IPython.core.display.Math object>"
      ]
     },
     "metadata": {},
     "output_type": "display_data"
    },
    {
     "data": {
      "text/latex": [
       "$\\displaystyle -1.0 B^*(x_0,t_i,t_f,\\Gamma^{ (Eg0,2) })_{{148} {151} {150} {149}}B(x_1,t_i,\\Gamma^{ (Eg0,0) })_{{148} {149} {150} {151}}$"
      ],
      "text/plain": [
       "<IPython.core.display.Math object>"
      ]
     },
     "metadata": {},
     "output_type": "display_data"
    },
    {
     "data": {
      "text/latex": [
       "$\\displaystyle 1.0 B^*(x_0,t_i,t_f,\\Gamma^{ (Eg0,2) })_{{150} {151} {148} {149}}B(x_1,t_i,\\Gamma^{ (Eg0,0) })_{{148} {149} {150} {151}}$"
      ],
      "text/plain": [
       "<IPython.core.display.Math object>"
      ]
     },
     "metadata": {},
     "output_type": "display_data"
    },
    {
     "data": {
      "text/latex": [
       "$\\displaystyle -1.0 B^*(x_0,t_i,t_f,\\Gamma^{ (Eg0,2) })_{{150} {151} {149} {148}}B(x_1,t_i,\\Gamma^{ (Eg0,0) })_{{148} {149} {150} {151}}$"
      ],
      "text/plain": [
       "<IPython.core.display.Math object>"
      ]
     },
     "metadata": {},
     "output_type": "display_data"
    },
    {
     "data": {
      "text/latex": [
       "$\\displaystyle 1.0 B^*(x_0,t_i,t_f,\\Gamma^{ (Eg0,2) })_{{151} {150} {149} {148}}B(x_1,t_i,\\Gamma^{ (Eg0,0) })_{{148} {149} {150} {151}}$"
      ],
      "text/plain": [
       "<IPython.core.display.Math object>"
      ]
     },
     "metadata": {},
     "output_type": "display_data"
    },
    {
     "data": {
      "text/latex": [
       "$\\displaystyle -1.0 B^*(x_0,t_i,t_f,\\Gamma^{ (Eg0,2) })_{{151} {150} {148} {149}}B(x_1,t_i,\\Gamma^{ (Eg0,0) })_{{148} {149} {150} {151}}$"
      ],
      "text/plain": [
       "<IPython.core.display.Math object>"
      ]
     },
     "metadata": {},
     "output_type": "display_data"
    },
    {
     "data": {
      "text/latex": [
       "$\\displaystyle 1.0 B^*(x_0,t_i,t_f,\\Gamma^{ (Eg0,2) })_{{151} {148} {150} {149}}B(x_1,t_i,\\Gamma^{ (Eg0,0) })_{{148} {149} {150} {151}}$"
      ],
      "text/plain": [
       "<IPython.core.display.Math object>"
      ]
     },
     "metadata": {},
     "output_type": "display_data"
    },
    {
     "data": {
      "text/latex": [
       "$\\displaystyle -1.0 B^*(x_0,t_i,t_f,\\Gamma^{ (Eg0,2) })_{{151} {149} {150} {148}}B(x_1,t_i,\\Gamma^{ (Eg0,0) })_{{148} {149} {150} {151}}$"
      ],
      "text/plain": [
       "<IPython.core.display.Math object>"
      ]
     },
     "metadata": {},
     "output_type": "display_data"
    },
    {
     "data": {
      "text/latex": [
       "$\\displaystyle 1.0 B^*(x_0,t_i,t_f,\\Gamma^{ (Eg0,2) })_{{151} {149} {148} {150}}B(x_1,t_i,\\Gamma^{ (Eg0,0) })_{{148} {149} {150} {151}}$"
      ],
      "text/plain": [
       "<IPython.core.display.Math object>"
      ]
     },
     "metadata": {},
     "output_type": "display_data"
    },
    {
     "data": {
      "text/latex": [
       "$\\displaystyle -1.0 B^*(x_0,t_i,t_f,\\Gamma^{ (Eg0,2) })_{{151} {148} {149} {150}}B(x_1,t_i,\\Gamma^{ (Eg0,0) })_{{148} {149} {150} {151}}$"
      ],
      "text/plain": [
       "<IPython.core.display.Math object>"
      ]
     },
     "metadata": {},
     "output_type": "display_data"
    },
    {
     "data": {
      "text/latex": [
       "$\\displaystyle 1.0 B^*(x_0,t_i,t_f,\\Gamma^{ (Eg0,2) })_{{156} {157} {158} {159}}B(x_1,t_i,\\Gamma^{ (Eg0,1) })_{{156} {157} {158} {159}}$"
      ],
      "text/plain": [
       "<IPython.core.display.Math object>"
      ]
     },
     "metadata": {},
     "output_type": "display_data"
    },
    {
     "data": {
      "text/latex": [
       "$\\displaystyle -1.0 B^*(x_0,t_i,t_f,\\Gamma^{ (Eg0,2) })_{{157} {156} {158} {159}}B(x_1,t_i,\\Gamma^{ (Eg0,1) })_{{156} {157} {158} {159}}$"
      ],
      "text/plain": [
       "<IPython.core.display.Math object>"
      ]
     },
     "metadata": {},
     "output_type": "display_data"
    },
    {
     "data": {
      "text/latex": [
       "$\\displaystyle 1.0 B^*(x_0,t_i,t_f,\\Gamma^{ (Eg0,2) })_{{157} {158} {156} {159}}B(x_1,t_i,\\Gamma^{ (Eg0,1) })_{{156} {157} {158} {159}}$"
      ],
      "text/plain": [
       "<IPython.core.display.Math object>"
      ]
     },
     "metadata": {},
     "output_type": "display_data"
    },
    {
     "data": {
      "text/latex": [
       "$\\displaystyle -1.0 B^*(x_0,t_i,t_f,\\Gamma^{ (Eg0,2) })_{{156} {158} {157} {159}}B(x_1,t_i,\\Gamma^{ (Eg0,1) })_{{156} {157} {158} {159}}$"
      ],
      "text/plain": [
       "<IPython.core.display.Math object>"
      ]
     },
     "metadata": {},
     "output_type": "display_data"
    },
    {
     "data": {
      "text/latex": [
       "$\\displaystyle 1.0 B^*(x_0,t_i,t_f,\\Gamma^{ (Eg0,2) })_{{158} {156} {157} {159}}B(x_1,t_i,\\Gamma^{ (Eg0,1) })_{{156} {157} {158} {159}}$"
      ],
      "text/plain": [
       "<IPython.core.display.Math object>"
      ]
     },
     "metadata": {},
     "output_type": "display_data"
    },
    {
     "data": {
      "text/latex": [
       "$\\displaystyle -1.0 B^*(x_0,t_i,t_f,\\Gamma^{ (Eg0,2) })_{{158} {157} {156} {159}}B(x_1,t_i,\\Gamma^{ (Eg0,1) })_{{156} {157} {158} {159}}$"
      ],
      "text/plain": [
       "<IPython.core.display.Math object>"
      ]
     },
     "metadata": {},
     "output_type": "display_data"
    },
    {
     "data": {
      "text/latex": [
       "$\\displaystyle 1.0 B^*(x_0,t_i,t_f,\\Gamma^{ (Eg0,2) })_{{158} {157} {159} {156}}B(x_1,t_i,\\Gamma^{ (Eg0,1) })_{{156} {157} {158} {159}}$"
      ],
      "text/plain": [
       "<IPython.core.display.Math object>"
      ]
     },
     "metadata": {},
     "output_type": "display_data"
    },
    {
     "data": {
      "text/latex": [
       "$\\displaystyle -1.0 B^*(x_0,t_i,t_f,\\Gamma^{ (Eg0,2) })_{{158} {156} {159} {157}}B(x_1,t_i,\\Gamma^{ (Eg0,1) })_{{156} {157} {158} {159}}$"
      ],
      "text/plain": [
       "<IPython.core.display.Math object>"
      ]
     },
     "metadata": {},
     "output_type": "display_data"
    },
    {
     "data": {
      "text/latex": [
       "$\\displaystyle 1.0 B^*(x_0,t_i,t_f,\\Gamma^{ (Eg0,2) })_{{156} {158} {159} {157}}B(x_1,t_i,\\Gamma^{ (Eg0,1) })_{{156} {157} {158} {159}}$"
      ],
      "text/plain": [
       "<IPython.core.display.Math object>"
      ]
     },
     "metadata": {},
     "output_type": "display_data"
    },
    {
     "data": {
      "text/latex": [
       "$\\displaystyle -1.0 B^*(x_0,t_i,t_f,\\Gamma^{ (Eg0,2) })_{{157} {158} {159} {156}}B(x_1,t_i,\\Gamma^{ (Eg0,1) })_{{156} {157} {158} {159}}$"
      ],
      "text/plain": [
       "<IPython.core.display.Math object>"
      ]
     },
     "metadata": {},
     "output_type": "display_data"
    },
    {
     "data": {
      "text/latex": [
       "$\\displaystyle 1.0 B^*(x_0,t_i,t_f,\\Gamma^{ (Eg0,2) })_{{157} {156} {159} {158}}B(x_1,t_i,\\Gamma^{ (Eg0,1) })_{{156} {157} {158} {159}}$"
      ],
      "text/plain": [
       "<IPython.core.display.Math object>"
      ]
     },
     "metadata": {},
     "output_type": "display_data"
    },
    {
     "data": {
      "text/latex": [
       "$\\displaystyle -1.0 B^*(x_0,t_i,t_f,\\Gamma^{ (Eg0,2) })_{{156} {157} {159} {158}}B(x_1,t_i,\\Gamma^{ (Eg0,1) })_{{156} {157} {158} {159}}$"
      ],
      "text/plain": [
       "<IPython.core.display.Math object>"
      ]
     },
     "metadata": {},
     "output_type": "display_data"
    },
    {
     "data": {
      "text/latex": [
       "$\\displaystyle 1.0 B^*(x_0,t_i,t_f,\\Gamma^{ (Eg0,2) })_{{156} {159} {157} {158}}B(x_1,t_i,\\Gamma^{ (Eg0,1) })_{{156} {157} {158} {159}}$"
      ],
      "text/plain": [
       "<IPython.core.display.Math object>"
      ]
     },
     "metadata": {},
     "output_type": "display_data"
    },
    {
     "data": {
      "text/latex": [
       "$\\displaystyle -1.0 B^*(x_0,t_i,t_f,\\Gamma^{ (Eg0,2) })_{{157} {159} {156} {158}}B(x_1,t_i,\\Gamma^{ (Eg0,1) })_{{156} {157} {158} {159}}$"
      ],
      "text/plain": [
       "<IPython.core.display.Math object>"
      ]
     },
     "metadata": {},
     "output_type": "display_data"
    },
    {
     "data": {
      "text/latex": [
       "$\\displaystyle 1.0 B^*(x_0,t_i,t_f,\\Gamma^{ (Eg0,2) })_{{157} {159} {158} {156}}B(x_1,t_i,\\Gamma^{ (Eg0,1) })_{{156} {157} {158} {159}}$"
      ],
      "text/plain": [
       "<IPython.core.display.Math object>"
      ]
     },
     "metadata": {},
     "output_type": "display_data"
    },
    {
     "data": {
      "text/latex": [
       "$\\displaystyle -1.0 B^*(x_0,t_i,t_f,\\Gamma^{ (Eg0,2) })_{{156} {159} {158} {157}}B(x_1,t_i,\\Gamma^{ (Eg0,1) })_{{156} {157} {158} {159}}$"
      ],
      "text/plain": [
       "<IPython.core.display.Math object>"
      ]
     },
     "metadata": {},
     "output_type": "display_data"
    },
    {
     "data": {
      "text/latex": [
       "$\\displaystyle 1.0 B^*(x_0,t_i,t_f,\\Gamma^{ (Eg0,2) })_{{158} {159} {156} {157}}B(x_1,t_i,\\Gamma^{ (Eg0,1) })_{{156} {157} {158} {159}}$"
      ],
      "text/plain": [
       "<IPython.core.display.Math object>"
      ]
     },
     "metadata": {},
     "output_type": "display_data"
    },
    {
     "data": {
      "text/latex": [
       "$\\displaystyle -1.0 B^*(x_0,t_i,t_f,\\Gamma^{ (Eg0,2) })_{{158} {159} {157} {156}}B(x_1,t_i,\\Gamma^{ (Eg0,1) })_{{156} {157} {158} {159}}$"
      ],
      "text/plain": [
       "<IPython.core.display.Math object>"
      ]
     },
     "metadata": {},
     "output_type": "display_data"
    },
    {
     "data": {
      "text/latex": [
       "$\\displaystyle 1.0 B^*(x_0,t_i,t_f,\\Gamma^{ (Eg0,2) })_{{159} {158} {157} {156}}B(x_1,t_i,\\Gamma^{ (Eg0,1) })_{{156} {157} {158} {159}}$"
      ],
      "text/plain": [
       "<IPython.core.display.Math object>"
      ]
     },
     "metadata": {},
     "output_type": "display_data"
    },
    {
     "data": {
      "text/latex": [
       "$\\displaystyle -1.0 B^*(x_0,t_i,t_f,\\Gamma^{ (Eg0,2) })_{{159} {158} {156} {157}}B(x_1,t_i,\\Gamma^{ (Eg0,1) })_{{156} {157} {158} {159}}$"
      ],
      "text/plain": [
       "<IPython.core.display.Math object>"
      ]
     },
     "metadata": {},
     "output_type": "display_data"
    },
    {
     "data": {
      "text/latex": [
       "$\\displaystyle 1.0 B^*(x_0,t_i,t_f,\\Gamma^{ (Eg0,2) })_{{159} {156} {158} {157}}B(x_1,t_i,\\Gamma^{ (Eg0,1) })_{{156} {157} {158} {159}}$"
      ],
      "text/plain": [
       "<IPython.core.display.Math object>"
      ]
     },
     "metadata": {},
     "output_type": "display_data"
    },
    {
     "data": {
      "text/latex": [
       "$\\displaystyle -1.0 B^*(x_0,t_i,t_f,\\Gamma^{ (Eg0,2) })_{{159} {157} {158} {156}}B(x_1,t_i,\\Gamma^{ (Eg0,1) })_{{156} {157} {158} {159}}$"
      ],
      "text/plain": [
       "<IPython.core.display.Math object>"
      ]
     },
     "metadata": {},
     "output_type": "display_data"
    },
    {
     "data": {
      "text/latex": [
       "$\\displaystyle 1.0 B^*(x_0,t_i,t_f,\\Gamma^{ (Eg0,2) })_{{159} {157} {156} {158}}B(x_1,t_i,\\Gamma^{ (Eg0,1) })_{{156} {157} {158} {159}}$"
      ],
      "text/plain": [
       "<IPython.core.display.Math object>"
      ]
     },
     "metadata": {},
     "output_type": "display_data"
    },
    {
     "data": {
      "text/latex": [
       "$\\displaystyle -1.0 B^*(x_0,t_i,t_f,\\Gamma^{ (Eg0,2) })_{{159} {156} {157} {158}}B(x_1,t_i,\\Gamma^{ (Eg0,1) })_{{156} {157} {158} {159}}$"
      ],
      "text/plain": [
       "<IPython.core.display.Math object>"
      ]
     },
     "metadata": {},
     "output_type": "display_data"
    },
    {
     "data": {
      "text/latex": [
       "$\\displaystyle 1.0 B(x_1,t_i,\\Gamma^{ (Eg0,2) })_{{164} {165} {166} {167}}B^*(x_0,t_i,t_f,\\Gamma^{ (Eg0,2) })_{{164} {165} {166} {167}}$"
      ],
      "text/plain": [
       "<IPython.core.display.Math object>"
      ]
     },
     "metadata": {},
     "output_type": "display_data"
    },
    {
     "data": {
      "text/latex": [
       "$\\displaystyle -1.0 B(x_1,t_i,\\Gamma^{ (Eg0,2) })_{{164} {165} {166} {167}}B^*(x_0,t_i,t_f,\\Gamma^{ (Eg0,2) })_{{165} {164} {166} {167}}$"
      ],
      "text/plain": [
       "<IPython.core.display.Math object>"
      ]
     },
     "metadata": {},
     "output_type": "display_data"
    },
    {
     "data": {
      "text/latex": [
       "$\\displaystyle 1.0 B(x_1,t_i,\\Gamma^{ (Eg0,2) })_{{164} {165} {166} {167}}B^*(x_0,t_i,t_f,\\Gamma^{ (Eg0,2) })_{{165} {166} {164} {167}}$"
      ],
      "text/plain": [
       "<IPython.core.display.Math object>"
      ]
     },
     "metadata": {},
     "output_type": "display_data"
    },
    {
     "data": {
      "text/latex": [
       "$\\displaystyle -1.0 B(x_1,t_i,\\Gamma^{ (Eg0,2) })_{{164} {165} {166} {167}}B^*(x_0,t_i,t_f,\\Gamma^{ (Eg0,2) })_{{164} {166} {165} {167}}$"
      ],
      "text/plain": [
       "<IPython.core.display.Math object>"
      ]
     },
     "metadata": {},
     "output_type": "display_data"
    },
    {
     "data": {
      "text/latex": [
       "$\\displaystyle 1.0 B(x_1,t_i,\\Gamma^{ (Eg0,2) })_{{164} {165} {166} {167}}B^*(x_0,t_i,t_f,\\Gamma^{ (Eg0,2) })_{{166} {164} {165} {167}}$"
      ],
      "text/plain": [
       "<IPython.core.display.Math object>"
      ]
     },
     "metadata": {},
     "output_type": "display_data"
    },
    {
     "data": {
      "text/latex": [
       "$\\displaystyle -1.0 B(x_1,t_i,\\Gamma^{ (Eg0,2) })_{{164} {165} {166} {167}}B^*(x_0,t_i,t_f,\\Gamma^{ (Eg0,2) })_{{166} {165} {164} {167}}$"
      ],
      "text/plain": [
       "<IPython.core.display.Math object>"
      ]
     },
     "metadata": {},
     "output_type": "display_data"
    },
    {
     "data": {
      "text/latex": [
       "$\\displaystyle 1.0 B(x_1,t_i,\\Gamma^{ (Eg0,2) })_{{164} {165} {166} {167}}B^*(x_0,t_i,t_f,\\Gamma^{ (Eg0,2) })_{{166} {165} {167} {164}}$"
      ],
      "text/plain": [
       "<IPython.core.display.Math object>"
      ]
     },
     "metadata": {},
     "output_type": "display_data"
    },
    {
     "data": {
      "text/latex": [
       "$\\displaystyle -1.0 B(x_1,t_i,\\Gamma^{ (Eg0,2) })_{{164} {165} {166} {167}}B^*(x_0,t_i,t_f,\\Gamma^{ (Eg0,2) })_{{166} {164} {167} {165}}$"
      ],
      "text/plain": [
       "<IPython.core.display.Math object>"
      ]
     },
     "metadata": {},
     "output_type": "display_data"
    },
    {
     "data": {
      "text/latex": [
       "$\\displaystyle 1.0 B(x_1,t_i,\\Gamma^{ (Eg0,2) })_{{164} {165} {166} {167}}B^*(x_0,t_i,t_f,\\Gamma^{ (Eg0,2) })_{{164} {166} {167} {165}}$"
      ],
      "text/plain": [
       "<IPython.core.display.Math object>"
      ]
     },
     "metadata": {},
     "output_type": "display_data"
    },
    {
     "data": {
      "text/latex": [
       "$\\displaystyle -1.0 B(x_1,t_i,\\Gamma^{ (Eg0,2) })_{{164} {165} {166} {167}}B^*(x_0,t_i,t_f,\\Gamma^{ (Eg0,2) })_{{165} {166} {167} {164}}$"
      ],
      "text/plain": [
       "<IPython.core.display.Math object>"
      ]
     },
     "metadata": {},
     "output_type": "display_data"
    },
    {
     "data": {
      "text/latex": [
       "$\\displaystyle 1.0 B(x_1,t_i,\\Gamma^{ (Eg0,2) })_{{164} {165} {166} {167}}B^*(x_0,t_i,t_f,\\Gamma^{ (Eg0,2) })_{{165} {164} {167} {166}}$"
      ],
      "text/plain": [
       "<IPython.core.display.Math object>"
      ]
     },
     "metadata": {},
     "output_type": "display_data"
    },
    {
     "data": {
      "text/latex": [
       "$\\displaystyle -1.0 B(x_1,t_i,\\Gamma^{ (Eg0,2) })_{{164} {165} {166} {167}}B^*(x_0,t_i,t_f,\\Gamma^{ (Eg0,2) })_{{164} {165} {167} {166}}$"
      ],
      "text/plain": [
       "<IPython.core.display.Math object>"
      ]
     },
     "metadata": {},
     "output_type": "display_data"
    },
    {
     "data": {
      "text/latex": [
       "$\\displaystyle 1.0 B(x_1,t_i,\\Gamma^{ (Eg0,2) })_{{164} {165} {166} {167}}B^*(x_0,t_i,t_f,\\Gamma^{ (Eg0,2) })_{{164} {167} {165} {166}}$"
      ],
      "text/plain": [
       "<IPython.core.display.Math object>"
      ]
     },
     "metadata": {},
     "output_type": "display_data"
    },
    {
     "data": {
      "text/latex": [
       "$\\displaystyle -1.0 B(x_1,t_i,\\Gamma^{ (Eg0,2) })_{{164} {165} {166} {167}}B^*(x_0,t_i,t_f,\\Gamma^{ (Eg0,2) })_{{165} {167} {164} {166}}$"
      ],
      "text/plain": [
       "<IPython.core.display.Math object>"
      ]
     },
     "metadata": {},
     "output_type": "display_data"
    },
    {
     "data": {
      "text/latex": [
       "$\\displaystyle 1.0 B(x_1,t_i,\\Gamma^{ (Eg0,2) })_{{164} {165} {166} {167}}B^*(x_0,t_i,t_f,\\Gamma^{ (Eg0,2) })_{{165} {167} {166} {164}}$"
      ],
      "text/plain": [
       "<IPython.core.display.Math object>"
      ]
     },
     "metadata": {},
     "output_type": "display_data"
    },
    {
     "data": {
      "text/latex": [
       "$\\displaystyle -1.0 B(x_1,t_i,\\Gamma^{ (Eg0,2) })_{{164} {165} {166} {167}}B^*(x_0,t_i,t_f,\\Gamma^{ (Eg0,2) })_{{164} {167} {166} {165}}$"
      ],
      "text/plain": [
       "<IPython.core.display.Math object>"
      ]
     },
     "metadata": {},
     "output_type": "display_data"
    },
    {
     "data": {
      "text/latex": [
       "$\\displaystyle 1.0 B(x_1,t_i,\\Gamma^{ (Eg0,2) })_{{164} {165} {166} {167}}B^*(x_0,t_i,t_f,\\Gamma^{ (Eg0,2) })_{{166} {167} {164} {165}}$"
      ],
      "text/plain": [
       "<IPython.core.display.Math object>"
      ]
     },
     "metadata": {},
     "output_type": "display_data"
    },
    {
     "data": {
      "text/latex": [
       "$\\displaystyle -1.0 B(x_1,t_i,\\Gamma^{ (Eg0,2) })_{{164} {165} {166} {167}}B^*(x_0,t_i,t_f,\\Gamma^{ (Eg0,2) })_{{166} {167} {165} {164}}$"
      ],
      "text/plain": [
       "<IPython.core.display.Math object>"
      ]
     },
     "metadata": {},
     "output_type": "display_data"
    },
    {
     "data": {
      "text/latex": [
       "$\\displaystyle 1.0 B(x_1,t_i,\\Gamma^{ (Eg0,2) })_{{164} {165} {166} {167}}B^*(x_0,t_i,t_f,\\Gamma^{ (Eg0,2) })_{{167} {166} {165} {164}}$"
      ],
      "text/plain": [
       "<IPython.core.display.Math object>"
      ]
     },
     "metadata": {},
     "output_type": "display_data"
    },
    {
     "data": {
      "text/latex": [
       "$\\displaystyle -1.0 B(x_1,t_i,\\Gamma^{ (Eg0,2) })_{{164} {165} {166} {167}}B^*(x_0,t_i,t_f,\\Gamma^{ (Eg0,2) })_{{167} {166} {164} {165}}$"
      ],
      "text/plain": [
       "<IPython.core.display.Math object>"
      ]
     },
     "metadata": {},
     "output_type": "display_data"
    },
    {
     "data": {
      "text/latex": [
       "$\\displaystyle 1.0 B(x_1,t_i,\\Gamma^{ (Eg0,2) })_{{164} {165} {166} {167}}B^*(x_0,t_i,t_f,\\Gamma^{ (Eg0,2) })_{{167} {164} {166} {165}}$"
      ],
      "text/plain": [
       "<IPython.core.display.Math object>"
      ]
     },
     "metadata": {},
     "output_type": "display_data"
    },
    {
     "data": {
      "text/latex": [
       "$\\displaystyle -1.0 B(x_1,t_i,\\Gamma^{ (Eg0,2) })_{{164} {165} {166} {167}}B^*(x_0,t_i,t_f,\\Gamma^{ (Eg0,2) })_{{167} {165} {166} {164}}$"
      ],
      "text/plain": [
       "<IPython.core.display.Math object>"
      ]
     },
     "metadata": {},
     "output_type": "display_data"
    },
    {
     "data": {
      "text/latex": [
       "$\\displaystyle 1.0 B(x_1,t_i,\\Gamma^{ (Eg0,2) })_{{164} {165} {166} {167}}B^*(x_0,t_i,t_f,\\Gamma^{ (Eg0,2) })_{{167} {165} {164} {166}}$"
      ],
      "text/plain": [
       "<IPython.core.display.Math object>"
      ]
     },
     "metadata": {},
     "output_type": "display_data"
    },
    {
     "data": {
      "text/latex": [
       "$\\displaystyle -1.0 B(x_1,t_i,\\Gamma^{ (Eg0,2) })_{{164} {165} {166} {167}}B^*(x_0,t_i,t_f,\\Gamma^{ (Eg0,2) })_{{167} {164} {165} {166}}$"
      ],
      "text/plain": [
       "<IPython.core.display.Math object>"
      ]
     },
     "metadata": {},
     "output_type": "display_data"
    },
    {
     "data": {
      "text/latex": [
       "$\\displaystyle 1.0 B(x_1,t_i,\\Gamma^{ (Eg1,0) })_{{172} {173} {174} {175}}B^*(x_0,t_i,t_f,\\Gamma^{ (Eg0,2) })_{{172} {173} {174} {175}}$"
      ],
      "text/plain": [
       "<IPython.core.display.Math object>"
      ]
     },
     "metadata": {},
     "output_type": "display_data"
    },
    {
     "data": {
      "text/latex": [
       "$\\displaystyle -1.0 B(x_1,t_i,\\Gamma^{ (Eg1,0) })_{{172} {173} {174} {175}}B^*(x_0,t_i,t_f,\\Gamma^{ (Eg0,2) })_{{173} {172} {174} {175}}$"
      ],
      "text/plain": [
       "<IPython.core.display.Math object>"
      ]
     },
     "metadata": {},
     "output_type": "display_data"
    },
    {
     "data": {
      "text/latex": [
       "$\\displaystyle 1.0 B(x_1,t_i,\\Gamma^{ (Eg1,0) })_{{172} {173} {174} {175}}B^*(x_0,t_i,t_f,\\Gamma^{ (Eg0,2) })_{{173} {174} {172} {175}}$"
      ],
      "text/plain": [
       "<IPython.core.display.Math object>"
      ]
     },
     "metadata": {},
     "output_type": "display_data"
    },
    {
     "data": {
      "text/latex": [
       "$\\displaystyle -1.0 B(x_1,t_i,\\Gamma^{ (Eg1,0) })_{{172} {173} {174} {175}}B^*(x_0,t_i,t_f,\\Gamma^{ (Eg0,2) })_{{172} {174} {173} {175}}$"
      ],
      "text/plain": [
       "<IPython.core.display.Math object>"
      ]
     },
     "metadata": {},
     "output_type": "display_data"
    },
    {
     "data": {
      "text/latex": [
       "$\\displaystyle 1.0 B(x_1,t_i,\\Gamma^{ (Eg1,0) })_{{172} {173} {174} {175}}B^*(x_0,t_i,t_f,\\Gamma^{ (Eg0,2) })_{{174} {172} {173} {175}}$"
      ],
      "text/plain": [
       "<IPython.core.display.Math object>"
      ]
     },
     "metadata": {},
     "output_type": "display_data"
    },
    {
     "data": {
      "text/latex": [
       "$\\displaystyle -1.0 B(x_1,t_i,\\Gamma^{ (Eg1,0) })_{{172} {173} {174} {175}}B^*(x_0,t_i,t_f,\\Gamma^{ (Eg0,2) })_{{174} {173} {172} {175}}$"
      ],
      "text/plain": [
       "<IPython.core.display.Math object>"
      ]
     },
     "metadata": {},
     "output_type": "display_data"
    },
    {
     "data": {
      "text/latex": [
       "$\\displaystyle 1.0 B(x_1,t_i,\\Gamma^{ (Eg1,0) })_{{172} {173} {174} {175}}B^*(x_0,t_i,t_f,\\Gamma^{ (Eg0,2) })_{{174} {173} {175} {172}}$"
      ],
      "text/plain": [
       "<IPython.core.display.Math object>"
      ]
     },
     "metadata": {},
     "output_type": "display_data"
    },
    {
     "data": {
      "text/latex": [
       "$\\displaystyle -1.0 B(x_1,t_i,\\Gamma^{ (Eg1,0) })_{{172} {173} {174} {175}}B^*(x_0,t_i,t_f,\\Gamma^{ (Eg0,2) })_{{174} {172} {175} {173}}$"
      ],
      "text/plain": [
       "<IPython.core.display.Math object>"
      ]
     },
     "metadata": {},
     "output_type": "display_data"
    },
    {
     "data": {
      "text/latex": [
       "$\\displaystyle 1.0 B(x_1,t_i,\\Gamma^{ (Eg1,0) })_{{172} {173} {174} {175}}B^*(x_0,t_i,t_f,\\Gamma^{ (Eg0,2) })_{{172} {174} {175} {173}}$"
      ],
      "text/plain": [
       "<IPython.core.display.Math object>"
      ]
     },
     "metadata": {},
     "output_type": "display_data"
    },
    {
     "data": {
      "text/latex": [
       "$\\displaystyle -1.0 B(x_1,t_i,\\Gamma^{ (Eg1,0) })_{{172} {173} {174} {175}}B^*(x_0,t_i,t_f,\\Gamma^{ (Eg0,2) })_{{173} {174} {175} {172}}$"
      ],
      "text/plain": [
       "<IPython.core.display.Math object>"
      ]
     },
     "metadata": {},
     "output_type": "display_data"
    },
    {
     "data": {
      "text/latex": [
       "$\\displaystyle 1.0 B(x_1,t_i,\\Gamma^{ (Eg1,0) })_{{172} {173} {174} {175}}B^*(x_0,t_i,t_f,\\Gamma^{ (Eg0,2) })_{{173} {172} {175} {174}}$"
      ],
      "text/plain": [
       "<IPython.core.display.Math object>"
      ]
     },
     "metadata": {},
     "output_type": "display_data"
    },
    {
     "data": {
      "text/latex": [
       "$\\displaystyle -1.0 B(x_1,t_i,\\Gamma^{ (Eg1,0) })_{{172} {173} {174} {175}}B^*(x_0,t_i,t_f,\\Gamma^{ (Eg0,2) })_{{172} {173} {175} {174}}$"
      ],
      "text/plain": [
       "<IPython.core.display.Math object>"
      ]
     },
     "metadata": {},
     "output_type": "display_data"
    },
    {
     "data": {
      "text/latex": [
       "$\\displaystyle 1.0 B(x_1,t_i,\\Gamma^{ (Eg1,0) })_{{172} {173} {174} {175}}B^*(x_0,t_i,t_f,\\Gamma^{ (Eg0,2) })_{{172} {175} {173} {174}}$"
      ],
      "text/plain": [
       "<IPython.core.display.Math object>"
      ]
     },
     "metadata": {},
     "output_type": "display_data"
    },
    {
     "data": {
      "text/latex": [
       "$\\displaystyle -1.0 B(x_1,t_i,\\Gamma^{ (Eg1,0) })_{{172} {173} {174} {175}}B^*(x_0,t_i,t_f,\\Gamma^{ (Eg0,2) })_{{173} {175} {172} {174}}$"
      ],
      "text/plain": [
       "<IPython.core.display.Math object>"
      ]
     },
     "metadata": {},
     "output_type": "display_data"
    },
    {
     "data": {
      "text/latex": [
       "$\\displaystyle 1.0 B(x_1,t_i,\\Gamma^{ (Eg1,0) })_{{172} {173} {174} {175}}B^*(x_0,t_i,t_f,\\Gamma^{ (Eg0,2) })_{{173} {175} {174} {172}}$"
      ],
      "text/plain": [
       "<IPython.core.display.Math object>"
      ]
     },
     "metadata": {},
     "output_type": "display_data"
    },
    {
     "data": {
      "text/latex": [
       "$\\displaystyle -1.0 B(x_1,t_i,\\Gamma^{ (Eg1,0) })_{{172} {173} {174} {175}}B^*(x_0,t_i,t_f,\\Gamma^{ (Eg0,2) })_{{172} {175} {174} {173}}$"
      ],
      "text/plain": [
       "<IPython.core.display.Math object>"
      ]
     },
     "metadata": {},
     "output_type": "display_data"
    },
    {
     "data": {
      "text/latex": [
       "$\\displaystyle 1.0 B(x_1,t_i,\\Gamma^{ (Eg1,0) })_{{172} {173} {174} {175}}B^*(x_0,t_i,t_f,\\Gamma^{ (Eg0,2) })_{{174} {175} {172} {173}}$"
      ],
      "text/plain": [
       "<IPython.core.display.Math object>"
      ]
     },
     "metadata": {},
     "output_type": "display_data"
    },
    {
     "data": {
      "text/latex": [
       "$\\displaystyle -1.0 B(x_1,t_i,\\Gamma^{ (Eg1,0) })_{{172} {173} {174} {175}}B^*(x_0,t_i,t_f,\\Gamma^{ (Eg0,2) })_{{174} {175} {173} {172}}$"
      ],
      "text/plain": [
       "<IPython.core.display.Math object>"
      ]
     },
     "metadata": {},
     "output_type": "display_data"
    },
    {
     "data": {
      "text/latex": [
       "$\\displaystyle 1.0 B(x_1,t_i,\\Gamma^{ (Eg1,0) })_{{172} {173} {174} {175}}B^*(x_0,t_i,t_f,\\Gamma^{ (Eg0,2) })_{{175} {174} {173} {172}}$"
      ],
      "text/plain": [
       "<IPython.core.display.Math object>"
      ]
     },
     "metadata": {},
     "output_type": "display_data"
    },
    {
     "data": {
      "text/latex": [
       "$\\displaystyle -1.0 B(x_1,t_i,\\Gamma^{ (Eg1,0) })_{{172} {173} {174} {175}}B^*(x_0,t_i,t_f,\\Gamma^{ (Eg0,2) })_{{175} {174} {172} {173}}$"
      ],
      "text/plain": [
       "<IPython.core.display.Math object>"
      ]
     },
     "metadata": {},
     "output_type": "display_data"
    },
    {
     "data": {
      "text/latex": [
       "$\\displaystyle 1.0 B(x_1,t_i,\\Gamma^{ (Eg1,0) })_{{172} {173} {174} {175}}B^*(x_0,t_i,t_f,\\Gamma^{ (Eg0,2) })_{{175} {172} {174} {173}}$"
      ],
      "text/plain": [
       "<IPython.core.display.Math object>"
      ]
     },
     "metadata": {},
     "output_type": "display_data"
    },
    {
     "data": {
      "text/latex": [
       "$\\displaystyle -1.0 B(x_1,t_i,\\Gamma^{ (Eg1,0) })_{{172} {173} {174} {175}}B^*(x_0,t_i,t_f,\\Gamma^{ (Eg0,2) })_{{175} {173} {174} {172}}$"
      ],
      "text/plain": [
       "<IPython.core.display.Math object>"
      ]
     },
     "metadata": {},
     "output_type": "display_data"
    },
    {
     "data": {
      "text/latex": [
       "$\\displaystyle 1.0 B(x_1,t_i,\\Gamma^{ (Eg1,0) })_{{172} {173} {174} {175}}B^*(x_0,t_i,t_f,\\Gamma^{ (Eg0,2) })_{{175} {173} {172} {174}}$"
      ],
      "text/plain": [
       "<IPython.core.display.Math object>"
      ]
     },
     "metadata": {},
     "output_type": "display_data"
    },
    {
     "data": {
      "text/latex": [
       "$\\displaystyle -1.0 B(x_1,t_i,\\Gamma^{ (Eg1,0) })_{{172} {173} {174} {175}}B^*(x_0,t_i,t_f,\\Gamma^{ (Eg0,2) })_{{175} {172} {173} {174}}$"
      ],
      "text/plain": [
       "<IPython.core.display.Math object>"
      ]
     },
     "metadata": {},
     "output_type": "display_data"
    },
    {
     "data": {
      "text/latex": [
       "$\\displaystyle 1.0 B(x_1,t_i,\\Gamma^{ (Eg1,1) })_{{180} {181} {182} {183}}B^*(x_0,t_i,t_f,\\Gamma^{ (Eg0,2) })_{{180} {181} {182} {183}}$"
      ],
      "text/plain": [
       "<IPython.core.display.Math object>"
      ]
     },
     "metadata": {},
     "output_type": "display_data"
    },
    {
     "data": {
      "text/latex": [
       "$\\displaystyle -1.0 B(x_1,t_i,\\Gamma^{ (Eg1,1) })_{{180} {181} {182} {183}}B^*(x_0,t_i,t_f,\\Gamma^{ (Eg0,2) })_{{181} {180} {182} {183}}$"
      ],
      "text/plain": [
       "<IPython.core.display.Math object>"
      ]
     },
     "metadata": {},
     "output_type": "display_data"
    },
    {
     "data": {
      "text/latex": [
       "$\\displaystyle 1.0 B(x_1,t_i,\\Gamma^{ (Eg1,1) })_{{180} {181} {182} {183}}B^*(x_0,t_i,t_f,\\Gamma^{ (Eg0,2) })_{{181} {182} {180} {183}}$"
      ],
      "text/plain": [
       "<IPython.core.display.Math object>"
      ]
     },
     "metadata": {},
     "output_type": "display_data"
    },
    {
     "data": {
      "text/latex": [
       "$\\displaystyle -1.0 B(x_1,t_i,\\Gamma^{ (Eg1,1) })_{{180} {181} {182} {183}}B^*(x_0,t_i,t_f,\\Gamma^{ (Eg0,2) })_{{180} {182} {181} {183}}$"
      ],
      "text/plain": [
       "<IPython.core.display.Math object>"
      ]
     },
     "metadata": {},
     "output_type": "display_data"
    },
    {
     "data": {
      "text/latex": [
       "$\\displaystyle 1.0 B(x_1,t_i,\\Gamma^{ (Eg1,1) })_{{180} {181} {182} {183}}B^*(x_0,t_i,t_f,\\Gamma^{ (Eg0,2) })_{{182} {180} {181} {183}}$"
      ],
      "text/plain": [
       "<IPython.core.display.Math object>"
      ]
     },
     "metadata": {},
     "output_type": "display_data"
    },
    {
     "data": {
      "text/latex": [
       "$\\displaystyle -1.0 B(x_1,t_i,\\Gamma^{ (Eg1,1) })_{{180} {181} {182} {183}}B^*(x_0,t_i,t_f,\\Gamma^{ (Eg0,2) })_{{182} {181} {180} {183}}$"
      ],
      "text/plain": [
       "<IPython.core.display.Math object>"
      ]
     },
     "metadata": {},
     "output_type": "display_data"
    },
    {
     "data": {
      "text/latex": [
       "$\\displaystyle 1.0 B(x_1,t_i,\\Gamma^{ (Eg1,1) })_{{180} {181} {182} {183}}B^*(x_0,t_i,t_f,\\Gamma^{ (Eg0,2) })_{{182} {181} {183} {180}}$"
      ],
      "text/plain": [
       "<IPython.core.display.Math object>"
      ]
     },
     "metadata": {},
     "output_type": "display_data"
    },
    {
     "data": {
      "text/latex": [
       "$\\displaystyle -1.0 B(x_1,t_i,\\Gamma^{ (Eg1,1) })_{{180} {181} {182} {183}}B^*(x_0,t_i,t_f,\\Gamma^{ (Eg0,2) })_{{182} {180} {183} {181}}$"
      ],
      "text/plain": [
       "<IPython.core.display.Math object>"
      ]
     },
     "metadata": {},
     "output_type": "display_data"
    },
    {
     "data": {
      "text/latex": [
       "$\\displaystyle 1.0 B(x_1,t_i,\\Gamma^{ (Eg1,1) })_{{180} {181} {182} {183}}B^*(x_0,t_i,t_f,\\Gamma^{ (Eg0,2) })_{{180} {182} {183} {181}}$"
      ],
      "text/plain": [
       "<IPython.core.display.Math object>"
      ]
     },
     "metadata": {},
     "output_type": "display_data"
    },
    {
     "data": {
      "text/latex": [
       "$\\displaystyle -1.0 B(x_1,t_i,\\Gamma^{ (Eg1,1) })_{{180} {181} {182} {183}}B^*(x_0,t_i,t_f,\\Gamma^{ (Eg0,2) })_{{181} {182} {183} {180}}$"
      ],
      "text/plain": [
       "<IPython.core.display.Math object>"
      ]
     },
     "metadata": {},
     "output_type": "display_data"
    },
    {
     "data": {
      "text/latex": [
       "$\\displaystyle 1.0 B(x_1,t_i,\\Gamma^{ (Eg1,1) })_{{180} {181} {182} {183}}B^*(x_0,t_i,t_f,\\Gamma^{ (Eg0,2) })_{{181} {180} {183} {182}}$"
      ],
      "text/plain": [
       "<IPython.core.display.Math object>"
      ]
     },
     "metadata": {},
     "output_type": "display_data"
    },
    {
     "data": {
      "text/latex": [
       "$\\displaystyle -1.0 B(x_1,t_i,\\Gamma^{ (Eg1,1) })_{{180} {181} {182} {183}}B^*(x_0,t_i,t_f,\\Gamma^{ (Eg0,2) })_{{180} {181} {183} {182}}$"
      ],
      "text/plain": [
       "<IPython.core.display.Math object>"
      ]
     },
     "metadata": {},
     "output_type": "display_data"
    },
    {
     "data": {
      "text/latex": [
       "$\\displaystyle 1.0 B(x_1,t_i,\\Gamma^{ (Eg1,1) })_{{180} {181} {182} {183}}B^*(x_0,t_i,t_f,\\Gamma^{ (Eg0,2) })_{{180} {183} {181} {182}}$"
      ],
      "text/plain": [
       "<IPython.core.display.Math object>"
      ]
     },
     "metadata": {},
     "output_type": "display_data"
    },
    {
     "data": {
      "text/latex": [
       "$\\displaystyle -1.0 B(x_1,t_i,\\Gamma^{ (Eg1,1) })_{{180} {181} {182} {183}}B^*(x_0,t_i,t_f,\\Gamma^{ (Eg0,2) })_{{181} {183} {180} {182}}$"
      ],
      "text/plain": [
       "<IPython.core.display.Math object>"
      ]
     },
     "metadata": {},
     "output_type": "display_data"
    },
    {
     "data": {
      "text/latex": [
       "$\\displaystyle 1.0 B(x_1,t_i,\\Gamma^{ (Eg1,1) })_{{180} {181} {182} {183}}B^*(x_0,t_i,t_f,\\Gamma^{ (Eg0,2) })_{{181} {183} {182} {180}}$"
      ],
      "text/plain": [
       "<IPython.core.display.Math object>"
      ]
     },
     "metadata": {},
     "output_type": "display_data"
    },
    {
     "data": {
      "text/latex": [
       "$\\displaystyle -1.0 B(x_1,t_i,\\Gamma^{ (Eg1,1) })_{{180} {181} {182} {183}}B^*(x_0,t_i,t_f,\\Gamma^{ (Eg0,2) })_{{180} {183} {182} {181}}$"
      ],
      "text/plain": [
       "<IPython.core.display.Math object>"
      ]
     },
     "metadata": {},
     "output_type": "display_data"
    },
    {
     "data": {
      "text/latex": [
       "$\\displaystyle 1.0 B(x_1,t_i,\\Gamma^{ (Eg1,1) })_{{180} {181} {182} {183}}B^*(x_0,t_i,t_f,\\Gamma^{ (Eg0,2) })_{{182} {183} {180} {181}}$"
      ],
      "text/plain": [
       "<IPython.core.display.Math object>"
      ]
     },
     "metadata": {},
     "output_type": "display_data"
    },
    {
     "data": {
      "text/latex": [
       "$\\displaystyle -1.0 B(x_1,t_i,\\Gamma^{ (Eg1,1) })_{{180} {181} {182} {183}}B^*(x_0,t_i,t_f,\\Gamma^{ (Eg0,2) })_{{182} {183} {181} {180}}$"
      ],
      "text/plain": [
       "<IPython.core.display.Math object>"
      ]
     },
     "metadata": {},
     "output_type": "display_data"
    },
    {
     "data": {
      "text/latex": [
       "$\\displaystyle 1.0 B(x_1,t_i,\\Gamma^{ (Eg1,1) })_{{180} {181} {182} {183}}B^*(x_0,t_i,t_f,\\Gamma^{ (Eg0,2) })_{{183} {182} {181} {180}}$"
      ],
      "text/plain": [
       "<IPython.core.display.Math object>"
      ]
     },
     "metadata": {},
     "output_type": "display_data"
    },
    {
     "data": {
      "text/latex": [
       "$\\displaystyle -1.0 B(x_1,t_i,\\Gamma^{ (Eg1,1) })_{{180} {181} {182} {183}}B^*(x_0,t_i,t_f,\\Gamma^{ (Eg0,2) })_{{183} {182} {180} {181}}$"
      ],
      "text/plain": [
       "<IPython.core.display.Math object>"
      ]
     },
     "metadata": {},
     "output_type": "display_data"
    },
    {
     "data": {
      "text/latex": [
       "$\\displaystyle 1.0 B(x_1,t_i,\\Gamma^{ (Eg1,1) })_{{180} {181} {182} {183}}B^*(x_0,t_i,t_f,\\Gamma^{ (Eg0,2) })_{{183} {180} {182} {181}}$"
      ],
      "text/plain": [
       "<IPython.core.display.Math object>"
      ]
     },
     "metadata": {},
     "output_type": "display_data"
    },
    {
     "data": {
      "text/latex": [
       "$\\displaystyle -1.0 B(x_1,t_i,\\Gamma^{ (Eg1,1) })_{{180} {181} {182} {183}}B^*(x_0,t_i,t_f,\\Gamma^{ (Eg0,2) })_{{183} {181} {182} {180}}$"
      ],
      "text/plain": [
       "<IPython.core.display.Math object>"
      ]
     },
     "metadata": {},
     "output_type": "display_data"
    },
    {
     "data": {
      "text/latex": [
       "$\\displaystyle 1.0 B(x_1,t_i,\\Gamma^{ (Eg1,1) })_{{180} {181} {182} {183}}B^*(x_0,t_i,t_f,\\Gamma^{ (Eg0,2) })_{{183} {181} {180} {182}}$"
      ],
      "text/plain": [
       "<IPython.core.display.Math object>"
      ]
     },
     "metadata": {},
     "output_type": "display_data"
    },
    {
     "data": {
      "text/latex": [
       "$\\displaystyle -1.0 B(x_1,t_i,\\Gamma^{ (Eg1,1) })_{{180} {181} {182} {183}}B^*(x_0,t_i,t_f,\\Gamma^{ (Eg0,2) })_{{183} {180} {181} {182}}$"
      ],
      "text/plain": [
       "<IPython.core.display.Math object>"
      ]
     },
     "metadata": {},
     "output_type": "display_data"
    },
    {
     "data": {
      "text/latex": [
       "$\\displaystyle 1.0 B(x_1,t_i,\\Gamma^{ (Eg1,2) })_{{188} {189} {190} {191}}B^*(x_0,t_i,t_f,\\Gamma^{ (Eg0,2) })_{{188} {189} {190} {191}}$"
      ],
      "text/plain": [
       "<IPython.core.display.Math object>"
      ]
     },
     "metadata": {},
     "output_type": "display_data"
    },
    {
     "data": {
      "text/latex": [
       "$\\displaystyle -1.0 B(x_1,t_i,\\Gamma^{ (Eg1,2) })_{{188} {189} {190} {191}}B^*(x_0,t_i,t_f,\\Gamma^{ (Eg0,2) })_{{189} {188} {190} {191}}$"
      ],
      "text/plain": [
       "<IPython.core.display.Math object>"
      ]
     },
     "metadata": {},
     "output_type": "display_data"
    },
    {
     "data": {
      "text/latex": [
       "$\\displaystyle 1.0 B(x_1,t_i,\\Gamma^{ (Eg1,2) })_{{188} {189} {190} {191}}B^*(x_0,t_i,t_f,\\Gamma^{ (Eg0,2) })_{{189} {190} {188} {191}}$"
      ],
      "text/plain": [
       "<IPython.core.display.Math object>"
      ]
     },
     "metadata": {},
     "output_type": "display_data"
    },
    {
     "data": {
      "text/latex": [
       "$\\displaystyle -1.0 B(x_1,t_i,\\Gamma^{ (Eg1,2) })_{{188} {189} {190} {191}}B^*(x_0,t_i,t_f,\\Gamma^{ (Eg0,2) })_{{188} {190} {189} {191}}$"
      ],
      "text/plain": [
       "<IPython.core.display.Math object>"
      ]
     },
     "metadata": {},
     "output_type": "display_data"
    },
    {
     "data": {
      "text/latex": [
       "$\\displaystyle 1.0 B(x_1,t_i,\\Gamma^{ (Eg1,2) })_{{188} {189} {190} {191}}B^*(x_0,t_i,t_f,\\Gamma^{ (Eg0,2) })_{{190} {188} {189} {191}}$"
      ],
      "text/plain": [
       "<IPython.core.display.Math object>"
      ]
     },
     "metadata": {},
     "output_type": "display_data"
    },
    {
     "data": {
      "text/latex": [
       "$\\displaystyle -1.0 B(x_1,t_i,\\Gamma^{ (Eg1,2) })_{{188} {189} {190} {191}}B^*(x_0,t_i,t_f,\\Gamma^{ (Eg0,2) })_{{190} {189} {188} {191}}$"
      ],
      "text/plain": [
       "<IPython.core.display.Math object>"
      ]
     },
     "metadata": {},
     "output_type": "display_data"
    },
    {
     "data": {
      "text/latex": [
       "$\\displaystyle 1.0 B(x_1,t_i,\\Gamma^{ (Eg1,2) })_{{188} {189} {190} {191}}B^*(x_0,t_i,t_f,\\Gamma^{ (Eg0,2) })_{{190} {189} {191} {188}}$"
      ],
      "text/plain": [
       "<IPython.core.display.Math object>"
      ]
     },
     "metadata": {},
     "output_type": "display_data"
    },
    {
     "data": {
      "text/latex": [
       "$\\displaystyle -1.0 B(x_1,t_i,\\Gamma^{ (Eg1,2) })_{{188} {189} {190} {191}}B^*(x_0,t_i,t_f,\\Gamma^{ (Eg0,2) })_{{190} {188} {191} {189}}$"
      ],
      "text/plain": [
       "<IPython.core.display.Math object>"
      ]
     },
     "metadata": {},
     "output_type": "display_data"
    },
    {
     "data": {
      "text/latex": [
       "$\\displaystyle 1.0 B(x_1,t_i,\\Gamma^{ (Eg1,2) })_{{188} {189} {190} {191}}B^*(x_0,t_i,t_f,\\Gamma^{ (Eg0,2) })_{{188} {190} {191} {189}}$"
      ],
      "text/plain": [
       "<IPython.core.display.Math object>"
      ]
     },
     "metadata": {},
     "output_type": "display_data"
    },
    {
     "data": {
      "text/latex": [
       "$\\displaystyle -1.0 B(x_1,t_i,\\Gamma^{ (Eg1,2) })_{{188} {189} {190} {191}}B^*(x_0,t_i,t_f,\\Gamma^{ (Eg0,2) })_{{189} {190} {191} {188}}$"
      ],
      "text/plain": [
       "<IPython.core.display.Math object>"
      ]
     },
     "metadata": {},
     "output_type": "display_data"
    },
    {
     "data": {
      "text/latex": [
       "$\\displaystyle 1.0 B(x_1,t_i,\\Gamma^{ (Eg1,2) })_{{188} {189} {190} {191}}B^*(x_0,t_i,t_f,\\Gamma^{ (Eg0,2) })_{{189} {188} {191} {190}}$"
      ],
      "text/plain": [
       "<IPython.core.display.Math object>"
      ]
     },
     "metadata": {},
     "output_type": "display_data"
    },
    {
     "data": {
      "text/latex": [
       "$\\displaystyle -1.0 B(x_1,t_i,\\Gamma^{ (Eg1,2) })_{{188} {189} {190} {191}}B^*(x_0,t_i,t_f,\\Gamma^{ (Eg0,2) })_{{188} {189} {191} {190}}$"
      ],
      "text/plain": [
       "<IPython.core.display.Math object>"
      ]
     },
     "metadata": {},
     "output_type": "display_data"
    },
    {
     "data": {
      "text/latex": [
       "$\\displaystyle 1.0 B(x_1,t_i,\\Gamma^{ (Eg1,2) })_{{188} {189} {190} {191}}B^*(x_0,t_i,t_f,\\Gamma^{ (Eg0,2) })_{{188} {191} {189} {190}}$"
      ],
      "text/plain": [
       "<IPython.core.display.Math object>"
      ]
     },
     "metadata": {},
     "output_type": "display_data"
    },
    {
     "data": {
      "text/latex": [
       "$\\displaystyle -1.0 B(x_1,t_i,\\Gamma^{ (Eg1,2) })_{{188} {189} {190} {191}}B^*(x_0,t_i,t_f,\\Gamma^{ (Eg0,2) })_{{189} {191} {188} {190}}$"
      ],
      "text/plain": [
       "<IPython.core.display.Math object>"
      ]
     },
     "metadata": {},
     "output_type": "display_data"
    },
    {
     "data": {
      "text/latex": [
       "$\\displaystyle 1.0 B(x_1,t_i,\\Gamma^{ (Eg1,2) })_{{188} {189} {190} {191}}B^*(x_0,t_i,t_f,\\Gamma^{ (Eg0,2) })_{{189} {191} {190} {188}}$"
      ],
      "text/plain": [
       "<IPython.core.display.Math object>"
      ]
     },
     "metadata": {},
     "output_type": "display_data"
    },
    {
     "data": {
      "text/latex": [
       "$\\displaystyle -1.0 B(x_1,t_i,\\Gamma^{ (Eg1,2) })_{{188} {189} {190} {191}}B^*(x_0,t_i,t_f,\\Gamma^{ (Eg0,2) })_{{188} {191} {190} {189}}$"
      ],
      "text/plain": [
       "<IPython.core.display.Math object>"
      ]
     },
     "metadata": {},
     "output_type": "display_data"
    },
    {
     "data": {
      "text/latex": [
       "$\\displaystyle 1.0 B(x_1,t_i,\\Gamma^{ (Eg1,2) })_{{188} {189} {190} {191}}B^*(x_0,t_i,t_f,\\Gamma^{ (Eg0,2) })_{{190} {191} {188} {189}}$"
      ],
      "text/plain": [
       "<IPython.core.display.Math object>"
      ]
     },
     "metadata": {},
     "output_type": "display_data"
    },
    {
     "data": {
      "text/latex": [
       "$\\displaystyle -1.0 B(x_1,t_i,\\Gamma^{ (Eg1,2) })_{{188} {189} {190} {191}}B^*(x_0,t_i,t_f,\\Gamma^{ (Eg0,2) })_{{190} {191} {189} {188}}$"
      ],
      "text/plain": [
       "<IPython.core.display.Math object>"
      ]
     },
     "metadata": {},
     "output_type": "display_data"
    },
    {
     "data": {
      "text/latex": [
       "$\\displaystyle 1.0 B(x_1,t_i,\\Gamma^{ (Eg1,2) })_{{188} {189} {190} {191}}B^*(x_0,t_i,t_f,\\Gamma^{ (Eg0,2) })_{{191} {190} {189} {188}}$"
      ],
      "text/plain": [
       "<IPython.core.display.Math object>"
      ]
     },
     "metadata": {},
     "output_type": "display_data"
    },
    {
     "data": {
      "text/latex": [
       "$\\displaystyle -1.0 B(x_1,t_i,\\Gamma^{ (Eg1,2) })_{{188} {189} {190} {191}}B^*(x_0,t_i,t_f,\\Gamma^{ (Eg0,2) })_{{191} {190} {188} {189}}$"
      ],
      "text/plain": [
       "<IPython.core.display.Math object>"
      ]
     },
     "metadata": {},
     "output_type": "display_data"
    },
    {
     "data": {
      "text/latex": [
       "$\\displaystyle 1.0 B(x_1,t_i,\\Gamma^{ (Eg1,2) })_{{188} {189} {190} {191}}B^*(x_0,t_i,t_f,\\Gamma^{ (Eg0,2) })_{{191} {188} {190} {189}}$"
      ],
      "text/plain": [
       "<IPython.core.display.Math object>"
      ]
     },
     "metadata": {},
     "output_type": "display_data"
    },
    {
     "data": {
      "text/latex": [
       "$\\displaystyle -1.0 B(x_1,t_i,\\Gamma^{ (Eg1,2) })_{{188} {189} {190} {191}}B^*(x_0,t_i,t_f,\\Gamma^{ (Eg0,2) })_{{191} {189} {190} {188}}$"
      ],
      "text/plain": [
       "<IPython.core.display.Math object>"
      ]
     },
     "metadata": {},
     "output_type": "display_data"
    },
    {
     "data": {
      "text/latex": [
       "$\\displaystyle 1.0 B(x_1,t_i,\\Gamma^{ (Eg1,2) })_{{188} {189} {190} {191}}B^*(x_0,t_i,t_f,\\Gamma^{ (Eg0,2) })_{{191} {189} {188} {190}}$"
      ],
      "text/plain": [
       "<IPython.core.display.Math object>"
      ]
     },
     "metadata": {},
     "output_type": "display_data"
    },
    {
     "data": {
      "text/latex": [
       "$\\displaystyle -1.0 B(x_1,t_i,\\Gamma^{ (Eg1,2) })_{{188} {189} {190} {191}}B^*(x_0,t_i,t_f,\\Gamma^{ (Eg0,2) })_{{191} {188} {189} {190}}$"
      ],
      "text/plain": [
       "<IPython.core.display.Math object>"
      ]
     },
     "metadata": {},
     "output_type": "display_data"
    },
    {
     "data": {
      "text/latex": [
       "$\\displaystyle 1.0 B(x_1,t_i,\\Gamma^{ (buchoff,0) })_{{132} {133} {134} {135}}B^*(x_0,t_i,t_f,\\Gamma^{ (Eg1,0) })_{{132} {133} {134} {135}}$"
      ],
      "text/plain": [
       "<IPython.core.display.Math object>"
      ]
     },
     "metadata": {},
     "output_type": "display_data"
    },
    {
     "data": {
      "text/latex": [
       "$\\displaystyle -1.0 B(x_1,t_i,\\Gamma^{ (buchoff,0) })_{{132} {133} {134} {135}}B^*(x_0,t_i,t_f,\\Gamma^{ (Eg1,0) })_{{133} {132} {134} {135}}$"
      ],
      "text/plain": [
       "<IPython.core.display.Math object>"
      ]
     },
     "metadata": {},
     "output_type": "display_data"
    },
    {
     "data": {
      "text/latex": [
       "$\\displaystyle 1.0 B(x_1,t_i,\\Gamma^{ (buchoff,0) })_{{132} {133} {134} {135}}B^*(x_0,t_i,t_f,\\Gamma^{ (Eg1,0) })_{{133} {134} {132} {135}}$"
      ],
      "text/plain": [
       "<IPython.core.display.Math object>"
      ]
     },
     "metadata": {},
     "output_type": "display_data"
    },
    {
     "data": {
      "text/latex": [
       "$\\displaystyle -1.0 B(x_1,t_i,\\Gamma^{ (buchoff,0) })_{{132} {133} {134} {135}}B^*(x_0,t_i,t_f,\\Gamma^{ (Eg1,0) })_{{132} {134} {133} {135}}$"
      ],
      "text/plain": [
       "<IPython.core.display.Math object>"
      ]
     },
     "metadata": {},
     "output_type": "display_data"
    },
    {
     "data": {
      "text/latex": [
       "$\\displaystyle 1.0 B(x_1,t_i,\\Gamma^{ (buchoff,0) })_{{132} {133} {134} {135}}B^*(x_0,t_i,t_f,\\Gamma^{ (Eg1,0) })_{{134} {132} {133} {135}}$"
      ],
      "text/plain": [
       "<IPython.core.display.Math object>"
      ]
     },
     "metadata": {},
     "output_type": "display_data"
    },
    {
     "data": {
      "text/latex": [
       "$\\displaystyle -1.0 B(x_1,t_i,\\Gamma^{ (buchoff,0) })_{{132} {133} {134} {135}}B^*(x_0,t_i,t_f,\\Gamma^{ (Eg1,0) })_{{134} {133} {132} {135}}$"
      ],
      "text/plain": [
       "<IPython.core.display.Math object>"
      ]
     },
     "metadata": {},
     "output_type": "display_data"
    },
    {
     "data": {
      "text/latex": [
       "$\\displaystyle 1.0 B(x_1,t_i,\\Gamma^{ (buchoff,0) })_{{132} {133} {134} {135}}B^*(x_0,t_i,t_f,\\Gamma^{ (Eg1,0) })_{{134} {133} {135} {132}}$"
      ],
      "text/plain": [
       "<IPython.core.display.Math object>"
      ]
     },
     "metadata": {},
     "output_type": "display_data"
    },
    {
     "data": {
      "text/latex": [
       "$\\displaystyle -1.0 B(x_1,t_i,\\Gamma^{ (buchoff,0) })_{{132} {133} {134} {135}}B^*(x_0,t_i,t_f,\\Gamma^{ (Eg1,0) })_{{134} {132} {135} {133}}$"
      ],
      "text/plain": [
       "<IPython.core.display.Math object>"
      ]
     },
     "metadata": {},
     "output_type": "display_data"
    },
    {
     "data": {
      "text/latex": [
       "$\\displaystyle 1.0 B(x_1,t_i,\\Gamma^{ (buchoff,0) })_{{132} {133} {134} {135}}B^*(x_0,t_i,t_f,\\Gamma^{ (Eg1,0) })_{{132} {134} {135} {133}}$"
      ],
      "text/plain": [
       "<IPython.core.display.Math object>"
      ]
     },
     "metadata": {},
     "output_type": "display_data"
    },
    {
     "data": {
      "text/latex": [
       "$\\displaystyle -1.0 B(x_1,t_i,\\Gamma^{ (buchoff,0) })_{{132} {133} {134} {135}}B^*(x_0,t_i,t_f,\\Gamma^{ (Eg1,0) })_{{133} {134} {135} {132}}$"
      ],
      "text/plain": [
       "<IPython.core.display.Math object>"
      ]
     },
     "metadata": {},
     "output_type": "display_data"
    },
    {
     "data": {
      "text/latex": [
       "$\\displaystyle 1.0 B(x_1,t_i,\\Gamma^{ (buchoff,0) })_{{132} {133} {134} {135}}B^*(x_0,t_i,t_f,\\Gamma^{ (Eg1,0) })_{{133} {132} {135} {134}}$"
      ],
      "text/plain": [
       "<IPython.core.display.Math object>"
      ]
     },
     "metadata": {},
     "output_type": "display_data"
    },
    {
     "data": {
      "text/latex": [
       "$\\displaystyle -1.0 B(x_1,t_i,\\Gamma^{ (buchoff,0) })_{{132} {133} {134} {135}}B^*(x_0,t_i,t_f,\\Gamma^{ (Eg1,0) })_{{132} {133} {135} {134}}$"
      ],
      "text/plain": [
       "<IPython.core.display.Math object>"
      ]
     },
     "metadata": {},
     "output_type": "display_data"
    },
    {
     "data": {
      "text/latex": [
       "$\\displaystyle 1.0 B(x_1,t_i,\\Gamma^{ (buchoff,0) })_{{132} {133} {134} {135}}B^*(x_0,t_i,t_f,\\Gamma^{ (Eg1,0) })_{{132} {135} {133} {134}}$"
      ],
      "text/plain": [
       "<IPython.core.display.Math object>"
      ]
     },
     "metadata": {},
     "output_type": "display_data"
    },
    {
     "data": {
      "text/latex": [
       "$\\displaystyle -1.0 B(x_1,t_i,\\Gamma^{ (buchoff,0) })_{{132} {133} {134} {135}}B^*(x_0,t_i,t_f,\\Gamma^{ (Eg1,0) })_{{133} {135} {132} {134}}$"
      ],
      "text/plain": [
       "<IPython.core.display.Math object>"
      ]
     },
     "metadata": {},
     "output_type": "display_data"
    },
    {
     "data": {
      "text/latex": [
       "$\\displaystyle 1.0 B(x_1,t_i,\\Gamma^{ (buchoff,0) })_{{132} {133} {134} {135}}B^*(x_0,t_i,t_f,\\Gamma^{ (Eg1,0) })_{{133} {135} {134} {132}}$"
      ],
      "text/plain": [
       "<IPython.core.display.Math object>"
      ]
     },
     "metadata": {},
     "output_type": "display_data"
    },
    {
     "data": {
      "text/latex": [
       "$\\displaystyle -1.0 B(x_1,t_i,\\Gamma^{ (buchoff,0) })_{{132} {133} {134} {135}}B^*(x_0,t_i,t_f,\\Gamma^{ (Eg1,0) })_{{132} {135} {134} {133}}$"
      ],
      "text/plain": [
       "<IPython.core.display.Math object>"
      ]
     },
     "metadata": {},
     "output_type": "display_data"
    },
    {
     "data": {
      "text/latex": [
       "$\\displaystyle 1.0 B(x_1,t_i,\\Gamma^{ (buchoff,0) })_{{132} {133} {134} {135}}B^*(x_0,t_i,t_f,\\Gamma^{ (Eg1,0) })_{{134} {135} {132} {133}}$"
      ],
      "text/plain": [
       "<IPython.core.display.Math object>"
      ]
     },
     "metadata": {},
     "output_type": "display_data"
    },
    {
     "data": {
      "text/latex": [
       "$\\displaystyle -1.0 B(x_1,t_i,\\Gamma^{ (buchoff,0) })_{{132} {133} {134} {135}}B^*(x_0,t_i,t_f,\\Gamma^{ (Eg1,0) })_{{134} {135} {133} {132}}$"
      ],
      "text/plain": [
       "<IPython.core.display.Math object>"
      ]
     },
     "metadata": {},
     "output_type": "display_data"
    },
    {
     "data": {
      "text/latex": [
       "$\\displaystyle 1.0 B(x_1,t_i,\\Gamma^{ (buchoff,0) })_{{132} {133} {134} {135}}B^*(x_0,t_i,t_f,\\Gamma^{ (Eg1,0) })_{{135} {134} {133} {132}}$"
      ],
      "text/plain": [
       "<IPython.core.display.Math object>"
      ]
     },
     "metadata": {},
     "output_type": "display_data"
    },
    {
     "data": {
      "text/latex": [
       "$\\displaystyle -1.0 B(x_1,t_i,\\Gamma^{ (buchoff,0) })_{{132} {133} {134} {135}}B^*(x_0,t_i,t_f,\\Gamma^{ (Eg1,0) })_{{135} {134} {132} {133}}$"
      ],
      "text/plain": [
       "<IPython.core.display.Math object>"
      ]
     },
     "metadata": {},
     "output_type": "display_data"
    },
    {
     "data": {
      "text/latex": [
       "$\\displaystyle 1.0 B(x_1,t_i,\\Gamma^{ (buchoff,0) })_{{132} {133} {134} {135}}B^*(x_0,t_i,t_f,\\Gamma^{ (Eg1,0) })_{{135} {132} {134} {133}}$"
      ],
      "text/plain": [
       "<IPython.core.display.Math object>"
      ]
     },
     "metadata": {},
     "output_type": "display_data"
    },
    {
     "data": {
      "text/latex": [
       "$\\displaystyle -1.0 B(x_1,t_i,\\Gamma^{ (buchoff,0) })_{{132} {133} {134} {135}}B^*(x_0,t_i,t_f,\\Gamma^{ (Eg1,0) })_{{135} {133} {134} {132}}$"
      ],
      "text/plain": [
       "<IPython.core.display.Math object>"
      ]
     },
     "metadata": {},
     "output_type": "display_data"
    },
    {
     "data": {
      "text/latex": [
       "$\\displaystyle 1.0 B(x_1,t_i,\\Gamma^{ (buchoff,0) })_{{132} {133} {134} {135}}B^*(x_0,t_i,t_f,\\Gamma^{ (Eg1,0) })_{{135} {133} {132} {134}}$"
      ],
      "text/plain": [
       "<IPython.core.display.Math object>"
      ]
     },
     "metadata": {},
     "output_type": "display_data"
    },
    {
     "data": {
      "text/latex": [
       "$\\displaystyle -1.0 B(x_1,t_i,\\Gamma^{ (buchoff,0) })_{{132} {133} {134} {135}}B^*(x_0,t_i,t_f,\\Gamma^{ (Eg1,0) })_{{135} {132} {133} {134}}$"
      ],
      "text/plain": [
       "<IPython.core.display.Math object>"
      ]
     },
     "metadata": {},
     "output_type": "display_data"
    },
    {
     "data": {
      "text/latex": [
       "$\\displaystyle 1.0 B^*(x_0,t_i,t_f,\\Gamma^{ (Eg1,0) })_{{140} {141} {142} {143}}B(x_1,t_i,\\Gamma^{ (A1g,0) })_{{140} {141} {142} {143}}$"
      ],
      "text/plain": [
       "<IPython.core.display.Math object>"
      ]
     },
     "metadata": {},
     "output_type": "display_data"
    },
    {
     "data": {
      "text/latex": [
       "$\\displaystyle -1.0 B^*(x_0,t_i,t_f,\\Gamma^{ (Eg1,0) })_{{141} {140} {142} {143}}B(x_1,t_i,\\Gamma^{ (A1g,0) })_{{140} {141} {142} {143}}$"
      ],
      "text/plain": [
       "<IPython.core.display.Math object>"
      ]
     },
     "metadata": {},
     "output_type": "display_data"
    },
    {
     "data": {
      "text/latex": [
       "$\\displaystyle 1.0 B^*(x_0,t_i,t_f,\\Gamma^{ (Eg1,0) })_{{141} {142} {140} {143}}B(x_1,t_i,\\Gamma^{ (A1g,0) })_{{140} {141} {142} {143}}$"
      ],
      "text/plain": [
       "<IPython.core.display.Math object>"
      ]
     },
     "metadata": {},
     "output_type": "display_data"
    },
    {
     "data": {
      "text/latex": [
       "$\\displaystyle -1.0 B^*(x_0,t_i,t_f,\\Gamma^{ (Eg1,0) })_{{140} {142} {141} {143}}B(x_1,t_i,\\Gamma^{ (A1g,0) })_{{140} {141} {142} {143}}$"
      ],
      "text/plain": [
       "<IPython.core.display.Math object>"
      ]
     },
     "metadata": {},
     "output_type": "display_data"
    },
    {
     "data": {
      "text/latex": [
       "$\\displaystyle 1.0 B^*(x_0,t_i,t_f,\\Gamma^{ (Eg1,0) })_{{142} {140} {141} {143}}B(x_1,t_i,\\Gamma^{ (A1g,0) })_{{140} {141} {142} {143}}$"
      ],
      "text/plain": [
       "<IPython.core.display.Math object>"
      ]
     },
     "metadata": {},
     "output_type": "display_data"
    },
    {
     "data": {
      "text/latex": [
       "$\\displaystyle -1.0 B^*(x_0,t_i,t_f,\\Gamma^{ (Eg1,0) })_{{142} {141} {140} {143}}B(x_1,t_i,\\Gamma^{ (A1g,0) })_{{140} {141} {142} {143}}$"
      ],
      "text/plain": [
       "<IPython.core.display.Math object>"
      ]
     },
     "metadata": {},
     "output_type": "display_data"
    },
    {
     "data": {
      "text/latex": [
       "$\\displaystyle 1.0 B^*(x_0,t_i,t_f,\\Gamma^{ (Eg1,0) })_{{142} {141} {143} {140}}B(x_1,t_i,\\Gamma^{ (A1g,0) })_{{140} {141} {142} {143}}$"
      ],
      "text/plain": [
       "<IPython.core.display.Math object>"
      ]
     },
     "metadata": {},
     "output_type": "display_data"
    },
    {
     "data": {
      "text/latex": [
       "$\\displaystyle -1.0 B^*(x_0,t_i,t_f,\\Gamma^{ (Eg1,0) })_{{142} {140} {143} {141}}B(x_1,t_i,\\Gamma^{ (A1g,0) })_{{140} {141} {142} {143}}$"
      ],
      "text/plain": [
       "<IPython.core.display.Math object>"
      ]
     },
     "metadata": {},
     "output_type": "display_data"
    },
    {
     "data": {
      "text/latex": [
       "$\\displaystyle 1.0 B^*(x_0,t_i,t_f,\\Gamma^{ (Eg1,0) })_{{140} {142} {143} {141}}B(x_1,t_i,\\Gamma^{ (A1g,0) })_{{140} {141} {142} {143}}$"
      ],
      "text/plain": [
       "<IPython.core.display.Math object>"
      ]
     },
     "metadata": {},
     "output_type": "display_data"
    },
    {
     "data": {
      "text/latex": [
       "$\\displaystyle -1.0 B^*(x_0,t_i,t_f,\\Gamma^{ (Eg1,0) })_{{141} {142} {143} {140}}B(x_1,t_i,\\Gamma^{ (A1g,0) })_{{140} {141} {142} {143}}$"
      ],
      "text/plain": [
       "<IPython.core.display.Math object>"
      ]
     },
     "metadata": {},
     "output_type": "display_data"
    },
    {
     "data": {
      "text/latex": [
       "$\\displaystyle 1.0 B^*(x_0,t_i,t_f,\\Gamma^{ (Eg1,0) })_{{141} {140} {143} {142}}B(x_1,t_i,\\Gamma^{ (A1g,0) })_{{140} {141} {142} {143}}$"
      ],
      "text/plain": [
       "<IPython.core.display.Math object>"
      ]
     },
     "metadata": {},
     "output_type": "display_data"
    },
    {
     "data": {
      "text/latex": [
       "$\\displaystyle -1.0 B^*(x_0,t_i,t_f,\\Gamma^{ (Eg1,0) })_{{140} {141} {143} {142}}B(x_1,t_i,\\Gamma^{ (A1g,0) })_{{140} {141} {142} {143}}$"
      ],
      "text/plain": [
       "<IPython.core.display.Math object>"
      ]
     },
     "metadata": {},
     "output_type": "display_data"
    },
    {
     "data": {
      "text/latex": [
       "$\\displaystyle 1.0 B^*(x_0,t_i,t_f,\\Gamma^{ (Eg1,0) })_{{140} {143} {141} {142}}B(x_1,t_i,\\Gamma^{ (A1g,0) })_{{140} {141} {142} {143}}$"
      ],
      "text/plain": [
       "<IPython.core.display.Math object>"
      ]
     },
     "metadata": {},
     "output_type": "display_data"
    },
    {
     "data": {
      "text/latex": [
       "$\\displaystyle -1.0 B^*(x_0,t_i,t_f,\\Gamma^{ (Eg1,0) })_{{141} {143} {140} {142}}B(x_1,t_i,\\Gamma^{ (A1g,0) })_{{140} {141} {142} {143}}$"
      ],
      "text/plain": [
       "<IPython.core.display.Math object>"
      ]
     },
     "metadata": {},
     "output_type": "display_data"
    },
    {
     "data": {
      "text/latex": [
       "$\\displaystyle 1.0 B^*(x_0,t_i,t_f,\\Gamma^{ (Eg1,0) })_{{141} {143} {142} {140}}B(x_1,t_i,\\Gamma^{ (A1g,0) })_{{140} {141} {142} {143}}$"
      ],
      "text/plain": [
       "<IPython.core.display.Math object>"
      ]
     },
     "metadata": {},
     "output_type": "display_data"
    },
    {
     "data": {
      "text/latex": [
       "$\\displaystyle -1.0 B^*(x_0,t_i,t_f,\\Gamma^{ (Eg1,0) })_{{140} {143} {142} {141}}B(x_1,t_i,\\Gamma^{ (A1g,0) })_{{140} {141} {142} {143}}$"
      ],
      "text/plain": [
       "<IPython.core.display.Math object>"
      ]
     },
     "metadata": {},
     "output_type": "display_data"
    },
    {
     "data": {
      "text/latex": [
       "$\\displaystyle 1.0 B^*(x_0,t_i,t_f,\\Gamma^{ (Eg1,0) })_{{142} {143} {140} {141}}B(x_1,t_i,\\Gamma^{ (A1g,0) })_{{140} {141} {142} {143}}$"
      ],
      "text/plain": [
       "<IPython.core.display.Math object>"
      ]
     },
     "metadata": {},
     "output_type": "display_data"
    },
    {
     "data": {
      "text/latex": [
       "$\\displaystyle -1.0 B^*(x_0,t_i,t_f,\\Gamma^{ (Eg1,0) })_{{142} {143} {141} {140}}B(x_1,t_i,\\Gamma^{ (A1g,0) })_{{140} {141} {142} {143}}$"
      ],
      "text/plain": [
       "<IPython.core.display.Math object>"
      ]
     },
     "metadata": {},
     "output_type": "display_data"
    },
    {
     "data": {
      "text/latex": [
       "$\\displaystyle 1.0 B^*(x_0,t_i,t_f,\\Gamma^{ (Eg1,0) })_{{143} {142} {141} {140}}B(x_1,t_i,\\Gamma^{ (A1g,0) })_{{140} {141} {142} {143}}$"
      ],
      "text/plain": [
       "<IPython.core.display.Math object>"
      ]
     },
     "metadata": {},
     "output_type": "display_data"
    },
    {
     "data": {
      "text/latex": [
       "$\\displaystyle -1.0 B^*(x_0,t_i,t_f,\\Gamma^{ (Eg1,0) })_{{143} {142} {140} {141}}B(x_1,t_i,\\Gamma^{ (A1g,0) })_{{140} {141} {142} {143}}$"
      ],
      "text/plain": [
       "<IPython.core.display.Math object>"
      ]
     },
     "metadata": {},
     "output_type": "display_data"
    },
    {
     "data": {
      "text/latex": [
       "$\\displaystyle 1.0 B^*(x_0,t_i,t_f,\\Gamma^{ (Eg1,0) })_{{143} {140} {142} {141}}B(x_1,t_i,\\Gamma^{ (A1g,0) })_{{140} {141} {142} {143}}$"
      ],
      "text/plain": [
       "<IPython.core.display.Math object>"
      ]
     },
     "metadata": {},
     "output_type": "display_data"
    },
    {
     "data": {
      "text/latex": [
       "$\\displaystyle -1.0 B^*(x_0,t_i,t_f,\\Gamma^{ (Eg1,0) })_{{143} {141} {142} {140}}B(x_1,t_i,\\Gamma^{ (A1g,0) })_{{140} {141} {142} {143}}$"
      ],
      "text/plain": [
       "<IPython.core.display.Math object>"
      ]
     },
     "metadata": {},
     "output_type": "display_data"
    },
    {
     "data": {
      "text/latex": [
       "$\\displaystyle 1.0 B^*(x_0,t_i,t_f,\\Gamma^{ (Eg1,0) })_{{143} {141} {140} {142}}B(x_1,t_i,\\Gamma^{ (A1g,0) })_{{140} {141} {142} {143}}$"
      ],
      "text/plain": [
       "<IPython.core.display.Math object>"
      ]
     },
     "metadata": {},
     "output_type": "display_data"
    },
    {
     "data": {
      "text/latex": [
       "$\\displaystyle -1.0 B^*(x_0,t_i,t_f,\\Gamma^{ (Eg1,0) })_{{143} {140} {141} {142}}B(x_1,t_i,\\Gamma^{ (A1g,0) })_{{140} {141} {142} {143}}$"
      ],
      "text/plain": [
       "<IPython.core.display.Math object>"
      ]
     },
     "metadata": {},
     "output_type": "display_data"
    },
    {
     "data": {
      "text/latex": [
       "$\\displaystyle 1.0 B^*(x_0,t_i,t_f,\\Gamma^{ (Eg1,0) })_{{148} {149} {150} {151}}B(x_1,t_i,\\Gamma^{ (Eg0,0) })_{{148} {149} {150} {151}}$"
      ],
      "text/plain": [
       "<IPython.core.display.Math object>"
      ]
     },
     "metadata": {},
     "output_type": "display_data"
    },
    {
     "data": {
      "text/latex": [
       "$\\displaystyle -1.0 B^*(x_0,t_i,t_f,\\Gamma^{ (Eg1,0) })_{{149} {148} {150} {151}}B(x_1,t_i,\\Gamma^{ (Eg0,0) })_{{148} {149} {150} {151}}$"
      ],
      "text/plain": [
       "<IPython.core.display.Math object>"
      ]
     },
     "metadata": {},
     "output_type": "display_data"
    },
    {
     "data": {
      "text/latex": [
       "$\\displaystyle 1.0 B^*(x_0,t_i,t_f,\\Gamma^{ (Eg1,0) })_{{149} {150} {148} {151}}B(x_1,t_i,\\Gamma^{ (Eg0,0) })_{{148} {149} {150} {151}}$"
      ],
      "text/plain": [
       "<IPython.core.display.Math object>"
      ]
     },
     "metadata": {},
     "output_type": "display_data"
    },
    {
     "data": {
      "text/latex": [
       "$\\displaystyle -1.0 B^*(x_0,t_i,t_f,\\Gamma^{ (Eg1,0) })_{{148} {150} {149} {151}}B(x_1,t_i,\\Gamma^{ (Eg0,0) })_{{148} {149} {150} {151}}$"
      ],
      "text/plain": [
       "<IPython.core.display.Math object>"
      ]
     },
     "metadata": {},
     "output_type": "display_data"
    },
    {
     "data": {
      "text/latex": [
       "$\\displaystyle 1.0 B^*(x_0,t_i,t_f,\\Gamma^{ (Eg1,0) })_{{150} {148} {149} {151}}B(x_1,t_i,\\Gamma^{ (Eg0,0) })_{{148} {149} {150} {151}}$"
      ],
      "text/plain": [
       "<IPython.core.display.Math object>"
      ]
     },
     "metadata": {},
     "output_type": "display_data"
    },
    {
     "data": {
      "text/latex": [
       "$\\displaystyle -1.0 B^*(x_0,t_i,t_f,\\Gamma^{ (Eg1,0) })_{{150} {149} {148} {151}}B(x_1,t_i,\\Gamma^{ (Eg0,0) })_{{148} {149} {150} {151}}$"
      ],
      "text/plain": [
       "<IPython.core.display.Math object>"
      ]
     },
     "metadata": {},
     "output_type": "display_data"
    },
    {
     "data": {
      "text/latex": [
       "$\\displaystyle 1.0 B^*(x_0,t_i,t_f,\\Gamma^{ (Eg1,0) })_{{150} {149} {151} {148}}B(x_1,t_i,\\Gamma^{ (Eg0,0) })_{{148} {149} {150} {151}}$"
      ],
      "text/plain": [
       "<IPython.core.display.Math object>"
      ]
     },
     "metadata": {},
     "output_type": "display_data"
    },
    {
     "data": {
      "text/latex": [
       "$\\displaystyle -1.0 B^*(x_0,t_i,t_f,\\Gamma^{ (Eg1,0) })_{{150} {148} {151} {149}}B(x_1,t_i,\\Gamma^{ (Eg0,0) })_{{148} {149} {150} {151}}$"
      ],
      "text/plain": [
       "<IPython.core.display.Math object>"
      ]
     },
     "metadata": {},
     "output_type": "display_data"
    },
    {
     "data": {
      "text/latex": [
       "$\\displaystyle 1.0 B^*(x_0,t_i,t_f,\\Gamma^{ (Eg1,0) })_{{148} {150} {151} {149}}B(x_1,t_i,\\Gamma^{ (Eg0,0) })_{{148} {149} {150} {151}}$"
      ],
      "text/plain": [
       "<IPython.core.display.Math object>"
      ]
     },
     "metadata": {},
     "output_type": "display_data"
    },
    {
     "data": {
      "text/latex": [
       "$\\displaystyle -1.0 B^*(x_0,t_i,t_f,\\Gamma^{ (Eg1,0) })_{{149} {150} {151} {148}}B(x_1,t_i,\\Gamma^{ (Eg0,0) })_{{148} {149} {150} {151}}$"
      ],
      "text/plain": [
       "<IPython.core.display.Math object>"
      ]
     },
     "metadata": {},
     "output_type": "display_data"
    },
    {
     "data": {
      "text/latex": [
       "$\\displaystyle 1.0 B^*(x_0,t_i,t_f,\\Gamma^{ (Eg1,0) })_{{149} {148} {151} {150}}B(x_1,t_i,\\Gamma^{ (Eg0,0) })_{{148} {149} {150} {151}}$"
      ],
      "text/plain": [
       "<IPython.core.display.Math object>"
      ]
     },
     "metadata": {},
     "output_type": "display_data"
    },
    {
     "data": {
      "text/latex": [
       "$\\displaystyle -1.0 B^*(x_0,t_i,t_f,\\Gamma^{ (Eg1,0) })_{{148} {149} {151} {150}}B(x_1,t_i,\\Gamma^{ (Eg0,0) })_{{148} {149} {150} {151}}$"
      ],
      "text/plain": [
       "<IPython.core.display.Math object>"
      ]
     },
     "metadata": {},
     "output_type": "display_data"
    },
    {
     "data": {
      "text/latex": [
       "$\\displaystyle 1.0 B^*(x_0,t_i,t_f,\\Gamma^{ (Eg1,0) })_{{148} {151} {149} {150}}B(x_1,t_i,\\Gamma^{ (Eg0,0) })_{{148} {149} {150} {151}}$"
      ],
      "text/plain": [
       "<IPython.core.display.Math object>"
      ]
     },
     "metadata": {},
     "output_type": "display_data"
    },
    {
     "data": {
      "text/latex": [
       "$\\displaystyle -1.0 B^*(x_0,t_i,t_f,\\Gamma^{ (Eg1,0) })_{{149} {151} {148} {150}}B(x_1,t_i,\\Gamma^{ (Eg0,0) })_{{148} {149} {150} {151}}$"
      ],
      "text/plain": [
       "<IPython.core.display.Math object>"
      ]
     },
     "metadata": {},
     "output_type": "display_data"
    },
    {
     "data": {
      "text/latex": [
       "$\\displaystyle 1.0 B^*(x_0,t_i,t_f,\\Gamma^{ (Eg1,0) })_{{149} {151} {150} {148}}B(x_1,t_i,\\Gamma^{ (Eg0,0) })_{{148} {149} {150} {151}}$"
      ],
      "text/plain": [
       "<IPython.core.display.Math object>"
      ]
     },
     "metadata": {},
     "output_type": "display_data"
    },
    {
     "data": {
      "text/latex": [
       "$\\displaystyle -1.0 B^*(x_0,t_i,t_f,\\Gamma^{ (Eg1,0) })_{{148} {151} {150} {149}}B(x_1,t_i,\\Gamma^{ (Eg0,0) })_{{148} {149} {150} {151}}$"
      ],
      "text/plain": [
       "<IPython.core.display.Math object>"
      ]
     },
     "metadata": {},
     "output_type": "display_data"
    },
    {
     "data": {
      "text/latex": [
       "$\\displaystyle 1.0 B^*(x_0,t_i,t_f,\\Gamma^{ (Eg1,0) })_{{150} {151} {148} {149}}B(x_1,t_i,\\Gamma^{ (Eg0,0) })_{{148} {149} {150} {151}}$"
      ],
      "text/plain": [
       "<IPython.core.display.Math object>"
      ]
     },
     "metadata": {},
     "output_type": "display_data"
    },
    {
     "data": {
      "text/latex": [
       "$\\displaystyle -1.0 B^*(x_0,t_i,t_f,\\Gamma^{ (Eg1,0) })_{{150} {151} {149} {148}}B(x_1,t_i,\\Gamma^{ (Eg0,0) })_{{148} {149} {150} {151}}$"
      ],
      "text/plain": [
       "<IPython.core.display.Math object>"
      ]
     },
     "metadata": {},
     "output_type": "display_data"
    },
    {
     "data": {
      "text/latex": [
       "$\\displaystyle 1.0 B^*(x_0,t_i,t_f,\\Gamma^{ (Eg1,0) })_{{151} {150} {149} {148}}B(x_1,t_i,\\Gamma^{ (Eg0,0) })_{{148} {149} {150} {151}}$"
      ],
      "text/plain": [
       "<IPython.core.display.Math object>"
      ]
     },
     "metadata": {},
     "output_type": "display_data"
    },
    {
     "data": {
      "text/latex": [
       "$\\displaystyle -1.0 B^*(x_0,t_i,t_f,\\Gamma^{ (Eg1,0) })_{{151} {150} {148} {149}}B(x_1,t_i,\\Gamma^{ (Eg0,0) })_{{148} {149} {150} {151}}$"
      ],
      "text/plain": [
       "<IPython.core.display.Math object>"
      ]
     },
     "metadata": {},
     "output_type": "display_data"
    },
    {
     "data": {
      "text/latex": [
       "$\\displaystyle 1.0 B^*(x_0,t_i,t_f,\\Gamma^{ (Eg1,0) })_{{151} {148} {150} {149}}B(x_1,t_i,\\Gamma^{ (Eg0,0) })_{{148} {149} {150} {151}}$"
      ],
      "text/plain": [
       "<IPython.core.display.Math object>"
      ]
     },
     "metadata": {},
     "output_type": "display_data"
    },
    {
     "data": {
      "text/latex": [
       "$\\displaystyle -1.0 B^*(x_0,t_i,t_f,\\Gamma^{ (Eg1,0) })_{{151} {149} {150} {148}}B(x_1,t_i,\\Gamma^{ (Eg0,0) })_{{148} {149} {150} {151}}$"
      ],
      "text/plain": [
       "<IPython.core.display.Math object>"
      ]
     },
     "metadata": {},
     "output_type": "display_data"
    },
    {
     "data": {
      "text/latex": [
       "$\\displaystyle 1.0 B^*(x_0,t_i,t_f,\\Gamma^{ (Eg1,0) })_{{151} {149} {148} {150}}B(x_1,t_i,\\Gamma^{ (Eg0,0) })_{{148} {149} {150} {151}}$"
      ],
      "text/plain": [
       "<IPython.core.display.Math object>"
      ]
     },
     "metadata": {},
     "output_type": "display_data"
    },
    {
     "data": {
      "text/latex": [
       "$\\displaystyle -1.0 B^*(x_0,t_i,t_f,\\Gamma^{ (Eg1,0) })_{{151} {148} {149} {150}}B(x_1,t_i,\\Gamma^{ (Eg0,0) })_{{148} {149} {150} {151}}$"
      ],
      "text/plain": [
       "<IPython.core.display.Math object>"
      ]
     },
     "metadata": {},
     "output_type": "display_data"
    },
    {
     "data": {
      "text/latex": [
       "$\\displaystyle 1.0 B^*(x_0,t_i,t_f,\\Gamma^{ (Eg1,0) })_{{156} {157} {158} {159}}B(x_1,t_i,\\Gamma^{ (Eg0,1) })_{{156} {157} {158} {159}}$"
      ],
      "text/plain": [
       "<IPython.core.display.Math object>"
      ]
     },
     "metadata": {},
     "output_type": "display_data"
    },
    {
     "data": {
      "text/latex": [
       "$\\displaystyle -1.0 B^*(x_0,t_i,t_f,\\Gamma^{ (Eg1,0) })_{{157} {156} {158} {159}}B(x_1,t_i,\\Gamma^{ (Eg0,1) })_{{156} {157} {158} {159}}$"
      ],
      "text/plain": [
       "<IPython.core.display.Math object>"
      ]
     },
     "metadata": {},
     "output_type": "display_data"
    },
    {
     "data": {
      "text/latex": [
       "$\\displaystyle 1.0 B^*(x_0,t_i,t_f,\\Gamma^{ (Eg1,0) })_{{157} {158} {156} {159}}B(x_1,t_i,\\Gamma^{ (Eg0,1) })_{{156} {157} {158} {159}}$"
      ],
      "text/plain": [
       "<IPython.core.display.Math object>"
      ]
     },
     "metadata": {},
     "output_type": "display_data"
    },
    {
     "data": {
      "text/latex": [
       "$\\displaystyle -1.0 B^*(x_0,t_i,t_f,\\Gamma^{ (Eg1,0) })_{{156} {158} {157} {159}}B(x_1,t_i,\\Gamma^{ (Eg0,1) })_{{156} {157} {158} {159}}$"
      ],
      "text/plain": [
       "<IPython.core.display.Math object>"
      ]
     },
     "metadata": {},
     "output_type": "display_data"
    },
    {
     "data": {
      "text/latex": [
       "$\\displaystyle 1.0 B^*(x_0,t_i,t_f,\\Gamma^{ (Eg1,0) })_{{158} {156} {157} {159}}B(x_1,t_i,\\Gamma^{ (Eg0,1) })_{{156} {157} {158} {159}}$"
      ],
      "text/plain": [
       "<IPython.core.display.Math object>"
      ]
     },
     "metadata": {},
     "output_type": "display_data"
    },
    {
     "data": {
      "text/latex": [
       "$\\displaystyle -1.0 B^*(x_0,t_i,t_f,\\Gamma^{ (Eg1,0) })_{{158} {157} {156} {159}}B(x_1,t_i,\\Gamma^{ (Eg0,1) })_{{156} {157} {158} {159}}$"
      ],
      "text/plain": [
       "<IPython.core.display.Math object>"
      ]
     },
     "metadata": {},
     "output_type": "display_data"
    },
    {
     "data": {
      "text/latex": [
       "$\\displaystyle 1.0 B^*(x_0,t_i,t_f,\\Gamma^{ (Eg1,0) })_{{158} {157} {159} {156}}B(x_1,t_i,\\Gamma^{ (Eg0,1) })_{{156} {157} {158} {159}}$"
      ],
      "text/plain": [
       "<IPython.core.display.Math object>"
      ]
     },
     "metadata": {},
     "output_type": "display_data"
    },
    {
     "data": {
      "text/latex": [
       "$\\displaystyle -1.0 B^*(x_0,t_i,t_f,\\Gamma^{ (Eg1,0) })_{{158} {156} {159} {157}}B(x_1,t_i,\\Gamma^{ (Eg0,1) })_{{156} {157} {158} {159}}$"
      ],
      "text/plain": [
       "<IPython.core.display.Math object>"
      ]
     },
     "metadata": {},
     "output_type": "display_data"
    },
    {
     "data": {
      "text/latex": [
       "$\\displaystyle 1.0 B^*(x_0,t_i,t_f,\\Gamma^{ (Eg1,0) })_{{156} {158} {159} {157}}B(x_1,t_i,\\Gamma^{ (Eg0,1) })_{{156} {157} {158} {159}}$"
      ],
      "text/plain": [
       "<IPython.core.display.Math object>"
      ]
     },
     "metadata": {},
     "output_type": "display_data"
    },
    {
     "data": {
      "text/latex": [
       "$\\displaystyle -1.0 B^*(x_0,t_i,t_f,\\Gamma^{ (Eg1,0) })_{{157} {158} {159} {156}}B(x_1,t_i,\\Gamma^{ (Eg0,1) })_{{156} {157} {158} {159}}$"
      ],
      "text/plain": [
       "<IPython.core.display.Math object>"
      ]
     },
     "metadata": {},
     "output_type": "display_data"
    },
    {
     "data": {
      "text/latex": [
       "$\\displaystyle 1.0 B^*(x_0,t_i,t_f,\\Gamma^{ (Eg1,0) })_{{157} {156} {159} {158}}B(x_1,t_i,\\Gamma^{ (Eg0,1) })_{{156} {157} {158} {159}}$"
      ],
      "text/plain": [
       "<IPython.core.display.Math object>"
      ]
     },
     "metadata": {},
     "output_type": "display_data"
    },
    {
     "data": {
      "text/latex": [
       "$\\displaystyle -1.0 B^*(x_0,t_i,t_f,\\Gamma^{ (Eg1,0) })_{{156} {157} {159} {158}}B(x_1,t_i,\\Gamma^{ (Eg0,1) })_{{156} {157} {158} {159}}$"
      ],
      "text/plain": [
       "<IPython.core.display.Math object>"
      ]
     },
     "metadata": {},
     "output_type": "display_data"
    },
    {
     "data": {
      "text/latex": [
       "$\\displaystyle 1.0 B^*(x_0,t_i,t_f,\\Gamma^{ (Eg1,0) })_{{156} {159} {157} {158}}B(x_1,t_i,\\Gamma^{ (Eg0,1) })_{{156} {157} {158} {159}}$"
      ],
      "text/plain": [
       "<IPython.core.display.Math object>"
      ]
     },
     "metadata": {},
     "output_type": "display_data"
    },
    {
     "data": {
      "text/latex": [
       "$\\displaystyle -1.0 B^*(x_0,t_i,t_f,\\Gamma^{ (Eg1,0) })_{{157} {159} {156} {158}}B(x_1,t_i,\\Gamma^{ (Eg0,1) })_{{156} {157} {158} {159}}$"
      ],
      "text/plain": [
       "<IPython.core.display.Math object>"
      ]
     },
     "metadata": {},
     "output_type": "display_data"
    },
    {
     "data": {
      "text/latex": [
       "$\\displaystyle 1.0 B^*(x_0,t_i,t_f,\\Gamma^{ (Eg1,0) })_{{157} {159} {158} {156}}B(x_1,t_i,\\Gamma^{ (Eg0,1) })_{{156} {157} {158} {159}}$"
      ],
      "text/plain": [
       "<IPython.core.display.Math object>"
      ]
     },
     "metadata": {},
     "output_type": "display_data"
    },
    {
     "data": {
      "text/latex": [
       "$\\displaystyle -1.0 B^*(x_0,t_i,t_f,\\Gamma^{ (Eg1,0) })_{{156} {159} {158} {157}}B(x_1,t_i,\\Gamma^{ (Eg0,1) })_{{156} {157} {158} {159}}$"
      ],
      "text/plain": [
       "<IPython.core.display.Math object>"
      ]
     },
     "metadata": {},
     "output_type": "display_data"
    },
    {
     "data": {
      "text/latex": [
       "$\\displaystyle 1.0 B^*(x_0,t_i,t_f,\\Gamma^{ (Eg1,0) })_{{158} {159} {156} {157}}B(x_1,t_i,\\Gamma^{ (Eg0,1) })_{{156} {157} {158} {159}}$"
      ],
      "text/plain": [
       "<IPython.core.display.Math object>"
      ]
     },
     "metadata": {},
     "output_type": "display_data"
    },
    {
     "data": {
      "text/latex": [
       "$\\displaystyle -1.0 B^*(x_0,t_i,t_f,\\Gamma^{ (Eg1,0) })_{{158} {159} {157} {156}}B(x_1,t_i,\\Gamma^{ (Eg0,1) })_{{156} {157} {158} {159}}$"
      ],
      "text/plain": [
       "<IPython.core.display.Math object>"
      ]
     },
     "metadata": {},
     "output_type": "display_data"
    },
    {
     "data": {
      "text/latex": [
       "$\\displaystyle 1.0 B^*(x_0,t_i,t_f,\\Gamma^{ (Eg1,0) })_{{159} {158} {157} {156}}B(x_1,t_i,\\Gamma^{ (Eg0,1) })_{{156} {157} {158} {159}}$"
      ],
      "text/plain": [
       "<IPython.core.display.Math object>"
      ]
     },
     "metadata": {},
     "output_type": "display_data"
    },
    {
     "data": {
      "text/latex": [
       "$\\displaystyle -1.0 B^*(x_0,t_i,t_f,\\Gamma^{ (Eg1,0) })_{{159} {158} {156} {157}}B(x_1,t_i,\\Gamma^{ (Eg0,1) })_{{156} {157} {158} {159}}$"
      ],
      "text/plain": [
       "<IPython.core.display.Math object>"
      ]
     },
     "metadata": {},
     "output_type": "display_data"
    },
    {
     "data": {
      "text/latex": [
       "$\\displaystyle 1.0 B^*(x_0,t_i,t_f,\\Gamma^{ (Eg1,0) })_{{159} {156} {158} {157}}B(x_1,t_i,\\Gamma^{ (Eg0,1) })_{{156} {157} {158} {159}}$"
      ],
      "text/plain": [
       "<IPython.core.display.Math object>"
      ]
     },
     "metadata": {},
     "output_type": "display_data"
    },
    {
     "data": {
      "text/latex": [
       "$\\displaystyle -1.0 B^*(x_0,t_i,t_f,\\Gamma^{ (Eg1,0) })_{{159} {157} {158} {156}}B(x_1,t_i,\\Gamma^{ (Eg0,1) })_{{156} {157} {158} {159}}$"
      ],
      "text/plain": [
       "<IPython.core.display.Math object>"
      ]
     },
     "metadata": {},
     "output_type": "display_data"
    },
    {
     "data": {
      "text/latex": [
       "$\\displaystyle 1.0 B^*(x_0,t_i,t_f,\\Gamma^{ (Eg1,0) })_{{159} {157} {156} {158}}B(x_1,t_i,\\Gamma^{ (Eg0,1) })_{{156} {157} {158} {159}}$"
      ],
      "text/plain": [
       "<IPython.core.display.Math object>"
      ]
     },
     "metadata": {},
     "output_type": "display_data"
    },
    {
     "data": {
      "text/latex": [
       "$\\displaystyle -1.0 B^*(x_0,t_i,t_f,\\Gamma^{ (Eg1,0) })_{{159} {156} {157} {158}}B(x_1,t_i,\\Gamma^{ (Eg0,1) })_{{156} {157} {158} {159}}$"
      ],
      "text/plain": [
       "<IPython.core.display.Math object>"
      ]
     },
     "metadata": {},
     "output_type": "display_data"
    },
    {
     "data": {
      "text/latex": [
       "$\\displaystyle 1.0 B^*(x_0,t_i,t_f,\\Gamma^{ (Eg1,0) })_{{164} {165} {166} {167}}B(x_1,t_i,\\Gamma^{ (Eg0,2) })_{{164} {165} {166} {167}}$"
      ],
      "text/plain": [
       "<IPython.core.display.Math object>"
      ]
     },
     "metadata": {},
     "output_type": "display_data"
    },
    {
     "data": {
      "text/latex": [
       "$\\displaystyle -1.0 B^*(x_0,t_i,t_f,\\Gamma^{ (Eg1,0) })_{{165} {164} {166} {167}}B(x_1,t_i,\\Gamma^{ (Eg0,2) })_{{164} {165} {166} {167}}$"
      ],
      "text/plain": [
       "<IPython.core.display.Math object>"
      ]
     },
     "metadata": {},
     "output_type": "display_data"
    },
    {
     "data": {
      "text/latex": [
       "$\\displaystyle 1.0 B^*(x_0,t_i,t_f,\\Gamma^{ (Eg1,0) })_{{165} {166} {164} {167}}B(x_1,t_i,\\Gamma^{ (Eg0,2) })_{{164} {165} {166} {167}}$"
      ],
      "text/plain": [
       "<IPython.core.display.Math object>"
      ]
     },
     "metadata": {},
     "output_type": "display_data"
    },
    {
     "data": {
      "text/latex": [
       "$\\displaystyle -1.0 B^*(x_0,t_i,t_f,\\Gamma^{ (Eg1,0) })_{{164} {166} {165} {167}}B(x_1,t_i,\\Gamma^{ (Eg0,2) })_{{164} {165} {166} {167}}$"
      ],
      "text/plain": [
       "<IPython.core.display.Math object>"
      ]
     },
     "metadata": {},
     "output_type": "display_data"
    },
    {
     "data": {
      "text/latex": [
       "$\\displaystyle 1.0 B^*(x_0,t_i,t_f,\\Gamma^{ (Eg1,0) })_{{166} {164} {165} {167}}B(x_1,t_i,\\Gamma^{ (Eg0,2) })_{{164} {165} {166} {167}}$"
      ],
      "text/plain": [
       "<IPython.core.display.Math object>"
      ]
     },
     "metadata": {},
     "output_type": "display_data"
    },
    {
     "data": {
      "text/latex": [
       "$\\displaystyle -1.0 B^*(x_0,t_i,t_f,\\Gamma^{ (Eg1,0) })_{{166} {165} {164} {167}}B(x_1,t_i,\\Gamma^{ (Eg0,2) })_{{164} {165} {166} {167}}$"
      ],
      "text/plain": [
       "<IPython.core.display.Math object>"
      ]
     },
     "metadata": {},
     "output_type": "display_data"
    },
    {
     "data": {
      "text/latex": [
       "$\\displaystyle 1.0 B^*(x_0,t_i,t_f,\\Gamma^{ (Eg1,0) })_{{166} {165} {167} {164}}B(x_1,t_i,\\Gamma^{ (Eg0,2) })_{{164} {165} {166} {167}}$"
      ],
      "text/plain": [
       "<IPython.core.display.Math object>"
      ]
     },
     "metadata": {},
     "output_type": "display_data"
    },
    {
     "data": {
      "text/latex": [
       "$\\displaystyle -1.0 B^*(x_0,t_i,t_f,\\Gamma^{ (Eg1,0) })_{{166} {164} {167} {165}}B(x_1,t_i,\\Gamma^{ (Eg0,2) })_{{164} {165} {166} {167}}$"
      ],
      "text/plain": [
       "<IPython.core.display.Math object>"
      ]
     },
     "metadata": {},
     "output_type": "display_data"
    },
    {
     "data": {
      "text/latex": [
       "$\\displaystyle 1.0 B^*(x_0,t_i,t_f,\\Gamma^{ (Eg1,0) })_{{164} {166} {167} {165}}B(x_1,t_i,\\Gamma^{ (Eg0,2) })_{{164} {165} {166} {167}}$"
      ],
      "text/plain": [
       "<IPython.core.display.Math object>"
      ]
     },
     "metadata": {},
     "output_type": "display_data"
    },
    {
     "data": {
      "text/latex": [
       "$\\displaystyle -1.0 B^*(x_0,t_i,t_f,\\Gamma^{ (Eg1,0) })_{{165} {166} {167} {164}}B(x_1,t_i,\\Gamma^{ (Eg0,2) })_{{164} {165} {166} {167}}$"
      ],
      "text/plain": [
       "<IPython.core.display.Math object>"
      ]
     },
     "metadata": {},
     "output_type": "display_data"
    },
    {
     "data": {
      "text/latex": [
       "$\\displaystyle 1.0 B^*(x_0,t_i,t_f,\\Gamma^{ (Eg1,0) })_{{165} {164} {167} {166}}B(x_1,t_i,\\Gamma^{ (Eg0,2) })_{{164} {165} {166} {167}}$"
      ],
      "text/plain": [
       "<IPython.core.display.Math object>"
      ]
     },
     "metadata": {},
     "output_type": "display_data"
    },
    {
     "data": {
      "text/latex": [
       "$\\displaystyle -1.0 B^*(x_0,t_i,t_f,\\Gamma^{ (Eg1,0) })_{{164} {165} {167} {166}}B(x_1,t_i,\\Gamma^{ (Eg0,2) })_{{164} {165} {166} {167}}$"
      ],
      "text/plain": [
       "<IPython.core.display.Math object>"
      ]
     },
     "metadata": {},
     "output_type": "display_data"
    },
    {
     "data": {
      "text/latex": [
       "$\\displaystyle 1.0 B^*(x_0,t_i,t_f,\\Gamma^{ (Eg1,0) })_{{164} {167} {165} {166}}B(x_1,t_i,\\Gamma^{ (Eg0,2) })_{{164} {165} {166} {167}}$"
      ],
      "text/plain": [
       "<IPython.core.display.Math object>"
      ]
     },
     "metadata": {},
     "output_type": "display_data"
    },
    {
     "data": {
      "text/latex": [
       "$\\displaystyle -1.0 B^*(x_0,t_i,t_f,\\Gamma^{ (Eg1,0) })_{{165} {167} {164} {166}}B(x_1,t_i,\\Gamma^{ (Eg0,2) })_{{164} {165} {166} {167}}$"
      ],
      "text/plain": [
       "<IPython.core.display.Math object>"
      ]
     },
     "metadata": {},
     "output_type": "display_data"
    },
    {
     "data": {
      "text/latex": [
       "$\\displaystyle 1.0 B^*(x_0,t_i,t_f,\\Gamma^{ (Eg1,0) })_{{165} {167} {166} {164}}B(x_1,t_i,\\Gamma^{ (Eg0,2) })_{{164} {165} {166} {167}}$"
      ],
      "text/plain": [
       "<IPython.core.display.Math object>"
      ]
     },
     "metadata": {},
     "output_type": "display_data"
    },
    {
     "data": {
      "text/latex": [
       "$\\displaystyle -1.0 B^*(x_0,t_i,t_f,\\Gamma^{ (Eg1,0) })_{{164} {167} {166} {165}}B(x_1,t_i,\\Gamma^{ (Eg0,2) })_{{164} {165} {166} {167}}$"
      ],
      "text/plain": [
       "<IPython.core.display.Math object>"
      ]
     },
     "metadata": {},
     "output_type": "display_data"
    },
    {
     "data": {
      "text/latex": [
       "$\\displaystyle 1.0 B^*(x_0,t_i,t_f,\\Gamma^{ (Eg1,0) })_{{166} {167} {164} {165}}B(x_1,t_i,\\Gamma^{ (Eg0,2) })_{{164} {165} {166} {167}}$"
      ],
      "text/plain": [
       "<IPython.core.display.Math object>"
      ]
     },
     "metadata": {},
     "output_type": "display_data"
    },
    {
     "data": {
      "text/latex": [
       "$\\displaystyle -1.0 B^*(x_0,t_i,t_f,\\Gamma^{ (Eg1,0) })_{{166} {167} {165} {164}}B(x_1,t_i,\\Gamma^{ (Eg0,2) })_{{164} {165} {166} {167}}$"
      ],
      "text/plain": [
       "<IPython.core.display.Math object>"
      ]
     },
     "metadata": {},
     "output_type": "display_data"
    },
    {
     "data": {
      "text/latex": [
       "$\\displaystyle 1.0 B^*(x_0,t_i,t_f,\\Gamma^{ (Eg1,0) })_{{167} {166} {165} {164}}B(x_1,t_i,\\Gamma^{ (Eg0,2) })_{{164} {165} {166} {167}}$"
      ],
      "text/plain": [
       "<IPython.core.display.Math object>"
      ]
     },
     "metadata": {},
     "output_type": "display_data"
    },
    {
     "data": {
      "text/latex": [
       "$\\displaystyle -1.0 B^*(x_0,t_i,t_f,\\Gamma^{ (Eg1,0) })_{{167} {166} {164} {165}}B(x_1,t_i,\\Gamma^{ (Eg0,2) })_{{164} {165} {166} {167}}$"
      ],
      "text/plain": [
       "<IPython.core.display.Math object>"
      ]
     },
     "metadata": {},
     "output_type": "display_data"
    },
    {
     "data": {
      "text/latex": [
       "$\\displaystyle 1.0 B^*(x_0,t_i,t_f,\\Gamma^{ (Eg1,0) })_{{167} {164} {166} {165}}B(x_1,t_i,\\Gamma^{ (Eg0,2) })_{{164} {165} {166} {167}}$"
      ],
      "text/plain": [
       "<IPython.core.display.Math object>"
      ]
     },
     "metadata": {},
     "output_type": "display_data"
    },
    {
     "data": {
      "text/latex": [
       "$\\displaystyle -1.0 B^*(x_0,t_i,t_f,\\Gamma^{ (Eg1,0) })_{{167} {165} {166} {164}}B(x_1,t_i,\\Gamma^{ (Eg0,2) })_{{164} {165} {166} {167}}$"
      ],
      "text/plain": [
       "<IPython.core.display.Math object>"
      ]
     },
     "metadata": {},
     "output_type": "display_data"
    },
    {
     "data": {
      "text/latex": [
       "$\\displaystyle 1.0 B^*(x_0,t_i,t_f,\\Gamma^{ (Eg1,0) })_{{167} {165} {164} {166}}B(x_1,t_i,\\Gamma^{ (Eg0,2) })_{{164} {165} {166} {167}}$"
      ],
      "text/plain": [
       "<IPython.core.display.Math object>"
      ]
     },
     "metadata": {},
     "output_type": "display_data"
    },
    {
     "data": {
      "text/latex": [
       "$\\displaystyle -1.0 B^*(x_0,t_i,t_f,\\Gamma^{ (Eg1,0) })_{{167} {164} {165} {166}}B(x_1,t_i,\\Gamma^{ (Eg0,2) })_{{164} {165} {166} {167}}$"
      ],
      "text/plain": [
       "<IPython.core.display.Math object>"
      ]
     },
     "metadata": {},
     "output_type": "display_data"
    },
    {
     "data": {
      "text/latex": [
       "$\\displaystyle 1.0 B(x_1,t_i,\\Gamma^{ (Eg1,0) })_{{172} {173} {174} {175}}B^*(x_0,t_i,t_f,\\Gamma^{ (Eg1,0) })_{{172} {173} {174} {175}}$"
      ],
      "text/plain": [
       "<IPython.core.display.Math object>"
      ]
     },
     "metadata": {},
     "output_type": "display_data"
    },
    {
     "data": {
      "text/latex": [
       "$\\displaystyle -1.0 B(x_1,t_i,\\Gamma^{ (Eg1,0) })_{{172} {173} {174} {175}}B^*(x_0,t_i,t_f,\\Gamma^{ (Eg1,0) })_{{173} {172} {174} {175}}$"
      ],
      "text/plain": [
       "<IPython.core.display.Math object>"
      ]
     },
     "metadata": {},
     "output_type": "display_data"
    },
    {
     "data": {
      "text/latex": [
       "$\\displaystyle 1.0 B(x_1,t_i,\\Gamma^{ (Eg1,0) })_{{172} {173} {174} {175}}B^*(x_0,t_i,t_f,\\Gamma^{ (Eg1,0) })_{{173} {174} {172} {175}}$"
      ],
      "text/plain": [
       "<IPython.core.display.Math object>"
      ]
     },
     "metadata": {},
     "output_type": "display_data"
    },
    {
     "data": {
      "text/latex": [
       "$\\displaystyle -1.0 B(x_1,t_i,\\Gamma^{ (Eg1,0) })_{{172} {173} {174} {175}}B^*(x_0,t_i,t_f,\\Gamma^{ (Eg1,0) })_{{172} {174} {173} {175}}$"
      ],
      "text/plain": [
       "<IPython.core.display.Math object>"
      ]
     },
     "metadata": {},
     "output_type": "display_data"
    },
    {
     "data": {
      "text/latex": [
       "$\\displaystyle 1.0 B(x_1,t_i,\\Gamma^{ (Eg1,0) })_{{172} {173} {174} {175}}B^*(x_0,t_i,t_f,\\Gamma^{ (Eg1,0) })_{{174} {172} {173} {175}}$"
      ],
      "text/plain": [
       "<IPython.core.display.Math object>"
      ]
     },
     "metadata": {},
     "output_type": "display_data"
    },
    {
     "data": {
      "text/latex": [
       "$\\displaystyle -1.0 B(x_1,t_i,\\Gamma^{ (Eg1,0) })_{{172} {173} {174} {175}}B^*(x_0,t_i,t_f,\\Gamma^{ (Eg1,0) })_{{174} {173} {172} {175}}$"
      ],
      "text/plain": [
       "<IPython.core.display.Math object>"
      ]
     },
     "metadata": {},
     "output_type": "display_data"
    },
    {
     "data": {
      "text/latex": [
       "$\\displaystyle 1.0 B(x_1,t_i,\\Gamma^{ (Eg1,0) })_{{172} {173} {174} {175}}B^*(x_0,t_i,t_f,\\Gamma^{ (Eg1,0) })_{{174} {173} {175} {172}}$"
      ],
      "text/plain": [
       "<IPython.core.display.Math object>"
      ]
     },
     "metadata": {},
     "output_type": "display_data"
    },
    {
     "data": {
      "text/latex": [
       "$\\displaystyle -1.0 B(x_1,t_i,\\Gamma^{ (Eg1,0) })_{{172} {173} {174} {175}}B^*(x_0,t_i,t_f,\\Gamma^{ (Eg1,0) })_{{174} {172} {175} {173}}$"
      ],
      "text/plain": [
       "<IPython.core.display.Math object>"
      ]
     },
     "metadata": {},
     "output_type": "display_data"
    },
    {
     "data": {
      "text/latex": [
       "$\\displaystyle 1.0 B(x_1,t_i,\\Gamma^{ (Eg1,0) })_{{172} {173} {174} {175}}B^*(x_0,t_i,t_f,\\Gamma^{ (Eg1,0) })_{{172} {174} {175} {173}}$"
      ],
      "text/plain": [
       "<IPython.core.display.Math object>"
      ]
     },
     "metadata": {},
     "output_type": "display_data"
    },
    {
     "data": {
      "text/latex": [
       "$\\displaystyle -1.0 B(x_1,t_i,\\Gamma^{ (Eg1,0) })_{{172} {173} {174} {175}}B^*(x_0,t_i,t_f,\\Gamma^{ (Eg1,0) })_{{173} {174} {175} {172}}$"
      ],
      "text/plain": [
       "<IPython.core.display.Math object>"
      ]
     },
     "metadata": {},
     "output_type": "display_data"
    },
    {
     "data": {
      "text/latex": [
       "$\\displaystyle 1.0 B(x_1,t_i,\\Gamma^{ (Eg1,0) })_{{172} {173} {174} {175}}B^*(x_0,t_i,t_f,\\Gamma^{ (Eg1,0) })_{{173} {172} {175} {174}}$"
      ],
      "text/plain": [
       "<IPython.core.display.Math object>"
      ]
     },
     "metadata": {},
     "output_type": "display_data"
    },
    {
     "data": {
      "text/latex": [
       "$\\displaystyle -1.0 B(x_1,t_i,\\Gamma^{ (Eg1,0) })_{{172} {173} {174} {175}}B^*(x_0,t_i,t_f,\\Gamma^{ (Eg1,0) })_{{172} {173} {175} {174}}$"
      ],
      "text/plain": [
       "<IPython.core.display.Math object>"
      ]
     },
     "metadata": {},
     "output_type": "display_data"
    },
    {
     "data": {
      "text/latex": [
       "$\\displaystyle 1.0 B(x_1,t_i,\\Gamma^{ (Eg1,0) })_{{172} {173} {174} {175}}B^*(x_0,t_i,t_f,\\Gamma^{ (Eg1,0) })_{{172} {175} {173} {174}}$"
      ],
      "text/plain": [
       "<IPython.core.display.Math object>"
      ]
     },
     "metadata": {},
     "output_type": "display_data"
    },
    {
     "data": {
      "text/latex": [
       "$\\displaystyle -1.0 B(x_1,t_i,\\Gamma^{ (Eg1,0) })_{{172} {173} {174} {175}}B^*(x_0,t_i,t_f,\\Gamma^{ (Eg1,0) })_{{173} {175} {172} {174}}$"
      ],
      "text/plain": [
       "<IPython.core.display.Math object>"
      ]
     },
     "metadata": {},
     "output_type": "display_data"
    },
    {
     "data": {
      "text/latex": [
       "$\\displaystyle 1.0 B(x_1,t_i,\\Gamma^{ (Eg1,0) })_{{172} {173} {174} {175}}B^*(x_0,t_i,t_f,\\Gamma^{ (Eg1,0) })_{{173} {175} {174} {172}}$"
      ],
      "text/plain": [
       "<IPython.core.display.Math object>"
      ]
     },
     "metadata": {},
     "output_type": "display_data"
    },
    {
     "data": {
      "text/latex": [
       "$\\displaystyle -1.0 B(x_1,t_i,\\Gamma^{ (Eg1,0) })_{{172} {173} {174} {175}}B^*(x_0,t_i,t_f,\\Gamma^{ (Eg1,0) })_{{172} {175} {174} {173}}$"
      ],
      "text/plain": [
       "<IPython.core.display.Math object>"
      ]
     },
     "metadata": {},
     "output_type": "display_data"
    },
    {
     "data": {
      "text/latex": [
       "$\\displaystyle 1.0 B(x_1,t_i,\\Gamma^{ (Eg1,0) })_{{172} {173} {174} {175}}B^*(x_0,t_i,t_f,\\Gamma^{ (Eg1,0) })_{{174} {175} {172} {173}}$"
      ],
      "text/plain": [
       "<IPython.core.display.Math object>"
      ]
     },
     "metadata": {},
     "output_type": "display_data"
    },
    {
     "data": {
      "text/latex": [
       "$\\displaystyle -1.0 B(x_1,t_i,\\Gamma^{ (Eg1,0) })_{{172} {173} {174} {175}}B^*(x_0,t_i,t_f,\\Gamma^{ (Eg1,0) })_{{174} {175} {173} {172}}$"
      ],
      "text/plain": [
       "<IPython.core.display.Math object>"
      ]
     },
     "metadata": {},
     "output_type": "display_data"
    },
    {
     "data": {
      "text/latex": [
       "$\\displaystyle 1.0 B(x_1,t_i,\\Gamma^{ (Eg1,0) })_{{172} {173} {174} {175}}B^*(x_0,t_i,t_f,\\Gamma^{ (Eg1,0) })_{{175} {174} {173} {172}}$"
      ],
      "text/plain": [
       "<IPython.core.display.Math object>"
      ]
     },
     "metadata": {},
     "output_type": "display_data"
    },
    {
     "data": {
      "text/latex": [
       "$\\displaystyle -1.0 B(x_1,t_i,\\Gamma^{ (Eg1,0) })_{{172} {173} {174} {175}}B^*(x_0,t_i,t_f,\\Gamma^{ (Eg1,0) })_{{175} {174} {172} {173}}$"
      ],
      "text/plain": [
       "<IPython.core.display.Math object>"
      ]
     },
     "metadata": {},
     "output_type": "display_data"
    },
    {
     "data": {
      "text/latex": [
       "$\\displaystyle 1.0 B(x_1,t_i,\\Gamma^{ (Eg1,0) })_{{172} {173} {174} {175}}B^*(x_0,t_i,t_f,\\Gamma^{ (Eg1,0) })_{{175} {172} {174} {173}}$"
      ],
      "text/plain": [
       "<IPython.core.display.Math object>"
      ]
     },
     "metadata": {},
     "output_type": "display_data"
    },
    {
     "data": {
      "text/latex": [
       "$\\displaystyle -1.0 B(x_1,t_i,\\Gamma^{ (Eg1,0) })_{{172} {173} {174} {175}}B^*(x_0,t_i,t_f,\\Gamma^{ (Eg1,0) })_{{175} {173} {174} {172}}$"
      ],
      "text/plain": [
       "<IPython.core.display.Math object>"
      ]
     },
     "metadata": {},
     "output_type": "display_data"
    },
    {
     "data": {
      "text/latex": [
       "$\\displaystyle 1.0 B(x_1,t_i,\\Gamma^{ (Eg1,0) })_{{172} {173} {174} {175}}B^*(x_0,t_i,t_f,\\Gamma^{ (Eg1,0) })_{{175} {173} {172} {174}}$"
      ],
      "text/plain": [
       "<IPython.core.display.Math object>"
      ]
     },
     "metadata": {},
     "output_type": "display_data"
    },
    {
     "data": {
      "text/latex": [
       "$\\displaystyle -1.0 B(x_1,t_i,\\Gamma^{ (Eg1,0) })_{{172} {173} {174} {175}}B^*(x_0,t_i,t_f,\\Gamma^{ (Eg1,0) })_{{175} {172} {173} {174}}$"
      ],
      "text/plain": [
       "<IPython.core.display.Math object>"
      ]
     },
     "metadata": {},
     "output_type": "display_data"
    },
    {
     "data": {
      "text/latex": [
       "$\\displaystyle 1.0 B(x_1,t_i,\\Gamma^{ (Eg1,1) })_{{180} {181} {182} {183}}B^*(x_0,t_i,t_f,\\Gamma^{ (Eg1,0) })_{{180} {181} {182} {183}}$"
      ],
      "text/plain": [
       "<IPython.core.display.Math object>"
      ]
     },
     "metadata": {},
     "output_type": "display_data"
    },
    {
     "data": {
      "text/latex": [
       "$\\displaystyle -1.0 B(x_1,t_i,\\Gamma^{ (Eg1,1) })_{{180} {181} {182} {183}}B^*(x_0,t_i,t_f,\\Gamma^{ (Eg1,0) })_{{181} {180} {182} {183}}$"
      ],
      "text/plain": [
       "<IPython.core.display.Math object>"
      ]
     },
     "metadata": {},
     "output_type": "display_data"
    },
    {
     "data": {
      "text/latex": [
       "$\\displaystyle 1.0 B(x_1,t_i,\\Gamma^{ (Eg1,1) })_{{180} {181} {182} {183}}B^*(x_0,t_i,t_f,\\Gamma^{ (Eg1,0) })_{{181} {182} {180} {183}}$"
      ],
      "text/plain": [
       "<IPython.core.display.Math object>"
      ]
     },
     "metadata": {},
     "output_type": "display_data"
    },
    {
     "data": {
      "text/latex": [
       "$\\displaystyle -1.0 B(x_1,t_i,\\Gamma^{ (Eg1,1) })_{{180} {181} {182} {183}}B^*(x_0,t_i,t_f,\\Gamma^{ (Eg1,0) })_{{180} {182} {181} {183}}$"
      ],
      "text/plain": [
       "<IPython.core.display.Math object>"
      ]
     },
     "metadata": {},
     "output_type": "display_data"
    },
    {
     "data": {
      "text/latex": [
       "$\\displaystyle 1.0 B(x_1,t_i,\\Gamma^{ (Eg1,1) })_{{180} {181} {182} {183}}B^*(x_0,t_i,t_f,\\Gamma^{ (Eg1,0) })_{{182} {180} {181} {183}}$"
      ],
      "text/plain": [
       "<IPython.core.display.Math object>"
      ]
     },
     "metadata": {},
     "output_type": "display_data"
    },
    {
     "data": {
      "text/latex": [
       "$\\displaystyle -1.0 B(x_1,t_i,\\Gamma^{ (Eg1,1) })_{{180} {181} {182} {183}}B^*(x_0,t_i,t_f,\\Gamma^{ (Eg1,0) })_{{182} {181} {180} {183}}$"
      ],
      "text/plain": [
       "<IPython.core.display.Math object>"
      ]
     },
     "metadata": {},
     "output_type": "display_data"
    },
    {
     "data": {
      "text/latex": [
       "$\\displaystyle 1.0 B(x_1,t_i,\\Gamma^{ (Eg1,1) })_{{180} {181} {182} {183}}B^*(x_0,t_i,t_f,\\Gamma^{ (Eg1,0) })_{{182} {181} {183} {180}}$"
      ],
      "text/plain": [
       "<IPython.core.display.Math object>"
      ]
     },
     "metadata": {},
     "output_type": "display_data"
    },
    {
     "data": {
      "text/latex": [
       "$\\displaystyle -1.0 B(x_1,t_i,\\Gamma^{ (Eg1,1) })_{{180} {181} {182} {183}}B^*(x_0,t_i,t_f,\\Gamma^{ (Eg1,0) })_{{182} {180} {183} {181}}$"
      ],
      "text/plain": [
       "<IPython.core.display.Math object>"
      ]
     },
     "metadata": {},
     "output_type": "display_data"
    },
    {
     "data": {
      "text/latex": [
       "$\\displaystyle 1.0 B(x_1,t_i,\\Gamma^{ (Eg1,1) })_{{180} {181} {182} {183}}B^*(x_0,t_i,t_f,\\Gamma^{ (Eg1,0) })_{{180} {182} {183} {181}}$"
      ],
      "text/plain": [
       "<IPython.core.display.Math object>"
      ]
     },
     "metadata": {},
     "output_type": "display_data"
    },
    {
     "data": {
      "text/latex": [
       "$\\displaystyle -1.0 B(x_1,t_i,\\Gamma^{ (Eg1,1) })_{{180} {181} {182} {183}}B^*(x_0,t_i,t_f,\\Gamma^{ (Eg1,0) })_{{181} {182} {183} {180}}$"
      ],
      "text/plain": [
       "<IPython.core.display.Math object>"
      ]
     },
     "metadata": {},
     "output_type": "display_data"
    },
    {
     "data": {
      "text/latex": [
       "$\\displaystyle 1.0 B(x_1,t_i,\\Gamma^{ (Eg1,1) })_{{180} {181} {182} {183}}B^*(x_0,t_i,t_f,\\Gamma^{ (Eg1,0) })_{{181} {180} {183} {182}}$"
      ],
      "text/plain": [
       "<IPython.core.display.Math object>"
      ]
     },
     "metadata": {},
     "output_type": "display_data"
    },
    {
     "data": {
      "text/latex": [
       "$\\displaystyle -1.0 B(x_1,t_i,\\Gamma^{ (Eg1,1) })_{{180} {181} {182} {183}}B^*(x_0,t_i,t_f,\\Gamma^{ (Eg1,0) })_{{180} {181} {183} {182}}$"
      ],
      "text/plain": [
       "<IPython.core.display.Math object>"
      ]
     },
     "metadata": {},
     "output_type": "display_data"
    },
    {
     "data": {
      "text/latex": [
       "$\\displaystyle 1.0 B(x_1,t_i,\\Gamma^{ (Eg1,1) })_{{180} {181} {182} {183}}B^*(x_0,t_i,t_f,\\Gamma^{ (Eg1,0) })_{{180} {183} {181} {182}}$"
      ],
      "text/plain": [
       "<IPython.core.display.Math object>"
      ]
     },
     "metadata": {},
     "output_type": "display_data"
    },
    {
     "data": {
      "text/latex": [
       "$\\displaystyle -1.0 B(x_1,t_i,\\Gamma^{ (Eg1,1) })_{{180} {181} {182} {183}}B^*(x_0,t_i,t_f,\\Gamma^{ (Eg1,0) })_{{181} {183} {180} {182}}$"
      ],
      "text/plain": [
       "<IPython.core.display.Math object>"
      ]
     },
     "metadata": {},
     "output_type": "display_data"
    },
    {
     "data": {
      "text/latex": [
       "$\\displaystyle 1.0 B(x_1,t_i,\\Gamma^{ (Eg1,1) })_{{180} {181} {182} {183}}B^*(x_0,t_i,t_f,\\Gamma^{ (Eg1,0) })_{{181} {183} {182} {180}}$"
      ],
      "text/plain": [
       "<IPython.core.display.Math object>"
      ]
     },
     "metadata": {},
     "output_type": "display_data"
    },
    {
     "data": {
      "text/latex": [
       "$\\displaystyle -1.0 B(x_1,t_i,\\Gamma^{ (Eg1,1) })_{{180} {181} {182} {183}}B^*(x_0,t_i,t_f,\\Gamma^{ (Eg1,0) })_{{180} {183} {182} {181}}$"
      ],
      "text/plain": [
       "<IPython.core.display.Math object>"
      ]
     },
     "metadata": {},
     "output_type": "display_data"
    },
    {
     "data": {
      "text/latex": [
       "$\\displaystyle 1.0 B(x_1,t_i,\\Gamma^{ (Eg1,1) })_{{180} {181} {182} {183}}B^*(x_0,t_i,t_f,\\Gamma^{ (Eg1,0) })_{{182} {183} {180} {181}}$"
      ],
      "text/plain": [
       "<IPython.core.display.Math object>"
      ]
     },
     "metadata": {},
     "output_type": "display_data"
    },
    {
     "data": {
      "text/latex": [
       "$\\displaystyle -1.0 B(x_1,t_i,\\Gamma^{ (Eg1,1) })_{{180} {181} {182} {183}}B^*(x_0,t_i,t_f,\\Gamma^{ (Eg1,0) })_{{182} {183} {181} {180}}$"
      ],
      "text/plain": [
       "<IPython.core.display.Math object>"
      ]
     },
     "metadata": {},
     "output_type": "display_data"
    },
    {
     "data": {
      "text/latex": [
       "$\\displaystyle 1.0 B(x_1,t_i,\\Gamma^{ (Eg1,1) })_{{180} {181} {182} {183}}B^*(x_0,t_i,t_f,\\Gamma^{ (Eg1,0) })_{{183} {182} {181} {180}}$"
      ],
      "text/plain": [
       "<IPython.core.display.Math object>"
      ]
     },
     "metadata": {},
     "output_type": "display_data"
    },
    {
     "data": {
      "text/latex": [
       "$\\displaystyle -1.0 B(x_1,t_i,\\Gamma^{ (Eg1,1) })_{{180} {181} {182} {183}}B^*(x_0,t_i,t_f,\\Gamma^{ (Eg1,0) })_{{183} {182} {180} {181}}$"
      ],
      "text/plain": [
       "<IPython.core.display.Math object>"
      ]
     },
     "metadata": {},
     "output_type": "display_data"
    },
    {
     "data": {
      "text/latex": [
       "$\\displaystyle 1.0 B(x_1,t_i,\\Gamma^{ (Eg1,1) })_{{180} {181} {182} {183}}B^*(x_0,t_i,t_f,\\Gamma^{ (Eg1,0) })_{{183} {180} {182} {181}}$"
      ],
      "text/plain": [
       "<IPython.core.display.Math object>"
      ]
     },
     "metadata": {},
     "output_type": "display_data"
    },
    {
     "data": {
      "text/latex": [
       "$\\displaystyle -1.0 B(x_1,t_i,\\Gamma^{ (Eg1,1) })_{{180} {181} {182} {183}}B^*(x_0,t_i,t_f,\\Gamma^{ (Eg1,0) })_{{183} {181} {182} {180}}$"
      ],
      "text/plain": [
       "<IPython.core.display.Math object>"
      ]
     },
     "metadata": {},
     "output_type": "display_data"
    },
    {
     "data": {
      "text/latex": [
       "$\\displaystyle 1.0 B(x_1,t_i,\\Gamma^{ (Eg1,1) })_{{180} {181} {182} {183}}B^*(x_0,t_i,t_f,\\Gamma^{ (Eg1,0) })_{{183} {181} {180} {182}}$"
      ],
      "text/plain": [
       "<IPython.core.display.Math object>"
      ]
     },
     "metadata": {},
     "output_type": "display_data"
    },
    {
     "data": {
      "text/latex": [
       "$\\displaystyle -1.0 B(x_1,t_i,\\Gamma^{ (Eg1,1) })_{{180} {181} {182} {183}}B^*(x_0,t_i,t_f,\\Gamma^{ (Eg1,0) })_{{183} {180} {181} {182}}$"
      ],
      "text/plain": [
       "<IPython.core.display.Math object>"
      ]
     },
     "metadata": {},
     "output_type": "display_data"
    },
    {
     "data": {
      "text/latex": [
       "$\\displaystyle 1.0 B(x_1,t_i,\\Gamma^{ (Eg1,2) })_{{188} {189} {190} {191}}B^*(x_0,t_i,t_f,\\Gamma^{ (Eg1,0) })_{{188} {189} {190} {191}}$"
      ],
      "text/plain": [
       "<IPython.core.display.Math object>"
      ]
     },
     "metadata": {},
     "output_type": "display_data"
    },
    {
     "data": {
      "text/latex": [
       "$\\displaystyle -1.0 B(x_1,t_i,\\Gamma^{ (Eg1,2) })_{{188} {189} {190} {191}}B^*(x_0,t_i,t_f,\\Gamma^{ (Eg1,0) })_{{189} {188} {190} {191}}$"
      ],
      "text/plain": [
       "<IPython.core.display.Math object>"
      ]
     },
     "metadata": {},
     "output_type": "display_data"
    },
    {
     "data": {
      "text/latex": [
       "$\\displaystyle 1.0 B(x_1,t_i,\\Gamma^{ (Eg1,2) })_{{188} {189} {190} {191}}B^*(x_0,t_i,t_f,\\Gamma^{ (Eg1,0) })_{{189} {190} {188} {191}}$"
      ],
      "text/plain": [
       "<IPython.core.display.Math object>"
      ]
     },
     "metadata": {},
     "output_type": "display_data"
    },
    {
     "data": {
      "text/latex": [
       "$\\displaystyle -1.0 B(x_1,t_i,\\Gamma^{ (Eg1,2) })_{{188} {189} {190} {191}}B^*(x_0,t_i,t_f,\\Gamma^{ (Eg1,0) })_{{188} {190} {189} {191}}$"
      ],
      "text/plain": [
       "<IPython.core.display.Math object>"
      ]
     },
     "metadata": {},
     "output_type": "display_data"
    },
    {
     "data": {
      "text/latex": [
       "$\\displaystyle 1.0 B(x_1,t_i,\\Gamma^{ (Eg1,2) })_{{188} {189} {190} {191}}B^*(x_0,t_i,t_f,\\Gamma^{ (Eg1,0) })_{{190} {188} {189} {191}}$"
      ],
      "text/plain": [
       "<IPython.core.display.Math object>"
      ]
     },
     "metadata": {},
     "output_type": "display_data"
    },
    {
     "data": {
      "text/latex": [
       "$\\displaystyle -1.0 B(x_1,t_i,\\Gamma^{ (Eg1,2) })_{{188} {189} {190} {191}}B^*(x_0,t_i,t_f,\\Gamma^{ (Eg1,0) })_{{190} {189} {188} {191}}$"
      ],
      "text/plain": [
       "<IPython.core.display.Math object>"
      ]
     },
     "metadata": {},
     "output_type": "display_data"
    },
    {
     "data": {
      "text/latex": [
       "$\\displaystyle 1.0 B(x_1,t_i,\\Gamma^{ (Eg1,2) })_{{188} {189} {190} {191}}B^*(x_0,t_i,t_f,\\Gamma^{ (Eg1,0) })_{{190} {189} {191} {188}}$"
      ],
      "text/plain": [
       "<IPython.core.display.Math object>"
      ]
     },
     "metadata": {},
     "output_type": "display_data"
    },
    {
     "data": {
      "text/latex": [
       "$\\displaystyle -1.0 B(x_1,t_i,\\Gamma^{ (Eg1,2) })_{{188} {189} {190} {191}}B^*(x_0,t_i,t_f,\\Gamma^{ (Eg1,0) })_{{190} {188} {191} {189}}$"
      ],
      "text/plain": [
       "<IPython.core.display.Math object>"
      ]
     },
     "metadata": {},
     "output_type": "display_data"
    },
    {
     "data": {
      "text/latex": [
       "$\\displaystyle 1.0 B(x_1,t_i,\\Gamma^{ (Eg1,2) })_{{188} {189} {190} {191}}B^*(x_0,t_i,t_f,\\Gamma^{ (Eg1,0) })_{{188} {190} {191} {189}}$"
      ],
      "text/plain": [
       "<IPython.core.display.Math object>"
      ]
     },
     "metadata": {},
     "output_type": "display_data"
    },
    {
     "data": {
      "text/latex": [
       "$\\displaystyle -1.0 B(x_1,t_i,\\Gamma^{ (Eg1,2) })_{{188} {189} {190} {191}}B^*(x_0,t_i,t_f,\\Gamma^{ (Eg1,0) })_{{189} {190} {191} {188}}$"
      ],
      "text/plain": [
       "<IPython.core.display.Math object>"
      ]
     },
     "metadata": {},
     "output_type": "display_data"
    },
    {
     "data": {
      "text/latex": [
       "$\\displaystyle 1.0 B(x_1,t_i,\\Gamma^{ (Eg1,2) })_{{188} {189} {190} {191}}B^*(x_0,t_i,t_f,\\Gamma^{ (Eg1,0) })_{{189} {188} {191} {190}}$"
      ],
      "text/plain": [
       "<IPython.core.display.Math object>"
      ]
     },
     "metadata": {},
     "output_type": "display_data"
    },
    {
     "data": {
      "text/latex": [
       "$\\displaystyle -1.0 B(x_1,t_i,\\Gamma^{ (Eg1,2) })_{{188} {189} {190} {191}}B^*(x_0,t_i,t_f,\\Gamma^{ (Eg1,0) })_{{188} {189} {191} {190}}$"
      ],
      "text/plain": [
       "<IPython.core.display.Math object>"
      ]
     },
     "metadata": {},
     "output_type": "display_data"
    },
    {
     "data": {
      "text/latex": [
       "$\\displaystyle 1.0 B(x_1,t_i,\\Gamma^{ (Eg1,2) })_{{188} {189} {190} {191}}B^*(x_0,t_i,t_f,\\Gamma^{ (Eg1,0) })_{{188} {191} {189} {190}}$"
      ],
      "text/plain": [
       "<IPython.core.display.Math object>"
      ]
     },
     "metadata": {},
     "output_type": "display_data"
    },
    {
     "data": {
      "text/latex": [
       "$\\displaystyle -1.0 B(x_1,t_i,\\Gamma^{ (Eg1,2) })_{{188} {189} {190} {191}}B^*(x_0,t_i,t_f,\\Gamma^{ (Eg1,0) })_{{189} {191} {188} {190}}$"
      ],
      "text/plain": [
       "<IPython.core.display.Math object>"
      ]
     },
     "metadata": {},
     "output_type": "display_data"
    },
    {
     "data": {
      "text/latex": [
       "$\\displaystyle 1.0 B(x_1,t_i,\\Gamma^{ (Eg1,2) })_{{188} {189} {190} {191}}B^*(x_0,t_i,t_f,\\Gamma^{ (Eg1,0) })_{{189} {191} {190} {188}}$"
      ],
      "text/plain": [
       "<IPython.core.display.Math object>"
      ]
     },
     "metadata": {},
     "output_type": "display_data"
    },
    {
     "data": {
      "text/latex": [
       "$\\displaystyle -1.0 B(x_1,t_i,\\Gamma^{ (Eg1,2) })_{{188} {189} {190} {191}}B^*(x_0,t_i,t_f,\\Gamma^{ (Eg1,0) })_{{188} {191} {190} {189}}$"
      ],
      "text/plain": [
       "<IPython.core.display.Math object>"
      ]
     },
     "metadata": {},
     "output_type": "display_data"
    },
    {
     "data": {
      "text/latex": [
       "$\\displaystyle 1.0 B(x_1,t_i,\\Gamma^{ (Eg1,2) })_{{188} {189} {190} {191}}B^*(x_0,t_i,t_f,\\Gamma^{ (Eg1,0) })_{{190} {191} {188} {189}}$"
      ],
      "text/plain": [
       "<IPython.core.display.Math object>"
      ]
     },
     "metadata": {},
     "output_type": "display_data"
    },
    {
     "data": {
      "text/latex": [
       "$\\displaystyle -1.0 B(x_1,t_i,\\Gamma^{ (Eg1,2) })_{{188} {189} {190} {191}}B^*(x_0,t_i,t_f,\\Gamma^{ (Eg1,0) })_{{190} {191} {189} {188}}$"
      ],
      "text/plain": [
       "<IPython.core.display.Math object>"
      ]
     },
     "metadata": {},
     "output_type": "display_data"
    },
    {
     "data": {
      "text/latex": [
       "$\\displaystyle 1.0 B(x_1,t_i,\\Gamma^{ (Eg1,2) })_{{188} {189} {190} {191}}B^*(x_0,t_i,t_f,\\Gamma^{ (Eg1,0) })_{{191} {190} {189} {188}}$"
      ],
      "text/plain": [
       "<IPython.core.display.Math object>"
      ]
     },
     "metadata": {},
     "output_type": "display_data"
    },
    {
     "data": {
      "text/latex": [
       "$\\displaystyle -1.0 B(x_1,t_i,\\Gamma^{ (Eg1,2) })_{{188} {189} {190} {191}}B^*(x_0,t_i,t_f,\\Gamma^{ (Eg1,0) })_{{191} {190} {188} {189}}$"
      ],
      "text/plain": [
       "<IPython.core.display.Math object>"
      ]
     },
     "metadata": {},
     "output_type": "display_data"
    },
    {
     "data": {
      "text/latex": [
       "$\\displaystyle 1.0 B(x_1,t_i,\\Gamma^{ (Eg1,2) })_{{188} {189} {190} {191}}B^*(x_0,t_i,t_f,\\Gamma^{ (Eg1,0) })_{{191} {188} {190} {189}}$"
      ],
      "text/plain": [
       "<IPython.core.display.Math object>"
      ]
     },
     "metadata": {},
     "output_type": "display_data"
    },
    {
     "data": {
      "text/latex": [
       "$\\displaystyle -1.0 B(x_1,t_i,\\Gamma^{ (Eg1,2) })_{{188} {189} {190} {191}}B^*(x_0,t_i,t_f,\\Gamma^{ (Eg1,0) })_{{191} {189} {190} {188}}$"
      ],
      "text/plain": [
       "<IPython.core.display.Math object>"
      ]
     },
     "metadata": {},
     "output_type": "display_data"
    },
    {
     "data": {
      "text/latex": [
       "$\\displaystyle 1.0 B(x_1,t_i,\\Gamma^{ (Eg1,2) })_{{188} {189} {190} {191}}B^*(x_0,t_i,t_f,\\Gamma^{ (Eg1,0) })_{{191} {189} {188} {190}}$"
      ],
      "text/plain": [
       "<IPython.core.display.Math object>"
      ]
     },
     "metadata": {},
     "output_type": "display_data"
    },
    {
     "data": {
      "text/latex": [
       "$\\displaystyle -1.0 B(x_1,t_i,\\Gamma^{ (Eg1,2) })_{{188} {189} {190} {191}}B^*(x_0,t_i,t_f,\\Gamma^{ (Eg1,0) })_{{191} {188} {189} {190}}$"
      ],
      "text/plain": [
       "<IPython.core.display.Math object>"
      ]
     },
     "metadata": {},
     "output_type": "display_data"
    },
    {
     "data": {
      "text/latex": [
       "$\\displaystyle 1.0 B(x_1,t_i,\\Gamma^{ (buchoff,0) })_{{132} {133} {134} {135}}B^*(x_0,t_i,t_f,\\Gamma^{ (Eg1,1) })_{{132} {133} {134} {135}}$"
      ],
      "text/plain": [
       "<IPython.core.display.Math object>"
      ]
     },
     "metadata": {},
     "output_type": "display_data"
    },
    {
     "data": {
      "text/latex": [
       "$\\displaystyle -1.0 B(x_1,t_i,\\Gamma^{ (buchoff,0) })_{{132} {133} {134} {135}}B^*(x_0,t_i,t_f,\\Gamma^{ (Eg1,1) })_{{133} {132} {134} {135}}$"
      ],
      "text/plain": [
       "<IPython.core.display.Math object>"
      ]
     },
     "metadata": {},
     "output_type": "display_data"
    },
    {
     "data": {
      "text/latex": [
       "$\\displaystyle 1.0 B(x_1,t_i,\\Gamma^{ (buchoff,0) })_{{132} {133} {134} {135}}B^*(x_0,t_i,t_f,\\Gamma^{ (Eg1,1) })_{{133} {134} {132} {135}}$"
      ],
      "text/plain": [
       "<IPython.core.display.Math object>"
      ]
     },
     "metadata": {},
     "output_type": "display_data"
    },
    {
     "data": {
      "text/latex": [
       "$\\displaystyle -1.0 B(x_1,t_i,\\Gamma^{ (buchoff,0) })_{{132} {133} {134} {135}}B^*(x_0,t_i,t_f,\\Gamma^{ (Eg1,1) })_{{132} {134} {133} {135}}$"
      ],
      "text/plain": [
       "<IPython.core.display.Math object>"
      ]
     },
     "metadata": {},
     "output_type": "display_data"
    },
    {
     "data": {
      "text/latex": [
       "$\\displaystyle 1.0 B(x_1,t_i,\\Gamma^{ (buchoff,0) })_{{132} {133} {134} {135}}B^*(x_0,t_i,t_f,\\Gamma^{ (Eg1,1) })_{{134} {132} {133} {135}}$"
      ],
      "text/plain": [
       "<IPython.core.display.Math object>"
      ]
     },
     "metadata": {},
     "output_type": "display_data"
    },
    {
     "data": {
      "text/latex": [
       "$\\displaystyle -1.0 B(x_1,t_i,\\Gamma^{ (buchoff,0) })_{{132} {133} {134} {135}}B^*(x_0,t_i,t_f,\\Gamma^{ (Eg1,1) })_{{134} {133} {132} {135}}$"
      ],
      "text/plain": [
       "<IPython.core.display.Math object>"
      ]
     },
     "metadata": {},
     "output_type": "display_data"
    },
    {
     "data": {
      "text/latex": [
       "$\\displaystyle 1.0 B(x_1,t_i,\\Gamma^{ (buchoff,0) })_{{132} {133} {134} {135}}B^*(x_0,t_i,t_f,\\Gamma^{ (Eg1,1) })_{{134} {133} {135} {132}}$"
      ],
      "text/plain": [
       "<IPython.core.display.Math object>"
      ]
     },
     "metadata": {},
     "output_type": "display_data"
    },
    {
     "data": {
      "text/latex": [
       "$\\displaystyle -1.0 B(x_1,t_i,\\Gamma^{ (buchoff,0) })_{{132} {133} {134} {135}}B^*(x_0,t_i,t_f,\\Gamma^{ (Eg1,1) })_{{134} {132} {135} {133}}$"
      ],
      "text/plain": [
       "<IPython.core.display.Math object>"
      ]
     },
     "metadata": {},
     "output_type": "display_data"
    },
    {
     "data": {
      "text/latex": [
       "$\\displaystyle 1.0 B(x_1,t_i,\\Gamma^{ (buchoff,0) })_{{132} {133} {134} {135}}B^*(x_0,t_i,t_f,\\Gamma^{ (Eg1,1) })_{{132} {134} {135} {133}}$"
      ],
      "text/plain": [
       "<IPython.core.display.Math object>"
      ]
     },
     "metadata": {},
     "output_type": "display_data"
    },
    {
     "data": {
      "text/latex": [
       "$\\displaystyle -1.0 B(x_1,t_i,\\Gamma^{ (buchoff,0) })_{{132} {133} {134} {135}}B^*(x_0,t_i,t_f,\\Gamma^{ (Eg1,1) })_{{133} {134} {135} {132}}$"
      ],
      "text/plain": [
       "<IPython.core.display.Math object>"
      ]
     },
     "metadata": {},
     "output_type": "display_data"
    },
    {
     "data": {
      "text/latex": [
       "$\\displaystyle 1.0 B(x_1,t_i,\\Gamma^{ (buchoff,0) })_{{132} {133} {134} {135}}B^*(x_0,t_i,t_f,\\Gamma^{ (Eg1,1) })_{{133} {132} {135} {134}}$"
      ],
      "text/plain": [
       "<IPython.core.display.Math object>"
      ]
     },
     "metadata": {},
     "output_type": "display_data"
    },
    {
     "data": {
      "text/latex": [
       "$\\displaystyle -1.0 B(x_1,t_i,\\Gamma^{ (buchoff,0) })_{{132} {133} {134} {135}}B^*(x_0,t_i,t_f,\\Gamma^{ (Eg1,1) })_{{132} {133} {135} {134}}$"
      ],
      "text/plain": [
       "<IPython.core.display.Math object>"
      ]
     },
     "metadata": {},
     "output_type": "display_data"
    },
    {
     "data": {
      "text/latex": [
       "$\\displaystyle 1.0 B(x_1,t_i,\\Gamma^{ (buchoff,0) })_{{132} {133} {134} {135}}B^*(x_0,t_i,t_f,\\Gamma^{ (Eg1,1) })_{{132} {135} {133} {134}}$"
      ],
      "text/plain": [
       "<IPython.core.display.Math object>"
      ]
     },
     "metadata": {},
     "output_type": "display_data"
    },
    {
     "data": {
      "text/latex": [
       "$\\displaystyle -1.0 B(x_1,t_i,\\Gamma^{ (buchoff,0) })_{{132} {133} {134} {135}}B^*(x_0,t_i,t_f,\\Gamma^{ (Eg1,1) })_{{133} {135} {132} {134}}$"
      ],
      "text/plain": [
       "<IPython.core.display.Math object>"
      ]
     },
     "metadata": {},
     "output_type": "display_data"
    },
    {
     "data": {
      "text/latex": [
       "$\\displaystyle 1.0 B(x_1,t_i,\\Gamma^{ (buchoff,0) })_{{132} {133} {134} {135}}B^*(x_0,t_i,t_f,\\Gamma^{ (Eg1,1) })_{{133} {135} {134} {132}}$"
      ],
      "text/plain": [
       "<IPython.core.display.Math object>"
      ]
     },
     "metadata": {},
     "output_type": "display_data"
    },
    {
     "data": {
      "text/latex": [
       "$\\displaystyle -1.0 B(x_1,t_i,\\Gamma^{ (buchoff,0) })_{{132} {133} {134} {135}}B^*(x_0,t_i,t_f,\\Gamma^{ (Eg1,1) })_{{132} {135} {134} {133}}$"
      ],
      "text/plain": [
       "<IPython.core.display.Math object>"
      ]
     },
     "metadata": {},
     "output_type": "display_data"
    },
    {
     "data": {
      "text/latex": [
       "$\\displaystyle 1.0 B(x_1,t_i,\\Gamma^{ (buchoff,0) })_{{132} {133} {134} {135}}B^*(x_0,t_i,t_f,\\Gamma^{ (Eg1,1) })_{{134} {135} {132} {133}}$"
      ],
      "text/plain": [
       "<IPython.core.display.Math object>"
      ]
     },
     "metadata": {},
     "output_type": "display_data"
    },
    {
     "data": {
      "text/latex": [
       "$\\displaystyle -1.0 B(x_1,t_i,\\Gamma^{ (buchoff,0) })_{{132} {133} {134} {135}}B^*(x_0,t_i,t_f,\\Gamma^{ (Eg1,1) })_{{134} {135} {133} {132}}$"
      ],
      "text/plain": [
       "<IPython.core.display.Math object>"
      ]
     },
     "metadata": {},
     "output_type": "display_data"
    },
    {
     "data": {
      "text/latex": [
       "$\\displaystyle 1.0 B(x_1,t_i,\\Gamma^{ (buchoff,0) })_{{132} {133} {134} {135}}B^*(x_0,t_i,t_f,\\Gamma^{ (Eg1,1) })_{{135} {134} {133} {132}}$"
      ],
      "text/plain": [
       "<IPython.core.display.Math object>"
      ]
     },
     "metadata": {},
     "output_type": "display_data"
    },
    {
     "data": {
      "text/latex": [
       "$\\displaystyle -1.0 B(x_1,t_i,\\Gamma^{ (buchoff,0) })_{{132} {133} {134} {135}}B^*(x_0,t_i,t_f,\\Gamma^{ (Eg1,1) })_{{135} {134} {132} {133}}$"
      ],
      "text/plain": [
       "<IPython.core.display.Math object>"
      ]
     },
     "metadata": {},
     "output_type": "display_data"
    },
    {
     "data": {
      "text/latex": [
       "$\\displaystyle 1.0 B(x_1,t_i,\\Gamma^{ (buchoff,0) })_{{132} {133} {134} {135}}B^*(x_0,t_i,t_f,\\Gamma^{ (Eg1,1) })_{{135} {132} {134} {133}}$"
      ],
      "text/plain": [
       "<IPython.core.display.Math object>"
      ]
     },
     "metadata": {},
     "output_type": "display_data"
    },
    {
     "data": {
      "text/latex": [
       "$\\displaystyle -1.0 B(x_1,t_i,\\Gamma^{ (buchoff,0) })_{{132} {133} {134} {135}}B^*(x_0,t_i,t_f,\\Gamma^{ (Eg1,1) })_{{135} {133} {134} {132}}$"
      ],
      "text/plain": [
       "<IPython.core.display.Math object>"
      ]
     },
     "metadata": {},
     "output_type": "display_data"
    },
    {
     "data": {
      "text/latex": [
       "$\\displaystyle 1.0 B(x_1,t_i,\\Gamma^{ (buchoff,0) })_{{132} {133} {134} {135}}B^*(x_0,t_i,t_f,\\Gamma^{ (Eg1,1) })_{{135} {133} {132} {134}}$"
      ],
      "text/plain": [
       "<IPython.core.display.Math object>"
      ]
     },
     "metadata": {},
     "output_type": "display_data"
    },
    {
     "data": {
      "text/latex": [
       "$\\displaystyle -1.0 B(x_1,t_i,\\Gamma^{ (buchoff,0) })_{{132} {133} {134} {135}}B^*(x_0,t_i,t_f,\\Gamma^{ (Eg1,1) })_{{135} {132} {133} {134}}$"
      ],
      "text/plain": [
       "<IPython.core.display.Math object>"
      ]
     },
     "metadata": {},
     "output_type": "display_data"
    },
    {
     "data": {
      "text/latex": [
       "$\\displaystyle 1.0 B^*(x_0,t_i,t_f,\\Gamma^{ (Eg1,1) })_{{140} {141} {142} {143}}B(x_1,t_i,\\Gamma^{ (A1g,0) })_{{140} {141} {142} {143}}$"
      ],
      "text/plain": [
       "<IPython.core.display.Math object>"
      ]
     },
     "metadata": {},
     "output_type": "display_data"
    },
    {
     "data": {
      "text/latex": [
       "$\\displaystyle -1.0 B^*(x_0,t_i,t_f,\\Gamma^{ (Eg1,1) })_{{141} {140} {142} {143}}B(x_1,t_i,\\Gamma^{ (A1g,0) })_{{140} {141} {142} {143}}$"
      ],
      "text/plain": [
       "<IPython.core.display.Math object>"
      ]
     },
     "metadata": {},
     "output_type": "display_data"
    },
    {
     "data": {
      "text/latex": [
       "$\\displaystyle 1.0 B^*(x_0,t_i,t_f,\\Gamma^{ (Eg1,1) })_{{141} {142} {140} {143}}B(x_1,t_i,\\Gamma^{ (A1g,0) })_{{140} {141} {142} {143}}$"
      ],
      "text/plain": [
       "<IPython.core.display.Math object>"
      ]
     },
     "metadata": {},
     "output_type": "display_data"
    },
    {
     "data": {
      "text/latex": [
       "$\\displaystyle -1.0 B^*(x_0,t_i,t_f,\\Gamma^{ (Eg1,1) })_{{140} {142} {141} {143}}B(x_1,t_i,\\Gamma^{ (A1g,0) })_{{140} {141} {142} {143}}$"
      ],
      "text/plain": [
       "<IPython.core.display.Math object>"
      ]
     },
     "metadata": {},
     "output_type": "display_data"
    },
    {
     "data": {
      "text/latex": [
       "$\\displaystyle 1.0 B^*(x_0,t_i,t_f,\\Gamma^{ (Eg1,1) })_{{142} {140} {141} {143}}B(x_1,t_i,\\Gamma^{ (A1g,0) })_{{140} {141} {142} {143}}$"
      ],
      "text/plain": [
       "<IPython.core.display.Math object>"
      ]
     },
     "metadata": {},
     "output_type": "display_data"
    },
    {
     "data": {
      "text/latex": [
       "$\\displaystyle -1.0 B^*(x_0,t_i,t_f,\\Gamma^{ (Eg1,1) })_{{142} {141} {140} {143}}B(x_1,t_i,\\Gamma^{ (A1g,0) })_{{140} {141} {142} {143}}$"
      ],
      "text/plain": [
       "<IPython.core.display.Math object>"
      ]
     },
     "metadata": {},
     "output_type": "display_data"
    },
    {
     "data": {
      "text/latex": [
       "$\\displaystyle 1.0 B^*(x_0,t_i,t_f,\\Gamma^{ (Eg1,1) })_{{142} {141} {143} {140}}B(x_1,t_i,\\Gamma^{ (A1g,0) })_{{140} {141} {142} {143}}$"
      ],
      "text/plain": [
       "<IPython.core.display.Math object>"
      ]
     },
     "metadata": {},
     "output_type": "display_data"
    },
    {
     "data": {
      "text/latex": [
       "$\\displaystyle -1.0 B^*(x_0,t_i,t_f,\\Gamma^{ (Eg1,1) })_{{142} {140} {143} {141}}B(x_1,t_i,\\Gamma^{ (A1g,0) })_{{140} {141} {142} {143}}$"
      ],
      "text/plain": [
       "<IPython.core.display.Math object>"
      ]
     },
     "metadata": {},
     "output_type": "display_data"
    },
    {
     "data": {
      "text/latex": [
       "$\\displaystyle 1.0 B^*(x_0,t_i,t_f,\\Gamma^{ (Eg1,1) })_{{140} {142} {143} {141}}B(x_1,t_i,\\Gamma^{ (A1g,0) })_{{140} {141} {142} {143}}$"
      ],
      "text/plain": [
       "<IPython.core.display.Math object>"
      ]
     },
     "metadata": {},
     "output_type": "display_data"
    },
    {
     "data": {
      "text/latex": [
       "$\\displaystyle -1.0 B^*(x_0,t_i,t_f,\\Gamma^{ (Eg1,1) })_{{141} {142} {143} {140}}B(x_1,t_i,\\Gamma^{ (A1g,0) })_{{140} {141} {142} {143}}$"
      ],
      "text/plain": [
       "<IPython.core.display.Math object>"
      ]
     },
     "metadata": {},
     "output_type": "display_data"
    },
    {
     "data": {
      "text/latex": [
       "$\\displaystyle 1.0 B^*(x_0,t_i,t_f,\\Gamma^{ (Eg1,1) })_{{141} {140} {143} {142}}B(x_1,t_i,\\Gamma^{ (A1g,0) })_{{140} {141} {142} {143}}$"
      ],
      "text/plain": [
       "<IPython.core.display.Math object>"
      ]
     },
     "metadata": {},
     "output_type": "display_data"
    },
    {
     "data": {
      "text/latex": [
       "$\\displaystyle -1.0 B^*(x_0,t_i,t_f,\\Gamma^{ (Eg1,1) })_{{140} {141} {143} {142}}B(x_1,t_i,\\Gamma^{ (A1g,0) })_{{140} {141} {142} {143}}$"
      ],
      "text/plain": [
       "<IPython.core.display.Math object>"
      ]
     },
     "metadata": {},
     "output_type": "display_data"
    },
    {
     "data": {
      "text/latex": [
       "$\\displaystyle 1.0 B^*(x_0,t_i,t_f,\\Gamma^{ (Eg1,1) })_{{140} {143} {141} {142}}B(x_1,t_i,\\Gamma^{ (A1g,0) })_{{140} {141} {142} {143}}$"
      ],
      "text/plain": [
       "<IPython.core.display.Math object>"
      ]
     },
     "metadata": {},
     "output_type": "display_data"
    },
    {
     "data": {
      "text/latex": [
       "$\\displaystyle -1.0 B^*(x_0,t_i,t_f,\\Gamma^{ (Eg1,1) })_{{141} {143} {140} {142}}B(x_1,t_i,\\Gamma^{ (A1g,0) })_{{140} {141} {142} {143}}$"
      ],
      "text/plain": [
       "<IPython.core.display.Math object>"
      ]
     },
     "metadata": {},
     "output_type": "display_data"
    },
    {
     "data": {
      "text/latex": [
       "$\\displaystyle 1.0 B^*(x_0,t_i,t_f,\\Gamma^{ (Eg1,1) })_{{141} {143} {142} {140}}B(x_1,t_i,\\Gamma^{ (A1g,0) })_{{140} {141} {142} {143}}$"
      ],
      "text/plain": [
       "<IPython.core.display.Math object>"
      ]
     },
     "metadata": {},
     "output_type": "display_data"
    },
    {
     "data": {
      "text/latex": [
       "$\\displaystyle -1.0 B^*(x_0,t_i,t_f,\\Gamma^{ (Eg1,1) })_{{140} {143} {142} {141}}B(x_1,t_i,\\Gamma^{ (A1g,0) })_{{140} {141} {142} {143}}$"
      ],
      "text/plain": [
       "<IPython.core.display.Math object>"
      ]
     },
     "metadata": {},
     "output_type": "display_data"
    },
    {
     "data": {
      "text/latex": [
       "$\\displaystyle 1.0 B^*(x_0,t_i,t_f,\\Gamma^{ (Eg1,1) })_{{142} {143} {140} {141}}B(x_1,t_i,\\Gamma^{ (A1g,0) })_{{140} {141} {142} {143}}$"
      ],
      "text/plain": [
       "<IPython.core.display.Math object>"
      ]
     },
     "metadata": {},
     "output_type": "display_data"
    },
    {
     "data": {
      "text/latex": [
       "$\\displaystyle -1.0 B^*(x_0,t_i,t_f,\\Gamma^{ (Eg1,1) })_{{142} {143} {141} {140}}B(x_1,t_i,\\Gamma^{ (A1g,0) })_{{140} {141} {142} {143}}$"
      ],
      "text/plain": [
       "<IPython.core.display.Math object>"
      ]
     },
     "metadata": {},
     "output_type": "display_data"
    },
    {
     "data": {
      "text/latex": [
       "$\\displaystyle 1.0 B^*(x_0,t_i,t_f,\\Gamma^{ (Eg1,1) })_{{143} {142} {141} {140}}B(x_1,t_i,\\Gamma^{ (A1g,0) })_{{140} {141} {142} {143}}$"
      ],
      "text/plain": [
       "<IPython.core.display.Math object>"
      ]
     },
     "metadata": {},
     "output_type": "display_data"
    },
    {
     "data": {
      "text/latex": [
       "$\\displaystyle -1.0 B^*(x_0,t_i,t_f,\\Gamma^{ (Eg1,1) })_{{143} {142} {140} {141}}B(x_1,t_i,\\Gamma^{ (A1g,0) })_{{140} {141} {142} {143}}$"
      ],
      "text/plain": [
       "<IPython.core.display.Math object>"
      ]
     },
     "metadata": {},
     "output_type": "display_data"
    },
    {
     "data": {
      "text/latex": [
       "$\\displaystyle 1.0 B^*(x_0,t_i,t_f,\\Gamma^{ (Eg1,1) })_{{143} {140} {142} {141}}B(x_1,t_i,\\Gamma^{ (A1g,0) })_{{140} {141} {142} {143}}$"
      ],
      "text/plain": [
       "<IPython.core.display.Math object>"
      ]
     },
     "metadata": {},
     "output_type": "display_data"
    },
    {
     "data": {
      "text/latex": [
       "$\\displaystyle -1.0 B^*(x_0,t_i,t_f,\\Gamma^{ (Eg1,1) })_{{143} {141} {142} {140}}B(x_1,t_i,\\Gamma^{ (A1g,0) })_{{140} {141} {142} {143}}$"
      ],
      "text/plain": [
       "<IPython.core.display.Math object>"
      ]
     },
     "metadata": {},
     "output_type": "display_data"
    },
    {
     "data": {
      "text/latex": [
       "$\\displaystyle 1.0 B^*(x_0,t_i,t_f,\\Gamma^{ (Eg1,1) })_{{143} {141} {140} {142}}B(x_1,t_i,\\Gamma^{ (A1g,0) })_{{140} {141} {142} {143}}$"
      ],
      "text/plain": [
       "<IPython.core.display.Math object>"
      ]
     },
     "metadata": {},
     "output_type": "display_data"
    },
    {
     "data": {
      "text/latex": [
       "$\\displaystyle -1.0 B^*(x_0,t_i,t_f,\\Gamma^{ (Eg1,1) })_{{143} {140} {141} {142}}B(x_1,t_i,\\Gamma^{ (A1g,0) })_{{140} {141} {142} {143}}$"
      ],
      "text/plain": [
       "<IPython.core.display.Math object>"
      ]
     },
     "metadata": {},
     "output_type": "display_data"
    },
    {
     "data": {
      "text/latex": [
       "$\\displaystyle 1.0 B^*(x_0,t_i,t_f,\\Gamma^{ (Eg1,1) })_{{148} {149} {150} {151}}B(x_1,t_i,\\Gamma^{ (Eg0,0) })_{{148} {149} {150} {151}}$"
      ],
      "text/plain": [
       "<IPython.core.display.Math object>"
      ]
     },
     "metadata": {},
     "output_type": "display_data"
    },
    {
     "data": {
      "text/latex": [
       "$\\displaystyle -1.0 B^*(x_0,t_i,t_f,\\Gamma^{ (Eg1,1) })_{{149} {148} {150} {151}}B(x_1,t_i,\\Gamma^{ (Eg0,0) })_{{148} {149} {150} {151}}$"
      ],
      "text/plain": [
       "<IPython.core.display.Math object>"
      ]
     },
     "metadata": {},
     "output_type": "display_data"
    },
    {
     "data": {
      "text/latex": [
       "$\\displaystyle 1.0 B^*(x_0,t_i,t_f,\\Gamma^{ (Eg1,1) })_{{149} {150} {148} {151}}B(x_1,t_i,\\Gamma^{ (Eg0,0) })_{{148} {149} {150} {151}}$"
      ],
      "text/plain": [
       "<IPython.core.display.Math object>"
      ]
     },
     "metadata": {},
     "output_type": "display_data"
    },
    {
     "data": {
      "text/latex": [
       "$\\displaystyle -1.0 B^*(x_0,t_i,t_f,\\Gamma^{ (Eg1,1) })_{{148} {150} {149} {151}}B(x_1,t_i,\\Gamma^{ (Eg0,0) })_{{148} {149} {150} {151}}$"
      ],
      "text/plain": [
       "<IPython.core.display.Math object>"
      ]
     },
     "metadata": {},
     "output_type": "display_data"
    },
    {
     "data": {
      "text/latex": [
       "$\\displaystyle 1.0 B^*(x_0,t_i,t_f,\\Gamma^{ (Eg1,1) })_{{150} {148} {149} {151}}B(x_1,t_i,\\Gamma^{ (Eg0,0) })_{{148} {149} {150} {151}}$"
      ],
      "text/plain": [
       "<IPython.core.display.Math object>"
      ]
     },
     "metadata": {},
     "output_type": "display_data"
    },
    {
     "data": {
      "text/latex": [
       "$\\displaystyle -1.0 B^*(x_0,t_i,t_f,\\Gamma^{ (Eg1,1) })_{{150} {149} {148} {151}}B(x_1,t_i,\\Gamma^{ (Eg0,0) })_{{148} {149} {150} {151}}$"
      ],
      "text/plain": [
       "<IPython.core.display.Math object>"
      ]
     },
     "metadata": {},
     "output_type": "display_data"
    },
    {
     "data": {
      "text/latex": [
       "$\\displaystyle 1.0 B^*(x_0,t_i,t_f,\\Gamma^{ (Eg1,1) })_{{150} {149} {151} {148}}B(x_1,t_i,\\Gamma^{ (Eg0,0) })_{{148} {149} {150} {151}}$"
      ],
      "text/plain": [
       "<IPython.core.display.Math object>"
      ]
     },
     "metadata": {},
     "output_type": "display_data"
    },
    {
     "data": {
      "text/latex": [
       "$\\displaystyle -1.0 B^*(x_0,t_i,t_f,\\Gamma^{ (Eg1,1) })_{{150} {148} {151} {149}}B(x_1,t_i,\\Gamma^{ (Eg0,0) })_{{148} {149} {150} {151}}$"
      ],
      "text/plain": [
       "<IPython.core.display.Math object>"
      ]
     },
     "metadata": {},
     "output_type": "display_data"
    },
    {
     "data": {
      "text/latex": [
       "$\\displaystyle 1.0 B^*(x_0,t_i,t_f,\\Gamma^{ (Eg1,1) })_{{148} {150} {151} {149}}B(x_1,t_i,\\Gamma^{ (Eg0,0) })_{{148} {149} {150} {151}}$"
      ],
      "text/plain": [
       "<IPython.core.display.Math object>"
      ]
     },
     "metadata": {},
     "output_type": "display_data"
    },
    {
     "data": {
      "text/latex": [
       "$\\displaystyle -1.0 B^*(x_0,t_i,t_f,\\Gamma^{ (Eg1,1) })_{{149} {150} {151} {148}}B(x_1,t_i,\\Gamma^{ (Eg0,0) })_{{148} {149} {150} {151}}$"
      ],
      "text/plain": [
       "<IPython.core.display.Math object>"
      ]
     },
     "metadata": {},
     "output_type": "display_data"
    },
    {
     "data": {
      "text/latex": [
       "$\\displaystyle 1.0 B^*(x_0,t_i,t_f,\\Gamma^{ (Eg1,1) })_{{149} {148} {151} {150}}B(x_1,t_i,\\Gamma^{ (Eg0,0) })_{{148} {149} {150} {151}}$"
      ],
      "text/plain": [
       "<IPython.core.display.Math object>"
      ]
     },
     "metadata": {},
     "output_type": "display_data"
    },
    {
     "data": {
      "text/latex": [
       "$\\displaystyle -1.0 B^*(x_0,t_i,t_f,\\Gamma^{ (Eg1,1) })_{{148} {149} {151} {150}}B(x_1,t_i,\\Gamma^{ (Eg0,0) })_{{148} {149} {150} {151}}$"
      ],
      "text/plain": [
       "<IPython.core.display.Math object>"
      ]
     },
     "metadata": {},
     "output_type": "display_data"
    },
    {
     "data": {
      "text/latex": [
       "$\\displaystyle 1.0 B^*(x_0,t_i,t_f,\\Gamma^{ (Eg1,1) })_{{148} {151} {149} {150}}B(x_1,t_i,\\Gamma^{ (Eg0,0) })_{{148} {149} {150} {151}}$"
      ],
      "text/plain": [
       "<IPython.core.display.Math object>"
      ]
     },
     "metadata": {},
     "output_type": "display_data"
    },
    {
     "data": {
      "text/latex": [
       "$\\displaystyle -1.0 B^*(x_0,t_i,t_f,\\Gamma^{ (Eg1,1) })_{{149} {151} {148} {150}}B(x_1,t_i,\\Gamma^{ (Eg0,0) })_{{148} {149} {150} {151}}$"
      ],
      "text/plain": [
       "<IPython.core.display.Math object>"
      ]
     },
     "metadata": {},
     "output_type": "display_data"
    },
    {
     "data": {
      "text/latex": [
       "$\\displaystyle 1.0 B^*(x_0,t_i,t_f,\\Gamma^{ (Eg1,1) })_{{149} {151} {150} {148}}B(x_1,t_i,\\Gamma^{ (Eg0,0) })_{{148} {149} {150} {151}}$"
      ],
      "text/plain": [
       "<IPython.core.display.Math object>"
      ]
     },
     "metadata": {},
     "output_type": "display_data"
    },
    {
     "data": {
      "text/latex": [
       "$\\displaystyle -1.0 B^*(x_0,t_i,t_f,\\Gamma^{ (Eg1,1) })_{{148} {151} {150} {149}}B(x_1,t_i,\\Gamma^{ (Eg0,0) })_{{148} {149} {150} {151}}$"
      ],
      "text/plain": [
       "<IPython.core.display.Math object>"
      ]
     },
     "metadata": {},
     "output_type": "display_data"
    },
    {
     "data": {
      "text/latex": [
       "$\\displaystyle 1.0 B^*(x_0,t_i,t_f,\\Gamma^{ (Eg1,1) })_{{150} {151} {148} {149}}B(x_1,t_i,\\Gamma^{ (Eg0,0) })_{{148} {149} {150} {151}}$"
      ],
      "text/plain": [
       "<IPython.core.display.Math object>"
      ]
     },
     "metadata": {},
     "output_type": "display_data"
    },
    {
     "data": {
      "text/latex": [
       "$\\displaystyle -1.0 B^*(x_0,t_i,t_f,\\Gamma^{ (Eg1,1) })_{{150} {151} {149} {148}}B(x_1,t_i,\\Gamma^{ (Eg0,0) })_{{148} {149} {150} {151}}$"
      ],
      "text/plain": [
       "<IPython.core.display.Math object>"
      ]
     },
     "metadata": {},
     "output_type": "display_data"
    },
    {
     "data": {
      "text/latex": [
       "$\\displaystyle 1.0 B^*(x_0,t_i,t_f,\\Gamma^{ (Eg1,1) })_{{151} {150} {149} {148}}B(x_1,t_i,\\Gamma^{ (Eg0,0) })_{{148} {149} {150} {151}}$"
      ],
      "text/plain": [
       "<IPython.core.display.Math object>"
      ]
     },
     "metadata": {},
     "output_type": "display_data"
    },
    {
     "data": {
      "text/latex": [
       "$\\displaystyle -1.0 B^*(x_0,t_i,t_f,\\Gamma^{ (Eg1,1) })_{{151} {150} {148} {149}}B(x_1,t_i,\\Gamma^{ (Eg0,0) })_{{148} {149} {150} {151}}$"
      ],
      "text/plain": [
       "<IPython.core.display.Math object>"
      ]
     },
     "metadata": {},
     "output_type": "display_data"
    },
    {
     "data": {
      "text/latex": [
       "$\\displaystyle 1.0 B^*(x_0,t_i,t_f,\\Gamma^{ (Eg1,1) })_{{151} {148} {150} {149}}B(x_1,t_i,\\Gamma^{ (Eg0,0) })_{{148} {149} {150} {151}}$"
      ],
      "text/plain": [
       "<IPython.core.display.Math object>"
      ]
     },
     "metadata": {},
     "output_type": "display_data"
    },
    {
     "data": {
      "text/latex": [
       "$\\displaystyle -1.0 B^*(x_0,t_i,t_f,\\Gamma^{ (Eg1,1) })_{{151} {149} {150} {148}}B(x_1,t_i,\\Gamma^{ (Eg0,0) })_{{148} {149} {150} {151}}$"
      ],
      "text/plain": [
       "<IPython.core.display.Math object>"
      ]
     },
     "metadata": {},
     "output_type": "display_data"
    },
    {
     "data": {
      "text/latex": [
       "$\\displaystyle 1.0 B^*(x_0,t_i,t_f,\\Gamma^{ (Eg1,1) })_{{151} {149} {148} {150}}B(x_1,t_i,\\Gamma^{ (Eg0,0) })_{{148} {149} {150} {151}}$"
      ],
      "text/plain": [
       "<IPython.core.display.Math object>"
      ]
     },
     "metadata": {},
     "output_type": "display_data"
    },
    {
     "data": {
      "text/latex": [
       "$\\displaystyle -1.0 B^*(x_0,t_i,t_f,\\Gamma^{ (Eg1,1) })_{{151} {148} {149} {150}}B(x_1,t_i,\\Gamma^{ (Eg0,0) })_{{148} {149} {150} {151}}$"
      ],
      "text/plain": [
       "<IPython.core.display.Math object>"
      ]
     },
     "metadata": {},
     "output_type": "display_data"
    },
    {
     "data": {
      "text/latex": [
       "$\\displaystyle 1.0 B^*(x_0,t_i,t_f,\\Gamma^{ (Eg1,1) })_{{156} {157} {158} {159}}B(x_1,t_i,\\Gamma^{ (Eg0,1) })_{{156} {157} {158} {159}}$"
      ],
      "text/plain": [
       "<IPython.core.display.Math object>"
      ]
     },
     "metadata": {},
     "output_type": "display_data"
    },
    {
     "data": {
      "text/latex": [
       "$\\displaystyle -1.0 B^*(x_0,t_i,t_f,\\Gamma^{ (Eg1,1) })_{{157} {156} {158} {159}}B(x_1,t_i,\\Gamma^{ (Eg0,1) })_{{156} {157} {158} {159}}$"
      ],
      "text/plain": [
       "<IPython.core.display.Math object>"
      ]
     },
     "metadata": {},
     "output_type": "display_data"
    },
    {
     "data": {
      "text/latex": [
       "$\\displaystyle 1.0 B^*(x_0,t_i,t_f,\\Gamma^{ (Eg1,1) })_{{157} {158} {156} {159}}B(x_1,t_i,\\Gamma^{ (Eg0,1) })_{{156} {157} {158} {159}}$"
      ],
      "text/plain": [
       "<IPython.core.display.Math object>"
      ]
     },
     "metadata": {},
     "output_type": "display_data"
    },
    {
     "data": {
      "text/latex": [
       "$\\displaystyle -1.0 B^*(x_0,t_i,t_f,\\Gamma^{ (Eg1,1) })_{{156} {158} {157} {159}}B(x_1,t_i,\\Gamma^{ (Eg0,1) })_{{156} {157} {158} {159}}$"
      ],
      "text/plain": [
       "<IPython.core.display.Math object>"
      ]
     },
     "metadata": {},
     "output_type": "display_data"
    },
    {
     "data": {
      "text/latex": [
       "$\\displaystyle 1.0 B^*(x_0,t_i,t_f,\\Gamma^{ (Eg1,1) })_{{158} {156} {157} {159}}B(x_1,t_i,\\Gamma^{ (Eg0,1) })_{{156} {157} {158} {159}}$"
      ],
      "text/plain": [
       "<IPython.core.display.Math object>"
      ]
     },
     "metadata": {},
     "output_type": "display_data"
    },
    {
     "data": {
      "text/latex": [
       "$\\displaystyle -1.0 B^*(x_0,t_i,t_f,\\Gamma^{ (Eg1,1) })_{{158} {157} {156} {159}}B(x_1,t_i,\\Gamma^{ (Eg0,1) })_{{156} {157} {158} {159}}$"
      ],
      "text/plain": [
       "<IPython.core.display.Math object>"
      ]
     },
     "metadata": {},
     "output_type": "display_data"
    },
    {
     "data": {
      "text/latex": [
       "$\\displaystyle 1.0 B^*(x_0,t_i,t_f,\\Gamma^{ (Eg1,1) })_{{158} {157} {159} {156}}B(x_1,t_i,\\Gamma^{ (Eg0,1) })_{{156} {157} {158} {159}}$"
      ],
      "text/plain": [
       "<IPython.core.display.Math object>"
      ]
     },
     "metadata": {},
     "output_type": "display_data"
    },
    {
     "data": {
      "text/latex": [
       "$\\displaystyle -1.0 B^*(x_0,t_i,t_f,\\Gamma^{ (Eg1,1) })_{{158} {156} {159} {157}}B(x_1,t_i,\\Gamma^{ (Eg0,1) })_{{156} {157} {158} {159}}$"
      ],
      "text/plain": [
       "<IPython.core.display.Math object>"
      ]
     },
     "metadata": {},
     "output_type": "display_data"
    },
    {
     "data": {
      "text/latex": [
       "$\\displaystyle 1.0 B^*(x_0,t_i,t_f,\\Gamma^{ (Eg1,1) })_{{156} {158} {159} {157}}B(x_1,t_i,\\Gamma^{ (Eg0,1) })_{{156} {157} {158} {159}}$"
      ],
      "text/plain": [
       "<IPython.core.display.Math object>"
      ]
     },
     "metadata": {},
     "output_type": "display_data"
    },
    {
     "data": {
      "text/latex": [
       "$\\displaystyle -1.0 B^*(x_0,t_i,t_f,\\Gamma^{ (Eg1,1) })_{{157} {158} {159} {156}}B(x_1,t_i,\\Gamma^{ (Eg0,1) })_{{156} {157} {158} {159}}$"
      ],
      "text/plain": [
       "<IPython.core.display.Math object>"
      ]
     },
     "metadata": {},
     "output_type": "display_data"
    },
    {
     "data": {
      "text/latex": [
       "$\\displaystyle 1.0 B^*(x_0,t_i,t_f,\\Gamma^{ (Eg1,1) })_{{157} {156} {159} {158}}B(x_1,t_i,\\Gamma^{ (Eg0,1) })_{{156} {157} {158} {159}}$"
      ],
      "text/plain": [
       "<IPython.core.display.Math object>"
      ]
     },
     "metadata": {},
     "output_type": "display_data"
    },
    {
     "data": {
      "text/latex": [
       "$\\displaystyle -1.0 B^*(x_0,t_i,t_f,\\Gamma^{ (Eg1,1) })_{{156} {157} {159} {158}}B(x_1,t_i,\\Gamma^{ (Eg0,1) })_{{156} {157} {158} {159}}$"
      ],
      "text/plain": [
       "<IPython.core.display.Math object>"
      ]
     },
     "metadata": {},
     "output_type": "display_data"
    },
    {
     "data": {
      "text/latex": [
       "$\\displaystyle 1.0 B^*(x_0,t_i,t_f,\\Gamma^{ (Eg1,1) })_{{156} {159} {157} {158}}B(x_1,t_i,\\Gamma^{ (Eg0,1) })_{{156} {157} {158} {159}}$"
      ],
      "text/plain": [
       "<IPython.core.display.Math object>"
      ]
     },
     "metadata": {},
     "output_type": "display_data"
    },
    {
     "data": {
      "text/latex": [
       "$\\displaystyle -1.0 B^*(x_0,t_i,t_f,\\Gamma^{ (Eg1,1) })_{{157} {159} {156} {158}}B(x_1,t_i,\\Gamma^{ (Eg0,1) })_{{156} {157} {158} {159}}$"
      ],
      "text/plain": [
       "<IPython.core.display.Math object>"
      ]
     },
     "metadata": {},
     "output_type": "display_data"
    },
    {
     "data": {
      "text/latex": [
       "$\\displaystyle 1.0 B^*(x_0,t_i,t_f,\\Gamma^{ (Eg1,1) })_{{157} {159} {158} {156}}B(x_1,t_i,\\Gamma^{ (Eg0,1) })_{{156} {157} {158} {159}}$"
      ],
      "text/plain": [
       "<IPython.core.display.Math object>"
      ]
     },
     "metadata": {},
     "output_type": "display_data"
    },
    {
     "data": {
      "text/latex": [
       "$\\displaystyle -1.0 B^*(x_0,t_i,t_f,\\Gamma^{ (Eg1,1) })_{{156} {159} {158} {157}}B(x_1,t_i,\\Gamma^{ (Eg0,1) })_{{156} {157} {158} {159}}$"
      ],
      "text/plain": [
       "<IPython.core.display.Math object>"
      ]
     },
     "metadata": {},
     "output_type": "display_data"
    },
    {
     "data": {
      "text/latex": [
       "$\\displaystyle 1.0 B^*(x_0,t_i,t_f,\\Gamma^{ (Eg1,1) })_{{158} {159} {156} {157}}B(x_1,t_i,\\Gamma^{ (Eg0,1) })_{{156} {157} {158} {159}}$"
      ],
      "text/plain": [
       "<IPython.core.display.Math object>"
      ]
     },
     "metadata": {},
     "output_type": "display_data"
    },
    {
     "data": {
      "text/latex": [
       "$\\displaystyle -1.0 B^*(x_0,t_i,t_f,\\Gamma^{ (Eg1,1) })_{{158} {159} {157} {156}}B(x_1,t_i,\\Gamma^{ (Eg0,1) })_{{156} {157} {158} {159}}$"
      ],
      "text/plain": [
       "<IPython.core.display.Math object>"
      ]
     },
     "metadata": {},
     "output_type": "display_data"
    },
    {
     "data": {
      "text/latex": [
       "$\\displaystyle 1.0 B^*(x_0,t_i,t_f,\\Gamma^{ (Eg1,1) })_{{159} {158} {157} {156}}B(x_1,t_i,\\Gamma^{ (Eg0,1) })_{{156} {157} {158} {159}}$"
      ],
      "text/plain": [
       "<IPython.core.display.Math object>"
      ]
     },
     "metadata": {},
     "output_type": "display_data"
    },
    {
     "data": {
      "text/latex": [
       "$\\displaystyle -1.0 B^*(x_0,t_i,t_f,\\Gamma^{ (Eg1,1) })_{{159} {158} {156} {157}}B(x_1,t_i,\\Gamma^{ (Eg0,1) })_{{156} {157} {158} {159}}$"
      ],
      "text/plain": [
       "<IPython.core.display.Math object>"
      ]
     },
     "metadata": {},
     "output_type": "display_data"
    },
    {
     "data": {
      "text/latex": [
       "$\\displaystyle 1.0 B^*(x_0,t_i,t_f,\\Gamma^{ (Eg1,1) })_{{159} {156} {158} {157}}B(x_1,t_i,\\Gamma^{ (Eg0,1) })_{{156} {157} {158} {159}}$"
      ],
      "text/plain": [
       "<IPython.core.display.Math object>"
      ]
     },
     "metadata": {},
     "output_type": "display_data"
    },
    {
     "data": {
      "text/latex": [
       "$\\displaystyle -1.0 B^*(x_0,t_i,t_f,\\Gamma^{ (Eg1,1) })_{{159} {157} {158} {156}}B(x_1,t_i,\\Gamma^{ (Eg0,1) })_{{156} {157} {158} {159}}$"
      ],
      "text/plain": [
       "<IPython.core.display.Math object>"
      ]
     },
     "metadata": {},
     "output_type": "display_data"
    },
    {
     "data": {
      "text/latex": [
       "$\\displaystyle 1.0 B^*(x_0,t_i,t_f,\\Gamma^{ (Eg1,1) })_{{159} {157} {156} {158}}B(x_1,t_i,\\Gamma^{ (Eg0,1) })_{{156} {157} {158} {159}}$"
      ],
      "text/plain": [
       "<IPython.core.display.Math object>"
      ]
     },
     "metadata": {},
     "output_type": "display_data"
    },
    {
     "data": {
      "text/latex": [
       "$\\displaystyle -1.0 B^*(x_0,t_i,t_f,\\Gamma^{ (Eg1,1) })_{{159} {156} {157} {158}}B(x_1,t_i,\\Gamma^{ (Eg0,1) })_{{156} {157} {158} {159}}$"
      ],
      "text/plain": [
       "<IPython.core.display.Math object>"
      ]
     },
     "metadata": {},
     "output_type": "display_data"
    },
    {
     "data": {
      "text/latex": [
       "$\\displaystyle 1.0 B^*(x_0,t_i,t_f,\\Gamma^{ (Eg1,1) })_{{164} {165} {166} {167}}B(x_1,t_i,\\Gamma^{ (Eg0,2) })_{{164} {165} {166} {167}}$"
      ],
      "text/plain": [
       "<IPython.core.display.Math object>"
      ]
     },
     "metadata": {},
     "output_type": "display_data"
    },
    {
     "data": {
      "text/latex": [
       "$\\displaystyle -1.0 B^*(x_0,t_i,t_f,\\Gamma^{ (Eg1,1) })_{{165} {164} {166} {167}}B(x_1,t_i,\\Gamma^{ (Eg0,2) })_{{164} {165} {166} {167}}$"
      ],
      "text/plain": [
       "<IPython.core.display.Math object>"
      ]
     },
     "metadata": {},
     "output_type": "display_data"
    },
    {
     "data": {
      "text/latex": [
       "$\\displaystyle 1.0 B^*(x_0,t_i,t_f,\\Gamma^{ (Eg1,1) })_{{165} {166} {164} {167}}B(x_1,t_i,\\Gamma^{ (Eg0,2) })_{{164} {165} {166} {167}}$"
      ],
      "text/plain": [
       "<IPython.core.display.Math object>"
      ]
     },
     "metadata": {},
     "output_type": "display_data"
    },
    {
     "data": {
      "text/latex": [
       "$\\displaystyle -1.0 B^*(x_0,t_i,t_f,\\Gamma^{ (Eg1,1) })_{{164} {166} {165} {167}}B(x_1,t_i,\\Gamma^{ (Eg0,2) })_{{164} {165} {166} {167}}$"
      ],
      "text/plain": [
       "<IPython.core.display.Math object>"
      ]
     },
     "metadata": {},
     "output_type": "display_data"
    },
    {
     "data": {
      "text/latex": [
       "$\\displaystyle 1.0 B^*(x_0,t_i,t_f,\\Gamma^{ (Eg1,1) })_{{166} {164} {165} {167}}B(x_1,t_i,\\Gamma^{ (Eg0,2) })_{{164} {165} {166} {167}}$"
      ],
      "text/plain": [
       "<IPython.core.display.Math object>"
      ]
     },
     "metadata": {},
     "output_type": "display_data"
    },
    {
     "data": {
      "text/latex": [
       "$\\displaystyle -1.0 B^*(x_0,t_i,t_f,\\Gamma^{ (Eg1,1) })_{{166} {165} {164} {167}}B(x_1,t_i,\\Gamma^{ (Eg0,2) })_{{164} {165} {166} {167}}$"
      ],
      "text/plain": [
       "<IPython.core.display.Math object>"
      ]
     },
     "metadata": {},
     "output_type": "display_data"
    },
    {
     "data": {
      "text/latex": [
       "$\\displaystyle 1.0 B^*(x_0,t_i,t_f,\\Gamma^{ (Eg1,1) })_{{166} {165} {167} {164}}B(x_1,t_i,\\Gamma^{ (Eg0,2) })_{{164} {165} {166} {167}}$"
      ],
      "text/plain": [
       "<IPython.core.display.Math object>"
      ]
     },
     "metadata": {},
     "output_type": "display_data"
    },
    {
     "data": {
      "text/latex": [
       "$\\displaystyle -1.0 B^*(x_0,t_i,t_f,\\Gamma^{ (Eg1,1) })_{{166} {164} {167} {165}}B(x_1,t_i,\\Gamma^{ (Eg0,2) })_{{164} {165} {166} {167}}$"
      ],
      "text/plain": [
       "<IPython.core.display.Math object>"
      ]
     },
     "metadata": {},
     "output_type": "display_data"
    },
    {
     "data": {
      "text/latex": [
       "$\\displaystyle 1.0 B^*(x_0,t_i,t_f,\\Gamma^{ (Eg1,1) })_{{164} {166} {167} {165}}B(x_1,t_i,\\Gamma^{ (Eg0,2) })_{{164} {165} {166} {167}}$"
      ],
      "text/plain": [
       "<IPython.core.display.Math object>"
      ]
     },
     "metadata": {},
     "output_type": "display_data"
    },
    {
     "data": {
      "text/latex": [
       "$\\displaystyle -1.0 B^*(x_0,t_i,t_f,\\Gamma^{ (Eg1,1) })_{{165} {166} {167} {164}}B(x_1,t_i,\\Gamma^{ (Eg0,2) })_{{164} {165} {166} {167}}$"
      ],
      "text/plain": [
       "<IPython.core.display.Math object>"
      ]
     },
     "metadata": {},
     "output_type": "display_data"
    },
    {
     "data": {
      "text/latex": [
       "$\\displaystyle 1.0 B^*(x_0,t_i,t_f,\\Gamma^{ (Eg1,1) })_{{165} {164} {167} {166}}B(x_1,t_i,\\Gamma^{ (Eg0,2) })_{{164} {165} {166} {167}}$"
      ],
      "text/plain": [
       "<IPython.core.display.Math object>"
      ]
     },
     "metadata": {},
     "output_type": "display_data"
    },
    {
     "data": {
      "text/latex": [
       "$\\displaystyle -1.0 B^*(x_0,t_i,t_f,\\Gamma^{ (Eg1,1) })_{{164} {165} {167} {166}}B(x_1,t_i,\\Gamma^{ (Eg0,2) })_{{164} {165} {166} {167}}$"
      ],
      "text/plain": [
       "<IPython.core.display.Math object>"
      ]
     },
     "metadata": {},
     "output_type": "display_data"
    },
    {
     "data": {
      "text/latex": [
       "$\\displaystyle 1.0 B^*(x_0,t_i,t_f,\\Gamma^{ (Eg1,1) })_{{164} {167} {165} {166}}B(x_1,t_i,\\Gamma^{ (Eg0,2) })_{{164} {165} {166} {167}}$"
      ],
      "text/plain": [
       "<IPython.core.display.Math object>"
      ]
     },
     "metadata": {},
     "output_type": "display_data"
    },
    {
     "data": {
      "text/latex": [
       "$\\displaystyle -1.0 B^*(x_0,t_i,t_f,\\Gamma^{ (Eg1,1) })_{{165} {167} {164} {166}}B(x_1,t_i,\\Gamma^{ (Eg0,2) })_{{164} {165} {166} {167}}$"
      ],
      "text/plain": [
       "<IPython.core.display.Math object>"
      ]
     },
     "metadata": {},
     "output_type": "display_data"
    },
    {
     "data": {
      "text/latex": [
       "$\\displaystyle 1.0 B^*(x_0,t_i,t_f,\\Gamma^{ (Eg1,1) })_{{165} {167} {166} {164}}B(x_1,t_i,\\Gamma^{ (Eg0,2) })_{{164} {165} {166} {167}}$"
      ],
      "text/plain": [
       "<IPython.core.display.Math object>"
      ]
     },
     "metadata": {},
     "output_type": "display_data"
    },
    {
     "data": {
      "text/latex": [
       "$\\displaystyle -1.0 B^*(x_0,t_i,t_f,\\Gamma^{ (Eg1,1) })_{{164} {167} {166} {165}}B(x_1,t_i,\\Gamma^{ (Eg0,2) })_{{164} {165} {166} {167}}$"
      ],
      "text/plain": [
       "<IPython.core.display.Math object>"
      ]
     },
     "metadata": {},
     "output_type": "display_data"
    },
    {
     "data": {
      "text/latex": [
       "$\\displaystyle 1.0 B^*(x_0,t_i,t_f,\\Gamma^{ (Eg1,1) })_{{166} {167} {164} {165}}B(x_1,t_i,\\Gamma^{ (Eg0,2) })_{{164} {165} {166} {167}}$"
      ],
      "text/plain": [
       "<IPython.core.display.Math object>"
      ]
     },
     "metadata": {},
     "output_type": "display_data"
    },
    {
     "data": {
      "text/latex": [
       "$\\displaystyle -1.0 B^*(x_0,t_i,t_f,\\Gamma^{ (Eg1,1) })_{{166} {167} {165} {164}}B(x_1,t_i,\\Gamma^{ (Eg0,2) })_{{164} {165} {166} {167}}$"
      ],
      "text/plain": [
       "<IPython.core.display.Math object>"
      ]
     },
     "metadata": {},
     "output_type": "display_data"
    },
    {
     "data": {
      "text/latex": [
       "$\\displaystyle 1.0 B^*(x_0,t_i,t_f,\\Gamma^{ (Eg1,1) })_{{167} {166} {165} {164}}B(x_1,t_i,\\Gamma^{ (Eg0,2) })_{{164} {165} {166} {167}}$"
      ],
      "text/plain": [
       "<IPython.core.display.Math object>"
      ]
     },
     "metadata": {},
     "output_type": "display_data"
    },
    {
     "data": {
      "text/latex": [
       "$\\displaystyle -1.0 B^*(x_0,t_i,t_f,\\Gamma^{ (Eg1,1) })_{{167} {166} {164} {165}}B(x_1,t_i,\\Gamma^{ (Eg0,2) })_{{164} {165} {166} {167}}$"
      ],
      "text/plain": [
       "<IPython.core.display.Math object>"
      ]
     },
     "metadata": {},
     "output_type": "display_data"
    },
    {
     "data": {
      "text/latex": [
       "$\\displaystyle 1.0 B^*(x_0,t_i,t_f,\\Gamma^{ (Eg1,1) })_{{167} {164} {166} {165}}B(x_1,t_i,\\Gamma^{ (Eg0,2) })_{{164} {165} {166} {167}}$"
      ],
      "text/plain": [
       "<IPython.core.display.Math object>"
      ]
     },
     "metadata": {},
     "output_type": "display_data"
    },
    {
     "data": {
      "text/latex": [
       "$\\displaystyle -1.0 B^*(x_0,t_i,t_f,\\Gamma^{ (Eg1,1) })_{{167} {165} {166} {164}}B(x_1,t_i,\\Gamma^{ (Eg0,2) })_{{164} {165} {166} {167}}$"
      ],
      "text/plain": [
       "<IPython.core.display.Math object>"
      ]
     },
     "metadata": {},
     "output_type": "display_data"
    },
    {
     "data": {
      "text/latex": [
       "$\\displaystyle 1.0 B^*(x_0,t_i,t_f,\\Gamma^{ (Eg1,1) })_{{167} {165} {164} {166}}B(x_1,t_i,\\Gamma^{ (Eg0,2) })_{{164} {165} {166} {167}}$"
      ],
      "text/plain": [
       "<IPython.core.display.Math object>"
      ]
     },
     "metadata": {},
     "output_type": "display_data"
    },
    {
     "data": {
      "text/latex": [
       "$\\displaystyle -1.0 B^*(x_0,t_i,t_f,\\Gamma^{ (Eg1,1) })_{{167} {164} {165} {166}}B(x_1,t_i,\\Gamma^{ (Eg0,2) })_{{164} {165} {166} {167}}$"
      ],
      "text/plain": [
       "<IPython.core.display.Math object>"
      ]
     },
     "metadata": {},
     "output_type": "display_data"
    },
    {
     "data": {
      "text/latex": [
       "$\\displaystyle 1.0 B^*(x_0,t_i,t_f,\\Gamma^{ (Eg1,1) })_{{172} {173} {174} {175}}B(x_1,t_i,\\Gamma^{ (Eg1,0) })_{{172} {173} {174} {175}}$"
      ],
      "text/plain": [
       "<IPython.core.display.Math object>"
      ]
     },
     "metadata": {},
     "output_type": "display_data"
    },
    {
     "data": {
      "text/latex": [
       "$\\displaystyle -1.0 B^*(x_0,t_i,t_f,\\Gamma^{ (Eg1,1) })_{{173} {172} {174} {175}}B(x_1,t_i,\\Gamma^{ (Eg1,0) })_{{172} {173} {174} {175}}$"
      ],
      "text/plain": [
       "<IPython.core.display.Math object>"
      ]
     },
     "metadata": {},
     "output_type": "display_data"
    },
    {
     "data": {
      "text/latex": [
       "$\\displaystyle 1.0 B^*(x_0,t_i,t_f,\\Gamma^{ (Eg1,1) })_{{173} {174} {172} {175}}B(x_1,t_i,\\Gamma^{ (Eg1,0) })_{{172} {173} {174} {175}}$"
      ],
      "text/plain": [
       "<IPython.core.display.Math object>"
      ]
     },
     "metadata": {},
     "output_type": "display_data"
    },
    {
     "data": {
      "text/latex": [
       "$\\displaystyle -1.0 B^*(x_0,t_i,t_f,\\Gamma^{ (Eg1,1) })_{{172} {174} {173} {175}}B(x_1,t_i,\\Gamma^{ (Eg1,0) })_{{172} {173} {174} {175}}$"
      ],
      "text/plain": [
       "<IPython.core.display.Math object>"
      ]
     },
     "metadata": {},
     "output_type": "display_data"
    },
    {
     "data": {
      "text/latex": [
       "$\\displaystyle 1.0 B^*(x_0,t_i,t_f,\\Gamma^{ (Eg1,1) })_{{174} {172} {173} {175}}B(x_1,t_i,\\Gamma^{ (Eg1,0) })_{{172} {173} {174} {175}}$"
      ],
      "text/plain": [
       "<IPython.core.display.Math object>"
      ]
     },
     "metadata": {},
     "output_type": "display_data"
    },
    {
     "data": {
      "text/latex": [
       "$\\displaystyle -1.0 B^*(x_0,t_i,t_f,\\Gamma^{ (Eg1,1) })_{{174} {173} {172} {175}}B(x_1,t_i,\\Gamma^{ (Eg1,0) })_{{172} {173} {174} {175}}$"
      ],
      "text/plain": [
       "<IPython.core.display.Math object>"
      ]
     },
     "metadata": {},
     "output_type": "display_data"
    },
    {
     "data": {
      "text/latex": [
       "$\\displaystyle 1.0 B^*(x_0,t_i,t_f,\\Gamma^{ (Eg1,1) })_{{174} {173} {175} {172}}B(x_1,t_i,\\Gamma^{ (Eg1,0) })_{{172} {173} {174} {175}}$"
      ],
      "text/plain": [
       "<IPython.core.display.Math object>"
      ]
     },
     "metadata": {},
     "output_type": "display_data"
    },
    {
     "data": {
      "text/latex": [
       "$\\displaystyle -1.0 B^*(x_0,t_i,t_f,\\Gamma^{ (Eg1,1) })_{{174} {172} {175} {173}}B(x_1,t_i,\\Gamma^{ (Eg1,0) })_{{172} {173} {174} {175}}$"
      ],
      "text/plain": [
       "<IPython.core.display.Math object>"
      ]
     },
     "metadata": {},
     "output_type": "display_data"
    },
    {
     "data": {
      "text/latex": [
       "$\\displaystyle 1.0 B^*(x_0,t_i,t_f,\\Gamma^{ (Eg1,1) })_{{172} {174} {175} {173}}B(x_1,t_i,\\Gamma^{ (Eg1,0) })_{{172} {173} {174} {175}}$"
      ],
      "text/plain": [
       "<IPython.core.display.Math object>"
      ]
     },
     "metadata": {},
     "output_type": "display_data"
    },
    {
     "data": {
      "text/latex": [
       "$\\displaystyle -1.0 B^*(x_0,t_i,t_f,\\Gamma^{ (Eg1,1) })_{{173} {174} {175} {172}}B(x_1,t_i,\\Gamma^{ (Eg1,0) })_{{172} {173} {174} {175}}$"
      ],
      "text/plain": [
       "<IPython.core.display.Math object>"
      ]
     },
     "metadata": {},
     "output_type": "display_data"
    },
    {
     "data": {
      "text/latex": [
       "$\\displaystyle 1.0 B^*(x_0,t_i,t_f,\\Gamma^{ (Eg1,1) })_{{173} {172} {175} {174}}B(x_1,t_i,\\Gamma^{ (Eg1,0) })_{{172} {173} {174} {175}}$"
      ],
      "text/plain": [
       "<IPython.core.display.Math object>"
      ]
     },
     "metadata": {},
     "output_type": "display_data"
    },
    {
     "data": {
      "text/latex": [
       "$\\displaystyle -1.0 B^*(x_0,t_i,t_f,\\Gamma^{ (Eg1,1) })_{{172} {173} {175} {174}}B(x_1,t_i,\\Gamma^{ (Eg1,0) })_{{172} {173} {174} {175}}$"
      ],
      "text/plain": [
       "<IPython.core.display.Math object>"
      ]
     },
     "metadata": {},
     "output_type": "display_data"
    },
    {
     "data": {
      "text/latex": [
       "$\\displaystyle 1.0 B^*(x_0,t_i,t_f,\\Gamma^{ (Eg1,1) })_{{172} {175} {173} {174}}B(x_1,t_i,\\Gamma^{ (Eg1,0) })_{{172} {173} {174} {175}}$"
      ],
      "text/plain": [
       "<IPython.core.display.Math object>"
      ]
     },
     "metadata": {},
     "output_type": "display_data"
    },
    {
     "data": {
      "text/latex": [
       "$\\displaystyle -1.0 B^*(x_0,t_i,t_f,\\Gamma^{ (Eg1,1) })_{{173} {175} {172} {174}}B(x_1,t_i,\\Gamma^{ (Eg1,0) })_{{172} {173} {174} {175}}$"
      ],
      "text/plain": [
       "<IPython.core.display.Math object>"
      ]
     },
     "metadata": {},
     "output_type": "display_data"
    },
    {
     "data": {
      "text/latex": [
       "$\\displaystyle 1.0 B^*(x_0,t_i,t_f,\\Gamma^{ (Eg1,1) })_{{173} {175} {174} {172}}B(x_1,t_i,\\Gamma^{ (Eg1,0) })_{{172} {173} {174} {175}}$"
      ],
      "text/plain": [
       "<IPython.core.display.Math object>"
      ]
     },
     "metadata": {},
     "output_type": "display_data"
    },
    {
     "data": {
      "text/latex": [
       "$\\displaystyle -1.0 B^*(x_0,t_i,t_f,\\Gamma^{ (Eg1,1) })_{{172} {175} {174} {173}}B(x_1,t_i,\\Gamma^{ (Eg1,0) })_{{172} {173} {174} {175}}$"
      ],
      "text/plain": [
       "<IPython.core.display.Math object>"
      ]
     },
     "metadata": {},
     "output_type": "display_data"
    },
    {
     "data": {
      "text/latex": [
       "$\\displaystyle 1.0 B^*(x_0,t_i,t_f,\\Gamma^{ (Eg1,1) })_{{174} {175} {172} {173}}B(x_1,t_i,\\Gamma^{ (Eg1,0) })_{{172} {173} {174} {175}}$"
      ],
      "text/plain": [
       "<IPython.core.display.Math object>"
      ]
     },
     "metadata": {},
     "output_type": "display_data"
    },
    {
     "data": {
      "text/latex": [
       "$\\displaystyle -1.0 B^*(x_0,t_i,t_f,\\Gamma^{ (Eg1,1) })_{{174} {175} {173} {172}}B(x_1,t_i,\\Gamma^{ (Eg1,0) })_{{172} {173} {174} {175}}$"
      ],
      "text/plain": [
       "<IPython.core.display.Math object>"
      ]
     },
     "metadata": {},
     "output_type": "display_data"
    },
    {
     "data": {
      "text/latex": [
       "$\\displaystyle 1.0 B^*(x_0,t_i,t_f,\\Gamma^{ (Eg1,1) })_{{175} {174} {173} {172}}B(x_1,t_i,\\Gamma^{ (Eg1,0) })_{{172} {173} {174} {175}}$"
      ],
      "text/plain": [
       "<IPython.core.display.Math object>"
      ]
     },
     "metadata": {},
     "output_type": "display_data"
    },
    {
     "data": {
      "text/latex": [
       "$\\displaystyle -1.0 B^*(x_0,t_i,t_f,\\Gamma^{ (Eg1,1) })_{{175} {174} {172} {173}}B(x_1,t_i,\\Gamma^{ (Eg1,0) })_{{172} {173} {174} {175}}$"
      ],
      "text/plain": [
       "<IPython.core.display.Math object>"
      ]
     },
     "metadata": {},
     "output_type": "display_data"
    },
    {
     "data": {
      "text/latex": [
       "$\\displaystyle 1.0 B^*(x_0,t_i,t_f,\\Gamma^{ (Eg1,1) })_{{175} {172} {174} {173}}B(x_1,t_i,\\Gamma^{ (Eg1,0) })_{{172} {173} {174} {175}}$"
      ],
      "text/plain": [
       "<IPython.core.display.Math object>"
      ]
     },
     "metadata": {},
     "output_type": "display_data"
    },
    {
     "data": {
      "text/latex": [
       "$\\displaystyle -1.0 B^*(x_0,t_i,t_f,\\Gamma^{ (Eg1,1) })_{{175} {173} {174} {172}}B(x_1,t_i,\\Gamma^{ (Eg1,0) })_{{172} {173} {174} {175}}$"
      ],
      "text/plain": [
       "<IPython.core.display.Math object>"
      ]
     },
     "metadata": {},
     "output_type": "display_data"
    },
    {
     "data": {
      "text/latex": [
       "$\\displaystyle 1.0 B^*(x_0,t_i,t_f,\\Gamma^{ (Eg1,1) })_{{175} {173} {172} {174}}B(x_1,t_i,\\Gamma^{ (Eg1,0) })_{{172} {173} {174} {175}}$"
      ],
      "text/plain": [
       "<IPython.core.display.Math object>"
      ]
     },
     "metadata": {},
     "output_type": "display_data"
    },
    {
     "data": {
      "text/latex": [
       "$\\displaystyle -1.0 B^*(x_0,t_i,t_f,\\Gamma^{ (Eg1,1) })_{{175} {172} {173} {174}}B(x_1,t_i,\\Gamma^{ (Eg1,0) })_{{172} {173} {174} {175}}$"
      ],
      "text/plain": [
       "<IPython.core.display.Math object>"
      ]
     },
     "metadata": {},
     "output_type": "display_data"
    },
    {
     "data": {
      "text/latex": [
       "$\\displaystyle 1.0 B(x_1,t_i,\\Gamma^{ (Eg1,1) })_{{180} {181} {182} {183}}B^*(x_0,t_i,t_f,\\Gamma^{ (Eg1,1) })_{{180} {181} {182} {183}}$"
      ],
      "text/plain": [
       "<IPython.core.display.Math object>"
      ]
     },
     "metadata": {},
     "output_type": "display_data"
    },
    {
     "data": {
      "text/latex": [
       "$\\displaystyle -1.0 B(x_1,t_i,\\Gamma^{ (Eg1,1) })_{{180} {181} {182} {183}}B^*(x_0,t_i,t_f,\\Gamma^{ (Eg1,1) })_{{181} {180} {182} {183}}$"
      ],
      "text/plain": [
       "<IPython.core.display.Math object>"
      ]
     },
     "metadata": {},
     "output_type": "display_data"
    },
    {
     "data": {
      "text/latex": [
       "$\\displaystyle 1.0 B(x_1,t_i,\\Gamma^{ (Eg1,1) })_{{180} {181} {182} {183}}B^*(x_0,t_i,t_f,\\Gamma^{ (Eg1,1) })_{{181} {182} {180} {183}}$"
      ],
      "text/plain": [
       "<IPython.core.display.Math object>"
      ]
     },
     "metadata": {},
     "output_type": "display_data"
    },
    {
     "data": {
      "text/latex": [
       "$\\displaystyle -1.0 B(x_1,t_i,\\Gamma^{ (Eg1,1) })_{{180} {181} {182} {183}}B^*(x_0,t_i,t_f,\\Gamma^{ (Eg1,1) })_{{180} {182} {181} {183}}$"
      ],
      "text/plain": [
       "<IPython.core.display.Math object>"
      ]
     },
     "metadata": {},
     "output_type": "display_data"
    },
    {
     "data": {
      "text/latex": [
       "$\\displaystyle 1.0 B(x_1,t_i,\\Gamma^{ (Eg1,1) })_{{180} {181} {182} {183}}B^*(x_0,t_i,t_f,\\Gamma^{ (Eg1,1) })_{{182} {180} {181} {183}}$"
      ],
      "text/plain": [
       "<IPython.core.display.Math object>"
      ]
     },
     "metadata": {},
     "output_type": "display_data"
    },
    {
     "data": {
      "text/latex": [
       "$\\displaystyle -1.0 B(x_1,t_i,\\Gamma^{ (Eg1,1) })_{{180} {181} {182} {183}}B^*(x_0,t_i,t_f,\\Gamma^{ (Eg1,1) })_{{182} {181} {180} {183}}$"
      ],
      "text/plain": [
       "<IPython.core.display.Math object>"
      ]
     },
     "metadata": {},
     "output_type": "display_data"
    },
    {
     "data": {
      "text/latex": [
       "$\\displaystyle 1.0 B(x_1,t_i,\\Gamma^{ (Eg1,1) })_{{180} {181} {182} {183}}B^*(x_0,t_i,t_f,\\Gamma^{ (Eg1,1) })_{{182} {181} {183} {180}}$"
      ],
      "text/plain": [
       "<IPython.core.display.Math object>"
      ]
     },
     "metadata": {},
     "output_type": "display_data"
    },
    {
     "data": {
      "text/latex": [
       "$\\displaystyle -1.0 B(x_1,t_i,\\Gamma^{ (Eg1,1) })_{{180} {181} {182} {183}}B^*(x_0,t_i,t_f,\\Gamma^{ (Eg1,1) })_{{182} {180} {183} {181}}$"
      ],
      "text/plain": [
       "<IPython.core.display.Math object>"
      ]
     },
     "metadata": {},
     "output_type": "display_data"
    },
    {
     "data": {
      "text/latex": [
       "$\\displaystyle 1.0 B(x_1,t_i,\\Gamma^{ (Eg1,1) })_{{180} {181} {182} {183}}B^*(x_0,t_i,t_f,\\Gamma^{ (Eg1,1) })_{{180} {182} {183} {181}}$"
      ],
      "text/plain": [
       "<IPython.core.display.Math object>"
      ]
     },
     "metadata": {},
     "output_type": "display_data"
    },
    {
     "data": {
      "text/latex": [
       "$\\displaystyle -1.0 B(x_1,t_i,\\Gamma^{ (Eg1,1) })_{{180} {181} {182} {183}}B^*(x_0,t_i,t_f,\\Gamma^{ (Eg1,1) })_{{181} {182} {183} {180}}$"
      ],
      "text/plain": [
       "<IPython.core.display.Math object>"
      ]
     },
     "metadata": {},
     "output_type": "display_data"
    },
    {
     "data": {
      "text/latex": [
       "$\\displaystyle 1.0 B(x_1,t_i,\\Gamma^{ (Eg1,1) })_{{180} {181} {182} {183}}B^*(x_0,t_i,t_f,\\Gamma^{ (Eg1,1) })_{{181} {180} {183} {182}}$"
      ],
      "text/plain": [
       "<IPython.core.display.Math object>"
      ]
     },
     "metadata": {},
     "output_type": "display_data"
    },
    {
     "data": {
      "text/latex": [
       "$\\displaystyle -1.0 B(x_1,t_i,\\Gamma^{ (Eg1,1) })_{{180} {181} {182} {183}}B^*(x_0,t_i,t_f,\\Gamma^{ (Eg1,1) })_{{180} {181} {183} {182}}$"
      ],
      "text/plain": [
       "<IPython.core.display.Math object>"
      ]
     },
     "metadata": {},
     "output_type": "display_data"
    },
    {
     "data": {
      "text/latex": [
       "$\\displaystyle 1.0 B(x_1,t_i,\\Gamma^{ (Eg1,1) })_{{180} {181} {182} {183}}B^*(x_0,t_i,t_f,\\Gamma^{ (Eg1,1) })_{{180} {183} {181} {182}}$"
      ],
      "text/plain": [
       "<IPython.core.display.Math object>"
      ]
     },
     "metadata": {},
     "output_type": "display_data"
    },
    {
     "data": {
      "text/latex": [
       "$\\displaystyle -1.0 B(x_1,t_i,\\Gamma^{ (Eg1,1) })_{{180} {181} {182} {183}}B^*(x_0,t_i,t_f,\\Gamma^{ (Eg1,1) })_{{181} {183} {180} {182}}$"
      ],
      "text/plain": [
       "<IPython.core.display.Math object>"
      ]
     },
     "metadata": {},
     "output_type": "display_data"
    },
    {
     "data": {
      "text/latex": [
       "$\\displaystyle 1.0 B(x_1,t_i,\\Gamma^{ (Eg1,1) })_{{180} {181} {182} {183}}B^*(x_0,t_i,t_f,\\Gamma^{ (Eg1,1) })_{{181} {183} {182} {180}}$"
      ],
      "text/plain": [
       "<IPython.core.display.Math object>"
      ]
     },
     "metadata": {},
     "output_type": "display_data"
    },
    {
     "data": {
      "text/latex": [
       "$\\displaystyle -1.0 B(x_1,t_i,\\Gamma^{ (Eg1,1) })_{{180} {181} {182} {183}}B^*(x_0,t_i,t_f,\\Gamma^{ (Eg1,1) })_{{180} {183} {182} {181}}$"
      ],
      "text/plain": [
       "<IPython.core.display.Math object>"
      ]
     },
     "metadata": {},
     "output_type": "display_data"
    },
    {
     "data": {
      "text/latex": [
       "$\\displaystyle 1.0 B(x_1,t_i,\\Gamma^{ (Eg1,1) })_{{180} {181} {182} {183}}B^*(x_0,t_i,t_f,\\Gamma^{ (Eg1,1) })_{{182} {183} {180} {181}}$"
      ],
      "text/plain": [
       "<IPython.core.display.Math object>"
      ]
     },
     "metadata": {},
     "output_type": "display_data"
    },
    {
     "data": {
      "text/latex": [
       "$\\displaystyle -1.0 B(x_1,t_i,\\Gamma^{ (Eg1,1) })_{{180} {181} {182} {183}}B^*(x_0,t_i,t_f,\\Gamma^{ (Eg1,1) })_{{182} {183} {181} {180}}$"
      ],
      "text/plain": [
       "<IPython.core.display.Math object>"
      ]
     },
     "metadata": {},
     "output_type": "display_data"
    },
    {
     "data": {
      "text/latex": [
       "$\\displaystyle 1.0 B(x_1,t_i,\\Gamma^{ (Eg1,1) })_{{180} {181} {182} {183}}B^*(x_0,t_i,t_f,\\Gamma^{ (Eg1,1) })_{{183} {182} {181} {180}}$"
      ],
      "text/plain": [
       "<IPython.core.display.Math object>"
      ]
     },
     "metadata": {},
     "output_type": "display_data"
    },
    {
     "data": {
      "text/latex": [
       "$\\displaystyle -1.0 B(x_1,t_i,\\Gamma^{ (Eg1,1) })_{{180} {181} {182} {183}}B^*(x_0,t_i,t_f,\\Gamma^{ (Eg1,1) })_{{183} {182} {180} {181}}$"
      ],
      "text/plain": [
       "<IPython.core.display.Math object>"
      ]
     },
     "metadata": {},
     "output_type": "display_data"
    },
    {
     "data": {
      "text/latex": [
       "$\\displaystyle 1.0 B(x_1,t_i,\\Gamma^{ (Eg1,1) })_{{180} {181} {182} {183}}B^*(x_0,t_i,t_f,\\Gamma^{ (Eg1,1) })_{{183} {180} {182} {181}}$"
      ],
      "text/plain": [
       "<IPython.core.display.Math object>"
      ]
     },
     "metadata": {},
     "output_type": "display_data"
    },
    {
     "data": {
      "text/latex": [
       "$\\displaystyle -1.0 B(x_1,t_i,\\Gamma^{ (Eg1,1) })_{{180} {181} {182} {183}}B^*(x_0,t_i,t_f,\\Gamma^{ (Eg1,1) })_{{183} {181} {182} {180}}$"
      ],
      "text/plain": [
       "<IPython.core.display.Math object>"
      ]
     },
     "metadata": {},
     "output_type": "display_data"
    },
    {
     "data": {
      "text/latex": [
       "$\\displaystyle 1.0 B(x_1,t_i,\\Gamma^{ (Eg1,1) })_{{180} {181} {182} {183}}B^*(x_0,t_i,t_f,\\Gamma^{ (Eg1,1) })_{{183} {181} {180} {182}}$"
      ],
      "text/plain": [
       "<IPython.core.display.Math object>"
      ]
     },
     "metadata": {},
     "output_type": "display_data"
    },
    {
     "data": {
      "text/latex": [
       "$\\displaystyle -1.0 B(x_1,t_i,\\Gamma^{ (Eg1,1) })_{{180} {181} {182} {183}}B^*(x_0,t_i,t_f,\\Gamma^{ (Eg1,1) })_{{183} {180} {181} {182}}$"
      ],
      "text/plain": [
       "<IPython.core.display.Math object>"
      ]
     },
     "metadata": {},
     "output_type": "display_data"
    },
    {
     "data": {
      "text/latex": [
       "$\\displaystyle 1.0 B(x_1,t_i,\\Gamma^{ (Eg1,2) })_{{188} {189} {190} {191}}B^*(x_0,t_i,t_f,\\Gamma^{ (Eg1,1) })_{{188} {189} {190} {191}}$"
      ],
      "text/plain": [
       "<IPython.core.display.Math object>"
      ]
     },
     "metadata": {},
     "output_type": "display_data"
    },
    {
     "data": {
      "text/latex": [
       "$\\displaystyle -1.0 B(x_1,t_i,\\Gamma^{ (Eg1,2) })_{{188} {189} {190} {191}}B^*(x_0,t_i,t_f,\\Gamma^{ (Eg1,1) })_{{189} {188} {190} {191}}$"
      ],
      "text/plain": [
       "<IPython.core.display.Math object>"
      ]
     },
     "metadata": {},
     "output_type": "display_data"
    },
    {
     "data": {
      "text/latex": [
       "$\\displaystyle 1.0 B(x_1,t_i,\\Gamma^{ (Eg1,2) })_{{188} {189} {190} {191}}B^*(x_0,t_i,t_f,\\Gamma^{ (Eg1,1) })_{{189} {190} {188} {191}}$"
      ],
      "text/plain": [
       "<IPython.core.display.Math object>"
      ]
     },
     "metadata": {},
     "output_type": "display_data"
    },
    {
     "data": {
      "text/latex": [
       "$\\displaystyle -1.0 B(x_1,t_i,\\Gamma^{ (Eg1,2) })_{{188} {189} {190} {191}}B^*(x_0,t_i,t_f,\\Gamma^{ (Eg1,1) })_{{188} {190} {189} {191}}$"
      ],
      "text/plain": [
       "<IPython.core.display.Math object>"
      ]
     },
     "metadata": {},
     "output_type": "display_data"
    },
    {
     "data": {
      "text/latex": [
       "$\\displaystyle 1.0 B(x_1,t_i,\\Gamma^{ (Eg1,2) })_{{188} {189} {190} {191}}B^*(x_0,t_i,t_f,\\Gamma^{ (Eg1,1) })_{{190} {188} {189} {191}}$"
      ],
      "text/plain": [
       "<IPython.core.display.Math object>"
      ]
     },
     "metadata": {},
     "output_type": "display_data"
    },
    {
     "data": {
      "text/latex": [
       "$\\displaystyle -1.0 B(x_1,t_i,\\Gamma^{ (Eg1,2) })_{{188} {189} {190} {191}}B^*(x_0,t_i,t_f,\\Gamma^{ (Eg1,1) })_{{190} {189} {188} {191}}$"
      ],
      "text/plain": [
       "<IPython.core.display.Math object>"
      ]
     },
     "metadata": {},
     "output_type": "display_data"
    },
    {
     "data": {
      "text/latex": [
       "$\\displaystyle 1.0 B(x_1,t_i,\\Gamma^{ (Eg1,2) })_{{188} {189} {190} {191}}B^*(x_0,t_i,t_f,\\Gamma^{ (Eg1,1) })_{{190} {189} {191} {188}}$"
      ],
      "text/plain": [
       "<IPython.core.display.Math object>"
      ]
     },
     "metadata": {},
     "output_type": "display_data"
    },
    {
     "data": {
      "text/latex": [
       "$\\displaystyle -1.0 B(x_1,t_i,\\Gamma^{ (Eg1,2) })_{{188} {189} {190} {191}}B^*(x_0,t_i,t_f,\\Gamma^{ (Eg1,1) })_{{190} {188} {191} {189}}$"
      ],
      "text/plain": [
       "<IPython.core.display.Math object>"
      ]
     },
     "metadata": {},
     "output_type": "display_data"
    },
    {
     "data": {
      "text/latex": [
       "$\\displaystyle 1.0 B(x_1,t_i,\\Gamma^{ (Eg1,2) })_{{188} {189} {190} {191}}B^*(x_0,t_i,t_f,\\Gamma^{ (Eg1,1) })_{{188} {190} {191} {189}}$"
      ],
      "text/plain": [
       "<IPython.core.display.Math object>"
      ]
     },
     "metadata": {},
     "output_type": "display_data"
    },
    {
     "data": {
      "text/latex": [
       "$\\displaystyle -1.0 B(x_1,t_i,\\Gamma^{ (Eg1,2) })_{{188} {189} {190} {191}}B^*(x_0,t_i,t_f,\\Gamma^{ (Eg1,1) })_{{189} {190} {191} {188}}$"
      ],
      "text/plain": [
       "<IPython.core.display.Math object>"
      ]
     },
     "metadata": {},
     "output_type": "display_data"
    },
    {
     "data": {
      "text/latex": [
       "$\\displaystyle 1.0 B(x_1,t_i,\\Gamma^{ (Eg1,2) })_{{188} {189} {190} {191}}B^*(x_0,t_i,t_f,\\Gamma^{ (Eg1,1) })_{{189} {188} {191} {190}}$"
      ],
      "text/plain": [
       "<IPython.core.display.Math object>"
      ]
     },
     "metadata": {},
     "output_type": "display_data"
    },
    {
     "data": {
      "text/latex": [
       "$\\displaystyle -1.0 B(x_1,t_i,\\Gamma^{ (Eg1,2) })_{{188} {189} {190} {191}}B^*(x_0,t_i,t_f,\\Gamma^{ (Eg1,1) })_{{188} {189} {191} {190}}$"
      ],
      "text/plain": [
       "<IPython.core.display.Math object>"
      ]
     },
     "metadata": {},
     "output_type": "display_data"
    },
    {
     "data": {
      "text/latex": [
       "$\\displaystyle 1.0 B(x_1,t_i,\\Gamma^{ (Eg1,2) })_{{188} {189} {190} {191}}B^*(x_0,t_i,t_f,\\Gamma^{ (Eg1,1) })_{{188} {191} {189} {190}}$"
      ],
      "text/plain": [
       "<IPython.core.display.Math object>"
      ]
     },
     "metadata": {},
     "output_type": "display_data"
    },
    {
     "data": {
      "text/latex": [
       "$\\displaystyle -1.0 B(x_1,t_i,\\Gamma^{ (Eg1,2) })_{{188} {189} {190} {191}}B^*(x_0,t_i,t_f,\\Gamma^{ (Eg1,1) })_{{189} {191} {188} {190}}$"
      ],
      "text/plain": [
       "<IPython.core.display.Math object>"
      ]
     },
     "metadata": {},
     "output_type": "display_data"
    },
    {
     "data": {
      "text/latex": [
       "$\\displaystyle 1.0 B(x_1,t_i,\\Gamma^{ (Eg1,2) })_{{188} {189} {190} {191}}B^*(x_0,t_i,t_f,\\Gamma^{ (Eg1,1) })_{{189} {191} {190} {188}}$"
      ],
      "text/plain": [
       "<IPython.core.display.Math object>"
      ]
     },
     "metadata": {},
     "output_type": "display_data"
    },
    {
     "data": {
      "text/latex": [
       "$\\displaystyle -1.0 B(x_1,t_i,\\Gamma^{ (Eg1,2) })_{{188} {189} {190} {191}}B^*(x_0,t_i,t_f,\\Gamma^{ (Eg1,1) })_{{188} {191} {190} {189}}$"
      ],
      "text/plain": [
       "<IPython.core.display.Math object>"
      ]
     },
     "metadata": {},
     "output_type": "display_data"
    },
    {
     "data": {
      "text/latex": [
       "$\\displaystyle 1.0 B(x_1,t_i,\\Gamma^{ (Eg1,2) })_{{188} {189} {190} {191}}B^*(x_0,t_i,t_f,\\Gamma^{ (Eg1,1) })_{{190} {191} {188} {189}}$"
      ],
      "text/plain": [
       "<IPython.core.display.Math object>"
      ]
     },
     "metadata": {},
     "output_type": "display_data"
    },
    {
     "data": {
      "text/latex": [
       "$\\displaystyle -1.0 B(x_1,t_i,\\Gamma^{ (Eg1,2) })_{{188} {189} {190} {191}}B^*(x_0,t_i,t_f,\\Gamma^{ (Eg1,1) })_{{190} {191} {189} {188}}$"
      ],
      "text/plain": [
       "<IPython.core.display.Math object>"
      ]
     },
     "metadata": {},
     "output_type": "display_data"
    },
    {
     "data": {
      "text/latex": [
       "$\\displaystyle 1.0 B(x_1,t_i,\\Gamma^{ (Eg1,2) })_{{188} {189} {190} {191}}B^*(x_0,t_i,t_f,\\Gamma^{ (Eg1,1) })_{{191} {190} {189} {188}}$"
      ],
      "text/plain": [
       "<IPython.core.display.Math object>"
      ]
     },
     "metadata": {},
     "output_type": "display_data"
    },
    {
     "data": {
      "text/latex": [
       "$\\displaystyle -1.0 B(x_1,t_i,\\Gamma^{ (Eg1,2) })_{{188} {189} {190} {191}}B^*(x_0,t_i,t_f,\\Gamma^{ (Eg1,1) })_{{191} {190} {188} {189}}$"
      ],
      "text/plain": [
       "<IPython.core.display.Math object>"
      ]
     },
     "metadata": {},
     "output_type": "display_data"
    },
    {
     "data": {
      "text/latex": [
       "$\\displaystyle 1.0 B(x_1,t_i,\\Gamma^{ (Eg1,2) })_{{188} {189} {190} {191}}B^*(x_0,t_i,t_f,\\Gamma^{ (Eg1,1) })_{{191} {188} {190} {189}}$"
      ],
      "text/plain": [
       "<IPython.core.display.Math object>"
      ]
     },
     "metadata": {},
     "output_type": "display_data"
    },
    {
     "data": {
      "text/latex": [
       "$\\displaystyle -1.0 B(x_1,t_i,\\Gamma^{ (Eg1,2) })_{{188} {189} {190} {191}}B^*(x_0,t_i,t_f,\\Gamma^{ (Eg1,1) })_{{191} {189} {190} {188}}$"
      ],
      "text/plain": [
       "<IPython.core.display.Math object>"
      ]
     },
     "metadata": {},
     "output_type": "display_data"
    },
    {
     "data": {
      "text/latex": [
       "$\\displaystyle 1.0 B(x_1,t_i,\\Gamma^{ (Eg1,2) })_{{188} {189} {190} {191}}B^*(x_0,t_i,t_f,\\Gamma^{ (Eg1,1) })_{{191} {189} {188} {190}}$"
      ],
      "text/plain": [
       "<IPython.core.display.Math object>"
      ]
     },
     "metadata": {},
     "output_type": "display_data"
    },
    {
     "data": {
      "text/latex": [
       "$\\displaystyle -1.0 B(x_1,t_i,\\Gamma^{ (Eg1,2) })_{{188} {189} {190} {191}}B^*(x_0,t_i,t_f,\\Gamma^{ (Eg1,1) })_{{191} {188} {189} {190}}$"
      ],
      "text/plain": [
       "<IPython.core.display.Math object>"
      ]
     },
     "metadata": {},
     "output_type": "display_data"
    },
    {
     "data": {
      "text/latex": [
       "$\\displaystyle 1.0 B(x_1,t_i,\\Gamma^{ (buchoff,0) })_{{132} {133} {134} {135}}B^*(x_0,t_i,t_f,\\Gamma^{ (Eg1,2) })_{{132} {133} {134} {135}}$"
      ],
      "text/plain": [
       "<IPython.core.display.Math object>"
      ]
     },
     "metadata": {},
     "output_type": "display_data"
    },
    {
     "data": {
      "text/latex": [
       "$\\displaystyle -1.0 B(x_1,t_i,\\Gamma^{ (buchoff,0) })_{{132} {133} {134} {135}}B^*(x_0,t_i,t_f,\\Gamma^{ (Eg1,2) })_{{133} {132} {134} {135}}$"
      ],
      "text/plain": [
       "<IPython.core.display.Math object>"
      ]
     },
     "metadata": {},
     "output_type": "display_data"
    },
    {
     "data": {
      "text/latex": [
       "$\\displaystyle 1.0 B(x_1,t_i,\\Gamma^{ (buchoff,0) })_{{132} {133} {134} {135}}B^*(x_0,t_i,t_f,\\Gamma^{ (Eg1,2) })_{{133} {134} {132} {135}}$"
      ],
      "text/plain": [
       "<IPython.core.display.Math object>"
      ]
     },
     "metadata": {},
     "output_type": "display_data"
    },
    {
     "data": {
      "text/latex": [
       "$\\displaystyle -1.0 B(x_1,t_i,\\Gamma^{ (buchoff,0) })_{{132} {133} {134} {135}}B^*(x_0,t_i,t_f,\\Gamma^{ (Eg1,2) })_{{132} {134} {133} {135}}$"
      ],
      "text/plain": [
       "<IPython.core.display.Math object>"
      ]
     },
     "metadata": {},
     "output_type": "display_data"
    },
    {
     "data": {
      "text/latex": [
       "$\\displaystyle 1.0 B(x_1,t_i,\\Gamma^{ (buchoff,0) })_{{132} {133} {134} {135}}B^*(x_0,t_i,t_f,\\Gamma^{ (Eg1,2) })_{{134} {132} {133} {135}}$"
      ],
      "text/plain": [
       "<IPython.core.display.Math object>"
      ]
     },
     "metadata": {},
     "output_type": "display_data"
    },
    {
     "data": {
      "text/latex": [
       "$\\displaystyle -1.0 B(x_1,t_i,\\Gamma^{ (buchoff,0) })_{{132} {133} {134} {135}}B^*(x_0,t_i,t_f,\\Gamma^{ (Eg1,2) })_{{134} {133} {132} {135}}$"
      ],
      "text/plain": [
       "<IPython.core.display.Math object>"
      ]
     },
     "metadata": {},
     "output_type": "display_data"
    },
    {
     "data": {
      "text/latex": [
       "$\\displaystyle 1.0 B(x_1,t_i,\\Gamma^{ (buchoff,0) })_{{132} {133} {134} {135}}B^*(x_0,t_i,t_f,\\Gamma^{ (Eg1,2) })_{{134} {133} {135} {132}}$"
      ],
      "text/plain": [
       "<IPython.core.display.Math object>"
      ]
     },
     "metadata": {},
     "output_type": "display_data"
    },
    {
     "data": {
      "text/latex": [
       "$\\displaystyle -1.0 B(x_1,t_i,\\Gamma^{ (buchoff,0) })_{{132} {133} {134} {135}}B^*(x_0,t_i,t_f,\\Gamma^{ (Eg1,2) })_{{134} {132} {135} {133}}$"
      ],
      "text/plain": [
       "<IPython.core.display.Math object>"
      ]
     },
     "metadata": {},
     "output_type": "display_data"
    },
    {
     "data": {
      "text/latex": [
       "$\\displaystyle 1.0 B(x_1,t_i,\\Gamma^{ (buchoff,0) })_{{132} {133} {134} {135}}B^*(x_0,t_i,t_f,\\Gamma^{ (Eg1,2) })_{{132} {134} {135} {133}}$"
      ],
      "text/plain": [
       "<IPython.core.display.Math object>"
      ]
     },
     "metadata": {},
     "output_type": "display_data"
    },
    {
     "data": {
      "text/latex": [
       "$\\displaystyle -1.0 B(x_1,t_i,\\Gamma^{ (buchoff,0) })_{{132} {133} {134} {135}}B^*(x_0,t_i,t_f,\\Gamma^{ (Eg1,2) })_{{133} {134} {135} {132}}$"
      ],
      "text/plain": [
       "<IPython.core.display.Math object>"
      ]
     },
     "metadata": {},
     "output_type": "display_data"
    },
    {
     "data": {
      "text/latex": [
       "$\\displaystyle 1.0 B(x_1,t_i,\\Gamma^{ (buchoff,0) })_{{132} {133} {134} {135}}B^*(x_0,t_i,t_f,\\Gamma^{ (Eg1,2) })_{{133} {132} {135} {134}}$"
      ],
      "text/plain": [
       "<IPython.core.display.Math object>"
      ]
     },
     "metadata": {},
     "output_type": "display_data"
    },
    {
     "data": {
      "text/latex": [
       "$\\displaystyle -1.0 B(x_1,t_i,\\Gamma^{ (buchoff,0) })_{{132} {133} {134} {135}}B^*(x_0,t_i,t_f,\\Gamma^{ (Eg1,2) })_{{132} {133} {135} {134}}$"
      ],
      "text/plain": [
       "<IPython.core.display.Math object>"
      ]
     },
     "metadata": {},
     "output_type": "display_data"
    },
    {
     "data": {
      "text/latex": [
       "$\\displaystyle 1.0 B(x_1,t_i,\\Gamma^{ (buchoff,0) })_{{132} {133} {134} {135}}B^*(x_0,t_i,t_f,\\Gamma^{ (Eg1,2) })_{{132} {135} {133} {134}}$"
      ],
      "text/plain": [
       "<IPython.core.display.Math object>"
      ]
     },
     "metadata": {},
     "output_type": "display_data"
    },
    {
     "data": {
      "text/latex": [
       "$\\displaystyle -1.0 B(x_1,t_i,\\Gamma^{ (buchoff,0) })_{{132} {133} {134} {135}}B^*(x_0,t_i,t_f,\\Gamma^{ (Eg1,2) })_{{133} {135} {132} {134}}$"
      ],
      "text/plain": [
       "<IPython.core.display.Math object>"
      ]
     },
     "metadata": {},
     "output_type": "display_data"
    },
    {
     "data": {
      "text/latex": [
       "$\\displaystyle 1.0 B(x_1,t_i,\\Gamma^{ (buchoff,0) })_{{132} {133} {134} {135}}B^*(x_0,t_i,t_f,\\Gamma^{ (Eg1,2) })_{{133} {135} {134} {132}}$"
      ],
      "text/plain": [
       "<IPython.core.display.Math object>"
      ]
     },
     "metadata": {},
     "output_type": "display_data"
    },
    {
     "data": {
      "text/latex": [
       "$\\displaystyle -1.0 B(x_1,t_i,\\Gamma^{ (buchoff,0) })_{{132} {133} {134} {135}}B^*(x_0,t_i,t_f,\\Gamma^{ (Eg1,2) })_{{132} {135} {134} {133}}$"
      ],
      "text/plain": [
       "<IPython.core.display.Math object>"
      ]
     },
     "metadata": {},
     "output_type": "display_data"
    },
    {
     "data": {
      "text/latex": [
       "$\\displaystyle 1.0 B(x_1,t_i,\\Gamma^{ (buchoff,0) })_{{132} {133} {134} {135}}B^*(x_0,t_i,t_f,\\Gamma^{ (Eg1,2) })_{{134} {135} {132} {133}}$"
      ],
      "text/plain": [
       "<IPython.core.display.Math object>"
      ]
     },
     "metadata": {},
     "output_type": "display_data"
    },
    {
     "data": {
      "text/latex": [
       "$\\displaystyle -1.0 B(x_1,t_i,\\Gamma^{ (buchoff,0) })_{{132} {133} {134} {135}}B^*(x_0,t_i,t_f,\\Gamma^{ (Eg1,2) })_{{134} {135} {133} {132}}$"
      ],
      "text/plain": [
       "<IPython.core.display.Math object>"
      ]
     },
     "metadata": {},
     "output_type": "display_data"
    },
    {
     "data": {
      "text/latex": [
       "$\\displaystyle 1.0 B(x_1,t_i,\\Gamma^{ (buchoff,0) })_{{132} {133} {134} {135}}B^*(x_0,t_i,t_f,\\Gamma^{ (Eg1,2) })_{{135} {134} {133} {132}}$"
      ],
      "text/plain": [
       "<IPython.core.display.Math object>"
      ]
     },
     "metadata": {},
     "output_type": "display_data"
    },
    {
     "data": {
      "text/latex": [
       "$\\displaystyle -1.0 B(x_1,t_i,\\Gamma^{ (buchoff,0) })_{{132} {133} {134} {135}}B^*(x_0,t_i,t_f,\\Gamma^{ (Eg1,2) })_{{135} {134} {132} {133}}$"
      ],
      "text/plain": [
       "<IPython.core.display.Math object>"
      ]
     },
     "metadata": {},
     "output_type": "display_data"
    },
    {
     "data": {
      "text/latex": [
       "$\\displaystyle 1.0 B(x_1,t_i,\\Gamma^{ (buchoff,0) })_{{132} {133} {134} {135}}B^*(x_0,t_i,t_f,\\Gamma^{ (Eg1,2) })_{{135} {132} {134} {133}}$"
      ],
      "text/plain": [
       "<IPython.core.display.Math object>"
      ]
     },
     "metadata": {},
     "output_type": "display_data"
    },
    {
     "data": {
      "text/latex": [
       "$\\displaystyle -1.0 B(x_1,t_i,\\Gamma^{ (buchoff,0) })_{{132} {133} {134} {135}}B^*(x_0,t_i,t_f,\\Gamma^{ (Eg1,2) })_{{135} {133} {134} {132}}$"
      ],
      "text/plain": [
       "<IPython.core.display.Math object>"
      ]
     },
     "metadata": {},
     "output_type": "display_data"
    },
    {
     "data": {
      "text/latex": [
       "$\\displaystyle 1.0 B(x_1,t_i,\\Gamma^{ (buchoff,0) })_{{132} {133} {134} {135}}B^*(x_0,t_i,t_f,\\Gamma^{ (Eg1,2) })_{{135} {133} {132} {134}}$"
      ],
      "text/plain": [
       "<IPython.core.display.Math object>"
      ]
     },
     "metadata": {},
     "output_type": "display_data"
    },
    {
     "data": {
      "text/latex": [
       "$\\displaystyle -1.0 B(x_1,t_i,\\Gamma^{ (buchoff,0) })_{{132} {133} {134} {135}}B^*(x_0,t_i,t_f,\\Gamma^{ (Eg1,2) })_{{135} {132} {133} {134}}$"
      ],
      "text/plain": [
       "<IPython.core.display.Math object>"
      ]
     },
     "metadata": {},
     "output_type": "display_data"
    },
    {
     "data": {
      "text/latex": [
       "$\\displaystyle 1.0 B^*(x_0,t_i,t_f,\\Gamma^{ (Eg1,2) })_{{140} {141} {142} {143}}B(x_1,t_i,\\Gamma^{ (A1g,0) })_{{140} {141} {142} {143}}$"
      ],
      "text/plain": [
       "<IPython.core.display.Math object>"
      ]
     },
     "metadata": {},
     "output_type": "display_data"
    },
    {
     "data": {
      "text/latex": [
       "$\\displaystyle -1.0 B^*(x_0,t_i,t_f,\\Gamma^{ (Eg1,2) })_{{141} {140} {142} {143}}B(x_1,t_i,\\Gamma^{ (A1g,0) })_{{140} {141} {142} {143}}$"
      ],
      "text/plain": [
       "<IPython.core.display.Math object>"
      ]
     },
     "metadata": {},
     "output_type": "display_data"
    },
    {
     "data": {
      "text/latex": [
       "$\\displaystyle 1.0 B^*(x_0,t_i,t_f,\\Gamma^{ (Eg1,2) })_{{141} {142} {140} {143}}B(x_1,t_i,\\Gamma^{ (A1g,0) })_{{140} {141} {142} {143}}$"
      ],
      "text/plain": [
       "<IPython.core.display.Math object>"
      ]
     },
     "metadata": {},
     "output_type": "display_data"
    },
    {
     "data": {
      "text/latex": [
       "$\\displaystyle -1.0 B^*(x_0,t_i,t_f,\\Gamma^{ (Eg1,2) })_{{140} {142} {141} {143}}B(x_1,t_i,\\Gamma^{ (A1g,0) })_{{140} {141} {142} {143}}$"
      ],
      "text/plain": [
       "<IPython.core.display.Math object>"
      ]
     },
     "metadata": {},
     "output_type": "display_data"
    },
    {
     "data": {
      "text/latex": [
       "$\\displaystyle 1.0 B^*(x_0,t_i,t_f,\\Gamma^{ (Eg1,2) })_{{142} {140} {141} {143}}B(x_1,t_i,\\Gamma^{ (A1g,0) })_{{140} {141} {142} {143}}$"
      ],
      "text/plain": [
       "<IPython.core.display.Math object>"
      ]
     },
     "metadata": {},
     "output_type": "display_data"
    },
    {
     "data": {
      "text/latex": [
       "$\\displaystyle -1.0 B^*(x_0,t_i,t_f,\\Gamma^{ (Eg1,2) })_{{142} {141} {140} {143}}B(x_1,t_i,\\Gamma^{ (A1g,0) })_{{140} {141} {142} {143}}$"
      ],
      "text/plain": [
       "<IPython.core.display.Math object>"
      ]
     },
     "metadata": {},
     "output_type": "display_data"
    },
    {
     "data": {
      "text/latex": [
       "$\\displaystyle 1.0 B^*(x_0,t_i,t_f,\\Gamma^{ (Eg1,2) })_{{142} {141} {143} {140}}B(x_1,t_i,\\Gamma^{ (A1g,0) })_{{140} {141} {142} {143}}$"
      ],
      "text/plain": [
       "<IPython.core.display.Math object>"
      ]
     },
     "metadata": {},
     "output_type": "display_data"
    },
    {
     "data": {
      "text/latex": [
       "$\\displaystyle -1.0 B^*(x_0,t_i,t_f,\\Gamma^{ (Eg1,2) })_{{142} {140} {143} {141}}B(x_1,t_i,\\Gamma^{ (A1g,0) })_{{140} {141} {142} {143}}$"
      ],
      "text/plain": [
       "<IPython.core.display.Math object>"
      ]
     },
     "metadata": {},
     "output_type": "display_data"
    },
    {
     "data": {
      "text/latex": [
       "$\\displaystyle 1.0 B^*(x_0,t_i,t_f,\\Gamma^{ (Eg1,2) })_{{140} {142} {143} {141}}B(x_1,t_i,\\Gamma^{ (A1g,0) })_{{140} {141} {142} {143}}$"
      ],
      "text/plain": [
       "<IPython.core.display.Math object>"
      ]
     },
     "metadata": {},
     "output_type": "display_data"
    },
    {
     "data": {
      "text/latex": [
       "$\\displaystyle -1.0 B^*(x_0,t_i,t_f,\\Gamma^{ (Eg1,2) })_{{141} {142} {143} {140}}B(x_1,t_i,\\Gamma^{ (A1g,0) })_{{140} {141} {142} {143}}$"
      ],
      "text/plain": [
       "<IPython.core.display.Math object>"
      ]
     },
     "metadata": {},
     "output_type": "display_data"
    },
    {
     "data": {
      "text/latex": [
       "$\\displaystyle 1.0 B^*(x_0,t_i,t_f,\\Gamma^{ (Eg1,2) })_{{141} {140} {143} {142}}B(x_1,t_i,\\Gamma^{ (A1g,0) })_{{140} {141} {142} {143}}$"
      ],
      "text/plain": [
       "<IPython.core.display.Math object>"
      ]
     },
     "metadata": {},
     "output_type": "display_data"
    },
    {
     "data": {
      "text/latex": [
       "$\\displaystyle -1.0 B^*(x_0,t_i,t_f,\\Gamma^{ (Eg1,2) })_{{140} {141} {143} {142}}B(x_1,t_i,\\Gamma^{ (A1g,0) })_{{140} {141} {142} {143}}$"
      ],
      "text/plain": [
       "<IPython.core.display.Math object>"
      ]
     },
     "metadata": {},
     "output_type": "display_data"
    },
    {
     "data": {
      "text/latex": [
       "$\\displaystyle 1.0 B^*(x_0,t_i,t_f,\\Gamma^{ (Eg1,2) })_{{140} {143} {141} {142}}B(x_1,t_i,\\Gamma^{ (A1g,0) })_{{140} {141} {142} {143}}$"
      ],
      "text/plain": [
       "<IPython.core.display.Math object>"
      ]
     },
     "metadata": {},
     "output_type": "display_data"
    },
    {
     "data": {
      "text/latex": [
       "$\\displaystyle -1.0 B^*(x_0,t_i,t_f,\\Gamma^{ (Eg1,2) })_{{141} {143} {140} {142}}B(x_1,t_i,\\Gamma^{ (A1g,0) })_{{140} {141} {142} {143}}$"
      ],
      "text/plain": [
       "<IPython.core.display.Math object>"
      ]
     },
     "metadata": {},
     "output_type": "display_data"
    },
    {
     "data": {
      "text/latex": [
       "$\\displaystyle 1.0 B^*(x_0,t_i,t_f,\\Gamma^{ (Eg1,2) })_{{141} {143} {142} {140}}B(x_1,t_i,\\Gamma^{ (A1g,0) })_{{140} {141} {142} {143}}$"
      ],
      "text/plain": [
       "<IPython.core.display.Math object>"
      ]
     },
     "metadata": {},
     "output_type": "display_data"
    },
    {
     "data": {
      "text/latex": [
       "$\\displaystyle -1.0 B^*(x_0,t_i,t_f,\\Gamma^{ (Eg1,2) })_{{140} {143} {142} {141}}B(x_1,t_i,\\Gamma^{ (A1g,0) })_{{140} {141} {142} {143}}$"
      ],
      "text/plain": [
       "<IPython.core.display.Math object>"
      ]
     },
     "metadata": {},
     "output_type": "display_data"
    },
    {
     "data": {
      "text/latex": [
       "$\\displaystyle 1.0 B^*(x_0,t_i,t_f,\\Gamma^{ (Eg1,2) })_{{142} {143} {140} {141}}B(x_1,t_i,\\Gamma^{ (A1g,0) })_{{140} {141} {142} {143}}$"
      ],
      "text/plain": [
       "<IPython.core.display.Math object>"
      ]
     },
     "metadata": {},
     "output_type": "display_data"
    },
    {
     "data": {
      "text/latex": [
       "$\\displaystyle -1.0 B^*(x_0,t_i,t_f,\\Gamma^{ (Eg1,2) })_{{142} {143} {141} {140}}B(x_1,t_i,\\Gamma^{ (A1g,0) })_{{140} {141} {142} {143}}$"
      ],
      "text/plain": [
       "<IPython.core.display.Math object>"
      ]
     },
     "metadata": {},
     "output_type": "display_data"
    },
    {
     "data": {
      "text/latex": [
       "$\\displaystyle 1.0 B^*(x_0,t_i,t_f,\\Gamma^{ (Eg1,2) })_{{143} {142} {141} {140}}B(x_1,t_i,\\Gamma^{ (A1g,0) })_{{140} {141} {142} {143}}$"
      ],
      "text/plain": [
       "<IPython.core.display.Math object>"
      ]
     },
     "metadata": {},
     "output_type": "display_data"
    },
    {
     "data": {
      "text/latex": [
       "$\\displaystyle -1.0 B^*(x_0,t_i,t_f,\\Gamma^{ (Eg1,2) })_{{143} {142} {140} {141}}B(x_1,t_i,\\Gamma^{ (A1g,0) })_{{140} {141} {142} {143}}$"
      ],
      "text/plain": [
       "<IPython.core.display.Math object>"
      ]
     },
     "metadata": {},
     "output_type": "display_data"
    },
    {
     "data": {
      "text/latex": [
       "$\\displaystyle 1.0 B^*(x_0,t_i,t_f,\\Gamma^{ (Eg1,2) })_{{143} {140} {142} {141}}B(x_1,t_i,\\Gamma^{ (A1g,0) })_{{140} {141} {142} {143}}$"
      ],
      "text/plain": [
       "<IPython.core.display.Math object>"
      ]
     },
     "metadata": {},
     "output_type": "display_data"
    },
    {
     "data": {
      "text/latex": [
       "$\\displaystyle -1.0 B^*(x_0,t_i,t_f,\\Gamma^{ (Eg1,2) })_{{143} {141} {142} {140}}B(x_1,t_i,\\Gamma^{ (A1g,0) })_{{140} {141} {142} {143}}$"
      ],
      "text/plain": [
       "<IPython.core.display.Math object>"
      ]
     },
     "metadata": {},
     "output_type": "display_data"
    },
    {
     "data": {
      "text/latex": [
       "$\\displaystyle 1.0 B^*(x_0,t_i,t_f,\\Gamma^{ (Eg1,2) })_{{143} {141} {140} {142}}B(x_1,t_i,\\Gamma^{ (A1g,0) })_{{140} {141} {142} {143}}$"
      ],
      "text/plain": [
       "<IPython.core.display.Math object>"
      ]
     },
     "metadata": {},
     "output_type": "display_data"
    },
    {
     "data": {
      "text/latex": [
       "$\\displaystyle -1.0 B^*(x_0,t_i,t_f,\\Gamma^{ (Eg1,2) })_{{143} {140} {141} {142}}B(x_1,t_i,\\Gamma^{ (A1g,0) })_{{140} {141} {142} {143}}$"
      ],
      "text/plain": [
       "<IPython.core.display.Math object>"
      ]
     },
     "metadata": {},
     "output_type": "display_data"
    },
    {
     "data": {
      "text/latex": [
       "$\\displaystyle 1.0 B^*(x_0,t_i,t_f,\\Gamma^{ (Eg1,2) })_{{148} {149} {150} {151}}B(x_1,t_i,\\Gamma^{ (Eg0,0) })_{{148} {149} {150} {151}}$"
      ],
      "text/plain": [
       "<IPython.core.display.Math object>"
      ]
     },
     "metadata": {},
     "output_type": "display_data"
    },
    {
     "data": {
      "text/latex": [
       "$\\displaystyle -1.0 B^*(x_0,t_i,t_f,\\Gamma^{ (Eg1,2) })_{{149} {148} {150} {151}}B(x_1,t_i,\\Gamma^{ (Eg0,0) })_{{148} {149} {150} {151}}$"
      ],
      "text/plain": [
       "<IPython.core.display.Math object>"
      ]
     },
     "metadata": {},
     "output_type": "display_data"
    },
    {
     "data": {
      "text/latex": [
       "$\\displaystyle 1.0 B^*(x_0,t_i,t_f,\\Gamma^{ (Eg1,2) })_{{149} {150} {148} {151}}B(x_1,t_i,\\Gamma^{ (Eg0,0) })_{{148} {149} {150} {151}}$"
      ],
      "text/plain": [
       "<IPython.core.display.Math object>"
      ]
     },
     "metadata": {},
     "output_type": "display_data"
    },
    {
     "data": {
      "text/latex": [
       "$\\displaystyle -1.0 B^*(x_0,t_i,t_f,\\Gamma^{ (Eg1,2) })_{{148} {150} {149} {151}}B(x_1,t_i,\\Gamma^{ (Eg0,0) })_{{148} {149} {150} {151}}$"
      ],
      "text/plain": [
       "<IPython.core.display.Math object>"
      ]
     },
     "metadata": {},
     "output_type": "display_data"
    },
    {
     "data": {
      "text/latex": [
       "$\\displaystyle 1.0 B^*(x_0,t_i,t_f,\\Gamma^{ (Eg1,2) })_{{150} {148} {149} {151}}B(x_1,t_i,\\Gamma^{ (Eg0,0) })_{{148} {149} {150} {151}}$"
      ],
      "text/plain": [
       "<IPython.core.display.Math object>"
      ]
     },
     "metadata": {},
     "output_type": "display_data"
    },
    {
     "data": {
      "text/latex": [
       "$\\displaystyle -1.0 B^*(x_0,t_i,t_f,\\Gamma^{ (Eg1,2) })_{{150} {149} {148} {151}}B(x_1,t_i,\\Gamma^{ (Eg0,0) })_{{148} {149} {150} {151}}$"
      ],
      "text/plain": [
       "<IPython.core.display.Math object>"
      ]
     },
     "metadata": {},
     "output_type": "display_data"
    },
    {
     "data": {
      "text/latex": [
       "$\\displaystyle 1.0 B^*(x_0,t_i,t_f,\\Gamma^{ (Eg1,2) })_{{150} {149} {151} {148}}B(x_1,t_i,\\Gamma^{ (Eg0,0) })_{{148} {149} {150} {151}}$"
      ],
      "text/plain": [
       "<IPython.core.display.Math object>"
      ]
     },
     "metadata": {},
     "output_type": "display_data"
    },
    {
     "data": {
      "text/latex": [
       "$\\displaystyle -1.0 B^*(x_0,t_i,t_f,\\Gamma^{ (Eg1,2) })_{{150} {148} {151} {149}}B(x_1,t_i,\\Gamma^{ (Eg0,0) })_{{148} {149} {150} {151}}$"
      ],
      "text/plain": [
       "<IPython.core.display.Math object>"
      ]
     },
     "metadata": {},
     "output_type": "display_data"
    },
    {
     "data": {
      "text/latex": [
       "$\\displaystyle 1.0 B^*(x_0,t_i,t_f,\\Gamma^{ (Eg1,2) })_{{148} {150} {151} {149}}B(x_1,t_i,\\Gamma^{ (Eg0,0) })_{{148} {149} {150} {151}}$"
      ],
      "text/plain": [
       "<IPython.core.display.Math object>"
      ]
     },
     "metadata": {},
     "output_type": "display_data"
    },
    {
     "data": {
      "text/latex": [
       "$\\displaystyle -1.0 B^*(x_0,t_i,t_f,\\Gamma^{ (Eg1,2) })_{{149} {150} {151} {148}}B(x_1,t_i,\\Gamma^{ (Eg0,0) })_{{148} {149} {150} {151}}$"
      ],
      "text/plain": [
       "<IPython.core.display.Math object>"
      ]
     },
     "metadata": {},
     "output_type": "display_data"
    },
    {
     "data": {
      "text/latex": [
       "$\\displaystyle 1.0 B^*(x_0,t_i,t_f,\\Gamma^{ (Eg1,2) })_{{149} {148} {151} {150}}B(x_1,t_i,\\Gamma^{ (Eg0,0) })_{{148} {149} {150} {151}}$"
      ],
      "text/plain": [
       "<IPython.core.display.Math object>"
      ]
     },
     "metadata": {},
     "output_type": "display_data"
    },
    {
     "data": {
      "text/latex": [
       "$\\displaystyle -1.0 B^*(x_0,t_i,t_f,\\Gamma^{ (Eg1,2) })_{{148} {149} {151} {150}}B(x_1,t_i,\\Gamma^{ (Eg0,0) })_{{148} {149} {150} {151}}$"
      ],
      "text/plain": [
       "<IPython.core.display.Math object>"
      ]
     },
     "metadata": {},
     "output_type": "display_data"
    },
    {
     "data": {
      "text/latex": [
       "$\\displaystyle 1.0 B^*(x_0,t_i,t_f,\\Gamma^{ (Eg1,2) })_{{148} {151} {149} {150}}B(x_1,t_i,\\Gamma^{ (Eg0,0) })_{{148} {149} {150} {151}}$"
      ],
      "text/plain": [
       "<IPython.core.display.Math object>"
      ]
     },
     "metadata": {},
     "output_type": "display_data"
    },
    {
     "data": {
      "text/latex": [
       "$\\displaystyle -1.0 B^*(x_0,t_i,t_f,\\Gamma^{ (Eg1,2) })_{{149} {151} {148} {150}}B(x_1,t_i,\\Gamma^{ (Eg0,0) })_{{148} {149} {150} {151}}$"
      ],
      "text/plain": [
       "<IPython.core.display.Math object>"
      ]
     },
     "metadata": {},
     "output_type": "display_data"
    },
    {
     "data": {
      "text/latex": [
       "$\\displaystyle 1.0 B^*(x_0,t_i,t_f,\\Gamma^{ (Eg1,2) })_{{149} {151} {150} {148}}B(x_1,t_i,\\Gamma^{ (Eg0,0) })_{{148} {149} {150} {151}}$"
      ],
      "text/plain": [
       "<IPython.core.display.Math object>"
      ]
     },
     "metadata": {},
     "output_type": "display_data"
    },
    {
     "data": {
      "text/latex": [
       "$\\displaystyle -1.0 B^*(x_0,t_i,t_f,\\Gamma^{ (Eg1,2) })_{{148} {151} {150} {149}}B(x_1,t_i,\\Gamma^{ (Eg0,0) })_{{148} {149} {150} {151}}$"
      ],
      "text/plain": [
       "<IPython.core.display.Math object>"
      ]
     },
     "metadata": {},
     "output_type": "display_data"
    },
    {
     "data": {
      "text/latex": [
       "$\\displaystyle 1.0 B^*(x_0,t_i,t_f,\\Gamma^{ (Eg1,2) })_{{150} {151} {148} {149}}B(x_1,t_i,\\Gamma^{ (Eg0,0) })_{{148} {149} {150} {151}}$"
      ],
      "text/plain": [
       "<IPython.core.display.Math object>"
      ]
     },
     "metadata": {},
     "output_type": "display_data"
    },
    {
     "data": {
      "text/latex": [
       "$\\displaystyle -1.0 B^*(x_0,t_i,t_f,\\Gamma^{ (Eg1,2) })_{{150} {151} {149} {148}}B(x_1,t_i,\\Gamma^{ (Eg0,0) })_{{148} {149} {150} {151}}$"
      ],
      "text/plain": [
       "<IPython.core.display.Math object>"
      ]
     },
     "metadata": {},
     "output_type": "display_data"
    },
    {
     "data": {
      "text/latex": [
       "$\\displaystyle 1.0 B^*(x_0,t_i,t_f,\\Gamma^{ (Eg1,2) })_{{151} {150} {149} {148}}B(x_1,t_i,\\Gamma^{ (Eg0,0) })_{{148} {149} {150} {151}}$"
      ],
      "text/plain": [
       "<IPython.core.display.Math object>"
      ]
     },
     "metadata": {},
     "output_type": "display_data"
    },
    {
     "data": {
      "text/latex": [
       "$\\displaystyle -1.0 B^*(x_0,t_i,t_f,\\Gamma^{ (Eg1,2) })_{{151} {150} {148} {149}}B(x_1,t_i,\\Gamma^{ (Eg0,0) })_{{148} {149} {150} {151}}$"
      ],
      "text/plain": [
       "<IPython.core.display.Math object>"
      ]
     },
     "metadata": {},
     "output_type": "display_data"
    },
    {
     "data": {
      "text/latex": [
       "$\\displaystyle 1.0 B^*(x_0,t_i,t_f,\\Gamma^{ (Eg1,2) })_{{151} {148} {150} {149}}B(x_1,t_i,\\Gamma^{ (Eg0,0) })_{{148} {149} {150} {151}}$"
      ],
      "text/plain": [
       "<IPython.core.display.Math object>"
      ]
     },
     "metadata": {},
     "output_type": "display_data"
    },
    {
     "data": {
      "text/latex": [
       "$\\displaystyle -1.0 B^*(x_0,t_i,t_f,\\Gamma^{ (Eg1,2) })_{{151} {149} {150} {148}}B(x_1,t_i,\\Gamma^{ (Eg0,0) })_{{148} {149} {150} {151}}$"
      ],
      "text/plain": [
       "<IPython.core.display.Math object>"
      ]
     },
     "metadata": {},
     "output_type": "display_data"
    },
    {
     "data": {
      "text/latex": [
       "$\\displaystyle 1.0 B^*(x_0,t_i,t_f,\\Gamma^{ (Eg1,2) })_{{151} {149} {148} {150}}B(x_1,t_i,\\Gamma^{ (Eg0,0) })_{{148} {149} {150} {151}}$"
      ],
      "text/plain": [
       "<IPython.core.display.Math object>"
      ]
     },
     "metadata": {},
     "output_type": "display_data"
    },
    {
     "data": {
      "text/latex": [
       "$\\displaystyle -1.0 B^*(x_0,t_i,t_f,\\Gamma^{ (Eg1,2) })_{{151} {148} {149} {150}}B(x_1,t_i,\\Gamma^{ (Eg0,0) })_{{148} {149} {150} {151}}$"
      ],
      "text/plain": [
       "<IPython.core.display.Math object>"
      ]
     },
     "metadata": {},
     "output_type": "display_data"
    },
    {
     "data": {
      "text/latex": [
       "$\\displaystyle 1.0 B^*(x_0,t_i,t_f,\\Gamma^{ (Eg1,2) })_{{156} {157} {158} {159}}B(x_1,t_i,\\Gamma^{ (Eg0,1) })_{{156} {157} {158} {159}}$"
      ],
      "text/plain": [
       "<IPython.core.display.Math object>"
      ]
     },
     "metadata": {},
     "output_type": "display_data"
    },
    {
     "data": {
      "text/latex": [
       "$\\displaystyle -1.0 B^*(x_0,t_i,t_f,\\Gamma^{ (Eg1,2) })_{{157} {156} {158} {159}}B(x_1,t_i,\\Gamma^{ (Eg0,1) })_{{156} {157} {158} {159}}$"
      ],
      "text/plain": [
       "<IPython.core.display.Math object>"
      ]
     },
     "metadata": {},
     "output_type": "display_data"
    },
    {
     "data": {
      "text/latex": [
       "$\\displaystyle 1.0 B^*(x_0,t_i,t_f,\\Gamma^{ (Eg1,2) })_{{157} {158} {156} {159}}B(x_1,t_i,\\Gamma^{ (Eg0,1) })_{{156} {157} {158} {159}}$"
      ],
      "text/plain": [
       "<IPython.core.display.Math object>"
      ]
     },
     "metadata": {},
     "output_type": "display_data"
    },
    {
     "data": {
      "text/latex": [
       "$\\displaystyle -1.0 B^*(x_0,t_i,t_f,\\Gamma^{ (Eg1,2) })_{{156} {158} {157} {159}}B(x_1,t_i,\\Gamma^{ (Eg0,1) })_{{156} {157} {158} {159}}$"
      ],
      "text/plain": [
       "<IPython.core.display.Math object>"
      ]
     },
     "metadata": {},
     "output_type": "display_data"
    },
    {
     "data": {
      "text/latex": [
       "$\\displaystyle 1.0 B^*(x_0,t_i,t_f,\\Gamma^{ (Eg1,2) })_{{158} {156} {157} {159}}B(x_1,t_i,\\Gamma^{ (Eg0,1) })_{{156} {157} {158} {159}}$"
      ],
      "text/plain": [
       "<IPython.core.display.Math object>"
      ]
     },
     "metadata": {},
     "output_type": "display_data"
    },
    {
     "data": {
      "text/latex": [
       "$\\displaystyle -1.0 B^*(x_0,t_i,t_f,\\Gamma^{ (Eg1,2) })_{{158} {157} {156} {159}}B(x_1,t_i,\\Gamma^{ (Eg0,1) })_{{156} {157} {158} {159}}$"
      ],
      "text/plain": [
       "<IPython.core.display.Math object>"
      ]
     },
     "metadata": {},
     "output_type": "display_data"
    },
    {
     "data": {
      "text/latex": [
       "$\\displaystyle 1.0 B^*(x_0,t_i,t_f,\\Gamma^{ (Eg1,2) })_{{158} {157} {159} {156}}B(x_1,t_i,\\Gamma^{ (Eg0,1) })_{{156} {157} {158} {159}}$"
      ],
      "text/plain": [
       "<IPython.core.display.Math object>"
      ]
     },
     "metadata": {},
     "output_type": "display_data"
    },
    {
     "data": {
      "text/latex": [
       "$\\displaystyle -1.0 B^*(x_0,t_i,t_f,\\Gamma^{ (Eg1,2) })_{{158} {156} {159} {157}}B(x_1,t_i,\\Gamma^{ (Eg0,1) })_{{156} {157} {158} {159}}$"
      ],
      "text/plain": [
       "<IPython.core.display.Math object>"
      ]
     },
     "metadata": {},
     "output_type": "display_data"
    },
    {
     "data": {
      "text/latex": [
       "$\\displaystyle 1.0 B^*(x_0,t_i,t_f,\\Gamma^{ (Eg1,2) })_{{156} {158} {159} {157}}B(x_1,t_i,\\Gamma^{ (Eg0,1) })_{{156} {157} {158} {159}}$"
      ],
      "text/plain": [
       "<IPython.core.display.Math object>"
      ]
     },
     "metadata": {},
     "output_type": "display_data"
    },
    {
     "data": {
      "text/latex": [
       "$\\displaystyle -1.0 B^*(x_0,t_i,t_f,\\Gamma^{ (Eg1,2) })_{{157} {158} {159} {156}}B(x_1,t_i,\\Gamma^{ (Eg0,1) })_{{156} {157} {158} {159}}$"
      ],
      "text/plain": [
       "<IPython.core.display.Math object>"
      ]
     },
     "metadata": {},
     "output_type": "display_data"
    },
    {
     "data": {
      "text/latex": [
       "$\\displaystyle 1.0 B^*(x_0,t_i,t_f,\\Gamma^{ (Eg1,2) })_{{157} {156} {159} {158}}B(x_1,t_i,\\Gamma^{ (Eg0,1) })_{{156} {157} {158} {159}}$"
      ],
      "text/plain": [
       "<IPython.core.display.Math object>"
      ]
     },
     "metadata": {},
     "output_type": "display_data"
    },
    {
     "data": {
      "text/latex": [
       "$\\displaystyle -1.0 B^*(x_0,t_i,t_f,\\Gamma^{ (Eg1,2) })_{{156} {157} {159} {158}}B(x_1,t_i,\\Gamma^{ (Eg0,1) })_{{156} {157} {158} {159}}$"
      ],
      "text/plain": [
       "<IPython.core.display.Math object>"
      ]
     },
     "metadata": {},
     "output_type": "display_data"
    },
    {
     "data": {
      "text/latex": [
       "$\\displaystyle 1.0 B^*(x_0,t_i,t_f,\\Gamma^{ (Eg1,2) })_{{156} {159} {157} {158}}B(x_1,t_i,\\Gamma^{ (Eg0,1) })_{{156} {157} {158} {159}}$"
      ],
      "text/plain": [
       "<IPython.core.display.Math object>"
      ]
     },
     "metadata": {},
     "output_type": "display_data"
    },
    {
     "data": {
      "text/latex": [
       "$\\displaystyle -1.0 B^*(x_0,t_i,t_f,\\Gamma^{ (Eg1,2) })_{{157} {159} {156} {158}}B(x_1,t_i,\\Gamma^{ (Eg0,1) })_{{156} {157} {158} {159}}$"
      ],
      "text/plain": [
       "<IPython.core.display.Math object>"
      ]
     },
     "metadata": {},
     "output_type": "display_data"
    },
    {
     "data": {
      "text/latex": [
       "$\\displaystyle 1.0 B^*(x_0,t_i,t_f,\\Gamma^{ (Eg1,2) })_{{157} {159} {158} {156}}B(x_1,t_i,\\Gamma^{ (Eg0,1) })_{{156} {157} {158} {159}}$"
      ],
      "text/plain": [
       "<IPython.core.display.Math object>"
      ]
     },
     "metadata": {},
     "output_type": "display_data"
    },
    {
     "data": {
      "text/latex": [
       "$\\displaystyle -1.0 B^*(x_0,t_i,t_f,\\Gamma^{ (Eg1,2) })_{{156} {159} {158} {157}}B(x_1,t_i,\\Gamma^{ (Eg0,1) })_{{156} {157} {158} {159}}$"
      ],
      "text/plain": [
       "<IPython.core.display.Math object>"
      ]
     },
     "metadata": {},
     "output_type": "display_data"
    },
    {
     "data": {
      "text/latex": [
       "$\\displaystyle 1.0 B^*(x_0,t_i,t_f,\\Gamma^{ (Eg1,2) })_{{158} {159} {156} {157}}B(x_1,t_i,\\Gamma^{ (Eg0,1) })_{{156} {157} {158} {159}}$"
      ],
      "text/plain": [
       "<IPython.core.display.Math object>"
      ]
     },
     "metadata": {},
     "output_type": "display_data"
    },
    {
     "data": {
      "text/latex": [
       "$\\displaystyle -1.0 B^*(x_0,t_i,t_f,\\Gamma^{ (Eg1,2) })_{{158} {159} {157} {156}}B(x_1,t_i,\\Gamma^{ (Eg0,1) })_{{156} {157} {158} {159}}$"
      ],
      "text/plain": [
       "<IPython.core.display.Math object>"
      ]
     },
     "metadata": {},
     "output_type": "display_data"
    },
    {
     "data": {
      "text/latex": [
       "$\\displaystyle 1.0 B^*(x_0,t_i,t_f,\\Gamma^{ (Eg1,2) })_{{159} {158} {157} {156}}B(x_1,t_i,\\Gamma^{ (Eg0,1) })_{{156} {157} {158} {159}}$"
      ],
      "text/plain": [
       "<IPython.core.display.Math object>"
      ]
     },
     "metadata": {},
     "output_type": "display_data"
    },
    {
     "data": {
      "text/latex": [
       "$\\displaystyle -1.0 B^*(x_0,t_i,t_f,\\Gamma^{ (Eg1,2) })_{{159} {158} {156} {157}}B(x_1,t_i,\\Gamma^{ (Eg0,1) })_{{156} {157} {158} {159}}$"
      ],
      "text/plain": [
       "<IPython.core.display.Math object>"
      ]
     },
     "metadata": {},
     "output_type": "display_data"
    },
    {
     "data": {
      "text/latex": [
       "$\\displaystyle 1.0 B^*(x_0,t_i,t_f,\\Gamma^{ (Eg1,2) })_{{159} {156} {158} {157}}B(x_1,t_i,\\Gamma^{ (Eg0,1) })_{{156} {157} {158} {159}}$"
      ],
      "text/plain": [
       "<IPython.core.display.Math object>"
      ]
     },
     "metadata": {},
     "output_type": "display_data"
    },
    {
     "data": {
      "text/latex": [
       "$\\displaystyle -1.0 B^*(x_0,t_i,t_f,\\Gamma^{ (Eg1,2) })_{{159} {157} {158} {156}}B(x_1,t_i,\\Gamma^{ (Eg0,1) })_{{156} {157} {158} {159}}$"
      ],
      "text/plain": [
       "<IPython.core.display.Math object>"
      ]
     },
     "metadata": {},
     "output_type": "display_data"
    },
    {
     "data": {
      "text/latex": [
       "$\\displaystyle 1.0 B^*(x_0,t_i,t_f,\\Gamma^{ (Eg1,2) })_{{159} {157} {156} {158}}B(x_1,t_i,\\Gamma^{ (Eg0,1) })_{{156} {157} {158} {159}}$"
      ],
      "text/plain": [
       "<IPython.core.display.Math object>"
      ]
     },
     "metadata": {},
     "output_type": "display_data"
    },
    {
     "data": {
      "text/latex": [
       "$\\displaystyle -1.0 B^*(x_0,t_i,t_f,\\Gamma^{ (Eg1,2) })_{{159} {156} {157} {158}}B(x_1,t_i,\\Gamma^{ (Eg0,1) })_{{156} {157} {158} {159}}$"
      ],
      "text/plain": [
       "<IPython.core.display.Math object>"
      ]
     },
     "metadata": {},
     "output_type": "display_data"
    },
    {
     "data": {
      "text/latex": [
       "$\\displaystyle 1.0 B^*(x_0,t_i,t_f,\\Gamma^{ (Eg1,2) })_{{164} {165} {166} {167}}B(x_1,t_i,\\Gamma^{ (Eg0,2) })_{{164} {165} {166} {167}}$"
      ],
      "text/plain": [
       "<IPython.core.display.Math object>"
      ]
     },
     "metadata": {},
     "output_type": "display_data"
    },
    {
     "data": {
      "text/latex": [
       "$\\displaystyle -1.0 B^*(x_0,t_i,t_f,\\Gamma^{ (Eg1,2) })_{{165} {164} {166} {167}}B(x_1,t_i,\\Gamma^{ (Eg0,2) })_{{164} {165} {166} {167}}$"
      ],
      "text/plain": [
       "<IPython.core.display.Math object>"
      ]
     },
     "metadata": {},
     "output_type": "display_data"
    },
    {
     "data": {
      "text/latex": [
       "$\\displaystyle 1.0 B^*(x_0,t_i,t_f,\\Gamma^{ (Eg1,2) })_{{165} {166} {164} {167}}B(x_1,t_i,\\Gamma^{ (Eg0,2) })_{{164} {165} {166} {167}}$"
      ],
      "text/plain": [
       "<IPython.core.display.Math object>"
      ]
     },
     "metadata": {},
     "output_type": "display_data"
    },
    {
     "data": {
      "text/latex": [
       "$\\displaystyle -1.0 B^*(x_0,t_i,t_f,\\Gamma^{ (Eg1,2) })_{{164} {166} {165} {167}}B(x_1,t_i,\\Gamma^{ (Eg0,2) })_{{164} {165} {166} {167}}$"
      ],
      "text/plain": [
       "<IPython.core.display.Math object>"
      ]
     },
     "metadata": {},
     "output_type": "display_data"
    },
    {
     "data": {
      "text/latex": [
       "$\\displaystyle 1.0 B^*(x_0,t_i,t_f,\\Gamma^{ (Eg1,2) })_{{166} {164} {165} {167}}B(x_1,t_i,\\Gamma^{ (Eg0,2) })_{{164} {165} {166} {167}}$"
      ],
      "text/plain": [
       "<IPython.core.display.Math object>"
      ]
     },
     "metadata": {},
     "output_type": "display_data"
    },
    {
     "data": {
      "text/latex": [
       "$\\displaystyle -1.0 B^*(x_0,t_i,t_f,\\Gamma^{ (Eg1,2) })_{{166} {165} {164} {167}}B(x_1,t_i,\\Gamma^{ (Eg0,2) })_{{164} {165} {166} {167}}$"
      ],
      "text/plain": [
       "<IPython.core.display.Math object>"
      ]
     },
     "metadata": {},
     "output_type": "display_data"
    },
    {
     "data": {
      "text/latex": [
       "$\\displaystyle 1.0 B^*(x_0,t_i,t_f,\\Gamma^{ (Eg1,2) })_{{166} {165} {167} {164}}B(x_1,t_i,\\Gamma^{ (Eg0,2) })_{{164} {165} {166} {167}}$"
      ],
      "text/plain": [
       "<IPython.core.display.Math object>"
      ]
     },
     "metadata": {},
     "output_type": "display_data"
    },
    {
     "data": {
      "text/latex": [
       "$\\displaystyle -1.0 B^*(x_0,t_i,t_f,\\Gamma^{ (Eg1,2) })_{{166} {164} {167} {165}}B(x_1,t_i,\\Gamma^{ (Eg0,2) })_{{164} {165} {166} {167}}$"
      ],
      "text/plain": [
       "<IPython.core.display.Math object>"
      ]
     },
     "metadata": {},
     "output_type": "display_data"
    },
    {
     "data": {
      "text/latex": [
       "$\\displaystyle 1.0 B^*(x_0,t_i,t_f,\\Gamma^{ (Eg1,2) })_{{164} {166} {167} {165}}B(x_1,t_i,\\Gamma^{ (Eg0,2) })_{{164} {165} {166} {167}}$"
      ],
      "text/plain": [
       "<IPython.core.display.Math object>"
      ]
     },
     "metadata": {},
     "output_type": "display_data"
    },
    {
     "data": {
      "text/latex": [
       "$\\displaystyle -1.0 B^*(x_0,t_i,t_f,\\Gamma^{ (Eg1,2) })_{{165} {166} {167} {164}}B(x_1,t_i,\\Gamma^{ (Eg0,2) })_{{164} {165} {166} {167}}$"
      ],
      "text/plain": [
       "<IPython.core.display.Math object>"
      ]
     },
     "metadata": {},
     "output_type": "display_data"
    },
    {
     "data": {
      "text/latex": [
       "$\\displaystyle 1.0 B^*(x_0,t_i,t_f,\\Gamma^{ (Eg1,2) })_{{165} {164} {167} {166}}B(x_1,t_i,\\Gamma^{ (Eg0,2) })_{{164} {165} {166} {167}}$"
      ],
      "text/plain": [
       "<IPython.core.display.Math object>"
      ]
     },
     "metadata": {},
     "output_type": "display_data"
    },
    {
     "data": {
      "text/latex": [
       "$\\displaystyle -1.0 B^*(x_0,t_i,t_f,\\Gamma^{ (Eg1,2) })_{{164} {165} {167} {166}}B(x_1,t_i,\\Gamma^{ (Eg0,2) })_{{164} {165} {166} {167}}$"
      ],
      "text/plain": [
       "<IPython.core.display.Math object>"
      ]
     },
     "metadata": {},
     "output_type": "display_data"
    },
    {
     "data": {
      "text/latex": [
       "$\\displaystyle 1.0 B^*(x_0,t_i,t_f,\\Gamma^{ (Eg1,2) })_{{164} {167} {165} {166}}B(x_1,t_i,\\Gamma^{ (Eg0,2) })_{{164} {165} {166} {167}}$"
      ],
      "text/plain": [
       "<IPython.core.display.Math object>"
      ]
     },
     "metadata": {},
     "output_type": "display_data"
    },
    {
     "data": {
      "text/latex": [
       "$\\displaystyle -1.0 B^*(x_0,t_i,t_f,\\Gamma^{ (Eg1,2) })_{{165} {167} {164} {166}}B(x_1,t_i,\\Gamma^{ (Eg0,2) })_{{164} {165} {166} {167}}$"
      ],
      "text/plain": [
       "<IPython.core.display.Math object>"
      ]
     },
     "metadata": {},
     "output_type": "display_data"
    },
    {
     "data": {
      "text/latex": [
       "$\\displaystyle 1.0 B^*(x_0,t_i,t_f,\\Gamma^{ (Eg1,2) })_{{165} {167} {166} {164}}B(x_1,t_i,\\Gamma^{ (Eg0,2) })_{{164} {165} {166} {167}}$"
      ],
      "text/plain": [
       "<IPython.core.display.Math object>"
      ]
     },
     "metadata": {},
     "output_type": "display_data"
    },
    {
     "data": {
      "text/latex": [
       "$\\displaystyle -1.0 B^*(x_0,t_i,t_f,\\Gamma^{ (Eg1,2) })_{{164} {167} {166} {165}}B(x_1,t_i,\\Gamma^{ (Eg0,2) })_{{164} {165} {166} {167}}$"
      ],
      "text/plain": [
       "<IPython.core.display.Math object>"
      ]
     },
     "metadata": {},
     "output_type": "display_data"
    },
    {
     "data": {
      "text/latex": [
       "$\\displaystyle 1.0 B^*(x_0,t_i,t_f,\\Gamma^{ (Eg1,2) })_{{166} {167} {164} {165}}B(x_1,t_i,\\Gamma^{ (Eg0,2) })_{{164} {165} {166} {167}}$"
      ],
      "text/plain": [
       "<IPython.core.display.Math object>"
      ]
     },
     "metadata": {},
     "output_type": "display_data"
    },
    {
     "data": {
      "text/latex": [
       "$\\displaystyle -1.0 B^*(x_0,t_i,t_f,\\Gamma^{ (Eg1,2) })_{{166} {167} {165} {164}}B(x_1,t_i,\\Gamma^{ (Eg0,2) })_{{164} {165} {166} {167}}$"
      ],
      "text/plain": [
       "<IPython.core.display.Math object>"
      ]
     },
     "metadata": {},
     "output_type": "display_data"
    },
    {
     "data": {
      "text/latex": [
       "$\\displaystyle 1.0 B^*(x_0,t_i,t_f,\\Gamma^{ (Eg1,2) })_{{167} {166} {165} {164}}B(x_1,t_i,\\Gamma^{ (Eg0,2) })_{{164} {165} {166} {167}}$"
      ],
      "text/plain": [
       "<IPython.core.display.Math object>"
      ]
     },
     "metadata": {},
     "output_type": "display_data"
    },
    {
     "data": {
      "text/latex": [
       "$\\displaystyle -1.0 B^*(x_0,t_i,t_f,\\Gamma^{ (Eg1,2) })_{{167} {166} {164} {165}}B(x_1,t_i,\\Gamma^{ (Eg0,2) })_{{164} {165} {166} {167}}$"
      ],
      "text/plain": [
       "<IPython.core.display.Math object>"
      ]
     },
     "metadata": {},
     "output_type": "display_data"
    },
    {
     "data": {
      "text/latex": [
       "$\\displaystyle 1.0 B^*(x_0,t_i,t_f,\\Gamma^{ (Eg1,2) })_{{167} {164} {166} {165}}B(x_1,t_i,\\Gamma^{ (Eg0,2) })_{{164} {165} {166} {167}}$"
      ],
      "text/plain": [
       "<IPython.core.display.Math object>"
      ]
     },
     "metadata": {},
     "output_type": "display_data"
    },
    {
     "data": {
      "text/latex": [
       "$\\displaystyle -1.0 B^*(x_0,t_i,t_f,\\Gamma^{ (Eg1,2) })_{{167} {165} {166} {164}}B(x_1,t_i,\\Gamma^{ (Eg0,2) })_{{164} {165} {166} {167}}$"
      ],
      "text/plain": [
       "<IPython.core.display.Math object>"
      ]
     },
     "metadata": {},
     "output_type": "display_data"
    },
    {
     "data": {
      "text/latex": [
       "$\\displaystyle 1.0 B^*(x_0,t_i,t_f,\\Gamma^{ (Eg1,2) })_{{167} {165} {164} {166}}B(x_1,t_i,\\Gamma^{ (Eg0,2) })_{{164} {165} {166} {167}}$"
      ],
      "text/plain": [
       "<IPython.core.display.Math object>"
      ]
     },
     "metadata": {},
     "output_type": "display_data"
    },
    {
     "data": {
      "text/latex": [
       "$\\displaystyle -1.0 B^*(x_0,t_i,t_f,\\Gamma^{ (Eg1,2) })_{{167} {164} {165} {166}}B(x_1,t_i,\\Gamma^{ (Eg0,2) })_{{164} {165} {166} {167}}$"
      ],
      "text/plain": [
       "<IPython.core.display.Math object>"
      ]
     },
     "metadata": {},
     "output_type": "display_data"
    },
    {
     "data": {
      "text/latex": [
       "$\\displaystyle 1.0 B^*(x_0,t_i,t_f,\\Gamma^{ (Eg1,2) })_{{172} {173} {174} {175}}B(x_1,t_i,\\Gamma^{ (Eg1,0) })_{{172} {173} {174} {175}}$"
      ],
      "text/plain": [
       "<IPython.core.display.Math object>"
      ]
     },
     "metadata": {},
     "output_type": "display_data"
    },
    {
     "data": {
      "text/latex": [
       "$\\displaystyle -1.0 B^*(x_0,t_i,t_f,\\Gamma^{ (Eg1,2) })_{{173} {172} {174} {175}}B(x_1,t_i,\\Gamma^{ (Eg1,0) })_{{172} {173} {174} {175}}$"
      ],
      "text/plain": [
       "<IPython.core.display.Math object>"
      ]
     },
     "metadata": {},
     "output_type": "display_data"
    },
    {
     "data": {
      "text/latex": [
       "$\\displaystyle 1.0 B^*(x_0,t_i,t_f,\\Gamma^{ (Eg1,2) })_{{173} {174} {172} {175}}B(x_1,t_i,\\Gamma^{ (Eg1,0) })_{{172} {173} {174} {175}}$"
      ],
      "text/plain": [
       "<IPython.core.display.Math object>"
      ]
     },
     "metadata": {},
     "output_type": "display_data"
    },
    {
     "data": {
      "text/latex": [
       "$\\displaystyle -1.0 B^*(x_0,t_i,t_f,\\Gamma^{ (Eg1,2) })_{{172} {174} {173} {175}}B(x_1,t_i,\\Gamma^{ (Eg1,0) })_{{172} {173} {174} {175}}$"
      ],
      "text/plain": [
       "<IPython.core.display.Math object>"
      ]
     },
     "metadata": {},
     "output_type": "display_data"
    },
    {
     "data": {
      "text/latex": [
       "$\\displaystyle 1.0 B^*(x_0,t_i,t_f,\\Gamma^{ (Eg1,2) })_{{174} {172} {173} {175}}B(x_1,t_i,\\Gamma^{ (Eg1,0) })_{{172} {173} {174} {175}}$"
      ],
      "text/plain": [
       "<IPython.core.display.Math object>"
      ]
     },
     "metadata": {},
     "output_type": "display_data"
    },
    {
     "data": {
      "text/latex": [
       "$\\displaystyle -1.0 B^*(x_0,t_i,t_f,\\Gamma^{ (Eg1,2) })_{{174} {173} {172} {175}}B(x_1,t_i,\\Gamma^{ (Eg1,0) })_{{172} {173} {174} {175}}$"
      ],
      "text/plain": [
       "<IPython.core.display.Math object>"
      ]
     },
     "metadata": {},
     "output_type": "display_data"
    },
    {
     "data": {
      "text/latex": [
       "$\\displaystyle 1.0 B^*(x_0,t_i,t_f,\\Gamma^{ (Eg1,2) })_{{174} {173} {175} {172}}B(x_1,t_i,\\Gamma^{ (Eg1,0) })_{{172} {173} {174} {175}}$"
      ],
      "text/plain": [
       "<IPython.core.display.Math object>"
      ]
     },
     "metadata": {},
     "output_type": "display_data"
    },
    {
     "data": {
      "text/latex": [
       "$\\displaystyle -1.0 B^*(x_0,t_i,t_f,\\Gamma^{ (Eg1,2) })_{{174} {172} {175} {173}}B(x_1,t_i,\\Gamma^{ (Eg1,0) })_{{172} {173} {174} {175}}$"
      ],
      "text/plain": [
       "<IPython.core.display.Math object>"
      ]
     },
     "metadata": {},
     "output_type": "display_data"
    },
    {
     "data": {
      "text/latex": [
       "$\\displaystyle 1.0 B^*(x_0,t_i,t_f,\\Gamma^{ (Eg1,2) })_{{172} {174} {175} {173}}B(x_1,t_i,\\Gamma^{ (Eg1,0) })_{{172} {173} {174} {175}}$"
      ],
      "text/plain": [
       "<IPython.core.display.Math object>"
      ]
     },
     "metadata": {},
     "output_type": "display_data"
    },
    {
     "data": {
      "text/latex": [
       "$\\displaystyle -1.0 B^*(x_0,t_i,t_f,\\Gamma^{ (Eg1,2) })_{{173} {174} {175} {172}}B(x_1,t_i,\\Gamma^{ (Eg1,0) })_{{172} {173} {174} {175}}$"
      ],
      "text/plain": [
       "<IPython.core.display.Math object>"
      ]
     },
     "metadata": {},
     "output_type": "display_data"
    },
    {
     "data": {
      "text/latex": [
       "$\\displaystyle 1.0 B^*(x_0,t_i,t_f,\\Gamma^{ (Eg1,2) })_{{173} {172} {175} {174}}B(x_1,t_i,\\Gamma^{ (Eg1,0) })_{{172} {173} {174} {175}}$"
      ],
      "text/plain": [
       "<IPython.core.display.Math object>"
      ]
     },
     "metadata": {},
     "output_type": "display_data"
    },
    {
     "data": {
      "text/latex": [
       "$\\displaystyle -1.0 B^*(x_0,t_i,t_f,\\Gamma^{ (Eg1,2) })_{{172} {173} {175} {174}}B(x_1,t_i,\\Gamma^{ (Eg1,0) })_{{172} {173} {174} {175}}$"
      ],
      "text/plain": [
       "<IPython.core.display.Math object>"
      ]
     },
     "metadata": {},
     "output_type": "display_data"
    },
    {
     "data": {
      "text/latex": [
       "$\\displaystyle 1.0 B^*(x_0,t_i,t_f,\\Gamma^{ (Eg1,2) })_{{172} {175} {173} {174}}B(x_1,t_i,\\Gamma^{ (Eg1,0) })_{{172} {173} {174} {175}}$"
      ],
      "text/plain": [
       "<IPython.core.display.Math object>"
      ]
     },
     "metadata": {},
     "output_type": "display_data"
    },
    {
     "data": {
      "text/latex": [
       "$\\displaystyle -1.0 B^*(x_0,t_i,t_f,\\Gamma^{ (Eg1,2) })_{{173} {175} {172} {174}}B(x_1,t_i,\\Gamma^{ (Eg1,0) })_{{172} {173} {174} {175}}$"
      ],
      "text/plain": [
       "<IPython.core.display.Math object>"
      ]
     },
     "metadata": {},
     "output_type": "display_data"
    },
    {
     "data": {
      "text/latex": [
       "$\\displaystyle 1.0 B^*(x_0,t_i,t_f,\\Gamma^{ (Eg1,2) })_{{173} {175} {174} {172}}B(x_1,t_i,\\Gamma^{ (Eg1,0) })_{{172} {173} {174} {175}}$"
      ],
      "text/plain": [
       "<IPython.core.display.Math object>"
      ]
     },
     "metadata": {},
     "output_type": "display_data"
    },
    {
     "data": {
      "text/latex": [
       "$\\displaystyle -1.0 B^*(x_0,t_i,t_f,\\Gamma^{ (Eg1,2) })_{{172} {175} {174} {173}}B(x_1,t_i,\\Gamma^{ (Eg1,0) })_{{172} {173} {174} {175}}$"
      ],
      "text/plain": [
       "<IPython.core.display.Math object>"
      ]
     },
     "metadata": {},
     "output_type": "display_data"
    },
    {
     "data": {
      "text/latex": [
       "$\\displaystyle 1.0 B^*(x_0,t_i,t_f,\\Gamma^{ (Eg1,2) })_{{174} {175} {172} {173}}B(x_1,t_i,\\Gamma^{ (Eg1,0) })_{{172} {173} {174} {175}}$"
      ],
      "text/plain": [
       "<IPython.core.display.Math object>"
      ]
     },
     "metadata": {},
     "output_type": "display_data"
    },
    {
     "data": {
      "text/latex": [
       "$\\displaystyle -1.0 B^*(x_0,t_i,t_f,\\Gamma^{ (Eg1,2) })_{{174} {175} {173} {172}}B(x_1,t_i,\\Gamma^{ (Eg1,0) })_{{172} {173} {174} {175}}$"
      ],
      "text/plain": [
       "<IPython.core.display.Math object>"
      ]
     },
     "metadata": {},
     "output_type": "display_data"
    },
    {
     "data": {
      "text/latex": [
       "$\\displaystyle 1.0 B^*(x_0,t_i,t_f,\\Gamma^{ (Eg1,2) })_{{175} {174} {173} {172}}B(x_1,t_i,\\Gamma^{ (Eg1,0) })_{{172} {173} {174} {175}}$"
      ],
      "text/plain": [
       "<IPython.core.display.Math object>"
      ]
     },
     "metadata": {},
     "output_type": "display_data"
    },
    {
     "data": {
      "text/latex": [
       "$\\displaystyle -1.0 B^*(x_0,t_i,t_f,\\Gamma^{ (Eg1,2) })_{{175} {174} {172} {173}}B(x_1,t_i,\\Gamma^{ (Eg1,0) })_{{172} {173} {174} {175}}$"
      ],
      "text/plain": [
       "<IPython.core.display.Math object>"
      ]
     },
     "metadata": {},
     "output_type": "display_data"
    },
    {
     "data": {
      "text/latex": [
       "$\\displaystyle 1.0 B^*(x_0,t_i,t_f,\\Gamma^{ (Eg1,2) })_{{175} {172} {174} {173}}B(x_1,t_i,\\Gamma^{ (Eg1,0) })_{{172} {173} {174} {175}}$"
      ],
      "text/plain": [
       "<IPython.core.display.Math object>"
      ]
     },
     "metadata": {},
     "output_type": "display_data"
    },
    {
     "data": {
      "text/latex": [
       "$\\displaystyle -1.0 B^*(x_0,t_i,t_f,\\Gamma^{ (Eg1,2) })_{{175} {173} {174} {172}}B(x_1,t_i,\\Gamma^{ (Eg1,0) })_{{172} {173} {174} {175}}$"
      ],
      "text/plain": [
       "<IPython.core.display.Math object>"
      ]
     },
     "metadata": {},
     "output_type": "display_data"
    },
    {
     "data": {
      "text/latex": [
       "$\\displaystyle 1.0 B^*(x_0,t_i,t_f,\\Gamma^{ (Eg1,2) })_{{175} {173} {172} {174}}B(x_1,t_i,\\Gamma^{ (Eg1,0) })_{{172} {173} {174} {175}}$"
      ],
      "text/plain": [
       "<IPython.core.display.Math object>"
      ]
     },
     "metadata": {},
     "output_type": "display_data"
    },
    {
     "data": {
      "text/latex": [
       "$\\displaystyle -1.0 B^*(x_0,t_i,t_f,\\Gamma^{ (Eg1,2) })_{{175} {172} {173} {174}}B(x_1,t_i,\\Gamma^{ (Eg1,0) })_{{172} {173} {174} {175}}$"
      ],
      "text/plain": [
       "<IPython.core.display.Math object>"
      ]
     },
     "metadata": {},
     "output_type": "display_data"
    },
    {
     "data": {
      "text/latex": [
       "$\\displaystyle 1.0 B^*(x_0,t_i,t_f,\\Gamma^{ (Eg1,2) })_{{180} {181} {182} {183}}B(x_1,t_i,\\Gamma^{ (Eg1,1) })_{{180} {181} {182} {183}}$"
      ],
      "text/plain": [
       "<IPython.core.display.Math object>"
      ]
     },
     "metadata": {},
     "output_type": "display_data"
    },
    {
     "data": {
      "text/latex": [
       "$\\displaystyle -1.0 B^*(x_0,t_i,t_f,\\Gamma^{ (Eg1,2) })_{{181} {180} {182} {183}}B(x_1,t_i,\\Gamma^{ (Eg1,1) })_{{180} {181} {182} {183}}$"
      ],
      "text/plain": [
       "<IPython.core.display.Math object>"
      ]
     },
     "metadata": {},
     "output_type": "display_data"
    },
    {
     "data": {
      "text/latex": [
       "$\\displaystyle 1.0 B^*(x_0,t_i,t_f,\\Gamma^{ (Eg1,2) })_{{181} {182} {180} {183}}B(x_1,t_i,\\Gamma^{ (Eg1,1) })_{{180} {181} {182} {183}}$"
      ],
      "text/plain": [
       "<IPython.core.display.Math object>"
      ]
     },
     "metadata": {},
     "output_type": "display_data"
    },
    {
     "data": {
      "text/latex": [
       "$\\displaystyle -1.0 B^*(x_0,t_i,t_f,\\Gamma^{ (Eg1,2) })_{{180} {182} {181} {183}}B(x_1,t_i,\\Gamma^{ (Eg1,1) })_{{180} {181} {182} {183}}$"
      ],
      "text/plain": [
       "<IPython.core.display.Math object>"
      ]
     },
     "metadata": {},
     "output_type": "display_data"
    },
    {
     "data": {
      "text/latex": [
       "$\\displaystyle 1.0 B^*(x_0,t_i,t_f,\\Gamma^{ (Eg1,2) })_{{182} {180} {181} {183}}B(x_1,t_i,\\Gamma^{ (Eg1,1) })_{{180} {181} {182} {183}}$"
      ],
      "text/plain": [
       "<IPython.core.display.Math object>"
      ]
     },
     "metadata": {},
     "output_type": "display_data"
    },
    {
     "data": {
      "text/latex": [
       "$\\displaystyle -1.0 B^*(x_0,t_i,t_f,\\Gamma^{ (Eg1,2) })_{{182} {181} {180} {183}}B(x_1,t_i,\\Gamma^{ (Eg1,1) })_{{180} {181} {182} {183}}$"
      ],
      "text/plain": [
       "<IPython.core.display.Math object>"
      ]
     },
     "metadata": {},
     "output_type": "display_data"
    },
    {
     "data": {
      "text/latex": [
       "$\\displaystyle 1.0 B^*(x_0,t_i,t_f,\\Gamma^{ (Eg1,2) })_{{182} {181} {183} {180}}B(x_1,t_i,\\Gamma^{ (Eg1,1) })_{{180} {181} {182} {183}}$"
      ],
      "text/plain": [
       "<IPython.core.display.Math object>"
      ]
     },
     "metadata": {},
     "output_type": "display_data"
    },
    {
     "data": {
      "text/latex": [
       "$\\displaystyle -1.0 B^*(x_0,t_i,t_f,\\Gamma^{ (Eg1,2) })_{{182} {180} {183} {181}}B(x_1,t_i,\\Gamma^{ (Eg1,1) })_{{180} {181} {182} {183}}$"
      ],
      "text/plain": [
       "<IPython.core.display.Math object>"
      ]
     },
     "metadata": {},
     "output_type": "display_data"
    },
    {
     "data": {
      "text/latex": [
       "$\\displaystyle 1.0 B^*(x_0,t_i,t_f,\\Gamma^{ (Eg1,2) })_{{180} {182} {183} {181}}B(x_1,t_i,\\Gamma^{ (Eg1,1) })_{{180} {181} {182} {183}}$"
      ],
      "text/plain": [
       "<IPython.core.display.Math object>"
      ]
     },
     "metadata": {},
     "output_type": "display_data"
    },
    {
     "data": {
      "text/latex": [
       "$\\displaystyle -1.0 B^*(x_0,t_i,t_f,\\Gamma^{ (Eg1,2) })_{{181} {182} {183} {180}}B(x_1,t_i,\\Gamma^{ (Eg1,1) })_{{180} {181} {182} {183}}$"
      ],
      "text/plain": [
       "<IPython.core.display.Math object>"
      ]
     },
     "metadata": {},
     "output_type": "display_data"
    },
    {
     "data": {
      "text/latex": [
       "$\\displaystyle 1.0 B^*(x_0,t_i,t_f,\\Gamma^{ (Eg1,2) })_{{181} {180} {183} {182}}B(x_1,t_i,\\Gamma^{ (Eg1,1) })_{{180} {181} {182} {183}}$"
      ],
      "text/plain": [
       "<IPython.core.display.Math object>"
      ]
     },
     "metadata": {},
     "output_type": "display_data"
    },
    {
     "data": {
      "text/latex": [
       "$\\displaystyle -1.0 B^*(x_0,t_i,t_f,\\Gamma^{ (Eg1,2) })_{{180} {181} {183} {182}}B(x_1,t_i,\\Gamma^{ (Eg1,1) })_{{180} {181} {182} {183}}$"
      ],
      "text/plain": [
       "<IPython.core.display.Math object>"
      ]
     },
     "metadata": {},
     "output_type": "display_data"
    },
    {
     "data": {
      "text/latex": [
       "$\\displaystyle 1.0 B^*(x_0,t_i,t_f,\\Gamma^{ (Eg1,2) })_{{180} {183} {181} {182}}B(x_1,t_i,\\Gamma^{ (Eg1,1) })_{{180} {181} {182} {183}}$"
      ],
      "text/plain": [
       "<IPython.core.display.Math object>"
      ]
     },
     "metadata": {},
     "output_type": "display_data"
    },
    {
     "data": {
      "text/latex": [
       "$\\displaystyle -1.0 B^*(x_0,t_i,t_f,\\Gamma^{ (Eg1,2) })_{{181} {183} {180} {182}}B(x_1,t_i,\\Gamma^{ (Eg1,1) })_{{180} {181} {182} {183}}$"
      ],
      "text/plain": [
       "<IPython.core.display.Math object>"
      ]
     },
     "metadata": {},
     "output_type": "display_data"
    },
    {
     "data": {
      "text/latex": [
       "$\\displaystyle 1.0 B^*(x_0,t_i,t_f,\\Gamma^{ (Eg1,2) })_{{181} {183} {182} {180}}B(x_1,t_i,\\Gamma^{ (Eg1,1) })_{{180} {181} {182} {183}}$"
      ],
      "text/plain": [
       "<IPython.core.display.Math object>"
      ]
     },
     "metadata": {},
     "output_type": "display_data"
    },
    {
     "data": {
      "text/latex": [
       "$\\displaystyle -1.0 B^*(x_0,t_i,t_f,\\Gamma^{ (Eg1,2) })_{{180} {183} {182} {181}}B(x_1,t_i,\\Gamma^{ (Eg1,1) })_{{180} {181} {182} {183}}$"
      ],
      "text/plain": [
       "<IPython.core.display.Math object>"
      ]
     },
     "metadata": {},
     "output_type": "display_data"
    },
    {
     "data": {
      "text/latex": [
       "$\\displaystyle 1.0 B^*(x_0,t_i,t_f,\\Gamma^{ (Eg1,2) })_{{182} {183} {180} {181}}B(x_1,t_i,\\Gamma^{ (Eg1,1) })_{{180} {181} {182} {183}}$"
      ],
      "text/plain": [
       "<IPython.core.display.Math object>"
      ]
     },
     "metadata": {},
     "output_type": "display_data"
    },
    {
     "data": {
      "text/latex": [
       "$\\displaystyle -1.0 B^*(x_0,t_i,t_f,\\Gamma^{ (Eg1,2) })_{{182} {183} {181} {180}}B(x_1,t_i,\\Gamma^{ (Eg1,1) })_{{180} {181} {182} {183}}$"
      ],
      "text/plain": [
       "<IPython.core.display.Math object>"
      ]
     },
     "metadata": {},
     "output_type": "display_data"
    },
    {
     "data": {
      "text/latex": [
       "$\\displaystyle 1.0 B^*(x_0,t_i,t_f,\\Gamma^{ (Eg1,2) })_{{183} {182} {181} {180}}B(x_1,t_i,\\Gamma^{ (Eg1,1) })_{{180} {181} {182} {183}}$"
      ],
      "text/plain": [
       "<IPython.core.display.Math object>"
      ]
     },
     "metadata": {},
     "output_type": "display_data"
    },
    {
     "data": {
      "text/latex": [
       "$\\displaystyle -1.0 B^*(x_0,t_i,t_f,\\Gamma^{ (Eg1,2) })_{{183} {182} {180} {181}}B(x_1,t_i,\\Gamma^{ (Eg1,1) })_{{180} {181} {182} {183}}$"
      ],
      "text/plain": [
       "<IPython.core.display.Math object>"
      ]
     },
     "metadata": {},
     "output_type": "display_data"
    },
    {
     "data": {
      "text/latex": [
       "$\\displaystyle 1.0 B^*(x_0,t_i,t_f,\\Gamma^{ (Eg1,2) })_{{183} {180} {182} {181}}B(x_1,t_i,\\Gamma^{ (Eg1,1) })_{{180} {181} {182} {183}}$"
      ],
      "text/plain": [
       "<IPython.core.display.Math object>"
      ]
     },
     "metadata": {},
     "output_type": "display_data"
    },
    {
     "data": {
      "text/latex": [
       "$\\displaystyle -1.0 B^*(x_0,t_i,t_f,\\Gamma^{ (Eg1,2) })_{{183} {181} {182} {180}}B(x_1,t_i,\\Gamma^{ (Eg1,1) })_{{180} {181} {182} {183}}$"
      ],
      "text/plain": [
       "<IPython.core.display.Math object>"
      ]
     },
     "metadata": {},
     "output_type": "display_data"
    },
    {
     "data": {
      "text/latex": [
       "$\\displaystyle 1.0 B^*(x_0,t_i,t_f,\\Gamma^{ (Eg1,2) })_{{183} {181} {180} {182}}B(x_1,t_i,\\Gamma^{ (Eg1,1) })_{{180} {181} {182} {183}}$"
      ],
      "text/plain": [
       "<IPython.core.display.Math object>"
      ]
     },
     "metadata": {},
     "output_type": "display_data"
    },
    {
     "data": {
      "text/latex": [
       "$\\displaystyle -1.0 B^*(x_0,t_i,t_f,\\Gamma^{ (Eg1,2) })_{{183} {180} {181} {182}}B(x_1,t_i,\\Gamma^{ (Eg1,1) })_{{180} {181} {182} {183}}$"
      ],
      "text/plain": [
       "<IPython.core.display.Math object>"
      ]
     },
     "metadata": {},
     "output_type": "display_data"
    },
    {
     "data": {
      "text/latex": [
       "$\\displaystyle 1.0 B(x_1,t_i,\\Gamma^{ (Eg1,2) })_{{188} {189} {190} {191}}B^*(x_0,t_i,t_f,\\Gamma^{ (Eg1,2) })_{{188} {189} {190} {191}}$"
      ],
      "text/plain": [
       "<IPython.core.display.Math object>"
      ]
     },
     "metadata": {},
     "output_type": "display_data"
    },
    {
     "data": {
      "text/latex": [
       "$\\displaystyle -1.0 B(x_1,t_i,\\Gamma^{ (Eg1,2) })_{{188} {189} {190} {191}}B^*(x_0,t_i,t_f,\\Gamma^{ (Eg1,2) })_{{189} {188} {190} {191}}$"
      ],
      "text/plain": [
       "<IPython.core.display.Math object>"
      ]
     },
     "metadata": {},
     "output_type": "display_data"
    },
    {
     "data": {
      "text/latex": [
       "$\\displaystyle 1.0 B(x_1,t_i,\\Gamma^{ (Eg1,2) })_{{188} {189} {190} {191}}B^*(x_0,t_i,t_f,\\Gamma^{ (Eg1,2) })_{{189} {190} {188} {191}}$"
      ],
      "text/plain": [
       "<IPython.core.display.Math object>"
      ]
     },
     "metadata": {},
     "output_type": "display_data"
    },
    {
     "data": {
      "text/latex": [
       "$\\displaystyle -1.0 B(x_1,t_i,\\Gamma^{ (Eg1,2) })_{{188} {189} {190} {191}}B^*(x_0,t_i,t_f,\\Gamma^{ (Eg1,2) })_{{188} {190} {189} {191}}$"
      ],
      "text/plain": [
       "<IPython.core.display.Math object>"
      ]
     },
     "metadata": {},
     "output_type": "display_data"
    },
    {
     "data": {
      "text/latex": [
       "$\\displaystyle 1.0 B(x_1,t_i,\\Gamma^{ (Eg1,2) })_{{188} {189} {190} {191}}B^*(x_0,t_i,t_f,\\Gamma^{ (Eg1,2) })_{{190} {188} {189} {191}}$"
      ],
      "text/plain": [
       "<IPython.core.display.Math object>"
      ]
     },
     "metadata": {},
     "output_type": "display_data"
    },
    {
     "data": {
      "text/latex": [
       "$\\displaystyle -1.0 B(x_1,t_i,\\Gamma^{ (Eg1,2) })_{{188} {189} {190} {191}}B^*(x_0,t_i,t_f,\\Gamma^{ (Eg1,2) })_{{190} {189} {188} {191}}$"
      ],
      "text/plain": [
       "<IPython.core.display.Math object>"
      ]
     },
     "metadata": {},
     "output_type": "display_data"
    },
    {
     "data": {
      "text/latex": [
       "$\\displaystyle 1.0 B(x_1,t_i,\\Gamma^{ (Eg1,2) })_{{188} {189} {190} {191}}B^*(x_0,t_i,t_f,\\Gamma^{ (Eg1,2) })_{{190} {189} {191} {188}}$"
      ],
      "text/plain": [
       "<IPython.core.display.Math object>"
      ]
     },
     "metadata": {},
     "output_type": "display_data"
    },
    {
     "data": {
      "text/latex": [
       "$\\displaystyle -1.0 B(x_1,t_i,\\Gamma^{ (Eg1,2) })_{{188} {189} {190} {191}}B^*(x_0,t_i,t_f,\\Gamma^{ (Eg1,2) })_{{190} {188} {191} {189}}$"
      ],
      "text/plain": [
       "<IPython.core.display.Math object>"
      ]
     },
     "metadata": {},
     "output_type": "display_data"
    },
    {
     "data": {
      "text/latex": [
       "$\\displaystyle 1.0 B(x_1,t_i,\\Gamma^{ (Eg1,2) })_{{188} {189} {190} {191}}B^*(x_0,t_i,t_f,\\Gamma^{ (Eg1,2) })_{{188} {190} {191} {189}}$"
      ],
      "text/plain": [
       "<IPython.core.display.Math object>"
      ]
     },
     "metadata": {},
     "output_type": "display_data"
    },
    {
     "data": {
      "text/latex": [
       "$\\displaystyle -1.0 B(x_1,t_i,\\Gamma^{ (Eg1,2) })_{{188} {189} {190} {191}}B^*(x_0,t_i,t_f,\\Gamma^{ (Eg1,2) })_{{189} {190} {191} {188}}$"
      ],
      "text/plain": [
       "<IPython.core.display.Math object>"
      ]
     },
     "metadata": {},
     "output_type": "display_data"
    },
    {
     "data": {
      "text/latex": [
       "$\\displaystyle 1.0 B(x_1,t_i,\\Gamma^{ (Eg1,2) })_{{188} {189} {190} {191}}B^*(x_0,t_i,t_f,\\Gamma^{ (Eg1,2) })_{{189} {188} {191} {190}}$"
      ],
      "text/plain": [
       "<IPython.core.display.Math object>"
      ]
     },
     "metadata": {},
     "output_type": "display_data"
    },
    {
     "data": {
      "text/latex": [
       "$\\displaystyle -1.0 B(x_1,t_i,\\Gamma^{ (Eg1,2) })_{{188} {189} {190} {191}}B^*(x_0,t_i,t_f,\\Gamma^{ (Eg1,2) })_{{188} {189} {191} {190}}$"
      ],
      "text/plain": [
       "<IPython.core.display.Math object>"
      ]
     },
     "metadata": {},
     "output_type": "display_data"
    },
    {
     "data": {
      "text/latex": [
       "$\\displaystyle 1.0 B(x_1,t_i,\\Gamma^{ (Eg1,2) })_{{188} {189} {190} {191}}B^*(x_0,t_i,t_f,\\Gamma^{ (Eg1,2) })_{{188} {191} {189} {190}}$"
      ],
      "text/plain": [
       "<IPython.core.display.Math object>"
      ]
     },
     "metadata": {},
     "output_type": "display_data"
    },
    {
     "data": {
      "text/latex": [
       "$\\displaystyle -1.0 B(x_1,t_i,\\Gamma^{ (Eg1,2) })_{{188} {189} {190} {191}}B^*(x_0,t_i,t_f,\\Gamma^{ (Eg1,2) })_{{189} {191} {188} {190}}$"
      ],
      "text/plain": [
       "<IPython.core.display.Math object>"
      ]
     },
     "metadata": {},
     "output_type": "display_data"
    },
    {
     "data": {
      "text/latex": [
       "$\\displaystyle 1.0 B(x_1,t_i,\\Gamma^{ (Eg1,2) })_{{188} {189} {190} {191}}B^*(x_0,t_i,t_f,\\Gamma^{ (Eg1,2) })_{{189} {191} {190} {188}}$"
      ],
      "text/plain": [
       "<IPython.core.display.Math object>"
      ]
     },
     "metadata": {},
     "output_type": "display_data"
    },
    {
     "data": {
      "text/latex": [
       "$\\displaystyle -1.0 B(x_1,t_i,\\Gamma^{ (Eg1,2) })_{{188} {189} {190} {191}}B^*(x_0,t_i,t_f,\\Gamma^{ (Eg1,2) })_{{188} {191} {190} {189}}$"
      ],
      "text/plain": [
       "<IPython.core.display.Math object>"
      ]
     },
     "metadata": {},
     "output_type": "display_data"
    },
    {
     "data": {
      "text/latex": [
       "$\\displaystyle 1.0 B(x_1,t_i,\\Gamma^{ (Eg1,2) })_{{188} {189} {190} {191}}B^*(x_0,t_i,t_f,\\Gamma^{ (Eg1,2) })_{{190} {191} {188} {189}}$"
      ],
      "text/plain": [
       "<IPython.core.display.Math object>"
      ]
     },
     "metadata": {},
     "output_type": "display_data"
    },
    {
     "data": {
      "text/latex": [
       "$\\displaystyle -1.0 B(x_1,t_i,\\Gamma^{ (Eg1,2) })_{{188} {189} {190} {191}}B^*(x_0,t_i,t_f,\\Gamma^{ (Eg1,2) })_{{190} {191} {189} {188}}$"
      ],
      "text/plain": [
       "<IPython.core.display.Math object>"
      ]
     },
     "metadata": {},
     "output_type": "display_data"
    },
    {
     "data": {
      "text/latex": [
       "$\\displaystyle 1.0 B(x_1,t_i,\\Gamma^{ (Eg1,2) })_{{188} {189} {190} {191}}B^*(x_0,t_i,t_f,\\Gamma^{ (Eg1,2) })_{{191} {190} {189} {188}}$"
      ],
      "text/plain": [
       "<IPython.core.display.Math object>"
      ]
     },
     "metadata": {},
     "output_type": "display_data"
    },
    {
     "data": {
      "text/latex": [
       "$\\displaystyle -1.0 B(x_1,t_i,\\Gamma^{ (Eg1,2) })_{{188} {189} {190} {191}}B^*(x_0,t_i,t_f,\\Gamma^{ (Eg1,2) })_{{191} {190} {188} {189}}$"
      ],
      "text/plain": [
       "<IPython.core.display.Math object>"
      ]
     },
     "metadata": {},
     "output_type": "display_data"
    },
    {
     "data": {
      "text/latex": [
       "$\\displaystyle 1.0 B(x_1,t_i,\\Gamma^{ (Eg1,2) })_{{188} {189} {190} {191}}B^*(x_0,t_i,t_f,\\Gamma^{ (Eg1,2) })_{{191} {188} {190} {189}}$"
      ],
      "text/plain": [
       "<IPython.core.display.Math object>"
      ]
     },
     "metadata": {},
     "output_type": "display_data"
    },
    {
     "data": {
      "text/latex": [
       "$\\displaystyle -1.0 B(x_1,t_i,\\Gamma^{ (Eg1,2) })_{{188} {189} {190} {191}}B^*(x_0,t_i,t_f,\\Gamma^{ (Eg1,2) })_{{191} {189} {190} {188}}$"
      ],
      "text/plain": [
       "<IPython.core.display.Math object>"
      ]
     },
     "metadata": {},
     "output_type": "display_data"
    },
    {
     "data": {
      "text/latex": [
       "$\\displaystyle 1.0 B(x_1,t_i,\\Gamma^{ (Eg1,2) })_{{188} {189} {190} {191}}B^*(x_0,t_i,t_f,\\Gamma^{ (Eg1,2) })_{{191} {189} {188} {190}}$"
      ],
      "text/plain": [
       "<IPython.core.display.Math object>"
      ]
     },
     "metadata": {},
     "output_type": "display_data"
    },
    {
     "data": {
      "text/latex": [
       "$\\displaystyle -1.0 B(x_1,t_i,\\Gamma^{ (Eg1,2) })_{{188} {189} {190} {191}}B^*(x_0,t_i,t_f,\\Gamma^{ (Eg1,2) })_{{191} {188} {189} {190}}$"
      ],
      "text/plain": [
       "<IPython.core.display.Math object>"
      ]
     },
     "metadata": {},
     "output_type": "display_data"
    }
   ],
   "source": [
    "for d in laphDiagrams:\n",
    "    pprint(d)"
   ]
  },
  {
   "cell_type": "code",
   "execution_count": null,
   "metadata": {},
   "outputs": [],
   "source": []
  },
  {
   "cell_type": "code",
   "execution_count": null,
   "metadata": {},
   "outputs": [],
   "source": []
  },
  {
   "cell_type": "code",
   "execution_count": null,
   "metadata": {},
   "outputs": [],
   "source": []
  }
 ],
 "metadata": {
  "kernelspec": {
   "display_name": "Python 3.10.6 ('LQCD')",
   "language": "python",
   "name": "python3"
  },
  "language_info": {
   "codemirror_mode": {
    "name": "ipython",
    "version": 3
   },
   "file_extension": ".py",
   "mimetype": "text/x-python",
   "name": "python",
   "nbconvert_exporter": "python",
   "pygments_lexer": "ipython3",
   "version": "3.10.6"
  },
  "orig_nbformat": 4,
  "vscode": {
   "interpreter": {
    "hash": "c8d68fb5c21a4214dd5a6a13117f82199c640d7d02a884ddca486aa724deaf3c"
   }
  }
 },
 "nbformat": 4,
 "nbformat_minor": 2
}
