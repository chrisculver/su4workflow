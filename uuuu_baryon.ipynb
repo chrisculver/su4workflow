{
 "cells": [
  {
   "cell_type": "code",
   "execution_count": 1,
   "metadata": {},
   "outputs": [],
   "source": [
    "%load_ext autoreload\n",
    "%autoreload 2"
   ]
  },
  {
   "cell_type": "code",
   "execution_count": 2,
   "metadata": {},
   "outputs": [],
   "source": [
    "from WickContractions.wick.contract import *\n",
    "from WickContractions.laph.diagram import *\n",
    "\n",
    "from utilities import *\n",
    "from print_utilities import *\n",
    "\n",
    "from IPython.display import display, Math\n",
    "\n",
    "pprint = lambda o : display(Math(str(o)))\n",
    "\n",
    "import os"
   ]
  },
  {
   "cell_type": "markdown",
   "metadata": {},
   "source": [
    "## Operators\n",
    "\n",
    "At the moment we are hardcoding in the operators.  We will want to read in a dictionary of spin matrices, as well as isospin flavor combinations."
   ]
  },
  {
   "cell_type": "code",
   "execution_count": 3,
   "metadata": {},
   "outputs": [],
   "source": [
    "# TODO get input from operator code for Isospin/momentum combinations."
   ]
  },
  {
   "cell_type": "code",
   "execution_count": 4,
   "metadata": {},
   "outputs": [
    {
     "name": "stdout",
     "output_type": "stream",
     "text": [
      "[['A1g', '0'], ['Eg0', '0'], ['Eg1', '0']]\n"
     ]
    }
   ],
   "source": [
    "# load definition of the building blocks of the operators.\n",
    "from udud_elementals import *\n",
    "import numpy as np\n",
    "\n",
    "#gammas = [('buchoff',0)]\n",
    "gammas=[]\n",
    "gammas += np.array([[('A1g',i) for i in range(1)] for row in range(1)]).reshape(1,2).tolist()\n",
    "gammas += np.array([[('Eg{}'.format(row),i) for i in range(1)] for row in range(2)]).reshape(2,2).tolist()\n",
    "\n",
    "print(gammas)\n",
    "\n",
    "gammaName = lambda irrep,i : \"\\\\Gamma^{{ ({},{}) }}\".format(irrep, i)\n",
    "\n",
    "aOps=[]\n",
    "cOps=[]\n",
    "for g in gammas:\n",
    "    aOps.append(Operator([baryonSink(1,['u','u','u','u'],'x_0',gammaName(g[0],g[1]))]))\n",
    "    cOps.append(Operator([baryonSource(1,['u','u','u','u'], 'x_1',gammaName(g[0],g[1]))]))"
   ]
  },
  {
   "cell_type": "markdown",
   "metadata": {},
   "source": [
    "## Wick Contractions\n",
    "\n",
    "Now we run the wick contractions giving us essentially a list of tensor contractions to be performed."
   ]
  },
  {
   "cell_type": "code",
   "execution_count": 5,
   "metadata": {},
   "outputs": [
    {
     "name": "stdout",
     "output_type": "stream",
     "text": [
      "Need 216 diagrams\n"
     ]
    }
   ],
   "source": [
    "diagrams=[]\n",
    "for aOp in aOps:\n",
    "    for cOp in cOps:\n",
    "        for d in contract(aOp, cOp).diagrams:\n",
    "            diagrams.append(d)\n",
    "print(\"Need {} diagrams\".format(len(diagrams)))"
   ]
  },
  {
   "cell_type": "code",
   "execution_count": 6,
   "metadata": {},
   "outputs": [],
   "source": [
    "laphDiagrams = [LDiagram(d) for d in diagrams]\n",
    "simplify_laphDiagrams(laphDiagrams)\n",
    "#for d in laphDiagrams:\n",
    "#    pprint(d)"
   ]
  },
  {
   "cell_type": "code",
   "execution_count": null,
   "metadata": {},
   "outputs": [],
   "source": []
  },
  {
   "cell_type": "code",
   "execution_count": 7,
   "metadata": {},
   "outputs": [],
   "source": [
    "#allBaryonTensors = find_all_baryon_tensors(laphDiagrams)\n",
    "# temporary TODO make smarter version of the rest of this notebook\n",
    "allBaryonTensors={}\n",
    "idx=0\n",
    "for g in gammas:\n",
    "    allBaryonTensors['B(x_1,t_i,\\\\Gamma^{{ ({},{}) }})'.format(g[0],g[1])]=idx\n",
    "    allBaryonTensors['B^*(x_0,t_i,t_f,\\\\Gamma^{{ ({},{}) }})'.format(g[0],g[1])]=idx+1\n",
    "    idx+=2\n",
    "\n",
    "allBaryonTensorsBack={v: k for k,v in allBaryonTensors.items()}"
   ]
  },
  {
   "cell_type": "code",
   "execution_count": 8,
   "metadata": {},
   "outputs": [
    {
     "data": {
      "text/plain": [
       "{'B(x_1,t_i,\\\\Gamma^{ (A1g,0) })': 0,\n",
       " 'B^*(x_0,t_i,t_f,\\\\Gamma^{ (A1g,0) })': 1,\n",
       " 'B(x_1,t_i,\\\\Gamma^{ (Eg0,0) })': 2,\n",
       " 'B^*(x_0,t_i,t_f,\\\\Gamma^{ (Eg0,0) })': 3,\n",
       " 'B(x_1,t_i,\\\\Gamma^{ (Eg1,0) })': 4,\n",
       " 'B^*(x_0,t_i,t_f,\\\\Gamma^{ (Eg1,0) })': 5}"
      ]
     },
     "execution_count": 8,
     "metadata": {},
     "output_type": "execute_result"
    }
   ],
   "source": [
    "allBaryonTensors"
   ]
  },
  {
   "cell_type": "code",
   "execution_count": 9,
   "metadata": {},
   "outputs": [],
   "source": [
    "allBaryonProps = {}\n",
    "allBaryonSinks = {}\n",
    "pIdx=0\n",
    "sIdx=0\n",
    "for k,v in allBaryonTensors.items():\n",
    "    if k[0:3]==\"B^*\":\n",
    "        allBaryonProps[k]=pIdx\n",
    "        pIdx+=1\n",
    "    else:\n",
    "        allBaryonSinks[k]=sIdx\n",
    "        sIdx+=1"
   ]
  },
  {
   "cell_type": "code",
   "execution_count": 10,
   "metadata": {},
   "outputs": [
    {
     "data": {
      "text/plain": [
       "{'B(x_1,t_i,\\\\Gamma^{ (A1g,0) })': 0,\n",
       " 'B(x_1,t_i,\\\\Gamma^{ (Eg0,0) })': 1,\n",
       " 'B(x_1,t_i,\\\\Gamma^{ (Eg1,0) })': 2}"
      ]
     },
     "execution_count": 10,
     "metadata": {},
     "output_type": "execute_result"
    }
   ],
   "source": [
    "allBaryonSinks"
   ]
  },
  {
   "cell_type": "code",
   "execution_count": 11,
   "metadata": {},
   "outputs": [
    {
     "data": {
      "text/plain": [
       "{'B^*(x_0,t_i,t_f,\\\\Gamma^{ (A1g,0) })': 0,\n",
       " 'B^*(x_0,t_i,t_f,\\\\Gamma^{ (Eg0,0) })': 1,\n",
       " 'B^*(x_0,t_i,t_f,\\\\Gamma^{ (Eg1,0) })': 2}"
      ]
     },
     "execution_count": 11,
     "metadata": {},
     "output_type": "execute_result"
    }
   ],
   "source": [
    "allBaryonProps"
   ]
  },
  {
   "cell_type": "code",
   "execution_count": 12,
   "metadata": {},
   "outputs": [],
   "source": [
    "create_diagram_gpu_file(laphDiagrams, allBaryonTensors, allBaryonTensorsBack, allBaryonSinks, allBaryonProps)    \n",
    "create_input_file()"
   ]
  },
  {
   "cell_type": "code",
   "execution_count": 13,
   "metadata": {},
   "outputs": [
    {
     "data": {
      "text/latex": [
       "$\\displaystyle 1.0 B(x_1,t_i,\\Gamma^{ (A1g,0) })_{{4} {5} {6} {7}}B^*(x_0,t_i,t_f,\\Gamma^{ (A1g,0) })_{{4} {5} {6} {7}}$"
      ],
      "text/plain": [
       "<IPython.core.display.Math object>"
      ]
     },
     "metadata": {},
     "output_type": "display_data"
    },
    {
     "data": {
      "text/latex": [
       "$\\displaystyle -1.0 B(x_1,t_i,\\Gamma^{ (A1g,0) })_{{4} {5} {6} {7}}B^*(x_0,t_i,t_f,\\Gamma^{ (A1g,0) })_{{5} {4} {6} {7}}$"
      ],
      "text/plain": [
       "<IPython.core.display.Math object>"
      ]
     },
     "metadata": {},
     "output_type": "display_data"
    },
    {
     "data": {
      "text/latex": [
       "$\\displaystyle 1.0 B(x_1,t_i,\\Gamma^{ (A1g,0) })_{{4} {5} {6} {7}}B^*(x_0,t_i,t_f,\\Gamma^{ (A1g,0) })_{{5} {6} {4} {7}}$"
      ],
      "text/plain": [
       "<IPython.core.display.Math object>"
      ]
     },
     "metadata": {},
     "output_type": "display_data"
    },
    {
     "data": {
      "text/latex": [
       "$\\displaystyle -1.0 B(x_1,t_i,\\Gamma^{ (A1g,0) })_{{4} {5} {6} {7}}B^*(x_0,t_i,t_f,\\Gamma^{ (A1g,0) })_{{4} {6} {5} {7}}$"
      ],
      "text/plain": [
       "<IPython.core.display.Math object>"
      ]
     },
     "metadata": {},
     "output_type": "display_data"
    }
   ],
   "source": [
    "for d in laphDiagrams[0:4]:\n",
    "    pprint(d)"
   ]
  },
  {
   "cell_type": "code",
   "execution_count": null,
   "metadata": {},
   "outputs": [],
   "source": []
  },
  {
   "cell_type": "code",
   "execution_count": null,
   "metadata": {},
   "outputs": [],
   "source": []
  },
  {
   "cell_type": "markdown",
   "metadata": {},
   "source": [
    "### Python code to combine diagrams"
   ]
  },
  {
   "cell_type": "code",
   "execution_count": 5,
   "metadata": {},
   "outputs": [],
   "source": [
    "diagrams=contract(aOps[0], cOps[0]).diagrams"
   ]
  },
  {
   "cell_type": "code",
   "execution_count": 6,
   "metadata": {},
   "outputs": [],
   "source": [
    "laphDiagrams = [LDiagram(d) for d in diagrams]\n",
    "simplify_laphDiagrams(laphDiagrams)"
   ]
  },
  {
   "cell_type": "code",
   "execution_count": 13,
   "metadata": {},
   "outputs": [
    {
     "name": "stdout",
     "output_type": "stream",
     "text": [
      "+1.0*allDiags[i+0,t]+-1.0*allDiags[i+1,t]+1.0*allDiags[i+2,t]+-1.0*allDiags[i+3,t]+1.0*allDiags[i+4,t]+-1.0*allDiags[i+5,t]+1.0*allDiags[i+6,t]+-1.0*allDiags[i+7,t]+1.0*allDiags[i+8,t]+-1.0*allDiags[i+9,t]+1.0*allDiags[i+10,t]+-1.0*allDiags[i+11,t]+1.0*allDiags[i+12,t]+-1.0*allDiags[i+13,t]+1.0*allDiags[i+14,t]+-1.0*allDiags[i+15,t]+1.0*allDiags[i+16,t]+-1.0*allDiags[i+17,t]+1.0*allDiags[i+18,t]+-1.0*allDiags[i+19,t]+1.0*allDiags[i+20,t]+-1.0*allDiags[i+21,t]+1.0*allDiags[i+22,t]+-1.0*allDiags[i+23,t]\n"
     ]
    }
   ],
   "source": [
    "s=\"\"\n",
    "for i,d in enumerate(laphDiagrams):\n",
    "    s+=\"+{}*allDiags[i+{},t]\".format(d.coef,i)\n",
    "print(s)"
   ]
  },
  {
   "cell_type": "code",
   "execution_count": null,
   "metadata": {},
   "outputs": [],
   "source": []
  }
 ],
 "metadata": {
  "kernelspec": {
   "display_name": "Python 3.9.7 ('LQCD')",
   "language": "python",
   "name": "python3"
  },
  "language_info": {
   "codemirror_mode": {
    "name": "ipython",
    "version": 3
   },
   "file_extension": ".py",
   "mimetype": "text/x-python",
   "name": "python",
   "nbconvert_exporter": "python",
   "pygments_lexer": "ipython3",
   "version": "3.9.12"
  },
  "orig_nbformat": 4,
  "vscode": {
   "interpreter": {
    "hash": "bc10d092fd53d999667fa6c0a0e497da5d6cd5236cea8e58c3ad41d37fd15ec4"
   }
  }
 },
 "nbformat": 4,
 "nbformat_minor": 2
}
