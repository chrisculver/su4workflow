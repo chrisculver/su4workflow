{
 "cells": [
  {
   "cell_type": "code",
   "execution_count": 1,
   "metadata": {},
   "outputs": [],
   "source": [
    "# Avoids reloading kernel while developing\n",
    "%load_ext autoreload\n",
    "%autoreload 2"
   ]
  },
  {
   "cell_type": "code",
   "execution_count": 2,
   "metadata": {},
   "outputs": [],
   "source": [
    "from PyCorrelationMatrixManager.correlation_matrix import *\n",
    "\n",
    "import os\n",
    "\n",
    "from src.utilities import *\n",
    "from src.print_utilities import *\n",
    "\n",
    "#pretty latex printing\n",
    "from IPython.display import display, Math \n",
    "pprint = lambda o : display(Math(str(o)))\n",
    "\n"
   ]
  },
  {
   "attachments": {},
   "cell_type": "markdown",
   "metadata": {},
   "source": [
    "## Operators\n",
    "\n",
    "Operators for SU(4) baryons are constructed in full at [su4ops](github.com/chrisculver/su4ops) or a repository of Kimmy Cushman.  Here they are translated into the correct objects for the WickContraction library.  Specifically at the moment the below code sets up a list of \"Elemental Operators\" in different irreps, with a gamma matrix name and spatial coordinate.  "
   ]
  },
  {
   "cell_type": "code",
   "execution_count": 3,
   "metadata": {},
   "outputs": [
    {
     "name": "stdout",
     "output_type": "stream",
     "text": [
      "[['A1g', '0'], ['T1g0', '0'], ['Eg0', '0'], ['Eg0', '1'], ['Eg1', '0'], ['Eg1', '1']]\n"
     ]
    }
   ],
   "source": [
    "# load definition of the building blocks of the operators.\n",
    "from src.udud_elementals import *\n",
    "import numpy as np\n",
    "\n",
    "from WickContractions.laph.diagram import *\n",
    "\n",
    "#gammas = [('buchoff',0)]\n",
    "gammas=[]\n",
    "gammas += np.array([[('A1g',i) for i in range(1)] for row in range(1)]).reshape(1,2).tolist()\n",
    "gammas += np.array([[('T1g{}'.format(row),i) for i in range(1)] for row in range(1)]).reshape(1,2).tolist()\n",
    "gammas += np.array([[('Eg{}'.format(row),i) for i in range(2)] for row in range(2)]).reshape(4,2).tolist()\n",
    "\n",
    "print(gammas)\n",
    "\n",
    "gammaName = lambda irrep,i : \"\\\\Gamma^{{ ({},{}) }}\".format(irrep, i)\n",
    "\n",
    "aOps=[] # annihilation operators\n",
    "cOps=[] # creation operators\n",
    "for g in gammas:\n",
    "    aOps.append(Operator([baryonSink(1,['u','u','u','u'],'p_0',gammaName(g[0],g[1]))]))\n",
    "    cOps.append(Operator([baryonSource(1,['u','u','u','u'], 'p_1',gammaName(g[0],g[1]))]))\n",
    "    \n",
    "    #aOps.append(Operator([baryonSink([1,-1,+1,0.5],[['d','u','u','u'],['u','d','u','u'],...],'x_0',gammaName(g[0],g[1]))]))"
   ]
  },
  {
   "cell_type": "code",
   "execution_count": 4,
   "metadata": {},
   "outputs": [
    {
     "data": {
      "text/latex": [
       "$\\displaystyle 1\\epsilon_{c_{0} c_{1} c_{2} c_{3}}\\Gamma^{ (A1g,0) }_{s_{0} s_{1} s_{2} s_{3}}u_{s_{0} c_{0}}(p_0, t_f)u_{s_{1} c_{1}}(p_0, t_f)u_{s_{2} c_{2}}(p_0, t_f)u_{s_{3} c_{3}}(p_0, t_f)$"
      ],
      "text/plain": [
       "<IPython.core.display.Math object>"
      ]
     },
     "metadata": {},
     "output_type": "display_data"
    }
   ],
   "source": [
    "pprint(aOps[0])"
   ]
  },
  {
   "cell_type": "code",
   "execution_count": 5,
   "metadata": {},
   "outputs": [
    {
     "data": {
      "text/latex": [
       "$\\displaystyle 1\\epsilon_{c_{4} c_{5} c_{6} c_{7}}\\Gamma^{ (A1g,0) }_{s_{4} s_{5} s_{6} s_{7}}\\bar{u}_{s_{4} c_{4}}(p_1, t_i)\\bar{u}_{s_{5} c_{5}}(p_1, t_i)\\bar{u}_{s_{6} c_{6}}(p_1, t_i)\\bar{u}_{s_{7} c_{7}}(p_1, t_i)$"
      ],
      "text/plain": [
       "<IPython.core.display.Math object>"
      ]
     },
     "metadata": {},
     "output_type": "display_data"
    }
   ],
   "source": [
    "pprint(cOps[0])"
   ]
  },
  {
   "attachments": {},
   "cell_type": "markdown",
   "metadata": {},
   "source": [
    "## Wick Contractions\n",
    "\n",
    "Now for each combination of annihilation and creation operator we compute the wick contractions, and store every diagram in a list.  The example diagram printed out is the full expression with all indices and dependencies for non-momentum projected baryons."
   ]
  },
  {
   "cell_type": "code",
   "execution_count": 6,
   "metadata": {},
   "outputs": [],
   "source": [
    "corrMatrix = CorrelationMatrix(cOps, aOps)\n",
    "corrMatrix.contract()\n",
    "corrMatrix.laphify()"
   ]
  },
  {
   "attachments": {},
   "cell_type": "markdown",
   "metadata": {},
   "source": [
    "Now we convert the above diagram into a LapH version, in terms of a baryon source function and baryon propagator.  These are defined in the \"SU4_Correlators\" tex file in the LSD overleaf."
   ]
  },
  {
   "cell_type": "code",
   "execution_count": 21,
   "metadata": {},
   "outputs": [],
   "source": [
    "allBaryonTensors, allBaryonSinks, allBaryonProps = corrMatrix.get_baryon_tensor_dictionaries()"
   ]
  },
  {
   "cell_type": "code",
   "execution_count": 22,
   "metadata": {},
   "outputs": [
    {
     "data": {
      "text/plain": [
       "{'B(p_1,t_i,\\\\Gamma^{ (A1g,0) })': 0,\n",
       " 'B^*(p_0,t_i,t_f,\\\\Gamma^{ (A1g,0) })': 1,\n",
       " 'B^*(p_0,t_i,t_f,\\\\Gamma^{ (T1g0,0) })': 2,\n",
       " 'B^*(p_0,t_i,t_f,\\\\Gamma^{ (Eg0,0) })': 3,\n",
       " 'B^*(p_0,t_i,t_f,\\\\Gamma^{ (Eg0,1) })': 4,\n",
       " 'B^*(p_0,t_i,t_f,\\\\Gamma^{ (Eg1,0) })': 5,\n",
       " 'B^*(p_0,t_i,t_f,\\\\Gamma^{ (Eg1,1) })': 6,\n",
       " 'B(p_1,t_i,\\\\Gamma^{ (T1g0,0) })': 7,\n",
       " 'B(p_1,t_i,\\\\Gamma^{ (Eg0,0) })': 8,\n",
       " 'B(p_1,t_i,\\\\Gamma^{ (Eg0,1) })': 9,\n",
       " 'B(p_1,t_i,\\\\Gamma^{ (Eg1,0) })': 10,\n",
       " 'B(p_1,t_i,\\\\Gamma^{ (Eg1,1) })': 11}"
      ]
     },
     "execution_count": 22,
     "metadata": {},
     "output_type": "execute_result"
    }
   ],
   "source": [
    "allBaryonTensors"
   ]
  },
  {
   "cell_type": "code",
   "execution_count": 23,
   "metadata": {},
   "outputs": [
    {
     "data": {
      "text/plain": [
       "{'B^*(p_0,t_i,t_f,\\\\Gamma^{ (A1g,0) })': 0,\n",
       " 'B^*(p_0,t_i,t_f,\\\\Gamma^{ (T1g0,0) })': 1,\n",
       " 'B^*(p_0,t_i,t_f,\\\\Gamma^{ (Eg0,0) })': 2,\n",
       " 'B^*(p_0,t_i,t_f,\\\\Gamma^{ (Eg0,1) })': 3,\n",
       " 'B^*(p_0,t_i,t_f,\\\\Gamma^{ (Eg1,0) })': 4,\n",
       " 'B^*(p_0,t_i,t_f,\\\\Gamma^{ (Eg1,1) })': 5}"
      ]
     },
     "execution_count": 23,
     "metadata": {},
     "output_type": "execute_result"
    }
   ],
   "source": [
    "allBaryonProps"
   ]
  },
  {
   "cell_type": "code",
   "execution_count": 24,
   "metadata": {},
   "outputs": [
    {
     "data": {
      "text/plain": [
       "{'B(p_1,t_i,\\\\Gamma^{ (A1g,0) })': 0,\n",
       " 'B(p_1,t_i,\\\\Gamma^{ (T1g0,0) })': 1,\n",
       " 'B(p_1,t_i,\\\\Gamma^{ (Eg0,0) })': 2,\n",
       " 'B(p_1,t_i,\\\\Gamma^{ (Eg0,1) })': 3,\n",
       " 'B(p_1,t_i,\\\\Gamma^{ (Eg1,0) })': 4,\n",
       " 'B(p_1,t_i,\\\\Gamma^{ (Eg1,1) })': 5}"
      ]
     },
     "execution_count": 24,
     "metadata": {},
     "output_type": "execute_result"
    }
   ],
   "source": [
    "allBaryonSinks"
   ]
  },
  {
   "attachments": {},
   "cell_type": "markdown",
   "metadata": {},
   "source": [
    "## Evaluating Diagrams\n",
    "\n",
    "Now we generate a cpp file which contracts all of the rank 4 baryon tensors into diagrams.  This is to be used with [lapH_build_and_run](https://gitlab.com/Kimmy.Cushman/laph_build_and_run) on lassen.  Specifically the \"Output/define_diagrams_gpu.cpp\" file needs to be placed in the src folder of the baryons branch of that directory along with the generated(todo) input file."
   ]
  },
  {
   "cell_type": "code",
   "execution_count": 25,
   "metadata": {},
   "outputs": [
    {
     "name": "stdout",
     "output_type": "stream",
     "text": [
      "TODO: Need to handle momenta and baryon flavor!\n"
     ]
    }
   ],
   "source": [
    "create_diagram_gpu_file(corrMatrix.get_all_diagrams(), allBaryonTensors, allBaryonSinks, allBaryonProps)    \n",
    "create_input_file(str(len(corrMatrix.get_all_diagrams())),gammas)\n",
    "create_diagram_names_file(corrMatrix.get_all_diagrams())"
   ]
  },
  {
   "cell_type": "code",
   "execution_count": null,
   "metadata": {},
   "outputs": [],
   "source": []
  },
  {
   "cell_type": "code",
   "execution_count": null,
   "metadata": {},
   "outputs": [],
   "source": []
  },
  {
   "attachments": {},
   "cell_type": "markdown",
   "metadata": {},
   "source": [
    "### Python code to combine diagrams\n",
    "\n",
    "This is just a quick hack for a python script in the lapH_build_and_run directory to get correlators out of the output files."
   ]
  },
  {
   "cell_type": "code",
   "execution_count": 15,
   "metadata": {},
   "outputs": [],
   "source": [
    "diagrams=contract(aOps[0], cOps[0]).diagrams"
   ]
  },
  {
   "cell_type": "code",
   "execution_count": 16,
   "metadata": {},
   "outputs": [],
   "source": [
    "laphDiagrams = [LDiagram(d) for d in diagrams]\n",
    "simplify_laphDiagrams(laphDiagrams)"
   ]
  },
  {
   "cell_type": "code",
   "execution_count": 17,
   "metadata": {},
   "outputs": [
    {
     "name": "stdout",
     "output_type": "stream",
     "text": [
      "+1.0*allDiags[i+0,dt,t]+-1.0*allDiags[i+1,dt,t]+1.0*allDiags[i+2,dt,t]+-1.0*allDiags[i+3,dt,t]+1.0*allDiags[i+4,dt,t]+-1.0*allDiags[i+5,dt,t]+1.0*allDiags[i+6,dt,t]+-1.0*allDiags[i+7,dt,t]+1.0*allDiags[i+8,dt,t]+-1.0*allDiags[i+9,dt,t]+1.0*allDiags[i+10,dt,t]+-1.0*allDiags[i+11,dt,t]+1.0*allDiags[i+12,dt,t]+-1.0*allDiags[i+13,dt,t]+1.0*allDiags[i+14,dt,t]+-1.0*allDiags[i+15,dt,t]+1.0*allDiags[i+16,dt,t]+-1.0*allDiags[i+17,dt,t]+1.0*allDiags[i+18,dt,t]+-1.0*allDiags[i+19,dt,t]+1.0*allDiags[i+20,dt,t]+-1.0*allDiags[i+21,dt,t]+1.0*allDiags[i+22,dt,t]+-1.0*allDiags[i+23,dt,t]\n"
     ]
    }
   ],
   "source": [
    "s=\"\"\n",
    "for i,d in enumerate(laphDiagrams):\n",
    "    s+=\"+{}*allDiags[i+{},dt,t]\".format(d.coef,i)\n",
    "print(s)"
   ]
  },
  {
   "cell_type": "code",
   "execution_count": null,
   "metadata": {},
   "outputs": [],
   "source": []
  }
 ],
 "metadata": {
  "kernelspec": {
   "display_name": "Python 3.10.6 ('LQCD')",
   "language": "python",
   "name": "python3"
  },
  "language_info": {
   "codemirror_mode": {
    "name": "ipython",
    "version": 3
   },
   "file_extension": ".py",
   "mimetype": "text/x-python",
   "name": "python",
   "nbconvert_exporter": "python",
   "pygments_lexer": "ipython3",
   "version": "3.9.7"
  },
  "orig_nbformat": 4,
  "vscode": {
   "interpreter": {
    "hash": "c8d68fb5c21a4214dd5a6a13117f82199c640d7d02a884ddca486aa724deaf3c"
   }
  }
 },
 "nbformat": 4,
 "nbformat_minor": 2
}
