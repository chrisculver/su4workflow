{
 "cells": [
  {
   "cell_type": "code",
   "execution_count": 1,
   "metadata": {},
   "outputs": [],
   "source": [
    "# Avoids reloading kernel while developing\n",
    "%load_ext autoreload\n",
    "%autoreload 2"
   ]
  },
  {
   "cell_type": "code",
   "execution_count": 2,
   "metadata": {},
   "outputs": [],
   "source": [
    "from PyCorrelationMatrixManager.correlation_matrix import *\n",
    "\n",
    "import os\n",
    "\n",
    "from src.utilities import *\n",
    "from src.print_utilities import *\n",
    "\n",
    "#pretty latex printing\n",
    "from IPython.display import display, Math \n",
    "pprint = lambda o : display(Math(str(o)))\n",
    "\n"
   ]
  },
  {
   "attachments": {},
   "cell_type": "markdown",
   "metadata": {},
   "source": [
    "## Operators\n",
    "\n",
    "Operators for SU(4) baryons are constructed in full at [su4ops](github.com/chrisculver/su4ops) or a repository of Kimmy Cushman.  Here they are translated into the correct objects for the WickContraction library.  Specifically at the moment the below code sets up a list of \"Elemental Operators\" in different irreps, with a gamma matrix name and spatial coordinate.  "
   ]
  },
  {
   "cell_type": "code",
   "execution_count": 3,
   "metadata": {},
   "outputs": [
    {
     "name": "stdout",
     "output_type": "stream",
     "text": [
      "[['A1g', '0'], ['T1g0', '0'], ['Eg0', '0'], ['Eg0', '1'], ['Eg1', '0'], ['Eg1', '1']]\n"
     ]
    }
   ],
   "source": [
    "# load definition of the building blocks of the operators.\n",
    "from src.udud_elementals import *\n",
    "import numpy as np\n",
    "\n",
    "#gammas = [('buchoff',0)]\n",
    "gammas=[]\n",
    "gammas += np.array([[('A1g',i) for i in range(1)] for row in range(1)]).reshape(1,2).tolist()\n",
    "gammas += np.array([[('T1g{}'.format(row),i) for i in range(1)] for row in range(1)]).reshape(1,2).tolist()\n",
    "gammas += np.array([[('Eg{}'.format(row),i) for i in range(2)] for row in range(2)]).reshape(4,2).tolist()\n",
    "\n",
    "print(gammas)\n",
    "\n",
    "gammaName = lambda irrep,i : \"\\\\Gamma^{{ ({},{}) }}\".format(irrep, i)\n",
    "\n",
    "aOps=[] # annihilation operators\n",
    "cOps=[] # creation operators\n",
    "for g in gammas:\n",
    "    aOps.append(Operator([baryonSink(1,['u','u','u','u'],'[000]',gammaName(g[0],g[1]))]))\n",
    "    cOps.append(Operator([baryonSource(1,['u','u','u','u'], '[000]',gammaName(g[0],g[1]))]))\n",
    "    \n",
    "    #aOps.append(Operator([baryonSink([1,-1,+1,0.5],[['d','u','u','u'],['u','d','u','u'],...],'x_0',gammaName(g[0],g[1]))]))"
   ]
  },
  {
   "cell_type": "code",
   "execution_count": 4,
   "metadata": {},
   "outputs": [
    {
     "data": {
      "text/latex": [
       "$\\displaystyle 1\\epsilon_{c_{0} c_{1} c_{2} c_{3}}\\Gamma^{ (A1g,0) }_{s_{0} s_{1} s_{2} s_{3}}u_{s_{0} c_{0}}([000], t_f)u_{s_{1} c_{1}}([000], t_f)u_{s_{2} c_{2}}([000], t_f)u_{s_{3} c_{3}}([000], t_f)$"
      ],
      "text/plain": [
       "<IPython.core.display.Math object>"
      ]
     },
     "metadata": {},
     "output_type": "display_data"
    }
   ],
   "source": [
    "pprint(aOps[0])"
   ]
  },
  {
   "cell_type": "code",
   "execution_count": 5,
   "metadata": {},
   "outputs": [
    {
     "data": {
      "text/latex": [
       "$\\displaystyle 1\\epsilon_{c_{4} c_{5} c_{6} c_{7}}\\Gamma^{ (A1g,0) }_{s_{4} s_{5} s_{6} s_{7}}\\bar{u}_{s_{4} c_{4}}([000], t_i)\\bar{u}_{s_{5} c_{5}}([000], t_i)\\bar{u}_{s_{6} c_{6}}([000], t_i)\\bar{u}_{s_{7} c_{7}}([000], t_i)$"
      ],
      "text/plain": [
       "<IPython.core.display.Math object>"
      ]
     },
     "metadata": {},
     "output_type": "display_data"
    }
   ],
   "source": [
    "pprint(cOps[0])"
   ]
  },
  {
   "attachments": {},
   "cell_type": "markdown",
   "metadata": {},
   "source": [
    "## Wick Contractions\n",
    "\n",
    "Now for each combination of annihilation and creation operator we compute the wick contractions, and store every diagram in a list.  The example diagram printed out is the full expression with all indices and dependencies for non-momentum projected baryons."
   ]
  },
  {
   "cell_type": "code",
   "execution_count": 25,
   "metadata": {},
   "outputs": [],
   "source": [
    "corrMatrix = CorrelationMatrix(cOps[0:2], aOps[0:2], [t for t in range(32)], [t for t in range(32)])\n",
    "corrMatrix.contract()\n",
    "corrMatrix.laphify()"
   ]
  },
  {
   "attachments": {},
   "cell_type": "markdown",
   "metadata": {},
   "source": [
    "Now we convert the above diagram into a LapH version, in terms of a baryon source function and baryon propagator.  These are defined in the \"SU4_Correlators\" tex file in the LSD overleaf."
   ]
  },
  {
   "cell_type": "code",
   "execution_count": 26,
   "metadata": {},
   "outputs": [],
   "source": [
    "allBaryonTensors, allBaryonSinks, allBaryonProps = corrMatrix.get_baryon_tensor_dictionaries()"
   ]
  },
  {
   "cell_type": "code",
   "execution_count": 27,
   "metadata": {},
   "outputs": [
    {
     "data": {
      "text/plain": [
       "{'B([000],t_i,\\\\Gamma^{ (A1g,0) })': 0,\n",
       " 'B^*([000],t_i,t_f,\\\\Gamma^{ (A1g,0) })': 1,\n",
       " 'B^*([000],t_i,t_f,\\\\Gamma^{ (T1g0,0) })': 2,\n",
       " 'B([000],t_i,\\\\Gamma^{ (T1g0,0) })': 3}"
      ]
     },
     "execution_count": 27,
     "metadata": {},
     "output_type": "execute_result"
    }
   ],
   "source": [
    "allBaryonTensors"
   ]
  },
  {
   "cell_type": "code",
   "execution_count": 28,
   "metadata": {},
   "outputs": [
    {
     "data": {
      "text/plain": [
       "{'B^*([000],t_i,t_f,\\\\Gamma^{ (A1g,0) })': 0,\n",
       " 'B^*([000],t_i,t_f,\\\\Gamma^{ (T1g0,0) })': 1}"
      ]
     },
     "execution_count": 28,
     "metadata": {},
     "output_type": "execute_result"
    }
   ],
   "source": [
    "allBaryonProps"
   ]
  },
  {
   "cell_type": "code",
   "execution_count": 29,
   "metadata": {},
   "outputs": [
    {
     "data": {
      "text/plain": [
       "{'B([000],t_i,\\\\Gamma^{ (A1g,0) })': 0, 'B([000],t_i,\\\\Gamma^{ (T1g0,0) })': 1}"
      ]
     },
     "execution_count": 29,
     "metadata": {},
     "output_type": "execute_result"
    }
   ],
   "source": [
    "allBaryonSinks"
   ]
  },
  {
   "attachments": {},
   "cell_type": "markdown",
   "metadata": {},
   "source": [
    "## Evaluating Diagrams\n",
    "\n",
    "Now we generate a cpp file which contracts all of the rank 4 baryon tensors into diagrams.  This is to be used with [lapH_build_and_run](https://gitlab.com/Kimmy.Cushman/laph_build_and_run) on lassen.  Specifically the \"Output/define_diagrams_gpu.cpp\" file needs to be placed in the src folder of the baryons branch of that directory along with the generated(todo) input file."
   ]
  },
  {
   "cell_type": "code",
   "execution_count": 30,
   "metadata": {},
   "outputs": [
    {
     "name": "stdout",
     "output_type": "stream",
     "text": [
      "TODO: Need to handle momenta and baryon flavor!\n"
     ]
    }
   ],
   "source": [
    "create_diagram_gpu_file(corrMatrix.get_all_diagrams(), allBaryonTensors, allBaryonSinks, allBaryonProps)    \n",
    "create_input_file(str(len(corrMatrix.get_all_diagrams())),gammas)\n",
    "create_diagram_names_file(corrMatrix.get_all_diagrams())"
   ]
  },
  {
   "cell_type": "code",
   "execution_count": null,
   "metadata": {},
   "outputs": [],
   "source": []
  },
  {
   "cell_type": "code",
   "execution_count": null,
   "metadata": {},
   "outputs": [],
   "source": []
  },
  {
   "attachments": {},
   "cell_type": "markdown",
   "metadata": {},
   "source": [
    "### Testing Loading Diagrams"
   ]
  },
  {
   "cell_type": "code",
   "execution_count": 31,
   "metadata": {},
   "outputs": [],
   "source": [
    "from PyCorrelationMatrixManager.diagram_data import *\n",
    "\n",
    "diagramFile=os.path.join(os.path.expanduser(\"~\"),\"Code\",\"LQCD\",\"su4workflow\",\"Input\",\"diagrams_335.txt\")"
   ]
  },
  {
   "cell_type": "code",
   "execution_count": 32,
   "metadata": {},
   "outputs": [],
   "source": [
    "data=DiagramData([diagramFile]).diagram_data\n",
    "\n",
    "key0 = list(data.keys())[0]"
   ]
  },
  {
   "cell_type": "code",
   "execution_count": 33,
   "metadata": {},
   "outputs": [],
   "source": [
    "expected=corrMatrix.correlators[0].diagrams[0].name()"
   ]
  },
  {
   "cell_type": "code",
   "execution_count": 34,
   "metadata": {},
   "outputs": [],
   "source": [
    "corrMatrix.load_diagram_values(data)\n",
    "corrMatrix.compute_correlators()"
   ]
  },
  {
   "cell_type": "code",
   "execution_count": 35,
   "metadata": {},
   "outputs": [
    {
     "data": {
      "text/plain": [
       "[(6.024566958887353e-06-6.0681452749007265e-24j),\n",
       " (5.5457695993136156e-08+6.684718338203588e-09j),\n",
       " (1.0395860637503887e-08+4.146050006426813e-10j),\n",
       " (2.6185749329019765e-09+5.31814254864981e-10j),\n",
       " (6.69524196276682e-10+5.470491786925824e-11j),\n",
       " (1.510570735107534e-10-5.367703018880032e-12j),\n",
       " (6.014791592712196e-11-5.144392110681352e-12j),\n",
       " (1.052868305516865e-11-2.393500170874694e-12j),\n",
       " (8.177949198681038e-12+1.9944440133928716e-12j),\n",
       " (1.4171509601188657e-12+1.0968465738122704e-12j),\n",
       " (8.089287195876108e-13+5.67904563955958e-13j),\n",
       " (9.234499629516255e-14-7.912014151784156e-14j),\n",
       " (-3.4389200344606633e-14-2.5672228498255995e-14j),\n",
       " (-3.3253286981280317e-14-8.245172302726601e-15j),\n",
       " (-8.551636680188339e-14+2.51991244840276e-14j),\n",
       " (-8.215791627260032e-14-1.0449080524700173e-14j),\n",
       " (-8.588292063123236e-14+1.8242408433235898e-29j),\n",
       " (-8.215791627259694e-14+1.0449080524703379e-14j),\n",
       " (-8.55163668018807e-14-2.5199124483992576e-14j),\n",
       " (-3.3253286981282765e-14+8.245172302682948e-15j),\n",
       " (-3.438920034463786e-14+2.56722284982532e-14j),\n",
       " (9.234499629512864e-14+7.912014151787213e-14j),\n",
       " (8.08928719587677e-13-5.679045639559274e-13j),\n",
       " (1.417150960118585e-12-1.096846573812552e-12j),\n",
       " (8.17794919868134e-12-1.9944440133928736e-12j),\n",
       " (1.0528683055168648e-11+2.3935001708746822e-12j),\n",
       " (6.014791592712193e-11+5.1443921106813235e-12j),\n",
       " (1.510570735107534e-10+5.367703018883486e-12j),\n",
       " (6.695241962766828e-10-5.4704917869257646e-11j),\n",
       " (2.6185749329019777e-09-5.318142548649503e-10j),\n",
       " (1.039586063750388e-08-4.1460500064268427e-10j),\n",
       " (5.545769599313612e-08-6.684718338203586e-09j)]"
      ]
     },
     "execution_count": 35,
     "metadata": {},
     "output_type": "execute_result"
    }
   ],
   "source": [
    "corrMatrix.correlators[0].values"
   ]
  },
  {
   "cell_type": "code",
   "execution_count": null,
   "metadata": {},
   "outputs": [],
   "source": []
  }
 ],
 "metadata": {
  "kernelspec": {
   "display_name": "Python 3.10.6 ('LQCD')",
   "language": "python",
   "name": "python3"
  },
  "language_info": {
   "codemirror_mode": {
    "name": "ipython",
    "version": 3
   },
   "file_extension": ".py",
   "mimetype": "text/x-python",
   "name": "python",
   "nbconvert_exporter": "python",
   "pygments_lexer": "ipython3",
   "version": "3.9.12"
  },
  "orig_nbformat": 4,
  "vscode": {
   "interpreter": {
    "hash": "c8d68fb5c21a4214dd5a6a13117f82199c640d7d02a884ddca486aa724deaf3c"
   }
  }
 },
 "nbformat": 4,
 "nbformat_minor": 2
}
